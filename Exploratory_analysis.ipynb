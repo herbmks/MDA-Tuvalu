{
 "cells": [
  {
   "cell_type": "markdown",
   "metadata": {},
   "source": [
    "# Exploratory data analysis \n",
    "\n"
   ]
  },
  {
   "cell_type": "markdown",
   "metadata": {},
   "source": [
    "## 1. Importing modules"
   ]
  },
  {
   "cell_type": "code",
   "execution_count": 1,
   "metadata": {},
   "outputs": [],
   "source": [
    "import pandas as pd\n",
    "import numpy as np\n",
    "import seaborn as sns\n",
    "import matplotlib.pyplot as plt\n",
    "from sklearn.preprocessing import StandardScaler\n",
    "\n",
    "# for modelling\n",
    "from sklearn.ensemble import RandomForestRegressor\n",
    "from sklearn.model_selection import train_test_split\n",
    "from sklearn import metrics\n",
    "from sklearn.cluster import SpectralClustering, KMeans\n",
    "from sklearn.preprocessing import StandardScaler, normalize\n",
    "from sklearn.decomposition import PCA\n",
    "from sklearn.metrics import silhouette_score\n",
    "from sklearn.neighbors import kneighbors_graph\n",
    "from sklearn.metrics import pairwise_distances, davies_bouldin_score, calinski_harabasz_score\n",
    "from yellowbrick.cluster import SilhouetteVisualizer\n",
    "from yellowbrick.cluster import KElbowVisualizer\n",
    "import utils"
   ]
  },
  {
   "cell_type": "markdown",
   "metadata": {},
   "source": [
    "## 2. Loading data"
   ]
  },
  {
   "cell_type": "markdown",
   "metadata": {},
   "source": [
    "1. Socio economic: Keep the following variables:\n",
    "    * HDI\n",
    "    * life expectancy\n",
    "    * mortality rate\n",
    "    * population growth\n",
    "    * GDP per capita PPP\n",
    "    * for rural & urban we make new variables rural/urban (so the ratio of the population living in rural areas over urban areas)\n",
    "        * r_u : a variable that indicates the proportion of rural over urban population\n",
    "        * r_u_access : a variable that indicates the proportion of the rural population with access to safe drinking water    \n",
    "2. Water stress: we use the water stress (MDG) and water efficiency as separate targets and therefore drop the water stress (SDG)\n",
    "    "
   ]
  },
  {
   "cell_type": "markdown",
   "metadata": {},
   "source": [
    "#### Socio econonomic "
   ]
  },
  {
   "cell_type": "code",
   "execution_count": 2,
   "metadata": {},
   "outputs": [
    {
     "data": {
      "text/html": [
       "<div>\n",
       "<style scoped>\n",
       "    .dataframe tbody tr th:only-of-type {\n",
       "        vertical-align: middle;\n",
       "    }\n",
       "\n",
       "    .dataframe tbody tr th {\n",
       "        vertical-align: top;\n",
       "    }\n",
       "\n",
       "    .dataframe thead th {\n",
       "        text-align: right;\n",
       "    }\n",
       "</style>\n",
       "<table border=\"1\" class=\"dataframe\">\n",
       "  <thead>\n",
       "    <tr style=\"text-align: right;\">\n",
       "      <th></th>\n",
       "      <th>Country</th>\n",
       "      <th>rural_pop</th>\n",
       "      <th>urban_pop</th>\n",
       "      <th>HDI</th>\n",
       "      <th>r_u</th>\n",
       "      <th>r_u_access</th>\n",
       "      <th>pop_growth</th>\n",
       "      <th>mort_rate</th>\n",
       "      <th>GDP_pcp</th>\n",
       "      <th>life_ex</th>\n",
       "    </tr>\n",
       "  </thead>\n",
       "  <tbody>\n",
       "    <tr>\n",
       "      <th>87</th>\n",
       "      <td>MMR</td>\n",
       "      <td>37187.526</td>\n",
       "      <td>16183.083</td>\n",
       "      <td>0.577</td>\n",
       "      <td>2.297926</td>\n",
       "      <td>0.802589</td>\n",
       "      <td>0.740</td>\n",
       "      <td>40.8</td>\n",
       "      <td>4253.0</td>\n",
       "      <td>65.8</td>\n",
       "    </tr>\n",
       "    <tr>\n",
       "      <th>81</th>\n",
       "      <td>MDA</td>\n",
       "      <td>2327.145</td>\n",
       "      <td>1724.067</td>\n",
       "      <td>0.709</td>\n",
       "      <td>1.349800</td>\n",
       "      <td>0.840041</td>\n",
       "      <td>-0.925</td>\n",
       "      <td>13.4</td>\n",
       "      <td>10617.2</td>\n",
       "      <td>71.4</td>\n",
       "    </tr>\n",
       "    <tr>\n",
       "      <th>108</th>\n",
       "      <td>QAT</td>\n",
       "      <td>24.338</td>\n",
       "      <td>2614.873</td>\n",
       "      <td>0.848</td>\n",
       "      <td>0.009308</td>\n",
       "      <td>1.000000</td>\n",
       "      <td>4.300</td>\n",
       "      <td>6.6</td>\n",
       "      <td>97099.2</td>\n",
       "      <td>80.0</td>\n",
       "    </tr>\n",
       "    <tr>\n",
       "      <th>120</th>\n",
       "      <td>SYC</td>\n",
       "      <td>41.437</td>\n",
       "      <td>53.300</td>\n",
       "      <td>0.800</td>\n",
       "      <td>0.777430</td>\n",
       "      <td>1.000000</td>\n",
       "      <td>1.620</td>\n",
       "      <td>12.8</td>\n",
       "      <td>25696.4</td>\n",
       "      <td>73.6</td>\n",
       "    </tr>\n",
       "    <tr>\n",
       "      <th>43</th>\n",
       "      <td>FIN</td>\n",
       "      <td>810.547</td>\n",
       "      <td>4712.684</td>\n",
       "      <td>0.924</td>\n",
       "      <td>0.171993</td>\n",
       "      <td>1.000000</td>\n",
       "      <td>0.340</td>\n",
       "      <td>2.0</td>\n",
       "      <td>45804.4</td>\n",
       "      <td>81.2</td>\n",
       "    </tr>\n",
       "  </tbody>\n",
       "</table>\n",
       "</div>"
      ],
      "text/plain": [
       "    Country  rural_pop  urban_pop    HDI       r_u  r_u_access  pop_growth  \\\n",
       "87      MMR  37187.526  16183.083  0.577  2.297926    0.802589       0.740   \n",
       "81      MDA   2327.145   1724.067  0.709  1.349800    0.840041      -0.925   \n",
       "108     QAT     24.338   2614.873  0.848  0.009308    1.000000       4.300   \n",
       "120     SYC     41.437     53.300  0.800  0.777430    1.000000       1.620   \n",
       "43      FIN    810.547   4712.684  0.924  0.171993    1.000000       0.340   \n",
       "\n",
       "     mort_rate  GDP_pcp  life_ex  \n",
       "87        40.8   4253.0     65.8  \n",
       "81        13.4  10617.2     71.4  \n",
       "108        6.6  97099.2     80.0  \n",
       "120       12.8  25696.4     73.6  \n",
       "43         2.0  45804.4     81.2  "
      ]
     },
     "execution_count": 2,
     "metadata": {},
     "output_type": "execute_result"
    }
   ],
   "source": [
    "df = pd.read_csv('clean data/socioec_factors.csv', index_col=0)\n",
    "df.sample(5)"
   ]
  },
  {
   "cell_type": "markdown",
   "metadata": {},
   "source": [
    "#### Water stress data"
   ]
  },
  {
   "cell_type": "code",
   "execution_count": 3,
   "metadata": {},
   "outputs": [
    {
     "data": {
      "text/html": [
       "<div>\n",
       "<style scoped>\n",
       "    .dataframe tbody tr th:only-of-type {\n",
       "        vertical-align: middle;\n",
       "    }\n",
       "\n",
       "    .dataframe tbody tr th {\n",
       "        vertical-align: top;\n",
       "    }\n",
       "\n",
       "    .dataframe thead th {\n",
       "        text-align: right;\n",
       "    }\n",
       "</style>\n",
       "<table border=\"1\" class=\"dataframe\">\n",
       "  <thead>\n",
       "    <tr style=\"text-align: right;\">\n",
       "      <th></th>\n",
       "      <th>Country</th>\n",
       "      <th>WS_MDG</th>\n",
       "      <th>WUE_SDG</th>\n",
       "      <th>WS_SDG</th>\n",
       "    </tr>\n",
       "  </thead>\n",
       "  <tbody>\n",
       "    <tr>\n",
       "      <th>126</th>\n",
       "      <td>PAK</td>\n",
       "      <td>81.037277</td>\n",
       "      <td>1.435568</td>\n",
       "      <td>122.691859</td>\n",
       "    </tr>\n",
       "    <tr>\n",
       "      <th>32</th>\n",
       "      <td>CMR</td>\n",
       "      <td>0.384390</td>\n",
       "      <td>23.855364</td>\n",
       "      <td>1.560430</td>\n",
       "    </tr>\n",
       "    <tr>\n",
       "      <th>129</th>\n",
       "      <td>PHL</td>\n",
       "      <td>19.363257</td>\n",
       "      <td>3.375686</td>\n",
       "      <td>28.355243</td>\n",
       "    </tr>\n",
       "    <tr>\n",
       "      <th>115</th>\n",
       "      <td>MWI</td>\n",
       "      <td>7.851852</td>\n",
       "      <td>3.101514</td>\n",
       "      <td>17.504838</td>\n",
       "    </tr>\n",
       "    <tr>\n",
       "      <th>177</th>\n",
       "      <td>ZAF</td>\n",
       "      <td>37.740993</td>\n",
       "      <td>14.659097</td>\n",
       "      <td>62.055716</td>\n",
       "    </tr>\n",
       "  </tbody>\n",
       "</table>\n",
       "</div>"
      ],
      "text/plain": [
       "    Country     WS_MDG    WUE_SDG      WS_SDG\n",
       "126     PAK  81.037277   1.435568  122.691859\n",
       "32      CMR   0.384390  23.855364    1.560430\n",
       "129     PHL  19.363257   3.375686   28.355243\n",
       "115     MWI   7.851852   3.101514   17.504838\n",
       "177     ZAF  37.740993  14.659097   62.055716"
      ]
     },
     "execution_count": 3,
     "metadata": {},
     "output_type": "execute_result"
    }
   ],
   "source": [
    "df_ws = pd.read_csv('clean data/water_stress.csv')\n",
    "df_ws.sample(5)"
   ]
  },
  {
   "cell_type": "markdown",
   "metadata": {},
   "source": [
    "#### Climate factors"
   ]
  },
  {
   "cell_type": "code",
   "execution_count": 4,
   "metadata": {},
   "outputs": [
    {
     "data": {
      "text/html": [
       "<div>\n",
       "<style scoped>\n",
       "    .dataframe tbody tr th:only-of-type {\n",
       "        vertical-align: middle;\n",
       "    }\n",
       "\n",
       "    .dataframe tbody tr th {\n",
       "        vertical-align: top;\n",
       "    }\n",
       "\n",
       "    .dataframe thead th {\n",
       "        text-align: right;\n",
       "    }\n",
       "</style>\n",
       "<table border=\"1\" class=\"dataframe\">\n",
       "  <thead>\n",
       "    <tr style=\"text-align: right;\">\n",
       "      <th></th>\n",
       "      <th>Country</th>\n",
       "      <th>Temp</th>\n",
       "      <th>Rainfall</th>\n",
       "      <th>IRWR</th>\n",
       "      <th>ERWR</th>\n",
       "      <th>TRWR</th>\n",
       "      <th>Dep_r</th>\n",
       "    </tr>\n",
       "  </thead>\n",
       "  <tbody>\n",
       "    <tr>\n",
       "      <th>0</th>\n",
       "      <td>AFG</td>\n",
       "      <td>14.074742</td>\n",
       "      <td>349.736945</td>\n",
       "      <td>47.1500</td>\n",
       "      <td>18.18</td>\n",
       "      <td>65.3300</td>\n",
       "      <td>0.278280</td>\n",
       "    </tr>\n",
       "    <tr>\n",
       "      <th>1</th>\n",
       "      <td>AGO</td>\n",
       "      <td>22.182196</td>\n",
       "      <td>960.024065</td>\n",
       "      <td>148.0000</td>\n",
       "      <td>0.40</td>\n",
       "      <td>148.4000</td>\n",
       "      <td>0.002695</td>\n",
       "    </tr>\n",
       "    <tr>\n",
       "      <th>2</th>\n",
       "      <td>ALB</td>\n",
       "      <td>12.754647</td>\n",
       "      <td>1079.459167</td>\n",
       "      <td>26.9000</td>\n",
       "      <td>3.30</td>\n",
       "      <td>30.2000</td>\n",
       "      <td>0.109272</td>\n",
       "    </tr>\n",
       "    <tr>\n",
       "      <th>3</th>\n",
       "      <td>AND</td>\n",
       "      <td>12.402212</td>\n",
       "      <td>760.241065</td>\n",
       "      <td>0.3156</td>\n",
       "      <td>0.00</td>\n",
       "      <td>0.3156</td>\n",
       "      <td>0.000000</td>\n",
       "    </tr>\n",
       "    <tr>\n",
       "      <th>4</th>\n",
       "      <td>ARE</td>\n",
       "      <td>28.010773</td>\n",
       "      <td>64.449765</td>\n",
       "      <td>0.1500</td>\n",
       "      <td>0.00</td>\n",
       "      <td>0.1500</td>\n",
       "      <td>0.000000</td>\n",
       "    </tr>\n",
       "  </tbody>\n",
       "</table>\n",
       "</div>"
      ],
      "text/plain": [
       "  Country       Temp     Rainfall      IRWR   ERWR      TRWR     Dep_r\n",
       "0     AFG  14.074742   349.736945   47.1500  18.18   65.3300  0.278280\n",
       "1     AGO  22.182196   960.024065  148.0000   0.40  148.4000  0.002695\n",
       "2     ALB  12.754647  1079.459167   26.9000   3.30   30.2000  0.109272\n",
       "3     AND  12.402212   760.241065    0.3156   0.00    0.3156  0.000000\n",
       "4     ARE  28.010773    64.449765    0.1500   0.00    0.1500  0.000000"
      ]
     },
     "execution_count": 4,
     "metadata": {},
     "output_type": "execute_result"
    }
   ],
   "source": [
    "df_climate = pd.read_csv('clean data/climate_factors.csv', index_col=0)\n",
    "df_climate = df_climate.set_axis(\n",
    "    [\"Country\", \"Temp\", \"Rainfall\", \"IRWR\", \"ERWR\", \"TRWR\", \"Dep_r\"], axis=1)\n",
    "df_climate.head()"
   ]
  },
  {
   "cell_type": "code",
   "execution_count": 5,
   "metadata": {},
   "outputs": [
    {
     "data": {
      "text/html": [
       "<div>\n",
       "<style scoped>\n",
       "    .dataframe tbody tr th:only-of-type {\n",
       "        vertical-align: middle;\n",
       "    }\n",
       "\n",
       "    .dataframe tbody tr th {\n",
       "        vertical-align: top;\n",
       "    }\n",
       "\n",
       "    .dataframe thead th {\n",
       "        text-align: right;\n",
       "    }\n",
       "</style>\n",
       "<table border=\"1\" class=\"dataframe\">\n",
       "  <thead>\n",
       "    <tr style=\"text-align: right;\">\n",
       "      <th></th>\n",
       "      <th>Country</th>\n",
       "      <th>rural_pop</th>\n",
       "      <th>urban_pop</th>\n",
       "      <th>HDI</th>\n",
       "      <th>r_u</th>\n",
       "      <th>r_u_access</th>\n",
       "      <th>pop_growth</th>\n",
       "      <th>mort_rate</th>\n",
       "      <th>GDP_pcp</th>\n",
       "      <th>life_ex</th>\n",
       "      <th>WS_MDG</th>\n",
       "      <th>WUE_SDG</th>\n",
       "      <th>WS_SDG</th>\n",
       "    </tr>\n",
       "  </thead>\n",
       "  <tbody>\n",
       "    <tr>\n",
       "      <th>66</th>\n",
       "      <td>JAM</td>\n",
       "      <td>1289.697</td>\n",
       "      <td>1600.602</td>\n",
       "      <td>0.725</td>\n",
       "      <td>0.805757</td>\n",
       "      <td>0.916923</td>\n",
       "      <td>0.56</td>\n",
       "      <td>13.4</td>\n",
       "      <td>9496.2</td>\n",
       "      <td>74.0</td>\n",
       "      <td>12.473436</td>\n",
       "      <td>8.647571</td>\n",
       "      <td>12.473436</td>\n",
       "    </tr>\n",
       "    <tr>\n",
       "      <th>137</th>\n",
       "      <td>WSM</td>\n",
       "      <td>160.194</td>\n",
       "      <td>36.246</td>\n",
       "      <td>0.706</td>\n",
       "      <td>4.419633</td>\n",
       "      <td>1.018462</td>\n",
       "      <td>0.66</td>\n",
       "      <td>14.6</td>\n",
       "      <td>6120.0</td>\n",
       "      <td>72.8</td>\n",
       "      <td>NaN</td>\n",
       "      <td>NaN</td>\n",
       "      <td>NaN</td>\n",
       "    </tr>\n",
       "    <tr>\n",
       "      <th>130</th>\n",
       "      <td>TZA</td>\n",
       "      <td>38367.191</td>\n",
       "      <td>18942.828</td>\n",
       "      <td>0.522</td>\n",
       "      <td>2.025420</td>\n",
       "      <td>0.589378</td>\n",
       "      <td>3.00</td>\n",
       "      <td>40.8</td>\n",
       "      <td>2363.4</td>\n",
       "      <td>62.8</td>\n",
       "      <td>5.384855</td>\n",
       "      <td>6.915170</td>\n",
       "      <td>12.963241</td>\n",
       "    </tr>\n",
       "    <tr>\n",
       "      <th>57</th>\n",
       "      <td>HTI</td>\n",
       "      <td>5013.421</td>\n",
       "      <td>5967.808</td>\n",
       "      <td>0.501</td>\n",
       "      <td>0.840077</td>\n",
       "      <td>0.733436</td>\n",
       "      <td>1.38</td>\n",
       "      <td>53.2</td>\n",
       "      <td>1761.0</td>\n",
       "      <td>62.4</td>\n",
       "      <td>10.340893</td>\n",
       "      <td>4.893886</td>\n",
       "      <td>13.383792</td>\n",
       "    </tr>\n",
       "    <tr>\n",
       "      <th>108</th>\n",
       "      <td>QAT</td>\n",
       "      <td>24.338</td>\n",
       "      <td>2614.873</td>\n",
       "      <td>0.848</td>\n",
       "      <td>0.009308</td>\n",
       "      <td>1.000000</td>\n",
       "      <td>4.30</td>\n",
       "      <td>6.6</td>\n",
       "      <td>97099.2</td>\n",
       "      <td>80.0</td>\n",
       "      <td>432.413793</td>\n",
       "      <td>191.638949</td>\n",
       "      <td>432.413793</td>\n",
       "    </tr>\n",
       "  </tbody>\n",
       "</table>\n",
       "</div>"
      ],
      "text/plain": [
       "    Country  rural_pop  urban_pop    HDI       r_u  r_u_access  pop_growth  \\\n",
       "66      JAM   1289.697   1600.602  0.725  0.805757    0.916923        0.56   \n",
       "137     WSM    160.194     36.246  0.706  4.419633    1.018462        0.66   \n",
       "130     TZA  38367.191  18942.828  0.522  2.025420    0.589378        3.00   \n",
       "57      HTI   5013.421   5967.808  0.501  0.840077    0.733436        1.38   \n",
       "108     QAT     24.338   2614.873  0.848  0.009308    1.000000        4.30   \n",
       "\n",
       "     mort_rate  GDP_pcp  life_ex      WS_MDG     WUE_SDG      WS_SDG  \n",
       "66        13.4   9496.2     74.0   12.473436    8.647571   12.473436  \n",
       "137       14.6   6120.0     72.8         NaN         NaN         NaN  \n",
       "130       40.8   2363.4     62.8    5.384855    6.915170   12.963241  \n",
       "57        53.2   1761.0     62.4   10.340893    4.893886   13.383792  \n",
       "108        6.6  97099.2     80.0  432.413793  191.638949  432.413793  "
      ]
     },
     "execution_count": 5,
     "metadata": {},
     "output_type": "execute_result"
    }
   ],
   "source": [
    "# merge aquastat with water stress.\n",
    "# left merge to only keep aquastat countries\n",
    "df_piv_ws = pd.merge(df, df_ws, on=[\"Country\"], how='left')\n",
    "df_piv_ws.sample(5)"
   ]
  },
  {
   "cell_type": "code",
   "execution_count": 6,
   "metadata": {
    "scrolled": true
   },
   "outputs": [
    {
     "data": {
      "text/html": [
       "<div>\n",
       "<style scoped>\n",
       "    .dataframe tbody tr th:only-of-type {\n",
       "        vertical-align: middle;\n",
       "    }\n",
       "\n",
       "    .dataframe tbody tr th {\n",
       "        vertical-align: top;\n",
       "    }\n",
       "\n",
       "    .dataframe thead th {\n",
       "        text-align: right;\n",
       "    }\n",
       "</style>\n",
       "<table border=\"1\" class=\"dataframe\">\n",
       "  <thead>\n",
       "    <tr style=\"text-align: right;\">\n",
       "      <th></th>\n",
       "      <th>Country</th>\n",
       "      <th>HDI</th>\n",
       "      <th>r_u</th>\n",
       "      <th>r_u_access</th>\n",
       "      <th>pop_growth</th>\n",
       "      <th>mort_rate</th>\n",
       "      <th>life_ex</th>\n",
       "      <th>GDP_pcp</th>\n",
       "    </tr>\n",
       "  </thead>\n",
       "  <tbody>\n",
       "    <tr>\n",
       "      <th>0</th>\n",
       "      <td>AFG</td>\n",
       "      <td>0.493</td>\n",
       "      <td>2.960340</td>\n",
       "      <td>0.601023</td>\n",
       "      <td>3.06</td>\n",
       "      <td>53.2</td>\n",
       "      <td>63.4</td>\n",
       "      <td>2226.0</td>\n",
       "    </tr>\n",
       "    <tr>\n",
       "      <th>1</th>\n",
       "      <td>AGO</td>\n",
       "      <td>0.576</td>\n",
       "      <td>0.542292</td>\n",
       "      <td>0.374005</td>\n",
       "      <td>3.44</td>\n",
       "      <td>58.6</td>\n",
       "      <td>59.2</td>\n",
       "      <td>7859.4</td>\n",
       "    </tr>\n",
       "    <tr>\n",
       "      <th>2</th>\n",
       "      <td>ALB</td>\n",
       "      <td>0.789</td>\n",
       "      <td>0.683985</td>\n",
       "      <td>1.003161</td>\n",
       "      <td>-0.20</td>\n",
       "      <td>8.6</td>\n",
       "      <td>78.0</td>\n",
       "      <td>12227.4</td>\n",
       "    </tr>\n",
       "    <tr>\n",
       "      <th>3</th>\n",
       "      <td>ARE</td>\n",
       "      <td>0.864</td>\n",
       "      <td>0.159447</td>\n",
       "      <td>1.004016</td>\n",
       "      <td>0.74</td>\n",
       "      <td>7.0</td>\n",
       "      <td>77.2</td>\n",
       "      <td>64243.0</td>\n",
       "    </tr>\n",
       "    <tr>\n",
       "      <th>4</th>\n",
       "      <td>ARG</td>\n",
       "      <td>0.832</td>\n",
       "      <td>0.089930</td>\n",
       "      <td>1.010101</td>\n",
       "      <td>1.08</td>\n",
       "      <td>10.2</td>\n",
       "      <td>76.0</td>\n",
       "      <td>23732.2</td>\n",
       "    </tr>\n",
       "  </tbody>\n",
       "</table>\n",
       "</div>"
      ],
      "text/plain": [
       "  Country    HDI       r_u  r_u_access  pop_growth  mort_rate  life_ex  \\\n",
       "0     AFG  0.493  2.960340    0.601023        3.06       53.2     63.4   \n",
       "1     AGO  0.576  0.542292    0.374005        3.44       58.6     59.2   \n",
       "2     ALB  0.789  0.683985    1.003161       -0.20        8.6     78.0   \n",
       "3     ARE  0.864  0.159447    1.004016        0.74        7.0     77.2   \n",
       "4     ARG  0.832  0.089930    1.010101        1.08       10.2     76.0   \n",
       "\n",
       "   GDP_pcp  \n",
       "0   2226.0  \n",
       "1   7859.4  \n",
       "2  12227.4  \n",
       "3  64243.0  \n",
       "4  23732.2  "
      ]
     },
     "execution_count": 6,
     "metadata": {},
     "output_type": "execute_result"
    }
   ],
   "source": [
    "# final dataset\n",
    "df1 = df_piv_ws[['Country', 'HDI', 'r_u', 'r_u_access',\n",
    "                 'pop_growth', 'mort_rate', 'life_ex', 'GDP_pcp']]\n",
    "df1.head()"
   ]
  },
  {
   "cell_type": "code",
   "execution_count": 7,
   "metadata": {},
   "outputs": [],
   "source": [
    "df_tmp = df1.copy()"
   ]
  },
  {
   "cell_type": "markdown",
   "metadata": {},
   "source": [
    "## 3. Exploratory analysis\n",
    "\n",
    "In this section we are going to inspect the behaviour of each variable and the relationship between them\n",
    "\n",
    "### This includes:\n",
    "* Univariate analysis\n",
    "* Checking the correlations between predictors and target variables\n",
    "* PCA analysis\n",
    "* Clustering: k-means and spectral"
   ]
  },
  {
   "cell_type": "markdown",
   "metadata": {},
   "source": [
    "### 3.1 Univariate exploratory analysis"
   ]
  },
  {
   "cell_type": "markdown",
   "metadata": {},
   "source": [
    "#### 3.1.1  Checking the distribution per indicator"
   ]
  },
  {
   "cell_type": "markdown",
   "metadata": {},
   "source": [
    "First, we standardize the variables:"
   ]
  },
  {
   "cell_type": "code",
   "execution_count": 8,
   "metadata": {},
   "outputs": [],
   "source": [
    "# transform variables (std)\n",
    "scaler = StandardScaler()\n",
    "# get numeric data\n",
    "num_d = df_tmp.drop([\"Country\"], axis=1)"
   ]
  },
  {
   "cell_type": "code",
   "execution_count": 9,
   "metadata": {},
   "outputs": [],
   "source": [
    "# update the cols with their normalized values\n",
    "df_tmp[num_d.columns] = scaler.fit_transform(num_d)"
   ]
  },
  {
   "cell_type": "code",
   "execution_count": 10,
   "metadata": {
    "scrolled": true
   },
   "outputs": [
    {
     "data": {
      "image/png": "[encoded data removed]",
      "text/plain": [
       "<Figure size 864x576 with 1 Axes>"
      ]
     },
     "metadata": {},
     "output_type": "display_data"
    }
   ],
   "source": [
    "fig = plt.figure(figsize=(12, 8))\n",
    "sns.boxplot(data=df_tmp)\n",
    "plt.show()"
   ]
  },
  {
   "cell_type": "markdown",
   "metadata": {},
   "source": [
    "- From the previous boxplots, we can see there are some outliers in the proportion of rural over urban population ( _r-u_ ), the proportion of the rural population with access to safe drinking water(_ru-access_) and _GDP_ . Also, few cases on pop_growth and mort_rate. We will explore this in more depth afterwards."
   ]
  },
  {
   "cell_type": "code",
   "execution_count": 11,
   "metadata": {},
   "outputs": [
    {
     "data": {
      "text/html": [
       "<div>\n",
       "<style scoped>\n",
       "    .dataframe tbody tr th:only-of-type {\n",
       "        vertical-align: middle;\n",
       "    }\n",
       "\n",
       "    .dataframe tbody tr th {\n",
       "        vertical-align: top;\n",
       "    }\n",
       "\n",
       "    .dataframe thead th {\n",
       "        text-align: right;\n",
       "    }\n",
       "</style>\n",
       "<table border=\"1\" class=\"dataframe\">\n",
       "  <thead>\n",
       "    <tr style=\"text-align: right;\">\n",
       "      <th></th>\n",
       "      <th>HDI</th>\n",
       "      <th>r_u</th>\n",
       "      <th>r_u_access</th>\n",
       "      <th>pop_growth</th>\n",
       "      <th>mort_rate</th>\n",
       "      <th>life_ex</th>\n",
       "      <th>GDP_pcp</th>\n",
       "    </tr>\n",
       "  </thead>\n",
       "  <tbody>\n",
       "    <tr>\n",
       "      <th>count</th>\n",
       "      <td>1.410000e+02</td>\n",
       "      <td>1.410000e+02</td>\n",
       "      <td>1.410000e+02</td>\n",
       "      <td>1.410000e+02</td>\n",
       "      <td>1.410000e+02</td>\n",
       "      <td>1.400000e+02</td>\n",
       "      <td>1.380000e+02</td>\n",
       "    </tr>\n",
       "    <tr>\n",
       "      <th>mean</th>\n",
       "      <td>-8.740054e-17</td>\n",
       "      <td>-2.706661e-17</td>\n",
       "      <td>-5.228284e-16</td>\n",
       "      <td>7.244008e-17</td>\n",
       "      <td>5.826702e-17</td>\n",
       "      <td>-9.738242e-16</td>\n",
       "      <td>-2.172175e-17</td>\n",
       "    </tr>\n",
       "    <tr>\n",
       "      <th>std</th>\n",
       "      <td>1.003565e+00</td>\n",
       "      <td>1.003565e+00</td>\n",
       "      <td>1.003565e+00</td>\n",
       "      <td>1.003565e+00</td>\n",
       "      <td>1.003565e+00</td>\n",
       "      <td>1.003591e+00</td>\n",
       "      <td>1.003643e+00</td>\n",
       "    </tr>\n",
       "    <tr>\n",
       "      <th>min</th>\n",
       "      <td>-2.154931e+00</td>\n",
       "      <td>-8.773345e-01</td>\n",
       "      <td>-2.877951e+00</td>\n",
       "      <td>-4.039730e+00</td>\n",
       "      <td>-1.089972e+00</td>\n",
       "      <td>-2.636227e+00</td>\n",
       "      <td>-8.860912e-01</td>\n",
       "    </tr>\n",
       "    <tr>\n",
       "      <th>25%</th>\n",
       "      <td>-8.108036e-01</td>\n",
       "      <td>-6.835928e-01</td>\n",
       "      <td>-4.830675e-01</td>\n",
       "      <td>-6.405242e-01</td>\n",
       "      <td>-8.104029e-01</td>\n",
       "      <td>-7.419929e-01</td>\n",
       "      <td>-7.320935e-01</td>\n",
       "    </tr>\n",
       "    <tr>\n",
       "      <th>50%</th>\n",
       "      <td>1.116368e-01</td>\n",
       "      <td>-3.676905e-01</td>\n",
       "      <td>4.197383e-01</td>\n",
       "      <td>-1.235943e-01</td>\n",
       "      <td>-3.476671e-01</td>\n",
       "      <td>1.695667e-01</td>\n",
       "      <td>-3.679509e-01</td>\n",
       "    </tr>\n",
       "    <tr>\n",
       "      <th>75%</th>\n",
       "      <td>7.441673e-01</td>\n",
       "      <td>2.696560e-01</td>\n",
       "      <td>8.339668e-01</td>\n",
       "      <td>7.379555e-01</td>\n",
       "      <td>6.838479e-01</td>\n",
       "      <td>6.609038e-01</td>\n",
       "      <td>4.423168e-01</td>\n",
       "    </tr>\n",
       "    <tr>\n",
       "      <th>max</th>\n",
       "      <td>1.666608e+00</td>\n",
       "      <td>4.241766e+00</td>\n",
       "      <td>9.764837e-01</td>\n",
       "      <td>3.275611e+00</td>\n",
       "      <td>3.257815e+00</td>\n",
       "      <td>1.527209e+00</td>\n",
       "      <td>4.649457e+00</td>\n",
       "    </tr>\n",
       "  </tbody>\n",
       "</table>\n",
       "</div>"
      ],
      "text/plain": [
       "                HDI           r_u    r_u_access    pop_growth     mort_rate  \\\n",
       "count  1.410000e+02  1.410000e+02  1.410000e+02  1.410000e+02  1.410000e+02   \n",
       "mean  -8.740054e-17 -2.706661e-17 -5.228284e-16  7.244008e-17  5.826702e-17   \n",
       "std    1.003565e+00  1.003565e+00  1.003565e+00  1.003565e+00  1.003565e+00   \n",
       "min   -2.154931e+00 -8.773345e-01 -2.877951e+00 -4.039730e+00 -1.089972e+00   \n",
       "25%   -8.108036e-01 -6.835928e-01 -4.830675e-01 -6.405242e-01 -8.104029e-01   \n",
       "50%    1.116368e-01 -3.676905e-01  4.197383e-01 -1.235943e-01 -3.476671e-01   \n",
       "75%    7.441673e-01  2.696560e-01  8.339668e-01  7.379555e-01  6.838479e-01   \n",
       "max    1.666608e+00  4.241766e+00  9.764837e-01  3.275611e+00  3.257815e+00   \n",
       "\n",
       "            life_ex       GDP_pcp  \n",
       "count  1.400000e+02  1.380000e+02  \n",
       "mean  -9.738242e-16 -2.172175e-17  \n",
       "std    1.003591e+00  1.003643e+00  \n",
       "min   -2.636227e+00 -8.860912e-01  \n",
       "25%   -7.419929e-01 -7.320935e-01  \n",
       "50%    1.695667e-01 -3.679509e-01  \n",
       "75%    6.609038e-01  4.423168e-01  \n",
       "max    1.527209e+00  4.649457e+00  "
      ]
     },
     "execution_count": 11,
     "metadata": {},
     "output_type": "execute_result"
    }
   ],
   "source": [
    "df_tmp.describe()"
   ]
  },
  {
   "cell_type": "code",
   "execution_count": 12,
   "metadata": {
    "scrolled": false
   },
   "outputs": [
    {
     "data": {
      "text/plain": [
       "<AxesSubplot:xlabel='variable', ylabel='value'>"
      ]
     },
     "execution_count": 12,
     "metadata": {},
     "output_type": "execute_result"
    },
    {
     "data": {
      "image/png": "[encoded data removed]",
      "text/plain": [
       "<Figure size 576x396 with 1 Axes>"
      ]
     },
     "metadata": {},
     "output_type": "display_data"
    }
   ],
   "source": [
    "sns.boxplot(x=\"variable\", y=\"value\", data=pd.melt(df_ws.iloc[:, 1:3]))\n",
    "# clear outliers"
   ]
  },
  {
   "cell_type": "code",
   "execution_count": 13,
   "metadata": {
    "scrolled": true
   },
   "outputs": [
    {
     "data": {
      "text/plain": [
       "<AxesSubplot:xlabel='variable', ylabel='value'>"
      ]
     },
     "execution_count": 13,
     "metadata": {},
     "output_type": "execute_result"
    },
    {
     "data": {
      "image/png": "[encoded data removed]",
      "text/plain": [
       "<Figure size 576x396 with 1 Axes>"
      ]
     },
     "metadata": {},
     "output_type": "display_data"
    }
   ],
   "source": [
    "sns.boxplot(x=\"variable\", y=\"value\", data=pd.melt(\n",
    "    df_climate[['IRWR', 'ERWR', 'TRWR']]))"
   ]
  },
  {
   "cell_type": "code",
   "execution_count": 14,
   "metadata": {
    "scrolled": true
   },
   "outputs": [
    {
     "data": {
      "text/plain": [
       "<AxesSubplot:xlabel='variable', ylabel='value'>"
      ]
     },
     "execution_count": 14,
     "metadata": {},
     "output_type": "execute_result"
    },
    {
     "data": {
      "image/png": "[encoded data removed]",
      "text/plain": [
       "<Figure size 576x396 with 1 Axes>"
      ]
     },
     "metadata": {},
     "output_type": "display_data"
    }
   ],
   "source": [
    "sns.boxplot(x=\"variable\", y=\"value\", data=pd.melt(df_climate[['Rainfall']]))"
   ]
  },
  {
   "cell_type": "code",
   "execution_count": 15,
   "metadata": {
    "scrolled": true
   },
   "outputs": [
    {
     "data": {
      "text/plain": [
       "<AxesSubplot:xlabel='variable', ylabel='value'>"
      ]
     },
     "execution_count": 15,
     "metadata": {},
     "output_type": "execute_result"
    },
    {
     "data": {
      "image/png": "[encoded data removed]",
      "text/plain": [
       "<Figure size 576x396 with 1 Axes>"
      ]
     },
     "metadata": {},
     "output_type": "display_data"
    }
   ],
   "source": [
    "sns.boxplot(x=\"variable\", y=\"value\", data=pd.melt(df_climate[['Temp']]))"
   ]
  },
  {
   "cell_type": "code",
   "execution_count": 16,
   "metadata": {
    "scrolled": true
   },
   "outputs": [
    {
     "data": {
      "text/plain": [
       "<AxesSubplot:xlabel='variable', ylabel='value'>"
      ]
     },
     "execution_count": 16,
     "metadata": {},
     "output_type": "execute_result"
    },
    {
     "data": {
      "image/png": "[encoded data removed]",
      "text/plain": [
       "<Figure size 576x396 with 1 Axes>"
      ]
     },
     "metadata": {},
     "output_type": "display_data"
    }
   ],
   "source": [
    "sns.boxplot(x=\"variable\", y=\"value\", data=pd.melt(df_climate[['Dep_r']]))"
   ]
  },
  {
   "cell_type": "code",
   "execution_count": null,
   "metadata": {
    "scrolled": false
   },
   "outputs": [],
   "source": [
    "# df_climate.describe()"
   ]
  },
  {
   "cell_type": "markdown",
   "metadata": {},
   "source": [
    "#### 3.1.2 Distribution of each indicator per country"
   ]
  },
  {
   "cell_type": "code",
   "execution_count": 17,
   "metadata": {},
   "outputs": [
    {
     "name": "stdout",
     "output_type": "stream",
     "text": [
      "Country       0\n",
      "HDI           0\n",
      "r_u           0\n",
      "r_u_access    0\n",
      "pop_growth    0\n",
      "mort_rate     0\n",
      "life_ex       1\n",
      "GDP_pcp       3\n",
      "dtype: int64\n"
     ]
    }
   ],
   "source": [
    "print(df_tmp.isna().sum(axis=0))\n",
    "df_tmp = df_tmp.dropna(axis=0)"
   ]
  },
  {
   "cell_type": "code",
   "execution_count": 18,
   "metadata": {},
   "outputs": [
    {
     "data": {
      "text/plain": [
       "<AxesSubplot:ylabel='Country'>"
      ]
     },
     "execution_count": 18,
     "metadata": {},
     "output_type": "execute_result"
    },
    {
     "data": {
      "image/png": "[encoded data removed]",
      "text/plain": [
       "<Figure size 432x1972.8 with 2 Axes>"
      ]
     },
     "metadata": {},
     "output_type": "display_data"
    }
   ],
   "source": [
    "# setting index so heatmap can be plotted\n",
    "df_tmp.set_index(['Country'], inplace=True)\n",
    "plt.subplots(figsize=(6, .2*(len(df_tmp.index))))\n",
    "sns.heatmap(df_tmp,\n",
    "            cbar_kws={'fraction': 0.08},  # shrink colour bar\n",
    "            cmap='OrRd',  # use orange/red colour map\n",
    "            linewidth=1)"
   ]
  },
  {
   "cell_type": "markdown",
   "metadata": {},
   "source": [
    "- From above we can see that the outliers from GDP are countries like QAT, LUX, ARE, IRL ...\n",
    "- PNG & BDI have high ratio of rural pop (r_u)\n",
    "- OMN QAT MDV have high pop growth \n",
    "- SLE, CAF, TCD have large mort_rate"
   ]
  },
  {
   "cell_type": "markdown",
   "metadata": {},
   "source": [
    "### 3.2 Bivariate Analysis"
   ]
  },
  {
   "cell_type": "markdown",
   "metadata": {},
   "source": [
    "#### 3.2.1 Checking the correlation between variables"
   ]
  },
  {
   "cell_type": "code",
   "execution_count": 19,
   "metadata": {},
   "outputs": [
    {
     "data": {
      "text/plain": [
       "<AxesSubplot:>"
      ]
     },
     "execution_count": 19,
     "metadata": {},
     "output_type": "execute_result"
    },
    {
     "data": {
      "image/png": "[encoded data removed]",
      "text/plain": [
       "<Figure size 576x396 with 2 Axes>"
      ]
     },
     "metadata": {},
     "output_type": "display_data"
    }
   ],
   "source": [
    "corr_data = df_tmp.corr()\n",
    "sns.heatmap(corr_data, annot=True)"
   ]
  },
  {
   "cell_type": "markdown",
   "metadata": {},
   "source": [
    "- The heatmap shows that the mortality rate is highly negatively correlated with HDI (-0.9) and life_ex (-0.93). HDI is highly correlated with the life expectancy."
   ]
  },
  {
   "cell_type": "code",
   "execution_count": null,
   "metadata": {},
   "outputs": [],
   "source": [
    "g = sns.pairplot(df_tmp, kind=\"reg\", corner=True,\n",
    "                 plot_kws={'line_kws': {'color': 'red'}})"
   ]
  },
  {
   "cell_type": "markdown",
   "metadata": {},
   "source": [
    "#### 3.2.2 Hierarchical Clustered Heatmap"
   ]
  },
  {
   "cell_type": "code",
   "execution_count": null,
   "metadata": {},
   "outputs": [],
   "source": [
    "sns.clustermap(df_tmp,\n",
    "               linewidth=0.05,\n",
    "               cmap='OrRd',\n",
    "               method='complete',\n",
    "               figsize=(9, .18*(len(df_tmp.index))),\n",
    "               cbar_pos=(1.05, .2, .03, .4))"
   ]
  },
  {
   "cell_type": "markdown",
   "metadata": {},
   "source": [
    "- This clustered heatmap figure helps us identify countries with similar values across all indicators. Thus, countries are re ordered according to their similarity.."
   ]
  },
  {
   "cell_type": "markdown",
   "metadata": {},
   "source": [
    "### 3.3 correlations"
   ]
  },
  {
   "cell_type": "markdown",
   "metadata": {},
   "source": [
    "Conclusion: we expect water stress will be hard to predict with socio-economic factors given the overall low correlations. The water usage efficiency should be slightly easier to predict because some predictors have higher correlations "
   ]
  },
  {
   "cell_type": "code",
   "execution_count": 20,
   "metadata": {},
   "outputs": [],
   "source": [
    "# merge the two datasets into 1 for later use\n",
    "df_total = pd.merge(df, df_ws, on=['Country'], how='left')\n",
    "# drop rows with missing values\n",
    "df_total = df_total.dropna()"
   ]
  },
  {
   "cell_type": "code",
   "execution_count": 21,
   "metadata": {
    "scrolled": true
   },
   "outputs": [
    {
     "name": "stdout",
     "output_type": "stream",
     "text": [
      "correlations with stress : \n",
      " WS_MDG        1.000000\n",
      "WS_SDG        0.999498\n",
      "GDP_pcp       0.273908\n",
      "pop_growth    0.159887\n",
      "r_u_access    0.141995\n",
      "HDI           0.127326\n",
      "life_ex       0.095724\n",
      "WUE_SDG       0.040949\n",
      "urban_pop    -0.033059\n",
      "rural_pop    -0.033738\n",
      "r_u          -0.135479\n",
      "mort_rate    -0.136546\n",
      "Name: WS_MDG, dtype: float64\n",
      "correlations with effiency : \n",
      " WUE_SDG       1.000000\n",
      "GDP_pcp       0.659415\n",
      "HDI           0.350520\n",
      "life_ex       0.300403\n",
      "r_u_access    0.184661\n",
      "WS_MDG        0.040949\n",
      "WS_SDG        0.037662\n",
      "pop_growth   -0.006180\n",
      "urban_pop    -0.056597\n",
      "rural_pop    -0.076072\n",
      "r_u          -0.221273\n",
      "mort_rate    -0.251949\n",
      "Name: WUE_SDG, dtype: float64\n"
     ]
    }
   ],
   "source": [
    "corr_stress = df_total.corr()['WS_MDG'].sort_values(ascending=False)\n",
    "corr_effiency = df_total.corr()['WUE_SDG'].sort_values(ascending=False)\n",
    "print('correlations with stress : \\n', corr_stress)\n",
    "print('correlations with effiency : \\n', corr_effiency)"
   ]
  },
  {
   "cell_type": "markdown",
   "metadata": {},
   "source": [
    "\n"
   ]
  },
  {
   "cell_type": "markdown",
   "metadata": {},
   "source": [
    "### 3.4 PCA analysis"
   ]
  },
  {
   "cell_type": "markdown",
   "metadata": {},
   "source": [
    "#### 3.4.1 Create a copy of our data"
   ]
  },
  {
   "cell_type": "code",
   "execution_count": 22,
   "metadata": {},
   "outputs": [],
   "source": [
    "data = df_total.copy()"
   ]
  },
  {
   "cell_type": "markdown",
   "metadata": {},
   "source": [
    "#### 3.4.2 Scale the numeric data"
   ]
  },
  {
   "cell_type": "code",
   "execution_count": 23,
   "metadata": {},
   "outputs": [],
   "source": [
    "# select numeric vars\n",
    "num_d = data.select_dtypes(include=['float64'])\n",
    "\n",
    "# Putting response variable to y\n",
    "y = data['Country']\n",
    "\n",
    "# scale the data\n",
    "scaler = StandardScaler()\n",
    "data[num_d.columns] = scaler.fit_transform(num_d)"
   ]
  },
  {
   "cell_type": "markdown",
   "metadata": {},
   "source": [
    "#### 3.4.3 create a data set that only includes predictors to perform PCA"
   ]
  },
  {
   "cell_type": "code",
   "execution_count": 27,
   "metadata": {},
   "outputs": [
    {
     "data": {
      "text/html": [
       "<div>\n",
       "<style scoped>\n",
       "    .dataframe tbody tr th:only-of-type {\n",
       "        vertical-align: middle;\n",
       "    }\n",
       "\n",
       "    .dataframe tbody tr th {\n",
       "        vertical-align: top;\n",
       "    }\n",
       "\n",
       "    .dataframe thead th {\n",
       "        text-align: right;\n",
       "    }\n",
       "</style>\n",
       "<table border=\"1\" class=\"dataframe\">\n",
       "  <thead>\n",
       "    <tr style=\"text-align: right;\">\n",
       "      <th></th>\n",
       "      <th>HDI</th>\n",
       "      <th>r_u</th>\n",
       "      <th>r_u_access</th>\n",
       "      <th>pop_growth</th>\n",
       "      <th>mort_rate</th>\n",
       "      <th>GDP_pcp</th>\n",
       "      <th>life_ex</th>\n",
       "    </tr>\n",
       "  </thead>\n",
       "  <tbody>\n",
       "    <tr>\n",
       "      <th>0</th>\n",
       "      <td>-1.372006</td>\n",
       "      <td>1.505922</td>\n",
       "      <td>-1.617125</td>\n",
       "      <td>1.233024</td>\n",
       "      <td>1.364589</td>\n",
       "      <td>-0.818518</td>\n",
       "      <td>-1.003998</td>\n",
       "    </tr>\n",
       "    <tr>\n",
       "      <th>1</th>\n",
       "      <td>-0.837114</td>\n",
       "      <td>-0.439302</td>\n",
       "      <td>-3.010320</td>\n",
       "      <td>1.552530</td>\n",
       "      <td>1.619939</td>\n",
       "      <td>-0.543204</td>\n",
       "      <td>-1.530676</td>\n",
       "    </tr>\n",
       "    <tr>\n",
       "      <th>2</th>\n",
       "      <td>0.535563</td>\n",
       "      <td>-0.325316</td>\n",
       "      <td>0.850776</td>\n",
       "      <td>-1.508001</td>\n",
       "      <td>-0.744411</td>\n",
       "      <td>-0.329733</td>\n",
       "      <td>0.826834</td>\n",
       "    </tr>\n",
       "    <tr>\n",
       "      <th>3</th>\n",
       "      <td>1.018900</td>\n",
       "      <td>-0.747285</td>\n",
       "      <td>0.856022</td>\n",
       "      <td>-0.717644</td>\n",
       "      <td>-0.820070</td>\n",
       "      <td>2.212356</td>\n",
       "      <td>0.726514</td>\n",
       "    </tr>\n",
       "    <tr>\n",
       "      <th>4</th>\n",
       "      <td>0.812676</td>\n",
       "      <td>-0.803209</td>\n",
       "      <td>0.893365</td>\n",
       "      <td>-0.431770</td>\n",
       "      <td>-0.668752</td>\n",
       "      <td>0.232526</td>\n",
       "      <td>0.576035</td>\n",
       "    </tr>\n",
       "  </tbody>\n",
       "</table>\n",
       "</div>"
      ],
      "text/plain": [
       "        HDI       r_u  r_u_access  pop_growth  mort_rate   GDP_pcp   life_ex\n",
       "0 -1.372006  1.505922   -1.617125    1.233024   1.364589 -0.818518 -1.003998\n",
       "1 -0.837114 -0.439302   -3.010320    1.552530   1.619939 -0.543204 -1.530676\n",
       "2  0.535563 -0.325316    0.850776   -1.508001  -0.744411 -0.329733  0.826834\n",
       "3  1.018900 -0.747285    0.856022   -0.717644  -0.820070  2.212356  0.726514\n",
       "4  0.812676 -0.803209    0.893365   -0.431770  -0.668752  0.232526  0.576035"
      ]
     },
     "execution_count": 27,
     "metadata": {},
     "output_type": "execute_result"
    }
   ],
   "source": [
    "datX = data.drop(['Country', 'rural_pop', 'urban_pop',\n",
    "                  'WS_SDG', 'WS_MDG', 'WUE_SDG'], axis=1)\n",
    "datX.head()"
   ]
  },
  {
   "cell_type": "markdown",
   "metadata": {},
   "source": [
    "#### 3.4.4 perform PCA"
   ]
  },
  {
   "cell_type": "code",
   "execution_count": 28,
   "metadata": {},
   "outputs": [
    {
     "data": {
      "text/html": [
       "<div>\n",
       "<style scoped>\n",
       "    .dataframe tbody tr th:only-of-type {\n",
       "        vertical-align: middle;\n",
       "    }\n",
       "\n",
       "    .dataframe tbody tr th {\n",
       "        vertical-align: top;\n",
       "    }\n",
       "\n",
       "    .dataframe thead th {\n",
       "        text-align: right;\n",
       "    }\n",
       "</style>\n",
       "<table border=\"1\" class=\"dataframe\">\n",
       "  <thead>\n",
       "    <tr style=\"text-align: right;\">\n",
       "      <th></th>\n",
       "      <th>PC1</th>\n",
       "      <th>PC2</th>\n",
       "      <th>PC3</th>\n",
       "      <th>PC4</th>\n",
       "      <th>PC5</th>\n",
       "      <th>Feature</th>\n",
       "    </tr>\n",
       "  </thead>\n",
       "  <tbody>\n",
       "    <tr>\n",
       "      <th>0</th>\n",
       "      <td>-0.448464</td>\n",
       "      <td>0.085892</td>\n",
       "      <td>-0.008392</td>\n",
       "      <td>-0.145509</td>\n",
       "      <td>-0.089067</td>\n",
       "      <td>HDI</td>\n",
       "    </tr>\n",
       "    <tr>\n",
       "      <th>1</th>\n",
       "      <td>0.300297</td>\n",
       "      <td>-0.381936</td>\n",
       "      <td>0.798764</td>\n",
       "      <td>-0.321830</td>\n",
       "      <td>-0.041152</td>\n",
       "      <td>r_u</td>\n",
       "    </tr>\n",
       "    <tr>\n",
       "      <th>2</th>\n",
       "      <td>-0.368693</td>\n",
       "      <td>-0.241819</td>\n",
       "      <td>0.334890</td>\n",
       "      <td>0.721349</td>\n",
       "      <td>0.416028</td>\n",
       "      <td>r_u_access</td>\n",
       "    </tr>\n",
       "    <tr>\n",
       "      <th>3</th>\n",
       "      <td>0.265624</td>\n",
       "      <td>0.759489</td>\n",
       "      <td>0.379068</td>\n",
       "      <td>0.363465</td>\n",
       "      <td>-0.258469</td>\n",
       "      <td>pop_growth</td>\n",
       "    </tr>\n",
       "    <tr>\n",
       "      <th>4</th>\n",
       "      <td>0.428991</td>\n",
       "      <td>0.072282</td>\n",
       "      <td>-0.161096</td>\n",
       "      <td>0.016437</td>\n",
       "      <td>0.517154</td>\n",
       "      <td>mort_rate</td>\n",
       "    </tr>\n",
       "    <tr>\n",
       "      <th>5</th>\n",
       "      <td>-0.357843</td>\n",
       "      <td>0.453890</td>\n",
       "      <td>0.238691</td>\n",
       "      <td>-0.467850</td>\n",
       "      <td>0.566751</td>\n",
       "      <td>GDP_pcp</td>\n",
       "    </tr>\n",
       "    <tr>\n",
       "      <th>6</th>\n",
       "      <td>-0.436035</td>\n",
       "      <td>0.014376</td>\n",
       "      <td>0.152108</td>\n",
       "      <td>-0.060389</td>\n",
       "      <td>-0.402284</td>\n",
       "      <td>life_ex</td>\n",
       "    </tr>\n",
       "  </tbody>\n",
       "</table>\n",
       "</div>"
      ],
      "text/plain": [
       "        PC1       PC2       PC3       PC4       PC5     Feature\n",
       "0 -0.448464  0.085892 -0.008392 -0.145509 -0.089067         HDI\n",
       "1  0.300297 -0.381936  0.798764 -0.321830 -0.041152         r_u\n",
       "2 -0.368693 -0.241819  0.334890  0.721349  0.416028  r_u_access\n",
       "3  0.265624  0.759489  0.379068  0.363465 -0.258469  pop_growth\n",
       "4  0.428991  0.072282 -0.161096  0.016437  0.517154   mort_rate\n",
       "5 -0.357843  0.453890  0.238691 -0.467850  0.566751     GDP_pcp\n",
       "6 -0.436035  0.014376  0.152108 -0.060389 -0.402284     life_ex"
      ]
     },
     "execution_count": 28,
     "metadata": {},
     "output_type": "execute_result"
    }
   ],
   "source": [
    "pca = PCA(n_components=5)\n",
    "pca.fit(datX)  # obtain the principal components\n",
    "\n",
    "# df_tmp2 will be used in clustering, don't pay attention to this\n",
    "df_tmp2 = pca.transform(datX)\n",
    "df_tmp2 = pd.DataFrame(df_tmp2)\n",
    "df_tmp2.columns = ['P1', 'P2', 'P3', 'P4', 'P5']\n",
    "df_tmp2 = df_tmp2[['P1', 'P2']]\n",
    "\n",
    "# examine which variable leans on which component\n",
    "colnames = list(datX.columns)\n",
    "pcs_df = pd.DataFrame({'PC1': pca.components_[0],\n",
    "                       'PC2': pca.components_[1],\n",
    "                       'PC3': pca.components_[2],\n",
    "                       'PC4': pca.components_[3],\n",
    "                       'PC5': pca.components_[4],\n",
    "                       'Feature': colnames})\n",
    "pcs_df"
   ]
  },
  {
   "cell_type": "markdown",
   "metadata": {},
   "source": [
    "#### Conclusion: \n",
    "We notice that for PC1 all variables have a somewhat similar weight. PC2 is dominated by population growth and GDP per capita. PC3 is mainly the ratio of rural over urban population. PC4 is dominated by rural over urban population access to water. PC5 is a mix again."
   ]
  },
  {
   "cell_type": "markdown",
   "metadata": {},
   "source": [
    "#### 3.4.5 check how many components explain the variance"
   ]
  },
  {
   "cell_type": "code",
   "execution_count": 29,
   "metadata": {
    "scrolled": true
   },
   "outputs": [
    {
     "data": {
      "image/png": "[encoded data removed]",
      "text/plain": [
       "<Figure size 576x360 with 1 Axes>"
      ]
     },
     "metadata": {
      "needs_background": "light"
     },
     "output_type": "display_data"
    }
   ],
   "source": [
    "%matplotlib inline\n",
    "fig = plt.figure(figsize=(8, 5))\n",
    "plt.plot(np.cumsum(pca.explained_variance_ratio_))\n",
    "plt.xlabel('number of components')\n",
    "plt.ylabel('cumulative explained variance')\n",
    "plt.show()"
   ]
  },
  {
   "cell_type": "markdown",
   "metadata": {},
   "source": [
    "#### Conclusion:\n",
    "We only need 2 components to explain ~90% of the variance."
   ]
  },
  {
   "cell_type": "markdown",
   "metadata": {},
   "source": [
    "#### 3.4.6 examine which variable weighs on PC1 and PC2"
   ]
  },
  {
   "cell_type": "code",
   "execution_count": 30,
   "metadata": {},
   "outputs": [
    {
     "data": {
      "image/png": "[encoded data removed]",
      "text/plain": [
       "<Figure size 720x360 with 1 Axes>"
      ]
     },
     "metadata": {
      "needs_background": "light"
     },
     "output_type": "display_data"
    }
   ],
   "source": [
    "%matplotlib inline\n",
    "fig = plt.figure(figsize=(10, 5))\n",
    "plt.scatter(pcs_df.PC1, pcs_df.PC2)\n",
    "plt.xlabel('Principal Component 1')\n",
    "plt.ylabel('Principal Component 2')\n",
    "for i, txt in enumerate(pcs_df.Feature):\n",
    "    plt.annotate(txt, (pcs_df.PC1[i], pcs_df.PC2[i]))\n",
    "plt.tight_layout()\n",
    "plt.show()"
   ]
  },
  {
   "cell_type": "markdown",
   "metadata": {},
   "source": [
    "#### Conclusion:\n",
    "PC1 is a balanced mix of everything. PC2 is dominated by population growth, GDP per capita and rural over urban population."
   ]
  },
  {
   "cell_type": "markdown",
   "metadata": {},
   "source": [
    "### 3.5 Clustering\n",
    "3.5.1: we look at k-means.\n",
    "\n",
    "3.5.2: we look at spectral clustering.\n",
    "\n",
    "3.5.4: we evaluate the clustering algorithms based on the Silhouette score and David-Bouldin score.\n",
    "\n",
    "3.5.5: we evaluate the clusters by looking how the variable values change for each cluster.\n",
    "\n",
    "* Silhouette score for a set of sample data points is used to measure how dense and well-separated the clusters are. Silhouette score takes into consideration the intra-cluster distance between the sample and other data points within the same cluster (a) and inter-cluster distance between the sample and the next nearest cluster (b).\n",
    "    * The silhouette plots can be used to select the most optimal value of the K (no. of cluster) in K-means clustering. The score ranges between [-1,1] with a score 1 meaning that the clusters are very dense and nicely separated. The score of 0 means that clusters are overlapping. The score of less than 0 means that data belonging to clusters may be wrong/incorrect.\n",
    "* The Davies–Bouldin (DB) criterion is based on a ratio between “within-cluster” and “between-cluster” distances. The optimal clustering has the smallest Davies–Bouldin index value.\n",
    "    * Eg. if two clusters are close together but have a large spread then this ratio will be large, indicating that these clusters are not very distinct."
   ]
  },
  {
   "cell_type": "markdown",
   "metadata": {},
   "source": [
    "### 3.5.1 K-means clustering"
   ]
  },
  {
   "cell_type": "code",
   "execution_count": 31,
   "metadata": {},
   "outputs": [
    {
     "data": {
      "image/png": "[encoded data removed]",
      "text/plain": [
       "<Figure size 432x288 with 1 Axes>"
      ]
     },
     "metadata": {
      "needs_background": "light"
     },
     "output_type": "display_data"
    }
   ],
   "source": [
    "df_tmp_n = df_tmp2.copy()\n",
    "sse = {}\n",
    "for k in range(1, 10):\n",
    "    kmeans = KMeans(n_clusters=k, max_iter=1000).fit(df_tmp_n)\n",
    "    df_tmp_n['clusters'] = kmeans.labels_\n",
    "    # print(data[\"clusters\"])\n",
    "    # Inertia: Sum of distances of samples to their closest cluster center\n",
    "    sse[k] = kmeans.inertia_\n",
    "plt.figure()\n",
    "plt.plot(list(sse.keys()), list(sse.values()))\n",
    "plt.xlabel(\"Number of cluster\")\n",
    "plt.ylabel(\"SSE\")\n",
    "plt.show()"
   ]
  },
  {
   "cell_type": "code",
   "execution_count": 32,
   "metadata": {},
   "outputs": [
    {
     "data": {
      "image/png": "[encoded data removed]",
      "text/plain": [
       "<Figure size 1080x576 with 6 Axes>"
      ]
     },
     "metadata": {
      "needs_background": "light"
     },
     "output_type": "display_data"
    }
   ],
   "source": [
    "fig, ax = plt.subplots(3, 2, figsize=(15, 8))\n",
    "for i in [2, 3, 4, 5, 6, 7]:\n",
    "    '''\n",
    "    Create KMeans instance for different number of clusters\n",
    "    '''\n",
    "    km = KMeans(n_clusters=i, init='k-means++',\n",
    "                n_init=10, max_iter=100, random_state=42)\n",
    "    q, mod = divmod(i, 2)\n",
    "    '''\n",
    "    Create SilhouetteVisualizer instance with KMeans instance\n",
    "    Fit the visualizer\n",
    "    '''\n",
    "    visualizer = SilhouetteVisualizer(\n",
    "        km, colors='yellowbrick', ax=ax[q-1][mod])\n",
    "    visualizer.fit(df_tmp2)"
   ]
  },
  {
   "cell_type": "code",
   "execution_count": 34,
   "metadata": {},
   "outputs": [
    {
     "name": "stderr",
     "output_type": "stream",
     "text": [
      "C:\\Users\\Marce\\anaconda3\\lib\\site-packages\\yellowbrick\\utils\\kneed.py:155: YellowbrickWarning: No 'knee' or 'elbow point' detected This could be due to bad clustering, no actual clusters being formed etc.\n",
      "  warnings.warn(warning_message, YellowbrickWarning)\n",
      "C:\\Users\\Marce\\anaconda3\\lib\\site-packages\\yellowbrick\\cluster\\elbow.py:343: YellowbrickWarning: No 'knee' or 'elbow' point detected, pass `locate_elbow=False` to remove the warning\n",
      "  warnings.warn(warning_message, YellowbrickWarning)\n"
     ]
    },
    {
     "data": {
      "image/png": "[encoded data removed]",
      "text/plain": [
       "<Figure size 432x288 with 1 Axes>"
      ]
     },
     "metadata": {
      "needs_background": "light"
     },
     "output_type": "display_data"
    },
    {
     "data": {
      "text/plain": [
       "<AxesSubplot:title={'center':'Silhouette Score Elbow for KMeans Clustering'}, xlabel='k', ylabel='silhouette score'>"
      ]
     },
     "execution_count": 34,
     "metadata": {},
     "output_type": "execute_result"
    }
   ],
   "source": [
    "# Instantiate a scikit-learn K-Means model\n",
    "model = KMeans(random_state=42)\n",
    "\n",
    "# Instantiate the KElbowVisualizer with the number of clusters and the metric\n",
    "visualizer = KElbowVisualizer(\n",
    "    model, k=(2, 9), metric='silhouette', timings=False)\n",
    "\n",
    "# Fit the data and visualize\n",
    "visualizer.fit(df_tmp_n)\n",
    "visualizer.poof()"
   ]
  },
  {
   "cell_type": "markdown",
   "metadata": {},
   "source": [
    "#### Conclusion:\n",
    "K-means clustering with 5 clusters is optimal. A score of 0.556 indicates clustering works reasonably well."
   ]
  },
  {
   "cell_type": "code",
   "execution_count": 35,
   "metadata": {},
   "outputs": [
    {
     "data": {
      "text/plain": [
       "<matplotlib.legend.Legend at 0x14ea76b4d00>"
      ]
     },
     "execution_count": 35,
     "metadata": {},
     "output_type": "execute_result"
    },
    {
     "data": {
      "image/png": "[encoded data removed]",
      "text/plain": [
       "<Figure size 576x576 with 1 Axes>"
      ]
     },
     "metadata": {
      "needs_background": "light"
     },
     "output_type": "display_data"
    }
   ],
   "source": [
    "kmeans = KMeans(n_clusters=4, random_state=42)\n",
    "kmeans.fit(df_tmp2.values)\n",
    "y_label = kmeans.predict(df_tmp2.values)\n",
    "\n",
    "fix, ax = plt.subplots(1, 1, figsize=(8, 8))\n",
    "for i in np.unique(y_label):\n",
    "    idx = y_label == i\n",
    "    ax.scatter(df_tmp2.values[idx, 0], df_tmp2.values[idx, 1])\n",
    "\n",
    "# plotting the centroids\n",
    "ax.scatter(kmeans.cluster_centers_[:, 0], kmeans.cluster_centers_[\n",
    "           :, 1], color='k', s=80.0, label='centroids')\n",
    "ax.legend()"
   ]
  },
  {
   "cell_type": "markdown",
   "metadata": {},
   "source": [
    "### 3.5.2 Spectral clustering"
   ]
  },
  {
   "cell_type": "code",
   "execution_count": 36,
   "metadata": {},
   "outputs": [],
   "source": [
    "# 5 neighbours is standard practise\n",
    "A = kneighbors_graph(df_tmp2.values, n_neighbors=5).toarray()"
   ]
  },
  {
   "cell_type": "code",
   "execution_count": 37,
   "metadata": {
    "scrolled": true
   },
   "outputs": [
    {
     "data": {
      "text/plain": [
       "<matplotlib.collections.PathCollection at 0x14ea771d700>"
      ]
     },
     "execution_count": 37,
     "metadata": {},
     "output_type": "execute_result"
    },
    {
     "data": {
      "image/png": "[encoded data removed]",
      "text/plain": [
       "<Figure size 576x576 with 1 Axes>"
      ]
     },
     "metadata": {
      "needs_background": "light"
     },
     "output_type": "display_data"
    }
   ],
   "source": [
    "fig, ax = plt.subplots(1, 1, figsize=(8, 8))\n",
    "plt.scatter(df_tmp2['P1'], df_tmp2['P2'])"
   ]
  },
  {
   "cell_type": "code",
   "execution_count": 38,
   "metadata": {},
   "outputs": [],
   "source": [
    "D = np.diag(A.sum(axis=1))\n",
    "L = D-A"
   ]
  },
  {
   "cell_type": "code",
   "execution_count": 39,
   "metadata": {},
   "outputs": [],
   "source": [
    "vals, vecs = np.linalg.eig(L)\n",
    "vals = np.real(vals)\n",
    "vecs = np.real(vecs)"
   ]
  },
  {
   "cell_type": "code",
   "execution_count": 40,
   "metadata": {},
   "outputs": [],
   "source": [
    "vecs_sorted = vecs[:, np.argsort((vals))]\n",
    "vals_sorted = vals[np.argsort((vals))]"
   ]
  },
  {
   "cell_type": "markdown",
   "metadata": {},
   "source": [
    "uncomment if you want to visualise eigenvalues\n"
   ]
  },
  {
   "cell_type": "code",
   "execution_count": 41,
   "metadata": {
    "scrolled": true
   },
   "outputs": [
    {
     "data": {
      "text/plain": [
       "\"fig , ax = plt.subplots(1,1,figsize=(5,5))\\nax.scatter(np.arange(0,len(vals_sorted)),abs(vals_sorted))\\nax.set_title('Eigen values',fontsize=12);\""
      ]
     },
     "execution_count": 41,
     "metadata": {},
     "output_type": "execute_result"
    }
   ],
   "source": [
    "'''fig , ax = plt.subplots(1,1,figsize=(5,5))\n",
    "ax.scatter(np.arange(0,len(vals_sorted)),abs(vals_sorted))\n",
    "ax.set_title('Eigen values',fontsize=12);'''"
   ]
  },
  {
   "cell_type": "code",
   "execution_count": 42,
   "metadata": {},
   "outputs": [],
   "source": [
    "U = np.array((vecs_sorted[:, 1])).reshape(-1, 1)"
   ]
  },
  {
   "cell_type": "code",
   "execution_count": 43,
   "metadata": {},
   "outputs": [],
   "source": [
    "km = KMeans(init='k-means++', n_clusters=5, random_state=42)\n",
    "km.fit(U)"
   ]
  },
  {
   "cell_type": "code",
   "execution_count": 44,
   "metadata": {},
   "outputs": [
    {
     "data": {
      "text/plain": [
       "<matplotlib.collections.PathCollection at 0x14ea7784f70>"
      ]
     },
     "execution_count": 44,
     "metadata": {},
     "output_type": "execute_result"
    },
    {
     "data": {
      "image/png": "[encoded data removed]",
      "text/plain": [
       "<Figure size 720x720 with 1 Axes>"
      ]
     },
     "metadata": {
      "needs_background": "light"
     },
     "output_type": "display_data"
    }
   ],
   "source": [
    "fig, ax = plt.subplots(1, 1, figsize=(10, 10))\n",
    "\n",
    "plt.scatter(df_tmp2.values[km.labels_ == 0, 0],\n",
    "            df_tmp2.values[km.labels_ == 0, 1])\n",
    "plt.scatter(df_tmp2.values[km.labels_ == 1, 0],\n",
    "            df_tmp2.values[km.labels_ == 1, 1])\n",
    "plt.scatter(df_tmp2.values[km.labels_ == 2, 0],\n",
    "            df_tmp2.values[km.labels_ == 2, 1])\n",
    "plt.scatter(df_tmp2.values[km.labels_ == 3, 0],\n",
    "            df_tmp2.values[km.labels_ == 3, 1])\n",
    "plt.scatter(df_tmp2.values[km.labels_ == 4, 0],\n",
    "            df_tmp2.values[km.labels_ == 4, 1])"
   ]
  },
  {
   "cell_type": "markdown",
   "metadata": {},
   "source": [
    "5 clusters looks like overkill, we have 1 cluster containing only 4 datapoints\n",
    "\n",
    "We now build a second spectral clustering model based on rbf affinity.\n",
    "\n",
    "Uncomment the plotting part if you want to visualise."
   ]
  },
  {
   "cell_type": "code",
   "execution_count": 45,
   "metadata": {},
   "outputs": [
    {
     "data": {
      "text/plain": [
       "\"\\nb = plt.scatter(df_tmp2['P1'], df_tmp2['P2'], color ='b');\\ny = plt.scatter(df_tmp2['P1'], df_tmp2['P2'], color ='g');\\nr = plt.scatter(df_tmp2['P1'], df_tmp2['P2'], color ='orange');\\nr1 = plt.scatter(df_tmp2['P1'], df_tmp2['P2'], color ='red');\\ngr = plt.scatter(df_tmp2['P1'], df_tmp2['P2'], color ='gray');\\nplt.figure(figsize =(9, 9))\\nplt.scatter(df_tmp2['P1'], df_tmp2['P2'], c = cvec)\\nplt.legend((b, y,r,r1,gr), ('C 1', 'C 2','C 3','C 4','C 5'))\\nplt.show()\\n\""
      ]
     },
     "execution_count": 45,
     "metadata": {},
     "output_type": "execute_result"
    }
   ],
   "source": [
    "# Building the clustering model\n",
    "spectral_model_tmp = SpectralClustering(n_clusters=5,\n",
    "                                        n_neighbors=5,\n",
    "                                        random_state=42,\n",
    "                                        affinity='rbf')\n",
    "\n",
    "# Training the model and Storing the predicted cluster labels\n",
    "labels_rbf = spectral_model_tmp.fit_predict(df_tmp2)\n",
    "df_tmp2['cluster_rbf'] = spectral_model_tmp.fit_predict(df_tmp2[['P1', 'P2']])\n",
    "# Building the label to colour mapping\n",
    "colours = {}\n",
    "colours[0] = 'b'\n",
    "colours[1] = 'g'\n",
    "colours[2] = 'orange'\n",
    "colours[3] = 'red'\n",
    "colours[4] = 'gray'\n",
    "# Building the colour vector for each data point\n",
    "cvec = [colours[label] for label in labels_rbf]\n",
    "\n",
    "# Plotting the clustered scatter plot\n",
    "'''\n",
    "b = plt.scatter(df_tmp2['P1'], df_tmp2['P2'], color ='b');\n",
    "y = plt.scatter(df_tmp2['P1'], df_tmp2['P2'], color ='g');\n",
    "r = plt.scatter(df_tmp2['P1'], df_tmp2['P2'], color ='orange');\n",
    "r1 = plt.scatter(df_tmp2['P1'], df_tmp2['P2'], color ='red');\n",
    "gr = plt.scatter(df_tmp2['P1'], df_tmp2['P2'], color ='gray');\n",
    "plt.figure(figsize =(9, 9))\n",
    "plt.scatter(df_tmp2['P1'], df_tmp2['P2'], c = cvec)\n",
    "plt.legend((b, y,r,r1,gr), ('C 1', 'C 2','C 3','C 4','C 5'))\n",
    "plt.show()\n",
    "'''"
   ]
  },
  {
   "cell_type": "markdown",
   "metadata": {},
   "source": [
    "We build a second spectral model based on nearest neighbours. Uncomment the plotting part if you want to visualize it."
   ]
  },
  {
   "cell_type": "code",
   "execution_count": 46,
   "metadata": {},
   "outputs": [
    {
     "name": "stderr",
     "output_type": "stream",
     "text": [
      "C:\\Users\\Marce\\anaconda3\\lib\\site-packages\\sklearn\\manifold\\_spectral_embedding.py:236: UserWarning: Graph is not fully connected, spectral embedding may not work as expected.\n",
      "  warnings.warn(\"Graph is not fully connected, spectral embedding\"\n"
     ]
    }
   ],
   "source": [
    "spec_cl = SpectralClustering(\n",
    "    n_clusters=4,\n",
    "    n_neighbors=5,\n",
    "    random_state=42,\n",
    "    affinity='nearest_neighbors')\n",
    "\n",
    "df_tmp2['cluster_cl'] = spec_cl.fit_predict(df_tmp2[['P1', 'P2']])\n",
    "\n",
    "labels_nearest = spec_cl.fit_predict(df_tmp2)\n",
    "\n",
    "# Building the label to colour mapping\n",
    "colours = {}\n",
    "colours[0] = 'b'\n",
    "colours[1] = 'g'\n",
    "colours[2] = 'orange'\n",
    "colours[3] = 'red'\n",
    "colours[4] = 'gray'\n",
    "# Building the colour vector for each data point\n",
    "cvec = [colours[label] for label in labels_nearest]\n",
    "\n",
    "# Plotting the clustered scatter plot\n",
    "\n",
    "#b = plt.scatter(df_tmp2['P1'], df_tmp2['P2'], color ='b');\n",
    "#y = plt.scatter(df_tmp2['P1'], df_tmp2['P2'], color ='g');\n",
    "#r = plt.scatter(df_tmp2['P1'], df_tmp2['P2'], color ='orange');\n",
    "#r1 = plt.scatter(df_tmp2['P1'], df_tmp2['P2'], color ='red');\n",
    "\n",
    "#plt.figure(figsize =(9, 9))\n",
    "#plt.scatter(df_tmp2['P1'], df_tmp2['P2'], c = cvec)\n",
    "#plt.legend((b, y,r,r1), ('C 1', 'C 2','C 3','C 4'))\n",
    "# plt.show()"
   ]
  },
  {
   "cell_type": "markdown",
   "metadata": {},
   "source": [
    "### 3.5.3 score-based evaluation\n",
    "Look at Silhouette scores and Davies-Bouldin.\n",
    "\n",
    "We want to maximize Silhouette score and minimize the Davies-Bouldin score.\n",
    "\n",
    "#### Conclusion: \n",
    "NN-based spectral clustering with 4 clusters yields the best results. Spectral clustering is far better than k-means."
   ]
  },
  {
   "cell_type": "code",
   "execution_count": 47,
   "metadata": {},
   "outputs": [
    {
     "name": "stdout",
     "output_type": "stream",
     "text": [
      "Silhouetter Score k-means: 0.248\n",
      "Silhouetter Score spectral cluster rbf : 0.470\n",
      "Silhouetter Score spectral cluster NN: 0.484\n"
     ]
    }
   ],
   "source": [
    "# Calculate Silhoutte Score\n",
    "\n",
    "score = silhouette_score(df_tmp2, km.labels_, metric='euclidean')\n",
    "score1 = silhouette_score(df_tmp2, df_tmp2.cluster_cl, metric='euclidean')\n",
    "score2 = silhouette_score(df_tmp2, df_tmp2.cluster_rbf, metric='euclidean')\n",
    "\n",
    "\n",
    "print('Silhouetter Score k-means: %.3f' % score)\n",
    "print('Silhouetter Score spectral cluster rbf : %.3f' % score2)\n",
    "print('Silhouetter Score spectral cluster NN: %.3f' % score1)"
   ]
  },
  {
   "cell_type": "code",
   "execution_count": 48,
   "metadata": {},
   "outputs": [
    {
     "name": "stdout",
     "output_type": "stream",
     "text": [
      "davies_bouldin_score kmeans: 1.615\n",
      "davies_bouldin_score spectral cluster rbf: 0.590\n",
      "davies_bouldin_score spectral cluster NN: 0.799\n"
     ]
    }
   ],
   "source": [
    "dbs = davies_bouldin_score(df_tmp2, km.labels_)\n",
    "dbs1 = davies_bouldin_score(df_tmp2, df_tmp2.cluster_rbf)\n",
    "dbs2 = davies_bouldin_score(df_tmp2, df_tmp2.cluster_cl)\n",
    "print('davies_bouldin_score kmeans: %.3f' % dbs)\n",
    "print('davies_bouldin_score spectral cluster rbf: %.3f' % dbs1)\n",
    "print('davies_bouldin_score spectral cluster NN: %.3f' % dbs2)"
   ]
  },
  {
   "cell_type": "markdown",
   "metadata": {},
   "source": [
    "### 3.5.4 analysis of optimal clusters"
   ]
  },
  {
   "cell_type": "code",
   "execution_count": 49,
   "metadata": {},
   "outputs": [],
   "source": [
    "df_tmp2.rename(columns={\"cluster_cl\": \"cluster\"}, inplace=True)"
   ]
  },
  {
   "cell_type": "code",
   "execution_count": 50,
   "metadata": {
    "scrolled": true
   },
   "outputs": [
    {
     "data": {
      "text/html": [
       "<div>\n",
       "<style scoped>\n",
       "    .dataframe tbody tr th:only-of-type {\n",
       "        vertical-align: middle;\n",
       "    }\n",
       "\n",
       "    .dataframe tbody tr th {\n",
       "        vertical-align: top;\n",
       "    }\n",
       "\n",
       "    .dataframe thead th {\n",
       "        text-align: right;\n",
       "    }\n",
       "</style>\n",
       "<table border=\"1\" class=\"dataframe\">\n",
       "  <thead>\n",
       "    <tr style=\"text-align: right;\">\n",
       "      <th></th>\n",
       "      <th>Country</th>\n",
       "      <th>rural_pop</th>\n",
       "      <th>urban_pop</th>\n",
       "      <th>HDI</th>\n",
       "      <th>r_u</th>\n",
       "      <th>r_u_access</th>\n",
       "      <th>pop_growth</th>\n",
       "      <th>mort_rate</th>\n",
       "      <th>GDP_pcp</th>\n",
       "      <th>life_ex</th>\n",
       "      <th>WS_MDG</th>\n",
       "      <th>WUE_SDG</th>\n",
       "      <th>WS_SDG</th>\n",
       "      <th>P1</th>\n",
       "      <th>P2</th>\n",
       "      <th>cluster_rbf</th>\n",
       "      <th>cluster</th>\n",
       "    </tr>\n",
       "  </thead>\n",
       "  <tbody>\n",
       "    <tr>\n",
       "      <th>95</th>\n",
       "      <td>NIC</td>\n",
       "      <td>2592.801</td>\n",
       "      <td>3624.780</td>\n",
       "      <td>0.653</td>\n",
       "      <td>0.715299</td>\n",
       "      <td>0.698892</td>\n",
       "      <td>1.30</td>\n",
       "      <td>16.6</td>\n",
       "      <td>5630.6</td>\n",
       "      <td>73.6</td>\n",
       "      <td>0.938062</td>\n",
       "      <td>6.955393</td>\n",
       "      <td>2.692428</td>\n",
       "      <td>-1.177890</td>\n",
       "      <td>0.427269</td>\n",
       "      <td>2</td>\n",
       "      <td>2</td>\n",
       "    </tr>\n",
       "    <tr>\n",
       "      <th>101</th>\n",
       "      <td>PAK</td>\n",
       "      <td>125220.255</td>\n",
       "      <td>71795.700</td>\n",
       "      <td>0.558</td>\n",
       "      <td>1.744119</td>\n",
       "      <td>0.957401</td>\n",
       "      <td>2.10</td>\n",
       "      <td>62.2</td>\n",
       "      <td>4302.2</td>\n",
       "      <td>66.6</td>\n",
       "      <td>81.037277</td>\n",
       "      <td>1.435568</td>\n",
       "      <td>122.691859</td>\n",
       "      <td>2.378745</td>\n",
       "      <td>-0.958158</td>\n",
       "      <td>0</td>\n",
       "      <td>1</td>\n",
       "    </tr>\n",
       "    <tr>\n",
       "      <th>103</th>\n",
       "      <td>PER</td>\n",
       "      <td>7166.470</td>\n",
       "      <td>24999.015</td>\n",
       "      <td>0.756</td>\n",
       "      <td>0.286670</td>\n",
       "      <td>0.757112</td>\n",
       "      <td>1.30</td>\n",
       "      <td>12.2</td>\n",
       "      <td>12124.4</td>\n",
       "      <td>75.8</td>\n",
       "      <td>0.856666</td>\n",
       "      <td>11.023526</td>\n",
       "      <td>3.001032</td>\n",
       "      <td>1.952162</td>\n",
       "      <td>0.531838</td>\n",
       "      <td>0</td>\n",
       "      <td>1</td>\n",
       "    </tr>\n",
       "    <tr>\n",
       "      <th>1</th>\n",
       "      <td>AGO</td>\n",
       "      <td>10472.554</td>\n",
       "      <td>19311.639</td>\n",
       "      <td>0.576</td>\n",
       "      <td>0.542292</td>\n",
       "      <td>0.374005</td>\n",
       "      <td>3.44</td>\n",
       "      <td>58.6</td>\n",
       "      <td>7859.4</td>\n",
       "      <td>59.2</td>\n",
       "      <td>0.475539</td>\n",
       "      <td>142.467836</td>\n",
       "      <td>1.871883</td>\n",
       "      <td>3.322516</td>\n",
       "      <td>1.851498</td>\n",
       "      <td>4</td>\n",
       "      <td>1</td>\n",
       "    </tr>\n",
       "    <tr>\n",
       "      <th>114</th>\n",
       "      <td>SLE</td>\n",
       "      <td>4410.710</td>\n",
       "      <td>3146.502</td>\n",
       "      <td>0.435</td>\n",
       "      <td>1.401782</td>\n",
       "      <td>0.563015</td>\n",
       "      <td>2.20</td>\n",
       "      <td>92.2</td>\n",
       "      <td>1751.4</td>\n",
       "      <td>52.8</td>\n",
       "      <td>0.132625</td>\n",
       "      <td>8.197602</td>\n",
       "      <td>0.495794</td>\n",
       "      <td>-1.233399</td>\n",
       "      <td>-0.547662</td>\n",
       "      <td>2</td>\n",
       "      <td>2</td>\n",
       "    </tr>\n",
       "  </tbody>\n",
       "</table>\n",
       "</div>"
      ],
      "text/plain": [
       "    Country   rural_pop  urban_pop    HDI       r_u  r_u_access  pop_growth  \\\n",
       "95      NIC    2592.801   3624.780  0.653  0.715299    0.698892        1.30   \n",
       "101     PAK  125220.255  71795.700  0.558  1.744119    0.957401        2.10   \n",
       "103     PER    7166.470  24999.015  0.756  0.286670    0.757112        1.30   \n",
       "1       AGO   10472.554  19311.639  0.576  0.542292    0.374005        3.44   \n",
       "114     SLE    4410.710   3146.502  0.435  1.401782    0.563015        2.20   \n",
       "\n",
       "     mort_rate  GDP_pcp  life_ex     WS_MDG     WUE_SDG      WS_SDG        P1  \\\n",
       "95        16.6   5630.6     73.6   0.938062    6.955393    2.692428 -1.177890   \n",
       "101       62.2   4302.2     66.6  81.037277    1.435568  122.691859  2.378745   \n",
       "103       12.2  12124.4     75.8   0.856666   11.023526    3.001032  1.952162   \n",
       "1         58.6   7859.4     59.2   0.475539  142.467836    1.871883  3.322516   \n",
       "114       92.2   1751.4     52.8   0.132625    8.197602    0.495794 -1.233399   \n",
       "\n",
       "           P2  cluster_rbf  cluster  \n",
       "95   0.427269            2        2  \n",
       "101 -0.958158            0        1  \n",
       "103  0.531838            0        1  \n",
       "1    1.851498            4        1  \n",
       "114 -0.547662            2        2  "
      ]
     },
     "execution_count": 50,
     "metadata": {},
     "output_type": "execute_result"
    }
   ],
   "source": [
    "dat_tmp3 = pd.merge(df_total, df_tmp2, left_index=True, right_index=True)\n",
    "dat_tmp3.sample(5)"
   ]
  },
  {
   "cell_type": "code",
   "execution_count": 51,
   "metadata": {},
   "outputs": [],
   "source": [
    "Clus_GDPP = pd.DataFrame(dat_tmp3.groupby([\"cluster\"]).GDP_pcp.mean())\n",
    "Clus_access = pd.DataFrame(dat_tmp3.groupby([\"cluster\"]).r_u_access.mean())\n",
    "Clus_lifexp = pd.DataFrame(dat_tmp3.groupby([\"cluster\"]).life_ex.mean())\n",
    "Clus_mort = pd.DataFrame(dat_tmp3.groupby([\"cluster\"]).mort_rate.mean())\n",
    "Clus_density_pop = pd.DataFrame(dat_tmp3.groupby([\"cluster\"]).r_u.mean())\n",
    "Clus_pop_growth = pd.DataFrame(dat_tmp3.groupby([\"cluster\"]).pop_growth.mean())\n",
    "Clus_HDI = pd.DataFrame(dat_tmp3.groupby([\"cluster\"]).HDI.mean())\n",
    "Clus_w_stress = pd.DataFrame(dat_tmp3.groupby([\"cluster\"]).WS_MDG.mean())\n",
    "Clus_W_eff = pd.DataFrame(dat_tmp3.groupby([\"cluster\"]).WUE_SDG.mean())"
   ]
  },
  {
   "cell_type": "code",
   "execution_count": 52,
   "metadata": {
    "scrolled": true
   },
   "outputs": [
    {
     "data": {
      "text/plain": [
       "2    49\n",
       "1    38\n",
       "0    21\n",
       "3    17\n",
       "Name: cluster, dtype: int64"
      ]
     },
     "execution_count": 52,
     "metadata": {},
     "output_type": "execute_result"
    }
   ],
   "source": [
    "df_tmp2.cluster.value_counts()"
   ]
  },
  {
   "cell_type": "code",
   "execution_count": 53,
   "metadata": {},
   "outputs": [
    {
     "data": {
      "text/html": [
       "<div>\n",
       "<style scoped>\n",
       "    .dataframe tbody tr th:only-of-type {\n",
       "        vertical-align: middle;\n",
       "    }\n",
       "\n",
       "    .dataframe tbody tr th {\n",
       "        vertical-align: top;\n",
       "    }\n",
       "\n",
       "    .dataframe thead th {\n",
       "        text-align: right;\n",
       "    }\n",
       "</style>\n",
       "<table border=\"1\" class=\"dataframe\">\n",
       "  <thead>\n",
       "    <tr style=\"text-align: right;\">\n",
       "      <th></th>\n",
       "      <th>WS_MDG</th>\n",
       "      <th>WUE_SDG</th>\n",
       "      <th>GDP_pcp</th>\n",
       "      <th>r_u_access</th>\n",
       "      <th>life_ex</th>\n",
       "      <th>mort_rate</th>\n",
       "      <th>r_u</th>\n",
       "      <th>pop_growth</th>\n",
       "    </tr>\n",
       "    <tr>\n",
       "      <th>cluster</th>\n",
       "      <th></th>\n",
       "      <th></th>\n",
       "      <th></th>\n",
       "      <th></th>\n",
       "      <th></th>\n",
       "      <th></th>\n",
       "      <th></th>\n",
       "      <th></th>\n",
       "    </tr>\n",
       "  </thead>\n",
       "  <tbody>\n",
       "    <tr>\n",
       "      <th>0</th>\n",
       "      <td>208.879538</td>\n",
       "      <td>40.557731</td>\n",
       "      <td>24624.130000</td>\n",
       "      <td>0.909620</td>\n",
       "      <td>74.710000</td>\n",
       "      <td>15.340000</td>\n",
       "      <td>0.620318</td>\n",
       "      <td>1.242000</td>\n",
       "    </tr>\n",
       "    <tr>\n",
       "      <th>1</th>\n",
       "      <td>42.785253</td>\n",
       "      <td>80.805234</td>\n",
       "      <td>17375.041176</td>\n",
       "      <td>0.821002</td>\n",
       "      <td>69.782353</td>\n",
       "      <td>29.358824</td>\n",
       "      <td>1.449353</td>\n",
       "      <td>1.957647</td>\n",
       "    </tr>\n",
       "    <tr>\n",
       "      <th>2</th>\n",
       "      <td>31.493802</td>\n",
       "      <td>39.156191</td>\n",
       "      <td>15222.879070</td>\n",
       "      <td>0.859183</td>\n",
       "      <td>70.869767</td>\n",
       "      <td>26.227907</td>\n",
       "      <td>1.166233</td>\n",
       "      <td>1.417442</td>\n",
       "    </tr>\n",
       "    <tr>\n",
       "      <th>3</th>\n",
       "      <td>155.030724</td>\n",
       "      <td>53.876041</td>\n",
       "      <td>28954.212500</td>\n",
       "      <td>0.922226</td>\n",
       "      <td>73.212500</td>\n",
       "      <td>20.362500</td>\n",
       "      <td>0.573082</td>\n",
       "      <td>1.688750</td>\n",
       "    </tr>\n",
       "  </tbody>\n",
       "</table>\n",
       "</div>"
      ],
      "text/plain": [
       "             WS_MDG    WUE_SDG       GDP_pcp  r_u_access    life_ex  \\\n",
       "cluster                                                               \n",
       "0        208.879538  40.557731  24624.130000    0.909620  74.710000   \n",
       "1         42.785253  80.805234  17375.041176    0.821002  69.782353   \n",
       "2         31.493802  39.156191  15222.879070    0.859183  70.869767   \n",
       "3        155.030724  53.876041  28954.212500    0.922226  73.212500   \n",
       "\n",
       "         mort_rate       r_u  pop_growth  \n",
       "cluster                                   \n",
       "0        15.340000  0.620318    1.242000  \n",
       "1        29.358824  1.449353    1.957647  \n",
       "2        26.227907  1.166233    1.417442  \n",
       "3        20.362500  0.573082    1.688750  "
      ]
     },
     "execution_count": 53,
     "metadata": {},
     "output_type": "execute_result"
    }
   ],
   "source": [
    "dfclus = pd.concat([Clus_w_stress, Clus_W_eff, Clus_GDPP,\n",
    "                    Clus_access, Clus_lifexp, Clus_mort, Clus_density_pop, Clus_pop_growth], axis=1)\n",
    "dfclus"
   ]
  },
  {
   "cell_type": "markdown",
   "metadata": {},
   "source": [
    "# 5. Analytics: random forests"
   ]
  },
  {
   "cell_type": "markdown",
   "metadata": {},
   "source": [
    "construct the forest"
   ]
  },
  {
   "cell_type": "code",
   "execution_count": 54,
   "metadata": {},
   "outputs": [],
   "source": [
    "# Initialize the classifier, we will keep the default parameters for now\n",
    "model_s = RandomForestRegressor()\n",
    "model_e = RandomForestRegressor()"
   ]
  },
  {
   "cell_type": "code",
   "execution_count": 55,
   "metadata": {},
   "outputs": [],
   "source": [
    "# define predictors and target\n",
    "x = df_total[['HDI', 'r_u', 'r_u_access', 'GDP_pcp',\n",
    "              'life_ex', 'mort_rate', 'pop_growth']]\n",
    "e = df_total[['WUE_SDG']].values\n",
    "s = df_total[['WS_MDG']].values"
   ]
  },
  {
   "cell_type": "code",
   "execution_count": 56,
   "metadata": {},
   "outputs": [],
   "source": [
    "# split in train and test\n",
    "x_train, x_test, s_train, s_test = train_test_split(\n",
    "    x, s, test_size=0.2, random_state=0)\n",
    "x2_train, x2_test, e_train, e_test = train_test_split(\n",
    "    x, e, test_size=0.2, random_state=0)"
   ]
  },
  {
   "cell_type": "code",
   "execution_count": 57,
   "metadata": {},
   "outputs": [
    {
     "data": {
      "text/plain": [
       "RandomForestRegressor()"
      ]
     },
     "execution_count": 57,
     "metadata": {},
     "output_type": "execute_result"
    }
   ],
   "source": [
    "model_s.fit(x_train, np.ravel(s_train))\n",
    "model_e.fit(x2_train, np.ravel(e_train))"
   ]
  },
  {
   "cell_type": "code",
   "execution_count": 58,
   "metadata": {},
   "outputs": [],
   "source": [
    "s_pred = model_s.predict(x_test)\n",
    "e_pred = model_e.predict(x2_test)"
   ]
  },
  {
   "cell_type": "code",
   "execution_count": 59,
   "metadata": {},
   "outputs": [
    {
     "name": "stdout",
     "output_type": "stream",
     "text": [
      "Mean Absolute Error water stress: 174.40463936259144\n",
      "Mean Squared Error water stress: 218305.74754929874\n",
      "Root Mean Squared Error water stress: 467.2320061268264\n",
      "Mean Absolute Error efficiency: 59.0312860564667\n",
      "Mean Squared Error efficiency: 22189.270604824982\n",
      "Root Mean Squared Error efficiency: 148.96063441334084\n"
     ]
    }
   ],
   "source": [
    "print('Mean Absolute Error water stress:',\n",
    "      metrics.mean_absolute_error(s_test, s_pred))\n",
    "print('Mean Squared Error water stress:',\n",
    "      metrics.mean_squared_error(s_test, s_pred))\n",
    "print('Root Mean Squared Error water stress:', np.sqrt(\n",
    "    metrics.mean_squared_error(s_test, s_pred)))\n",
    "\n",
    "print('Mean Absolute Error efficiency:',\n",
    "      metrics.mean_absolute_error(e_test, e_pred))\n",
    "print('Mean Squared Error efficiency:',\n",
    "      metrics.mean_squared_error(e_test, e_pred))\n",
    "print('Root Mean Squared Error efficiency:', np.sqrt(\n",
    "    metrics.mean_squared_error(e_test, e_pred)))"
   ]
  },
  {
   "cell_type": "code",
   "execution_count": 60,
   "metadata": {},
   "outputs": [
    {
     "name": "stdout",
     "output_type": "stream",
     "text": [
      "Mean Absolute Error: 209.28 degrees.\n",
      "Mean Absolute Error: 91.2 degrees.\n",
      "Accuracy water stress prediction: -648.99 %.\n",
      "Accuracy efficiency prediction: 5.5 %.\n"
     ]
    }
   ],
   "source": [
    "# Calculate the absolute errors\n",
    "errors1 = abs(s_pred - s_test)\n",
    "errors2 = abs(e_pred - e_test)\n",
    "\n",
    "# Print out the mean absolute error (mae)\n",
    "print('Mean Absolute Error:', round(np.mean(errors1), 2), 'degrees.')\n",
    "print('Mean Absolute Error:', round(np.mean(errors2), 2), 'degrees.')\n",
    "\n",
    "# Calculate mean absolute percentage error (MAPE)\n",
    "mape1 = 100 * (errors1 / s_test)\n",
    "mape2 = 100 * (errors2 / e_test)\n",
    "\n",
    "# Calculate and display accuracy\n",
    "accuracy1 = 100 - np.median(mape1)\n",
    "accuracy2 = 100 - np.median(mape2)\n",
    "\n",
    "print('Accuracy water stress prediction:', round(accuracy1, 2), '%.')\n",
    "print('Accuracy efficiency prediction:', round(accuracy2, 2), '%.')"
   ]
  },
  {
   "cell_type": "markdown",
   "metadata": {},
   "source": [
    "\n"
   ]
  }
 ],
 "metadata": {
  "kernelspec": {
   "display_name": "Python 3",
   "language": "python",
   "name": "python3"
  },
  "language_info": {
   "codemirror_mode": {
    "name": "ipython",
    "version": 3
   },
   "file_extension": ".py",
   "mimetype": "text/x-python",
   "name": "python",
   "nbconvert_exporter": "python",
   "pygments_lexer": "ipython3",
   "version": "3.8.5"
  },
  "varInspector": {
   "cols": {
    "lenName": 16,
    "lenType": 16,
    "lenVar": 40
   },
   "kernels_config": {
    "python": {
     "delete_cmd_postfix": "",
     "delete_cmd_prefix": "del ",
     "library": "var_list.py",
     "varRefreshCmd": "print(var_dic_list())"
    },
    "r": {
     "delete_cmd_postfix": ") ",
     "delete_cmd_prefix": "rm(",
     "library": "var_list.r",
     "varRefreshCmd": "cat(var_dic_list()) "
    }
   },
   "types_to_exclude": [
    "module",
    "function",
    "builtin_function_or_method",
    "instance",
    "_Feature"
   ],
   "window_display": false
  }
 },
 "nbformat": 4,
 "nbformat_minor": 5
}
