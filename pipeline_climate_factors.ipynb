{
 "cells": [
  {
   "cell_type": "markdown",
   "id": "34e43ede",
   "metadata": {},
   "source": [
    "# Pipeline climate factors"
   ]
  },
  {
   "cell_type": "markdown",
   "id": "33e5fc18",
   "metadata": {},
   "source": [
    "## Import Modules"
   ]
  },
  {
   "cell_type": "code",
   "execution_count": 1,
   "id": "cc6eb4f0",
   "metadata": {
    "ExecuteTime": {
     "end_time": "2021-05-11T08:43:01.110357Z",
     "start_time": "2021-05-11T08:42:59.408460Z"
    }
   },
   "outputs": [],
   "source": [
    "import pandas as pd\n",
    "import numpy as np\n",
    "import matplotlib.pyplot as plt\n",
    "from sklearn.model_selection import train_test_split\n",
    "from sklearn.preprocessing import StandardScaler, RobustScaler, QuantileTransformer\n",
    "from sklearn.feature_selection import SelectKBest, f_regression\n",
    "from sklearn.decomposition import PCA\n",
    "from sklearn.linear_model import Ridge, LinearRegression\n",
    "from sklearn.cluster import KMeans\n",
    "from sklearn.pipeline import Pipeline\n",
    "from sklearn.metrics import r2_score, accuracy_score"
   ]
  },
  {
   "cell_type": "markdown",
   "id": "e299c802",
   "metadata": {},
   "source": [
    "## Data Preprocessing"
   ]
  },
  {
   "cell_type": "code",
   "execution_count": 2,
   "id": "de096d0c",
   "metadata": {
    "ExecuteTime": {
     "end_time": "2021-05-11T08:43:01.121359Z",
     "start_time": "2021-05-11T08:43:01.111357Z"
    }
   },
   "outputs": [],
   "source": [
    "df_waterstress = pd.read_csv('clean data/water_stress.csv',index_col='Unnamed: 0')\n",
    "df_climatefactors = pd.read_csv('clean data/climate_factors.csv',index_col='Unnamed: 0')\n",
    "df_socioec_"
   ]
  },
  {
   "cell_type": "markdown",
   "id": "1c5988e4",
   "metadata": {},
   "source": [
    "### Merge"
   ]
  },
  {
   "cell_type": "code",
   "execution_count": 4,
   "id": "2c5c7923",
   "metadata": {
    "ExecuteTime": {
     "end_time": "2021-05-11T08:43:01.128361Z",
     "start_time": "2021-05-11T08:43:01.122359Z"
    }
   },
   "outputs": [
    {
     "ename": "KeyError",
     "evalue": "\"None of ['Country'] are in the columns\"",
     "output_type": "error",
     "traceback": [
      "\u001b[1;31m---------------------------------------------------------------------------\u001b[0m",
      "\u001b[1;31mKeyError\u001b[0m                                  Traceback (most recent call last)",
      "\u001b[1;32m<ipython-input-4-fe4fc6df8832>\u001b[0m in \u001b[0;36m<module>\u001b[1;34m\u001b[0m\n\u001b[1;32m----> 1\u001b[1;33m \u001b[0mdf_waterstress\u001b[0m\u001b[1;33m.\u001b[0m\u001b[0mset_index\u001b[0m\u001b[1;33m(\u001b[0m\u001b[1;34m'Country'\u001b[0m\u001b[1;33m,\u001b[0m\u001b[0minplace\u001b[0m\u001b[1;33m=\u001b[0m\u001b[1;32mTrue\u001b[0m\u001b[1;33m)\u001b[0m\u001b[1;33m\u001b[0m\u001b[1;33m\u001b[0m\u001b[0m\n\u001b[0m\u001b[0;32m      2\u001b[0m \u001b[0mdf_climatefactors\u001b[0m\u001b[1;33m.\u001b[0m\u001b[0mset_index\u001b[0m\u001b[1;33m(\u001b[0m\u001b[1;34m'Country'\u001b[0m\u001b[1;33m,\u001b[0m\u001b[0minplace\u001b[0m\u001b[1;33m=\u001b[0m\u001b[1;32mTrue\u001b[0m\u001b[1;33m)\u001b[0m\u001b[1;33m\u001b[0m\u001b[1;33m\u001b[0m\u001b[0m\n\u001b[0;32m      3\u001b[0m \u001b[0mdf\u001b[0m \u001b[1;33m=\u001b[0m \u001b[0mpd\u001b[0m\u001b[1;33m.\u001b[0m\u001b[0mmerge\u001b[0m\u001b[1;33m(\u001b[0m\u001b[0mdf_waterstress\u001b[0m\u001b[1;33m,\u001b[0m\u001b[0mdf_climatefactors\u001b[0m\u001b[1;33m,\u001b[0m\u001b[0mleft_index\u001b[0m\u001b[1;33m=\u001b[0m\u001b[1;32mTrue\u001b[0m\u001b[1;33m,\u001b[0m\u001b[0mright_index\u001b[0m\u001b[1;33m=\u001b[0m\u001b[1;32mTrue\u001b[0m\u001b[1;33m)\u001b[0m\u001b[1;33m\u001b[0m\u001b[1;33m\u001b[0m\u001b[0m\n",
      "\u001b[1;32m~\\anaconda3\\lib\\site-packages\\pandas\\core\\frame.py\u001b[0m in \u001b[0;36mset_index\u001b[1;34m(self, keys, drop, append, inplace, verify_integrity)\u001b[0m\n\u001b[0;32m   4725\u001b[0m \u001b[1;33m\u001b[0m\u001b[0m\n\u001b[0;32m   4726\u001b[0m         \u001b[1;32mif\u001b[0m \u001b[0mmissing\u001b[0m\u001b[1;33m:\u001b[0m\u001b[1;33m\u001b[0m\u001b[1;33m\u001b[0m\u001b[0m\n\u001b[1;32m-> 4727\u001b[1;33m             \u001b[1;32mraise\u001b[0m \u001b[0mKeyError\u001b[0m\u001b[1;33m(\u001b[0m\u001b[1;34mf\"None of {missing} are in the columns\"\u001b[0m\u001b[1;33m)\u001b[0m\u001b[1;33m\u001b[0m\u001b[1;33m\u001b[0m\u001b[0m\n\u001b[0m\u001b[0;32m   4728\u001b[0m \u001b[1;33m\u001b[0m\u001b[0m\n\u001b[0;32m   4729\u001b[0m         \u001b[1;32mif\u001b[0m \u001b[0minplace\u001b[0m\u001b[1;33m:\u001b[0m\u001b[1;33m\u001b[0m\u001b[1;33m\u001b[0m\u001b[0m\n",
      "\u001b[1;31mKeyError\u001b[0m: \"None of ['Country'] are in the columns\""
     ]
    }
   ],
   "source": [
    "df_waterstress.set_index('Country',inplace=True)\n",
    "df_climatefactors.set_index('Country',inplace=True)\n",
    "df = pd.merge(df_waterstress,df_climatefactors,left_index=True,right_index=True)"
   ]
  },
  {
   "cell_type": "code",
   "execution_count": 5,
   "id": "487e1f23",
   "metadata": {
    "ExecuteTime": {
     "end_time": "2021-05-11T08:43:01.151366Z",
     "start_time": "2021-05-11T08:43:01.129361Z"
    }
   },
   "outputs": [
    {
     "data": {
      "text/html": [
       "<div>\n",
       "<style scoped>\n",
       "    .dataframe tbody tr th:only-of-type {\n",
       "        vertical-align: middle;\n",
       "    }\n",
       "\n",
       "    .dataframe tbody tr th {\n",
       "        vertical-align: top;\n",
       "    }\n",
       "\n",
       "    .dataframe thead th {\n",
       "        text-align: right;\n",
       "    }\n",
       "</style>\n",
       "<table border=\"1\" class=\"dataframe\">\n",
       "  <thead>\n",
       "    <tr style=\"text-align: right;\">\n",
       "      <th></th>\n",
       "      <th>Water stress (MDG)</th>\n",
       "      <th>Water use efficiency (SDG)</th>\n",
       "      <th>Water stress (SDG)</th>\n",
       "      <th>Temperature (°C)</th>\n",
       "      <th>Total Rainfall (mm)</th>\n",
       "      <th>Total internal renewable water resources (IRWR)</th>\n",
       "      <th>Total external renewable water resources (ERWR)</th>\n",
       "      <th>Total renewable water resources</th>\n",
       "      <th>Dependency ratio</th>\n",
       "      <th>Total exploitable water resources</th>\n",
       "    </tr>\n",
       "    <tr>\n",
       "      <th>Country</th>\n",
       "      <th></th>\n",
       "      <th></th>\n",
       "      <th></th>\n",
       "      <th></th>\n",
       "      <th></th>\n",
       "      <th></th>\n",
       "      <th></th>\n",
       "      <th></th>\n",
       "      <th></th>\n",
       "      <th></th>\n",
       "    </tr>\n",
       "  </thead>\n",
       "  <tbody>\n",
       "    <tr>\n",
       "      <th>AFG</th>\n",
       "      <td>31.045462</td>\n",
       "      <td>0.923778</td>\n",
       "      <td>54.757019</td>\n",
       "      <td>14.074742</td>\n",
       "      <td>353.323550</td>\n",
       "      <td>47.15</td>\n",
       "      <td>18.18</td>\n",
       "      <td>65.33</td>\n",
       "      <td>28.722600</td>\n",
       "      <td>NaN</td>\n",
       "    </tr>\n",
       "    <tr>\n",
       "      <th>AGO</th>\n",
       "      <td>0.475539</td>\n",
       "      <td>142.467836</td>\n",
       "      <td>1.871883</td>\n",
       "      <td>22.182196</td>\n",
       "      <td>958.376457</td>\n",
       "      <td>148.00</td>\n",
       "      <td>0.40</td>\n",
       "      <td>148.40</td>\n",
       "      <td>0.269542</td>\n",
       "      <td>NaN</td>\n",
       "    </tr>\n",
       "    <tr>\n",
       "      <th>ALB</th>\n",
       "      <td>3.933775</td>\n",
       "      <td>6.656907</td>\n",
       "      <td>7.139423</td>\n",
       "      <td>12.754647</td>\n",
       "      <td>1074.030807</td>\n",
       "      <td>26.90</td>\n",
       "      <td>3.30</td>\n",
       "      <td>30.20</td>\n",
       "      <td>10.927152</td>\n",
       "      <td>13.0</td>\n",
       "    </tr>\n",
       "    <tr>\n",
       "      <th>ARE</th>\n",
       "      <td>1708.000000</td>\n",
       "      <td>92.773763</td>\n",
       "      <td>1708.000000</td>\n",
       "      <td>28.010773</td>\n",
       "      <td>70.675403</td>\n",
       "      <td>0.15</td>\n",
       "      <td>0.00</td>\n",
       "      <td>0.15</td>\n",
       "      <td>0.000000</td>\n",
       "      <td>NaN</td>\n",
       "    </tr>\n",
       "    <tr>\n",
       "      <th>ARG</th>\n",
       "      <td>4.301333</td>\n",
       "      <td>13.616564</td>\n",
       "      <td>10.456664</td>\n",
       "      <td>14.767043</td>\n",
       "      <td>591.136700</td>\n",
       "      <td>292.00</td>\n",
       "      <td>584.24</td>\n",
       "      <td>876.24</td>\n",
       "      <td>66.675797</td>\n",
       "      <td>NaN</td>\n",
       "    </tr>\n",
       "  </tbody>\n",
       "</table>\n",
       "</div>"
      ],
      "text/plain": [
       "         Water stress (MDG)  Water use efficiency (SDG)  Water stress (SDG)  \\\n",
       "Country                                                                       \n",
       "AFG               31.045462                    0.923778           54.757019   \n",
       "AGO                0.475539                  142.467836            1.871883   \n",
       "ALB                3.933775                    6.656907            7.139423   \n",
       "ARE             1708.000000                   92.773763         1708.000000   \n",
       "ARG                4.301333                   13.616564           10.456664   \n",
       "\n",
       "         Temperature (°C)  Total Rainfall (mm)  \\\n",
       "Country                                          \n",
       "AFG             14.074742           353.323550   \n",
       "AGO             22.182196           958.376457   \n",
       "ALB             12.754647          1074.030807   \n",
       "ARE             28.010773            70.675403   \n",
       "ARG             14.767043           591.136700   \n",
       "\n",
       "         Total internal renewable water resources (IRWR)  \\\n",
       "Country                                                    \n",
       "AFG                                                47.15   \n",
       "AGO                                               148.00   \n",
       "ALB                                                26.90   \n",
       "ARE                                                 0.15   \n",
       "ARG                                               292.00   \n",
       "\n",
       "         Total external renewable water resources (ERWR)  \\\n",
       "Country                                                    \n",
       "AFG                                                18.18   \n",
       "AGO                                                 0.40   \n",
       "ALB                                                 3.30   \n",
       "ARE                                                 0.00   \n",
       "ARG                                               584.24   \n",
       "\n",
       "         Total renewable water resources  Dependency ratio  \\\n",
       "Country                                                      \n",
       "AFG                                65.33         28.722600   \n",
       "AGO                               148.40          0.269542   \n",
       "ALB                                30.20         10.927152   \n",
       "ARE                                 0.15          0.000000   \n",
       "ARG                               876.24         66.675797   \n",
       "\n",
       "         Total exploitable water resources  \n",
       "Country                                     \n",
       "AFG                                    NaN  \n",
       "AGO                                    NaN  \n",
       "ALB                                   13.0  \n",
       "ARE                                    NaN  \n",
       "ARG                                    NaN  "
      ]
     },
     "execution_count": 5,
     "metadata": {},
     "output_type": "execute_result"
    }
   ],
   "source": [
    "df.head()"
   ]
  },
  {
   "cell_type": "markdown",
   "id": "4c443c7e",
   "metadata": {},
   "source": [
    "### Drop NAN's"
   ]
  },
  {
   "cell_type": "code",
   "execution_count": 6,
   "id": "45bb3518",
   "metadata": {
    "ExecuteTime": {
     "end_time": "2021-05-11T08:43:01.158368Z",
     "start_time": "2021-05-11T08:43:01.152366Z"
    }
   },
   "outputs": [
    {
     "data": {
      "text/plain": [
       "Water stress (MDG)                                   2\n",
       "Water use efficiency (SDG)                          12\n",
       "Water stress (SDG)                                   2\n",
       "Temperature (°C)                                     2\n",
       "Total Rainfall (mm)                                  2\n",
       "Total internal renewable water resources (IRWR)      2\n",
       "Total external renewable water resources (ERWR)      2\n",
       "Total renewable water resources                      1\n",
       "Dependency ratio                                     2\n",
       "Total exploitable water resources                  116\n",
       "dtype: int64"
      ]
     },
     "execution_count": 6,
     "metadata": {},
     "output_type": "execute_result"
    }
   ],
   "source": [
    "df.isna().sum()"
   ]
  },
  {
   "cell_type": "code",
   "execution_count": 7,
   "id": "a8025c25",
   "metadata": {
    "ExecuteTime": {
     "end_time": "2021-05-11T08:43:01.164370Z",
     "start_time": "2021-05-11T08:43:01.160368Z"
    }
   },
   "outputs": [],
   "source": [
    "df.drop('Total exploitable water resources',axis=1,inplace=True)"
   ]
  },
  {
   "cell_type": "code",
   "execution_count": 8,
   "id": "699895c4",
   "metadata": {
    "ExecuteTime": {
     "end_time": "2021-05-11T08:43:01.175371Z",
     "start_time": "2021-05-11T08:43:01.166370Z"
    }
   },
   "outputs": [],
   "source": [
    "df.dropna(axis=0,inplace=True)"
   ]
  },
  {
   "cell_type": "code",
   "execution_count": 8,
   "id": "37092213",
   "metadata": {
    "ExecuteTime": {
     "end_time": "2021-05-11T08:43:01.182374Z",
     "start_time": "2021-05-11T08:43:01.176371Z"
    }
   },
   "outputs": [
    {
     "data": {
      "text/plain": [
       "Water stress (MDG)                                 0\n",
       "Water use efficiency (SDG)                         0\n",
       "Water stress (SDG)                                 0\n",
       "Temperature (°C)                                   0\n",
       "Total Rainfall (mm)                                0\n",
       "Total internal renewable water resources (IRWR)    0\n",
       "Total external renewable water resources (ERWR)    0\n",
       "Total renewable water resources                    0\n",
       "Dependency ratio                                   0\n",
       "dtype: int64"
      ]
     },
     "execution_count": 8,
     "metadata": {},
     "output_type": "execute_result"
    }
   ],
   "source": [
    "df.isna().sum()"
   ]
  },
  {
   "cell_type": "markdown",
   "id": "64da88bd",
   "metadata": {},
   "source": [
    "## Make Pipeline"
   ]
  },
  {
   "cell_type": "markdown",
   "id": "57c7aaa3",
   "metadata": {},
   "source": [
    "very simple for now, just to test the code"
   ]
  },
  {
   "cell_type": "code",
   "execution_count": 10,
   "id": "66f0fafb",
   "metadata": {
    "ExecuteTime": {
     "end_time": "2021-05-11T08:43:01.188375Z",
     "start_time": "2021-05-11T08:43:01.183373Z"
    }
   },
   "outputs": [],
   "source": [
    "X_train, X_test, y_train, y_test = train_test_split(df.iloc[:,3:-1], df.iloc[:,0:3],random_state=0)"
   ]
  },
  {
   "cell_type": "code",
   "execution_count": 11,
   "id": "90a09600",
   "metadata": {
    "ExecuteTime": {
     "end_time": "2021-05-11T08:43:01.198377Z",
     "start_time": "2021-05-11T08:43:01.189375Z"
    }
   },
   "outputs": [],
   "source": [
    "pipe = Pipeline([\n",
    "        ('scaler', StandardScaler()),\n",
    "        ('regressor', LinearRegression())\n",
    "        ])"
   ]
  },
  {
   "cell_type": "code",
   "execution_count": 12,
   "id": "351351f1",
   "metadata": {
    "ExecuteTime": {
     "end_time": "2021-05-11T08:43:01.228383Z",
     "start_time": "2021-05-11T08:43:01.199377Z"
    }
   },
   "outputs": [],
   "source": [
    "pipe = pipe.fit(X_train, y_train)"
   ]
  },
  {
   "cell_type": "markdown",
   "id": "e5c140af",
   "metadata": {},
   "source": [
    "### Model score"
   ]
  },
  {
   "cell_type": "code",
   "execution_count": 15,
   "id": "32453a15",
   "metadata": {
    "ExecuteTime": {
     "end_time": "2021-05-11T08:43:01.241386Z",
     "start_time": "2021-05-11T08:43:01.229383Z"
    }
   },
   "outputs": [
    {
     "data": {
      "text/html": [
       "<div>\n",
       "<style scoped>\n",
       "    .dataframe tbody tr th:only-of-type {\n",
       "        vertical-align: middle;\n",
       "    }\n",
       "\n",
       "    .dataframe tbody tr th {\n",
       "        vertical-align: top;\n",
       "    }\n",
       "\n",
       "    .dataframe thead th {\n",
       "        text-align: right;\n",
       "    }\n",
       "</style>\n",
       "<table border=\"1\" class=\"dataframe\">\n",
       "  <thead>\n",
       "    <tr style=\"text-align: right;\">\n",
       "      <th></th>\n",
       "      <th>Temperature (°C)</th>\n",
       "      <th>Total Rainfall (mm)</th>\n",
       "      <th>Total internal renewable water resources (IRWR)</th>\n",
       "      <th>Total external renewable water resources (ERWR)</th>\n",
       "      <th>Total renewable water resources</th>\n",
       "    </tr>\n",
       "    <tr>\n",
       "      <th>Country</th>\n",
       "      <th></th>\n",
       "      <th></th>\n",
       "      <th></th>\n",
       "      <th></th>\n",
       "      <th></th>\n",
       "    </tr>\n",
       "  </thead>\n",
       "  <tbody>\n",
       "    <tr>\n",
       "      <th>NAM</th>\n",
       "      <td>21.485713</td>\n",
       "      <td>252.683377</td>\n",
       "      <td>6.160</td>\n",
       "      <td>33.750</td>\n",
       "      <td>39.910</td>\n",
       "    </tr>\n",
       "    <tr>\n",
       "      <th>DEU</th>\n",
       "      <td>9.999084</td>\n",
       "      <td>691.319867</td>\n",
       "      <td>107.000</td>\n",
       "      <td>47.000</td>\n",
       "      <td>154.000</td>\n",
       "    </tr>\n",
       "    <tr>\n",
       "      <th>BTN</th>\n",
       "      <td>12.309546</td>\n",
       "      <td>1856.180683</td>\n",
       "      <td>78.000</td>\n",
       "      <td>0.000</td>\n",
       "      <td>78.000</td>\n",
       "    </tr>\n",
       "    <tr>\n",
       "      <th>NPL</th>\n",
       "      <td>12.695257</td>\n",
       "      <td>1078.428387</td>\n",
       "      <td>198.200</td>\n",
       "      <td>12.000</td>\n",
       "      <td>210.200</td>\n",
       "    </tr>\n",
       "    <tr>\n",
       "      <th>THA</th>\n",
       "      <td>26.990641</td>\n",
       "      <td>1479.298980</td>\n",
       "      <td>224.510</td>\n",
       "      <td>214.100</td>\n",
       "      <td>438.610</td>\n",
       "    </tr>\n",
       "    <tr>\n",
       "      <th>...</th>\n",
       "      <td>...</td>\n",
       "      <td>...</td>\n",
       "      <td>...</td>\n",
       "      <td>...</td>\n",
       "      <td>...</td>\n",
       "    </tr>\n",
       "    <tr>\n",
       "      <th>AZE</th>\n",
       "      <td>12.938749</td>\n",
       "      <td>422.767387</td>\n",
       "      <td>8.115</td>\n",
       "      <td>26.560</td>\n",
       "      <td>34.675</td>\n",
       "    </tr>\n",
       "    <tr>\n",
       "      <th>MRT</th>\n",
       "      <td>28.672631</td>\n",
       "      <td>106.935637</td>\n",
       "      <td>0.400</td>\n",
       "      <td>11.000</td>\n",
       "      <td>11.400</td>\n",
       "    </tr>\n",
       "    <tr>\n",
       "      <th>IDN</th>\n",
       "      <td>26.519830</td>\n",
       "      <td>2719.088133</td>\n",
       "      <td>2018.700</td>\n",
       "      <td>0.000</td>\n",
       "      <td>2018.700</td>\n",
       "    </tr>\n",
       "    <tr>\n",
       "      <th>PAN</th>\n",
       "      <td>26.036906</td>\n",
       "      <td>2098.729433</td>\n",
       "      <td>136.600</td>\n",
       "      <td>2.704</td>\n",
       "      <td>139.304</td>\n",
       "    </tr>\n",
       "    <tr>\n",
       "      <th>ESP</th>\n",
       "      <td>14.287639</td>\n",
       "      <td>587.480533</td>\n",
       "      <td>111.200</td>\n",
       "      <td>0.300</td>\n",
       "      <td>111.500</td>\n",
       "    </tr>\n",
       "  </tbody>\n",
       "</table>\n",
       "<p>122 rows × 5 columns</p>\n",
       "</div>"
      ],
      "text/plain": [
       "         Temperature (°C)  Total Rainfall (mm)  \\\n",
       "Country                                          \n",
       "NAM             21.485713           252.683377   \n",
       "DEU              9.999084           691.319867   \n",
       "BTN             12.309546          1856.180683   \n",
       "NPL             12.695257          1078.428387   \n",
       "THA             26.990641          1479.298980   \n",
       "...                   ...                  ...   \n",
       "AZE             12.938749           422.767387   \n",
       "MRT             28.672631           106.935637   \n",
       "IDN             26.519830          2719.088133   \n",
       "PAN             26.036906          2098.729433   \n",
       "ESP             14.287639           587.480533   \n",
       "\n",
       "         Total internal renewable water resources (IRWR)  \\\n",
       "Country                                                    \n",
       "NAM                                                6.160   \n",
       "DEU                                              107.000   \n",
       "BTN                                               78.000   \n",
       "NPL                                              198.200   \n",
       "THA                                              224.510   \n",
       "...                                                  ...   \n",
       "AZE                                                8.115   \n",
       "MRT                                                0.400   \n",
       "IDN                                             2018.700   \n",
       "PAN                                              136.600   \n",
       "ESP                                              111.200   \n",
       "\n",
       "         Total external renewable water resources (ERWR)  \\\n",
       "Country                                                    \n",
       "NAM                                               33.750   \n",
       "DEU                                               47.000   \n",
       "BTN                                                0.000   \n",
       "NPL                                               12.000   \n",
       "THA                                              214.100   \n",
       "...                                                  ...   \n",
       "AZE                                               26.560   \n",
       "MRT                                               11.000   \n",
       "IDN                                                0.000   \n",
       "PAN                                                2.704   \n",
       "ESP                                                0.300   \n",
       "\n",
       "         Total renewable water resources  \n",
       "Country                                   \n",
       "NAM                               39.910  \n",
       "DEU                              154.000  \n",
       "BTN                               78.000  \n",
       "NPL                              210.200  \n",
       "THA                              438.610  \n",
       "...                                  ...  \n",
       "AZE                               34.675  \n",
       "MRT                               11.400  \n",
       "IDN                             2018.700  \n",
       "PAN                              139.304  \n",
       "ESP                              111.500  \n",
       "\n",
       "[122 rows x 5 columns]"
      ]
     },
     "execution_count": 15,
     "metadata": {},
     "output_type": "execute_result"
    }
   ],
   "source": [
    "X_train"
   ]
  },
  {
   "cell_type": "markdown",
   "id": "05e12e84",
   "metadata": {},
   "source": [
    "### Coefficients"
   ]
  },
  {
   "cell_type": "code",
   "execution_count": 13,
   "id": "bd4e0c7c",
   "metadata": {
    "ExecuteTime": {
     "end_time": "2021-05-11T08:43:01.247388Z",
     "start_time": "2021-05-11T08:43:01.242386Z"
    },
    "scrolled": true
   },
   "outputs": [
    {
     "data": {
      "text/plain": [
       "array([[  89.95684796, -116.69994847,   15.77229681,  -23.69805531,\n",
       "           5.15117789],\n",
       "       [ -36.54521341,    6.22101378,  -15.39284375,   12.33140859,\n",
       "          -8.30499535],\n",
       "       [  89.13444184, -118.60360753,   15.90402695,  -24.1744363 ,\n",
       "           5.10966353]])"
      ]
     },
     "execution_count": 13,
     "metadata": {},
     "output_type": "execute_result"
    }
   ],
   "source": [
    "pipe.steps[1][1].coef_"
   ]
  },
  {
   "cell_type": "markdown",
   "id": "a44eeb10",
   "metadata": {},
   "source": [
    "### Plot Model"
   ]
  },
  {
   "cell_type": "code",
   "execution_count": 14,
   "id": "625f3278",
   "metadata": {
    "ExecuteTime": {
     "end_time": "2021-05-11T08:43:01.255389Z",
     "start_time": "2021-05-11T08:43:01.249388Z"
    }
   },
   "outputs": [],
   "source": [
    "y_model = pipe.predict(X_test)"
   ]
  },
  {
   "cell_type": "code",
   "execution_count": 15,
   "id": "434f8a2c",
   "metadata": {
    "ExecuteTime": {
     "end_time": "2021-05-11T08:43:01.425428Z",
     "start_time": "2021-05-11T08:43:01.256389Z"
    }
   },
   "outputs": [
    {
     "data": {
      "image/png": "[encoded data removed]",
      "text/plain": [
       "<Figure size 432x288 with 1 Axes>"
      ]
     },
     "metadata": {
      "needs_background": "light"
     },
     "output_type": "display_data"
    }
   ],
   "source": [
    "plt.scatter(y_test['Water stress (SDG)'], y_model[:,2], c='crimson')\n",
    "plt.xlabel('Observed')\n",
    "plt.ylabel('Predicted')\n",
    "plt.show()"
   ]
  },
  {
   "cell_type": "code",
   "execution_count": 16,
   "id": "99627bc0",
   "metadata": {
    "ExecuteTime": {
     "end_time": "2021-05-11T08:43:01.551757Z",
     "start_time": "2021-05-11T08:43:01.426428Z"
    }
   },
   "outputs": [
    {
     "data": {
      "image/png": "[encoded data removed]",
      "text/plain": [
       "<Figure size 432x288 with 1 Axes>"
      ]
     },
     "metadata": {
      "needs_background": "light"
     },
     "output_type": "display_data"
    }
   ],
   "source": [
    "plt.scatter(y_test['Water stress (MDG)'], y_model[:,0], c='crimson')\n",
    "plt.xlabel('Observed')\n",
    "plt.ylabel('Predicted')\n",
    "plt.show()"
   ]
  },
  {
   "cell_type": "code",
   "execution_count": 17,
   "id": "8165f279",
   "metadata": {
    "ExecuteTime": {
     "end_time": "2021-05-11T08:43:01.712793Z",
     "start_time": "2021-05-11T08:43:01.552757Z"
    }
   },
   "outputs": [
    {
     "data": {
      "image/png": "[encoded data removed]",
      "text/plain": [
       "<Figure size 432x288 with 1 Axes>"
      ]
     },
     "metadata": {
      "needs_background": "light"
     },
     "output_type": "display_data"
    }
   ],
   "source": [
    "plt.scatter(y_test['Water use efficiency (SDG)'], y_model[:,1], c='crimson')\n",
    "plt.xlabel('Observed')\n",
    "plt.ylabel('Predicted')\n",
    "plt.show()"
   ]
  },
  {
   "cell_type": "code",
   "execution_count": null,
   "id": "be8b466a",
   "metadata": {},
   "outputs": [],
   "source": []
  }
 ],
 "metadata": {
  "kernelspec": {
   "display_name": "Python 3",
   "language": "python",
   "name": "python3"
  },
  "language_info": {
   "codemirror_mode": {
    "name": "ipython",
    "version": 3
   },
   "file_extension": ".py",
   "mimetype": "text/x-python",
   "name": "python",
   "nbconvert_exporter": "python",
   "pygments_lexer": "ipython3",
   "version": "3.8.8"
  },
  "toc": {
   "base_numbering": 1,
   "nav_menu": {},
   "number_sections": false,
   "sideBar": true,
   "skip_h1_title": true,
   "title_cell": "Table of Contents",
   "title_sidebar": "Contents",
   "toc_cell": false,
   "toc_position": {},
   "toc_section_display": true,
   "toc_window_display": false
  },
  "varInspector": {
   "cols": {
    "lenName": 16,
    "lenType": 16,
    "lenVar": 40
   },
   "kernels_config": {
    "python": {
     "delete_cmd_postfix": "",
     "delete_cmd_prefix": "del ",
     "library": "var_list.py",
     "varRefreshCmd": "print(var_dic_list())"
    },
    "r": {
     "delete_cmd_postfix": ") ",
     "delete_cmd_prefix": "rm(",
     "library": "var_list.r",
     "varRefreshCmd": "cat(var_dic_list()) "
    }
   },
   "types_to_exclude": [
    "module",
    "function",
    "builtin_function_or_method",
    "instance",
    "_Feature"
   ],
   "window_display": false
  }
 },
 "nbformat": 4,
 "nbformat_minor": 5
}
