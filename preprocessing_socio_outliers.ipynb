{
 "cells": [
  {
   "cell_type": "markdown",
   "metadata": {},
   "source": [
    "### Data preprocessing \n",
    "\n",
    "\n",
    "#### 1. Exploratory analysis & Outlier detection\n",
    "\n"
   ]
  },
  {
   "cell_type": "code",
   "execution_count": 4,
   "metadata": {},
   "outputs": [],
   "source": [
    "import pandas as pd\n",
    "import numpy as np\n",
    "import seaborn as sns\n",
    "import matplotlib.pyplot as plt\n",
    "from sklearn.preprocessing import StandardScaler"
   ]
  },
  {
   "cell_type": "markdown",
   "metadata": {},
   "source": [
    "#### Load data\n",
    "\n",
    "1. AquaStat "
   ]
  },
  {
   "cell_type": "code",
   "execution_count": 5,
   "metadata": {},
   "outputs": [
    {
     "data": {
      "text/html": [
       "<div>\n",
       "<style scoped>\n",
       "    .dataframe tbody tr th:only-of-type {\n",
       "        vertical-align: middle;\n",
       "    }\n",
       "\n",
       "    .dataframe tbody tr th {\n",
       "        vertical-align: top;\n",
       "    }\n",
       "\n",
       "    .dataframe thead th {\n",
       "        text-align: right;\n",
       "    }\n",
       "</style>\n",
       "<table border=\"1\" class=\"dataframe\">\n",
       "  <thead>\n",
       "    <tr style=\"text-align: right;\">\n",
       "      <th></th>\n",
       "      <th>country</th>\n",
       "      <th>variable</th>\n",
       "      <th>1998-2002</th>\n",
       "      <th>2003-2007</th>\n",
       "      <th>2008-2012</th>\n",
       "      <th>2013-2017</th>\n",
       "    </tr>\n",
       "  </thead>\n",
       "  <tbody>\n",
       "    <tr>\n",
       "      <th>1387</th>\n",
       "      <td>NIC</td>\n",
       "      <td>Urban population (1000 inhab)</td>\n",
       "      <td>2869.477000</td>\n",
       "      <td>3110.511000</td>\n",
       "      <td>3368.137000</td>\n",
       "      <td>3624.780000</td>\n",
       "    </tr>\n",
       "    <tr>\n",
       "      <th>2181</th>\n",
       "      <td>ZMB</td>\n",
       "      <td>GDP per capita (current US$/inhab)</td>\n",
       "      <td>377.129939</td>\n",
       "      <td>1104.582234</td>\n",
       "      <td>1690.361466</td>\n",
       "      <td>1513.276090</td>\n",
       "    </tr>\n",
       "    <tr>\n",
       "      <th>2050</th>\n",
       "      <td>UGA</td>\n",
       "      <td>Human Development Index (HDI) [highest = 1] (-)</td>\n",
       "      <td>0.418000</td>\n",
       "      <td>0.457000</td>\n",
       "      <td>0.497000</td>\n",
       "      <td>0.522000</td>\n",
       "    </tr>\n",
       "    <tr>\n",
       "      <th>90</th>\n",
       "      <td>AUS</td>\n",
       "      <td>Population density (inhab/km2)</td>\n",
       "      <td>2.506242</td>\n",
       "      <td>2.701944</td>\n",
       "      <td>2.958700</td>\n",
       "      <td>3.175807</td>\n",
       "    </tr>\n",
       "    <tr>\n",
       "      <th>547</th>\n",
       "      <td>DJI</td>\n",
       "      <td>Rural population with access to safe drinking-...</td>\n",
       "      <td>62.600000</td>\n",
       "      <td>63.800000</td>\n",
       "      <td>64.700000</td>\n",
       "      <td>64.700000</td>\n",
       "    </tr>\n",
       "  </tbody>\n",
       "</table>\n",
       "</div>"
      ],
      "text/plain": [
       "     country                                           variable    1998-2002  \\\n",
       "1387     NIC                      Urban population (1000 inhab)  2869.477000   \n",
       "2181     ZMB                 GDP per capita (current US$/inhab)   377.129939   \n",
       "2050     UGA    Human Development Index (HDI) [highest = 1] (-)     0.418000   \n",
       "90       AUS                     Population density (inhab/km2)     2.506242   \n",
       "547      DJI  Rural population with access to safe drinking-...    62.600000   \n",
       "\n",
       "        2003-2007    2008-2012    2013-2017  \n",
       "1387  3110.511000  3368.137000  3624.780000  \n",
       "2181  1104.582234  1690.361466  1513.276090  \n",
       "2050     0.457000     0.497000     0.522000  \n",
       "90       2.701944     2.958700     3.175807  \n",
       "547     63.800000    64.700000    64.700000  "
      ]
     },
     "execution_count": 5,
     "metadata": {},
     "output_type": "execute_result"
    }
   ],
   "source": [
    "df = pd.read_csv('clean data/aqua_socec_clean.csv', index_col=0)\n",
    "df.sample(5)"
   ]
  },
  {
   "cell_type": "code",
   "execution_count": 6,
   "metadata": {},
   "outputs": [],
   "source": [
    "# rename year period to merge with water stress indicators\n",
    "df.rename(columns = {'country':'Country' ,\n",
    "                     '1998-2002':'2002', \n",
    "                     '2003-2007': '2007', \n",
    "                     '2008-2012': '2012',\n",
    "                     '2013-2017':'2017'}, inplace = True)"
   ]
  },
  {
   "cell_type": "markdown",
   "metadata": {},
   "source": [
    "2. Water stress data"
   ]
  },
  {
   "cell_type": "code",
   "execution_count": 7,
   "metadata": {},
   "outputs": [
    {
     "data": {
      "text/html": [
       "<div>\n",
       "<style scoped>\n",
       "    .dataframe tbody tr th:only-of-type {\n",
       "        vertical-align: middle;\n",
       "    }\n",
       "\n",
       "    .dataframe tbody tr th {\n",
       "        vertical-align: top;\n",
       "    }\n",
       "\n",
       "    .dataframe thead th {\n",
       "        text-align: right;\n",
       "    }\n",
       "</style>\n",
       "<table border=\"1\" class=\"dataframe\">\n",
       "  <thead>\n",
       "    <tr style=\"text-align: right;\">\n",
       "      <th></th>\n",
       "      <th>Country</th>\n",
       "      <th>Year</th>\n",
       "      <th>Water stress (MDG)</th>\n",
       "      <th>Water use efficiency (SDG)</th>\n",
       "      <th>Water stress (SDG)</th>\n",
       "    </tr>\n",
       "  </thead>\n",
       "  <tbody>\n",
       "    <tr>\n",
       "      <th>384</th>\n",
       "      <td>LUX</td>\n",
       "      <td>2007</td>\n",
       "      <td>1.421714</td>\n",
       "      <td>NaN</td>\n",
       "      <td>4.126036</td>\n",
       "    </tr>\n",
       "    <tr>\n",
       "      <th>28</th>\n",
       "      <td>AUS</td>\n",
       "      <td>2002</td>\n",
       "      <td>4.219773</td>\n",
       "      <td>NaN</td>\n",
       "      <td>8.347923</td>\n",
       "    </tr>\n",
       "    <tr>\n",
       "      <th>32</th>\n",
       "      <td>AUT</td>\n",
       "      <td>2002</td>\n",
       "      <td>4.603604</td>\n",
       "      <td>78.500721</td>\n",
       "      <td>9.883946</td>\n",
       "    </tr>\n",
       "    <tr>\n",
       "      <th>79</th>\n",
       "      <td>BOL</td>\n",
       "      <td>2007</td>\n",
       "      <td>0.361280</td>\n",
       "      <td>NaN</td>\n",
       "      <td>1.168967</td>\n",
       "    </tr>\n",
       "    <tr>\n",
       "      <th>27</th>\n",
       "      <td>ATG</td>\n",
       "      <td>2017</td>\n",
       "      <td>8.461538</td>\n",
       "      <td>109.839023</td>\n",
       "      <td>8.461538</td>\n",
       "    </tr>\n",
       "  </tbody>\n",
       "</table>\n",
       "</div>"
      ],
      "text/plain": [
       "    Country  Year  Water stress (MDG)  Water use efficiency (SDG)  \\\n",
       "384     LUX  2007            1.421714                         NaN   \n",
       "28      AUS  2002            4.219773                         NaN   \n",
       "32      AUT  2002            4.603604                   78.500721   \n",
       "79      BOL  2007            0.361280                         NaN   \n",
       "27      ATG  2017            8.461538                  109.839023   \n",
       "\n",
       "     Water stress (SDG)  \n",
       "384            4.126036  \n",
       "28             8.347923  \n",
       "32             9.883946  \n",
       "79             1.168967  \n",
       "27             8.461538  "
      ]
     },
     "execution_count": 7,
     "metadata": {},
     "output_type": "execute_result"
    }
   ],
   "source": [
    "df_ws = pd.read_csv('clean data/water_stress.csv')\n",
    "df_ws.sample(5)"
   ]
  },
  {
   "cell_type": "code",
   "execution_count": 8,
   "metadata": {},
   "outputs": [
    {
     "data": {
      "text/plain": [
       "array(['2002', '2007', '2012', '2017'], dtype=object)"
      ]
     },
     "execution_count": 8,
     "metadata": {},
     "output_type": "execute_result"
    }
   ],
   "source": [
    "df_ws[\"Year\"].unique()\n",
    "df_ws[\"Year\"] = df_ws[\"Year\"].astype(\"string\")\n",
    "df_ws[\"Year\"] = df_ws[\"Year\"].astype(\"object\")\n",
    "df_ws[\"Year\"].unique()"
   ]
  },
  {
   "cell_type": "markdown",
   "metadata": {},
   "source": [
    "3. UNICEF dataset"
   ]
  },
  {
   "cell_type": "code",
   "execution_count": 36,
   "metadata": {},
   "outputs": [
    {
     "data": {
      "text/html": [
       "<div>\n",
       "<style scoped>\n",
       "    .dataframe tbody tr th:only-of-type {\n",
       "        vertical-align: middle;\n",
       "    }\n",
       "\n",
       "    .dataframe tbody tr th {\n",
       "        vertical-align: top;\n",
       "    }\n",
       "\n",
       "    .dataframe thead th {\n",
       "        text-align: right;\n",
       "    }\n",
       "</style>\n",
       "<table border=\"1\" class=\"dataframe\">\n",
       "  <thead>\n",
       "    <tr style=\"text-align: right;\">\n",
       "      <th></th>\n",
       "      <th>Indicator</th>\n",
       "      <th>Country</th>\n",
       "      <th>Time</th>\n",
       "      <th>Value</th>\n",
       "    </tr>\n",
       "  </thead>\n",
       "  <tbody>\n",
       "    <tr>\n",
       "      <th>43880</th>\n",
       "      <td>GNI per capita, Atlas method (current US$)</td>\n",
       "      <td>LUX</td>\n",
       "      <td>2001</td>\n",
       "      <td>45630.0</td>\n",
       "    </tr>\n",
       "    <tr>\n",
       "      <th>68015</th>\n",
       "      <td>Life expectancy at birth, total (years)</td>\n",
       "      <td>SEN</td>\n",
       "      <td>2013</td>\n",
       "      <td>66.0</td>\n",
       "    </tr>\n",
       "    <tr>\n",
       "      <th>27494</th>\n",
       "      <td>GDP deflator (base year varies by country)</td>\n",
       "      <td>WSM</td>\n",
       "      <td>2004</td>\n",
       "      <td>73.6</td>\n",
       "    </tr>\n",
       "    <tr>\n",
       "      <th>119800</th>\n",
       "      <td>Official exchange rate (LCU per US$, period av...</td>\n",
       "      <td>MAR</td>\n",
       "      <td>2013</td>\n",
       "      <td>8.4</td>\n",
       "    </tr>\n",
       "    <tr>\n",
       "      <th>72824</th>\n",
       "      <td>Total population (thousands)</td>\n",
       "      <td>LKA</td>\n",
       "      <td>2004</td>\n",
       "      <td>19387.0</td>\n",
       "    </tr>\n",
       "  </tbody>\n",
       "</table>\n",
       "</div>"
      ],
      "text/plain": [
       "                                                Indicator Country  Time  \\\n",
       "43880          GNI per capita, Atlas method (current US$)     LUX  2001   \n",
       "68015             Life expectancy at birth, total (years)     SEN  2013   \n",
       "27494          GDP deflator (base year varies by country)     WSM  2004   \n",
       "119800  Official exchange rate (LCU per US$, period av...     MAR  2013   \n",
       "72824                        Total population (thousands)     LKA  2004   \n",
       "\n",
       "          Value  \n",
       "43880   45630.0  \n",
       "68015      66.0  \n",
       "27494      73.6  \n",
       "119800      8.4  \n",
       "72824   19387.0  "
      ]
     },
     "execution_count": 36,
     "metadata": {},
     "output_type": "execute_result"
    }
   ],
   "source": [
    "df_unif = pd.read_csv('clean data/unicef_socec_clean.csv', index_col=0)\n",
    "df_unif.sample(5)"
   ]
  },
  {
   "cell_type": "code",
   "execution_count": 37,
   "metadata": {},
   "outputs": [
    {
     "name": "stdout",
     "output_type": "stream",
     "text": [
      "<class 'pandas.core.frame.DataFrame'>\n",
      "Int64Index: 80784 entries, 0 to 133772\n",
      "Data columns (total 4 columns):\n",
      " #   Column     Non-Null Count  Dtype  \n",
      "---  ------     --------------  -----  \n",
      " 0   Indicator  80784 non-null  object \n",
      " 1   Country    80784 non-null  object \n",
      " 2   Time       80784 non-null  int64  \n",
      " 3   Value      80784 non-null  float64\n",
      "dtypes: float64(1), int64(1), object(2)\n",
      "memory usage: 3.1+ MB\n"
     ]
    }
   ],
   "source": [
    "df_unif.info()"
   ]
  },
  {
   "cell_type": "code",
   "execution_count": 13,
   "metadata": {},
   "outputs": [
    {
     "data": {
      "text/plain": [
       "<StringArray>\n",
       "[      'Rural population (1000 inhab)',       'Urban population (1000 inhab)',\n",
       "      'Population density (inhab/km2)',  'GDP per capita (current US$/inhab)',\n",
       " 'Human Development Index (HDI) [high', 'Total population with access to saf',\n",
       " 'Rural population with access to saf', 'Urban population with access to saf']\n",
       "Length: 8, dtype: string"
      ]
     },
     "execution_count": 13,
     "metadata": {},
     "output_type": "execute_result"
    }
   ],
   "source": [
    "# transform type indicators and slice length name\n",
    "df[\"variable\"] = df[\"variable\"].astype(\"string\")\n",
    "df['variable'].unique()\n",
    "df[\"variable\"] = df['variable'].str.slice(0,35)\n",
    "df['variable'].unique()"
   ]
  },
  {
   "cell_type": "code",
   "execution_count": 14,
   "metadata": {},
   "outputs": [
    {
     "name": "stdout",
     "output_type": "stream",
     "text": [
      "<class 'pandas.core.frame.DataFrame'>\n",
      "Int64Index: 1120 entries, 0 to 2187\n",
      "Data columns (total 6 columns):\n",
      " #   Column    Non-Null Count  Dtype  \n",
      "---  ------    --------------  -----  \n",
      " 0   Country   1120 non-null   object \n",
      " 1   variable  1120 non-null   string \n",
      " 2   2002      1120 non-null   float64\n",
      " 3   2007      1120 non-null   float64\n",
      " 4   2012      1120 non-null   float64\n",
      " 5   2017      1120 non-null   float64\n",
      "dtypes: float64(4), object(1), string(1)\n",
      "memory usage: 61.2+ KB\n"
     ]
    }
   ],
   "source": [
    "df.info()"
   ]
  },
  {
   "cell_type": "code",
   "execution_count": null,
   "metadata": {},
   "outputs": [],
   "source": [
    "# transform data aquastat long format (year as attribute)\n",
    "df_melt = pd.melt(df, id_vars=[\"Country\",\"variable\"], \n",
    "        var_name=\"Year\", \n",
    "        value_name=\"value\")\n",
    "df_melt.head(5)"
   ]
  },
  {
   "cell_type": "code",
   "execution_count": null,
   "metadata": {},
   "outputs": [],
   "source": [
    "# transform data aquastat wide format (indicators as attributes)\n",
    "df_piv = df_melt.pivot_table(values='value', \n",
    "                             index=['Year','Country'], \n",
    "                             columns='variable',\n",
    "                             fill_value=0)\n",
    "df_piv = df_piv.reset_index()"
   ]
  },
  {
   "cell_type": "code",
   "execution_count": null,
   "metadata": {},
   "outputs": [],
   "source": [
    "df_piv.head(5)"
   ]
  },
  {
   "cell_type": "code",
   "execution_count": null,
   "metadata": {},
   "outputs": [],
   "source": [
    "# merge aquastat with water stress. \n",
    "# left merge to only keep aquastat countries\n",
    "df_piv_ws = pd.merge(df_piv, df_ws, on=[\"Country\", \"Year\"], how='left')\n",
    "df_piv_ws.sample(5)"
   ]
  },
  {
   "cell_type": "code",
   "execution_count": null,
   "metadata": {},
   "outputs": [],
   "source": [
    "# Distribution per indicator en time period\n",
    "#variable = df['variable'].unique()\n",
    "\n",
    "variable = df_piv_ws.columns[2:]\n",
    "\n",
    "for i in variable:\n",
    "    plt.figure(figsize=(10,4))\n",
    "    sns.boxplot(data = df_piv_ws, x = i ,y ='Year', width=0.5)\n",
    "    plt.title((\"Distribution of\", i)) "
   ]
  },
  {
   "cell_type": "code",
   "execution_count": null,
   "metadata": {},
   "outputs": [],
   "source": [
    "# quick check for one time period\n",
    "df_p = df[['Country','variable','2017']]\n",
    "# df_p.head(10)"
   ]
  },
  {
   "cell_type": "code",
   "execution_count": null,
   "metadata": {},
   "outputs": [],
   "source": [
    "# df_p.describe()"
   ]
  },
  {
   "cell_type": "code",
   "execution_count": null,
   "metadata": {},
   "outputs": [],
   "source": [
    "df_p = df_p.pivot('Country','variable','2017')\n",
    "#corr_data = df_p.corr()"
   ]
  },
  {
   "cell_type": "code",
   "execution_count": null,
   "metadata": {},
   "outputs": [],
   "source": [
    "# transform variables (std) before heatmap\n",
    "scaler = StandardScaler()\n",
    "# get numeric data\n",
    "\n",
    "num_d = df_p.select_dtypes(include=['float64'])\n",
    "\n",
    "# update the cols with their normalized values\n",
    "df_p[num_d.columns] = scaler.fit_transform(num_d)"
   ]
  },
  {
   "cell_type": "code",
   "execution_count": null,
   "metadata": {},
   "outputs": [],
   "source": [
    "plt.subplots(figsize=(6,.2*(len(df_p.index))))\n",
    "sns.heatmap(df_p,      \n",
    "            cbar_kws={'fraction' : 0.08}, # shrink colour bar\n",
    "            cmap='OrRd', # use orange/red colour map\n",
    "            linewidth=1)"
   ]
  },
  {
   "cell_type": "code",
   "execution_count": null,
   "metadata": {},
   "outputs": [],
   "source": [
    "sns.clustermap(df_p, \n",
    "               linewidth=0.05,\n",
    "               cmap='OrRd',\n",
    "               figsize=(9,(.18*(len(df_p.index)))),\n",
    "               cbar_pos=(1.05, .2, .03, .4))\n",
    "\n",
    "# Rural & total pop with access to water \n",
    "# Rutal & total pop per 1000 habs same: decide which to drop\n"
   ]
  },
  {
   "cell_type": "code",
   "execution_count": null,
   "metadata": {},
   "outputs": [],
   "source": [
    "sns.pairplot(df_p,kind=\"reg\", plot_kws={'line_kws':{'color':'red'}})"
   ]
  },
  {
   "cell_type": "code",
   "execution_count": null,
   "metadata": {},
   "outputs": [],
   "source": [
    "#sns.pairplot(df_p,kind=\"reg\")\n",
    "#plot_kws={'line_kws':{'color':'red'}})"
   ]
  },
  {
   "cell_type": "markdown",
   "metadata": {},
   "source": [
    "### Exploratory analysis AquaStat and Water Stress\n",
    "\n",
    "\n"
   ]
  },
  {
   "cell_type": "code",
   "execution_count": null,
   "metadata": {},
   "outputs": [],
   "source": [
    "# Exploratory analysis aquastat and ws (one time period)\n",
    "df_piv_ws_17 = df_piv_ws.loc[df_piv_ws.Year == '2017']\n",
    "df_piv_ws_17.sample(5)"
   ]
  },
  {
   "cell_type": "code",
   "execution_count": null,
   "metadata": {},
   "outputs": [],
   "source": [
    "df_piv_ws_17.describe()"
   ]
  },
  {
   "cell_type": "code",
   "execution_count": null,
   "metadata": {},
   "outputs": [],
   "source": [
    "df_piv_ws_17.nlargest(5,'Water use efficiency (SDG)')\n",
    "# looking above boxplot per year Water eff for luxemburg might be an outlier "
   ]
  },
  {
   "cell_type": "code",
   "execution_count": null,
   "metadata": {},
   "outputs": [],
   "source": [
    "df_piv_ws_17.nlargest(5,'GDP per capita (current US$/inhab)')\n",
    "# Luxemburg has low population density and largest water use efficiency + highest GDP "
   ]
  },
  {
   "cell_type": "code",
   "execution_count": null,
   "metadata": {},
   "outputs": [],
   "source": [
    "df_piv_ws_17.nlargest(5,'Water stress (MDG)')"
   ]
  },
  {
   "cell_type": "code",
   "execution_count": null,
   "metadata": {},
   "outputs": [],
   "source": [
    "corr_data = df_piv_ws_17.corr()"
   ]
  },
  {
   "cell_type": "code",
   "execution_count": null,
   "metadata": {},
   "outputs": [],
   "source": [
    "sns.heatmap(corr_data,\n",
    "           linewidths=.5)\n",
    "\n",
    "# drop: - Rural or urban pop with access to saf\n",
    "#       - WS (MDG) or (SDG)\n",
    "#       - Rural & Urban pop(1000 inhab) "
   ]
  },
  {
   "cell_type": "code",
   "execution_count": null,
   "metadata": {},
   "outputs": [],
   "source": [
    "df_keep = df_piv_ws_17.loc[:, ~df_piv_ws_17.columns.isin(['Rural population with access to saf',\n",
    "                                       'Water stress (MDG)',\n",
    "                                       'Urban population (1000 inhab)'])]\n",
    "sns.pairplot(df_keep,kind=\"reg\")\n",
    "#plot_kws={'line_kws':{'color':'red'}})"
   ]
  },
  {
   "cell_type": "code",
   "execution_count": null,
   "metadata": {},
   "outputs": [],
   "source": [
    "# After removing LUX\n",
    "\n",
    "#g.set(xscale=\"log\", yscale = \"log\")\n",
    "\n",
    "df_replot = df_piv_ws_17.loc[~((df_piv_ws_17['Country'] == 'LUX')),:]\n",
    "g = sns.relplot(x=\"Population density (inhab/km2)\", y='Water use efficiency (SDG)',\n",
    "               size=\"Population density (inhab/km2)\",\n",
    "                hue = 'Human Development Index (HDI) [high',\n",
    "                alpha =0.3,\n",
    "      #          style=\"event\",\n",
    "      #          col=\"country\",\n",
    "                height=8, aspect=.8, \n",
    "                #kind=\"line\", \n",
    "              sizes=(0,0.5*max(df_replot[\"Population density (inhab/km2)\"])),\n",
    "                data=df_replot)\n",
    "\n"
   ]
  },
  {
   "cell_type": "code",
   "execution_count": null,
   "metadata": {},
   "outputs": [],
   "source": [
    "g = sns.relplot(x=\"GDP per capita (current US$/inhab)\", y='Water use efficiency (SDG)',\n",
    "                size=\"Population density (inhab/km2)\",\n",
    "                hue = 'Human Development Index (HDI) [high',\n",
    "                alpha =0.3,\n",
    "      #         style=\"event\",\n",
    "      #         col=\"country\",\n",
    "                height=5, aspect=.8, \n",
    "                #kind=\"line\", \n",
    "                sizes=(0,0.5*max(df_piv_ws_17[\"Population density (inhab/km2)\"])),\n",
    "                data=df_piv_ws_17)"
   ]
  },
  {
   "cell_type": "markdown",
   "metadata": {},
   "source": [
    "3. Exploratory UNICEF dataset"
   ]
  },
  {
   "cell_type": "code",
   "execution_count": 20,
   "metadata": {},
   "outputs": [
    {
     "data": {
      "text/plain": [
       "Indicator    0\n",
       "Country      0\n",
       "Time         0\n",
       "Value        0\n",
       "dtype: int64"
      ]
     },
     "execution_count": 20,
     "metadata": {},
     "output_type": "execute_result"
    }
   ],
   "source": [
    "df_unif.isnull().sum()"
   ]
  },
  {
   "cell_type": "code",
   "execution_count": 21,
   "metadata": {},
   "outputs": [
    {
     "data": {
      "text/plain": [
       "array(['Fertility rate, total (births per woman)',\n",
       "       'Life expectancy at birth, total (years)',\n",
       "       'Mortality rate, infant (per 1,000 live births)',\n",
       "       'Population growth (annual %)',\n",
       "       'Prevalence of HIV, total (% of population ages 15-49)',\n",
       "       'GDP (current LCU)', 'GDP (current US$)',\n",
       "       'GDP deflator (base year varies by country)',\n",
       "       'GDP growth (annual %)', 'GDP per capita (current US$)',\n",
       "       'GDP per capita, PPP (current international $)',\n",
       "       'GDP, PPP (current international $)',\n",
       "       'General government total expenditure (current LCU)',\n",
       "       'GNI per capita, Atlas method (current US$)',\n",
       "       'GNI per capita, PPP (current international $)',\n",
       "       'PPP conversion factor, GDP (LCU per international $)',\n",
       "       'Total debt service (% of GNI)',\n",
       "       'Population aged 25-64 years (thousands) ',\n",
       "       'Total population (thousands)', 'GNI per capita (current LCU)',\n",
       "       'GDP (constant LCU)',\n",
       "       'Official exchange rate (LCU per US$, period average)',\n",
       "       'DEC alternative conversion factor (LCU per US$)',\n",
       "       'GDP at market prices (constant 2010 US$)',\n",
       "       'PPP conversion factor, private consumption (LCU per international $)',\n",
       "       'GDP per capita, PPP (constant 2011 international $)',\n",
       "       'GNI (current LCU)', 'GDP, PPP (constant 2011 international $)',\n",
       "       'GDP per capita (current LCU)',\n",
       "       'Price level ratio of PPP conversion factor (GDP) to market exchange rate'],\n",
       "      dtype=object)"
      ]
     },
     "execution_count": 21,
     "metadata": {},
     "output_type": "execute_result"
    }
   ],
   "source": [
    "# UNICEF includes 30 indicators fot 21 years.\n",
    "df_unif[\"Indicator\"].unique()"
   ]
  },
  {
   "cell_type": "code",
   "execution_count": 38,
   "metadata": {},
   "outputs": [
    {
     "data": {
      "text/html": [
       "<div>\n",
       "<style scoped>\n",
       "    .dataframe tbody tr th:only-of-type {\n",
       "        vertical-align: middle;\n",
       "    }\n",
       "\n",
       "    .dataframe tbody tr th {\n",
       "        vertical-align: top;\n",
       "    }\n",
       "\n",
       "    .dataframe thead th {\n",
       "        text-align: right;\n",
       "    }\n",
       "</style>\n",
       "<table border=\"1\" class=\"dataframe\">\n",
       "  <thead>\n",
       "    <tr style=\"text-align: right;\">\n",
       "      <th></th>\n",
       "      <th>Indicator</th>\n",
       "      <th>Country</th>\n",
       "      <th>Time</th>\n",
       "      <th>Value</th>\n",
       "    </tr>\n",
       "  </thead>\n",
       "  <tbody>\n",
       "    <tr>\n",
       "      <th>124395</th>\n",
       "      <td>GDP (constant LCU)</td>\n",
       "      <td>TZA</td>\n",
       "      <td>2017</td>\n",
       "      <td>1.076703e+14</td>\n",
       "    </tr>\n",
       "    <tr>\n",
       "      <th>78576</th>\n",
       "      <td>Total population (thousands)</td>\n",
       "      <td>MEX</td>\n",
       "      <td>2017</td>\n",
       "      <td>1.247770e+05</td>\n",
       "    </tr>\n",
       "    <tr>\n",
       "      <th>129141</th>\n",
       "      <td>Official exchange rate (LCU per US$, period av...</td>\n",
       "      <td>GBR</td>\n",
       "      <td>2017</td>\n",
       "      <td>8.000000e-01</td>\n",
       "    </tr>\n",
       "    <tr>\n",
       "      <th>43214</th>\n",
       "      <td>General government total expenditure (current ...</td>\n",
       "      <td>WSM</td>\n",
       "      <td>2017</td>\n",
       "      <td>6.610000e+08</td>\n",
       "    </tr>\n",
       "  </tbody>\n",
       "</table>\n",
       "</div>"
      ],
      "text/plain": [
       "                                                Indicator Country  Time  \\\n",
       "124395                                 GDP (constant LCU)     TZA  2017   \n",
       "78576                        Total population (thousands)     MEX  2017   \n",
       "129141  Official exchange rate (LCU per US$, period av...     GBR  2017   \n",
       "43214   General government total expenditure (current ...     WSM  2017   \n",
       "\n",
       "               Value  \n",
       "124395  1.076703e+14  \n",
       "78576   1.247770e+05  \n",
       "129141  8.000000e-01  \n",
       "43214   6.610000e+08  "
      ]
     },
     "execution_count": 38,
     "metadata": {},
     "output_type": "execute_result"
    }
   ],
   "source": [
    "# Filter only 2017\n",
    "df_unif['Time'] = df_unif['Time'].astype('string') \n",
    "df_unif = df_unif.loc[df_unif.Time == '2017']\n",
    "df_unif.sample(4)"
   ]
  },
  {
   "cell_type": "code",
   "execution_count": 40,
   "metadata": {},
   "outputs": [],
   "source": [
    "# transform data wide format (indicators as attributes)\n",
    "df_unif_p = df_unif.pivot_table(values='Value', \n",
    "                             index=['Time','Country'], \n",
    "                             columns='Indicator',\n",
    "                             fill_value=0)\n",
    "df_unif_p = df_unif_p.reset_index()"
   ]
  },
  {
   "cell_type": "code",
   "execution_count": 41,
   "metadata": {},
   "outputs": [
    {
     "data": {
      "text/html": [
       "<div>\n",
       "<style scoped>\n",
       "    .dataframe tbody tr th:only-of-type {\n",
       "        vertical-align: middle;\n",
       "    }\n",
       "\n",
       "    .dataframe tbody tr th {\n",
       "        vertical-align: top;\n",
       "    }\n",
       "\n",
       "    .dataframe thead th {\n",
       "        text-align: right;\n",
       "    }\n",
       "</style>\n",
       "<table border=\"1\" class=\"dataframe\">\n",
       "  <thead>\n",
       "    <tr style=\"text-align: right;\">\n",
       "      <th>Indicator</th>\n",
       "      <th>DEC alternative conversion factor (LCU per US$)</th>\n",
       "      <th>Fertility rate, total (births per woman)</th>\n",
       "      <th>GDP (constant LCU)</th>\n",
       "      <th>GDP (current LCU)</th>\n",
       "      <th>GDP (current US$)</th>\n",
       "      <th>GDP at market prices (constant 2010 US$)</th>\n",
       "      <th>GDP deflator (base year varies by country)</th>\n",
       "      <th>GDP growth (annual %)</th>\n",
       "      <th>GDP per capita (current LCU)</th>\n",
       "      <th>GDP per capita (current US$)</th>\n",
       "      <th>...</th>\n",
       "      <th>Mortality rate, infant (per 1,000 live births)</th>\n",
       "      <th>Official exchange rate (LCU per US$, period average)</th>\n",
       "      <th>PPP conversion factor, GDP (LCU per international $)</th>\n",
       "      <th>PPP conversion factor, private consumption (LCU per international $)</th>\n",
       "      <th>Population aged 25-64 years (thousands)</th>\n",
       "      <th>Population growth (annual %)</th>\n",
       "      <th>Prevalence of HIV, total (% of population ages 15-49)</th>\n",
       "      <th>Price level ratio of PPP conversion factor (GDP) to market exchange rate</th>\n",
       "      <th>Total debt service (% of GNI)</th>\n",
       "      <th>Total population (thousands)</th>\n",
       "    </tr>\n",
       "  </thead>\n",
       "  <tbody>\n",
       "    <tr>\n",
       "      <th>count</th>\n",
       "      <td>140.000000</td>\n",
       "      <td>140.000000</td>\n",
       "      <td>1.400000e+02</td>\n",
       "      <td>1.400000e+02</td>\n",
       "      <td>1.400000e+02</td>\n",
       "      <td>1.400000e+02</td>\n",
       "      <td>140.000000</td>\n",
       "      <td>140.000000</td>\n",
       "      <td>1.400000e+02</td>\n",
       "      <td>140.000000</td>\n",
       "      <td>...</td>\n",
       "      <td>140.000000</td>\n",
       "      <td>140.000000</td>\n",
       "      <td>140.000000</td>\n",
       "      <td>140.000000</td>\n",
       "      <td>140.000000</td>\n",
       "      <td>140.000000</td>\n",
       "      <td>140.000000</td>\n",
       "      <td>140.000000</td>\n",
       "      <td>140.000000</td>\n",
       "      <td>1.400000e+02</td>\n",
       "    </tr>\n",
       "    <tr>\n",
       "      <th>mean</th>\n",
       "      <td>1037.171429</td>\n",
       "      <td>2.836429</td>\n",
       "      <td>1.769199e+14</td>\n",
       "      <td>2.808071e+14</td>\n",
       "      <td>4.813167e+11</td>\n",
       "      <td>4.642023e+11</td>\n",
       "      <td>219.968571</td>\n",
       "      <td>3.552143</td>\n",
       "      <td>3.685866e+06</td>\n",
       "      <td>13012.821429</td>\n",
       "      <td>...</td>\n",
       "      <td>23.257143</td>\n",
       "      <td>1031.435000</td>\n",
       "      <td>381.063286</td>\n",
       "      <td>398.356429</td>\n",
       "      <td>23578.650000</td>\n",
       "      <td>1.542857</td>\n",
       "      <td>1.440000</td>\n",
       "      <td>0.522143</td>\n",
       "      <td>2.819286</td>\n",
       "      <td>4.745544e+04</td>\n",
       "    </tr>\n",
       "    <tr>\n",
       "      <th>std</th>\n",
       "      <td>3841.591960</td>\n",
       "      <td>1.315935</td>\n",
       "      <td>1.072923e+15</td>\n",
       "      <td>1.774900e+15</td>\n",
       "      <td>1.996021e+12</td>\n",
       "      <td>1.772991e+12</td>\n",
       "      <td>464.207899</td>\n",
       "      <td>3.402992</td>\n",
       "      <td>1.764413e+07</td>\n",
       "      <td>19058.949947</td>\n",
       "      <td>...</td>\n",
       "      <td>19.745274</td>\n",
       "      <td>3767.690189</td>\n",
       "      <td>1393.541448</td>\n",
       "      <td>1479.881806</td>\n",
       "      <td>91074.664165</td>\n",
       "      <td>1.200428</td>\n",
       "      <td>3.911315</td>\n",
       "      <td>0.241121</td>\n",
       "      <td>4.433309</td>\n",
       "      <td>1.681159e+05</td>\n",
       "    </tr>\n",
       "    <tr>\n",
       "      <th>min</th>\n",
       "      <td>0.000000</td>\n",
       "      <td>0.000000</td>\n",
       "      <td>0.000000e+00</td>\n",
       "      <td>2.443580e+08</td>\n",
       "      <td>0.000000e+00</td>\n",
       "      <td>0.000000e+00</td>\n",
       "      <td>0.000000</td>\n",
       "      <td>-5.700000</td>\n",
       "      <td>2.141000e+03</td>\n",
       "      <td>0.000000</td>\n",
       "      <td>...</td>\n",
       "      <td>2.000000</td>\n",
       "      <td>0.000000</td>\n",
       "      <td>0.000000</td>\n",
       "      <td>0.000000</td>\n",
       "      <td>0.000000</td>\n",
       "      <td>-2.200000</td>\n",
       "      <td>0.000000</td>\n",
       "      <td>0.000000</td>\n",
       "      <td>0.000000</td>\n",
       "      <td>0.000000e+00</td>\n",
       "    </tr>\n",
       "    <tr>\n",
       "      <th>25%</th>\n",
       "      <td>1.925000</td>\n",
       "      <td>1.800000</td>\n",
       "      <td>6.982886e+10</td>\n",
       "      <td>1.652387e+11</td>\n",
       "      <td>1.150203e+10</td>\n",
       "      <td>1.230110e+10</td>\n",
       "      <td>103.425000</td>\n",
       "      <td>1.975000</td>\n",
       "      <td>3.087775e+04</td>\n",
       "      <td>1570.000000</td>\n",
       "      <td>...</td>\n",
       "      <td>7.000000</td>\n",
       "      <td>2.075000</td>\n",
       "      <td>1.150000</td>\n",
       "      <td>1.250000</td>\n",
       "      <td>1576.750000</td>\n",
       "      <td>0.800000</td>\n",
       "      <td>0.000000</td>\n",
       "      <td>0.400000</td>\n",
       "      <td>0.000000</td>\n",
       "      <td>2.939000e+03</td>\n",
       "    </tr>\n",
       "    <tr>\n",
       "      <th>50%</th>\n",
       "      <td>16.000000</td>\n",
       "      <td>2.400000</td>\n",
       "      <td>1.198472e+12</td>\n",
       "      <td>1.863736e+12</td>\n",
       "      <td>3.851408e+10</td>\n",
       "      <td>3.693462e+10</td>\n",
       "      <td>114.950000</td>\n",
       "      <td>3.700000</td>\n",
       "      <td>9.042850e+04</td>\n",
       "      <td>4190.000000</td>\n",
       "      <td>...</td>\n",
       "      <td>17.000000</td>\n",
       "      <td>18.150000</td>\n",
       "      <td>8.065000</td>\n",
       "      <td>8.750000</td>\n",
       "      <td>4665.000000</td>\n",
       "      <td>1.400000</td>\n",
       "      <td>0.200000</td>\n",
       "      <td>0.500000</td>\n",
       "      <td>1.200000</td>\n",
       "      <td>1.069800e+04</td>\n",
       "    </tr>\n",
       "    <tr>\n",
       "      <th>75%</th>\n",
       "      <td>570.800000</td>\n",
       "      <td>3.825000</td>\n",
       "      <td>7.437766e+12</td>\n",
       "      <td>1.247587e+13</td>\n",
       "      <td>2.266772e+11</td>\n",
       "      <td>2.220739e+11</td>\n",
       "      <td>174.325000</td>\n",
       "      <td>4.850000</td>\n",
       "      <td>6.222692e+05</td>\n",
       "      <td>15259.250000</td>\n",
       "      <td>...</td>\n",
       "      <td>36.000000</td>\n",
       "      <td>570.800000</td>\n",
       "      <td>210.197500</td>\n",
       "      <td>207.350000</td>\n",
       "      <td>14221.750000</td>\n",
       "      <td>2.500000</td>\n",
       "      <td>0.825000</td>\n",
       "      <td>0.600000</td>\n",
       "      <td>4.225000</td>\n",
       "      <td>3.157300e+04</td>\n",
       "    </tr>\n",
       "    <tr>\n",
       "      <th>max</th>\n",
       "      <td>34392.500000</td>\n",
       "      <td>7.000000</td>\n",
       "      <td>9.912928e+15</td>\n",
       "      <td>1.531653e+16</td>\n",
       "      <td>1.948539e+13</td>\n",
       "      <td>1.734863e+13</td>\n",
       "      <td>4069.400000</td>\n",
       "      <td>26.700000</td>\n",
       "      <td>1.898572e+08</td>\n",
       "      <td>107627.000000</td>\n",
       "      <td>...</td>\n",
       "      <td>86.000000</td>\n",
       "      <td>33226.300000</td>\n",
       "      <td>13061.290000</td>\n",
       "      <td>13944.900000</td>\n",
       "      <td>843003.000000</td>\n",
       "      <td>4.700000</td>\n",
       "      <td>28.400000</td>\n",
       "      <td>1.300000</td>\n",
       "      <td>37.700000</td>\n",
       "      <td>1.421022e+06</td>\n",
       "    </tr>\n",
       "  </tbody>\n",
       "</table>\n",
       "<p>8 rows × 30 columns</p>\n",
       "</div>"
      ],
      "text/plain": [
       "Indicator  DEC alternative conversion factor (LCU per US$)  \\\n",
       "count                                           140.000000   \n",
       "mean                                           1037.171429   \n",
       "std                                            3841.591960   \n",
       "min                                               0.000000   \n",
       "25%                                               1.925000   \n",
       "50%                                              16.000000   \n",
       "75%                                             570.800000   \n",
       "max                                           34392.500000   \n",
       "\n",
       "Indicator  Fertility rate, total (births per woman)  GDP (constant LCU)  \\\n",
       "count                                    140.000000        1.400000e+02   \n",
       "mean                                       2.836429        1.769199e+14   \n",
       "std                                        1.315935        1.072923e+15   \n",
       "min                                        0.000000        0.000000e+00   \n",
       "25%                                        1.800000        6.982886e+10   \n",
       "50%                                        2.400000        1.198472e+12   \n",
       "75%                                        3.825000        7.437766e+12   \n",
       "max                                        7.000000        9.912928e+15   \n",
       "\n",
       "Indicator  GDP (current LCU)  GDP (current US$)  \\\n",
       "count           1.400000e+02       1.400000e+02   \n",
       "mean            2.808071e+14       4.813167e+11   \n",
       "std             1.774900e+15       1.996021e+12   \n",
       "min             2.443580e+08       0.000000e+00   \n",
       "25%             1.652387e+11       1.150203e+10   \n",
       "50%             1.863736e+12       3.851408e+10   \n",
       "75%             1.247587e+13       2.266772e+11   \n",
       "max             1.531653e+16       1.948539e+13   \n",
       "\n",
       "Indicator  GDP at market prices (constant 2010 US$)  \\\n",
       "count                                  1.400000e+02   \n",
       "mean                                   4.642023e+11   \n",
       "std                                    1.772991e+12   \n",
       "min                                    0.000000e+00   \n",
       "25%                                    1.230110e+10   \n",
       "50%                                    3.693462e+10   \n",
       "75%                                    2.220739e+11   \n",
       "max                                    1.734863e+13   \n",
       "\n",
       "Indicator  GDP deflator (base year varies by country)  GDP growth (annual %)  \\\n",
       "count                                      140.000000             140.000000   \n",
       "mean                                       219.968571               3.552143   \n",
       "std                                        464.207899               3.402992   \n",
       "min                                          0.000000              -5.700000   \n",
       "25%                                        103.425000               1.975000   \n",
       "50%                                        114.950000               3.700000   \n",
       "75%                                        174.325000               4.850000   \n",
       "max                                       4069.400000              26.700000   \n",
       "\n",
       "Indicator  GDP per capita (current LCU)  GDP per capita (current US$)  ...  \\\n",
       "count                      1.400000e+02                    140.000000  ...   \n",
       "mean                       3.685866e+06                  13012.821429  ...   \n",
       "std                        1.764413e+07                  19058.949947  ...   \n",
       "min                        2.141000e+03                      0.000000  ...   \n",
       "25%                        3.087775e+04                   1570.000000  ...   \n",
       "50%                        9.042850e+04                   4190.000000  ...   \n",
       "75%                        6.222692e+05                  15259.250000  ...   \n",
       "max                        1.898572e+08                 107627.000000  ...   \n",
       "\n",
       "Indicator  Mortality rate, infant (per 1,000 live births)  \\\n",
       "count                                          140.000000   \n",
       "mean                                            23.257143   \n",
       "std                                             19.745274   \n",
       "min                                              2.000000   \n",
       "25%                                              7.000000   \n",
       "50%                                             17.000000   \n",
       "75%                                             36.000000   \n",
       "max                                             86.000000   \n",
       "\n",
       "Indicator  Official exchange rate (LCU per US$, period average)  \\\n",
       "count                                             140.000000      \n",
       "mean                                             1031.435000      \n",
       "std                                              3767.690189      \n",
       "min                                                 0.000000      \n",
       "25%                                                 2.075000      \n",
       "50%                                                18.150000      \n",
       "75%                                               570.800000      \n",
       "max                                             33226.300000      \n",
       "\n",
       "Indicator  PPP conversion factor, GDP (LCU per international $)  \\\n",
       "count                                             140.000000      \n",
       "mean                                              381.063286      \n",
       "std                                              1393.541448      \n",
       "min                                                 0.000000      \n",
       "25%                                                 1.150000      \n",
       "50%                                                 8.065000      \n",
       "75%                                               210.197500      \n",
       "max                                             13061.290000      \n",
       "\n",
       "Indicator  PPP conversion factor, private consumption (LCU per international $)  \\\n",
       "count                                             140.000000                      \n",
       "mean                                              398.356429                      \n",
       "std                                              1479.881806                      \n",
       "min                                                 0.000000                      \n",
       "25%                                                 1.250000                      \n",
       "50%                                                 8.750000                      \n",
       "75%                                               207.350000                      \n",
       "max                                             13944.900000                      \n",
       "\n",
       "Indicator  Population aged 25-64 years (thousands)   \\\n",
       "count                                    140.000000   \n",
       "mean                                   23578.650000   \n",
       "std                                    91074.664165   \n",
       "min                                        0.000000   \n",
       "25%                                     1576.750000   \n",
       "50%                                     4665.000000   \n",
       "75%                                    14221.750000   \n",
       "max                                   843003.000000   \n",
       "\n",
       "Indicator  Population growth (annual %)  \\\n",
       "count                        140.000000   \n",
       "mean                           1.542857   \n",
       "std                            1.200428   \n",
       "min                           -2.200000   \n",
       "25%                            0.800000   \n",
       "50%                            1.400000   \n",
       "75%                            2.500000   \n",
       "max                            4.700000   \n",
       "\n",
       "Indicator  Prevalence of HIV, total (% of population ages 15-49)  \\\n",
       "count                                             140.000000       \n",
       "mean                                                1.440000       \n",
       "std                                                 3.911315       \n",
       "min                                                 0.000000       \n",
       "25%                                                 0.000000       \n",
       "50%                                                 0.200000       \n",
       "75%                                                 0.825000       \n",
       "max                                                28.400000       \n",
       "\n",
       "Indicator  Price level ratio of PPP conversion factor (GDP) to market exchange rate  \\\n",
       "count                                             140.000000                          \n",
       "mean                                                0.522143                          \n",
       "std                                                 0.241121                          \n",
       "min                                                 0.000000                          \n",
       "25%                                                 0.400000                          \n",
       "50%                                                 0.500000                          \n",
       "75%                                                 0.600000                          \n",
       "max                                                 1.300000                          \n",
       "\n",
       "Indicator  Total debt service (% of GNI)  Total population (thousands)  \n",
       "count                         140.000000                  1.400000e+02  \n",
       "mean                            2.819286                  4.745544e+04  \n",
       "std                             4.433309                  1.681159e+05  \n",
       "min                             0.000000                  0.000000e+00  \n",
       "25%                             0.000000                  2.939000e+03  \n",
       "50%                             1.200000                  1.069800e+04  \n",
       "75%                             4.225000                  3.157300e+04  \n",
       "max                            37.700000                  1.421022e+06  \n",
       "\n",
       "[8 rows x 30 columns]"
      ]
     },
     "execution_count": 41,
     "metadata": {},
     "output_type": "execute_result"
    }
   ],
   "source": [
    "df_unif_p.describe()"
   ]
  }
 ],
 "metadata": {
  "kernelspec": {
   "display_name": "Python 3",
   "language": "python",
   "name": "python3"
  },
  "language_info": {
   "codemirror_mode": {
    "name": "ipython",
    "version": 3
   },
   "file_extension": ".py",
   "mimetype": "text/x-python",
   "name": "python",
   "nbconvert_exporter": "python",
   "pygments_lexer": "ipython3",
   "version": "3.8.5"
  }
 },
 "nbformat": 4,
 "nbformat_minor": 5
}
