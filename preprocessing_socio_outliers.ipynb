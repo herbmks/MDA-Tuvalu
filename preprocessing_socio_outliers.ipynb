{
 "cells": [
  {
   "cell_type": "markdown",
   "metadata": {},
   "source": [
    "### Data preprocessing \n",
    "\n",
    "\n",
    "#### 1. Exploratory analysis & Outlier detection\n",
    "\n"
   ]
  },
  {
   "cell_type": "code",
   "execution_count": 4,
   "metadata": {},
   "outputs": [],
   "source": [
    "import pandas as pd\n",
    "import numpy as np\n",
    "import seaborn as sns\n",
    "import matplotlib.pyplot as plt\n",
    "from sklearn.preprocessing import StandardScaler"
   ]
  },
  {
   "cell_type": "markdown",
   "metadata": {},
   "source": [
    "#### Load data\n",
    "\n",
    "1. AquaStat "
   ]
  },
  {
   "cell_type": "code",
   "execution_count": 5,
   "metadata": {},
   "outputs": [
    {
     "data": {
      "text/html": [
       "<div>\n",
       "<style scoped>\n",
       "    .dataframe tbody tr th:only-of-type {\n",
       "        vertical-align: middle;\n",
       "    }\n",
       "\n",
       "    .dataframe tbody tr th {\n",
       "        vertical-align: top;\n",
       "    }\n",
       "\n",
       "    .dataframe thead th {\n",
       "        text-align: right;\n",
       "    }\n",
       "</style>\n",
       "<table border=\"1\" class=\"dataframe\">\n",
       "  <thead>\n",
       "    <tr style=\"text-align: right;\">\n",
       "      <th></th>\n",
       "      <th>country</th>\n",
       "      <th>variable</th>\n",
       "      <th>1998-2002</th>\n",
       "      <th>2003-2007</th>\n",
       "      <th>2008-2012</th>\n",
       "      <th>2013-2017</th>\n",
       "    </tr>\n",
       "  </thead>\n",
       "  <tbody>\n",
       "    <tr>\n",
       "      <th>1387</th>\n",
       "      <td>NIC</td>\n",
       "      <td>Urban population (1000 inhab)</td>\n",
       "      <td>2869.477000</td>\n",
       "      <td>3110.511000</td>\n",
       "      <td>3368.137000</td>\n",
       "      <td>3624.780000</td>\n",
       "    </tr>\n",
       "    <tr>\n",
       "      <th>2181</th>\n",
       "      <td>ZMB</td>\n",
       "      <td>GDP per capita (current US$/inhab)</td>\n",
       "      <td>377.129939</td>\n",
       "      <td>1104.582234</td>\n",
       "      <td>1690.361466</td>\n",
       "      <td>1513.276090</td>\n",
       "    </tr>\n",
       "    <tr>\n",
       "      <th>2050</th>\n",
       "      <td>UGA</td>\n",
       "      <td>Human Development Index (HDI) [highest = 1] (-)</td>\n",
       "      <td>0.418000</td>\n",
       "      <td>0.457000</td>\n",
       "      <td>0.497000</td>\n",
       "      <td>0.522000</td>\n",
       "    </tr>\n",
       "    <tr>\n",
       "      <th>90</th>\n",
       "      <td>AUS</td>\n",
       "      <td>Population density (inhab/km2)</td>\n",
       "      <td>2.506242</td>\n",
       "      <td>2.701944</td>\n",
       "      <td>2.958700</td>\n",
       "      <td>3.175807</td>\n",
       "    </tr>\n",
       "    <tr>\n",
       "      <th>547</th>\n",
       "      <td>DJI</td>\n",
       "      <td>Rural population with access to safe drinking-...</td>\n",
       "      <td>62.600000</td>\n",
       "      <td>63.800000</td>\n",
       "      <td>64.700000</td>\n",
       "      <td>64.700000</td>\n",
       "    </tr>\n",
       "  </tbody>\n",
       "</table>\n",
       "</div>"
      ],
      "text/plain": [
       "     country                                           variable    1998-2002  \\\n",
       "1387     NIC                      Urban population (1000 inhab)  2869.477000   \n",
       "2181     ZMB                 GDP per capita (current US$/inhab)   377.129939   \n",
       "2050     UGA    Human Development Index (HDI) [highest = 1] (-)     0.418000   \n",
       "90       AUS                     Population density (inhab/km2)     2.506242   \n",
       "547      DJI  Rural population with access to safe drinking-...    62.600000   \n",
       "\n",
       "        2003-2007    2008-2012    2013-2017  \n",
       "1387  3110.511000  3368.137000  3624.780000  \n",
       "2181  1104.582234  1690.361466  1513.276090  \n",
       "2050     0.457000     0.497000     0.522000  \n",
       "90       2.701944     2.958700     3.175807  \n",
       "547     63.800000    64.700000    64.700000  "
      ]
     },
     "execution_count": 5,
     "metadata": {},
     "output_type": "execute_result"
    }
   ],
   "source": [
    "df = pd.read_csv('clean data/aqua_socec_clean.csv', index_col=0)\n",
    "df.sample(5)"
   ]
  },
  {
   "cell_type": "code",
   "execution_count": 6,
   "metadata": {},
   "outputs": [],
   "source": [
    "# rename year period to merge with water stress indicators\n",
    "df.rename(columns = {'country':'Country' ,\n",
    "                     '1998-2002':'2002', \n",
    "                     '2003-2007': '2007', \n",
    "                     '2008-2012': '2012',\n",
    "                     '2013-2017':'2017'}, inplace = True)"
   ]
  },
  {
   "cell_type": "markdown",
   "metadata": {},
   "source": [
    "2. Water stress data"
   ]
  },
  {
   "cell_type": "code",
   "execution_count": 7,
   "metadata": {},
   "outputs": [
    {
     "data": {
      "text/html": [
       "<div>\n",
       "<style scoped>\n",
       "    .dataframe tbody tr th:only-of-type {\n",
       "        vertical-align: middle;\n",
       "    }\n",
       "\n",
       "    .dataframe tbody tr th {\n",
       "        vertical-align: top;\n",
       "    }\n",
       "\n",
       "    .dataframe thead th {\n",
       "        text-align: right;\n",
       "    }\n",
       "</style>\n",
       "<table border=\"1\" class=\"dataframe\">\n",
       "  <thead>\n",
       "    <tr style=\"text-align: right;\">\n",
       "      <th></th>\n",
       "      <th>Country</th>\n",
       "      <th>Year</th>\n",
       "      <th>Water stress (MDG)</th>\n",
       "      <th>Water use efficiency (SDG)</th>\n",
       "      <th>Water stress (SDG)</th>\n",
       "    </tr>\n",
       "  </thead>\n",
       "  <tbody>\n",
       "    <tr>\n",
       "      <th>384</th>\n",
       "      <td>LUX</td>\n",
       "      <td>2007</td>\n",
       "      <td>1.421714</td>\n",
       "      <td>NaN</td>\n",
       "      <td>4.126036</td>\n",
       "    </tr>\n",
       "    <tr>\n",
       "      <th>28</th>\n",
       "      <td>AUS</td>\n",
       "      <td>2002</td>\n",
       "      <td>4.219773</td>\n",
       "      <td>NaN</td>\n",
       "      <td>8.347923</td>\n",
       "    </tr>\n",
       "    <tr>\n",
       "      <th>32</th>\n",
       "      <td>AUT</td>\n",
       "      <td>2002</td>\n",
       "      <td>4.603604</td>\n",
       "      <td>78.500721</td>\n",
       "      <td>9.883946</td>\n",
       "    </tr>\n",
       "    <tr>\n",
       "      <th>79</th>\n",
       "      <td>BOL</td>\n",
       "      <td>2007</td>\n",
       "      <td>0.361280</td>\n",
       "      <td>NaN</td>\n",
       "      <td>1.168967</td>\n",
       "    </tr>\n",
       "    <tr>\n",
       "      <th>27</th>\n",
       "      <td>ATG</td>\n",
       "      <td>2017</td>\n",
       "      <td>8.461538</td>\n",
       "      <td>109.839023</td>\n",
       "      <td>8.461538</td>\n",
       "    </tr>\n",
       "  </tbody>\n",
       "</table>\n",
       "</div>"
      ],
      "text/plain": [
       "    Country  Year  Water stress (MDG)  Water use efficiency (SDG)  \\\n",
       "384     LUX  2007            1.421714                         NaN   \n",
       "28      AUS  2002            4.219773                         NaN   \n",
       "32      AUT  2002            4.603604                   78.500721   \n",
       "79      BOL  2007            0.361280                         NaN   \n",
       "27      ATG  2017            8.461538                  109.839023   \n",
       "\n",
       "     Water stress (SDG)  \n",
       "384            4.126036  \n",
       "28             8.347923  \n",
       "32             9.883946  \n",
       "79             1.168967  \n",
       "27             8.461538  "
      ]
     },
     "execution_count": 7,
     "metadata": {},
     "output_type": "execute_result"
    }
   ],
   "source": [
    "df_ws = pd.read_csv('clean data/water_stress.csv')\n",
    "df_ws.sample(5)"
   ]
  },
  {
   "cell_type": "code",
   "execution_count": 8,
   "metadata": {},
   "outputs": [
    {
     "data": {
      "text/plain": [
       "array(['2002', '2007', '2012', '2017'], dtype=object)"
      ]
     },
     "execution_count": 8,
     "metadata": {},
     "output_type": "execute_result"
    }
   ],
   "source": [
    "df_ws[\"Year\"].unique()\n",
    "df_ws[\"Year\"] = df_ws[\"Year\"].astype(\"string\")\n",
    "df_ws[\"Year\"] = df_ws[\"Year\"].astype(\"object\")\n",
    "df_ws[\"Year\"].unique()"
   ]
  },
  {
   "cell_type": "markdown",
   "metadata": {},
   "source": [
    "3. UNICEF dataset"
   ]
  },
  {
   "cell_type": "code",
   "execution_count": 10,
   "metadata": {},
   "outputs": [
    {
     "data": {
      "text/html": [
       "<div>\n",
       "<style scoped>\n",
       "    .dataframe tbody tr th:only-of-type {\n",
       "        vertical-align: middle;\n",
       "    }\n",
       "\n",
       "    .dataframe tbody tr th {\n",
       "        vertical-align: top;\n",
       "    }\n",
       "\n",
       "    .dataframe thead th {\n",
       "        text-align: right;\n",
       "    }\n",
       "</style>\n",
       "<table border=\"1\" class=\"dataframe\">\n",
       "  <thead>\n",
       "    <tr style=\"text-align: right;\">\n",
       "      <th></th>\n",
       "      <th>Indicator</th>\n",
       "      <th>Country</th>\n",
       "      <th>Time</th>\n",
       "      <th>Value</th>\n",
       "    </tr>\n",
       "  </thead>\n",
       "  <tbody>\n",
       "    <tr>\n",
       "      <th>107413</th>\n",
       "      <td>GDP (constant LCU)</td>\n",
       "      <td>JOR</td>\n",
       "      <td>2009</td>\n",
       "      <td>2.332862e+10</td>\n",
       "    </tr>\n",
       "    <tr>\n",
       "      <th>110919</th>\n",
       "      <td>PPP conversion factor, private consumption (LC...</td>\n",
       "      <td>IRL</td>\n",
       "      <td>2015</td>\n",
       "      <td>1.000000e+00</td>\n",
       "    </tr>\n",
       "    <tr>\n",
       "      <th>111187</th>\n",
       "      <td>GNI per capita (current LCU)</td>\n",
       "      <td>ROU</td>\n",
       "      <td>2014</td>\n",
       "      <td>3.342500e+04</td>\n",
       "    </tr>\n",
       "    <tr>\n",
       "      <th>50510</th>\n",
       "      <td>PPP conversion factor, GDP (LCU per internatio...</td>\n",
       "      <td>BFA</td>\n",
       "      <td>2013</td>\n",
       "      <td>2.310800e+02</td>\n",
       "    </tr>\n",
       "    <tr>\n",
       "      <th>65376</th>\n",
       "      <td>Population aged 25-64 years (thousands)</td>\n",
       "      <td>MDG</td>\n",
       "      <td>2008</td>\n",
       "      <td>6.713000e+03</td>\n",
       "    </tr>\n",
       "  </tbody>\n",
       "</table>\n",
       "</div>"
      ],
      "text/plain": [
       "                                                Indicator Country  Time  \\\n",
       "107413                                 GDP (constant LCU)     JOR  2009   \n",
       "110919  PPP conversion factor, private consumption (LC...     IRL  2015   \n",
       "111187                       GNI per capita (current LCU)     ROU  2014   \n",
       "50510   PPP conversion factor, GDP (LCU per internatio...     BFA  2013   \n",
       "65376            Population aged 25-64 years (thousands)      MDG  2008   \n",
       "\n",
       "               Value  \n",
       "107413  2.332862e+10  \n",
       "110919  1.000000e+00  \n",
       "111187  3.342500e+04  \n",
       "50510   2.310800e+02  \n",
       "65376   6.713000e+03  "
      ]
     },
     "execution_count": 10,
     "metadata": {},
     "output_type": "execute_result"
    }
   ],
   "source": [
    "df_unif = pd.read_csv('clean data/unicef_socec_clean.csv', index_col=0)\n",
    "df_unif.sample(5)\n"
   ]
  },
  {
   "cell_type": "code",
   "execution_count": 12,
   "metadata": {},
   "outputs": [
    {
     "name": "stdout",
     "output_type": "stream",
     "text": [
      "<class 'pandas.core.frame.DataFrame'>\n",
      "Int64Index: 80784 entries, 0 to 133772\n",
      "Data columns (total 4 columns):\n",
      " #   Column     Non-Null Count  Dtype  \n",
      "---  ------     --------------  -----  \n",
      " 0   Indicator  80784 non-null  object \n",
      " 1   Country    80784 non-null  object \n",
      " 2   Time       80784 non-null  int64  \n",
      " 3   Value      80784 non-null  float64\n",
      "dtypes: float64(1), int64(1), object(2)\n",
      "memory usage: 3.1+ MB\n"
     ]
    }
   ],
   "source": [
    "df_unif.info()"
   ]
  },
  {
   "cell_type": "code",
   "execution_count": 13,
   "metadata": {},
   "outputs": [
    {
     "data": {
      "text/plain": [
       "<StringArray>\n",
       "[      'Rural population (1000 inhab)',       'Urban population (1000 inhab)',\n",
       "      'Population density (inhab/km2)',  'GDP per capita (current US$/inhab)',\n",
       " 'Human Development Index (HDI) [high', 'Total population with access to saf',\n",
       " 'Rural population with access to saf', 'Urban population with access to saf']\n",
       "Length: 8, dtype: string"
      ]
     },
     "execution_count": 13,
     "metadata": {},
     "output_type": "execute_result"
    }
   ],
   "source": [
    "# transform type indicators and slice length name\n",
    "df[\"variable\"] = df[\"variable\"].astype(\"string\")\n",
    "df['variable'].unique()\n",
    "df[\"variable\"] = df['variable'].str.slice(0,35)\n",
    "df['variable'].unique()"
   ]
  },
  {
   "cell_type": "code",
   "execution_count": 14,
   "metadata": {},
   "outputs": [
    {
     "name": "stdout",
     "output_type": "stream",
     "text": [
      "<class 'pandas.core.frame.DataFrame'>\n",
      "Int64Index: 1120 entries, 0 to 2187\n",
      "Data columns (total 6 columns):\n",
      " #   Column    Non-Null Count  Dtype  \n",
      "---  ------    --------------  -----  \n",
      " 0   Country   1120 non-null   object \n",
      " 1   variable  1120 non-null   string \n",
      " 2   2002      1120 non-null   float64\n",
      " 3   2007      1120 non-null   float64\n",
      " 4   2012      1120 non-null   float64\n",
      " 5   2017      1120 non-null   float64\n",
      "dtypes: float64(4), object(1), string(1)\n",
      "memory usage: 61.2+ KB\n"
     ]
    }
   ],
   "source": [
    "df.info()"
   ]
  },
  {
   "cell_type": "code",
   "execution_count": null,
   "metadata": {},
   "outputs": [],
   "source": [
    "# transform data aquastat long format (year as attribute)\n",
    "df_melt = pd.melt(df, id_vars=[\"Country\",\"variable\"], \n",
    "        var_name=\"Year\", \n",
    "        value_name=\"value\")\n",
    "df_melt.head(5)"
   ]
  },
  {
   "cell_type": "code",
   "execution_count": null,
   "metadata": {},
   "outputs": [],
   "source": [
    "# transform data aquastat wide format (indicators as attributes)\n",
    "df_piv = df_melt.pivot_table(values='value', \n",
    "                             index=['Year','Country'], \n",
    "                             columns='variable',\n",
    "                             fill_value=0)\n",
    "df_piv = df_piv.reset_index()"
   ]
  },
  {
   "cell_type": "code",
   "execution_count": null,
   "metadata": {},
   "outputs": [],
   "source": [
    "df_piv.head(5)"
   ]
  },
  {
   "cell_type": "code",
   "execution_count": null,
   "metadata": {},
   "outputs": [],
   "source": [
    "# merge aquastat with water stress. \n",
    "# left merge to only keep aquastat countries\n",
    "df_piv_ws = pd.merge(df_piv, df_ws, on=[\"Country\", \"Year\"], how='left')\n",
    "df_piv_ws.sample(5)"
   ]
  },
  {
   "cell_type": "code",
   "execution_count": null,
   "metadata": {},
   "outputs": [],
   "source": [
    "# Distribution per indicator en time period\n",
    "#variable = df['variable'].unique()\n",
    "\n",
    "variable = df_piv_ws.columns[2:]\n",
    "\n",
    "for i in variable:\n",
    "    plt.figure(figsize=(10,4))\n",
    "    sns.boxplot(data = df_piv_ws, x = i ,y ='Year', width=0.5)\n",
    "    plt.title((\"Distribution of\", i)) "
   ]
  },
  {
   "cell_type": "code",
   "execution_count": null,
   "metadata": {},
   "outputs": [],
   "source": [
    "# quick check for one time period\n",
    "df_p = df[['Country','variable','2017']]\n",
    "# df_p.head(10)"
   ]
  },
  {
   "cell_type": "code",
   "execution_count": null,
   "metadata": {},
   "outputs": [],
   "source": [
    "# df_p.describe()"
   ]
  },
  {
   "cell_type": "code",
   "execution_count": null,
   "metadata": {},
   "outputs": [],
   "source": [
    "df_p = df_p.pivot('Country','variable','2017')\n",
    "#corr_data = df_p.corr()"
   ]
  },
  {
   "cell_type": "code",
   "execution_count": null,
   "metadata": {},
   "outputs": [],
   "source": [
    "# transform variables (std) before heatmap\n",
    "scaler = StandardScaler()\n",
    "# get numeric data\n",
    "\n",
    "num_d = df_p.select_dtypes(include=['float64'])\n",
    "\n",
    "# update the cols with their normalized values\n",
    "df_p[num_d.columns] = scaler.fit_transform(num_d)"
   ]
  },
  {
   "cell_type": "code",
   "execution_count": null,
   "metadata": {},
   "outputs": [],
   "source": [
    "plt.subplots(figsize=(6,.2*(len(df_p.index))))\n",
    "sns.heatmap(df_p,      \n",
    "            cbar_kws={'fraction' : 0.08}, # shrink colour bar\n",
    "            cmap='OrRd', # use orange/red colour map\n",
    "            linewidth=1)"
   ]
  },
  {
   "cell_type": "code",
   "execution_count": null,
   "metadata": {},
   "outputs": [],
   "source": [
    "sns.clustermap(df_p, \n",
    "               linewidth=0.05,\n",
    "               cmap='OrRd',\n",
    "               figsize=(9,(.18*(len(df_p.index)))),\n",
    "               cbar_pos=(1.05, .2, .03, .4))\n",
    "\n",
    "# Rural & total pop with access to water \n",
    "# Rutal & total pop per 1000 habs same: decide which to drop\n"
   ]
  },
  {
   "cell_type": "code",
   "execution_count": null,
   "metadata": {},
   "outputs": [],
   "source": [
    "sns.pairplot(df_p,kind=\"reg\", plot_kws={'line_kws':{'color':'red'}})"
   ]
  },
  {
   "cell_type": "code",
   "execution_count": null,
   "metadata": {},
   "outputs": [],
   "source": [
    "#sns.pairplot(df_p,kind=\"reg\")\n",
    "#plot_kws={'line_kws':{'color':'red'}})"
   ]
  },
  {
   "cell_type": "markdown",
   "metadata": {},
   "source": [
    "### Exploratory analysis AquaStat and Water Stress\n",
    "\n",
    "\n"
   ]
  },
  {
   "cell_type": "code",
   "execution_count": null,
   "metadata": {},
   "outputs": [],
   "source": [
    "# Exploratory analysis aquastat and ws (one time period)\n",
    "df_piv_ws_17 = df_piv_ws.loc[df_piv_ws.Year == '2017']\n",
    "df_piv_ws_17.sample(5)"
   ]
  },
  {
   "cell_type": "code",
   "execution_count": null,
   "metadata": {},
   "outputs": [],
   "source": [
    "df_piv_ws_17.describe()"
   ]
  },
  {
   "cell_type": "code",
   "execution_count": null,
   "metadata": {},
   "outputs": [],
   "source": [
    "df_piv_ws_17.nlargest(5,'Water use efficiency (SDG)')\n",
    "# looking above boxplot per year Water eff for luxemburg might be an outlier "
   ]
  },
  {
   "cell_type": "code",
   "execution_count": null,
   "metadata": {},
   "outputs": [],
   "source": [
    "df_piv_ws_17.nlargest(5,'GDP per capita (current US$/inhab)')\n",
    "# Luxemburg has low population density and largest water use efficiency + highest GDP "
   ]
  },
  {
   "cell_type": "code",
   "execution_count": null,
   "metadata": {},
   "outputs": [],
   "source": [
    "df_piv_ws_17.nlargest(5,'Water stress (MDG)')"
   ]
  },
  {
   "cell_type": "code",
   "execution_count": null,
   "metadata": {},
   "outputs": [],
   "source": [
    "corr_data = df_piv_ws_17.corr()"
   ]
  },
  {
   "cell_type": "code",
   "execution_count": null,
   "metadata": {},
   "outputs": [],
   "source": [
    "sns.heatmap(corr_data,\n",
    "           linewidths=.5)\n",
    "\n",
    "# drop: - Rural or urban pop with access to saf\n",
    "#       - WS (MDG) or (SDG)\n",
    "#       - Rural & Urban pop(1000 inhab) "
   ]
  },
  {
   "cell_type": "code",
   "execution_count": null,
   "metadata": {},
   "outputs": [],
   "source": [
    "df_keep = df_piv_ws_17.loc[:, ~df_piv_ws_17.columns.isin(['Rural population with access to saf',\n",
    "                                       'Water stress (MDG)',\n",
    "                                       'Urban population (1000 inhab)'])]\n",
    "sns.pairplot(df_keep,kind=\"reg\")\n",
    "#plot_kws={'line_kws':{'color':'red'}})"
   ]
  },
  {
   "cell_type": "code",
   "execution_count": null,
   "metadata": {},
   "outputs": [],
   "source": [
    "# After removing LUX\n",
    "\n",
    "#g.set(xscale=\"log\", yscale = \"log\")\n",
    "\n",
    "df_replot = df_piv_ws_17.loc[~((df_piv_ws_17['Country'] == 'LUX')),:]\n",
    "g = sns.relplot(x=\"Population density (inhab/km2)\", y='Water use efficiency (SDG)',\n",
    "               size=\"Population density (inhab/km2)\",\n",
    "                hue = 'Human Development Index (HDI) [high',\n",
    "                alpha =0.3,\n",
    "      #          style=\"event\",\n",
    "      #          col=\"country\",\n",
    "                height=8, aspect=.8, \n",
    "                #kind=\"line\", \n",
    "              sizes=(0,0.5*max(df_replot[\"Population density (inhab/km2)\"])),\n",
    "                data=df_replot)\n",
    "\n"
   ]
  },
  {
   "cell_type": "code",
   "execution_count": null,
   "metadata": {},
   "outputs": [],
   "source": [
    "g = sns.relplot(x=\"GDP per capita (current US$/inhab)\", y='Water use efficiency (SDG)',\n",
    "                size=\"Population density (inhab/km2)\",\n",
    "                hue = 'Human Development Index (HDI) [high',\n",
    "                alpha =0.3,\n",
    "      #         style=\"event\",\n",
    "      #         col=\"country\",\n",
    "                height=5, aspect=.8, \n",
    "                #kind=\"line\", \n",
    "                sizes=(0,0.5*max(df_piv_ws_17[\"Population density (inhab/km2)\"])),\n",
    "                data=df_piv_ws_17)"
   ]
  },
  {
   "cell_type": "markdown",
   "metadata": {},
   "source": [
    "3. Exploratory UNICEF dataset"
   ]
  },
  {
   "cell_type": "code",
   "execution_count": 15,
   "metadata": {},
   "outputs": [
    {
     "data": {
      "text/html": [
       "<div>\n",
       "<style scoped>\n",
       "    .dataframe tbody tr th:only-of-type {\n",
       "        vertical-align: middle;\n",
       "    }\n",
       "\n",
       "    .dataframe tbody tr th {\n",
       "        vertical-align: top;\n",
       "    }\n",
       "\n",
       "    .dataframe thead th {\n",
       "        text-align: right;\n",
       "    }\n",
       "</style>\n",
       "<table border=\"1\" class=\"dataframe\">\n",
       "  <thead>\n",
       "    <tr style=\"text-align: right;\">\n",
       "      <th></th>\n",
       "      <th>Time</th>\n",
       "      <th>Value</th>\n",
       "    </tr>\n",
       "  </thead>\n",
       "  <tbody>\n",
       "    <tr>\n",
       "      <th>count</th>\n",
       "      <td>80784.000000</td>\n",
       "      <td>8.078400e+04</td>\n",
       "    </tr>\n",
       "    <tr>\n",
       "      <th>mean</th>\n",
       "      <td>2009.510373</td>\n",
       "      <td>1.611890e+13</td>\n",
       "    </tr>\n",
       "    <tr>\n",
       "      <th>std</th>\n",
       "      <td>5.764977</td>\n",
       "      <td>6.139415e+14</td>\n",
       "    </tr>\n",
       "    <tr>\n",
       "      <th>min</th>\n",
       "      <td>2000.000000</td>\n",
       "      <td>-6.210000e+01</td>\n",
       "    </tr>\n",
       "    <tr>\n",
       "      <th>25%</th>\n",
       "      <td>2005.000000</td>\n",
       "      <td>9.000000e+00</td>\n",
       "    </tr>\n",
       "    <tr>\n",
       "      <th>50%</th>\n",
       "      <td>2010.000000</td>\n",
       "      <td>3.304000e+03</td>\n",
       "    </tr>\n",
       "    <tr>\n",
       "      <th>75%</th>\n",
       "      <td>2014.000000</td>\n",
       "      <td>3.407799e+09</td>\n",
       "    </tr>\n",
       "    <tr>\n",
       "      <th>max</th>\n",
       "      <td>2020.000000</td>\n",
       "      <td>1.528323e+17</td>\n",
       "    </tr>\n",
       "  </tbody>\n",
       "</table>\n",
       "</div>"
      ],
      "text/plain": [
       "               Time         Value\n",
       "count  80784.000000  8.078400e+04\n",
       "mean    2009.510373  1.611890e+13\n",
       "std        5.764977  6.139415e+14\n",
       "min     2000.000000 -6.210000e+01\n",
       "25%     2005.000000  9.000000e+00\n",
       "50%     2010.000000  3.304000e+03\n",
       "75%     2014.000000  3.407799e+09\n",
       "max     2020.000000  1.528323e+17"
      ]
     },
     "execution_count": 15,
     "metadata": {},
     "output_type": "execute_result"
    }
   ],
   "source": [
    "df_unif.describe()"
   ]
  },
  {
   "cell_type": "code",
   "execution_count": null,
   "metadata": {},
   "outputs": [],
   "source": []
  }
 ],
 "metadata": {
  "kernelspec": {
   "display_name": "Python 3",
   "language": "python",
   "name": "python3"
  },
  "language_info": {
   "codemirror_mode": {
    "name": "ipython",
    "version": 3
   },
   "file_extension": ".py",
   "mimetype": "text/x-python",
   "name": "python",
   "nbconvert_exporter": "python",
   "pygments_lexer": "ipython3",
   "version": "3.8.5"
  }
 },
 "nbformat": 4,
 "nbformat_minor": 5
}
