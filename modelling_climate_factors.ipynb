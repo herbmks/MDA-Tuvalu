{
 "cells": [
  {
   "cell_type": "markdown",
   "id": "70ed3e35",
   "metadata": {},
   "source": [
    "# Testing analytics and modelling\n",
    "\n",
    "For this we will be doing some testinf of different modelling techniques amd seeing whether anything works.\n",
    "\n",
    "## Data importing"
   ]
  },
  {
   "cell_type": "code",
   "execution_count": 1,
   "id": "e4480ff1",
   "metadata": {},
   "outputs": [],
   "source": [
    "import pandas as pd\n",
    "import numpy as np\n",
    "import ipywidgets as widgets\n",
    "import matplotlib.pyplot as plt\n",
    "%matplotlib inline"
   ]
  },
  {
   "cell_type": "code",
   "execution_count": 2,
   "id": "b77a9688",
   "metadata": {},
   "outputs": [],
   "source": [
    "climate = pd.read_csv('clean data/climate_factors.csv')\n",
    "socio = pd.read_csv('clean data/socioec_factors.csv')\n",
    "wstress = pd.read_csv('clean data/water_stress.csv')\n",
    "countries = pd.read_csv('shared_country_codes.csv')\n",
    "countries = list(countries['0'])"
   ]
  },
  {
   "cell_type": "markdown",
   "id": "586d64c4",
   "metadata": {},
   "source": [
    "## Checking the clean data\n",
    "\n",
    "Need to remove the unnecessary countries from the datasets using the shared countries information. And then see what the situation is with the NANs."
   ]
  },
  {
   "cell_type": "code",
   "execution_count": 3,
   "id": "19d10329",
   "metadata": {
    "scrolled": true
   },
   "outputs": [
    {
     "data": {
      "text/plain": [
       "Unnamed: 0                                          0\n",
       "Country                                             0\n",
       "Temperature (°C)                                    0\n",
       "Total Rainfall (mm)                                 0\n",
       "Total internal renewable water resources (IRWR)     1\n",
       "Total external renewable water resources (ERWR)     0\n",
       "Total renewable water resources                     0\n",
       "Dependency ratio                                    0\n",
       "Total exploitable water resources                  85\n",
       "dtype: int64"
      ]
     },
     "execution_count": 3,
     "metadata": {},
     "output_type": "execute_result"
    }
   ],
   "source": [
    "climate = climate[climate['Country'].isin(countries)]\n",
    "climate.isnull().sum()"
   ]
  },
  {
   "cell_type": "markdown",
   "id": "c499e811",
   "metadata": {},
   "source": [
    "Checking which countries are those that have NANs in the columns that have few NANs."
   ]
  },
  {
   "cell_type": "code",
   "execution_count": 4,
   "id": "fb2c4ec3",
   "metadata": {},
   "outputs": [
    {
     "data": {
      "text/html": [
       "<div>\n",
       "<style scoped>\n",
       "    .dataframe tbody tr th:only-of-type {\n",
       "        vertical-align: middle;\n",
       "    }\n",
       "\n",
       "    .dataframe tbody tr th {\n",
       "        vertical-align: top;\n",
       "    }\n",
       "\n",
       "    .dataframe thead th {\n",
       "        text-align: right;\n",
       "    }\n",
       "</style>\n",
       "<table border=\"1\" class=\"dataframe\">\n",
       "  <thead>\n",
       "    <tr style=\"text-align: right;\">\n",
       "      <th></th>\n",
       "      <th>Unnamed: 0</th>\n",
       "      <th>Country</th>\n",
       "      <th>Temperature (°C)</th>\n",
       "      <th>Total Rainfall (mm)</th>\n",
       "      <th>Total internal renewable water resources (IRWR)</th>\n",
       "      <th>Total external renewable water resources (ERWR)</th>\n",
       "      <th>Total renewable water resources</th>\n",
       "      <th>Dependency ratio</th>\n",
       "    </tr>\n",
       "  </thead>\n",
       "  <tbody>\n",
       "    <tr>\n",
       "      <th>172</th>\n",
       "      <td>172</td>\n",
       "      <td>SYC</td>\n",
       "      <td>27.674428</td>\n",
       "      <td>1690.743767</td>\n",
       "      <td>NaN</td>\n",
       "      <td>0.0</td>\n",
       "      <td>0.0</td>\n",
       "      <td>0.0</td>\n",
       "    </tr>\n",
       "  </tbody>\n",
       "</table>\n",
       "</div>"
      ],
      "text/plain": [
       "     Unnamed: 0 Country  Temperature (°C)  Total Rainfall (mm)  \\\n",
       "172         172     SYC         27.674428          1690.743767   \n",
       "\n",
       "     Total internal renewable water resources (IRWR)  \\\n",
       "172                                              NaN   \n",
       "\n",
       "     Total external renewable water resources (ERWR)  \\\n",
       "172                                              0.0   \n",
       "\n",
       "     Total renewable water resources  Dependency ratio  \n",
       "172                              0.0               0.0  "
      ]
     },
     "execution_count": 4,
     "metadata": {},
     "output_type": "execute_result"
    }
   ],
   "source": [
    "nan_climate = climate\n",
    "nan_climate = nan_climate.loc[:, nan_climate.columns != 'Total exploitable water resources']\n",
    "nan_climate = nan_climate[nan_climate.isna().any(axis = 1)]\n",
    "nan_climate"
   ]
  },
  {
   "cell_type": "code",
   "execution_count": 5,
   "id": "e485aa69",
   "metadata": {
    "scrolled": true
   },
   "outputs": [
    {
     "data": {
      "text/plain": [
       "Unnamed: 0                                                                   0\n",
       "Country                                                                      0\n",
       "GDP per capita (current US$/inhab)                                           0\n",
       "Human Development Index (HDI) [highest = 1] (-)                              0\n",
       "Population density (inhab/km2)                                               0\n",
       "Rural population (1000 inhab)                                                0\n",
       "Rural population with access to safe drinking-water (JMP) (%)                0\n",
       "Total population with access to safe drinking-water (JMP) (%)                0\n",
       "Urban population (1000 inhab)                                                0\n",
       "Urban population with access to safe drinking-water (JMP) (%)                0\n",
       "DEC alternative conversion factor (LCU per US$)                              1\n",
       "Fertility rate, total (births per woman)                                     0\n",
       "GDP (constant LCU)                                                           1\n",
       "GDP (current LCU)                                                            0\n",
       "GDP (current US$)                                                            1\n",
       "GDP at market prices (constant 2010 US$)                                     2\n",
       "GDP deflator (base year varies by country)                                   1\n",
       "GDP growth (annual %)                                                        1\n",
       "GDP per capita (current LCU)                                                 0\n",
       "GDP per capita (current US$)                                                 1\n",
       "GDP per capita, PPP (constant 2011 international $)                          3\n",
       "GDP per capita, PPP (current international $)                                2\n",
       "GDP, PPP (constant 2011 international $)                                     3\n",
       "GDP, PPP (current international $)                                           2\n",
       "GNI (current LCU)                                                            1\n",
       "GNI per capita (current LCU)                                                 1\n",
       "GNI per capita, Atlas method (current US$)                                   1\n",
       "GNI per capita, PPP (current international $)                                2\n",
       "General government total expenditure (current LCU)                           2\n",
       "Life expectancy at birth, total (years)                                      0\n",
       "Mortality rate, infant (per 1,000 live births)                               0\n",
       "Official exchange rate (LCU per US$, period average)                        12\n",
       "PPP conversion factor, GDP (LCU per international $)                         2\n",
       "PPP conversion factor, private consumption (LCU per international $)         2\n",
       "Population aged 25-64 years (thousands)                                      0\n",
       "Population growth (annual %)                                                 0\n",
       "Prevalence of HIV, total (% of population ages 15-49)                       36\n",
       "Price level ratio of PPP conversion factor (GDP) to market exchange rate     2\n",
       "Total debt service (% of GNI)                                               44\n",
       "Total population (thousands)                                                 0\n",
       "dtype: int64"
      ]
     },
     "execution_count": 5,
     "metadata": {},
     "output_type": "execute_result"
    }
   ],
   "source": [
    "socio = socio[socio['Country'].isin(countries)]\n",
    "socio.isnull().sum()"
   ]
  },
  {
   "cell_type": "markdown",
   "id": "3ce6e904",
   "metadata": {},
   "source": [
    "Checking which countries are those that have NANs in the columns that have few NANs."
   ]
  },
  {
   "cell_type": "code",
   "execution_count": 6,
   "id": "0083b7ea",
   "metadata": {},
   "outputs": [
    {
     "data": {
      "text/html": [
       "<div>\n",
       "<style scoped>\n",
       "    .dataframe tbody tr th:only-of-type {\n",
       "        vertical-align: middle;\n",
       "    }\n",
       "\n",
       "    .dataframe tbody tr th {\n",
       "        vertical-align: top;\n",
       "    }\n",
       "\n",
       "    .dataframe thead th {\n",
       "        text-align: right;\n",
       "    }\n",
       "</style>\n",
       "<table border=\"1\" class=\"dataframe\">\n",
       "  <thead>\n",
       "    <tr style=\"text-align: right;\">\n",
       "      <th></th>\n",
       "      <th>Unnamed: 0</th>\n",
       "      <th>Country</th>\n",
       "      <th>GDP per capita (current US$/inhab)</th>\n",
       "      <th>Human Development Index (HDI) [highest = 1] (-)</th>\n",
       "      <th>Population density (inhab/km2)</th>\n",
       "      <th>Rural population (1000 inhab)</th>\n",
       "      <th>Rural population with access to safe drinking-water (JMP) (%)</th>\n",
       "      <th>Total population with access to safe drinking-water (JMP) (%)</th>\n",
       "      <th>Urban population (1000 inhab)</th>\n",
       "      <th>Urban population with access to safe drinking-water (JMP) (%)</th>\n",
       "      <th>...</th>\n",
       "      <th>GNI per capita, PPP (current international $)</th>\n",
       "      <th>General government total expenditure (current LCU)</th>\n",
       "      <th>Life expectancy at birth, total (years)</th>\n",
       "      <th>Mortality rate, infant (per 1,000 live births)</th>\n",
       "      <th>PPP conversion factor, GDP (LCU per international $)</th>\n",
       "      <th>PPP conversion factor, private consumption (LCU per international $)</th>\n",
       "      <th>Population aged 25-64 years (thousands)</th>\n",
       "      <th>Population growth (annual %)</th>\n",
       "      <th>Price level ratio of PPP conversion factor (GDP) to market exchange rate</th>\n",
       "      <th>Total population (thousands)</th>\n",
       "    </tr>\n",
       "  </thead>\n",
       "  <tbody>\n",
       "    <tr>\n",
       "      <th>35</th>\n",
       "      <td>35</td>\n",
       "      <td>DJI</td>\n",
       "      <td>2891.234525</td>\n",
       "      <td>0.492</td>\n",
       "      <td>40.693922</td>\n",
       "      <td>213.906</td>\n",
       "      <td>64.7</td>\n",
       "      <td>90.0</td>\n",
       "      <td>743.079</td>\n",
       "      <td>97.4</td>\n",
       "      <td>...</td>\n",
       "      <td>4720.0</td>\n",
       "      <td>1.364250e+11</td>\n",
       "      <td>64.0</td>\n",
       "      <td>54.2</td>\n",
       "      <td>103.542</td>\n",
       "      <td>104.06</td>\n",
       "      <td>417.4</td>\n",
       "      <td>1.66</td>\n",
       "      <td>0.60</td>\n",
       "      <td>913.8</td>\n",
       "    </tr>\n",
       "    <tr>\n",
       "      <th>72</th>\n",
       "      <td>72</td>\n",
       "      <td>KOR</td>\n",
       "      <td>31852.314810</td>\n",
       "      <td>0.904</td>\n",
       "      <td>509.385056</td>\n",
       "      <td>9429.948</td>\n",
       "      <td>87.9</td>\n",
       "      <td>97.6</td>\n",
       "      <td>41552.264</td>\n",
       "      <td>99.7</td>\n",
       "      <td>...</td>\n",
       "      <td>37774.0</td>\n",
       "      <td>NaN</td>\n",
       "      <td>82.0</td>\n",
       "      <td>3.0</td>\n",
       "      <td>865.804</td>\n",
       "      <td>977.32</td>\n",
       "      <td>30549.0</td>\n",
       "      <td>0.46</td>\n",
       "      <td>0.78</td>\n",
       "      <td>50771.2</td>\n",
       "    </tr>\n",
       "    <tr>\n",
       "      <th>121</th>\n",
       "      <td>121</td>\n",
       "      <td>SYR</td>\n",
       "      <td>721.520956</td>\n",
       "      <td>0.544</td>\n",
       "      <td>92.319246</td>\n",
       "      <td>8495.489</td>\n",
       "      <td>87.2</td>\n",
       "      <td>90.1</td>\n",
       "      <td>9774.379</td>\n",
       "      <td>92.3</td>\n",
       "      <td>...</td>\n",
       "      <td>NaN</td>\n",
       "      <td>NaN</td>\n",
       "      <td>70.2</td>\n",
       "      <td>17.8</td>\n",
       "      <td>NaN</td>\n",
       "      <td>NaN</td>\n",
       "      <td>7841.4</td>\n",
       "      <td>-3.60</td>\n",
       "      <td>NaN</td>\n",
       "      <td>18169.6</td>\n",
       "    </tr>\n",
       "    <tr>\n",
       "      <th>135</th>\n",
       "      <td>135</td>\n",
       "      <td>VEN</td>\n",
       "      <td>7756.479109</td>\n",
       "      <td>0.735</td>\n",
       "      <td>32.237798</td>\n",
       "      <td>3778.814</td>\n",
       "      <td>77.9</td>\n",
       "      <td>93.1</td>\n",
       "      <td>28198.251</td>\n",
       "      <td>95.0</td>\n",
       "      <td>...</td>\n",
       "      <td>NaN</td>\n",
       "      <td>1.752000e+08</td>\n",
       "      <td>72.6</td>\n",
       "      <td>17.6</td>\n",
       "      <td>NaN</td>\n",
       "      <td>NaN</td>\n",
       "      <td>14198.6</td>\n",
       "      <td>0.02</td>\n",
       "      <td>NaN</td>\n",
       "      <td>29831.8</td>\n",
       "    </tr>\n",
       "    <tr>\n",
       "      <th>138</th>\n",
       "      <td>138</td>\n",
       "      <td>YEM</td>\n",
       "      <td>854.926716</td>\n",
       "      <td>0.463</td>\n",
       "      <td>52.720456</td>\n",
       "      <td>18075.808</td>\n",
       "      <td>46.5</td>\n",
       "      <td>54.9</td>\n",
       "      <td>10174.612</td>\n",
       "      <td>72.0</td>\n",
       "      <td>...</td>\n",
       "      <td>3520.0</td>\n",
       "      <td>1.885474e+12</td>\n",
       "      <td>66.0</td>\n",
       "      <td>43.0</td>\n",
       "      <td>93.630</td>\n",
       "      <td>90.40</td>\n",
       "      <td>9143.0</td>\n",
       "      <td>2.58</td>\n",
       "      <td>0.40</td>\n",
       "      <td>26494.2</td>\n",
       "    </tr>\n",
       "  </tbody>\n",
       "</table>\n",
       "<p>5 rows × 37 columns</p>\n",
       "</div>"
      ],
      "text/plain": [
       "     Unnamed: 0 Country  GDP per capita (current US$/inhab)  \\\n",
       "35           35     DJI                         2891.234525   \n",
       "72           72     KOR                        31852.314810   \n",
       "121         121     SYR                          721.520956   \n",
       "135         135     VEN                         7756.479109   \n",
       "138         138     YEM                          854.926716   \n",
       "\n",
       "     Human Development Index (HDI) [highest = 1] (-)  \\\n",
       "35                                             0.492   \n",
       "72                                             0.904   \n",
       "121                                            0.544   \n",
       "135                                            0.735   \n",
       "138                                            0.463   \n",
       "\n",
       "     Population density (inhab/km2)  Rural population (1000 inhab)  \\\n",
       "35                        40.693922                        213.906   \n",
       "72                       509.385056                       9429.948   \n",
       "121                       92.319246                       8495.489   \n",
       "135                       32.237798                       3778.814   \n",
       "138                       52.720456                      18075.808   \n",
       "\n",
       "     Rural population with access to safe drinking-water (JMP) (%)  \\\n",
       "35                                                64.7               \n",
       "72                                                87.9               \n",
       "121                                               87.2               \n",
       "135                                               77.9               \n",
       "138                                               46.5               \n",
       "\n",
       "     Total population with access to safe drinking-water (JMP) (%)  \\\n",
       "35                                                90.0               \n",
       "72                                                97.6               \n",
       "121                                               90.1               \n",
       "135                                               93.1               \n",
       "138                                               54.9               \n",
       "\n",
       "     Urban population (1000 inhab)  \\\n",
       "35                         743.079   \n",
       "72                       41552.264   \n",
       "121                       9774.379   \n",
       "135                      28198.251   \n",
       "138                      10174.612   \n",
       "\n",
       "     Urban population with access to safe drinking-water (JMP) (%)  ...  \\\n",
       "35                                                97.4              ...   \n",
       "72                                                99.7              ...   \n",
       "121                                               92.3              ...   \n",
       "135                                               95.0              ...   \n",
       "138                                               72.0              ...   \n",
       "\n",
       "     GNI per capita, PPP (current international $)  \\\n",
       "35                                          4720.0   \n",
       "72                                         37774.0   \n",
       "121                                            NaN   \n",
       "135                                            NaN   \n",
       "138                                         3520.0   \n",
       "\n",
       "     General government total expenditure (current LCU)  \\\n",
       "35                                        1.364250e+11    \n",
       "72                                                 NaN    \n",
       "121                                                NaN    \n",
       "135                                       1.752000e+08    \n",
       "138                                       1.885474e+12    \n",
       "\n",
       "     Life expectancy at birth, total (years)  \\\n",
       "35                                      64.0   \n",
       "72                                      82.0   \n",
       "121                                     70.2   \n",
       "135                                     72.6   \n",
       "138                                     66.0   \n",
       "\n",
       "     Mortality rate, infant (per 1,000 live births)  \\\n",
       "35                                             54.2   \n",
       "72                                              3.0   \n",
       "121                                            17.8   \n",
       "135                                            17.6   \n",
       "138                                            43.0   \n",
       "\n",
       "     PPP conversion factor, GDP (LCU per international $)  \\\n",
       "35                                             103.542      \n",
       "72                                             865.804      \n",
       "121                                                NaN      \n",
       "135                                                NaN      \n",
       "138                                             93.630      \n",
       "\n",
       "     PPP conversion factor, private consumption (LCU per international $)  \\\n",
       "35                                              104.06                      \n",
       "72                                              977.32                      \n",
       "121                                                NaN                      \n",
       "135                                                NaN                      \n",
       "138                                              90.40                      \n",
       "\n",
       "     Population aged 25-64 years (thousands)   Population growth (annual %)  \\\n",
       "35                                      417.4                          1.66   \n",
       "72                                    30549.0                          0.46   \n",
       "121                                    7841.4                         -3.60   \n",
       "135                                   14198.6                          0.02   \n",
       "138                                    9143.0                          2.58   \n",
       "\n",
       "     Price level ratio of PPP conversion factor (GDP) to market exchange rate  \\\n",
       "35                                                0.60                          \n",
       "72                                                0.78                          \n",
       "121                                                NaN                          \n",
       "135                                                NaN                          \n",
       "138                                               0.40                          \n",
       "\n",
       "     Total population (thousands)  \n",
       "35                          913.8  \n",
       "72                        50771.2  \n",
       "121                       18169.6  \n",
       "135                       29831.8  \n",
       "138                       26494.2  \n",
       "\n",
       "[5 rows x 37 columns]"
      ]
     },
     "execution_count": 6,
     "metadata": {},
     "output_type": "execute_result"
    }
   ],
   "source": [
    "nan_socio = socio\n",
    "nan_socio = nan_socio.loc[:, nan_socio.columns != 'Total debt service (% of GNI)']\n",
    "nan_socio = nan_socio.loc[:, nan_socio.columns != 'Prevalence of HIV, total (% of population ages 15-49)']\n",
    "nan_socio = nan_socio.loc[:, nan_socio.columns != 'Official exchange rate (LCU per US$, period average)']\n",
    "nan_socio = nan_socio[nan_socio.isna().any(axis = 1)]\n",
    "nan_socio"
   ]
  },
  {
   "cell_type": "markdown",
   "id": "c19bdc80",
   "metadata": {},
   "source": [
    "Checking which countries are those that have NANs in the columns that have few NANs."
   ]
  },
  {
   "cell_type": "code",
   "execution_count": 7,
   "id": "2b1c4c97",
   "metadata": {},
   "outputs": [
    {
     "data": {
      "text/html": [
       "<div>\n",
       "<style scoped>\n",
       "    .dataframe tbody tr th:only-of-type {\n",
       "        vertical-align: middle;\n",
       "    }\n",
       "\n",
       "    .dataframe tbody tr th {\n",
       "        vertical-align: top;\n",
       "    }\n",
       "\n",
       "    .dataframe thead th {\n",
       "        text-align: right;\n",
       "    }\n",
       "</style>\n",
       "<table border=\"1\" class=\"dataframe\">\n",
       "  <thead>\n",
       "    <tr style=\"text-align: right;\">\n",
       "      <th></th>\n",
       "      <th>Unnamed: 0</th>\n",
       "      <th>Country</th>\n",
       "      <th>Water stress (MDG)</th>\n",
       "      <th>Water use efficiency (SDG)</th>\n",
       "      <th>Water stress (SDG)</th>\n",
       "    </tr>\n",
       "  </thead>\n",
       "  <tbody>\n",
       "    <tr>\n",
       "      <th>43</th>\n",
       "      <td>43</td>\n",
       "      <td>DJI</td>\n",
       "      <td>6.333333</td>\n",
       "      <td>NaN</td>\n",
       "      <td>6.333333</td>\n",
       "    </tr>\n",
       "    <tr>\n",
       "      <th>64</th>\n",
       "      <td>64</td>\n",
       "      <td>GNQ</td>\n",
       "      <td>0.076154</td>\n",
       "      <td>NaN</td>\n",
       "      <td>0.183503</td>\n",
       "    </tr>\n",
       "    <tr>\n",
       "      <th>66</th>\n",
       "      <td>66</td>\n",
       "      <td>GRD</td>\n",
       "      <td>7.050000</td>\n",
       "      <td>NaN</td>\n",
       "      <td>7.050000</td>\n",
       "    </tr>\n",
       "    <tr>\n",
       "      <th>104</th>\n",
       "      <td>104</td>\n",
       "      <td>MDV</td>\n",
       "      <td>15.666667</td>\n",
       "      <td>NaN</td>\n",
       "      <td>15.666667</td>\n",
       "    </tr>\n",
       "    <tr>\n",
       "      <th>130</th>\n",
       "      <td>130</td>\n",
       "      <td>PNG</td>\n",
       "      <td>0.048951</td>\n",
       "      <td>NaN</td>\n",
       "      <td>0.132243</td>\n",
       "    </tr>\n",
       "    <tr>\n",
       "      <th>156</th>\n",
       "      <td>156</td>\n",
       "      <td>SYC</td>\n",
       "      <td>NaN</td>\n",
       "      <td>89.323035</td>\n",
       "      <td>NaN</td>\n",
       "    </tr>\n",
       "  </tbody>\n",
       "</table>\n",
       "</div>"
      ],
      "text/plain": [
       "     Unnamed: 0 Country  Water stress (MDG)  Water use efficiency (SDG)  \\\n",
       "43           43     DJI            6.333333                         NaN   \n",
       "64           64     GNQ            0.076154                         NaN   \n",
       "66           66     GRD            7.050000                         NaN   \n",
       "104         104     MDV           15.666667                         NaN   \n",
       "130         130     PNG            0.048951                         NaN   \n",
       "156         156     SYC                 NaN                   89.323035   \n",
       "\n",
       "     Water stress (SDG)  \n",
       "43             6.333333  \n",
       "64             0.183503  \n",
       "66             7.050000  \n",
       "104           15.666667  \n",
       "130            0.132243  \n",
       "156                 NaN  "
      ]
     },
     "execution_count": 7,
     "metadata": {},
     "output_type": "execute_result"
    }
   ],
   "source": [
    "wstress = wstress[wstress['Country'].isin(countries)]\n",
    "wstress.isnull().sum()\n",
    "\n",
    "nan_wstress = wstress[wstress.isna().any(axis=1)]\n",
    "nan_wstress"
   ]
  },
  {
   "cell_type": "markdown",
   "id": "557eb791",
   "metadata": {},
   "source": [
    "## Start of making some models\n",
    "\n",
    "Focus on climate first. Ideas:\n",
    "- Regression\n",
    "- Clustering\n",
    "- PCA\n"
   ]
  },
  {
   "cell_type": "code",
   "execution_count": 22,
   "id": "0efb6395",
   "metadata": {},
   "outputs": [
    {
     "data": {
      "text/plain": [
       "Country                                             0\n",
       "Temperature (°C)                                    0\n",
       "Total Rainfall (mm)                                 0\n",
       "Total internal renewable water resources (IRWR)     0\n",
       "Total external renewable water resources (ERWR)     0\n",
       "Total renewable water resources                     0\n",
       "Dependency ratio                                    0\n",
       "Total exploitable water resources                  84\n",
       "Water stress (MDG)                                  0\n",
       "Water use efficiency (SDG)                          5\n",
       "Water stress (SDG)                                  0\n",
       "dtype: int64"
      ]
     },
     "execution_count": 22,
     "metadata": {},
     "output_type": "execute_result"
    }
   ],
   "source": [
    "allclimate = pd.merge(climate, wstress, on = 'Country', how = 'outer')\n",
    "allclimate = allclimate.drop(columns = ['Unnamed: 0_x', 'Unnamed: 0_y'])\n",
    "allclimate = allclimate.drop(allclimate[allclimate['Country'] == 'SYC'].index)\n",
    "allclimate.isna().sum()"
   ]
  },
  {
   "cell_type": "code",
   "execution_count": 26,
   "id": "2c3e9855",
   "metadata": {},
   "outputs": [
    {
     "data": {
      "text/plain": [
       "['Temperature (°C)',\n",
       " 'Total Rainfall (mm)',\n",
       " 'Total internal renewable water resources (IRWR)',\n",
       " 'Total external renewable water resources (ERWR)',\n",
       " 'Total renewable water resources',\n",
       " 'Dependency ratio',\n",
       " 'Total exploitable water resources',\n",
       " 'Water stress (MDG)',\n",
       " 'Water use efficiency (SDG)',\n",
       " 'Water stress (SDG)']"
      ]
     },
     "execution_count": 26,
     "metadata": {},
     "output_type": "execute_result"
    }
   ],
   "source": [
    "cols = list(allclimate.columns)\n",
    "cols.remove('Country')\n",
    "cols"
   ]
  },
  {
   "cell_type": "markdown",
   "id": "668c4ca5",
   "metadata": {},
   "source": [
    "## Exploratory plots\n",
    "\n",
    "We can plot the explanatory variables against the potential target variables. "
   ]
  },
  {
   "cell_type": "code",
   "execution_count": 66,
   "id": "9c4e495b",
   "metadata": {},
   "outputs": [
    {
     "data": {
      "application/vnd.jupyter.widget-view+json": {
       "model_id": "8c428ede5e3b4461b3ce9ff419ee61a9",
       "version_major": 2,
       "version_minor": 0
      },
      "text/plain": [
       "Accordion(children=(Dropdown(description='Value:', options=('Temperature (°C)', 'Total Rainfall (mm)', 'Total …"
      ]
     },
     "metadata": {},
     "output_type": "display_data"
    }
   ],
   "source": [
    "cols = list(allclimate.columns)\n",
    "cols.remove('Country')\n",
    "exp_cols = cols\n",
    "exp_cols.remove('Water stress (MDG)')\n",
    "exp_cols.remove('Water use efficiency (SDG)')\n",
    "exp_cols.remove('Water stress (SDG)')\n",
    "\n",
    "expl_choice = widgets.Dropdown(\n",
    "    options=exp_cols,\n",
    "    value=exp_cols[0],\n",
    "    description='Value:',\n",
    "    disabled=False,\n",
    ")\n",
    "\n",
    "trgt_cols = ['Water stress (MDG)', 'Water use efficiency (SDG)', 'Water stress (SDG)']\n",
    "\n",
    "trgt_choice = widgets.Dropdown(\n",
    "    options = trgt_cols,\n",
    "    value = trgt_cols[0],\n",
    "    description = 'Value:',\n",
    "    disabled = False,\n",
    ")\n",
    "\n",
    "log_choice = widgets.Dropdown(\n",
    "    options = ['None', 'Target', 'Explanatory', 'Both'],\n",
    "    value = 'None',\n",
    "    description = 'Selection:',\n",
    "    disabled = False\n",
    ")\n",
    "\n",
    "selection = widgets.Accordion(children=[expl_choice, trgt_choice, log_choice])\n",
    "selection.set_title(0, 'Explanatory variable')\n",
    "selection.set_title(1, 'Target variable')\n",
    "selection.set_title(2, 'Take log of variables')\n",
    "selection"
   ]
  },
  {
   "cell_type": "code",
   "execution_count": 70,
   "id": "7b95f1d2",
   "metadata": {},
   "outputs": [
    {
     "data": {
      "text/plain": [
       "Text(0.5, 1.0, 'Exploratory plot')"
      ]
     },
     "execution_count": 70,
     "metadata": {},
     "output_type": "execute_result"
    },
    {
     "data": {
      "image/png": "[encoded data removed]",
      "text/plain": [
       "<Figure size 432x288 with 1 Axes>"
      ]
     },
     "metadata": {
      "needs_background": "light"
     },
     "output_type": "display_data"
    }
   ],
   "source": [
    "if log_choice.value == 'None':\n",
    "    plt.scatter(x = allclimate[expl_choice.value], y = (allclimate[trgt_choice.value]))\n",
    "elif log_choice.value == 'Target':\n",
    "    plt.scatter(x = allclimate[expl_choice.value], y = np.log(allclimate[trgt_choice.value]))\n",
    "elif log_choice.value == 'Explanatory':\n",
    "    plt.scatter(x = np.log(allclimate[expl_choice.value]), y = (allclimate[trgt_choice.value]))\n",
    "elif log_choice.value == 'Both':\n",
    "    plt.scatter(x = np.log(allclimate[expl_choice.value]), y = np.log(allclimate[trgt_choice.value]))\n",
    "plt.xlabel(expl_choice.value)\n",
    "plt.ylabel(trgt_choice.value)\n",
    "plt.title('Exploratory plot')"
   ]
  },
  {
   "cell_type": "markdown",
   "id": "0f3e9524",
   "metadata": {},
   "source": [
    "If we play aroung with the plots we can see that the target variables have a distribution with many small values and a few very large values. If we take the *log()* of the target values the plots look a lot better and much more readable. This is something that we should keep in mind when creating model, especially regression models.\n",
    "\n",
    "All the water resource explanatory variables suffer from a similar problem of having varied values with many small values and a few very large values.\n"
   ]
  },
  {
   "cell_type": "markdown",
   "id": "f47d0bc5",
   "metadata": {},
   "source": [
    "## Basic modelling\n",
    "\n",
    "We will use some basic modelling techniques to whether there are any interesting behaviours in the data. Based on the exploratory plots, it would make sese to use the *log()* values for some of the variables, both explanatory andtarget, for some types of the modelling techniques."
   ]
  },
  {
   "cell_type": "code",
   "execution_count": null,
   "id": "a0d6c6f4",
   "metadata": {},
   "outputs": [],
   "source": []
  },
  {
   "cell_type": "code",
   "execution_count": null,
   "id": "7602ce8e",
   "metadata": {},
   "outputs": [],
   "source": []
  }
 ],
 "metadata": {
  "kernelspec": {
   "display_name": "Python 3",
   "language": "python",
   "name": "python3"
  },
  "language_info": {
   "codemirror_mode": {
    "name": "ipython",
    "version": 3
   },
   "file_extension": ".py",
   "mimetype": "text/x-python",
   "name": "python",
   "nbconvert_exporter": "python",
   "pygments_lexer": "ipython3",
   "version": "3.6.13"
  }
 },
 "nbformat": 4,
 "nbformat_minor": 5
}
