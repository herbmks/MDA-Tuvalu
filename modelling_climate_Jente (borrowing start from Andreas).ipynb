{
 "cells": [
  {
   "cell_type": "markdown",
   "metadata": {},
   "source": [
    "# Pipeline Climate Factors"
   ]
  },
  {
   "cell_type": "markdown",
   "metadata": {},
   "source": [
    "## 1. Import Modules"
   ]
  },
  {
   "cell_type": "code",
   "execution_count": 4,
   "metadata": {
    "ExecuteTime": {
     "end_time": "2021-05-12T12:54:49.448316Z",
     "start_time": "2021-05-12T12:54:47.558137Z"
    }
   },
   "outputs": [],
   "source": [
    "import pandas as pd\n",
    "import numpy as np\n",
    "import matplotlib.pyplot as plt\n",
    "from sklearn.model_selection import train_test_split, GridSearchCV\n",
    "from sklearn.preprocessing import StandardScaler, RobustScaler, QuantileTransformer, FunctionTransformer, MinMaxScaler, Normalizer\n",
    "from sklearn.ensemble import RandomForestRegressor\n",
    "from sklearn.decomposition import PCA\n",
    "from sklearn.cluster import KMeans\n",
    "from sklearn.pipeline import Pipeline\n",
    "from sklearn.metrics import r2_score, accuracy_score\n",
    "from sklearn.impute import KNNImputer\n",
    "from sklearn.compose import ColumnTransformer\n",
    "from scipy.stats import shapiro\n",
    "from sklearn.linear_model import LinearRegression, Ridge, Lasso\n",
    "from sklearn.metrics import classification_report,  confusion_matrix\n",
    "from sklearn.multioutput import MultiOutputRegressor\n",
    "from sklearn.svm import SVR"
   ]
  },
  {
   "cell_type": "markdown",
   "metadata": {
    "ExecuteTime": {
     "end_time": "2021-05-12T12:28:44.583585Z",
     "start_time": "2021-05-12T12:28:44.568582Z"
    }
   },
   "source": [
    "pd.set_option('display.max_columns', None)\n",
    "pd.set_option('display.max_rows', None)\n",
    "pd.set_option('display.max_colwidth', None)"
   ]
  },
  {
   "cell_type": "markdown",
   "metadata": {},
   "source": [
    "## 2. Prepare Data"
   ]
  },
  {
   "cell_type": "markdown",
   "metadata": {},
   "source": [
    "### 2.1 Load Data"
   ]
  },
  {
   "cell_type": "code",
   "execution_count": 5,
   "metadata": {
    "ExecuteTime": {
     "end_time": "2021-05-12T12:54:49.703663Z",
     "start_time": "2021-05-12T12:54:49.688659Z"
    }
   },
   "outputs": [
    {
     "data": {
      "text/html": [
       "<div>\n",
       "<style scoped>\n",
       "    .dataframe tbody tr th:only-of-type {\n",
       "        vertical-align: middle;\n",
       "    }\n",
       "\n",
       "    .dataframe tbody tr th {\n",
       "        vertical-align: top;\n",
       "    }\n",
       "\n",
       "    .dataframe thead th {\n",
       "        text-align: right;\n",
       "    }\n",
       "</style>\n",
       "<table border=\"1\" class=\"dataframe\">\n",
       "  <thead>\n",
       "    <tr style=\"text-align: right;\">\n",
       "      <th></th>\n",
       "      <th>Country</th>\n",
       "      <th>WS_MDG</th>\n",
       "      <th>WUE_SDG</th>\n",
       "      <th>WS_SDG</th>\n",
       "      <th>Temp</th>\n",
       "      <th>Rain</th>\n",
       "      <th>IRWR</th>\n",
       "      <th>ERWR</th>\n",
       "      <th>TRWR</th>\n",
       "      <th>Dep_ratio</th>\n",
       "      <th>rural_pop</th>\n",
       "      <th>urban_pop</th>\n",
       "      <th>HDI</th>\n",
       "      <th>r_u</th>\n",
       "      <th>r_u_access</th>\n",
       "      <th>pop_growth</th>\n",
       "      <th>mort_rate</th>\n",
       "      <th>GDP_pcp</th>\n",
       "      <th>life_ex</th>\n",
       "    </tr>\n",
       "  </thead>\n",
       "  <tbody>\n",
       "    <tr>\n",
       "      <th>0</th>\n",
       "      <td>AFG</td>\n",
       "      <td>31.045462</td>\n",
       "      <td>0.923778</td>\n",
       "      <td>54.757019</td>\n",
       "      <td>14.074742</td>\n",
       "      <td>349.736945</td>\n",
       "      <td>47.15</td>\n",
       "      <td>18.18</td>\n",
       "      <td>65.33</td>\n",
       "      <td>0.278280</td>\n",
       "      <td>26558.609</td>\n",
       "      <td>8971.472</td>\n",
       "      <td>0.493</td>\n",
       "      <td>2.960340</td>\n",
       "      <td>0.601023</td>\n",
       "      <td>3.06</td>\n",
       "      <td>53.2</td>\n",
       "      <td>2226.0</td>\n",
       "      <td>63.4</td>\n",
       "    </tr>\n",
       "    <tr>\n",
       "      <th>1</th>\n",
       "      <td>AGO</td>\n",
       "      <td>0.475539</td>\n",
       "      <td>142.467836</td>\n",
       "      <td>1.871883</td>\n",
       "      <td>22.182196</td>\n",
       "      <td>960.024065</td>\n",
       "      <td>148.00</td>\n",
       "      <td>0.40</td>\n",
       "      <td>148.40</td>\n",
       "      <td>0.002695</td>\n",
       "      <td>10472.554</td>\n",
       "      <td>19311.639</td>\n",
       "      <td>0.576</td>\n",
       "      <td>0.542292</td>\n",
       "      <td>0.374005</td>\n",
       "      <td>3.44</td>\n",
       "      <td>58.6</td>\n",
       "      <td>7859.4</td>\n",
       "      <td>59.2</td>\n",
       "    </tr>\n",
       "    <tr>\n",
       "      <th>2</th>\n",
       "      <td>ALB</td>\n",
       "      <td>3.933775</td>\n",
       "      <td>6.656907</td>\n",
       "      <td>7.139423</td>\n",
       "      <td>12.754647</td>\n",
       "      <td>1079.459167</td>\n",
       "      <td>26.90</td>\n",
       "      <td>3.30</td>\n",
       "      <td>30.20</td>\n",
       "      <td>0.109272</td>\n",
       "      <td>1190.155</td>\n",
       "      <td>1740.032</td>\n",
       "      <td>0.789</td>\n",
       "      <td>0.683985</td>\n",
       "      <td>1.003161</td>\n",
       "      <td>-0.20</td>\n",
       "      <td>8.6</td>\n",
       "      <td>12227.4</td>\n",
       "      <td>78.0</td>\n",
       "    </tr>\n",
       "    <tr>\n",
       "      <th>3</th>\n",
       "      <td>ARE</td>\n",
       "      <td>1708.000000</td>\n",
       "      <td>92.773763</td>\n",
       "      <td>1708.000000</td>\n",
       "      <td>28.010773</td>\n",
       "      <td>64.449765</td>\n",
       "      <td>0.15</td>\n",
       "      <td>0.00</td>\n",
       "      <td>0.15</td>\n",
       "      <td>0.000000</td>\n",
       "      <td>1292.709</td>\n",
       "      <td>8107.436</td>\n",
       "      <td>0.864</td>\n",
       "      <td>0.159447</td>\n",
       "      <td>1.004016</td>\n",
       "      <td>0.74</td>\n",
       "      <td>7.0</td>\n",
       "      <td>64243.0</td>\n",
       "      <td>77.2</td>\n",
       "    </tr>\n",
       "    <tr>\n",
       "      <th>4</th>\n",
       "      <td>ARG</td>\n",
       "      <td>4.301333</td>\n",
       "      <td>13.616564</td>\n",
       "      <td>10.456664</td>\n",
       "      <td>14.767043</td>\n",
       "      <td>598.510300</td>\n",
       "      <td>292.00</td>\n",
       "      <td>584.24</td>\n",
       "      <td>876.24</td>\n",
       "      <td>0.666758</td>\n",
       "      <td>3652.804</td>\n",
       "      <td>40618.237</td>\n",
       "      <td>0.832</td>\n",
       "      <td>0.089930</td>\n",
       "      <td>1.010101</td>\n",
       "      <td>1.08</td>\n",
       "      <td>10.2</td>\n",
       "      <td>23732.2</td>\n",
       "      <td>76.0</td>\n",
       "    </tr>\n",
       "  </tbody>\n",
       "</table>\n",
       "</div>"
      ],
      "text/plain": [
       "  Country       WS_MDG     WUE_SDG       WS_SDG       Temp         Rain  \\\n",
       "0     AFG    31.045462    0.923778    54.757019  14.074742   349.736945   \n",
       "1     AGO     0.475539  142.467836     1.871883  22.182196   960.024065   \n",
       "2     ALB     3.933775    6.656907     7.139423  12.754647  1079.459167   \n",
       "3     ARE  1708.000000   92.773763  1708.000000  28.010773    64.449765   \n",
       "4     ARG     4.301333   13.616564    10.456664  14.767043   598.510300   \n",
       "\n",
       "     IRWR    ERWR    TRWR  Dep_ratio  rural_pop  urban_pop    HDI       r_u  \\\n",
       "0   47.15   18.18   65.33   0.278280  26558.609   8971.472  0.493  2.960340   \n",
       "1  148.00    0.40  148.40   0.002695  10472.554  19311.639  0.576  0.542292   \n",
       "2   26.90    3.30   30.20   0.109272   1190.155   1740.032  0.789  0.683985   \n",
       "3    0.15    0.00    0.15   0.000000   1292.709   8107.436  0.864  0.159447   \n",
       "4  292.00  584.24  876.24   0.666758   3652.804  40618.237  0.832  0.089930   \n",
       "\n",
       "   r_u_access  pop_growth  mort_rate  GDP_pcp  life_ex  \n",
       "0    0.601023        3.06       53.2   2226.0     63.4  \n",
       "1    0.374005        3.44       58.6   7859.4     59.2  \n",
       "2    1.003161       -0.20        8.6  12227.4     78.0  \n",
       "3    1.004016        0.74        7.0  64243.0     77.2  \n",
       "4    1.010101        1.08       10.2  23732.2     76.0  "
      ]
     },
     "execution_count": 5,
     "metadata": {},
     "output_type": "execute_result"
    }
   ],
   "source": [
    "df = pd.read_csv('clean data/final_data.csv', index_col=0)\n",
    "df.head()"
   ]
  },
  {
   "cell_type": "markdown",
   "metadata": {},
   "source": [
    "### 2.1 Add additional climate variables"
   ]
  },
  {
   "cell_type": "code",
   "execution_count": 6,
   "metadata": {
    "ExecuteTime": {
     "end_time": "2021-05-12T12:54:50.936347Z",
     "start_time": "2021-05-12T12:54:50.922344Z"
    }
   },
   "outputs": [],
   "source": [
    "df['IRWR_capita'] = df['IRWR'] / ((df['urban_pop'] + df['rural_pop']) * 1000)\n",
    "df['ERWR_capita'] = df['ERWR'] / ((df['urban_pop'] + df['rural_pop']) * 1000)\n",
    "df['TRWR_capita'] = df['TRWR'] / ((df['urban_pop'] + df['rural_pop']) * 1000)"
   ]
  },
  {
   "cell_type": "code",
   "execution_count": 7,
   "metadata": {},
   "outputs": [
    {
     "data": {
      "text/html": [
       "<div>\n",
       "<style scoped>\n",
       "    .dataframe tbody tr th:only-of-type {\n",
       "        vertical-align: middle;\n",
       "    }\n",
       "\n",
       "    .dataframe tbody tr th {\n",
       "        vertical-align: top;\n",
       "    }\n",
       "\n",
       "    .dataframe thead th {\n",
       "        text-align: right;\n",
       "    }\n",
       "</style>\n",
       "<table border=\"1\" class=\"dataframe\">\n",
       "  <thead>\n",
       "    <tr style=\"text-align: right;\">\n",
       "      <th></th>\n",
       "      <th>Country</th>\n",
       "      <th>WS_MDG</th>\n",
       "      <th>WUE_SDG</th>\n",
       "      <th>WS_SDG</th>\n",
       "      <th>Temp</th>\n",
       "      <th>Rain</th>\n",
       "      <th>IRWR</th>\n",
       "      <th>ERWR</th>\n",
       "      <th>TRWR</th>\n",
       "      <th>Dep_ratio</th>\n",
       "      <th>...</th>\n",
       "      <th>HDI</th>\n",
       "      <th>r_u</th>\n",
       "      <th>r_u_access</th>\n",
       "      <th>pop_growth</th>\n",
       "      <th>mort_rate</th>\n",
       "      <th>GDP_pcp</th>\n",
       "      <th>life_ex</th>\n",
       "      <th>IRWR_capita</th>\n",
       "      <th>ERWR_capita</th>\n",
       "      <th>TRWR_capita</th>\n",
       "    </tr>\n",
       "  </thead>\n",
       "  <tbody>\n",
       "    <tr>\n",
       "      <th>0</th>\n",
       "      <td>AFG</td>\n",
       "      <td>31.045462</td>\n",
       "      <td>0.923778</td>\n",
       "      <td>54.757019</td>\n",
       "      <td>14.074742</td>\n",
       "      <td>349.736945</td>\n",
       "      <td>47.15</td>\n",
       "      <td>18.18</td>\n",
       "      <td>65.33</td>\n",
       "      <td>0.278280</td>\n",
       "      <td>...</td>\n",
       "      <td>0.493</td>\n",
       "      <td>2.960340</td>\n",
       "      <td>0.601023</td>\n",
       "      <td>3.06</td>\n",
       "      <td>53.2</td>\n",
       "      <td>2226.0</td>\n",
       "      <td>63.4</td>\n",
       "      <td>1.327045e-06</td>\n",
       "      <td>5.116791e-07</td>\n",
       "      <td>1.838724e-06</td>\n",
       "    </tr>\n",
       "    <tr>\n",
       "      <th>1</th>\n",
       "      <td>AGO</td>\n",
       "      <td>0.475539</td>\n",
       "      <td>142.467836</td>\n",
       "      <td>1.871883</td>\n",
       "      <td>22.182196</td>\n",
       "      <td>960.024065</td>\n",
       "      <td>148.00</td>\n",
       "      <td>0.40</td>\n",
       "      <td>148.40</td>\n",
       "      <td>0.002695</td>\n",
       "      <td>...</td>\n",
       "      <td>0.576</td>\n",
       "      <td>0.542292</td>\n",
       "      <td>0.374005</td>\n",
       "      <td>3.44</td>\n",
       "      <td>58.6</td>\n",
       "      <td>7859.4</td>\n",
       "      <td>59.2</td>\n",
       "      <td>4.969079e-06</td>\n",
       "      <td>1.342994e-08</td>\n",
       "      <td>4.982509e-06</td>\n",
       "    </tr>\n",
       "    <tr>\n",
       "      <th>2</th>\n",
       "      <td>ALB</td>\n",
       "      <td>3.933775</td>\n",
       "      <td>6.656907</td>\n",
       "      <td>7.139423</td>\n",
       "      <td>12.754647</td>\n",
       "      <td>1079.459167</td>\n",
       "      <td>26.90</td>\n",
       "      <td>3.30</td>\n",
       "      <td>30.20</td>\n",
       "      <td>0.109272</td>\n",
       "      <td>...</td>\n",
       "      <td>0.789</td>\n",
       "      <td>0.683985</td>\n",
       "      <td>1.003161</td>\n",
       "      <td>-0.20</td>\n",
       "      <td>8.6</td>\n",
       "      <td>12227.4</td>\n",
       "      <td>78.0</td>\n",
       "      <td>9.180301e-06</td>\n",
       "      <td>1.126208e-06</td>\n",
       "      <td>1.030651e-05</td>\n",
       "    </tr>\n",
       "    <tr>\n",
       "      <th>3</th>\n",
       "      <td>ARE</td>\n",
       "      <td>1708.000000</td>\n",
       "      <td>92.773763</td>\n",
       "      <td>1708.000000</td>\n",
       "      <td>28.010773</td>\n",
       "      <td>64.449765</td>\n",
       "      <td>0.15</td>\n",
       "      <td>0.00</td>\n",
       "      <td>0.15</td>\n",
       "      <td>0.000000</td>\n",
       "      <td>...</td>\n",
       "      <td>0.864</td>\n",
       "      <td>0.159447</td>\n",
       "      <td>1.004016</td>\n",
       "      <td>0.74</td>\n",
       "      <td>7.0</td>\n",
       "      <td>64243.0</td>\n",
       "      <td>77.2</td>\n",
       "      <td>1.595720e-08</td>\n",
       "      <td>0.000000e+00</td>\n",
       "      <td>1.595720e-08</td>\n",
       "    </tr>\n",
       "    <tr>\n",
       "      <th>4</th>\n",
       "      <td>ARG</td>\n",
       "      <td>4.301333</td>\n",
       "      <td>13.616564</td>\n",
       "      <td>10.456664</td>\n",
       "      <td>14.767043</td>\n",
       "      <td>598.510300</td>\n",
       "      <td>292.00</td>\n",
       "      <td>584.24</td>\n",
       "      <td>876.24</td>\n",
       "      <td>0.666758</td>\n",
       "      <td>...</td>\n",
       "      <td>0.832</td>\n",
       "      <td>0.089930</td>\n",
       "      <td>1.010101</td>\n",
       "      <td>1.08</td>\n",
       "      <td>10.2</td>\n",
       "      <td>23732.2</td>\n",
       "      <td>76.0</td>\n",
       "      <td>6.595734e-06</td>\n",
       "      <td>1.319689e-05</td>\n",
       "      <td>1.979262e-05</td>\n",
       "    </tr>\n",
       "  </tbody>\n",
       "</table>\n",
       "<p>5 rows × 22 columns</p>\n",
       "</div>"
      ],
      "text/plain": [
       "  Country       WS_MDG     WUE_SDG       WS_SDG       Temp         Rain  \\\n",
       "0     AFG    31.045462    0.923778    54.757019  14.074742   349.736945   \n",
       "1     AGO     0.475539  142.467836     1.871883  22.182196   960.024065   \n",
       "2     ALB     3.933775    6.656907     7.139423  12.754647  1079.459167   \n",
       "3     ARE  1708.000000   92.773763  1708.000000  28.010773    64.449765   \n",
       "4     ARG     4.301333   13.616564    10.456664  14.767043   598.510300   \n",
       "\n",
       "     IRWR    ERWR    TRWR  Dep_ratio  ...    HDI       r_u  r_u_access  \\\n",
       "0   47.15   18.18   65.33   0.278280  ...  0.493  2.960340    0.601023   \n",
       "1  148.00    0.40  148.40   0.002695  ...  0.576  0.542292    0.374005   \n",
       "2   26.90    3.30   30.20   0.109272  ...  0.789  0.683985    1.003161   \n",
       "3    0.15    0.00    0.15   0.000000  ...  0.864  0.159447    1.004016   \n",
       "4  292.00  584.24  876.24   0.666758  ...  0.832  0.089930    1.010101   \n",
       "\n",
       "   pop_growth  mort_rate  GDP_pcp  life_ex   IRWR_capita   ERWR_capita  \\\n",
       "0        3.06       53.2   2226.0     63.4  1.327045e-06  5.116791e-07   \n",
       "1        3.44       58.6   7859.4     59.2  4.969079e-06  1.342994e-08   \n",
       "2       -0.20        8.6  12227.4     78.0  9.180301e-06  1.126208e-06   \n",
       "3        0.74        7.0  64243.0     77.2  1.595720e-08  0.000000e+00   \n",
       "4        1.08       10.2  23732.2     76.0  6.595734e-06  1.319689e-05   \n",
       "\n",
       "    TRWR_capita  \n",
       "0  1.838724e-06  \n",
       "1  4.982509e-06  \n",
       "2  1.030651e-05  \n",
       "3  1.595720e-08  \n",
       "4  1.979262e-05  \n",
       "\n",
       "[5 rows x 22 columns]"
      ]
     },
     "execution_count": 7,
     "metadata": {},
     "output_type": "execute_result"
    }
   ],
   "source": [
    "df.head()"
   ]
  },
  {
   "cell_type": "markdown",
   "metadata": {},
   "source": [
    "### 2.2 Split dataframe into chosen predictor and target variables"
   ]
  },
  {
   "cell_type": "code",
   "execution_count": 8,
   "metadata": {
    "ExecuteTime": {
     "end_time": "2021-05-12T12:55:17.609988Z",
     "start_time": "2021-05-12T12:55:17.594362Z"
    }
   },
   "outputs": [],
   "source": [
    "df_pred_climate = df.iloc[:, np.r_[4:6,9:10, 19:22]]\n",
    "df_pred_socioec = df.iloc[:, 10:18]\n",
    "df_target = df.iloc[:, 1:4]"
   ]
  },
  {
   "cell_type": "code",
   "execution_count": 9,
   "metadata": {},
   "outputs": [
    {
     "data": {
      "text/html": [
       "<div>\n",
       "<style scoped>\n",
       "    .dataframe tbody tr th:only-of-type {\n",
       "        vertical-align: middle;\n",
       "    }\n",
       "\n",
       "    .dataframe tbody tr th {\n",
       "        vertical-align: top;\n",
       "    }\n",
       "\n",
       "    .dataframe thead th {\n",
       "        text-align: right;\n",
       "    }\n",
       "</style>\n",
       "<table border=\"1\" class=\"dataframe\">\n",
       "  <thead>\n",
       "    <tr style=\"text-align: right;\">\n",
       "      <th></th>\n",
       "      <th>Temp</th>\n",
       "      <th>Rain</th>\n",
       "      <th>Dep_ratio</th>\n",
       "      <th>IRWR_capita</th>\n",
       "      <th>ERWR_capita</th>\n",
       "      <th>TRWR_capita</th>\n",
       "    </tr>\n",
       "  </thead>\n",
       "  <tbody>\n",
       "    <tr>\n",
       "      <th>0</th>\n",
       "      <td>14.074742</td>\n",
       "      <td>349.736945</td>\n",
       "      <td>0.278280</td>\n",
       "      <td>1.327045e-06</td>\n",
       "      <td>5.116791e-07</td>\n",
       "      <td>1.838724e-06</td>\n",
       "    </tr>\n",
       "    <tr>\n",
       "      <th>1</th>\n",
       "      <td>22.182196</td>\n",
       "      <td>960.024065</td>\n",
       "      <td>0.002695</td>\n",
       "      <td>4.969079e-06</td>\n",
       "      <td>1.342994e-08</td>\n",
       "      <td>4.982509e-06</td>\n",
       "    </tr>\n",
       "    <tr>\n",
       "      <th>2</th>\n",
       "      <td>12.754647</td>\n",
       "      <td>1079.459167</td>\n",
       "      <td>0.109272</td>\n",
       "      <td>9.180301e-06</td>\n",
       "      <td>1.126208e-06</td>\n",
       "      <td>1.030651e-05</td>\n",
       "    </tr>\n",
       "    <tr>\n",
       "      <th>3</th>\n",
       "      <td>28.010773</td>\n",
       "      <td>64.449765</td>\n",
       "      <td>0.000000</td>\n",
       "      <td>1.595720e-08</td>\n",
       "      <td>0.000000e+00</td>\n",
       "      <td>1.595720e-08</td>\n",
       "    </tr>\n",
       "    <tr>\n",
       "      <th>4</th>\n",
       "      <td>14.767043</td>\n",
       "      <td>598.510300</td>\n",
       "      <td>0.666758</td>\n",
       "      <td>6.595734e-06</td>\n",
       "      <td>1.319689e-05</td>\n",
       "      <td>1.979262e-05</td>\n",
       "    </tr>\n",
       "  </tbody>\n",
       "</table>\n",
       "</div>"
      ],
      "text/plain": [
       "        Temp         Rain  Dep_ratio   IRWR_capita   ERWR_capita   TRWR_capita\n",
       "0  14.074742   349.736945   0.278280  1.327045e-06  5.116791e-07  1.838724e-06\n",
       "1  22.182196   960.024065   0.002695  4.969079e-06  1.342994e-08  4.982509e-06\n",
       "2  12.754647  1079.459167   0.109272  9.180301e-06  1.126208e-06  1.030651e-05\n",
       "3  28.010773    64.449765   0.000000  1.595720e-08  0.000000e+00  1.595720e-08\n",
       "4  14.767043   598.510300   0.666758  6.595734e-06  1.319689e-05  1.979262e-05"
      ]
     },
     "execution_count": 9,
     "metadata": {},
     "output_type": "execute_result"
    }
   ],
   "source": [
    "df_pred_climate.head()"
   ]
  },
  {
   "cell_type": "code",
   "execution_count": 10,
   "metadata": {},
   "outputs": [
    {
     "data": {
      "text/html": [
       "<div>\n",
       "<style scoped>\n",
       "    .dataframe tbody tr th:only-of-type {\n",
       "        vertical-align: middle;\n",
       "    }\n",
       "\n",
       "    .dataframe tbody tr th {\n",
       "        vertical-align: top;\n",
       "    }\n",
       "\n",
       "    .dataframe thead th {\n",
       "        text-align: right;\n",
       "    }\n",
       "</style>\n",
       "<table border=\"1\" class=\"dataframe\">\n",
       "  <thead>\n",
       "    <tr style=\"text-align: right;\">\n",
       "      <th></th>\n",
       "      <th>rural_pop</th>\n",
       "      <th>urban_pop</th>\n",
       "      <th>HDI</th>\n",
       "      <th>r_u</th>\n",
       "      <th>r_u_access</th>\n",
       "      <th>pop_growth</th>\n",
       "      <th>mort_rate</th>\n",
       "      <th>GDP_pcp</th>\n",
       "    </tr>\n",
       "  </thead>\n",
       "  <tbody>\n",
       "    <tr>\n",
       "      <th>0</th>\n",
       "      <td>26558.609</td>\n",
       "      <td>8971.472</td>\n",
       "      <td>0.493</td>\n",
       "      <td>2.960340</td>\n",
       "      <td>0.601023</td>\n",
       "      <td>3.06</td>\n",
       "      <td>53.2</td>\n",
       "      <td>2226.0</td>\n",
       "    </tr>\n",
       "    <tr>\n",
       "      <th>1</th>\n",
       "      <td>10472.554</td>\n",
       "      <td>19311.639</td>\n",
       "      <td>0.576</td>\n",
       "      <td>0.542292</td>\n",
       "      <td>0.374005</td>\n",
       "      <td>3.44</td>\n",
       "      <td>58.6</td>\n",
       "      <td>7859.4</td>\n",
       "    </tr>\n",
       "    <tr>\n",
       "      <th>2</th>\n",
       "      <td>1190.155</td>\n",
       "      <td>1740.032</td>\n",
       "      <td>0.789</td>\n",
       "      <td>0.683985</td>\n",
       "      <td>1.003161</td>\n",
       "      <td>-0.20</td>\n",
       "      <td>8.6</td>\n",
       "      <td>12227.4</td>\n",
       "    </tr>\n",
       "    <tr>\n",
       "      <th>3</th>\n",
       "      <td>1292.709</td>\n",
       "      <td>8107.436</td>\n",
       "      <td>0.864</td>\n",
       "      <td>0.159447</td>\n",
       "      <td>1.004016</td>\n",
       "      <td>0.74</td>\n",
       "      <td>7.0</td>\n",
       "      <td>64243.0</td>\n",
       "    </tr>\n",
       "    <tr>\n",
       "      <th>4</th>\n",
       "      <td>3652.804</td>\n",
       "      <td>40618.237</td>\n",
       "      <td>0.832</td>\n",
       "      <td>0.089930</td>\n",
       "      <td>1.010101</td>\n",
       "      <td>1.08</td>\n",
       "      <td>10.2</td>\n",
       "      <td>23732.2</td>\n",
       "    </tr>\n",
       "  </tbody>\n",
       "</table>\n",
       "</div>"
      ],
      "text/plain": [
       "   rural_pop  urban_pop    HDI       r_u  r_u_access  pop_growth  mort_rate  \\\n",
       "0  26558.609   8971.472  0.493  2.960340    0.601023        3.06       53.2   \n",
       "1  10472.554  19311.639  0.576  0.542292    0.374005        3.44       58.6   \n",
       "2   1190.155   1740.032  0.789  0.683985    1.003161       -0.20        8.6   \n",
       "3   1292.709   8107.436  0.864  0.159447    1.004016        0.74        7.0   \n",
       "4   3652.804  40618.237  0.832  0.089930    1.010101        1.08       10.2   \n",
       "\n",
       "   GDP_pcp  \n",
       "0   2226.0  \n",
       "1   7859.4  \n",
       "2  12227.4  \n",
       "3  64243.0  \n",
       "4  23732.2  "
      ]
     },
     "execution_count": 10,
     "metadata": {},
     "output_type": "execute_result"
    }
   ],
   "source": [
    "df_pred_socioec.head()"
   ]
  },
  {
   "cell_type": "markdown",
   "metadata": {},
   "source": [
    "## 3. dimensionality reduction"
   ]
  },
  {
   "cell_type": "markdown",
   "metadata": {},
   "source": [
    "### 3.1. PCA climate"
   ]
  },
  {
   "cell_type": "code",
   "execution_count": 11,
   "metadata": {},
   "outputs": [],
   "source": [
    "df_climate_st = StandardScaler().fit_transform(df_pred_climate)\n"
   ]
  },
  {
   "cell_type": "code",
   "execution_count": 12,
   "metadata": {},
   "outputs": [],
   "source": [
    "pca_cl = PCA(n_components=3)"
   ]
  },
  {
   "cell_type": "code",
   "execution_count": 13,
   "metadata": {},
   "outputs": [],
   "source": [
    "pca_cl_fit = pca_cl.fit_transform(df_climate_st)"
   ]
  },
  {
   "cell_type": "code",
   "execution_count": 14,
   "metadata": {},
   "outputs": [
    {
     "data": {
      "text/plain": [
       "array([[-0.23840768,  0.16543886, -0.14849401,  0.65429923,  0.15648811,\n",
       "         0.66418768],\n",
       "       [-0.05135407, -0.36973778,  0.72334101, -0.01634961,  0.56864627,\n",
       "         0.1175101 ],\n",
       "       [ 0.6406001 ,  0.63537163,  0.02921009, -0.06219761,  0.4238429 ,\n",
       "         0.03962107]])"
      ]
     },
     "execution_count": 14,
     "metadata": {},
     "output_type": "execute_result"
    }
   ],
   "source": [
    "pca_cl.components_\n"
   ]
  },
  {
   "cell_type": "markdown",
   "metadata": {},
   "source": [
    "component 1 loads high on IRWR_capita, TRWR_capita --> water resources\n",
    "\n",
    "\\n component 2 loads high on dep_ratio, ERWR --> externality/dependence\n",
    "\n",
    "\\n component 3 loads high on temp,rain, erwr --> climate factor"
   ]
  },
  {
   "cell_type": "code",
   "execution_count": 15,
   "metadata": {},
   "outputs": [
    {
     "name": "stdout",
     "output_type": "stream",
     "text": [
      "Explained Variance =  [2.18254258 1.39407877 1.33066562]\n"
     ]
    }
   ],
   "source": [
    "print('Explained Variance = ', pca_cl.explained_variance_)"
   ]
  },
  {
   "cell_type": "markdown",
   "metadata": {},
   "source": [
    "### 3.2. PCA socioec"
   ]
  },
  {
   "cell_type": "code",
   "execution_count": 16,
   "metadata": {},
   "outputs": [],
   "source": [
    "df_socioec_st = StandardScaler().fit_transform(df_pred_socioec)\n",
    "pca_sec = PCA(n_components=3)\n",
    "pca_sec_fit = pca_sec.fit_transform(df_socioec_st)"
   ]
  },
  {
   "cell_type": "code",
   "execution_count": 17,
   "metadata": {},
   "outputs": [
    {
     "data": {
      "text/plain": [
       "Index(['rural_pop', 'urban_pop', 'HDI', 'r_u', 'r_u_access', 'pop_growth',\n",
       "       'mort_rate', 'GDP_pcp'],\n",
       "      dtype='object')"
      ]
     },
     "execution_count": 17,
     "metadata": {},
     "output_type": "execute_result"
    }
   ],
   "source": [
    "df_pred_socioec.columns"
   ]
  },
  {
   "cell_type": "code",
   "execution_count": 18,
   "metadata": {},
   "outputs": [
    {
     "data": {
      "text/plain": [
       "array([[ 0.02177992, -0.05194561, -0.49463955,  0.34170165, -0.4104213 ,\n",
       "         0.30293245,  0.4663791 , -0.39708413],\n",
       "       [ 0.69910472,  0.69130434, -0.02950557,  0.06245959,  0.05920273,\n",
       "        -0.11689803,  0.00446021, -0.1067198 ],\n",
       "       [ 0.09721653,  0.15336383,  0.08364942, -0.40114641, -0.23298698,\n",
       "         0.74314214,  0.07549006,  0.43228565]])"
      ]
     },
     "execution_count": 18,
     "metadata": {},
     "output_type": "execute_result"
    }
   ],
   "source": [
    "pca_sec.components_\n"
   ]
  },
  {
   "cell_type": "markdown",
   "metadata": {},
   "source": [
    "Component 1 loads moderately negative on HDI, r_u_acces, GDP_pcp; moderately positive on mort_rate, pop_growth, r_u --> proxy for low development\n",
    "\n",
    "Component 2 loads strongly on rural_pop, urban_pop --> proxy for population\n",
    "\n",
    "Component 3 loads negative on r_u, high on pop_growth, moderate on HDI --> population growth with gdp?"
   ]
  },
  {
   "cell_type": "code",
   "execution_count": 19,
   "metadata": {},
   "outputs": [
    {
     "name": "stdout",
     "output_type": "stream",
     "text": [
      "Explained Variance =  [3.88269356 1.88645794 0.86243428]\n"
     ]
    }
   ],
   "source": [
    "print('Explained Variance = ', pca_sec.explained_variance_)"
   ]
  },
  {
   "cell_type": "markdown",
   "metadata": {},
   "source": [
    "low explained variance for PC3 let's drop"
   ]
  },
  {
   "cell_type": "code",
   "execution_count": 20,
   "metadata": {},
   "outputs": [],
   "source": [
    "df_socioec_st = StandardScaler().fit_transform(df_pred_socioec)\n",
    "pca_sec = PCA(n_components=2)\n",
    "pca_sec_fit = pca_sec.fit_transform(df_socioec_st)"
   ]
  },
  {
   "cell_type": "markdown",
   "metadata": {},
   "source": [
    "let's take the two principal components for socioec and three principal components for climate as new explanatory variables "
   ]
  },
  {
   "cell_type": "code",
   "execution_count": 21,
   "metadata": {},
   "outputs": [
    {
     "data": {
      "text/html": [
       "<div>\n",
       "<style scoped>\n",
       "    .dataframe tbody tr th:only-of-type {\n",
       "        vertical-align: middle;\n",
       "    }\n",
       "\n",
       "    .dataframe tbody tr th {\n",
       "        vertical-align: top;\n",
       "    }\n",
       "\n",
       "    .dataframe thead th {\n",
       "        text-align: right;\n",
       "    }\n",
       "</style>\n",
       "<table border=\"1\" class=\"dataframe\">\n",
       "  <thead>\n",
       "    <tr style=\"text-align: right;\">\n",
       "      <th></th>\n",
       "      <th>sec_PC1</th>\n",
       "      <th>sec_PC2</th>\n",
       "      <th>cl_PCA1</th>\n",
       "      <th>cl_PCA2</th>\n",
       "      <th>cl_PCA3</th>\n",
       "    </tr>\n",
       "  </thead>\n",
       "  <tbody>\n",
       "    <tr>\n",
       "      <th>0</th>\n",
       "      <td>3.187162</td>\n",
       "      <td>-0.149055</td>\n",
       "      <td>-0.402480</td>\n",
       "      <td>0.245839</td>\n",
       "      <td>-1.215637</td>\n",
       "    </tr>\n",
       "    <tr>\n",
       "      <th>1</th>\n",
       "      <td>2.926301</td>\n",
       "      <td>-0.469594</td>\n",
       "      <td>-0.296487</td>\n",
       "      <td>-0.781350</td>\n",
       "      <td>-0.045688</td>\n",
       "    </tr>\n",
       "    <tr>\n",
       "      <th>2</th>\n",
       "      <td>-1.368661</td>\n",
       "      <td>-0.155260</td>\n",
       "      <td>0.116140</td>\n",
       "      <td>-0.466997</td>\n",
       "      <td>-0.676084</td>\n",
       "    </tr>\n",
       "    <tr>\n",
       "      <th>3</th>\n",
       "      <td>-2.555001</td>\n",
       "      <td>-0.507111</td>\n",
       "      <td>-0.816780</td>\n",
       "      <td>-0.375462</td>\n",
       "      <td>-0.351853</td>\n",
       "    </tr>\n",
       "    <tr>\n",
       "      <th>4</th>\n",
       "      <td>-1.570293</td>\n",
       "      <td>-0.059512</td>\n",
       "      <td>-0.070081</td>\n",
       "      <td>1.674398</td>\n",
       "      <td>-0.432794</td>\n",
       "    </tr>\n",
       "    <tr>\n",
       "      <th>...</th>\n",
       "      <td>...</td>\n",
       "      <td>...</td>\n",
       "      <td>...</td>\n",
       "      <td>...</td>\n",
       "      <td>...</td>\n",
       "    </tr>\n",
       "    <tr>\n",
       "      <th>117</th>\n",
       "      <td>-2.728887</td>\n",
       "      <td>1.899395</td>\n",
       "      <td>0.161417</td>\n",
       "      <td>-0.328137</td>\n",
       "      <td>-1.398394</td>\n",
       "    </tr>\n",
       "    <tr>\n",
       "      <th>118</th>\n",
       "      <td>0.272298</td>\n",
       "      <td>-0.124219</td>\n",
       "      <td>-0.610957</td>\n",
       "      <td>1.232120</td>\n",
       "      <td>-1.292956</td>\n",
       "    </tr>\n",
       "    <tr>\n",
       "      <th>119</th>\n",
       "      <td>-0.068673</td>\n",
       "      <td>0.503873</td>\n",
       "      <td>-0.335298</td>\n",
       "      <td>0.376901</td>\n",
       "      <td>1.251310</td>\n",
       "    </tr>\n",
       "    <tr>\n",
       "      <th>120</th>\n",
       "      <td>0.162996</td>\n",
       "      <td>0.022160</td>\n",
       "      <td>-0.484369</td>\n",
       "      <td>-0.183493</td>\n",
       "      <td>-0.818301</td>\n",
       "    </tr>\n",
       "    <tr>\n",
       "      <th>121</th>\n",
       "      <td>2.270050</td>\n",
       "      <td>-0.390722</td>\n",
       "      <td>-0.398520</td>\n",
       "      <td>-0.138307</td>\n",
       "      <td>-0.008676</td>\n",
       "    </tr>\n",
       "  </tbody>\n",
       "</table>\n",
       "<p>122 rows × 5 columns</p>\n",
       "</div>"
      ],
      "text/plain": [
       "      sec_PC1   sec_PC2   cl_PCA1   cl_PCA2   cl_PCA3\n",
       "0    3.187162 -0.149055 -0.402480  0.245839 -1.215637\n",
       "1    2.926301 -0.469594 -0.296487 -0.781350 -0.045688\n",
       "2   -1.368661 -0.155260  0.116140 -0.466997 -0.676084\n",
       "3   -2.555001 -0.507111 -0.816780 -0.375462 -0.351853\n",
       "4   -1.570293 -0.059512 -0.070081  1.674398 -0.432794\n",
       "..        ...       ...       ...       ...       ...\n",
       "117 -2.728887  1.899395  0.161417 -0.328137 -1.398394\n",
       "118  0.272298 -0.124219 -0.610957  1.232120 -1.292956\n",
       "119 -0.068673  0.503873 -0.335298  0.376901  1.251310\n",
       "120  0.162996  0.022160 -0.484369 -0.183493 -0.818301\n",
       "121  2.270050 -0.390722 -0.398520 -0.138307 -0.008676\n",
       "\n",
       "[122 rows x 5 columns]"
      ]
     },
     "execution_count": 21,
     "metadata": {},
     "output_type": "execute_result"
    }
   ],
   "source": [
    "ev_pca = pd.DataFrame(data = np.column_stack((pca_sec_fit,pca_cl_fit)),\n",
    "                     columns = ['sec_PC1','sec_PC2','cl_PCA1',\n",
    "                                'cl_PCA2','cl_PCA3'])\n",
    "ev_pca"
   ]
  },
  {
   "cell_type": "markdown",
   "metadata": {},
   "source": [
    "## 4. models\n"
   ]
  },
  {
   "cell_type": "code",
   "execution_count": 22,
   "metadata": {},
   "outputs": [],
   "source": [
    "from sklearn.metrics import mean_squared_error, r2_score"
   ]
  },
  {
   "cell_type": "code",
   "execution_count": 23,
   "metadata": {},
   "outputs": [],
   "source": [
    "ev_pca_tr, ev_pca_te, WS_tr, WS_te = train_test_split(\n",
    "                                ev_pca, df['WS_SDG'], test_size=0.2, random_state=42)"
   ]
  },
  {
   "cell_type": "code",
   "execution_count": 24,
   "metadata": {},
   "outputs": [],
   "source": [
    "regr = LinearRegression()"
   ]
  },
  {
   "cell_type": "code",
   "execution_count": 25,
   "metadata": {},
   "outputs": [],
   "source": [
    "reg_pca = regr.fit(ev_pca_tr,WS_tr)\n",
    "reg_pca_tr_pred = regr.predict(ev_pca_tr)\n",
    "reg_pca_te_pred = regr.predict(ev_pca_te)"
   ]
  },
  {
   "cell_type": "code",
   "execution_count": 26,
   "metadata": {},
   "outputs": [
    {
     "name": "stdout",
     "output_type": "stream",
     "text": [
      "Coefficients: \n",
      " [-23.4663472  -11.40768139 -21.79517408  -4.16215389  -5.71340873]\n",
      "Mean squared error: 40331.08\n",
      "train Coefficient of determination: 0.07\n"
     ]
    }
   ],
   "source": [
    "print('Coefficients: \\n', regr.coef_)\n",
    "print('Mean squared error: %.2f'\n",
    "      % mean_squared_error(WS_tr, reg_pca_tr_pred))\n",
    "print('train Coefficient of determination: %.2f'\n",
    "      % r2_score(WS_tr, reg_pca_tr_pred))"
   ]
  },
  {
   "cell_type": "code",
   "execution_count": 27,
   "metadata": {},
   "outputs": [
    {
     "name": "stdout",
     "output_type": "stream",
     "text": [
      "Mean squared error: 562795.01\n",
      "test Coefficient of determination: 0.00\n"
     ]
    }
   ],
   "source": [
    "print('Mean squared error: %.2f'\n",
    "      % mean_squared_error(WS_te, reg_pca_te_pred))\n",
    "print('test Coefficient of determination: %.2f'\n",
    "      % r2_score(WS_te, reg_pca_te_pred))"
   ]
  },
  {
   "cell_type": "markdown",
   "metadata": {},
   "source": [
    "perfectly predictive, as all models should be"
   ]
  },
  {
   "cell_type": "code",
   "execution_count": 28,
   "metadata": {},
   "outputs": [],
   "source": [
    "rfregr = RandomForestRegressor()"
   ]
  },
  {
   "cell_type": "code",
   "execution_count": 29,
   "metadata": {},
   "outputs": [],
   "source": [
    "rfreg_pca = rfregr.fit(ev_pca_tr,WS_tr)\n",
    "rfreg_pca_tr_pred = rfregr.predict(ev_pca_tr)\n",
    "rfreg_pca_te_pred = rfregr.predict(ev_pca_te)"
   ]
  },
  {
   "cell_type": "code",
   "execution_count": 31,
   "metadata": {},
   "outputs": [
    {
     "name": "stdout",
     "output_type": "stream",
     "text": [
      "Mean squared error: 6057.07\n",
      "train Coefficient of determination: 0.86\n"
     ]
    }
   ],
   "source": [
    "print('Mean squared error: %.2f'\n",
    "      % mean_squared_error(WS_tr, rfreg_pca_tr_pred))\n",
    "print('train Coefficient of determination: %.2f'\n",
    "      % r2_score(WS_tr, rfreg_pca_tr_pred))"
   ]
  },
  {
   "cell_type": "code",
   "execution_count": 32,
   "metadata": {},
   "outputs": [
    {
     "name": "stdout",
     "output_type": "stream",
     "text": [
      "Mean squared error: 528603.04\n",
      "test Coefficient of determination: 0.07\n"
     ]
    }
   ],
   "source": [
    "print('Mean squared error: %.2f'\n",
    "      % mean_squared_error(WS_te, rfreg_pca_te_pred))\n",
    "print('test Coefficient of determination: %.2f'\n",
    "      % r2_score(WS_te, rfreg_pca_te_pred))"
   ]
  },
  {
   "cell_type": "markdown",
   "metadata": {},
   "source": [
    "Once again, picture perfect prediction"
   ]
  },
  {
   "cell_type": "markdown",
   "metadata": {},
   "source": [
    "# Using flexible models with this data essentially means we're just fitting random noise"
   ]
  },
  {
   "cell_type": "code",
   "execution_count": 62,
   "metadata": {},
   "outputs": [
    {
     "name": "stdout",
     "output_type": "stream",
     "text": [
      "Mean squared error: 6661.93\n",
      "train Coefficient of determination: 0.85\n",
      "Mean squared error: 606750.58\n",
      "test Coefficient of determination: -0.07\n",
      "Mean squared error: 11076.69\n",
      "train Coefficient of determination: 0.74\n",
      "Mean squared error: 606293.58\n",
      "test Coefficient of determination: -0.07\n",
      "Mean squared error: 7593.29\n",
      "train Coefficient of determination: 0.82\n",
      "Mean squared error: 580705.23\n",
      "test Coefficient of determination: -0.03\n",
      "Mean squared error: 8859.45\n",
      "train Coefficient of determination: 0.80\n",
      "Mean squared error: 576867.75\n",
      "test Coefficient of determination: -0.02\n",
      "Mean squared error: 8628.61\n",
      "train Coefficient of determination: 0.80\n",
      "Mean squared error: 594251.23\n",
      "test Coefficient of determination: -0.05\n",
      "Mean squared error: 8186.43\n",
      "train Coefficient of determination: 0.81\n",
      "Mean squared error: 620477.38\n",
      "test Coefficient of determination: -0.10\n",
      "Mean squared error: 4661.51\n",
      "train Coefficient of determination: 0.89\n",
      "Mean squared error: 497889.38\n",
      "test Coefficient of determination: 0.12\n",
      "Mean squared error: 9471.93\n",
      "train Coefficient of determination: 0.78\n",
      "Mean squared error: 593713.37\n",
      "test Coefficient of determination: -0.05\n",
      "Mean squared error: 7643.67\n",
      "train Coefficient of determination: 0.82\n",
      "Mean squared error: 600360.82\n",
      "test Coefficient of determination: -0.06\n"
     ]
    }
   ],
   "source": [
    "for i in range(1,10):\n",
    "    randomnoiseset = pd.DataFrame(data = np.random.randn(122,5))\n",
    "    noise_tr, noise_te, WS_tr, WS_te = train_test_split(\n",
    "                                    randomnoiseset, df['WS_SDG'], test_size=0.2, random_state=42)\n",
    "    rfregr = RandomForestRegressor()\n",
    "    rfreg_noise = rfregr.fit(noise_tr,WS_tr)\n",
    "    rfreg_noise_tr_pred = rfregr.predict(noise_tr)\n",
    "    rfreg_noise_te_pred = rfregr.predict(noise_te)\n",
    "    print('Mean squared error: %.2f'\n",
    "          % mean_squared_error(WS_tr, rfreg_noise_tr_pred))\n",
    "    print('train Coefficient of determination: %.2f'\n",
    "          % r2_score(WS_tr, rfreg_noise_tr_pred))\n",
    "    print('Mean squared error: %.2f'\n",
    "          % mean_squared_error(WS_te, rfreg_noise_te_pred))\n",
    "    print('test Coefficient of determination: %.2f'\n",
    "          % r2_score(WS_te, rfreg_noise_te_pred))"
   ]
  },
  {
   "cell_type": "markdown",
   "metadata": {},
   "source": [
    "By pure chance you get a test coefficient of determination of 0.12 once, with purely random data, so if we fit too many models with this data by pure chance we will get a model once that fits the test set somewhat okay-ish, even with pure noise\n",
    "\n",
    "If we want to work in this way we'd need to introduce a validation set which further reduces our data"
   ]
  }
 ],
 "metadata": {
  "kernelspec": {
   "display_name": "Python 3",
   "language": "python",
   "name": "python3"
  },
  "language_info": {
   "codemirror_mode": {
    "name": "ipython",
    "version": 3
   },
   "file_extension": ".py",
   "mimetype": "text/x-python",
   "name": "python",
   "nbconvert_exporter": "python",
   "pygments_lexer": "ipython3",
   "version": "3.7.3"
  },
  "toc": {
   "base_numbering": 1,
   "nav_menu": {},
   "number_sections": false,
   "sideBar": true,
   "skip_h1_title": true,
   "title_cell": "Table of Contents",
   "title_sidebar": "Contents",
   "toc_cell": false,
   "toc_position": {
    "height": "calc(100% - 180px)",
    "left": "10px",
    "top": "150px",
    "width": "426.667px"
   },
   "toc_section_display": true,
   "toc_window_display": true
  },
  "varInspector": {
   "cols": {
    "lenName": 16,
    "lenType": 16,
    "lenVar": 40
   },
   "kernels_config": {
    "python": {
     "delete_cmd_postfix": "",
     "delete_cmd_prefix": "del ",
     "library": "var_list.py",
     "varRefreshCmd": "print(var_dic_list())"
    },
    "r": {
     "delete_cmd_postfix": ") ",
     "delete_cmd_prefix": "rm(",
     "library": "var_list.r",
     "varRefreshCmd": "cat(var_dic_list()) "
    }
   },
   "types_to_exclude": [
    "module",
    "function",
    "builtin_function_or_method",
    "instance",
    "_Feature"
   ],
   "window_display": false
  }
 },
 "nbformat": 4,
 "nbformat_minor": 5
}
