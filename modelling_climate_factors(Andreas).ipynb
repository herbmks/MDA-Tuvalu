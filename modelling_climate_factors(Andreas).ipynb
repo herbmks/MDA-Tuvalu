{
 "cells": [
  {
   "cell_type": "markdown",
   "id": "34e43ede",
   "metadata": {},
   "source": [
    "# Pipeline climate factors"
   ]
  },
  {
   "cell_type": "markdown",
   "id": "33e5fc18",
   "metadata": {},
   "source": [
    "## 1. Import Modules"
   ]
  },
  {
   "cell_type": "code",
   "execution_count": 2,
   "id": "cc6eb4f0",
   "metadata": {
    "ExecuteTime": {
     "end_time": "2021-05-12T12:54:49.448316Z",
     "start_time": "2021-05-12T12:54:47.558137Z"
    }
   },
   "outputs": [],
   "source": [
    "import pandas as pd\n",
    "import numpy as np\n",
    "import matplotlib.pyplot as plt\n",
    "from sklearn.model_selection import train_test_split,GridSearchCV\n",
    "from sklearn.preprocessing import StandardScaler, RobustScaler, QuantileTransformer, FunctionTransformer, MinMaxScaler, Normalizer\n",
    "from sklearn.ensemble import RandomForestRegressor\n",
    "from sklearn.decomposition import PCA\n",
    "from sklearn.cluster import KMeans\n",
    "from sklearn.pipeline import Pipeline\n",
    "from sklearn.metrics import r2_score, accuracy_score\n",
    "from sklearn.impute import KNNImputer\n",
    "from sklearn.compose import ColumnTransformer\n",
    "from scipy.stats import shapiro\n",
    "from sklearn.linear_model import LinearRegression, Ridge, Lasso\n",
    "from sklearn.metrics import classification_report,  confusion_matrix\n",
    "from sklearn.multioutput import MultiOutputRegressor\n",
    "from sklearn.svm import SVR"
   ]
  },
  {
   "cell_type": "markdown",
   "id": "3f41ffaf",
   "metadata": {
    "ExecuteTime": {
     "end_time": "2021-05-12T12:28:44.583585Z",
     "start_time": "2021-05-12T12:28:44.568582Z"
    }
   },
   "source": [
    "pd.set_option('display.max_columns', None)\n",
    "pd.set_option('display.max_rows', None)\n",
    "pd.set_option('display.max_colwidth', None)"
   ]
  },
  {
   "cell_type": "markdown",
   "id": "e299c802",
   "metadata": {},
   "source": [
    "## 2. Load Data"
   ]
  },
  {
   "cell_type": "code",
   "execution_count": 28,
   "id": "de096d0c",
   "metadata": {
    "ExecuteTime": {
     "end_time": "2021-05-12T12:54:49.703663Z",
     "start_time": "2021-05-12T12:54:49.688659Z"
    }
   },
   "outputs": [
    {
     "data": {
      "text/html": [
       "<div>\n",
       "<style scoped>\n",
       "    .dataframe tbody tr th:only-of-type {\n",
       "        vertical-align: middle;\n",
       "    }\n",
       "\n",
       "    .dataframe tbody tr th {\n",
       "        vertical-align: top;\n",
       "    }\n",
       "\n",
       "    .dataframe thead th {\n",
       "        text-align: right;\n",
       "    }\n",
       "</style>\n",
       "<table border=\"1\" class=\"dataframe\">\n",
       "  <thead>\n",
       "    <tr style=\"text-align: right;\">\n",
       "      <th></th>\n",
       "      <th>Country</th>\n",
       "      <th>WS_MDG</th>\n",
       "      <th>WUE_SDG</th>\n",
       "      <th>WS_SDG</th>\n",
       "      <th>Temp</th>\n",
       "      <th>Rain</th>\n",
       "      <th>IRWR</th>\n",
       "      <th>ERWR</th>\n",
       "      <th>TRWR</th>\n",
       "      <th>Dep_ratio</th>\n",
       "      <th>rural_pop</th>\n",
       "      <th>urban_pop</th>\n",
       "      <th>HDI</th>\n",
       "      <th>r_u</th>\n",
       "      <th>r_u_access</th>\n",
       "      <th>pop_growth</th>\n",
       "      <th>mort_rate</th>\n",
       "      <th>GDP_pcp</th>\n",
       "      <th>life_ex</th>\n",
       "    </tr>\n",
       "  </thead>\n",
       "  <tbody>\n",
       "    <tr>\n",
       "      <th>0</th>\n",
       "      <td>AFG</td>\n",
       "      <td>31.045462</td>\n",
       "      <td>0.923778</td>\n",
       "      <td>54.757019</td>\n",
       "      <td>14.074742</td>\n",
       "      <td>349.736945</td>\n",
       "      <td>47.15</td>\n",
       "      <td>18.18</td>\n",
       "      <td>65.33</td>\n",
       "      <td>0.278280</td>\n",
       "      <td>26558.609</td>\n",
       "      <td>8971.472</td>\n",
       "      <td>0.493</td>\n",
       "      <td>2.960340</td>\n",
       "      <td>0.601023</td>\n",
       "      <td>3.06</td>\n",
       "      <td>53.2</td>\n",
       "      <td>2226.0</td>\n",
       "      <td>63.4</td>\n",
       "    </tr>\n",
       "    <tr>\n",
       "      <th>1</th>\n",
       "      <td>AGO</td>\n",
       "      <td>0.475539</td>\n",
       "      <td>142.467836</td>\n",
       "      <td>1.871883</td>\n",
       "      <td>22.182196</td>\n",
       "      <td>960.024065</td>\n",
       "      <td>148.00</td>\n",
       "      <td>0.40</td>\n",
       "      <td>148.40</td>\n",
       "      <td>0.002695</td>\n",
       "      <td>10472.554</td>\n",
       "      <td>19311.639</td>\n",
       "      <td>0.576</td>\n",
       "      <td>0.542292</td>\n",
       "      <td>0.374005</td>\n",
       "      <td>3.44</td>\n",
       "      <td>58.6</td>\n",
       "      <td>7859.4</td>\n",
       "      <td>59.2</td>\n",
       "    </tr>\n",
       "    <tr>\n",
       "      <th>2</th>\n",
       "      <td>ALB</td>\n",
       "      <td>3.933775</td>\n",
       "      <td>6.656907</td>\n",
       "      <td>7.139423</td>\n",
       "      <td>12.754647</td>\n",
       "      <td>1079.459167</td>\n",
       "      <td>26.90</td>\n",
       "      <td>3.30</td>\n",
       "      <td>30.20</td>\n",
       "      <td>0.109272</td>\n",
       "      <td>1190.155</td>\n",
       "      <td>1740.032</td>\n",
       "      <td>0.789</td>\n",
       "      <td>0.683985</td>\n",
       "      <td>1.003161</td>\n",
       "      <td>-0.20</td>\n",
       "      <td>8.6</td>\n",
       "      <td>12227.4</td>\n",
       "      <td>78.0</td>\n",
       "    </tr>\n",
       "    <tr>\n",
       "      <th>3</th>\n",
       "      <td>ARE</td>\n",
       "      <td>1708.000000</td>\n",
       "      <td>92.773763</td>\n",
       "      <td>1708.000000</td>\n",
       "      <td>28.010773</td>\n",
       "      <td>64.449765</td>\n",
       "      <td>0.15</td>\n",
       "      <td>0.00</td>\n",
       "      <td>0.15</td>\n",
       "      <td>0.000000</td>\n",
       "      <td>1292.709</td>\n",
       "      <td>8107.436</td>\n",
       "      <td>0.864</td>\n",
       "      <td>0.159447</td>\n",
       "      <td>1.004016</td>\n",
       "      <td>0.74</td>\n",
       "      <td>7.0</td>\n",
       "      <td>64243.0</td>\n",
       "      <td>77.2</td>\n",
       "    </tr>\n",
       "    <tr>\n",
       "      <th>4</th>\n",
       "      <td>ARG</td>\n",
       "      <td>4.301333</td>\n",
       "      <td>13.616564</td>\n",
       "      <td>10.456664</td>\n",
       "      <td>14.767043</td>\n",
       "      <td>598.510300</td>\n",
       "      <td>292.00</td>\n",
       "      <td>584.24</td>\n",
       "      <td>876.24</td>\n",
       "      <td>0.666758</td>\n",
       "      <td>3652.804</td>\n",
       "      <td>40618.237</td>\n",
       "      <td>0.832</td>\n",
       "      <td>0.089930</td>\n",
       "      <td>1.010101</td>\n",
       "      <td>1.08</td>\n",
       "      <td>10.2</td>\n",
       "      <td>23732.2</td>\n",
       "      <td>76.0</td>\n",
       "    </tr>\n",
       "    <tr>\n",
       "      <th>...</th>\n",
       "      <td>...</td>\n",
       "      <td>...</td>\n",
       "      <td>...</td>\n",
       "      <td>...</td>\n",
       "      <td>...</td>\n",
       "      <td>...</td>\n",
       "      <td>...</td>\n",
       "      <td>...</td>\n",
       "      <td>...</td>\n",
       "      <td>...</td>\n",
       "      <td>...</td>\n",
       "      <td>...</td>\n",
       "      <td>...</td>\n",
       "      <td>...</td>\n",
       "      <td>...</td>\n",
       "      <td>...</td>\n",
       "      <td>...</td>\n",
       "      <td>...</td>\n",
       "      <td>...</td>\n",
       "    </tr>\n",
       "    <tr>\n",
       "      <th>120</th>\n",
       "      <td>USA</td>\n",
       "      <td>14.480160</td>\n",
       "      <td>42.378501</td>\n",
       "      <td>28.161984</td>\n",
       "      <td>8.218411</td>\n",
       "      <td>708.156050</td>\n",
       "      <td>2818.00</td>\n",
       "      <td>251.00</td>\n",
       "      <td>3069.00</td>\n",
       "      <td>0.081786</td>\n",
       "      <td>58215.947</td>\n",
       "      <td>266243.516</td>\n",
       "      <td>0.919</td>\n",
       "      <td>0.218657</td>\n",
       "      <td>0.987928</td>\n",
       "      <td>0.68</td>\n",
       "      <td>6.0</td>\n",
       "      <td>58237.6</td>\n",
       "      <td>79.0</td>\n",
       "    </tr>\n",
       "    <tr>\n",
       "      <th>121</th>\n",
       "      <td>UZB</td>\n",
       "      <td>120.523839</td>\n",
       "      <td>1.337755</td>\n",
       "      <td>168.913106</td>\n",
       "      <td>13.707806</td>\n",
       "      <td>234.213108</td>\n",
       "      <td>16.34</td>\n",
       "      <td>32.53</td>\n",
       "      <td>48.87</td>\n",
       "      <td>0.665644</td>\n",
       "      <td>15779.684</td>\n",
       "      <td>16130.957</td>\n",
       "      <td>0.707</td>\n",
       "      <td>0.978224</td>\n",
       "      <td>0.821320</td>\n",
       "      <td>1.68</td>\n",
       "      <td>20.4</td>\n",
       "      <td>6037.2</td>\n",
       "      <td>70.8</td>\n",
       "    </tr>\n",
       "    <tr>\n",
       "      <th>122</th>\n",
       "      <td>VNM</td>\n",
       "      <td>9.259150</td>\n",
       "      <td>2.349448</td>\n",
       "      <td>18.130315</td>\n",
       "      <td>24.860117</td>\n",
       "      <td>1879.263025</td>\n",
       "      <td>359.42</td>\n",
       "      <td>524.70</td>\n",
       "      <td>884.12</td>\n",
       "      <td>0.593471</td>\n",
       "      <td>61898.302</td>\n",
       "      <td>33642.498</td>\n",
       "      <td>0.690</td>\n",
       "      <td>1.839884</td>\n",
       "      <td>0.977800</td>\n",
       "      <td>1.04</td>\n",
       "      <td>17.2</td>\n",
       "      <td>6455.0</td>\n",
       "      <td>75.0</td>\n",
       "    </tr>\n",
       "    <tr>\n",
       "      <th>123</th>\n",
       "      <td>ZAF</td>\n",
       "      <td>37.740993</td>\n",
       "      <td>14.659097</td>\n",
       "      <td>62.055716</td>\n",
       "      <td>18.620716</td>\n",
       "      <td>403.002932</td>\n",
       "      <td>44.80</td>\n",
       "      <td>6.55</td>\n",
       "      <td>51.35</td>\n",
       "      <td>0.127556</td>\n",
       "      <td>19369.002</td>\n",
       "      <td>37348.154</td>\n",
       "      <td>0.704</td>\n",
       "      <td>0.518607</td>\n",
       "      <td>0.817269</td>\n",
       "      <td>1.52</td>\n",
       "      <td>28.6</td>\n",
       "      <td>12796.6</td>\n",
       "      <td>62.6</td>\n",
       "    </tr>\n",
       "    <tr>\n",
       "      <th>124</th>\n",
       "      <td>ZMB</td>\n",
       "      <td>1.500000</td>\n",
       "      <td>12.764894</td>\n",
       "      <td>2.835498</td>\n",
       "      <td>22.412762</td>\n",
       "      <td>895.648672</td>\n",
       "      <td>80.20</td>\n",
       "      <td>24.60</td>\n",
       "      <td>104.80</td>\n",
       "      <td>0.234733</td>\n",
       "      <td>9747.709</td>\n",
       "      <td>7346.421</td>\n",
       "      <td>0.589</td>\n",
       "      <td>1.326865</td>\n",
       "      <td>0.599299</td>\n",
       "      <td>3.06</td>\n",
       "      <td>46.6</td>\n",
       "      <td>3449.4</td>\n",
       "      <td>61.6</td>\n",
       "    </tr>\n",
       "  </tbody>\n",
       "</table>\n",
       "<p>125 rows × 19 columns</p>\n",
       "</div>"
      ],
      "text/plain": [
       "    Country       WS_MDG     WUE_SDG       WS_SDG       Temp         Rain  \\\n",
       "0       AFG    31.045462    0.923778    54.757019  14.074742   349.736945   \n",
       "1       AGO     0.475539  142.467836     1.871883  22.182196   960.024065   \n",
       "2       ALB     3.933775    6.656907     7.139423  12.754647  1079.459167   \n",
       "3       ARE  1708.000000   92.773763  1708.000000  28.010773    64.449765   \n",
       "4       ARG     4.301333   13.616564    10.456664  14.767043   598.510300   \n",
       "..      ...          ...         ...          ...        ...          ...   \n",
       "120     USA    14.480160   42.378501    28.161984   8.218411   708.156050   \n",
       "121     UZB   120.523839    1.337755   168.913106  13.707806   234.213108   \n",
       "122     VNM     9.259150    2.349448    18.130315  24.860117  1879.263025   \n",
       "123     ZAF    37.740993   14.659097    62.055716  18.620716   403.002932   \n",
       "124     ZMB     1.500000   12.764894     2.835498  22.412762   895.648672   \n",
       "\n",
       "        IRWR    ERWR     TRWR  Dep_ratio  rural_pop   urban_pop    HDI  \\\n",
       "0      47.15   18.18    65.33   0.278280  26558.609    8971.472  0.493   \n",
       "1     148.00    0.40   148.40   0.002695  10472.554   19311.639  0.576   \n",
       "2      26.90    3.30    30.20   0.109272   1190.155    1740.032  0.789   \n",
       "3       0.15    0.00     0.15   0.000000   1292.709    8107.436  0.864   \n",
       "4     292.00  584.24   876.24   0.666758   3652.804   40618.237  0.832   \n",
       "..       ...     ...      ...        ...        ...         ...    ...   \n",
       "120  2818.00  251.00  3069.00   0.081786  58215.947  266243.516  0.919   \n",
       "121    16.34   32.53    48.87   0.665644  15779.684   16130.957  0.707   \n",
       "122   359.42  524.70   884.12   0.593471  61898.302   33642.498  0.690   \n",
       "123    44.80    6.55    51.35   0.127556  19369.002   37348.154  0.704   \n",
       "124    80.20   24.60   104.80   0.234733   9747.709    7346.421  0.589   \n",
       "\n",
       "          r_u  r_u_access  pop_growth  mort_rate  GDP_pcp  life_ex  \n",
       "0    2.960340    0.601023        3.06       53.2   2226.0     63.4  \n",
       "1    0.542292    0.374005        3.44       58.6   7859.4     59.2  \n",
       "2    0.683985    1.003161       -0.20        8.6  12227.4     78.0  \n",
       "3    0.159447    1.004016        0.74        7.0  64243.0     77.2  \n",
       "4    0.089930    1.010101        1.08       10.2  23732.2     76.0  \n",
       "..        ...         ...         ...        ...      ...      ...  \n",
       "120  0.218657    0.987928        0.68        6.0  58237.6     79.0  \n",
       "121  0.978224    0.821320        1.68       20.4   6037.2     70.8  \n",
       "122  1.839884    0.977800        1.04       17.2   6455.0     75.0  \n",
       "123  0.518607    0.817269        1.52       28.6  12796.6     62.6  \n",
       "124  1.326865    0.599299        3.06       46.6   3449.4     61.6  \n",
       "\n",
       "[125 rows x 19 columns]"
      ]
     },
     "execution_count": 28,
     "metadata": {},
     "output_type": "execute_result"
    }
   ],
   "source": [
    "df = pd.read_csv('clean data/final_data.csv',index_col=0)\n",
    "df"
   ]
  },
  {
   "cell_type": "markdown",
   "id": "e911efdd",
   "metadata": {},
   "source": [
    "### 2.1 Add additional climate variables"
   ]
  },
  {
   "cell_type": "code",
   "execution_count": 34,
   "id": "d394aac2",
   "metadata": {
    "ExecuteTime": {
     "end_time": "2021-05-12T12:54:50.936347Z",
     "start_time": "2021-05-12T12:54:50.922344Z"
    }
   },
   "outputs": [],
   "source": [
    "df['IRWR_capita'] = df['IRWR'] / ((df['urban_pop'] + df['rural_pop']) * 1000)\n",
    "df['ERWR_capita'] = df['ERWR'] / ((df['urban_pop'] + df['rural_pop']) * 1000)\n",
    "df['TRWR_capita'] = df['TRWR'] / ((df['urban_pop'] + df['rural_pop']) * 1000)"
   ]
  },
  {
   "cell_type": "markdown",
   "id": "6bfe91e6",
   "metadata": {},
   "source": [
    "### 2.2 Split dataframe into chosen predictor and target variables"
   ]
  },
  {
   "cell_type": "code",
   "execution_count": 43,
   "id": "43aac61f",
   "metadata": {
    "ExecuteTime": {
     "end_time": "2021-05-12T12:55:17.609988Z",
     "start_time": "2021-05-12T12:55:17.594362Z"
    }
   },
   "outputs": [],
   "source": [
    "df_pred_climate = df.iloc[:,np.r_[4:10, 19:22]]\n",
    "df_pred_socioec = df.iloc[:,10:18]\n",
    "df_target = df.iloc[:,1:4]"
   ]
  },
  {
   "cell_type": "markdown",
   "id": "ab328768",
   "metadata": {},
   "source": [
    "## 3. Pipeline"
   ]
  },
  {
   "cell_type": "markdown",
   "id": "1275fa8f",
   "metadata": {},
   "source": [
    "### 3.1 Scalers"
   ]
  },
  {
   "cell_type": "markdown",
   "id": "f02b431c",
   "metadata": {},
   "source": [
    "Make function to log transform"
   ]
  },
  {
   "cell_type": "code",
   "execution_count": 39,
   "id": "47c70eff",
   "metadata": {
    "ExecuteTime": {
     "end_time": "2021-05-12T12:55:12.021170Z",
     "start_time": "2021-05-12T12:55:12.014169Z"
    }
   },
   "outputs": [],
   "source": [
    "def log_transform(x):\n",
    "    return np.log(x + 1)"
   ]
  },
  {
   "cell_type": "code",
   "execution_count": 40,
   "id": "295aedea",
   "metadata": {
    "ExecuteTime": {
     "end_time": "2021-05-12T12:55:12.763448Z",
     "start_time": "2021-05-12T12:55:12.749445Z"
    }
   },
   "outputs": [],
   "source": [
    "logscaler = FunctionTransformer(log_transform)\n",
    "standardscaler = StandardScaler()\n",
    "robustscaler = RobustScaler()\n",
    "minmaxscaler = MinMaxScaler()"
   ]
  },
  {
   "cell_type": "code",
   "execution_count": null,
   "id": "46eaff4f",
   "metadata": {},
   "outputs": [],
   "source": []
  },
  {
   "cell_type": "code",
   "execution_count": 41,
   "id": "45eefebf",
   "metadata": {
    "ExecuteTime": {
     "end_time": "2021-05-12T12:35:13.194766Z",
     "start_time": "2021-05-12T12:35:13.180764Z"
    }
   },
   "outputs": [],
   "source": [
    "preprocess = ColumnTransformer(remainder = 'passthrough', \n",
    "                               transformers = \n",
    "                               [(\"logscaler\", logscaler, [9,44,46]),\n",
    "                                (\"standardscaler\", logscaler, [9,44,46]),\n",
    "                               ])"
   ]
  },
  {
   "cell_type": "markdown",
   "id": "546cb7bf",
   "metadata": {},
   "source": [
    "### 3.2 Dimensionality reduction"
   ]
  },
  {
   "cell_type": "code",
   "execution_count": null,
   "id": "2d6df63f",
   "metadata": {},
   "outputs": [],
   "source": [
    "pca = PCA(n_components=0.95)"
   ]
  },
  {
   "cell_type": "markdown",
   "id": "65969716",
   "metadata": {},
   "source": [
    "### 3.3 Regression Models"
   ]
  },
  {
   "cell_type": "code",
   "execution_count": 37,
   "id": "8ac626f9",
   "metadata": {},
   "outputs": [],
   "source": [
    "model_1 = RandomForestRegressor(max_depth=2,random_state=0)\n",
    "model_2 = LinearRegression()\n",
    "model_3 = Ridge(alpha=19)\n",
    "model_4 = SVR()\n",
    "\n",
    "models=[model_1, model_2, model_3,model_4]"
   ]
  },
  {
   "cell_type": "markdown",
   "id": "1cf7856c",
   "metadata": {},
   "source": [
    "### 3.3 Assemble pipeline"
   ]
  },
  {
   "cell_type": "code",
   "execution_count": null,
   "id": "2d4bb621",
   "metadata": {},
   "outputs": [],
   "source": [
    "pipe = Pipeline([\n",
    "        ('scaler', StandardScaler()),\n",
    "        ('regressor', LinearRegression())\n",
    "        ])"
   ]
  },
  {
   "cell_type": "code",
   "execution_count": null,
   "id": "4b7432bd",
   "metadata": {},
   "outputs": [],
   "source": [
    "pipe = pipe.fit(X_train, y_train)"
   ]
  },
  {
   "cell_type": "markdown",
   "id": "b187cf79",
   "metadata": {},
   "source": [
    "### 3.4 Run pipeline"
   ]
  },
  {
   "cell_type": "code",
   "execution_count": null,
   "id": "aa3cf703",
   "metadata": {},
   "outputs": [],
   "source": [
    "X_train, X_test, y_train, y_test = train_test_split(df_pred_climate_pca,df_target_pca,random_state=0)"
   ]
  },
  {
   "cell_type": "markdown",
   "id": "4f09b8f1",
   "metadata": {},
   "source": [
    "## 3. Dimensionality reduction"
   ]
  },
  {
   "cell_type": "markdown",
   "id": "aff98f19",
   "metadata": {},
   "source": [
    "### 3.1 Target Variable"
   ]
  },
  {
   "cell_type": "code",
   "execution_count": 15,
   "id": "881febb8",
   "metadata": {
    "ExecuteTime": {
     "end_time": "2021-05-12T12:55:20.165314Z",
     "start_time": "2021-05-12T12:55:20.145811Z"
    }
   },
   "outputs": [
    {
     "name": "stdout",
     "output_type": "stream",
     "text": [
      "Explained variance: [0.6808065  0.31904668]\n"
     ]
    },
    {
     "data": {
      "text/html": [
       "<div>\n",
       "<style scoped>\n",
       "    .dataframe tbody tr th:only-of-type {\n",
       "        vertical-align: middle;\n",
       "    }\n",
       "\n",
       "    .dataframe tbody tr th {\n",
       "        vertical-align: top;\n",
       "    }\n",
       "\n",
       "    .dataframe thead th {\n",
       "        text-align: right;\n",
       "    }\n",
       "</style>\n",
       "<table border=\"1\" class=\"dataframe\">\n",
       "  <thead>\n",
       "    <tr style=\"text-align: right;\">\n",
       "      <th></th>\n",
       "      <th>Water stress (MDG)</th>\n",
       "      <th>Water use efficiency (SDG)</th>\n",
       "      <th>Water stress (SDG)</th>\n",
       "    </tr>\n",
       "  </thead>\n",
       "  <tbody>\n",
       "    <tr>\n",
       "      <th>0</th>\n",
       "      <td>0.693191</td>\n",
       "      <td>0.198744</td>\n",
       "      <td>0.692811</td>\n",
       "    </tr>\n",
       "    <tr>\n",
       "      <th>1</th>\n",
       "      <td>-0.138533</td>\n",
       "      <td>0.980047</td>\n",
       "      <td>-0.142533</td>\n",
       "    </tr>\n",
       "  </tbody>\n",
       "</table>\n",
       "</div>"
      ],
      "text/plain": [
       "   Water stress (MDG)  Water use efficiency (SDG)  Water stress (SDG)\n",
       "0            0.693191                    0.198744            0.692811\n",
       "1           -0.138533                    0.980047           -0.142533"
      ]
     },
     "execution_count": 15,
     "metadata": {},
     "output_type": "execute_result"
    }
   ],
   "source": [
    "print('Explained variance:',pca.explained_variance_ratio_)\n",
    "pd.DataFrame(pca.components_,columns=df_target.columns)"
   ]
  },
  {
   "cell_type": "markdown",
   "id": "363766b7",
   "metadata": {},
   "source": [
    "Principale Components:\n",
    "\n",
    "0. Large internal and external water resources\n",
    "1. Only large internal water resources per capita \n",
    "2. Only large external water resources per capita + rely on external sources \n",
    "3. Don't know how to make sense on the last component, maybe we can leave it out\n"
   ]
  },
  {
   "cell_type": "code",
   "execution_count": 19,
   "id": "70ee1f02",
   "metadata": {
    "ExecuteTime": {
     "end_time": "2021-05-12T12:55:23.974075Z",
     "start_time": "2021-05-12T12:55:23.959072Z"
    }
   },
   "outputs": [],
   "source": [
    "df_pred_climate_pca = pd.DataFrame(np.concatenate((df_pred_climate.iloc[:,:2].to_numpy(),pca.transform(df_pred_climate.iloc[:,2:])),axis=1))"
   ]
  },
  {
   "cell_type": "markdown",
   "id": "5dd5e1ab",
   "metadata": {},
   "source": [
    "## 4. Modelling"
   ]
  },
  {
   "cell_type": "markdown",
   "id": "0e95799e",
   "metadata": {},
   "source": [
    "### 4.1 Climate Factors"
   ]
  },
  {
   "cell_type": "markdown",
   "id": "ee67bb64",
   "metadata": {},
   "source": [
    "#### 4.1.1 Train test split "
   ]
  },
  {
   "cell_type": "code",
   "execution_count": 32,
   "id": "dc057ba8",
   "metadata": {
    "ExecuteTime": {
     "end_time": "2021-05-12T12:56:33.875256Z",
     "start_time": "2021-05-12T12:56:33.593557Z"
    },
    "scrolled": true
   },
   "outputs": [
    {
     "name": "stdout",
     "output_type": "stream",
     "text": [
      "Target Principale Component:  0\n",
      "  RandomForestRegressor(max_depth=2, random_state=0)\n",
      "   Model score:  0.7284031440837294\n",
      "   R² 0.6649369469979624\n",
      "\n",
      "  LinearRegression()\n",
      "   Model score:  0.10220943595518006\n",
      "   R² 0.0015633669778680748\n",
      "\n",
      "  Ridge(alpha=19)\n",
      "   Model score:  0.09136603163959334\n",
      "   R² 0.0730585481399697\n",
      "\n",
      "  SVR()\n",
      "   Model score:  0.007619660884640167\n",
      "   R² 0.016178367957373818\n",
      "\n",
      "\n",
      "Target Principale Component:  1\n",
      "  RandomForestRegressor(max_depth=2, random_state=0)\n",
      "   Model score:  0.6192542844782101\n",
      "   R² 0.5789688076041271\n",
      "\n",
      "  LinearRegression()\n",
      "   Model score:  0.10704725403034032\n",
      "   R² 0.02175874034084857\n",
      "\n",
      "  Ridge(alpha=19)\n",
      "   Model score:  0.10049674432986155\n",
      "   R² 0.0512653807582768\n",
      "\n",
      "  SVR()\n",
      "   Model score:  -0.005656292612457481\n",
      "   R² 0.00641367517529301\n",
      "\n",
      "\n"
     ]
    }
   ],
   "source": [
    "for i in range(len(df_target_pca.columns)):\n",
    "    print('Target Principale Component: ',df_target_pca.columns[i])\n",
    "    for model in models:\n",
    "        model.fit(X_train,y_train.iloc[:,i])\n",
    "        print(' ',model)\n",
    "        print('   Model score: ',model.score(X_train,y_train.iloc[:,i]))\n",
    "        y_pred = model.predict(df_pred_climate_pca)\n",
    "        print('   R²',r2_score(df_target_pca.iloc[:,i],y_pred))\n",
    "        print('')\n",
    "    print('')"
   ]
  },
  {
   "cell_type": "markdown",
   "id": "4e49b7e9",
   "metadata": {},
   "source": [
    "#### 4.1.3 Fine Tune models"
   ]
  },
  {
   "cell_type": "markdown",
   "id": "9f607afc",
   "metadata": {},
   "source": [
    "##### Random Forest"
   ]
  },
  {
   "cell_type": "code",
   "execution_count": 23,
   "id": "fa0866ee",
   "metadata": {
    "ExecuteTime": {
     "end_time": "2021-05-12T12:55:39.651777Z",
     "start_time": "2021-05-12T12:55:39.638775Z"
    }
   },
   "outputs": [],
   "source": [
    "depth = np.arange(2,20)"
   ]
  },
  {
   "cell_type": "code",
   "execution_count": 24,
   "id": "04064af5",
   "metadata": {
    "ExecuteTime": {
     "end_time": "2021-05-12T12:55:40.879875Z",
     "start_time": "2021-05-12T12:55:40.867874Z"
    }
   },
   "outputs": [],
   "source": [
    "grid = GridSearchCV(RandomForestRegressor(random_state=0),{'max_depth': depth})"
   ]
  },
  {
   "cell_type": "code",
   "execution_count": 25,
   "id": "27a9b2b2",
   "metadata": {
    "ExecuteTime": {
     "end_time": "2021-05-12T12:55:52.936894Z",
     "start_time": "2021-05-12T12:55:42.125351Z"
    }
   },
   "outputs": [
    {
     "data": {
      "text/plain": [
       "GridSearchCV(estimator=RandomForestRegressor(random_state=0),\n",
       "             param_grid={'max_depth': array([ 2,  3,  4,  5,  6,  7,  8,  9, 10, 11, 12, 13, 14, 15, 16, 17, 18,\n",
       "       19])})"
      ]
     },
     "execution_count": 25,
     "metadata": {},
     "output_type": "execute_result"
    }
   ],
   "source": [
    "grid.fit(X_train,y_train)"
   ]
  },
  {
   "cell_type": "code",
   "execution_count": 26,
   "id": "8a882028",
   "metadata": {
    "ExecuteTime": {
     "end_time": "2021-05-12T12:55:54.193019Z",
     "start_time": "2021-05-12T12:55:54.178016Z"
    },
    "scrolled": false
   },
   "outputs": [
    {
     "data": {
      "text/plain": [
       "{'max_depth': 2}"
      ]
     },
     "execution_count": 26,
     "metadata": {},
     "output_type": "execute_result"
    }
   ],
   "source": [
    "grid.best_params_"
   ]
  },
  {
   "cell_type": "markdown",
   "id": "93fa66b8",
   "metadata": {},
   "source": [
    "--> best depth of the randomforest is 2"
   ]
  },
  {
   "cell_type": "markdown",
   "id": "aba4a1f1",
   "metadata": {},
   "source": [
    "##### Ridge"
   ]
  },
  {
   "cell_type": "code",
   "execution_count": 27,
   "id": "725815d2",
   "metadata": {
    "ExecuteTime": {
     "end_time": "2021-05-12T12:55:55.456264Z",
     "start_time": "2021-05-12T12:55:55.441261Z"
    }
   },
   "outputs": [],
   "source": [
    "alpha = np.arange(1,20)"
   ]
  },
  {
   "cell_type": "code",
   "execution_count": 28,
   "id": "b716f899",
   "metadata": {
    "ExecuteTime": {
     "end_time": "2021-05-12T12:55:56.691949Z",
     "start_time": "2021-05-12T12:55:56.676946Z"
    }
   },
   "outputs": [],
   "source": [
    "grid = GridSearchCV(Ridge(),{'alpha': alpha})"
   ]
  },
  {
   "cell_type": "code",
   "execution_count": 29,
   "id": "b763871e",
   "metadata": {
    "ExecuteTime": {
     "end_time": "2021-05-12T12:55:58.532532Z",
     "start_time": "2021-05-12T12:55:57.915449Z"
    }
   },
   "outputs": [
    {
     "data": {
      "text/plain": [
       "GridSearchCV(estimator=Ridge(),\n",
       "             param_grid={'alpha': array([ 1,  2,  3,  4,  5,  6,  7,  8,  9, 10, 11, 12, 13, 14, 15, 16, 17,\n",
       "       18, 19])})"
      ]
     },
     "execution_count": 29,
     "metadata": {},
     "output_type": "execute_result"
    }
   ],
   "source": [
    "grid.fit(X_train,y_train)"
   ]
  },
  {
   "cell_type": "code",
   "execution_count": 30,
   "id": "e6a661a2",
   "metadata": {
    "ExecuteTime": {
     "end_time": "2021-05-12T12:55:59.778283Z",
     "start_time": "2021-05-12T12:55:59.762356Z"
    }
   },
   "outputs": [
    {
     "data": {
      "text/plain": [
       "{'alpha': 19}"
      ]
     },
     "execution_count": 30,
     "metadata": {},
     "output_type": "execute_result"
    }
   ],
   "source": [
    "grid.best_params_"
   ]
  },
  {
   "cell_type": "markdown",
   "id": "57c7be24",
   "metadata": {},
   "source": [
    "--> best alpha for ridge is 19"
   ]
  }
 ],
 "metadata": {
  "kernelspec": {
   "display_name": "Python 3",
   "language": "python",
   "name": "python3"
  },
  "language_info": {
   "codemirror_mode": {
    "name": "ipython",
    "version": 3
   },
   "file_extension": ".py",
   "mimetype": "text/x-python",
   "name": "python",
   "nbconvert_exporter": "python",
   "pygments_lexer": "ipython3",
   "version": "3.8.8"
  },
  "toc": {
   "base_numbering": 1,
   "nav_menu": {},
   "number_sections": false,
   "sideBar": true,
   "skip_h1_title": true,
   "title_cell": "Table of Contents",
   "title_sidebar": "Contents",
   "toc_cell": false,
   "toc_position": {
    "height": "calc(100% - 180px)",
    "left": "10px",
    "top": "150px",
    "width": "426.667px"
   },
   "toc_section_display": true,
   "toc_window_display": true
  },
  "varInspector": {
   "cols": {
    "lenName": 16,
    "lenType": 16,
    "lenVar": 40
   },
   "kernels_config": {
    "python": {
     "delete_cmd_postfix": "",
     "delete_cmd_prefix": "del ",
     "library": "var_list.py",
     "varRefreshCmd": "print(var_dic_list())"
    },
    "r": {
     "delete_cmd_postfix": ") ",
     "delete_cmd_prefix": "rm(",
     "library": "var_list.r",
     "varRefreshCmd": "cat(var_dic_list()) "
    }
   },
   "types_to_exclude": [
    "module",
    "function",
    "builtin_function_or_method",
    "instance",
    "_Feature"
   ],
   "window_display": false
  }
 },
 "nbformat": 4,
 "nbformat_minor": 5
}
