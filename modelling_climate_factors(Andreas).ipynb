{
 "cells": [
  {
   "cell_type": "markdown",
   "id": "34e43ede",
   "metadata": {},
   "source": [
    "# Pipeline climate factors"
   ]
  },
  {
   "cell_type": "markdown",
   "id": "33e5fc18",
   "metadata": {},
   "source": [
    "## 1. Import Modules"
   ]
  },
  {
   "cell_type": "code",
   "execution_count": 1,
   "id": "cc6eb4f0",
   "metadata": {
    "ExecuteTime": {
     "end_time": "2021-05-12T12:54:49.448316Z",
     "start_time": "2021-05-12T12:54:47.558137Z"
    }
   },
   "outputs": [],
   "source": [
    "import pandas as pd\n",
    "import numpy as np\n",
    "import matplotlib.pyplot as plt\n",
    "from sklearn.model_selection import train_test_split,GridSearchCV\n",
    "from sklearn.preprocessing import StandardScaler, RobustScaler, QuantileTransformer, FunctionTransformer, MinMaxScaler, Normalizer\n",
    "from sklearn.ensemble import RandomForestRegressor\n",
    "from sklearn.decomposition import PCA\n",
    "from sklearn.cluster import KMeans\n",
    "from sklearn.pipeline import Pipeline\n",
    "from sklearn.metrics import r2_score, accuracy_score\n",
    "from sklearn.impute import KNNImputer\n",
    "from sklearn.compose import ColumnTransformer\n",
    "from scipy.stats import shapiro\n",
    "from sklearn.linear_model import LinearRegression, Ridge, Lasso\n",
    "from sklearn.metrics import classification_report,  confusion_matrix\n",
    "from sklearn.multioutput import MultiOutputRegressor\n",
    "from sklearn.svm import SVR"
   ]
  },
  {
   "cell_type": "markdown",
   "id": "3f41ffaf",
   "metadata": {
    "ExecuteTime": {
     "end_time": "2021-05-12T12:28:44.583585Z",
     "start_time": "2021-05-12T12:28:44.568582Z"
    }
   },
   "source": [
    "pd.set_option('display.max_columns', None)\n",
    "pd.set_option('display.max_rows', None)\n",
    "pd.set_option('display.max_colwidth', None)"
   ]
  },
  {
   "cell_type": "markdown",
   "id": "e299c802",
   "metadata": {},
   "source": [
    "## 2. Data Preprocessing"
   ]
  },
  {
   "cell_type": "code",
   "execution_count": 2,
   "id": "de096d0c",
   "metadata": {
    "ExecuteTime": {
     "end_time": "2021-05-12T12:54:49.703663Z",
     "start_time": "2021-05-12T12:54:49.688659Z"
    }
   },
   "outputs": [],
   "source": [
    "df_waterstress = pd.read_csv('clean data/water_stress.csv',index_col='Unnamed: 0')\n",
    "df_climate = pd.read_csv('clean data/climate_factors.csv',index_col='Unnamed: 0')\n",
    "df_socioec = pd.read_csv('clean data/socioec_factors.csv',index_col='Unnamed: 0')"
   ]
  },
  {
   "cell_type": "markdown",
   "id": "1c5988e4",
   "metadata": {},
   "source": [
    "### 2.1 Merge"
   ]
  },
  {
   "cell_type": "markdown",
   "id": "025e1886",
   "metadata": {},
   "source": [
    "Merging all three data sets together"
   ]
  },
  {
   "cell_type": "code",
   "execution_count": 3,
   "id": "2c5c7923",
   "metadata": {
    "ExecuteTime": {
     "end_time": "2021-05-12T12:54:50.199776Z",
     "start_time": "2021-05-12T12:54:50.184772Z"
    }
   },
   "outputs": [],
   "source": [
    "df_waterstress.set_index('Country',inplace=True)\n",
    "df_climate.set_index('Country',inplace=True)\n",
    "df_socioec.set_index('Country',inplace=True)\n",
    "df = pd.merge(df_waterstress,df_climate,left_index=True,right_index=True,how='outer')\n",
    "df = pd.merge(df, df_socioec,left_index=True,right_index=True,how='outer')"
   ]
  },
  {
   "cell_type": "markdown",
   "id": "e911efdd",
   "metadata": {},
   "source": [
    "### 2.2 Add additional climate variables"
   ]
  },
  {
   "cell_type": "code",
   "execution_count": 4,
   "id": "d394aac2",
   "metadata": {
    "ExecuteTime": {
     "end_time": "2021-05-12T12:54:50.936347Z",
     "start_time": "2021-05-12T12:54:50.922344Z"
    }
   },
   "outputs": [],
   "source": [
    "df['Total internal renewable water resources (IRWR) per capita'] = df['Total internal renewable water resources (IRWR)'] / (df['Total population (thousands)'] * 1000)\n",
    "df['Total external renewable water resources (ERWR) per capita'] = df['Total external renewable water resources (ERWR)'] / (df['Total population (thousands)'] * 1000)\n",
    "df['Total renewable water resources per capita'] = df['Total renewable water resources'] / (df['Total population (thousands)'] * 1000)"
   ]
  },
  {
   "cell_type": "markdown",
   "id": "47dd1cb2",
   "metadata": {},
   "source": [
    "### 2.3 Drop Columns with low data availibility"
   ]
  },
  {
   "cell_type": "markdown",
   "id": "52a7e841",
   "metadata": {},
   "source": [
    "All the NaNs in df, the index number is used later to refer to these variables instead of the full variable names"
   ]
  },
  {
   "cell_type": "code",
   "execution_count": 5,
   "id": "45bb3518",
   "metadata": {
    "ExecuteTime": {
     "end_time": "2021-05-12T12:54:51.686809Z",
     "start_time": "2021-05-12T12:54:51.657510Z"
    }
   },
   "outputs": [
    {
     "data": {
      "text/html": [
       "<div>\n",
       "<style scoped>\n",
       "    .dataframe tbody tr th:only-of-type {\n",
       "        vertical-align: middle;\n",
       "    }\n",
       "\n",
       "    .dataframe tbody tr th {\n",
       "        vertical-align: top;\n",
       "    }\n",
       "\n",
       "    .dataframe thead th {\n",
       "        text-align: right;\n",
       "    }\n",
       "</style>\n",
       "<table border=\"1\" class=\"dataframe\">\n",
       "  <thead>\n",
       "    <tr style=\"text-align: right;\">\n",
       "      <th></th>\n",
       "      <th>Variables</th>\n",
       "      <th># NaN</th>\n",
       "    </tr>\n",
       "  </thead>\n",
       "  <tbody>\n",
       "    <tr>\n",
       "      <th>0</th>\n",
       "      <td>Water stress (MDG)</td>\n",
       "      <td>24</td>\n",
       "    </tr>\n",
       "    <tr>\n",
       "      <th>1</th>\n",
       "      <td>Water use efficiency (SDG)</td>\n",
       "      <td>34</td>\n",
       "    </tr>\n",
       "    <tr>\n",
       "      <th>2</th>\n",
       "      <td>Water stress (SDG)</td>\n",
       "      <td>24</td>\n",
       "    </tr>\n",
       "    <tr>\n",
       "      <th>3</th>\n",
       "      <td>Temperature (°C)</td>\n",
       "      <td>7</td>\n",
       "    </tr>\n",
       "    <tr>\n",
       "      <th>4</th>\n",
       "      <td>Total Rainfall (mm)</td>\n",
       "      <td>7</td>\n",
       "    </tr>\n",
       "    <tr>\n",
       "      <th>5</th>\n",
       "      <td>Total internal renewable water resources (IRWR)</td>\n",
       "      <td>19</td>\n",
       "    </tr>\n",
       "    <tr>\n",
       "      <th>6</th>\n",
       "      <td>Total external renewable water resources (ERWR)</td>\n",
       "      <td>7</td>\n",
       "    </tr>\n",
       "    <tr>\n",
       "      <th>7</th>\n",
       "      <td>Total renewable water resources</td>\n",
       "      <td>5</td>\n",
       "    </tr>\n",
       "    <tr>\n",
       "      <th>8</th>\n",
       "      <td>Dependency ratio</td>\n",
       "      <td>9</td>\n",
       "    </tr>\n",
       "    <tr>\n",
       "      <th>9</th>\n",
       "      <td>Total exploitable water resources</td>\n",
       "      <td>138</td>\n",
       "    </tr>\n",
       "    <tr>\n",
       "      <th>10</th>\n",
       "      <td>GDP per capita (current US$/inhab)</td>\n",
       "      <td>61</td>\n",
       "    </tr>\n",
       "    <tr>\n",
       "      <th>11</th>\n",
       "      <td>Human Development Index (HDI) [highest = 1] (-)</td>\n",
       "      <td>61</td>\n",
       "    </tr>\n",
       "    <tr>\n",
       "      <th>12</th>\n",
       "      <td>Population density (inhab/km2)</td>\n",
       "      <td>61</td>\n",
       "    </tr>\n",
       "    <tr>\n",
       "      <th>13</th>\n",
       "      <td>Rural population (1000 inhab)</td>\n",
       "      <td>61</td>\n",
       "    </tr>\n",
       "    <tr>\n",
       "      <th>14</th>\n",
       "      <td>Rural population with access to safe drinking-...</td>\n",
       "      <td>61</td>\n",
       "    </tr>\n",
       "    <tr>\n",
       "      <th>15</th>\n",
       "      <td>Total population with access to safe drinking-...</td>\n",
       "      <td>61</td>\n",
       "    </tr>\n",
       "    <tr>\n",
       "      <th>16</th>\n",
       "      <td>Urban population (1000 inhab)</td>\n",
       "      <td>61</td>\n",
       "    </tr>\n",
       "    <tr>\n",
       "      <th>17</th>\n",
       "      <td>Urban population with access to safe drinking-...</td>\n",
       "      <td>61</td>\n",
       "    </tr>\n",
       "    <tr>\n",
       "      <th>18</th>\n",
       "      <td>DEC alternative conversion factor (LCU per US$)</td>\n",
       "      <td>62</td>\n",
       "    </tr>\n",
       "    <tr>\n",
       "      <th>19</th>\n",
       "      <td>Fertility rate, total (births per woman)</td>\n",
       "      <td>61</td>\n",
       "    </tr>\n",
       "    <tr>\n",
       "      <th>20</th>\n",
       "      <td>GDP (constant LCU)</td>\n",
       "      <td>62</td>\n",
       "    </tr>\n",
       "    <tr>\n",
       "      <th>21</th>\n",
       "      <td>GDP (current LCU)</td>\n",
       "      <td>61</td>\n",
       "    </tr>\n",
       "    <tr>\n",
       "      <th>22</th>\n",
       "      <td>GDP (current US$)</td>\n",
       "      <td>62</td>\n",
       "    </tr>\n",
       "    <tr>\n",
       "      <th>23</th>\n",
       "      <td>GDP at market prices (constant 2010 US$)</td>\n",
       "      <td>63</td>\n",
       "    </tr>\n",
       "    <tr>\n",
       "      <th>24</th>\n",
       "      <td>GDP deflator (base year varies by country)</td>\n",
       "      <td>62</td>\n",
       "    </tr>\n",
       "    <tr>\n",
       "      <th>25</th>\n",
       "      <td>GDP growth (annual %)</td>\n",
       "      <td>62</td>\n",
       "    </tr>\n",
       "    <tr>\n",
       "      <th>26</th>\n",
       "      <td>GDP per capita (current LCU)</td>\n",
       "      <td>61</td>\n",
       "    </tr>\n",
       "    <tr>\n",
       "      <th>27</th>\n",
       "      <td>GDP per capita (current US$)</td>\n",
       "      <td>62</td>\n",
       "    </tr>\n",
       "    <tr>\n",
       "      <th>28</th>\n",
       "      <td>GDP per capita, PPP (constant 2011 internation...</td>\n",
       "      <td>64</td>\n",
       "    </tr>\n",
       "    <tr>\n",
       "      <th>29</th>\n",
       "      <td>GDP per capita, PPP (current international $)</td>\n",
       "      <td>63</td>\n",
       "    </tr>\n",
       "    <tr>\n",
       "      <th>30</th>\n",
       "      <td>GDP, PPP (constant 2011 international $)</td>\n",
       "      <td>64</td>\n",
       "    </tr>\n",
       "    <tr>\n",
       "      <th>31</th>\n",
       "      <td>GDP, PPP (current international $)</td>\n",
       "      <td>63</td>\n",
       "    </tr>\n",
       "    <tr>\n",
       "      <th>32</th>\n",
       "      <td>GNI (current LCU)</td>\n",
       "      <td>62</td>\n",
       "    </tr>\n",
       "    <tr>\n",
       "      <th>33</th>\n",
       "      <td>GNI per capita (current LCU)</td>\n",
       "      <td>62</td>\n",
       "    </tr>\n",
       "    <tr>\n",
       "      <th>34</th>\n",
       "      <td>GNI per capita, Atlas method (current US$)</td>\n",
       "      <td>62</td>\n",
       "    </tr>\n",
       "    <tr>\n",
       "      <th>35</th>\n",
       "      <td>GNI per capita, PPP (current international $)</td>\n",
       "      <td>63</td>\n",
       "    </tr>\n",
       "    <tr>\n",
       "      <th>36</th>\n",
       "      <td>General government total expenditure (current ...</td>\n",
       "      <td>63</td>\n",
       "    </tr>\n",
       "    <tr>\n",
       "      <th>37</th>\n",
       "      <td>Life expectancy at birth, total (years)</td>\n",
       "      <td>62</td>\n",
       "    </tr>\n",
       "    <tr>\n",
       "      <th>38</th>\n",
       "      <td>Mortality rate, infant (per 1,000 live births)</td>\n",
       "      <td>61</td>\n",
       "    </tr>\n",
       "    <tr>\n",
       "      <th>39</th>\n",
       "      <td>Official exchange rate (LCU per US$, period av...</td>\n",
       "      <td>73</td>\n",
       "    </tr>\n",
       "    <tr>\n",
       "      <th>40</th>\n",
       "      <td>PPP conversion factor, GDP (LCU per internatio...</td>\n",
       "      <td>63</td>\n",
       "    </tr>\n",
       "    <tr>\n",
       "      <th>41</th>\n",
       "      <td>PPP conversion factor, private consumption (LC...</td>\n",
       "      <td>63</td>\n",
       "    </tr>\n",
       "    <tr>\n",
       "      <th>42</th>\n",
       "      <td>Population aged 25-64 years (thousands)</td>\n",
       "      <td>61</td>\n",
       "    </tr>\n",
       "    <tr>\n",
       "      <th>43</th>\n",
       "      <td>Population growth (annual %)</td>\n",
       "      <td>61</td>\n",
       "    </tr>\n",
       "    <tr>\n",
       "      <th>44</th>\n",
       "      <td>Prevalence of HIV, total (% of population ages...</td>\n",
       "      <td>104</td>\n",
       "    </tr>\n",
       "    <tr>\n",
       "      <th>45</th>\n",
       "      <td>Price level ratio of PPP conversion factor (GD...</td>\n",
       "      <td>63</td>\n",
       "    </tr>\n",
       "    <tr>\n",
       "      <th>46</th>\n",
       "      <td>Total debt service (% of GNI)</td>\n",
       "      <td>109</td>\n",
       "    </tr>\n",
       "    <tr>\n",
       "      <th>47</th>\n",
       "      <td>Total population (thousands)</td>\n",
       "      <td>61</td>\n",
       "    </tr>\n",
       "    <tr>\n",
       "      <th>48</th>\n",
       "      <td>Total internal renewable water resources (IRWR...</td>\n",
       "      <td>67</td>\n",
       "    </tr>\n",
       "    <tr>\n",
       "      <th>49</th>\n",
       "      <td>Total external renewable water resources (ERWR...</td>\n",
       "      <td>61</td>\n",
       "    </tr>\n",
       "    <tr>\n",
       "      <th>50</th>\n",
       "      <td>Total renewable water resources per capita</td>\n",
       "      <td>61</td>\n",
       "    </tr>\n",
       "  </tbody>\n",
       "</table>\n",
       "</div>"
      ],
      "text/plain": [
       "                                            Variables  # NaN\n",
       "0                                  Water stress (MDG)     24\n",
       "1                          Water use efficiency (SDG)     34\n",
       "2                                  Water stress (SDG)     24\n",
       "3                                    Temperature (°C)      7\n",
       "4                                 Total Rainfall (mm)      7\n",
       "5     Total internal renewable water resources (IRWR)     19\n",
       "6     Total external renewable water resources (ERWR)      7\n",
       "7                     Total renewable water resources      5\n",
       "8                                    Dependency ratio      9\n",
       "9                   Total exploitable water resources    138\n",
       "10                 GDP per capita (current US$/inhab)     61\n",
       "11    Human Development Index (HDI) [highest = 1] (-)     61\n",
       "12                     Population density (inhab/km2)     61\n",
       "13                      Rural population (1000 inhab)     61\n",
       "14  Rural population with access to safe drinking-...     61\n",
       "15  Total population with access to safe drinking-...     61\n",
       "16                      Urban population (1000 inhab)     61\n",
       "17  Urban population with access to safe drinking-...     61\n",
       "18    DEC alternative conversion factor (LCU per US$)     62\n",
       "19           Fertility rate, total (births per woman)     61\n",
       "20                                 GDP (constant LCU)     62\n",
       "21                                  GDP (current LCU)     61\n",
       "22                                  GDP (current US$)     62\n",
       "23           GDP at market prices (constant 2010 US$)     63\n",
       "24         GDP deflator (base year varies by country)     62\n",
       "25                              GDP growth (annual %)     62\n",
       "26                       GDP per capita (current LCU)     61\n",
       "27                       GDP per capita (current US$)     62\n",
       "28  GDP per capita, PPP (constant 2011 internation...     64\n",
       "29      GDP per capita, PPP (current international $)     63\n",
       "30           GDP, PPP (constant 2011 international $)     64\n",
       "31                 GDP, PPP (current international $)     63\n",
       "32                                  GNI (current LCU)     62\n",
       "33                       GNI per capita (current LCU)     62\n",
       "34         GNI per capita, Atlas method (current US$)     62\n",
       "35      GNI per capita, PPP (current international $)     63\n",
       "36  General government total expenditure (current ...     63\n",
       "37            Life expectancy at birth, total (years)     62\n",
       "38     Mortality rate, infant (per 1,000 live births)     61\n",
       "39  Official exchange rate (LCU per US$, period av...     73\n",
       "40  PPP conversion factor, GDP (LCU per internatio...     63\n",
       "41  PPP conversion factor, private consumption (LC...     63\n",
       "42           Population aged 25-64 years (thousands)      61\n",
       "43                       Population growth (annual %)     61\n",
       "44  Prevalence of HIV, total (% of population ages...    104\n",
       "45  Price level ratio of PPP conversion factor (GD...     63\n",
       "46                      Total debt service (% of GNI)    109\n",
       "47                       Total population (thousands)     61\n",
       "48  Total internal renewable water resources (IRWR...     67\n",
       "49  Total external renewable water resources (ERWR...     61\n",
       "50         Total renewable water resources per capita     61"
      ]
     },
     "execution_count": 5,
     "metadata": {},
     "output_type": "execute_result"
    }
   ],
   "source": [
    "df.isna().sum().reset_index().rename(columns={'index':'Variables',0:'# NaN'})"
   ]
  },
  {
   "cell_type": "code",
   "execution_count": 6,
   "id": "95acbff8",
   "metadata": {
    "ExecuteTime": {
     "end_time": "2021-05-12T12:54:52.395341Z",
     "start_time": "2021-05-12T12:54:52.381339Z"
    }
   },
   "outputs": [],
   "source": [
    "df = df.drop(df.columns[[9,44,46]],axis=1)"
   ]
  },
  {
   "cell_type": "markdown",
   "id": "bb2e8406",
   "metadata": {},
   "source": [
    "### 2.4 Remove NaNs"
   ]
  },
  {
   "cell_type": "markdown",
   "id": "025d2c06",
   "metadata": {},
   "source": [
    "Only use one of both options"
   ]
  },
  {
   "cell_type": "markdown",
   "id": "c0e679b9",
   "metadata": {},
   "source": [
    "#### Option 1: Impute all missing NaNs using KNNImputer"
   ]
  },
  {
   "cell_type": "markdown",
   "id": "b85716d3",
   "metadata": {},
   "source": [
    "So the NaNs are filled with values from countries that they resemble most based on the non missing values."
   ]
  },
  {
   "cell_type": "code",
   "execution_count": null,
   "id": "234304c7",
   "metadata": {
    "ExecuteTime": {
     "end_time": "2021-05-12T12:44:59.624807Z",
     "start_time": "2021-05-12T12:44:59.577798Z"
    }
   },
   "outputs": [],
   "source": [
    "imputer = KNNImputer(n_neighbors=2,weights='distance')\n",
    "df[:] = imputer.fit_transform(df)"
   ]
  },
  {
   "cell_type": "markdown",
   "id": "46fd3a18",
   "metadata": {},
   "source": [
    "--> Still need to test further if imputation is ok or not"
   ]
  },
  {
   "cell_type": "markdown",
   "id": "56aee551",
   "metadata": {},
   "source": [
    "#### Option 2: Remove countries with missing NaNs"
   ]
  },
  {
   "cell_type": "code",
   "execution_count": 7,
   "id": "d1dcb15f",
   "metadata": {
    "ExecuteTime": {
     "end_time": "2021-05-12T12:55:09.140005Z",
     "start_time": "2021-05-12T12:55:09.130002Z"
    }
   },
   "outputs": [],
   "source": [
    "df.dropna(inplace=True)"
   ]
  },
  {
   "cell_type": "markdown",
   "id": "ab328768",
   "metadata": {},
   "source": [
    "### 2.5 Scale Columns "
   ]
  },
  {
   "cell_type": "code",
   "execution_count": 8,
   "id": "7ef51a99",
   "metadata": {
    "ExecuteTime": {
     "end_time": "2021-05-12T12:55:10.350368Z",
     "start_time": "2021-05-12T12:55:10.342367Z"
    }
   },
   "outputs": [
    {
     "data": {
      "text/html": [
       "<div>\n",
       "<style scoped>\n",
       "    .dataframe tbody tr th:only-of-type {\n",
       "        vertical-align: middle;\n",
       "    }\n",
       "\n",
       "    .dataframe tbody tr th {\n",
       "        vertical-align: top;\n",
       "    }\n",
       "\n",
       "    .dataframe thead th {\n",
       "        text-align: right;\n",
       "    }\n",
       "</style>\n",
       "<table border=\"1\" class=\"dataframe\">\n",
       "  <thead>\n",
       "    <tr style=\"text-align: right;\">\n",
       "      <th></th>\n",
       "      <th>0</th>\n",
       "    </tr>\n",
       "  </thead>\n",
       "  <tbody>\n",
       "    <tr>\n",
       "      <th>0</th>\n",
       "      <td>Water stress (MDG)</td>\n",
       "    </tr>\n",
       "    <tr>\n",
       "      <th>1</th>\n",
       "      <td>Water use efficiency (SDG)</td>\n",
       "    </tr>\n",
       "    <tr>\n",
       "      <th>2</th>\n",
       "      <td>Water stress (SDG)</td>\n",
       "    </tr>\n",
       "    <tr>\n",
       "      <th>3</th>\n",
       "      <td>Temperature (°C)</td>\n",
       "    </tr>\n",
       "    <tr>\n",
       "      <th>4</th>\n",
       "      <td>Total Rainfall (mm)</td>\n",
       "    </tr>\n",
       "    <tr>\n",
       "      <th>5</th>\n",
       "      <td>Total internal renewable water resources (IRWR)</td>\n",
       "    </tr>\n",
       "    <tr>\n",
       "      <th>6</th>\n",
       "      <td>Total external renewable water resources (ERWR)</td>\n",
       "    </tr>\n",
       "    <tr>\n",
       "      <th>7</th>\n",
       "      <td>Total renewable water resources</td>\n",
       "    </tr>\n",
       "    <tr>\n",
       "      <th>8</th>\n",
       "      <td>Dependency ratio</td>\n",
       "    </tr>\n",
       "    <tr>\n",
       "      <th>9</th>\n",
       "      <td>GDP per capita (current US$/inhab)</td>\n",
       "    </tr>\n",
       "    <tr>\n",
       "      <th>10</th>\n",
       "      <td>Human Development Index (HDI) [highest = 1] (-)</td>\n",
       "    </tr>\n",
       "    <tr>\n",
       "      <th>11</th>\n",
       "      <td>Population density (inhab/km2)</td>\n",
       "    </tr>\n",
       "    <tr>\n",
       "      <th>12</th>\n",
       "      <td>Rural population (1000 inhab)</td>\n",
       "    </tr>\n",
       "    <tr>\n",
       "      <th>13</th>\n",
       "      <td>Rural population with access to safe drinking-...</td>\n",
       "    </tr>\n",
       "    <tr>\n",
       "      <th>14</th>\n",
       "      <td>Total population with access to safe drinking-...</td>\n",
       "    </tr>\n",
       "    <tr>\n",
       "      <th>15</th>\n",
       "      <td>Urban population (1000 inhab)</td>\n",
       "    </tr>\n",
       "    <tr>\n",
       "      <th>16</th>\n",
       "      <td>Urban population with access to safe drinking-...</td>\n",
       "    </tr>\n",
       "    <tr>\n",
       "      <th>17</th>\n",
       "      <td>DEC alternative conversion factor (LCU per US$)</td>\n",
       "    </tr>\n",
       "    <tr>\n",
       "      <th>18</th>\n",
       "      <td>Fertility rate, total (births per woman)</td>\n",
       "    </tr>\n",
       "    <tr>\n",
       "      <th>19</th>\n",
       "      <td>GDP (constant LCU)</td>\n",
       "    </tr>\n",
       "    <tr>\n",
       "      <th>20</th>\n",
       "      <td>GDP (current LCU)</td>\n",
       "    </tr>\n",
       "    <tr>\n",
       "      <th>21</th>\n",
       "      <td>GDP (current US$)</td>\n",
       "    </tr>\n",
       "    <tr>\n",
       "      <th>22</th>\n",
       "      <td>GDP at market prices (constant 2010 US$)</td>\n",
       "    </tr>\n",
       "    <tr>\n",
       "      <th>23</th>\n",
       "      <td>GDP deflator (base year varies by country)</td>\n",
       "    </tr>\n",
       "    <tr>\n",
       "      <th>24</th>\n",
       "      <td>GDP growth (annual %)</td>\n",
       "    </tr>\n",
       "    <tr>\n",
       "      <th>25</th>\n",
       "      <td>GDP per capita (current LCU)</td>\n",
       "    </tr>\n",
       "    <tr>\n",
       "      <th>26</th>\n",
       "      <td>GDP per capita (current US$)</td>\n",
       "    </tr>\n",
       "    <tr>\n",
       "      <th>27</th>\n",
       "      <td>GDP per capita, PPP (constant 2011 internation...</td>\n",
       "    </tr>\n",
       "    <tr>\n",
       "      <th>28</th>\n",
       "      <td>GDP per capita, PPP (current international $)</td>\n",
       "    </tr>\n",
       "    <tr>\n",
       "      <th>29</th>\n",
       "      <td>GDP, PPP (constant 2011 international $)</td>\n",
       "    </tr>\n",
       "    <tr>\n",
       "      <th>30</th>\n",
       "      <td>GDP, PPP (current international $)</td>\n",
       "    </tr>\n",
       "    <tr>\n",
       "      <th>31</th>\n",
       "      <td>GNI (current LCU)</td>\n",
       "    </tr>\n",
       "    <tr>\n",
       "      <th>32</th>\n",
       "      <td>GNI per capita (current LCU)</td>\n",
       "    </tr>\n",
       "    <tr>\n",
       "      <th>33</th>\n",
       "      <td>GNI per capita, Atlas method (current US$)</td>\n",
       "    </tr>\n",
       "    <tr>\n",
       "      <th>34</th>\n",
       "      <td>GNI per capita, PPP (current international $)</td>\n",
       "    </tr>\n",
       "    <tr>\n",
       "      <th>35</th>\n",
       "      <td>General government total expenditure (current ...</td>\n",
       "    </tr>\n",
       "    <tr>\n",
       "      <th>36</th>\n",
       "      <td>Life expectancy at birth, total (years)</td>\n",
       "    </tr>\n",
       "    <tr>\n",
       "      <th>37</th>\n",
       "      <td>Mortality rate, infant (per 1,000 live births)</td>\n",
       "    </tr>\n",
       "    <tr>\n",
       "      <th>38</th>\n",
       "      <td>Official exchange rate (LCU per US$, period av...</td>\n",
       "    </tr>\n",
       "    <tr>\n",
       "      <th>39</th>\n",
       "      <td>PPP conversion factor, GDP (LCU per internatio...</td>\n",
       "    </tr>\n",
       "    <tr>\n",
       "      <th>40</th>\n",
       "      <td>PPP conversion factor, private consumption (LC...</td>\n",
       "    </tr>\n",
       "    <tr>\n",
       "      <th>41</th>\n",
       "      <td>Population aged 25-64 years (thousands)</td>\n",
       "    </tr>\n",
       "    <tr>\n",
       "      <th>42</th>\n",
       "      <td>Population growth (annual %)</td>\n",
       "    </tr>\n",
       "    <tr>\n",
       "      <th>43</th>\n",
       "      <td>Price level ratio of PPP conversion factor (GD...</td>\n",
       "    </tr>\n",
       "    <tr>\n",
       "      <th>44</th>\n",
       "      <td>Total population (thousands)</td>\n",
       "    </tr>\n",
       "    <tr>\n",
       "      <th>45</th>\n",
       "      <td>Total internal renewable water resources (IRWR...</td>\n",
       "    </tr>\n",
       "    <tr>\n",
       "      <th>46</th>\n",
       "      <td>Total external renewable water resources (ERWR...</td>\n",
       "    </tr>\n",
       "    <tr>\n",
       "      <th>47</th>\n",
       "      <td>Total renewable water resources per capita</td>\n",
       "    </tr>\n",
       "  </tbody>\n",
       "</table>\n",
       "</div>"
      ],
      "text/plain": [
       "                                                    0\n",
       "0                                  Water stress (MDG)\n",
       "1                          Water use efficiency (SDG)\n",
       "2                                  Water stress (SDG)\n",
       "3                                    Temperature (°C)\n",
       "4                                 Total Rainfall (mm)\n",
       "5     Total internal renewable water resources (IRWR)\n",
       "6     Total external renewable water resources (ERWR)\n",
       "7                     Total renewable water resources\n",
       "8                                    Dependency ratio\n",
       "9                  GDP per capita (current US$/inhab)\n",
       "10    Human Development Index (HDI) [highest = 1] (-)\n",
       "11                     Population density (inhab/km2)\n",
       "12                      Rural population (1000 inhab)\n",
       "13  Rural population with access to safe drinking-...\n",
       "14  Total population with access to safe drinking-...\n",
       "15                      Urban population (1000 inhab)\n",
       "16  Urban population with access to safe drinking-...\n",
       "17    DEC alternative conversion factor (LCU per US$)\n",
       "18           Fertility rate, total (births per woman)\n",
       "19                                 GDP (constant LCU)\n",
       "20                                  GDP (current LCU)\n",
       "21                                  GDP (current US$)\n",
       "22           GDP at market prices (constant 2010 US$)\n",
       "23         GDP deflator (base year varies by country)\n",
       "24                              GDP growth (annual %)\n",
       "25                       GDP per capita (current LCU)\n",
       "26                       GDP per capita (current US$)\n",
       "27  GDP per capita, PPP (constant 2011 internation...\n",
       "28      GDP per capita, PPP (current international $)\n",
       "29           GDP, PPP (constant 2011 international $)\n",
       "30                 GDP, PPP (current international $)\n",
       "31                                  GNI (current LCU)\n",
       "32                       GNI per capita (current LCU)\n",
       "33         GNI per capita, Atlas method (current US$)\n",
       "34      GNI per capita, PPP (current international $)\n",
       "35  General government total expenditure (current ...\n",
       "36            Life expectancy at birth, total (years)\n",
       "37     Mortality rate, infant (per 1,000 live births)\n",
       "38  Official exchange rate (LCU per US$, period av...\n",
       "39  PPP conversion factor, GDP (LCU per internatio...\n",
       "40  PPP conversion factor, private consumption (LC...\n",
       "41           Population aged 25-64 years (thousands) \n",
       "42                       Population growth (annual %)\n",
       "43  Price level ratio of PPP conversion factor (GD...\n",
       "44                       Total population (thousands)\n",
       "45  Total internal renewable water resources (IRWR...\n",
       "46  Total external renewable water resources (ERWR...\n",
       "47         Total renewable water resources per capita"
      ]
     },
     "execution_count": 8,
     "metadata": {},
     "output_type": "execute_result"
    }
   ],
   "source": [
    "pd.DataFrame(df.columns)"
   ]
  },
  {
   "cell_type": "markdown",
   "id": "f02b431c",
   "metadata": {},
   "source": [
    "Make function to log transform"
   ]
  },
  {
   "cell_type": "code",
   "execution_count": 9,
   "id": "47c70eff",
   "metadata": {
    "ExecuteTime": {
     "end_time": "2021-05-12T12:55:12.021170Z",
     "start_time": "2021-05-12T12:55:12.014169Z"
    }
   },
   "outputs": [],
   "source": [
    "def log_transform(x):\n",
    "    return np.log(x + 1)"
   ]
  },
  {
   "cell_type": "markdown",
   "id": "7b1b89f3",
   "metadata": {},
   "source": [
    "Some commonly used scalers:"
   ]
  },
  {
   "cell_type": "code",
   "execution_count": 10,
   "id": "295aedea",
   "metadata": {
    "ExecuteTime": {
     "end_time": "2021-05-12T12:55:12.763448Z",
     "start_time": "2021-05-12T12:55:12.749445Z"
    }
   },
   "outputs": [],
   "source": [
    "logscaler = FunctionTransformer(log_transform)\n",
    "standardscaler = StandardScaler()\n",
    "robustscaler = RobustScaler()\n",
    "minmaxscaler = MinMaxScaler()"
   ]
  },
  {
   "cell_type": "markdown",
   "id": "c2f1041b",
   "metadata": {},
   "source": [
    "Log scaler on the target variables"
   ]
  },
  {
   "cell_type": "code",
   "execution_count": 11,
   "id": "1a70fad0",
   "metadata": {
    "ExecuteTime": {
     "end_time": "2021-05-12T12:55:13.461329Z",
     "start_time": "2021-05-12T12:55:13.447325Z"
    }
   },
   "outputs": [],
   "source": [
    "df[0:3] = logscaler.fit_transform(df[0:3])"
   ]
  },
  {
   "cell_type": "markdown",
   "id": "06c8db37",
   "metadata": {},
   "source": [
    "Standard scaler on the whole dataset"
   ]
  },
  {
   "cell_type": "code",
   "execution_count": 12,
   "id": "f0f6ad43",
   "metadata": {
    "ExecuteTime": {
     "end_time": "2021-05-12T12:55:14.153051Z",
     "start_time": "2021-05-12T12:55:14.139048Z"
    }
   },
   "outputs": [],
   "source": [
    "df[:] = standardscaler.fit_transform(df)"
   ]
  },
  {
   "cell_type": "markdown",
   "id": "90dd6b11",
   "metadata": {},
   "source": [
    "--> Still many options to play around with regarding the scaling. Only tested logscaling on target variables now (as Herbert suggested in modelling_climate_factors.ipynb)."
   ]
  },
  {
   "cell_type": "markdown",
   "id": "6bfe91e6",
   "metadata": {},
   "source": [
    "### 2.6 Split dataframe into chosen predictor and target variables"
   ]
  },
  {
   "cell_type": "code",
   "execution_count": 13,
   "id": "43aac61f",
   "metadata": {
    "ExecuteTime": {
     "end_time": "2021-05-12T12:55:17.609988Z",
     "start_time": "2021-05-12T12:55:17.594362Z"
    }
   },
   "outputs": [],
   "source": [
    "df_pred_climate = df.iloc[:,np.r_[3:9, 45:48]]\n",
    "df_pred_socioec = df.iloc[:,9:45]\n",
    "df_target = df.iloc[:,0:3]"
   ]
  },
  {
   "cell_type": "markdown",
   "id": "4f09b8f1",
   "metadata": {},
   "source": [
    "## 3. Dimensionality reduction"
   ]
  },
  {
   "cell_type": "markdown",
   "id": "aff98f19",
   "metadata": {},
   "source": [
    "### 3.1 Target Variable"
   ]
  },
  {
   "cell_type": "markdown",
   "id": "22cff2c3",
   "metadata": {},
   "source": [
    "it takes the number of components until the total explained variance is 95%"
   ]
  },
  {
   "cell_type": "code",
   "execution_count": 14,
   "id": "6634f555",
   "metadata": {
    "ExecuteTime": {
     "end_time": "2021-05-12T12:55:19.169292Z",
     "start_time": "2021-05-12T12:55:19.150288Z"
    }
   },
   "outputs": [
    {
     "data": {
      "text/plain": [
       "PCA(n_components=0.95)"
      ]
     },
     "execution_count": 14,
     "metadata": {},
     "output_type": "execute_result"
    }
   ],
   "source": [
    "pca = PCA(n_components=0.95)\n",
    "pca.fit(df_target)"
   ]
  },
  {
   "cell_type": "code",
   "execution_count": 15,
   "id": "881febb8",
   "metadata": {
    "ExecuteTime": {
     "end_time": "2021-05-12T12:55:20.165314Z",
     "start_time": "2021-05-12T12:55:20.145811Z"
    }
   },
   "outputs": [
    {
     "name": "stdout",
     "output_type": "stream",
     "text": [
      "Explained variance: [0.6808065  0.31904668]\n"
     ]
    },
    {
     "data": {
      "text/html": [
       "<div>\n",
       "<style scoped>\n",
       "    .dataframe tbody tr th:only-of-type {\n",
       "        vertical-align: middle;\n",
       "    }\n",
       "\n",
       "    .dataframe tbody tr th {\n",
       "        vertical-align: top;\n",
       "    }\n",
       "\n",
       "    .dataframe thead th {\n",
       "        text-align: right;\n",
       "    }\n",
       "</style>\n",
       "<table border=\"1\" class=\"dataframe\">\n",
       "  <thead>\n",
       "    <tr style=\"text-align: right;\">\n",
       "      <th></th>\n",
       "      <th>Water stress (MDG)</th>\n",
       "      <th>Water use efficiency (SDG)</th>\n",
       "      <th>Water stress (SDG)</th>\n",
       "    </tr>\n",
       "  </thead>\n",
       "  <tbody>\n",
       "    <tr>\n",
       "      <th>0</th>\n",
       "      <td>0.693191</td>\n",
       "      <td>0.198744</td>\n",
       "      <td>0.692811</td>\n",
       "    </tr>\n",
       "    <tr>\n",
       "      <th>1</th>\n",
       "      <td>-0.138533</td>\n",
       "      <td>0.980047</td>\n",
       "      <td>-0.142533</td>\n",
       "    </tr>\n",
       "  </tbody>\n",
       "</table>\n",
       "</div>"
      ],
      "text/plain": [
       "   Water stress (MDG)  Water use efficiency (SDG)  Water stress (SDG)\n",
       "0            0.693191                    0.198744            0.692811\n",
       "1           -0.138533                    0.980047           -0.142533"
      ]
     },
     "execution_count": 15,
     "metadata": {},
     "output_type": "execute_result"
    }
   ],
   "source": [
    "print('Explained variance:',pca.explained_variance_ratio_)\n",
    "pd.DataFrame(pca.components_,columns=df_target.columns)"
   ]
  },
  {
   "cell_type": "markdown",
   "id": "bb012a8c",
   "metadata": {},
   "source": [
    "--> Logical, so 1 principal component are both water stress scores (from MDG and SDG) and second component is the water use efficiency"
   ]
  },
  {
   "cell_type": "code",
   "execution_count": 16,
   "id": "e9bdeafd",
   "metadata": {
    "ExecuteTime": {
     "end_time": "2021-05-12T12:55:21.074074Z",
     "start_time": "2021-05-12T12:55:21.051675Z"
    }
   },
   "outputs": [],
   "source": [
    "df_target_pca = pd.DataFrame(pca.transform(df_target))"
   ]
  },
  {
   "cell_type": "markdown",
   "id": "5450ec32",
   "metadata": {},
   "source": [
    "### 3.2 Climate Variables: Water resources"
   ]
  },
  {
   "cell_type": "markdown",
   "id": "f505fc6c",
   "metadata": {},
   "source": [
    "There are many variables for the water resources than are correlated, so tried to reduce the dimensions. Rainfall and temperature are not included."
   ]
  },
  {
   "cell_type": "code",
   "execution_count": 17,
   "id": "7f9bcf1d",
   "metadata": {
    "ExecuteTime": {
     "end_time": "2021-05-12T12:55:22.064119Z",
     "start_time": "2021-05-12T12:55:22.048830Z"
    }
   },
   "outputs": [
    {
     "data": {
      "text/plain": [
       "PCA(n_components=0.95)"
      ]
     },
     "execution_count": 17,
     "metadata": {},
     "output_type": "execute_result"
    }
   ],
   "source": [
    "pca = PCA(n_components=0.95)\n",
    "pca.fit(df_pred_climate.iloc[:,2:])"
   ]
  },
  {
   "cell_type": "code",
   "execution_count": 18,
   "id": "bbfd6588",
   "metadata": {
    "ExecuteTime": {
     "end_time": "2021-05-12T12:55:23.000647Z",
     "start_time": "2021-05-12T12:55:22.985643Z"
    }
   },
   "outputs": [
    {
     "name": "stdout",
     "output_type": "stream",
     "text": [
      "Explained variance: [0.39547784 0.27906268 0.20021092 0.08867165]\n"
     ]
    },
    {
     "data": {
      "text/html": [
       "<div>\n",
       "<style scoped>\n",
       "    .dataframe tbody tr th:only-of-type {\n",
       "        vertical-align: middle;\n",
       "    }\n",
       "\n",
       "    .dataframe tbody tr th {\n",
       "        vertical-align: top;\n",
       "    }\n",
       "\n",
       "    .dataframe thead th {\n",
       "        text-align: right;\n",
       "    }\n",
       "</style>\n",
       "<table border=\"1\" class=\"dataframe\">\n",
       "  <thead>\n",
       "    <tr style=\"text-align: right;\">\n",
       "      <th></th>\n",
       "      <th>Total internal renewable water resources (IRWR)</th>\n",
       "      <th>Total external renewable water resources (ERWR)</th>\n",
       "      <th>Total renewable water resources</th>\n",
       "      <th>Dependency ratio</th>\n",
       "      <th>Total internal renewable water resources (IRWR) per capita</th>\n",
       "      <th>Total external renewable water resources (ERWR) per capita</th>\n",
       "      <th>Total renewable water resources per capita</th>\n",
       "    </tr>\n",
       "  </thead>\n",
       "  <tbody>\n",
       "    <tr>\n",
       "      <th>0</th>\n",
       "      <td>0.532581</td>\n",
       "      <td>0.511428</td>\n",
       "      <td>0.568173</td>\n",
       "      <td>0.017996</td>\n",
       "      <td>0.194406</td>\n",
       "      <td>0.197442</td>\n",
       "      <td>0.234260</td>\n",
       "    </tr>\n",
       "    <tr>\n",
       "      <th>1</th>\n",
       "      <td>-0.161110</td>\n",
       "      <td>-0.206302</td>\n",
       "      <td>-0.188279</td>\n",
       "      <td>-0.149235</td>\n",
       "      <td>0.660238</td>\n",
       "      <td>0.097809</td>\n",
       "      <td>0.654432</td>\n",
       "    </tr>\n",
       "    <tr>\n",
       "      <th>2</th>\n",
       "      <td>-0.256921</td>\n",
       "      <td>0.153722</td>\n",
       "      <td>-0.146731</td>\n",
       "      <td>0.692417</td>\n",
       "      <td>-0.075626</td>\n",
       "      <td>0.629901</td>\n",
       "      <td>0.083047</td>\n",
       "    </tr>\n",
       "    <tr>\n",
       "      <th>3</th>\n",
       "      <td>-0.007198</td>\n",
       "      <td>-0.089753</td>\n",
       "      <td>-0.034050</td>\n",
       "      <td>-0.654425</td>\n",
       "      <td>-0.239213</td>\n",
       "      <td>0.708770</td>\n",
       "      <td>-0.053691</td>\n",
       "    </tr>\n",
       "  </tbody>\n",
       "</table>\n",
       "</div>"
      ],
      "text/plain": [
       "   Total internal renewable water resources (IRWR)  \\\n",
       "0                                         0.532581   \n",
       "1                                        -0.161110   \n",
       "2                                        -0.256921   \n",
       "3                                        -0.007198   \n",
       "\n",
       "   Total external renewable water resources (ERWR)  \\\n",
       "0                                         0.511428   \n",
       "1                                        -0.206302   \n",
       "2                                         0.153722   \n",
       "3                                        -0.089753   \n",
       "\n",
       "   Total renewable water resources  Dependency ratio  \\\n",
       "0                         0.568173          0.017996   \n",
       "1                        -0.188279         -0.149235   \n",
       "2                        -0.146731          0.692417   \n",
       "3                        -0.034050         -0.654425   \n",
       "\n",
       "   Total internal renewable water resources (IRWR) per capita  \\\n",
       "0                                           0.194406            \n",
       "1                                           0.660238            \n",
       "2                                          -0.075626            \n",
       "3                                          -0.239213            \n",
       "\n",
       "   Total external renewable water resources (ERWR) per capita  \\\n",
       "0                                           0.197442            \n",
       "1                                           0.097809            \n",
       "2                                           0.629901            \n",
       "3                                           0.708770            \n",
       "\n",
       "   Total renewable water resources per capita  \n",
       "0                                    0.234260  \n",
       "1                                    0.654432  \n",
       "2                                    0.083047  \n",
       "3                                   -0.053691  "
      ]
     },
     "execution_count": 18,
     "metadata": {},
     "output_type": "execute_result"
    }
   ],
   "source": [
    "print('Explained variance:',pca.explained_variance_ratio_)\n",
    "pd.DataFrame(pca.components_,columns=df_pred_climate.iloc[:,2:].columns)"
   ]
  },
  {
   "cell_type": "markdown",
   "id": "363766b7",
   "metadata": {},
   "source": [
    "Principale Components:\n",
    "\n",
    "0. Large internal and external water resources\n",
    "1. Only large internal water resources per capita \n",
    "2. Only large external water resources per capita + rely on external sources \n",
    "3. Don't know how to make sense on the last component, maybe we can leave it out\n"
   ]
  },
  {
   "cell_type": "code",
   "execution_count": 19,
   "id": "70ee1f02",
   "metadata": {
    "ExecuteTime": {
     "end_time": "2021-05-12T12:55:23.974075Z",
     "start_time": "2021-05-12T12:55:23.959072Z"
    }
   },
   "outputs": [],
   "source": [
    "df_pred_climate_pca = pd.DataFrame(np.concatenate((df_pred_climate.iloc[:,:2].to_numpy(),pca.transform(df_pred_climate.iloc[:,2:])),axis=1))"
   ]
  },
  {
   "cell_type": "markdown",
   "id": "5dd5e1ab",
   "metadata": {},
   "source": [
    "## 4. Modelling"
   ]
  },
  {
   "cell_type": "markdown",
   "id": "0e95799e",
   "metadata": {},
   "source": [
    "### 4.1 Climate Factors"
   ]
  },
  {
   "cell_type": "markdown",
   "id": "ee67bb64",
   "metadata": {},
   "source": [
    "#### 4.1.1 Train test split "
   ]
  },
  {
   "cell_type": "code",
   "execution_count": 20,
   "id": "dfc3a761",
   "metadata": {
    "ExecuteTime": {
     "end_time": "2021-05-12T12:55:27.605294Z",
     "start_time": "2021-05-12T12:55:27.602293Z"
    }
   },
   "outputs": [],
   "source": [
    "X_train, X_test, y_train, y_test = train_test_split(df_pred_climate_pca,df_target_pca,random_state=0)"
   ]
  },
  {
   "cell_type": "markdown",
   "id": "1c989024",
   "metadata": {},
   "source": [
    "#### 4.1.2 Test multiple models"
   ]
  },
  {
   "cell_type": "code",
   "execution_count": 31,
   "id": "251641c1",
   "metadata": {
    "ExecuteTime": {
     "end_time": "2021-05-12T12:56:32.350576Z",
     "start_time": "2021-05-12T12:56:32.333572Z"
    }
   },
   "outputs": [],
   "source": [
    "model_1 = RandomForestRegressor(max_depth=2,random_state=0)\n",
    "model_2 = LinearRegression()\n",
    "model_3 = Ridge(alpha=19)\n",
    "model_4 = SVR()\n",
    "\n",
    "models=[model_1, model_2, model_3,model_4]"
   ]
  },
  {
   "cell_type": "markdown",
   "id": "be922b28",
   "metadata": {},
   "source": [
    "--> feel free to try other models"
   ]
  },
  {
   "cell_type": "code",
   "execution_count": 32,
   "id": "dc057ba8",
   "metadata": {
    "ExecuteTime": {
     "end_time": "2021-05-12T12:56:33.875256Z",
     "start_time": "2021-05-12T12:56:33.593557Z"
    },
    "scrolled": true
   },
   "outputs": [
    {
     "name": "stdout",
     "output_type": "stream",
     "text": [
      "Target Principale Component:  0\n",
      "  RandomForestRegressor(max_depth=2, random_state=0)\n",
      "   Model score:  0.7284031440837294\n",
      "   R² 0.6649369469979624\n",
      "\n",
      "  LinearRegression()\n",
      "   Model score:  0.10220943595518006\n",
      "   R² 0.0015633669778680748\n",
      "\n",
      "  Ridge(alpha=19)\n",
      "   Model score:  0.09136603163959334\n",
      "   R² 0.0730585481399697\n",
      "\n",
      "  SVR()\n",
      "   Model score:  0.007619660884640167\n",
      "   R² 0.016178367957373818\n",
      "\n",
      "\n",
      "Target Principale Component:  1\n",
      "  RandomForestRegressor(max_depth=2, random_state=0)\n",
      "   Model score:  0.6192542844782101\n",
      "   R² 0.5789688076041271\n",
      "\n",
      "  LinearRegression()\n",
      "   Model score:  0.10704725403034032\n",
      "   R² 0.02175874034084857\n",
      "\n",
      "  Ridge(alpha=19)\n",
      "   Model score:  0.10049674432986155\n",
      "   R² 0.0512653807582768\n",
      "\n",
      "  SVR()\n",
      "   Model score:  -0.005656292612457481\n",
      "   R² 0.00641367517529301\n",
      "\n",
      "\n"
     ]
    }
   ],
   "source": [
    "for i in range(len(df_target_pca.columns)):\n",
    "    print('Target Principale Component: ',df_target_pca.columns[i])\n",
    "    for model in models:\n",
    "        model.fit(X_train,y_train.iloc[:,i])\n",
    "        print(' ',model)\n",
    "        print('   Model score: ',model.score(X_train,y_train.iloc[:,i]))\n",
    "        y_pred = model.predict(df_pred_climate_pca)\n",
    "        print('   R²',r2_score(df_target_pca.iloc[:,i],y_pred))\n",
    "        print('')\n",
    "    print('')"
   ]
  },
  {
   "cell_type": "markdown",
   "id": "b72b1ead",
   "metadata": {},
   "source": [
    "**Option 1 (section 2.4) = imputing NaNs:** With the RandomForest regressor we have an R² of 0.78 on the water stress and 0.18 on the water use efficiency, so most of the water stress can be explained by the climate, but the water use efficiency not, as expected.\n",
    "\n",
    "**Option 2 (section 2.4) = dropping NaNs:** With the RandomForest regressor we have an R² of about 0.60 for both water stress and water use efficiency.\n",
    "\n",
    "--> So something about the imputation makes the water use efficiency predicitons worse"
   ]
  },
  {
   "cell_type": "markdown",
   "id": "4e49b7e9",
   "metadata": {},
   "source": [
    "#### 4.1.3 Fine Tune models"
   ]
  },
  {
   "cell_type": "markdown",
   "id": "9f607afc",
   "metadata": {},
   "source": [
    "##### Random Forest"
   ]
  },
  {
   "cell_type": "code",
   "execution_count": 23,
   "id": "fa0866ee",
   "metadata": {
    "ExecuteTime": {
     "end_time": "2021-05-12T12:55:39.651777Z",
     "start_time": "2021-05-12T12:55:39.638775Z"
    }
   },
   "outputs": [],
   "source": [
    "depth = np.arange(2,20)"
   ]
  },
  {
   "cell_type": "code",
   "execution_count": 24,
   "id": "04064af5",
   "metadata": {
    "ExecuteTime": {
     "end_time": "2021-05-12T12:55:40.879875Z",
     "start_time": "2021-05-12T12:55:40.867874Z"
    }
   },
   "outputs": [],
   "source": [
    "grid = GridSearchCV(RandomForestRegressor(random_state=0),{'max_depth': depth})"
   ]
  },
  {
   "cell_type": "code",
   "execution_count": 25,
   "id": "27a9b2b2",
   "metadata": {
    "ExecuteTime": {
     "end_time": "2021-05-12T12:55:52.936894Z",
     "start_time": "2021-05-12T12:55:42.125351Z"
    }
   },
   "outputs": [
    {
     "data": {
      "text/plain": [
       "GridSearchCV(estimator=RandomForestRegressor(random_state=0),\n",
       "             param_grid={'max_depth': array([ 2,  3,  4,  5,  6,  7,  8,  9, 10, 11, 12, 13, 14, 15, 16, 17, 18,\n",
       "       19])})"
      ]
     },
     "execution_count": 25,
     "metadata": {},
     "output_type": "execute_result"
    }
   ],
   "source": [
    "grid.fit(X_train,y_train)"
   ]
  },
  {
   "cell_type": "code",
   "execution_count": 26,
   "id": "8a882028",
   "metadata": {
    "ExecuteTime": {
     "end_time": "2021-05-12T12:55:54.193019Z",
     "start_time": "2021-05-12T12:55:54.178016Z"
    },
    "scrolled": false
   },
   "outputs": [
    {
     "data": {
      "text/plain": [
       "{'max_depth': 2}"
      ]
     },
     "execution_count": 26,
     "metadata": {},
     "output_type": "execute_result"
    }
   ],
   "source": [
    "grid.best_params_"
   ]
  },
  {
   "cell_type": "markdown",
   "id": "93fa66b8",
   "metadata": {},
   "source": [
    "--> best depth of the randomforest is 2"
   ]
  },
  {
   "cell_type": "markdown",
   "id": "aba4a1f1",
   "metadata": {},
   "source": [
    "##### Ridge"
   ]
  },
  {
   "cell_type": "code",
   "execution_count": 27,
   "id": "725815d2",
   "metadata": {
    "ExecuteTime": {
     "end_time": "2021-05-12T12:55:55.456264Z",
     "start_time": "2021-05-12T12:55:55.441261Z"
    }
   },
   "outputs": [],
   "source": [
    "alpha = np.arange(1,20)"
   ]
  },
  {
   "cell_type": "code",
   "execution_count": 28,
   "id": "b716f899",
   "metadata": {
    "ExecuteTime": {
     "end_time": "2021-05-12T12:55:56.691949Z",
     "start_time": "2021-05-12T12:55:56.676946Z"
    }
   },
   "outputs": [],
   "source": [
    "grid = GridSearchCV(Ridge(),{'alpha': alpha})"
   ]
  },
  {
   "cell_type": "code",
   "execution_count": 29,
   "id": "b763871e",
   "metadata": {
    "ExecuteTime": {
     "end_time": "2021-05-12T12:55:58.532532Z",
     "start_time": "2021-05-12T12:55:57.915449Z"
    }
   },
   "outputs": [
    {
     "data": {
      "text/plain": [
       "GridSearchCV(estimator=Ridge(),\n",
       "             param_grid={'alpha': array([ 1,  2,  3,  4,  5,  6,  7,  8,  9, 10, 11, 12, 13, 14, 15, 16, 17,\n",
       "       18, 19])})"
      ]
     },
     "execution_count": 29,
     "metadata": {},
     "output_type": "execute_result"
    }
   ],
   "source": [
    "grid.fit(X_train,y_train)"
   ]
  },
  {
   "cell_type": "code",
   "execution_count": 30,
   "id": "e6a661a2",
   "metadata": {
    "ExecuteTime": {
     "end_time": "2021-05-12T12:55:59.778283Z",
     "start_time": "2021-05-12T12:55:59.762356Z"
    }
   },
   "outputs": [
    {
     "data": {
      "text/plain": [
       "{'alpha': 19}"
      ]
     },
     "execution_count": 30,
     "metadata": {},
     "output_type": "execute_result"
    }
   ],
   "source": [
    "grid.best_params_"
   ]
  },
  {
   "cell_type": "markdown",
   "id": "57c7be24",
   "metadata": {},
   "source": [
    "--> best alpha for ridge is 19"
   ]
  },
  {
   "cell_type": "markdown",
   "id": "64da88bd",
   "metadata": {},
   "source": [
    "## Leftover from first attempt to make pipeline"
   ]
  },
  {
   "cell_type": "code",
   "execution_count": null,
   "id": "45eefebf",
   "metadata": {
    "ExecuteTime": {
     "end_time": "2021-05-12T12:35:13.194766Z",
     "start_time": "2021-05-12T12:35:13.180764Z"
    }
   },
   "outputs": [],
   "source": [
    "preprocess_1 = ColumnTransformer(remainder = 'passthrough', \n",
    "                               transformers = \n",
    "                               [(\"drop_cols\", 'drop', [9,44,46])])"
   ]
  },
  {
   "cell_type": "code",
   "execution_count": null,
   "id": "ccc3d5d9",
   "metadata": {
    "ExecuteTime": {
     "end_time": "2021-05-12T12:35:13.210770Z",
     "start_time": "2021-05-12T12:35:13.195767Z"
    }
   },
   "outputs": [],
   "source": [
    "preprocess_2 = ColumnTransformer(remainder = 'passthrough', \n",
    "                               transformers = \n",
    "                               [(\"impute_nans\", KNNImputer(n_neighbors=3), df.columns.tolist())])"
   ]
  },
  {
   "cell_type": "code",
   "execution_count": null,
   "id": "90a09600",
   "metadata": {
    "ExecuteTime": {
     "end_time": "2021-05-12T12:35:13.226773Z",
     "start_time": "2021-05-12T12:35:13.211770Z"
    }
   },
   "outputs": [],
   "source": [
    "pipe = Pipeline([\n",
    "        ('scaler', StandardScaler()),\n",
    "        ('regressor', LinearRegression())\n",
    "        ])"
   ]
  },
  {
   "cell_type": "code",
   "execution_count": null,
   "id": "351351f1",
   "metadata": {
    "ExecuteTime": {
     "end_time": "2021-05-12T12:35:13.242251Z",
     "start_time": "2021-05-12T12:35:13.227774Z"
    }
   },
   "outputs": [],
   "source": [
    "pipe = pipe.fit(X_train, y_train)"
   ]
  },
  {
   "cell_type": "markdown",
   "id": "a44eeb10",
   "metadata": {},
   "source": [
    "### Plot Model"
   ]
  },
  {
   "cell_type": "code",
   "execution_count": null,
   "id": "625f3278",
   "metadata": {
    "ExecuteTime": {
     "end_time": "2021-05-12T12:35:13.258254Z",
     "start_time": "2021-05-12T12:35:13.243251Z"
    }
   },
   "outputs": [],
   "source": [
    "y_model = pipe.predict(X_test)"
   ]
  },
  {
   "cell_type": "code",
   "execution_count": null,
   "id": "434f8a2c",
   "metadata": {
    "ExecuteTime": {
     "end_time": "2021-05-12T12:35:14.100422Z",
     "start_time": "2021-05-12T12:35:13.259255Z"
    }
   },
   "outputs": [],
   "source": [
    "plt.scatter(y_test['Water stress (SDG)'], y_model[:,2], c='crimson')\n",
    "plt.xlabel('Observed')\n",
    "plt.ylabel('Predicted')\n",
    "plt.show()"
   ]
  },
  {
   "cell_type": "code",
   "execution_count": null,
   "id": "99627bc0",
   "metadata": {
    "ExecuteTime": {
     "end_time": "2021-05-12T12:35:14.119427Z",
     "start_time": "2021-05-12T12:34:58.172Z"
    }
   },
   "outputs": [],
   "source": [
    "plt.scatter(y_test['Water stress (MDG)'], y_model[:,0], c='crimson')\n",
    "plt.xlabel('Observed')\n",
    "plt.ylabel('Predicted')\n",
    "plt.show()"
   ]
  },
  {
   "cell_type": "code",
   "execution_count": null,
   "id": "8165f279",
   "metadata": {
    "ExecuteTime": {
     "end_time": "2021-05-12T12:35:14.120427Z",
     "start_time": "2021-05-12T12:34:58.174Z"
    }
   },
   "outputs": [],
   "source": [
    "plt.scatter(y_test['Water use efficiency (SDG)'], y_model[:,1], c='crimson')\n",
    "plt.xlabel('Observed')\n",
    "plt.ylabel('Predicted')\n",
    "plt.show()"
   ]
  },
  {
   "cell_type": "code",
   "execution_count": null,
   "id": "be8b466a",
   "metadata": {},
   "outputs": [],
   "source": []
  }
 ],
 "metadata": {
  "kernelspec": {
   "display_name": "Python 3",
   "language": "python",
   "name": "python3"
  },
  "language_info": {
   "codemirror_mode": {
    "name": "ipython",
    "version": 3
   },
   "file_extension": ".py",
   "mimetype": "text/x-python",
   "name": "python",
   "nbconvert_exporter": "python",
   "pygments_lexer": "ipython3",
   "version": "3.8.8"
  },
  "toc": {
   "base_numbering": 1,
   "nav_menu": {},
   "number_sections": false,
   "sideBar": true,
   "skip_h1_title": true,
   "title_cell": "Table of Contents",
   "title_sidebar": "Contents",
   "toc_cell": false,
   "toc_position": {
    "height": "calc(100% - 180px)",
    "left": "10px",
    "top": "150px",
    "width": "426.667px"
   },
   "toc_section_display": true,
   "toc_window_display": true
  },
  "varInspector": {
   "cols": {
    "lenName": 16,
    "lenType": 16,
    "lenVar": 40
   },
   "kernels_config": {
    "python": {
     "delete_cmd_postfix": "",
     "delete_cmd_prefix": "del ",
     "library": "var_list.py",
     "varRefreshCmd": "print(var_dic_list())"
    },
    "r": {
     "delete_cmd_postfix": ") ",
     "delete_cmd_prefix": "rm(",
     "library": "var_list.r",
     "varRefreshCmd": "cat(var_dic_list()) "
    }
   },
   "types_to_exclude": [
    "module",
    "function",
    "builtin_function_or_method",
    "instance",
    "_Feature"
   ],
   "window_display": false
  }
 },
 "nbformat": 4,
 "nbformat_minor": 5
}
