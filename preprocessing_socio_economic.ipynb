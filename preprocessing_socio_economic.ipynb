{
 "cells": [
  {
   "cell_type": "markdown",
   "metadata": {},
   "source": [
    "# this file will import and clean the socio-economic data\n",
    "\n",
    "to do: put everything into PEP8 and beautify code"
   ]
  },
  {
   "cell_type": "code",
   "execution_count": 1,
   "metadata": {},
   "outputs": [],
   "source": [
    "import pandas as pd\n",
    "import country_converter as coco"
   ]
  },
  {
   "cell_type": "markdown",
   "metadata": {},
   "source": [
    "### 1. import the socio-economic datasets"
   ]
  },
  {
   "cell_type": "code",
   "execution_count": 2,
   "metadata": {},
   "outputs": [],
   "source": [
    "aqua_se = pd.read_csv('raw data/aquastat_socio_economic.csv')\n",
    "unicef_se = pd.read_csv('raw data/unicef_socio_economic.csv')"
   ]
  },
  {
   "cell_type": "markdown",
   "metadata": {},
   "source": [
    "next steps include:\n",
    "1. remove unnecesary columns and rows\n",
    "2. check where the missing values occur\n",
    "3. make sure no duplicates are present\n",
    "4. save a cleaner dataset to clean data folder"
   ]
  },
  {
   "cell_type": "markdown",
   "metadata": {},
   "source": [
    "**check the general structure of both datasets**"
   ]
  },
  {
   "cell_type": "code",
   "execution_count": 3,
   "metadata": {},
   "outputs": [
    {
     "data": {
      "text/html": [
       "<div>\n",
       "<style scoped>\n",
       "    .dataframe tbody tr th:only-of-type {\n",
       "        vertical-align: middle;\n",
       "    }\n",
       "\n",
       "    .dataframe tbody tr th {\n",
       "        vertical-align: top;\n",
       "    }\n",
       "\n",
       "    .dataframe thead th {\n",
       "        text-align: right;\n",
       "    }\n",
       "</style>\n",
       "<table border=\"1\" class=\"dataframe\">\n",
       "  <thead>\n",
       "    <tr style=\"text-align: right;\">\n",
       "      <th></th>\n",
       "      <th>Unnamed: 0</th>\n",
       "      <th>Unnamed: 1</th>\n",
       "      <th>Unnamed: 2</th>\n",
       "      <th>1998-2002</th>\n",
       "      <th>Unnamed: 4</th>\n",
       "      <th>Unnamed: 5</th>\n",
       "      <th>2003-2007</th>\n",
       "      <th>Unnamed: 7</th>\n",
       "      <th>Unnamed: 8</th>\n",
       "      <th>2008-2012</th>\n",
       "      <th>Unnamed: 10</th>\n",
       "      <th>Unnamed: 11</th>\n",
       "      <th>2013-2017</th>\n",
       "      <th>Unnamed: 13</th>\n",
       "      <th>Unnamed: 14</th>\n",
       "      <th>2018-2022</th>\n",
       "      <th>Unnamed: 16</th>\n",
       "    </tr>\n",
       "  </thead>\n",
       "  <tbody>\n",
       "    <tr>\n",
       "      <th>0</th>\n",
       "      <td>Afghanistan</td>\n",
       "      <td>Rural population (1000 inhab)</td>\n",
       "      <td>2002.0</td>\n",
       "      <td>17086.91</td>\n",
       "      <td>NaN</td>\n",
       "      <td>2007.0</td>\n",
       "      <td>20464.923</td>\n",
       "      <td>NaN</td>\n",
       "      <td>2012.0</td>\n",
       "      <td>23280.663</td>\n",
       "      <td>NaN</td>\n",
       "      <td>2017.0</td>\n",
       "      <td>26558.609</td>\n",
       "      <td>NaN</td>\n",
       "      <td>NaN</td>\n",
       "      <td>NaN</td>\n",
       "      <td>NaN</td>\n",
       "    </tr>\n",
       "    <tr>\n",
       "      <th>1</th>\n",
       "      <td>Afghanistan</td>\n",
       "      <td>Urban population (1000 inhab)</td>\n",
       "      <td>2002.0</td>\n",
       "      <td>4893.013</td>\n",
       "      <td>NaN</td>\n",
       "      <td>2007.0</td>\n",
       "      <td>6151.869</td>\n",
       "      <td>NaN</td>\n",
       "      <td>2012.0</td>\n",
       "      <td>7416.295</td>\n",
       "      <td>NaN</td>\n",
       "      <td>2017.0</td>\n",
       "      <td>8971.472</td>\n",
       "      <td>NaN</td>\n",
       "      <td>NaN</td>\n",
       "      <td>NaN</td>\n",
       "      <td>NaN</td>\n",
       "    </tr>\n",
       "    <tr>\n",
       "      <th>2</th>\n",
       "      <td>Afghanistan</td>\n",
       "      <td>Population density (inhab/km2)</td>\n",
       "      <td>2002.0</td>\n",
       "      <td>34.6180957633</td>\n",
       "      <td>NaN</td>\n",
       "      <td>2007.0</td>\n",
       "      <td>41.5104861686</td>\n",
       "      <td>NaN</td>\n",
       "      <td>2012.0</td>\n",
       "      <td>47.73056398</td>\n",
       "      <td>NaN</td>\n",
       "      <td>2017.0</td>\n",
       "      <td>55.5955534111</td>\n",
       "      <td>NaN</td>\n",
       "      <td>NaN</td>\n",
       "      <td>NaN</td>\n",
       "      <td>NaN</td>\n",
       "    </tr>\n",
       "    <tr>\n",
       "      <th>3</th>\n",
       "      <td>Afghanistan</td>\n",
       "      <td>GDP per capita (current US$/inhab)</td>\n",
       "      <td>2002.0</td>\n",
       "      <td>194.958382</td>\n",
       "      <td>NaN</td>\n",
       "      <td>2007.0</td>\n",
       "      <td>389.985586</td>\n",
       "      <td>NaN</td>\n",
       "      <td>2012.0</td>\n",
       "      <td>694.885618</td>\n",
       "      <td>NaN</td>\n",
       "      <td>2017.0</td>\n",
       "      <td>605.557362</td>\n",
       "      <td>NaN</td>\n",
       "      <td>NaN</td>\n",
       "      <td>NaN</td>\n",
       "      <td>NaN</td>\n",
       "    </tr>\n",
       "    <tr>\n",
       "      <th>4</th>\n",
       "      <td>Afghanistan</td>\n",
       "      <td>Human Development Index (HDI) [highest = 1] (-)</td>\n",
       "      <td>2002.0</td>\n",
       "      <td>0.378</td>\n",
       "      <td>NaN</td>\n",
       "      <td>2007.0</td>\n",
       "      <td>0.431</td>\n",
       "      <td>NaN</td>\n",
       "      <td>2012.0</td>\n",
       "      <td>0.479</td>\n",
       "      <td>NaN</td>\n",
       "      <td>2017.0</td>\n",
       "      <td>0.493</td>\n",
       "      <td>NaN</td>\n",
       "      <td>NaN</td>\n",
       "      <td>NaN</td>\n",
       "      <td>NaN</td>\n",
       "    </tr>\n",
       "  </tbody>\n",
       "</table>\n",
       "</div>"
      ],
      "text/plain": [
       "    Unnamed: 0                                       Unnamed: 1  Unnamed: 2  \\\n",
       "0  Afghanistan                    Rural population (1000 inhab)      2002.0   \n",
       "1  Afghanistan                    Urban population (1000 inhab)      2002.0   \n",
       "2  Afghanistan                   Population density (inhab/km2)      2002.0   \n",
       "3  Afghanistan               GDP per capita (current US$/inhab)      2002.0   \n",
       "4  Afghanistan  Human Development Index (HDI) [highest = 1] (-)      2002.0   \n",
       "\n",
       "       1998-2002  Unnamed: 4  Unnamed: 5      2003-2007  Unnamed: 7  \\\n",
       "0       17086.91         NaN      2007.0      20464.923         NaN   \n",
       "1       4893.013         NaN      2007.0       6151.869         NaN   \n",
       "2  34.6180957633         NaN      2007.0  41.5104861686         NaN   \n",
       "3     194.958382         NaN      2007.0     389.985586         NaN   \n",
       "4          0.378         NaN      2007.0          0.431         NaN   \n",
       "\n",
       "   Unnamed: 8    2008-2012  Unnamed: 10  Unnamed: 11      2013-2017  \\\n",
       "0      2012.0    23280.663          NaN       2017.0      26558.609   \n",
       "1      2012.0     7416.295          NaN       2017.0       8971.472   \n",
       "2      2012.0  47.73056398          NaN       2017.0  55.5955534111   \n",
       "3      2012.0   694.885618          NaN       2017.0     605.557362   \n",
       "4      2012.0        0.479          NaN       2017.0          0.493   \n",
       "\n",
       "   Unnamed: 13  Unnamed: 14 2018-2022  Unnamed: 16  \n",
       "0          NaN          NaN       NaN          NaN  \n",
       "1          NaN          NaN       NaN          NaN  \n",
       "2          NaN          NaN       NaN          NaN  \n",
       "3          NaN          NaN       NaN          NaN  \n",
       "4          NaN          NaN       NaN          NaN  "
      ]
     },
     "execution_count": 3,
     "metadata": {},
     "output_type": "execute_result"
    }
   ],
   "source": [
    "aqua_se.head()"
   ]
  },
  {
   "cell_type": "code",
   "execution_count": 4,
   "metadata": {},
   "outputs": [
    {
     "data": {
      "text/html": [
       "<div>\n",
       "<style scoped>\n",
       "    .dataframe tbody tr th:only-of-type {\n",
       "        vertical-align: middle;\n",
       "    }\n",
       "\n",
       "    .dataframe tbody tr th {\n",
       "        vertical-align: top;\n",
       "    }\n",
       "\n",
       "    .dataframe thead th {\n",
       "        text-align: right;\n",
       "    }\n",
       "</style>\n",
       "<table border=\"1\" class=\"dataframe\">\n",
       "  <thead>\n",
       "    <tr style=\"text-align: right;\">\n",
       "      <th></th>\n",
       "      <th>DEMO_IND</th>\n",
       "      <th>Indicator</th>\n",
       "      <th>LOCATION</th>\n",
       "      <th>Country</th>\n",
       "      <th>TIME</th>\n",
       "      <th>Time</th>\n",
       "      <th>Value</th>\n",
       "      <th>Flag Codes</th>\n",
       "      <th>Flags</th>\n",
       "    </tr>\n",
       "  </thead>\n",
       "  <tbody>\n",
       "    <tr>\n",
       "      <th>0</th>\n",
       "      <td>SP_DYN_TFRT_IN</td>\n",
       "      <td>Fertility rate, total (births per woman)</td>\n",
       "      <td>AUS</td>\n",
       "      <td>Australia</td>\n",
       "      <td>2000</td>\n",
       "      <td>2000</td>\n",
       "      <td>1.8</td>\n",
       "      <td>NaN</td>\n",
       "      <td>NaN</td>\n",
       "    </tr>\n",
       "    <tr>\n",
       "      <th>1</th>\n",
       "      <td>SP_DYN_TFRT_IN</td>\n",
       "      <td>Fertility rate, total (births per woman)</td>\n",
       "      <td>AUS</td>\n",
       "      <td>Australia</td>\n",
       "      <td>2001</td>\n",
       "      <td>2001</td>\n",
       "      <td>1.7</td>\n",
       "      <td>NaN</td>\n",
       "      <td>NaN</td>\n",
       "    </tr>\n",
       "    <tr>\n",
       "      <th>2</th>\n",
       "      <td>SP_DYN_TFRT_IN</td>\n",
       "      <td>Fertility rate, total (births per woman)</td>\n",
       "      <td>AUS</td>\n",
       "      <td>Australia</td>\n",
       "      <td>2002</td>\n",
       "      <td>2002</td>\n",
       "      <td>1.8</td>\n",
       "      <td>NaN</td>\n",
       "      <td>NaN</td>\n",
       "    </tr>\n",
       "    <tr>\n",
       "      <th>3</th>\n",
       "      <td>SP_DYN_TFRT_IN</td>\n",
       "      <td>Fertility rate, total (births per woman)</td>\n",
       "      <td>AUS</td>\n",
       "      <td>Australia</td>\n",
       "      <td>2003</td>\n",
       "      <td>2003</td>\n",
       "      <td>1.7</td>\n",
       "      <td>NaN</td>\n",
       "      <td>NaN</td>\n",
       "    </tr>\n",
       "    <tr>\n",
       "      <th>4</th>\n",
       "      <td>SP_DYN_TFRT_IN</td>\n",
       "      <td>Fertility rate, total (births per woman)</td>\n",
       "      <td>AUS</td>\n",
       "      <td>Australia</td>\n",
       "      <td>2004</td>\n",
       "      <td>2004</td>\n",
       "      <td>1.8</td>\n",
       "      <td>NaN</td>\n",
       "      <td>NaN</td>\n",
       "    </tr>\n",
       "  </tbody>\n",
       "</table>\n",
       "</div>"
      ],
      "text/plain": [
       "         DEMO_IND                                 Indicator LOCATION  \\\n",
       "0  SP_DYN_TFRT_IN  Fertility rate, total (births per woman)      AUS   \n",
       "1  SP_DYN_TFRT_IN  Fertility rate, total (births per woman)      AUS   \n",
       "2  SP_DYN_TFRT_IN  Fertility rate, total (births per woman)      AUS   \n",
       "3  SP_DYN_TFRT_IN  Fertility rate, total (births per woman)      AUS   \n",
       "4  SP_DYN_TFRT_IN  Fertility rate, total (births per woman)      AUS   \n",
       "\n",
       "     Country  TIME  Time  Value Flag Codes Flags  \n",
       "0  Australia  2000  2000    1.8        NaN   NaN  \n",
       "1  Australia  2001  2001    1.7        NaN   NaN  \n",
       "2  Australia  2002  2002    1.8        NaN   NaN  \n",
       "3  Australia  2003  2003    1.7        NaN   NaN  \n",
       "4  Australia  2004  2004    1.8        NaN   NaN  "
      ]
     },
     "execution_count": 4,
     "metadata": {},
     "output_type": "execute_result"
    }
   ],
   "source": [
    "unicef_se.head()"
   ]
  },
  {
   "cell_type": "markdown",
   "metadata": {},
   "source": [
    "**1. remove unnecessary columns and rows**\n",
    "\n"
   ]
  },
  {
   "cell_type": "code",
   "execution_count": 5,
   "metadata": {},
   "outputs": [],
   "source": [
    "aqua_se = aqua_se.rename(columns={'Unnamed: 0' : 'country', 'Unnamed: 1' : 'variable'})# rename columns for clarity\n",
    "cols = [c for c in aqua_se.columns if c.lower()[:7] != 'unnamed']\n",
    "aqua_se = aqua_se[cols] # remove columns starting with 'unnamed'\n",
    "aqua_se = aqua_se.dropna(subset=['country']) # remove rows that don't contain a country\n",
    "aqua_se = aqua_se.drop(['2018-2022'], axis=1) # remove empty column\n"
   ]
  },
  {
   "cell_type": "code",
   "execution_count": 38,
   "metadata": {},
   "outputs": [],
   "source": [
    "cols_to_keep = ['Indicator','Country','Time','Value']\n",
    "unicef_se = unicef_se[cols_to_keep] # keep useful columns\n"
   ]
  },
  {
   "cell_type": "markdown",
   "metadata": {},
   "source": [
    "**2. check for missing values**"
   ]
  },
  {
   "cell_type": "code",
   "execution_count": 39,
   "metadata": {},
   "outputs": [
    {
     "data": {
      "text/plain": [
       "country        0\n",
       "variable       7\n",
       "1998-2002    243\n",
       "2003-2007    153\n",
       "2008-2012    126\n",
       "2013-2017    108\n",
       "dtype: int64"
      ]
     },
     "execution_count": 39,
     "metadata": {},
     "output_type": "execute_result"
    }
   ],
   "source": [
    "aqua_se.isna().sum()# check for missing values by variable"
   ]
  },
  {
   "cell_type": "code",
   "execution_count": 40,
   "metadata": {},
   "outputs": [],
   "source": [
    "# check for missing per specific variable\n",
    "missing_per_variable = aqua_se.groupby(['variable']).apply(lambda x: x.isnull().sum()).sum(axis=1).sort_values()\n",
    "# remove variables GII, total water withdrawal per capita because more than half are missing\n",
    "aqua_se = aqua_se[~aqua_se.isin([\"Total water withdrawal per capita (m<sup>3</sup>/year per inhabitant)\",\n",
    "                                'Gender Inequality Index (GII) [equality = 0; inequality = 1) (-)']).any(axis=1)]\n"
   ]
  },
  {
   "cell_type": "code",
   "execution_count": 41,
   "metadata": {},
   "outputs": [
    {
     "data": {
      "text/plain": [
       "country\n",
       "Afghanistan       0\n",
       "Morocco           0\n",
       "Mozambique        0\n",
       "Myanmar           0\n",
       "Namibia           0\n",
       "                 ..\n",
       "Sudan            16\n",
       "San Marino       16\n",
       "South Sudan      16\n",
       "Faroe Islands    20\n",
       "Holy See         24\n",
       "Length: 200, dtype: int64"
      ]
     },
     "execution_count": 41,
     "metadata": {},
     "output_type": "execute_result"
    }
   ],
   "source": [
    "aqua_se = aqua_se.dropna(subset=['variable'], axis=0)# drop de empty variable rows\n",
    "# check if for missing values by country\n",
    "missing_per_country = aqua_se.groupby(['country']).apply(lambda x: x.isnull().sum()).sum(axis=1).sort_values()\n",
    "missing_per_country\n"
   ]
  },
  {
   "cell_type": "code",
   "execution_count": 42,
   "metadata": {},
   "outputs": [
    {
     "data": {
      "text/plain": [
       "Indicator      0\n",
       "Country        0\n",
       "Time           0\n",
       "Value        642\n",
       "dtype: int64"
      ]
     },
     "execution_count": 42,
     "metadata": {},
     "output_type": "execute_result"
    }
   ],
   "source": [
    "unicef_se.isna().sum() # check per variable"
   ]
  },
  {
   "cell_type": "code",
   "execution_count": 43,
   "metadata": {},
   "outputs": [],
   "source": [
    "# check for missing per indicator\n",
    "missing_per_variable_unicef = unicef_se.groupby(['Indicator']).apply(lambda x: x.isnull().sum()).sum(axis=1).sort_values()\n",
    "remove_variables_unicef = missing_per_variable_unicef[missing_per_variable_unicef > 60].index\n",
    "unicef_se = unicef_se[~unicef_se.isin(remove_variables_unicef).any(axis=1)]\n"
   ]
  },
  {
   "cell_type": "code",
   "execution_count": 44,
   "metadata": {},
   "outputs": [
    {
     "data": {
      "text/plain": [
       "Country\n",
       "Afghanistan     0\n",
       "Malawi          0\n",
       "Malaysia        0\n",
       "Maldives        0\n",
       "Mali            0\n",
       "               ..\n",
       "Guyana          4\n",
       "Japan           4\n",
       "Timor-Leste     5\n",
       "Tokelau        11\n",
       "Holy See       21\n",
       "Length: 233, dtype: int64"
      ]
     },
     "execution_count": 44,
     "metadata": {},
     "output_type": "execute_result"
    }
   ],
   "source": [
    "missing_unicef = unicef_se.groupby(['Country']).apply(lambda x: x.isnull().sum()).sum(axis=1).sort_values() # check per country\n",
    "missing_unicef"
   ]
  },
  {
   "cell_type": "markdown",
   "metadata": {},
   "source": [
    "**3. check for duplicates**"
   ]
  },
  {
   "cell_type": "code",
   "execution_count": 45,
   "metadata": {},
   "outputs": [
    {
     "name": "stdout",
     "output_type": "stream",
     "text": [
      "True\n"
     ]
    }
   ],
   "source": [
    "print((unicef_se['Country'].nunique()==233))"
   ]
  },
  {
   "cell_type": "markdown",
   "metadata": {},
   "source": [
    "### change the country codes"
   ]
  },
  {
   "cell_type": "code",
   "execution_count": 46,
   "metadata": {},
   "outputs": [
    {
     "name": "stderr",
     "output_type": "stream",
     "text": [
      "Grenade not found in regex\n",
      "Grenade not found in regex\n",
      "Grenade not found in regex\n",
      "Grenade not found in regex\n",
      "Grenade not found in regex\n",
      "Grenade not found in regex\n",
      "Grenade not found in regex\n",
      "Grenade not found in regex\n",
      "C:\\Users\\Harol\\anaconda3\\lib\\site-packages\\ipykernel_launcher.py:10: SettingWithCopyWarning: \n",
      "A value is trying to be set on a copy of a slice from a DataFrame.\n",
      "Try using .loc[row_indexer,col_indexer] = value instead\n",
      "\n",
      "See the caveats in the documentation: https://pandas.pydata.org/pandas-docs/stable/user_guide/indexing.html#returning-a-view-versus-a-copy\n",
      "  # Remove the CWD from sys.path while we load stuff.\n",
      "Channel Islands not found in regex\n",
      "Channel Islands not found in regex\n",
      "Channel Islands not found in regex\n",
      "Channel Islands not found in regex\n",
      "Channel Islands not found in regex\n",
      "Channel Islands not found in regex\n",
      "Channel Islands not found in regex\n",
      "Channel Islands not found in regex\n",
      "Channel Islands not found in regex\n",
      "Channel Islands not found in regex\n",
      "Channel Islands not found in regex\n",
      "Channel Islands not found in regex\n",
      "Channel Islands not found in regex\n",
      "Channel Islands not found in regex\n",
      "Channel Islands not found in regex\n",
      "Channel Islands not found in regex\n",
      "Channel Islands not found in regex\n",
      "Channel Islands not found in regex\n",
      "Channel Islands not found in regex\n",
      "Channel Islands not found in regex\n",
      "Channel Islands not found in regex\n",
      "Channel Islands not found in regex\n",
      "Channel Islands not found in regex\n",
      "Channel Islands not found in regex\n",
      "Channel Islands not found in regex\n",
      "Channel Islands not found in regex\n",
      "Channel Islands not found in regex\n",
      "Channel Islands not found in regex\n",
      "Channel Islands not found in regex\n",
      "Channel Islands not found in regex\n",
      "Channel Islands not found in regex\n",
      "Channel Islands not found in regex\n",
      "Channel Islands not found in regex\n",
      "Channel Islands not found in regex\n",
      "Channel Islands not found in regex\n",
      "Channel Islands not found in regex\n",
      "Channel Islands not found in regex\n",
      "Channel Islands not found in regex\n",
      "Channel Islands not found in regex\n",
      "Channel Islands not found in regex\n",
      "Channel Islands not found in regex\n",
      "Channel Islands not found in regex\n",
      "Channel Islands not found in regex\n",
      "Channel Islands not found in regex\n",
      "Channel Islands not found in regex\n",
      "Channel Islands not found in regex\n",
      "Channel Islands not found in regex\n",
      "Channel Islands not found in regex\n",
      "Channel Islands not found in regex\n",
      "Channel Islands not found in regex\n",
      "Channel Islands not found in regex\n",
      "Channel Islands not found in regex\n",
      "Channel Islands not found in regex\n",
      "Channel Islands not found in regex\n",
      "Channel Islands not found in regex\n",
      "Channel Islands not found in regex\n",
      "Channel Islands not found in regex\n",
      "Channel Islands not found in regex\n",
      "Channel Islands not found in regex\n",
      "Channel Islands not found in regex\n",
      "Channel Islands not found in regex\n",
      "Channel Islands not found in regex\n",
      "Channel Islands not found in regex\n",
      "Channel Islands not found in regex\n",
      "Channel Islands not found in regex\n",
      "Channel Islands not found in regex\n",
      "Channel Islands not found in regex\n",
      "Channel Islands not found in regex\n",
      "Channel Islands not found in regex\n",
      "Channel Islands not found in regex\n",
      "Channel Islands not found in regex\n",
      "Channel Islands not found in regex\n",
      "Channel Islands not found in regex\n",
      "Channel Islands not found in regex\n",
      "Channel Islands not found in regex\n",
      "Channel Islands not found in regex\n",
      "Channel Islands not found in regex\n",
      "Channel Islands not found in regex\n",
      "Channel Islands not found in regex\n",
      "Channel Islands not found in regex\n",
      "Channel Islands not found in regex\n",
      "Channel Islands not found in regex\n",
      "Channel Islands not found in regex\n",
      "Channel Islands not found in regex\n",
      "Channel Islands not found in regex\n",
      "Channel Islands not found in regex\n",
      "Channel Islands not found in regex\n",
      "Channel Islands not found in regex\n",
      "Channel Islands not found in regex\n",
      "Channel Islands not found in regex\n",
      "Channel Islands not found in regex\n",
      "Channel Islands not found in regex\n",
      "Channel Islands not found in regex\n",
      "Channel Islands not found in regex\n",
      "Channel Islands not found in regex\n",
      "Channel Islands not found in regex\n",
      "Channel Islands not found in regex\n",
      "Channel Islands not found in regex\n",
      "Channel Islands not found in regex\n",
      "Channel Islands not found in regex\n",
      "Channel Islands not found in regex\n",
      "Channel Islands not found in regex\n",
      "Channel Islands not found in regex\n",
      "Channel Islands not found in regex\n",
      "Channel Islands not found in regex\n",
      "Channel Islands not found in regex\n",
      "Channel Islands not found in regex\n",
      "Channel Islands not found in regex\n",
      "Channel Islands not found in regex\n",
      "Channel Islands not found in regex\n",
      "Channel Islands not found in regex\n",
      "Channel Islands not found in regex\n",
      "Channel Islands not found in regex\n",
      "Channel Islands not found in regex\n",
      "Channel Islands not found in regex\n",
      "Channel Islands not found in regex\n",
      "Channel Islands not found in regex\n",
      "Channel Islands not found in regex\n",
      "Channel Islands not found in regex\n",
      "Channel Islands not found in regex\n",
      "Channel Islands not found in regex\n",
      "Channel Islands not found in regex\n",
      "Channel Islands not found in regex\n",
      "Channel Islands not found in regex\n",
      "Channel Islands not found in regex\n",
      "Channel Islands not found in regex\n",
      "Channel Islands not found in regex\n",
      "Channel Islands not found in regex\n",
      "Channel Islands not found in regex\n",
      "Channel Islands not found in regex\n",
      "Channel Islands not found in regex\n",
      "Channel Islands not found in regex\n",
      "Channel Islands not found in regex\n",
      "Channel Islands not found in regex\n",
      "Channel Islands not found in regex\n",
      "Channel Islands not found in regex\n",
      "Channel Islands not found in regex\n",
      "Channel Islands not found in regex\n",
      "Channel Islands not found in regex\n",
      "Channel Islands not found in regex\n",
      "Channel Islands not found in regex\n",
      "Channel Islands not found in regex\n",
      "Channel Islands not found in regex\n",
      "Channel Islands not found in regex\n",
      "Channel Islands not found in regex\n",
      "Channel Islands not found in regex\n",
      "Channel Islands not found in regex\n",
      "Channel Islands not found in regex\n",
      "Channel Islands not found in regex\n",
      "Channel Islands not found in regex\n",
      "Channel Islands not found in regex\n",
      "Channel Islands not found in regex\n",
      "Channel Islands not found in regex\n",
      "Channel Islands not found in regex\n",
      "Channel Islands not found in regex\n",
      "Channel Islands not found in regex\n",
      "Channel Islands not found in regex\n",
      "Channel Islands not found in regex\n",
      "Channel Islands not found in regex\n",
      "Channel Islands not found in regex\n",
      "Channel Islands not found in regex\n",
      "Channel Islands not found in regex\n",
      "Channel Islands not found in regex\n",
      "Channel Islands not found in regex\n",
      "Channel Islands not found in regex\n",
      "Channel Islands not found in regex\n",
      "Channel Islands not found in regex\n",
      "Channel Islands not found in regex\n",
      "Channel Islands not found in regex\n",
      "Channel Islands not found in regex\n",
      "Channel Islands not found in regex\n",
      "Channel Islands not found in regex\n",
      "Channel Islands not found in regex\n",
      "Channel Islands not found in regex\n",
      "Channel Islands not found in regex\n",
      "Channel Islands not found in regex\n",
      "Channel Islands not found in regex\n",
      "Channel Islands not found in regex\n",
      "Channel Islands not found in regex\n",
      "Channel Islands not found in regex\n",
      "Channel Islands not found in regex\n",
      "Channel Islands not found in regex\n",
      "Channel Islands not found in regex\n",
      "Channel Islands not found in regex\n",
      "Channel Islands not found in regex\n",
      "Channel Islands not found in regex\n",
      "Channel Islands not found in regex\n",
      "Channel Islands not found in regex\n",
      "C:\\Users\\Harol\\anaconda3\\lib\\site-packages\\ipykernel_launcher.py:13: SettingWithCopyWarning: \n",
      "A value is trying to be set on a copy of a slice from a DataFrame.\n",
      "Try using .loc[row_indexer,col_indexer] = value instead\n",
      "\n",
      "See the caveats in the documentation: https://pandas.pydata.org/pandas-docs/stable/user_guide/indexing.html#returning-a-view-versus-a-copy\n",
      "  del sys.path[0]\n"
     ]
    }
   ],
   "source": [
    "# first keep only useful countries\n",
    "clean_countries = missing_per_country[missing_per_country==0].index # keep countries with less than X missing values\n",
    "aqua_clean = aqua_se[aqua_se['country'].isin(clean_countries)] # create a clean dataset, 169 countries\n",
    "\n",
    "\n",
    "clean_countries_unicef = missing_unicef[missing_unicef==0].index # 197 countries\n",
    "unicef_clean = unicef_se[unicef_se['Country'].isin(clean_countries_unicef)]\n",
    "\n",
    "# change codes and remove the unfound ones \n",
    "aqua_clean['country'] = coco.convert(names=aqua_clean['country'], to='ISO3', not_found='XXX') # name Grenade to XXX\n",
    "aqua_clean = aqua_clean[~aqua_clean.isin(['XXX']).any(axis=1)] # remove Grenade\n",
    "\n",
    "unicef_clean['Country'] = coco.convert(names=unicef_clean['Country'], to='ISO3', not_found='XXX') # name channel Islands to XXX\n",
    "unicef_clean = unicef_clean[~unicef_clean['Country'].isin(['XXX'])] # remove channel islands\n"
   ]
  },
  {
   "cell_type": "markdown",
   "metadata": {},
   "source": [
    "**keep all matching countries**"
   ]
  },
  {
   "cell_type": "code",
   "execution_count": 51,
   "metadata": {},
   "outputs": [],
   "source": [
    "uni_countries = unicef_clean['Country'].unique() # unique countries in unicef data\n",
    "aqua_clean = aqua_clean[aqua_clean['country'].isin(uni_countries)] # 140 countries left\n",
    "unicef_clean = unicef_clean[unicef_clean['Country'].isin(aqua_clean['country'].unique())]"
   ]
  },
  {
   "cell_type": "markdown",
   "metadata": {},
   "source": [
    "**4. explort cleaned datasets to the clean data folder**"
   ]
  },
  {
   "cell_type": "code",
   "execution_count": 55,
   "metadata": {},
   "outputs": [],
   "source": [
    "aqua_clean.to_csv('clean data/aqua_socec_clean.csv') # export to clean data folder\n",
    "unicef_clean.to_csv('clean data/unicef_socec_clean.csv')\n",
    "countries_df = pd.DataFrame(unicef_clean['Country'].unique())\n",
    "countries_df.to_csv('countries_available_socio.csv')"
   ]
  },
  {
   "cell_type": "code",
   "execution_count": null,
   "metadata": {},
   "outputs": [],
   "source": []
  }
 ],
 "metadata": {
  "kernelspec": {
   "display_name": "Python 3",
   "language": "python",
   "name": "python3"
  },
  "language_info": {
   "codemirror_mode": {
    "name": "ipython",
    "version": 3
   },
   "file_extension": ".py",
   "mimetype": "text/x-python",
   "name": "python",
   "nbconvert_exporter": "python",
   "pygments_lexer": "ipython3",
   "version": "3.7.6"
  }
 },
 "nbformat": 4,
 "nbformat_minor": 4
}
