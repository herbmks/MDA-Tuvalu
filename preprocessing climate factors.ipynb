{
 "cells": [
  {
   "cell_type": "markdown",
   "id": "9dd7ef60",
   "metadata": {},
   "source": [
    "# Import climate factors"
   ]
  },
  {
   "cell_type": "markdown",
   "id": "3ef0c05b",
   "metadata": {},
   "source": [
    "## Load Modules"
   ]
  },
  {
   "cell_type": "code",
   "execution_count": 1,
   "id": "32d842a8",
   "metadata": {
    "ExecuteTime": {
     "end_time": "2021-04-21T08:49:46.710676Z",
     "start_time": "2021-04-21T08:49:46.303165Z"
    }
   },
   "outputs": [],
   "source": [
    "import pandas as pd\n",
    "import numpy as np\n",
    "import re\n",
    "import country_converter as coco"
   ]
  },
  {
   "cell_type": "markdown",
   "id": "80ddcf1e",
   "metadata": {},
   "source": [
    "## Rainfall"
   ]
  },
  {
   "cell_type": "markdown",
   "id": "037f0265",
   "metadata": {},
   "source": [
    "#### Load database"
   ]
  },
  {
   "cell_type": "code",
   "execution_count": 2,
   "id": "cdc49066",
   "metadata": {
    "ExecuteTime": {
     "end_time": "2021-04-21T08:49:46.774122Z",
     "start_time": "2021-04-21T08:49:46.712677Z"
    }
   },
   "outputs": [
    {
     "data": {
      "text/html": [
       "<div>\n",
       "<style scoped>\n",
       "    .dataframe tbody tr th:only-of-type {\n",
       "        vertical-align: middle;\n",
       "    }\n",
       "\n",
       "    .dataframe tbody tr th {\n",
       "        vertical-align: top;\n",
       "    }\n",
       "\n",
       "    .dataframe thead th {\n",
       "        text-align: right;\n",
       "    }\n",
       "</style>\n",
       "<table border=\"1\" class=\"dataframe\">\n",
       "  <thead>\n",
       "    <tr style=\"text-align: right;\">\n",
       "      <th></th>\n",
       "      <th>Total Rainfall (mm)</th>\n",
       "      <th>Year</th>\n",
       "      <th>Statistics</th>\n",
       "      <th>Country</th>\n",
       "    </tr>\n",
       "  </thead>\n",
       "  <tbody>\n",
       "    <tr>\n",
       "      <th>0</th>\n",
       "      <td>64.77650</td>\n",
       "      <td>1991</td>\n",
       "      <td>Jan Average</td>\n",
       "      <td>Afghanistan</td>\n",
       "    </tr>\n",
       "    <tr>\n",
       "      <th>1</th>\n",
       "      <td>59.40250</td>\n",
       "      <td>1991</td>\n",
       "      <td>Feb Average</td>\n",
       "      <td>Afghanistan</td>\n",
       "    </tr>\n",
       "    <tr>\n",
       "      <th>2</th>\n",
       "      <td>119.62500</td>\n",
       "      <td>1991</td>\n",
       "      <td>Mar Average</td>\n",
       "      <td>Afghanistan</td>\n",
       "    </tr>\n",
       "    <tr>\n",
       "      <th>3</th>\n",
       "      <td>51.80250</td>\n",
       "      <td>1991</td>\n",
       "      <td>Apr Average</td>\n",
       "      <td>Afghanistan</td>\n",
       "    </tr>\n",
       "    <tr>\n",
       "      <th>4</th>\n",
       "      <td>57.24380</td>\n",
       "      <td>1991</td>\n",
       "      <td>May Average</td>\n",
       "      <td>Afghanistan</td>\n",
       "    </tr>\n",
       "    <tr>\n",
       "      <th>5</th>\n",
       "      <td>5.58788</td>\n",
       "      <td>1991</td>\n",
       "      <td>Jun Average</td>\n",
       "      <td>Afghanistan</td>\n",
       "    </tr>\n",
       "    <tr>\n",
       "      <th>6</th>\n",
       "      <td>4.39142</td>\n",
       "      <td>1991</td>\n",
       "      <td>Jul Average</td>\n",
       "      <td>Afghanistan</td>\n",
       "    </tr>\n",
       "    <tr>\n",
       "      <th>7</th>\n",
       "      <td>4.66582</td>\n",
       "      <td>1991</td>\n",
       "      <td>Aug Average</td>\n",
       "      <td>Afghanistan</td>\n",
       "    </tr>\n",
       "    <tr>\n",
       "      <th>8</th>\n",
       "      <td>12.63480</td>\n",
       "      <td>1991</td>\n",
       "      <td>Sep Average</td>\n",
       "      <td>Afghanistan</td>\n",
       "    </tr>\n",
       "    <tr>\n",
       "      <th>9</th>\n",
       "      <td>4.09568</td>\n",
       "      <td>1991</td>\n",
       "      <td>Oct Average</td>\n",
       "      <td>Afghanistan</td>\n",
       "    </tr>\n",
       "    <tr>\n",
       "      <th>10</th>\n",
       "      <td>12.66710</td>\n",
       "      <td>1991</td>\n",
       "      <td>Nov Average</td>\n",
       "      <td>Afghanistan</td>\n",
       "    </tr>\n",
       "    <tr>\n",
       "      <th>11</th>\n",
       "      <td>38.55690</td>\n",
       "      <td>1991</td>\n",
       "      <td>Dec Average</td>\n",
       "      <td>Afghanistan</td>\n",
       "    </tr>\n",
       "  </tbody>\n",
       "</table>\n",
       "</div>"
      ],
      "text/plain": [
       "    Total Rainfall (mm)  Year   Statistics      Country\n",
       "0              64.77650  1991  Jan Average  Afghanistan\n",
       "1              59.40250  1991  Feb Average  Afghanistan\n",
       "2             119.62500  1991  Mar Average  Afghanistan\n",
       "3              51.80250  1991  Apr Average  Afghanistan\n",
       "4              57.24380  1991  May Average  Afghanistan\n",
       "5               5.58788  1991  Jun Average  Afghanistan\n",
       "6               4.39142  1991  Jul Average  Afghanistan\n",
       "7               4.66582  1991  Aug Average  Afghanistan\n",
       "8              12.63480  1991  Sep Average  Afghanistan\n",
       "9               4.09568  1991  Oct Average  Afghanistan\n",
       "10             12.66710  1991  Nov Average  Afghanistan\n",
       "11             38.55690  1991  Dec Average  Afghanistan"
      ]
     },
     "execution_count": 2,
     "metadata": {},
     "output_type": "execute_result"
    }
   ],
   "source": [
    "rainfall = pd.read_csv('raw data/WORLDBANK_rainfall.csv',skipinitialspace=True).rename(columns={'Rainfall - (MM)':'Total Rainfall (mm)'})\n",
    "rainfall.head(12)"
   ]
  },
  {
   "cell_type": "markdown",
   "id": "01f48511",
   "metadata": {},
   "source": [
    "#### Set universal country codes"
   ]
  },
  {
   "cell_type": "code",
   "execution_count": 3,
   "id": "60746283",
   "metadata": {
    "ExecuteTime": {
     "end_time": "2021-04-21T08:50:25.271828Z",
     "start_time": "2021-04-21T08:49:46.775123Z"
    }
   },
   "outputs": [
    {
     "data": {
      "text/html": [
       "<div>\n",
       "<style scoped>\n",
       "    .dataframe tbody tr th:only-of-type {\n",
       "        vertical-align: middle;\n",
       "    }\n",
       "\n",
       "    .dataframe tbody tr th {\n",
       "        vertical-align: top;\n",
       "    }\n",
       "\n",
       "    .dataframe thead th {\n",
       "        text-align: right;\n",
       "    }\n",
       "</style>\n",
       "<table border=\"1\" class=\"dataframe\">\n",
       "  <thead>\n",
       "    <tr style=\"text-align: right;\">\n",
       "      <th></th>\n",
       "      <th>Total Rainfall (mm)</th>\n",
       "      <th>Year</th>\n",
       "      <th>Statistics</th>\n",
       "      <th>Country</th>\n",
       "    </tr>\n",
       "  </thead>\n",
       "  <tbody>\n",
       "    <tr>\n",
       "      <th>0</th>\n",
       "      <td>64.7765</td>\n",
       "      <td>1991</td>\n",
       "      <td>Jan Average</td>\n",
       "      <td>AFG</td>\n",
       "    </tr>\n",
       "    <tr>\n",
       "      <th>1</th>\n",
       "      <td>59.4025</td>\n",
       "      <td>1991</td>\n",
       "      <td>Feb Average</td>\n",
       "      <td>AFG</td>\n",
       "    </tr>\n",
       "    <tr>\n",
       "      <th>2</th>\n",
       "      <td>119.6250</td>\n",
       "      <td>1991</td>\n",
       "      <td>Mar Average</td>\n",
       "      <td>AFG</td>\n",
       "    </tr>\n",
       "    <tr>\n",
       "      <th>3</th>\n",
       "      <td>51.8025</td>\n",
       "      <td>1991</td>\n",
       "      <td>Apr Average</td>\n",
       "      <td>AFG</td>\n",
       "    </tr>\n",
       "    <tr>\n",
       "      <th>4</th>\n",
       "      <td>57.2438</td>\n",
       "      <td>1991</td>\n",
       "      <td>May Average</td>\n",
       "      <td>AFG</td>\n",
       "    </tr>\n",
       "  </tbody>\n",
       "</table>\n",
       "</div>"
      ],
      "text/plain": [
       "   Total Rainfall (mm)  Year   Statistics Country\n",
       "0              64.7765  1991  Jan Average     AFG\n",
       "1              59.4025  1991  Feb Average     AFG\n",
       "2             119.6250  1991  Mar Average     AFG\n",
       "3              51.8025  1991  Apr Average     AFG\n",
       "4              57.2438  1991  May Average     AFG"
      ]
     },
     "execution_count": 3,
     "metadata": {},
     "output_type": "execute_result"
    }
   ],
   "source": [
    "rainfall.replace(to_replace = 'Congo (Republic of the)', value = 'Congo', inplace = True)\n",
    "rainfall['Country'] = coco.convert(names=rainfall['Country'], to='ISO3')\n",
    "rainfall.head()"
   ]
  },
  {
   "cell_type": "markdown",
   "id": "2277c25c",
   "metadata": {},
   "source": [
    "#### Monthly rainfall"
   ]
  },
  {
   "cell_type": "code",
   "execution_count": 4,
   "id": "b63d3f51",
   "metadata": {
    "ExecuteTime": {
     "end_time": "2021-04-21T08:53:51.276033Z",
     "start_time": "2021-04-21T08:53:51.223021Z"
    }
   },
   "outputs": [
    {
     "data": {
      "text/html": [
       "<div>\n",
       "<style scoped>\n",
       "    .dataframe tbody tr th:only-of-type {\n",
       "        vertical-align: middle;\n",
       "    }\n",
       "\n",
       "    .dataframe tbody tr th {\n",
       "        vertical-align: top;\n",
       "    }\n",
       "\n",
       "    .dataframe thead th {\n",
       "        text-align: right;\n",
       "    }\n",
       "</style>\n",
       "<table border=\"1\" class=\"dataframe\">\n",
       "  <thead>\n",
       "    <tr style=\"text-align: right;\">\n",
       "      <th></th>\n",
       "      <th></th>\n",
       "      <th></th>\n",
       "      <th>Total Rainfall (mm)</th>\n",
       "    </tr>\n",
       "    <tr>\n",
       "      <th>Country</th>\n",
       "      <th>Year</th>\n",
       "      <th>Month</th>\n",
       "      <th></th>\n",
       "    </tr>\n",
       "  </thead>\n",
       "  <tbody>\n",
       "    <tr>\n",
       "      <th rowspan=\"5\" valign=\"top\">AFG</th>\n",
       "      <th rowspan=\"5\" valign=\"top\">1991</th>\n",
       "      <th>Jan</th>\n",
       "      <td>64.7765</td>\n",
       "    </tr>\n",
       "    <tr>\n",
       "      <th>Feb</th>\n",
       "      <td>59.4025</td>\n",
       "    </tr>\n",
       "    <tr>\n",
       "      <th>Mar</th>\n",
       "      <td>119.6250</td>\n",
       "    </tr>\n",
       "    <tr>\n",
       "      <th>Apr</th>\n",
       "      <td>51.8025</td>\n",
       "    </tr>\n",
       "    <tr>\n",
       "      <th>May</th>\n",
       "      <td>57.2438</td>\n",
       "    </tr>\n",
       "  </tbody>\n",
       "</table>\n",
       "</div>"
      ],
      "text/plain": [
       "                    Total Rainfall (mm)\n",
       "Country Year Month                     \n",
       "AFG     1991 Jan                64.7765\n",
       "             Feb                59.4025\n",
       "             Mar               119.6250\n",
       "             Apr                51.8025\n",
       "             May                57.2438"
      ]
     },
     "execution_count": 4,
     "metadata": {},
     "output_type": "execute_result"
    }
   ],
   "source": [
    "monthly_rainfall = rainfall[['Country','Year','Statistics','Total Rainfall (mm)']]\n",
    "monthly_rainfall = monthly_rainfall.rename(columns={'Statistics':'Month'})\n",
    "monthly_rainfall['Month'] = monthly_rainfall['Month'].map(lambda x: x.split(' ')[0])\n",
    "monthly_rainfall.set_index(['Country','Year','Month'],inplace=True)\n",
    "monthly_rainfall.head()"
   ]
  },
  {
   "cell_type": "markdown",
   "id": "da3a709f",
   "metadata": {},
   "source": [
    "#### Annual rainfall"
   ]
  },
  {
   "cell_type": "code",
   "execution_count": 5,
   "id": "f51df501",
   "metadata": {
    "ExecuteTime": {
     "end_time": "2021-04-21T08:54:03.680098Z",
     "start_time": "2021-04-21T08:54:03.659094Z"
    },
    "scrolled": true
   },
   "outputs": [
    {
     "data": {
      "text/html": [
       "<div>\n",
       "<style scoped>\n",
       "    .dataframe tbody tr th:only-of-type {\n",
       "        vertical-align: middle;\n",
       "    }\n",
       "\n",
       "    .dataframe tbody tr th {\n",
       "        vertical-align: top;\n",
       "    }\n",
       "\n",
       "    .dataframe thead th {\n",
       "        text-align: right;\n",
       "    }\n",
       "</style>\n",
       "<table border=\"1\" class=\"dataframe\">\n",
       "  <thead>\n",
       "    <tr style=\"text-align: right;\">\n",
       "      <th></th>\n",
       "      <th></th>\n",
       "      <th>Total Rainfall (mm)</th>\n",
       "    </tr>\n",
       "    <tr>\n",
       "      <th>Country</th>\n",
       "      <th>Year</th>\n",
       "      <th></th>\n",
       "    </tr>\n",
       "  </thead>\n",
       "  <tbody>\n",
       "    <tr>\n",
       "      <th rowspan=\"5\" valign=\"top\">AFG</th>\n",
       "      <th>1991</th>\n",
       "      <td>435.44990</td>\n",
       "    </tr>\n",
       "    <tr>\n",
       "      <th>1992</th>\n",
       "      <td>408.15623</td>\n",
       "    </tr>\n",
       "    <tr>\n",
       "      <th>1993</th>\n",
       "      <td>317.08530</td>\n",
       "    </tr>\n",
       "    <tr>\n",
       "      <th>1994</th>\n",
       "      <td>342.22238</td>\n",
       "    </tr>\n",
       "    <tr>\n",
       "      <th>1995</th>\n",
       "      <td>300.89815</td>\n",
       "    </tr>\n",
       "  </tbody>\n",
       "</table>\n",
       "</div>"
      ],
      "text/plain": [
       "              Total Rainfall (mm)\n",
       "Country Year                     \n",
       "AFG     1991            435.44990\n",
       "        1992            408.15623\n",
       "        1993            317.08530\n",
       "        1994            342.22238\n",
       "        1995            300.89815"
      ]
     },
     "execution_count": 5,
     "metadata": {},
     "output_type": "execute_result"
    }
   ],
   "source": [
    "annual_rainfall = monthly_rainfall.groupby(['Country','Year']).sum()\n",
    "annual_rainfall.head()"
   ]
  },
  {
   "cell_type": "markdown",
   "id": "39eff874",
   "metadata": {},
   "source": [
    "#### Average annual rainfall last 25 years"
   ]
  },
  {
   "cell_type": "code",
   "execution_count": 6,
   "id": "49c05a97",
   "metadata": {
    "ExecuteTime": {
     "end_time": "2021-04-21T09:00:11.990282Z",
     "start_time": "2021-04-21T09:00:11.977278Z"
    }
   },
   "outputs": [
    {
     "data": {
      "text/html": [
       "<div>\n",
       "<style scoped>\n",
       "    .dataframe tbody tr th:only-of-type {\n",
       "        vertical-align: middle;\n",
       "    }\n",
       "\n",
       "    .dataframe tbody tr th {\n",
       "        vertical-align: top;\n",
       "    }\n",
       "\n",
       "    .dataframe thead th {\n",
       "        text-align: right;\n",
       "    }\n",
       "</style>\n",
       "<table border=\"1\" class=\"dataframe\">\n",
       "  <thead>\n",
       "    <tr style=\"text-align: right;\">\n",
       "      <th></th>\n",
       "      <th>Total Rainfall (mm)</th>\n",
       "      <th>Standard Deviation</th>\n",
       "    </tr>\n",
       "    <tr>\n",
       "      <th>Country</th>\n",
       "      <th></th>\n",
       "      <th></th>\n",
       "    </tr>\n",
       "  </thead>\n",
       "  <tbody>\n",
       "    <tr>\n",
       "      <th>AFG</th>\n",
       "      <td>322.119242</td>\n",
       "      <td>56.667164</td>\n",
       "    </tr>\n",
       "    <tr>\n",
       "      <th>AGO</th>\n",
       "      <td>966.806905</td>\n",
       "      <td>70.556696</td>\n",
       "    </tr>\n",
       "    <tr>\n",
       "      <th>ALB</th>\n",
       "      <td>992.182656</td>\n",
       "      <td>150.829612</td>\n",
       "    </tr>\n",
       "    <tr>\n",
       "      <th>AND</th>\n",
       "      <td>757.658275</td>\n",
       "      <td>127.729671</td>\n",
       "    </tr>\n",
       "    <tr>\n",
       "      <th>ARE</th>\n",
       "      <td>56.646966</td>\n",
       "      <td>30.300352</td>\n",
       "    </tr>\n",
       "  </tbody>\n",
       "</table>\n",
       "</div>"
      ],
      "text/plain": [
       "         Total Rainfall (mm)  Standard Deviation\n",
       "Country                                         \n",
       "AFG               322.119242           56.667164\n",
       "AGO               966.806905           70.556696\n",
       "ALB               992.182656          150.829612\n",
       "AND               757.658275          127.729671\n",
       "ARE                56.646966           30.300352"
      ]
     },
     "execution_count": 6,
     "metadata": {},
     "output_type": "execute_result"
    }
   ],
   "source": [
    "average_annual_rainfall = annual_rainfall.groupby(['Country']).mean()\n",
    "average_annual_rainfall[\"Standard Deviation\"] = annual_rainfall.groupby(\"Country\").std()\n",
    "average_annual_rainfall.head()"
   ]
  },
  {
   "cell_type": "markdown",
   "id": "2d78da04",
   "metadata": {},
   "source": [
    "## Temperature"
   ]
  },
  {
   "cell_type": "markdown",
   "id": "80407c5f",
   "metadata": {},
   "source": [
    "#### Load Database"
   ]
  },
  {
   "cell_type": "code",
   "execution_count": 7,
   "id": "cfecd2ca",
   "metadata": {
    "ExecuteTime": {
     "end_time": "2021-04-21T08:50:25.431864Z",
     "start_time": "2021-04-21T08:50:25.369850Z"
    }
   },
   "outputs": [
    {
     "data": {
      "text/html": [
       "<div>\n",
       "<style scoped>\n",
       "    .dataframe tbody tr th:only-of-type {\n",
       "        vertical-align: middle;\n",
       "    }\n",
       "\n",
       "    .dataframe tbody tr th {\n",
       "        vertical-align: top;\n",
       "    }\n",
       "\n",
       "    .dataframe thead th {\n",
       "        text-align: right;\n",
       "    }\n",
       "</style>\n",
       "<table border=\"1\" class=\"dataframe\">\n",
       "  <thead>\n",
       "    <tr style=\"text-align: right;\">\n",
       "      <th></th>\n",
       "      <th>Temperature (°C)</th>\n",
       "      <th>Year</th>\n",
       "      <th>Statistics</th>\n",
       "      <th>Country</th>\n",
       "    </tr>\n",
       "  </thead>\n",
       "  <tbody>\n",
       "    <tr>\n",
       "      <th>0</th>\n",
       "      <td>-0.03110</td>\n",
       "      <td>1991</td>\n",
       "      <td>Jan Average</td>\n",
       "      <td>Afghanistan</td>\n",
       "    </tr>\n",
       "    <tr>\n",
       "      <th>1</th>\n",
       "      <td>1.43654</td>\n",
       "      <td>1991</td>\n",
       "      <td>Feb Average</td>\n",
       "      <td>Afghanistan</td>\n",
       "    </tr>\n",
       "    <tr>\n",
       "      <th>2</th>\n",
       "      <td>6.88685</td>\n",
       "      <td>1991</td>\n",
       "      <td>Mar Average</td>\n",
       "      <td>Afghanistan</td>\n",
       "    </tr>\n",
       "    <tr>\n",
       "      <th>3</th>\n",
       "      <td>12.93970</td>\n",
       "      <td>1991</td>\n",
       "      <td>Apr Average</td>\n",
       "      <td>Afghanistan</td>\n",
       "    </tr>\n",
       "    <tr>\n",
       "      <th>4</th>\n",
       "      <td>17.07550</td>\n",
       "      <td>1991</td>\n",
       "      <td>May Average</td>\n",
       "      <td>Afghanistan</td>\n",
       "    </tr>\n",
       "  </tbody>\n",
       "</table>\n",
       "</div>"
      ],
      "text/plain": [
       "   Temperature (°C)  Year   Statistics      Country\n",
       "0          -0.03110  1991  Jan Average  Afghanistan\n",
       "1           1.43654  1991  Feb Average  Afghanistan\n",
       "2           6.88685  1991  Mar Average  Afghanistan\n",
       "3          12.93970  1991  Apr Average  Afghanistan\n",
       "4          17.07550  1991  May Average  Afghanistan"
      ]
     },
     "execution_count": 7,
     "metadata": {},
     "output_type": "execute_result"
    }
   ],
   "source": [
    "temperature=pd.read_csv('raw data/WORLDBANK_temperature.csv',skipinitialspace=True).rename(columns={'Temperature - (Celsius)':'Temperature (°C)'})\n",
    "temperature.head()"
   ]
  },
  {
   "cell_type": "markdown",
   "id": "d9ea4c8e",
   "metadata": {},
   "source": [
    "#### Set universal country codes"
   ]
  },
  {
   "cell_type": "code",
   "execution_count": 8,
   "id": "f00df713",
   "metadata": {
    "ExecuteTime": {
     "end_time": "2021-04-21T08:51:04.382136Z",
     "start_time": "2021-04-21T08:50:25.433865Z"
    }
   },
   "outputs": [
    {
     "data": {
      "text/html": [
       "<div>\n",
       "<style scoped>\n",
       "    .dataframe tbody tr th:only-of-type {\n",
       "        vertical-align: middle;\n",
       "    }\n",
       "\n",
       "    .dataframe tbody tr th {\n",
       "        vertical-align: top;\n",
       "    }\n",
       "\n",
       "    .dataframe thead th {\n",
       "        text-align: right;\n",
       "    }\n",
       "</style>\n",
       "<table border=\"1\" class=\"dataframe\">\n",
       "  <thead>\n",
       "    <tr style=\"text-align: right;\">\n",
       "      <th></th>\n",
       "      <th>Temperature (°C)</th>\n",
       "      <th>Year</th>\n",
       "      <th>Statistics</th>\n",
       "      <th>Country</th>\n",
       "    </tr>\n",
       "  </thead>\n",
       "  <tbody>\n",
       "    <tr>\n",
       "      <th>0</th>\n",
       "      <td>-0.03110</td>\n",
       "      <td>1991</td>\n",
       "      <td>Jan Average</td>\n",
       "      <td>AFG</td>\n",
       "    </tr>\n",
       "    <tr>\n",
       "      <th>1</th>\n",
       "      <td>1.43654</td>\n",
       "      <td>1991</td>\n",
       "      <td>Feb Average</td>\n",
       "      <td>AFG</td>\n",
       "    </tr>\n",
       "    <tr>\n",
       "      <th>2</th>\n",
       "      <td>6.88685</td>\n",
       "      <td>1991</td>\n",
       "      <td>Mar Average</td>\n",
       "      <td>AFG</td>\n",
       "    </tr>\n",
       "    <tr>\n",
       "      <th>3</th>\n",
       "      <td>12.93970</td>\n",
       "      <td>1991</td>\n",
       "      <td>Apr Average</td>\n",
       "      <td>AFG</td>\n",
       "    </tr>\n",
       "    <tr>\n",
       "      <th>4</th>\n",
       "      <td>17.07550</td>\n",
       "      <td>1991</td>\n",
       "      <td>May Average</td>\n",
       "      <td>AFG</td>\n",
       "    </tr>\n",
       "  </tbody>\n",
       "</table>\n",
       "</div>"
      ],
      "text/plain": [
       "   Temperature (°C)  Year   Statistics Country\n",
       "0          -0.03110  1991  Jan Average     AFG\n",
       "1           1.43654  1991  Feb Average     AFG\n",
       "2           6.88685  1991  Mar Average     AFG\n",
       "3          12.93970  1991  Apr Average     AFG\n",
       "4          17.07550  1991  May Average     AFG"
      ]
     },
     "execution_count": 8,
     "metadata": {},
     "output_type": "execute_result"
    }
   ],
   "source": [
    "temperature.replace(to_replace = 'Congo (Republic of the)', value = 'Congo', inplace = True)\n",
    "temperature['Country'] = coco.convert(names=temperature['Country'], to='ISO3')\n",
    "temperature.head()"
   ]
  },
  {
   "cell_type": "markdown",
   "id": "bb759aef",
   "metadata": {},
   "source": [
    "#### Monthly Temperature"
   ]
  },
  {
   "cell_type": "markdown",
   "id": "e95f265a",
   "metadata": {},
   "source": [
    "add weights based on days in a month"
   ]
  },
  {
   "cell_type": "code",
   "execution_count": 9,
   "id": "cab770d9",
   "metadata": {
    "ExecuteTime": {
     "end_time": "2021-04-21T08:57:38.427334Z",
     "start_time": "2021-04-21T08:57:38.371322Z"
    }
   },
   "outputs": [
    {
     "data": {
      "text/html": [
       "<div>\n",
       "<style scoped>\n",
       "    .dataframe tbody tr th:only-of-type {\n",
       "        vertical-align: middle;\n",
       "    }\n",
       "\n",
       "    .dataframe tbody tr th {\n",
       "        vertical-align: top;\n",
       "    }\n",
       "\n",
       "    .dataframe thead th {\n",
       "        text-align: right;\n",
       "    }\n",
       "</style>\n",
       "<table border=\"1\" class=\"dataframe\">\n",
       "  <thead>\n",
       "    <tr style=\"text-align: right;\">\n",
       "      <th></th>\n",
       "      <th></th>\n",
       "      <th></th>\n",
       "      <th>Temperature (°C)</th>\n",
       "      <th>Weight</th>\n",
       "    </tr>\n",
       "    <tr>\n",
       "      <th>Country</th>\n",
       "      <th>Year</th>\n",
       "      <th>Month</th>\n",
       "      <th></th>\n",
       "      <th></th>\n",
       "    </tr>\n",
       "  </thead>\n",
       "  <tbody>\n",
       "    <tr>\n",
       "      <th rowspan=\"5\" valign=\"top\">AFG</th>\n",
       "      <th rowspan=\"5\" valign=\"top\">1991</th>\n",
       "      <th>Jan</th>\n",
       "      <td>-0.03110</td>\n",
       "      <td>31</td>\n",
       "    </tr>\n",
       "    <tr>\n",
       "      <th>Feb</th>\n",
       "      <td>1.43654</td>\n",
       "      <td>28</td>\n",
       "    </tr>\n",
       "    <tr>\n",
       "      <th>Mar</th>\n",
       "      <td>6.88685</td>\n",
       "      <td>31</td>\n",
       "    </tr>\n",
       "    <tr>\n",
       "      <th>Apr</th>\n",
       "      <td>12.93970</td>\n",
       "      <td>30</td>\n",
       "    </tr>\n",
       "    <tr>\n",
       "      <th>May</th>\n",
       "      <td>17.07550</td>\n",
       "      <td>31</td>\n",
       "    </tr>\n",
       "  </tbody>\n",
       "</table>\n",
       "</div>"
      ],
      "text/plain": [
       "                    Temperature (°C)  Weight\n",
       "Country Year Month                          \n",
       "AFG     1991 Jan            -0.03110      31\n",
       "             Feb             1.43654      28\n",
       "             Mar             6.88685      31\n",
       "             Apr            12.93970      30\n",
       "             May            17.07550      31"
      ]
     },
     "execution_count": 9,
     "metadata": {},
     "output_type": "execute_result"
    }
   ],
   "source": [
    "monthly_temperature = temperature[['Country','Year','Statistics','Temperature (°C)']]\n",
    "monthly_temperature = monthly_temperature.rename(columns={'Statistics':'Month'})\n",
    "monthly_temperature['Month'] = monthly_temperature['Month'].map(lambda x: x.split(' ')[0])\n",
    "weights = {'Jan':31, 'Feb':28, 'Mar':31, 'Apr':30, 'May':31, 'Jun':30,'Jul':31, 'Aug':31, 'Sep':30, 'Oct':31, 'Nov':30, 'Dec':31}\n",
    "monthly_temperature['Weight'] = monthly_temperature['Month'].map(weights)\n",
    "monthly_temperature.set_index(['Country','Year','Month'],inplace=True)\n",
    "monthly_temperature.head()"
   ]
  },
  {
   "cell_type": "markdown",
   "id": "3d68f4d8",
   "metadata": {},
   "source": [
    "#### Average annual temperature"
   ]
  },
  {
   "cell_type": "code",
   "execution_count": 10,
   "id": "c7c1f259",
   "metadata": {
    "ExecuteTime": {
     "end_time": "2021-04-21T08:58:28.820289Z",
     "start_time": "2021-04-21T08:58:26.870792Z"
    }
   },
   "outputs": [
    {
     "data": {
      "text/html": [
       "<div>\n",
       "<style scoped>\n",
       "    .dataframe tbody tr th:only-of-type {\n",
       "        vertical-align: middle;\n",
       "    }\n",
       "\n",
       "    .dataframe tbody tr th {\n",
       "        vertical-align: top;\n",
       "    }\n",
       "\n",
       "    .dataframe thead th {\n",
       "        text-align: right;\n",
       "    }\n",
       "</style>\n",
       "<table border=\"1\" class=\"dataframe\">\n",
       "  <thead>\n",
       "    <tr style=\"text-align: right;\">\n",
       "      <th></th>\n",
       "      <th></th>\n",
       "      <th>Average Temperature (°C)</th>\n",
       "    </tr>\n",
       "    <tr>\n",
       "      <th>Country</th>\n",
       "      <th>Year</th>\n",
       "      <th></th>\n",
       "    </tr>\n",
       "  </thead>\n",
       "  <tbody>\n",
       "    <tr>\n",
       "      <th rowspan=\"5\" valign=\"top\">AFG</th>\n",
       "      <th>1991</th>\n",
       "      <td>12.958152</td>\n",
       "    </tr>\n",
       "    <tr>\n",
       "      <th>1992</th>\n",
       "      <td>12.598444</td>\n",
       "    </tr>\n",
       "    <tr>\n",
       "      <th>1993</th>\n",
       "      <td>13.016964</td>\n",
       "    </tr>\n",
       "    <tr>\n",
       "      <th>1994</th>\n",
       "      <td>13.150314</td>\n",
       "    </tr>\n",
       "    <tr>\n",
       "      <th>1995</th>\n",
       "      <td>13.095001</td>\n",
       "    </tr>\n",
       "  </tbody>\n",
       "</table>\n",
       "</div>"
      ],
      "text/plain": [
       "              Average Temperature (°C)\n",
       "Country Year                          \n",
       "AFG     1991                 12.958152\n",
       "        1992                 12.598444\n",
       "        1993                 13.016964\n",
       "        1994                 13.150314\n",
       "        1995                 13.095001"
      ]
     },
     "execution_count": 10,
     "metadata": {},
     "output_type": "execute_result"
    }
   ],
   "source": [
    "annual_temperature = monthly_temperature.groupby(['Country','Year']).apply(lambda x: (x['Temperature (°C)'] * x['Weight']).sum() / x['Weight'].sum())\n",
    "annual_temperature = pd.DataFrame(annual_temperature, columns = [\"Average Temperature (°C)\"])\n",
    "annual_temperature.head()"
   ]
  },
  {
   "cell_type": "markdown",
   "id": "a29d3410",
   "metadata": {},
   "source": [
    "#### Average annual temperature last 25 years"
   ]
  },
  {
   "cell_type": "code",
   "execution_count": 11,
   "id": "2be5db03",
   "metadata": {
    "ExecuteTime": {
     "end_time": "2021-04-21T08:59:49.208038Z",
     "start_time": "2021-04-21T08:59:49.186033Z"
    },
    "scrolled": true
   },
   "outputs": [
    {
     "data": {
      "text/html": [
       "<div>\n",
       "<style scoped>\n",
       "    .dataframe tbody tr th:only-of-type {\n",
       "        vertical-align: middle;\n",
       "    }\n",
       "\n",
       "    .dataframe tbody tr th {\n",
       "        vertical-align: top;\n",
       "    }\n",
       "\n",
       "    .dataframe thead th {\n",
       "        text-align: right;\n",
       "    }\n",
       "</style>\n",
       "<table border=\"1\" class=\"dataframe\">\n",
       "  <thead>\n",
       "    <tr style=\"text-align: right;\">\n",
       "      <th></th>\n",
       "      <th>Average Temperature (°C)</th>\n",
       "      <th>Standard Deviation</th>\n",
       "    </tr>\n",
       "    <tr>\n",
       "      <th>Country</th>\n",
       "      <th></th>\n",
       "      <th></th>\n",
       "    </tr>\n",
       "  </thead>\n",
       "  <tbody>\n",
       "    <tr>\n",
       "      <th>AFG</th>\n",
       "      <td>13.604332</td>\n",
       "      <td>0.521565</td>\n",
       "    </tr>\n",
       "    <tr>\n",
       "      <th>AGO</th>\n",
       "      <td>22.126307</td>\n",
       "      <td>0.293815</td>\n",
       "    </tr>\n",
       "    <tr>\n",
       "      <th>ALB</th>\n",
       "      <td>12.156846</td>\n",
       "      <td>0.532746</td>\n",
       "    </tr>\n",
       "    <tr>\n",
       "      <th>AND</th>\n",
       "      <td>11.998357</td>\n",
       "      <td>0.503757</td>\n",
       "    </tr>\n",
       "    <tr>\n",
       "      <th>ARE</th>\n",
       "      <td>27.596885</td>\n",
       "      <td>0.517522</td>\n",
       "    </tr>\n",
       "  </tbody>\n",
       "</table>\n",
       "</div>"
      ],
      "text/plain": [
       "         Average Temperature (°C)  Standard Deviation\n",
       "Country                                              \n",
       "AFG                     13.604332            0.521565\n",
       "AGO                     22.126307            0.293815\n",
       "ALB                     12.156846            0.532746\n",
       "AND                     11.998357            0.503757\n",
       "ARE                     27.596885            0.517522"
      ]
     },
     "execution_count": 11,
     "metadata": {},
     "output_type": "execute_result"
    }
   ],
   "source": [
    "average_annual_temperature = annual_temperature.groupby(\"Country\").mean()\n",
    "average_annual_temperature[\"Standard Deviation\"] = annual_temperature.groupby(\"Country\").std()\n",
    "average_annual_temperature.head()"
   ]
  },
  {
   "cell_type": "markdown",
   "id": "6fbbe090",
   "metadata": {},
   "source": [
    "## Water inflow"
   ]
  },
  {
   "cell_type": "markdown",
   "id": "0b89ec90",
   "metadata": {},
   "source": [
    "- **Total Internal Renewable Water Resources (IRWR)**: Long-term average annual flow of rivers and recharge of aquifers generated from endogenous precipitation. Double counting of surface water and groundwater resources is avoided by deducting the overlap from the sum of the surface water and groundwater resources. --> should correspond more or less with precipitation data\n",
    "- **Total External Renewable Water Resources (ERWR)**: That part of the country's long-term average annual renewable water resources that are not generated in the country. It includes inflows from upstream countries (groundwater and surface water), and part of the water of border lakes and/or rivers. ERWR take into account the quantity of flow reserved by upstream (incoming flow) and/or downstream (outflow) countries through formal or informal agreements or treaties. Therefore, it may vary with time. In extreme cases, it may be negative when the flow reserved to downstream countries is more than the incoming flow.\n",
    "- **Total Renewable Water Resources**: The sum of internal renewable water resources (IRWR) and external renewable water resources (ERWR). It corresponds to the maximum theoretical yearly amount of water available for a country at a given moment.\n",
    "- **Dependency ratio**: Indicator expressing the percent of total renewable water resources originating outside the country. This indicator may theoretically vary between 0% and 100%. A country with a dependency ratio equal to 0% does not receive any water from neighbouring countries. A country with a dependency ratio equal to 100% receives all its renewable water from upstream countries, without producing any of its own. This indicator does not consider the possible allocation of water to downstream countries. \n",
    "- **Total Exploitable Water Resources** (also called manageable water resources or water development potential) are considered to be available for development, taking into consideration factors such as: the economic and environmental feasibility of storing floodwater behind dams, extracting groundwater, the physical possibility of storing water that naturally flows out to the sea, and minimum flow requirements (navigation, environmental services, aquatic life, etc). Methods to assess exploitable water resources vary from country to country. --> maybe not as interesting as this allready takes into account socio-economic factors"
   ]
  },
  {
   "cell_type": "markdown",
   "id": "168096ad",
   "metadata": {},
   "source": [
    "#### Load database"
   ]
  },
  {
   "cell_type": "code",
   "execution_count": 12,
   "id": "bc03cb06",
   "metadata": {
    "ExecuteTime": {
     "end_time": "2021-04-21T10:33:40.213192Z",
     "start_time": "2021-04-21T10:33:40.198188Z"
    },
    "scrolled": true
   },
   "outputs": [
    {
     "data": {
      "text/html": [
       "<div>\n",
       "<style scoped>\n",
       "    .dataframe tbody tr th:only-of-type {\n",
       "        vertical-align: middle;\n",
       "    }\n",
       "\n",
       "    .dataframe tbody tr th {\n",
       "        vertical-align: top;\n",
       "    }\n",
       "\n",
       "    .dataframe thead th {\n",
       "        text-align: right;\n",
       "    }\n",
       "</style>\n",
       "<table border=\"1\" class=\"dataframe\">\n",
       "  <thead>\n",
       "    <tr style=\"text-align: right;\">\n",
       "      <th></th>\n",
       "      <th>Country</th>\n",
       "      <th>Area Id</th>\n",
       "      <th>Variable Name</th>\n",
       "      <th>Variable Id</th>\n",
       "      <th>Year</th>\n",
       "      <th>Value</th>\n",
       "      <th>Symbol</th>\n",
       "      <th>Md</th>\n",
       "    </tr>\n",
       "  </thead>\n",
       "  <tbody>\n",
       "    <tr>\n",
       "      <th>0</th>\n",
       "      <td>Afghanistan</td>\n",
       "      <td>4</td>\n",
       "      <td>Total internal renewable water resources (IRWR)</td>\n",
       "      <td>4157</td>\n",
       "      <td>2017</td>\n",
       "      <td>47.1500</td>\n",
       "      <td>E</td>\n",
       "      <td>NaN</td>\n",
       "    </tr>\n",
       "    <tr>\n",
       "      <th>1</th>\n",
       "      <td>Afghanistan</td>\n",
       "      <td>4</td>\n",
       "      <td>Water resources: total external renewable</td>\n",
       "      <td>4182</td>\n",
       "      <td>2017</td>\n",
       "      <td>18.1800</td>\n",
       "      <td>E</td>\n",
       "      <td>NaN</td>\n",
       "    </tr>\n",
       "    <tr>\n",
       "      <th>2</th>\n",
       "      <td>Afghanistan</td>\n",
       "      <td>4</td>\n",
       "      <td>Total renewable water resources</td>\n",
       "      <td>4188</td>\n",
       "      <td>2017</td>\n",
       "      <td>65.3300</td>\n",
       "      <td>E</td>\n",
       "      <td>NaN</td>\n",
       "    </tr>\n",
       "    <tr>\n",
       "      <th>3</th>\n",
       "      <td>Afghanistan</td>\n",
       "      <td>4</td>\n",
       "      <td>Dependency ratio</td>\n",
       "      <td>4192</td>\n",
       "      <td>2017</td>\n",
       "      <td>28.7226</td>\n",
       "      <td>E</td>\n",
       "      <td>NaN</td>\n",
       "    </tr>\n",
       "    <tr>\n",
       "      <th>4</th>\n",
       "      <td>Albania</td>\n",
       "      <td>8</td>\n",
       "      <td>Total internal renewable water resources (IRWR)</td>\n",
       "      <td>4157</td>\n",
       "      <td>2017</td>\n",
       "      <td>26.9000</td>\n",
       "      <td>E</td>\n",
       "      <td>NaN</td>\n",
       "    </tr>\n",
       "  </tbody>\n",
       "</table>\n",
       "</div>"
      ],
      "text/plain": [
       "       Country  Area Id                                    Variable Name  \\\n",
       "0  Afghanistan        4  Total internal renewable water resources (IRWR)   \n",
       "1  Afghanistan        4        Water resources: total external renewable   \n",
       "2  Afghanistan        4                  Total renewable water resources   \n",
       "3  Afghanistan        4                                 Dependency ratio   \n",
       "4      Albania        8  Total internal renewable water resources (IRWR)   \n",
       "\n",
       "   Variable Id  Year    Value Symbol  Md  \n",
       "0         4157  2017  47.1500      E NaN  \n",
       "1         4182  2017  18.1800      E NaN  \n",
       "2         4188  2017  65.3300      E NaN  \n",
       "3         4192  2017  28.7226      E NaN  \n",
       "4         4157  2017  26.9000      E NaN  "
      ]
     },
     "execution_count": 12,
     "metadata": {},
     "output_type": "execute_result"
    }
   ],
   "source": [
    "water_resources = pd.read_csv('raw data/AQUASTAT_water_resources.csv',nrows=835,index_col=False).rename(columns={'Area':'Country'})\n",
    "water_resources.head()"
   ]
  },
  {
   "cell_type": "markdown",
   "id": "06e787d0",
   "metadata": {},
   "source": [
    "#### Set universal country codes "
   ]
  },
  {
   "cell_type": "code",
   "execution_count": 13,
   "id": "4033249d",
   "metadata": {
    "ExecuteTime": {
     "end_time": "2021-04-21T10:33:41.780548Z",
     "start_time": "2021-04-21T10:33:41.145404Z"
    }
   },
   "outputs": [
    {
     "data": {
      "text/html": [
       "<div>\n",
       "<style scoped>\n",
       "    .dataframe tbody tr th:only-of-type {\n",
       "        vertical-align: middle;\n",
       "    }\n",
       "\n",
       "    .dataframe tbody tr th {\n",
       "        vertical-align: top;\n",
       "    }\n",
       "\n",
       "    .dataframe thead th {\n",
       "        text-align: right;\n",
       "    }\n",
       "</style>\n",
       "<table border=\"1\" class=\"dataframe\">\n",
       "  <thead>\n",
       "    <tr style=\"text-align: right;\">\n",
       "      <th></th>\n",
       "      <th>Country</th>\n",
       "      <th>Area Id</th>\n",
       "      <th>Variable Name</th>\n",
       "      <th>Variable Id</th>\n",
       "      <th>Year</th>\n",
       "      <th>Value</th>\n",
       "      <th>Symbol</th>\n",
       "      <th>Md</th>\n",
       "    </tr>\n",
       "  </thead>\n",
       "  <tbody>\n",
       "    <tr>\n",
       "      <th>0</th>\n",
       "      <td>AFG</td>\n",
       "      <td>4</td>\n",
       "      <td>Total internal renewable water resources (IRWR)</td>\n",
       "      <td>4157</td>\n",
       "      <td>2017</td>\n",
       "      <td>47.1500</td>\n",
       "      <td>E</td>\n",
       "      <td>NaN</td>\n",
       "    </tr>\n",
       "    <tr>\n",
       "      <th>1</th>\n",
       "      <td>AFG</td>\n",
       "      <td>4</td>\n",
       "      <td>Water resources: total external renewable</td>\n",
       "      <td>4182</td>\n",
       "      <td>2017</td>\n",
       "      <td>18.1800</td>\n",
       "      <td>E</td>\n",
       "      <td>NaN</td>\n",
       "    </tr>\n",
       "    <tr>\n",
       "      <th>2</th>\n",
       "      <td>AFG</td>\n",
       "      <td>4</td>\n",
       "      <td>Total renewable water resources</td>\n",
       "      <td>4188</td>\n",
       "      <td>2017</td>\n",
       "      <td>65.3300</td>\n",
       "      <td>E</td>\n",
       "      <td>NaN</td>\n",
       "    </tr>\n",
       "    <tr>\n",
       "      <th>3</th>\n",
       "      <td>AFG</td>\n",
       "      <td>4</td>\n",
       "      <td>Dependency ratio</td>\n",
       "      <td>4192</td>\n",
       "      <td>2017</td>\n",
       "      <td>28.7226</td>\n",
       "      <td>E</td>\n",
       "      <td>NaN</td>\n",
       "    </tr>\n",
       "    <tr>\n",
       "      <th>4</th>\n",
       "      <td>ALB</td>\n",
       "      <td>8</td>\n",
       "      <td>Total internal renewable water resources (IRWR)</td>\n",
       "      <td>4157</td>\n",
       "      <td>2017</td>\n",
       "      <td>26.9000</td>\n",
       "      <td>E</td>\n",
       "      <td>NaN</td>\n",
       "    </tr>\n",
       "  </tbody>\n",
       "</table>\n",
       "</div>"
      ],
      "text/plain": [
       "  Country  Area Id                                    Variable Name  \\\n",
       "0     AFG        4  Total internal renewable water resources (IRWR)   \n",
       "1     AFG        4        Water resources: total external renewable   \n",
       "2     AFG        4                  Total renewable water resources   \n",
       "3     AFG        4                                 Dependency ratio   \n",
       "4     ALB        8  Total internal renewable water resources (IRWR)   \n",
       "\n",
       "   Variable Id  Year    Value Symbol  Md  \n",
       "0         4157  2017  47.1500      E NaN  \n",
       "1         4182  2017  18.1800      E NaN  \n",
       "2         4188  2017  65.3300      E NaN  \n",
       "3         4192  2017  28.7226      E NaN  \n",
       "4         4157  2017  26.9000      E NaN  "
      ]
     },
     "execution_count": 13,
     "metadata": {},
     "output_type": "execute_result"
    }
   ],
   "source": [
    "water_resources.replace(to_replace = 'Grenade', value = 'Grenada', inplace = True)\n",
    "water_resources['Country'] = coco.convert(names=water_resources['Country'], to='ISO3')\n",
    "water_resources.head()"
   ]
  },
  {
   "cell_type": "markdown",
   "id": "51fad865",
   "metadata": {},
   "source": [
    "pivot table and rename + sort columns"
   ]
  },
  {
   "cell_type": "code",
   "execution_count": 14,
   "id": "3b34a5c6",
   "metadata": {
    "ExecuteTime": {
     "end_time": "2021-04-21T10:33:43.010827Z",
     "start_time": "2021-04-21T10:33:42.984821Z"
    },
    "scrolled": true
   },
   "outputs": [
    {
     "data": {
      "text/html": [
       "<div>\n",
       "<style scoped>\n",
       "    .dataframe tbody tr th:only-of-type {\n",
       "        vertical-align: middle;\n",
       "    }\n",
       "\n",
       "    .dataframe tbody tr th {\n",
       "        vertical-align: top;\n",
       "    }\n",
       "\n",
       "    .dataframe thead th {\n",
       "        text-align: right;\n",
       "    }\n",
       "</style>\n",
       "<table border=\"1\" class=\"dataframe\">\n",
       "  <thead>\n",
       "    <tr style=\"text-align: right;\">\n",
       "      <th>Variable Name</th>\n",
       "      <th>Total internal renewable water resources (IRWR)</th>\n",
       "      <th>Total external renewable water resources (ERWR)</th>\n",
       "      <th>Total renewable water resources</th>\n",
       "      <th>Dependency ratio</th>\n",
       "      <th>Total exploitable water resources</th>\n",
       "    </tr>\n",
       "    <tr>\n",
       "      <th>Country</th>\n",
       "      <th></th>\n",
       "      <th></th>\n",
       "      <th></th>\n",
       "      <th></th>\n",
       "      <th></th>\n",
       "    </tr>\n",
       "  </thead>\n",
       "  <tbody>\n",
       "    <tr>\n",
       "      <th>AFG</th>\n",
       "      <td>47.1500</td>\n",
       "      <td>18.18</td>\n",
       "      <td>65.3300</td>\n",
       "      <td>28.722600</td>\n",
       "      <td>NaN</td>\n",
       "    </tr>\n",
       "    <tr>\n",
       "      <th>AGO</th>\n",
       "      <td>148.0000</td>\n",
       "      <td>0.40</td>\n",
       "      <td>148.4000</td>\n",
       "      <td>0.269542</td>\n",
       "      <td>NaN</td>\n",
       "    </tr>\n",
       "    <tr>\n",
       "      <th>ALB</th>\n",
       "      <td>26.9000</td>\n",
       "      <td>3.30</td>\n",
       "      <td>30.2000</td>\n",
       "      <td>10.927152</td>\n",
       "      <td>13.0</td>\n",
       "    </tr>\n",
       "    <tr>\n",
       "      <th>AND</th>\n",
       "      <td>0.3156</td>\n",
       "      <td>NaN</td>\n",
       "      <td>0.3156</td>\n",
       "      <td>NaN</td>\n",
       "      <td>NaN</td>\n",
       "    </tr>\n",
       "    <tr>\n",
       "      <th>ARE</th>\n",
       "      <td>0.1500</td>\n",
       "      <td>0.00</td>\n",
       "      <td>0.1500</td>\n",
       "      <td>0.000000</td>\n",
       "      <td>NaN</td>\n",
       "    </tr>\n",
       "  </tbody>\n",
       "</table>\n",
       "</div>"
      ],
      "text/plain": [
       "Variable Name  Total internal renewable water resources (IRWR)  \\\n",
       "Country                                                          \n",
       "AFG                                                    47.1500   \n",
       "AGO                                                   148.0000   \n",
       "ALB                                                    26.9000   \n",
       "AND                                                     0.3156   \n",
       "ARE                                                     0.1500   \n",
       "\n",
       "Variable Name  Total external renewable water resources (ERWR)  \\\n",
       "Country                                                          \n",
       "AFG                                                      18.18   \n",
       "AGO                                                       0.40   \n",
       "ALB                                                       3.30   \n",
       "AND                                                        NaN   \n",
       "ARE                                                       0.00   \n",
       "\n",
       "Variable Name  Total renewable water resources  Dependency ratio  \\\n",
       "Country                                                            \n",
       "AFG                                    65.3300         28.722600   \n",
       "AGO                                   148.4000          0.269542   \n",
       "ALB                                    30.2000         10.927152   \n",
       "AND                                     0.3156               NaN   \n",
       "ARE                                     0.1500          0.000000   \n",
       "\n",
       "Variable Name  Total exploitable water resources  \n",
       "Country                                           \n",
       "AFG                                          NaN  \n",
       "AGO                                          NaN  \n",
       "ALB                                         13.0  \n",
       "AND                                          NaN  \n",
       "ARE                                          NaN  "
      ]
     },
     "execution_count": 14,
     "metadata": {},
     "output_type": "execute_result"
    }
   ],
   "source": [
    "water_resources = water_resources.pivot(index='Country', columns='Variable Name', values='Value').rename(columns={'Water resources: total external renewable':'Total external renewable water resources (ERWR)'})\n",
    "water_resources = water_resources[['Total internal renewable water resources (IRWR)','Total external renewable water resources (ERWR)','Total renewable water resources','Dependency ratio','Total exploitable water resources']]\n",
    "water_resources.head()"
   ]
  },
  {
   "cell_type": "markdown",
   "id": "2e162b33",
   "metadata": {},
   "source": [
    "## Merge Climate factors"
   ]
  },
  {
   "cell_type": "code",
   "execution_count": 15,
   "id": "b3825df9",
   "metadata": {
    "ExecuteTime": {
     "end_time": "2021-04-21T10:33:45.121306Z",
     "start_time": "2021-04-21T10:33:45.106304Z"
    },
    "scrolled": true
   },
   "outputs": [
    {
     "data": {
      "text/html": [
       "<div>\n",
       "<style scoped>\n",
       "    .dataframe tbody tr th:only-of-type {\n",
       "        vertical-align: middle;\n",
       "    }\n",
       "\n",
       "    .dataframe tbody tr th {\n",
       "        vertical-align: top;\n",
       "    }\n",
       "\n",
       "    .dataframe thead th {\n",
       "        text-align: right;\n",
       "    }\n",
       "</style>\n",
       "<table border=\"1\" class=\"dataframe\">\n",
       "  <thead>\n",
       "    <tr style=\"text-align: right;\">\n",
       "      <th></th>\n",
       "      <th>Average Temperature (°C)</th>\n",
       "      <th>Total Rainfall (mm)</th>\n",
       "      <th>Total internal renewable water resources (IRWR)</th>\n",
       "      <th>Total external renewable water resources (ERWR)</th>\n",
       "      <th>Total renewable water resources</th>\n",
       "      <th>Dependency ratio</th>\n",
       "      <th>Total exploitable water resources</th>\n",
       "    </tr>\n",
       "    <tr>\n",
       "      <th>Country</th>\n",
       "      <th></th>\n",
       "      <th></th>\n",
       "      <th></th>\n",
       "      <th></th>\n",
       "      <th></th>\n",
       "      <th></th>\n",
       "      <th></th>\n",
       "    </tr>\n",
       "  </thead>\n",
       "  <tbody>\n",
       "    <tr>\n",
       "      <th>AFG</th>\n",
       "      <td>13.604332</td>\n",
       "      <td>322.119242</td>\n",
       "      <td>47.1500</td>\n",
       "      <td>18.18</td>\n",
       "      <td>65.3300</td>\n",
       "      <td>28.722600</td>\n",
       "      <td>NaN</td>\n",
       "    </tr>\n",
       "    <tr>\n",
       "      <th>AGO</th>\n",
       "      <td>22.126307</td>\n",
       "      <td>966.806905</td>\n",
       "      <td>148.0000</td>\n",
       "      <td>0.40</td>\n",
       "      <td>148.4000</td>\n",
       "      <td>0.269542</td>\n",
       "      <td>NaN</td>\n",
       "    </tr>\n",
       "    <tr>\n",
       "      <th>ALB</th>\n",
       "      <td>12.156846</td>\n",
       "      <td>992.182656</td>\n",
       "      <td>26.9000</td>\n",
       "      <td>3.30</td>\n",
       "      <td>30.2000</td>\n",
       "      <td>10.927152</td>\n",
       "      <td>13.0</td>\n",
       "    </tr>\n",
       "    <tr>\n",
       "      <th>AND</th>\n",
       "      <td>11.998357</td>\n",
       "      <td>757.658275</td>\n",
       "      <td>0.3156</td>\n",
       "      <td>NaN</td>\n",
       "      <td>0.3156</td>\n",
       "      <td>NaN</td>\n",
       "      <td>NaN</td>\n",
       "    </tr>\n",
       "    <tr>\n",
       "      <th>ARE</th>\n",
       "      <td>27.596885</td>\n",
       "      <td>56.646966</td>\n",
       "      <td>0.1500</td>\n",
       "      <td>0.00</td>\n",
       "      <td>0.1500</td>\n",
       "      <td>0.000000</td>\n",
       "      <td>NaN</td>\n",
       "    </tr>\n",
       "  </tbody>\n",
       "</table>\n",
       "</div>"
      ],
      "text/plain": [
       "         Average Temperature (°C)  Total Rainfall (mm)  \\\n",
       "Country                                                  \n",
       "AFG                     13.604332           322.119242   \n",
       "AGO                     22.126307           966.806905   \n",
       "ALB                     12.156846           992.182656   \n",
       "AND                     11.998357           757.658275   \n",
       "ARE                     27.596885            56.646966   \n",
       "\n",
       "         Total internal renewable water resources (IRWR)  \\\n",
       "Country                                                    \n",
       "AFG                                              47.1500   \n",
       "AGO                                             148.0000   \n",
       "ALB                                              26.9000   \n",
       "AND                                               0.3156   \n",
       "ARE                                               0.1500   \n",
       "\n",
       "         Total external renewable water resources (ERWR)  \\\n",
       "Country                                                    \n",
       "AFG                                                18.18   \n",
       "AGO                                                 0.40   \n",
       "ALB                                                 3.30   \n",
       "AND                                                  NaN   \n",
       "ARE                                                 0.00   \n",
       "\n",
       "         Total renewable water resources  Dependency ratio  \\\n",
       "Country                                                      \n",
       "AFG                              65.3300         28.722600   \n",
       "AGO                             148.4000          0.269542   \n",
       "ALB                              30.2000         10.927152   \n",
       "AND                               0.3156               NaN   \n",
       "ARE                               0.1500          0.000000   \n",
       "\n",
       "         Total exploitable water resources  \n",
       "Country                                     \n",
       "AFG                                    NaN  \n",
       "AGO                                    NaN  \n",
       "ALB                                   13.0  \n",
       "AND                                    NaN  \n",
       "ARE                                    NaN  "
      ]
     },
     "execution_count": 15,
     "metadata": {},
     "output_type": "execute_result"
    }
   ],
   "source": [
    "climate_factors = pd.merge(average_annual_temperature,average_annual_rainfall,left_index=True,right_index=True)\n",
    "climate_factors = pd.merge(climate_factors,water_resources,left_index=True,right_index=True,how='outer')\n",
    "climate_factors.drop(['Standard Deviation_x','Standard Deviation_y'],axis=1,inplace=True)\n",
    "climate_factors.head()"
   ]
  },
  {
   "cell_type": "code",
   "execution_count": 16,
   "id": "5a5e9766",
   "metadata": {
    "ExecuteTime": {
     "end_time": "2021-04-21T10:33:46.017510Z",
     "start_time": "2021-04-21T10:33:46.001507Z"
    }
   },
   "outputs": [
    {
     "data": {
      "text/plain": [
       "Average Temperature (°C)                             7\n",
       "Total Rainfall (mm)                                  7\n",
       "Total internal renewable water resources (IRWR)     19\n",
       "Total external renewable water resources (ERWR)      7\n",
       "Total renewable water resources                      5\n",
       "Dependency ratio                                     9\n",
       "Total exploitable water resources                  138\n",
       "dtype: int64"
      ]
     },
     "execution_count": 16,
     "metadata": {},
     "output_type": "execute_result"
    }
   ],
   "source": [
    "climate_factors.isna().sum()"
   ]
  },
  {
   "cell_type": "markdown",
   "id": "41b87333",
   "metadata": {},
   "source": [
    "#### export to csv"
   ]
  },
  {
   "cell_type": "code",
   "execution_count": 17,
   "id": "dense-subdivision",
   "metadata": {},
   "outputs": [],
   "source": [
    "climate_factors.to_csv('clean data/climate_factors.csv')"
   ]
  },
  {
   "cell_type": "markdown",
   "id": "e6895796",
   "metadata": {},
   "source": [
    "## Left-overs"
   ]
  },
  {
   "cell_type": "code",
   "execution_count": 18,
   "id": "4fc830b6",
   "metadata": {
    "ExecuteTime": {
     "end_time": "2021-04-21T09:08:02.487101Z",
     "start_time": "2021-04-21T09:08:02.467097Z"
    }
   },
   "outputs": [
    {
     "name": "stdout",
     "output_type": "stream",
     "text": [
      "0\n"
     ]
    },
    {
     "data": {
      "text/plain": [
       "set()"
      ]
     },
     "execution_count": 18,
     "metadata": {},
     "output_type": "execute_result"
    }
   ],
   "source": [
    "print(len(set(average_annual_temperature.index.tolist()) - set(average_annual_rainfall.index.tolist())))\n",
    "set(average_annual_temperature.index.tolist()) - set(average_annual_rainfall.index.tolist())\n",
    "# all names here match :-)"
   ]
  },
  {
   "cell_type": "code",
   "execution_count": 19,
   "id": "7051941d",
   "metadata": {
    "ExecuteTime": {
     "end_time": "2021-04-21T09:08:14.072110Z",
     "start_time": "2021-04-21T09:08:14.055238Z"
    }
   },
   "outputs": [
    {
     "name": "stdout",
     "output_type": "stream",
     "text": [
      "202 195 195\n"
     ]
    }
   ],
   "source": [
    "print(len(climate_factors),len(average_annual_rainfall),len(average_annual_temperature))"
   ]
  },
  {
   "cell_type": "code",
   "execution_count": 20,
   "id": "16ab66e8",
   "metadata": {
    "ExecuteTime": {
     "end_time": "2021-04-21T09:08:14.653459Z",
     "start_time": "2021-04-21T09:08:14.643458Z"
    },
    "scrolled": true
   },
   "outputs": [
    {
     "data": {
      "text/plain": [
       "Index(['AFG', 'AGO', 'ALB', 'AND', 'ARE', 'ARG', 'ARM', 'ATG', 'AUS', 'AUT',\n",
       "       ...\n",
       "       'VAT', 'VCT', 'VEN', 'VNM', 'VUT', 'WSM', 'YEM', 'ZAF', 'ZMB', 'ZWE'],\n",
       "      dtype='object', name='Country', length=202)"
      ]
     },
     "execution_count": 20,
     "metadata": {},
     "output_type": "execute_result"
    }
   ],
   "source": [
    "climate_factors.index"
   ]
  },
  {
   "cell_type": "code",
   "execution_count": 21,
   "id": "25d7c547",
   "metadata": {
    "ExecuteTime": {
     "end_time": "2021-04-21T09:08:16.455806Z",
     "start_time": "2021-04-21T09:08:16.439803Z"
    }
   },
   "outputs": [
    {
     "data": {
      "text/plain": [
       "Index(['AFG', 'AGO', 'ALB', 'AND', 'ARE', 'ARG', 'ARM', 'ATG', 'AUS', 'AUT',\n",
       "       ...\n",
       "       'VAT', 'VCT', 'VEN', 'VNM', 'VUT', 'WSM', 'YEM', 'ZAF', 'ZMB', 'ZWE'],\n",
       "      dtype='object', name='Country', length=197)"
      ]
     },
     "execution_count": 21,
     "metadata": {},
     "output_type": "execute_result"
    }
   ],
   "source": [
    "water_resources.index"
   ]
  },
  {
   "cell_type": "code",
   "execution_count": 22,
   "id": "131c8778",
   "metadata": {
    "ExecuteTime": {
     "end_time": "2021-04-21T08:51:04.752352Z",
     "start_time": "2021-04-21T08:49:46.354Z"
    }
   },
   "outputs": [
    {
     "data": {
      "text/html": [
       "<div>\n",
       "<style scoped>\n",
       "    .dataframe tbody tr th:only-of-type {\n",
       "        vertical-align: middle;\n",
       "    }\n",
       "\n",
       "    .dataframe tbody tr th {\n",
       "        vertical-align: top;\n",
       "    }\n",
       "\n",
       "    .dataframe thead th {\n",
       "        text-align: right;\n",
       "    }\n",
       "</style>\n",
       "<table border=\"1\" class=\"dataframe\">\n",
       "  <thead>\n",
       "    <tr style=\"text-align: right;\">\n",
       "      <th></th>\n",
       "      <th>Average Temperature (°C)</th>\n",
       "      <th>Total Rainfall (mm)</th>\n",
       "      <th>Total internal renewable water resources (IRWR)_x</th>\n",
       "      <th>Total external renewable water resources (ERWR)_x</th>\n",
       "      <th>Total renewable water resources_x</th>\n",
       "      <th>Dependency ratio_x</th>\n",
       "      <th>Total exploitable water resources_x</th>\n",
       "      <th>Total internal renewable water resources (IRWR)_y</th>\n",
       "      <th>Total external renewable water resources (ERWR)_y</th>\n",
       "      <th>Total renewable water resources_y</th>\n",
       "      <th>Dependency ratio_y</th>\n",
       "      <th>Total exploitable water resources_y</th>\n",
       "    </tr>\n",
       "    <tr>\n",
       "      <th>Country</th>\n",
       "      <th></th>\n",
       "      <th></th>\n",
       "      <th></th>\n",
       "      <th></th>\n",
       "      <th></th>\n",
       "      <th></th>\n",
       "      <th></th>\n",
       "      <th></th>\n",
       "      <th></th>\n",
       "      <th></th>\n",
       "      <th></th>\n",
       "      <th></th>\n",
       "    </tr>\n",
       "  </thead>\n",
       "  <tbody>\n",
       "    <tr>\n",
       "      <th>AFG</th>\n",
       "      <td>13.604332</td>\n",
       "      <td>322.119242</td>\n",
       "      <td>47.1500</td>\n",
       "      <td>18.18</td>\n",
       "      <td>65.3300</td>\n",
       "      <td>28.722600</td>\n",
       "      <td>NaN</td>\n",
       "      <td>47.1500</td>\n",
       "      <td>18.18</td>\n",
       "      <td>65.3300</td>\n",
       "      <td>28.722600</td>\n",
       "      <td>NaN</td>\n",
       "    </tr>\n",
       "    <tr>\n",
       "      <th>AGO</th>\n",
       "      <td>22.126307</td>\n",
       "      <td>966.806905</td>\n",
       "      <td>148.0000</td>\n",
       "      <td>0.40</td>\n",
       "      <td>148.4000</td>\n",
       "      <td>0.269542</td>\n",
       "      <td>NaN</td>\n",
       "      <td>148.0000</td>\n",
       "      <td>0.40</td>\n",
       "      <td>148.4000</td>\n",
       "      <td>0.269542</td>\n",
       "      <td>NaN</td>\n",
       "    </tr>\n",
       "    <tr>\n",
       "      <th>ALB</th>\n",
       "      <td>12.156846</td>\n",
       "      <td>992.182656</td>\n",
       "      <td>26.9000</td>\n",
       "      <td>3.30</td>\n",
       "      <td>30.2000</td>\n",
       "      <td>10.927152</td>\n",
       "      <td>13.0</td>\n",
       "      <td>26.9000</td>\n",
       "      <td>3.30</td>\n",
       "      <td>30.2000</td>\n",
       "      <td>10.927152</td>\n",
       "      <td>13.0</td>\n",
       "    </tr>\n",
       "    <tr>\n",
       "      <th>AND</th>\n",
       "      <td>11.998357</td>\n",
       "      <td>757.658275</td>\n",
       "      <td>0.3156</td>\n",
       "      <td>NaN</td>\n",
       "      <td>0.3156</td>\n",
       "      <td>NaN</td>\n",
       "      <td>NaN</td>\n",
       "      <td>0.3156</td>\n",
       "      <td>NaN</td>\n",
       "      <td>0.3156</td>\n",
       "      <td>NaN</td>\n",
       "      <td>NaN</td>\n",
       "    </tr>\n",
       "    <tr>\n",
       "      <th>ARE</th>\n",
       "      <td>27.596885</td>\n",
       "      <td>56.646966</td>\n",
       "      <td>0.1500</td>\n",
       "      <td>0.00</td>\n",
       "      <td>0.1500</td>\n",
       "      <td>0.000000</td>\n",
       "      <td>NaN</td>\n",
       "      <td>0.1500</td>\n",
       "      <td>0.00</td>\n",
       "      <td>0.1500</td>\n",
       "      <td>0.000000</td>\n",
       "      <td>NaN</td>\n",
       "    </tr>\n",
       "  </tbody>\n",
       "</table>\n",
       "</div>"
      ],
      "text/plain": [
       "         Average Temperature (°C)  Total Rainfall (mm)  \\\n",
       "Country                                                  \n",
       "AFG                     13.604332           322.119242   \n",
       "AGO                     22.126307           966.806905   \n",
       "ALB                     12.156846           992.182656   \n",
       "AND                     11.998357           757.658275   \n",
       "ARE                     27.596885            56.646966   \n",
       "\n",
       "         Total internal renewable water resources (IRWR)_x  \\\n",
       "Country                                                      \n",
       "AFG                                                47.1500   \n",
       "AGO                                               148.0000   \n",
       "ALB                                                26.9000   \n",
       "AND                                                 0.3156   \n",
       "ARE                                                 0.1500   \n",
       "\n",
       "         Total external renewable water resources (ERWR)_x  \\\n",
       "Country                                                      \n",
       "AFG                                                  18.18   \n",
       "AGO                                                   0.40   \n",
       "ALB                                                   3.30   \n",
       "AND                                                    NaN   \n",
       "ARE                                                   0.00   \n",
       "\n",
       "         Total renewable water resources_x  Dependency ratio_x  \\\n",
       "Country                                                          \n",
       "AFG                                65.3300           28.722600   \n",
       "AGO                               148.4000            0.269542   \n",
       "ALB                                30.2000           10.927152   \n",
       "AND                                 0.3156                 NaN   \n",
       "ARE                                 0.1500            0.000000   \n",
       "\n",
       "         Total exploitable water resources_x  \\\n",
       "Country                                        \n",
       "AFG                                      NaN   \n",
       "AGO                                      NaN   \n",
       "ALB                                     13.0   \n",
       "AND                                      NaN   \n",
       "ARE                                      NaN   \n",
       "\n",
       "         Total internal renewable water resources (IRWR)_y  \\\n",
       "Country                                                      \n",
       "AFG                                                47.1500   \n",
       "AGO                                               148.0000   \n",
       "ALB                                                26.9000   \n",
       "AND                                                 0.3156   \n",
       "ARE                                                 0.1500   \n",
       "\n",
       "         Total external renewable water resources (ERWR)_y  \\\n",
       "Country                                                      \n",
       "AFG                                                  18.18   \n",
       "AGO                                                   0.40   \n",
       "ALB                                                   3.30   \n",
       "AND                                                    NaN   \n",
       "ARE                                                   0.00   \n",
       "\n",
       "         Total renewable water resources_y  Dependency ratio_y  \\\n",
       "Country                                                          \n",
       "AFG                                65.3300           28.722600   \n",
       "AGO                               148.4000            0.269542   \n",
       "ALB                                30.2000           10.927152   \n",
       "AND                                 0.3156                 NaN   \n",
       "ARE                                 0.1500            0.000000   \n",
       "\n",
       "         Total exploitable water resources_y  \n",
       "Country                                       \n",
       "AFG                                      NaN  \n",
       "AGO                                      NaN  \n",
       "ALB                                     13.0  \n",
       "AND                                      NaN  \n",
       "ARE                                      NaN  "
      ]
     },
     "execution_count": 22,
     "metadata": {},
     "output_type": "execute_result"
    }
   ],
   "source": [
    "climate_factors1 = pd.merge(climate_factors,water_resources,left_index=True,right_index=True,how='outer')\n",
    "climate_factors1.head()"
   ]
  },
  {
   "cell_type": "code",
   "execution_count": 23,
   "id": "056c48de",
   "metadata": {
    "ExecuteTime": {
     "end_time": "2021-04-21T08:51:04.753353Z",
     "start_time": "2021-04-21T08:49:46.356Z"
    }
   },
   "outputs": [
    {
     "data": {
      "text/plain": [
       "{'GRL', 'MCO', 'MNE', 'MNP', 'NCL'}"
      ]
     },
     "execution_count": 23,
     "metadata": {},
     "output_type": "execute_result"
    }
   ],
   "source": [
    "len(set(climate_factors.index.tolist()) - set(water_resources.index.tolist()))\n",
    "set(climate_factors.index.tolist()) - set(water_resources.index.tolist())\n",
    "# 32 countries with different names, shown here"
   ]
  },
  {
   "cell_type": "code",
   "execution_count": 24,
   "id": "876b2437",
   "metadata": {
    "ExecuteTime": {
     "end_time": "2021-04-21T08:51:04.754353Z",
     "start_time": "2021-04-21T08:49:46.358Z"
    }
   },
   "outputs": [],
   "source": [
    "namematches = list(set(climate_factors.index.tolist()) & set(water_resources.index.tolist()))"
   ]
  },
  {
   "cell_type": "code",
   "execution_count": 25,
   "id": "4062f9e3",
   "metadata": {
    "ExecuteTime": {
     "end_time": "2021-04-21T08:51:04.755353Z",
     "start_time": "2021-04-21T08:49:46.360Z"
    }
   },
   "outputs": [
    {
     "data": {
      "text/html": [
       "<div>\n",
       "<style scoped>\n",
       "    .dataframe tbody tr th:only-of-type {\n",
       "        vertical-align: middle;\n",
       "    }\n",
       "\n",
       "    .dataframe tbody tr th {\n",
       "        vertical-align: top;\n",
       "    }\n",
       "\n",
       "    .dataframe thead th {\n",
       "        text-align: right;\n",
       "    }\n",
       "</style>\n",
       "<table border=\"1\" class=\"dataframe\">\n",
       "  <thead>\n",
       "    <tr style=\"text-align: right;\">\n",
       "      <th></th>\n",
       "      <th>Average Temperature (°C)</th>\n",
       "      <th>Total Rainfall (mm)</th>\n",
       "      <th>Total internal renewable water resources (IRWR)_x</th>\n",
       "      <th>Total external renewable water resources (ERWR)_x</th>\n",
       "      <th>Total renewable water resources_x</th>\n",
       "      <th>Dependency ratio_x</th>\n",
       "      <th>Total exploitable water resources_x</th>\n",
       "      <th>Total internal renewable water resources (IRWR)_y</th>\n",
       "      <th>Total external renewable water resources (ERWR)_y</th>\n",
       "      <th>Total renewable water resources_y</th>\n",
       "      <th>Dependency ratio_y</th>\n",
       "      <th>Total exploitable water resources_y</th>\n",
       "    </tr>\n",
       "    <tr>\n",
       "      <th>Country</th>\n",
       "      <th></th>\n",
       "      <th></th>\n",
       "      <th></th>\n",
       "      <th></th>\n",
       "      <th></th>\n",
       "      <th></th>\n",
       "      <th></th>\n",
       "      <th></th>\n",
       "      <th></th>\n",
       "      <th></th>\n",
       "      <th></th>\n",
       "      <th></th>\n",
       "    </tr>\n",
       "  </thead>\n",
       "  <tbody>\n",
       "    <tr>\n",
       "      <th>ATG</th>\n",
       "      <td>26.163484</td>\n",
       "      <td>2566.520596</td>\n",
       "      <td>0.052</td>\n",
       "      <td>0.0</td>\n",
       "      <td>0.052</td>\n",
       "      <td>0.000000</td>\n",
       "      <td>NaN</td>\n",
       "      <td>0.052</td>\n",
       "      <td>0.0</td>\n",
       "      <td>0.052</td>\n",
       "      <td>0.000000</td>\n",
       "      <td>NaN</td>\n",
       "    </tr>\n",
       "    <tr>\n",
       "      <th>COL</th>\n",
       "      <td>24.730581</td>\n",
       "      <td>2652.839627</td>\n",
       "      <td>2145.000</td>\n",
       "      <td>215.0</td>\n",
       "      <td>2360.000</td>\n",
       "      <td>9.110169</td>\n",
       "      <td>NaN</td>\n",
       "      <td>2145.000</td>\n",
       "      <td>215.0</td>\n",
       "      <td>2360.000</td>\n",
       "      <td>9.110169</td>\n",
       "      <td>NaN</td>\n",
       "    </tr>\n",
       "    <tr>\n",
       "      <th>VEN</th>\n",
       "      <td>25.862610</td>\n",
       "      <td>1960.869019</td>\n",
       "      <td>805.000</td>\n",
       "      <td>520.0</td>\n",
       "      <td>1325.000</td>\n",
       "      <td>39.245283</td>\n",
       "      <td>NaN</td>\n",
       "      <td>805.000</td>\n",
       "      <td>520.0</td>\n",
       "      <td>1325.000</td>\n",
       "      <td>39.245283</td>\n",
       "      <td>NaN</td>\n",
       "    </tr>\n",
       "    <tr>\n",
       "      <th>LBR</th>\n",
       "      <td>25.706394</td>\n",
       "      <td>2486.609153</td>\n",
       "      <td>200.000</td>\n",
       "      <td>32.0</td>\n",
       "      <td>232.000</td>\n",
       "      <td>13.793103</td>\n",
       "      <td>NaN</td>\n",
       "      <td>200.000</td>\n",
       "      <td>32.0</td>\n",
       "      <td>232.000</td>\n",
       "      <td>13.793103</td>\n",
       "      <td>NaN</td>\n",
       "    </tr>\n",
       "    <tr>\n",
       "      <th>AUT</th>\n",
       "      <td>7.250850</td>\n",
       "      <td>1179.828113</td>\n",
       "      <td>55.000</td>\n",
       "      <td>22.7</td>\n",
       "      <td>77.700</td>\n",
       "      <td>29.214929</td>\n",
       "      <td>93.0</td>\n",
       "      <td>55.000</td>\n",
       "      <td>22.7</td>\n",
       "      <td>77.700</td>\n",
       "      <td>29.214929</td>\n",
       "      <td>93.0</td>\n",
       "    </tr>\n",
       "  </tbody>\n",
       "</table>\n",
       "</div>"
      ],
      "text/plain": [
       "         Average Temperature (°C)  Total Rainfall (mm)  \\\n",
       "Country                                                  \n",
       "ATG                     26.163484          2566.520596   \n",
       "COL                     24.730581          2652.839627   \n",
       "VEN                     25.862610          1960.869019   \n",
       "LBR                     25.706394          2486.609153   \n",
       "AUT                      7.250850          1179.828113   \n",
       "\n",
       "         Total internal renewable water resources (IRWR)_x  \\\n",
       "Country                                                      \n",
       "ATG                                                  0.052   \n",
       "COL                                               2145.000   \n",
       "VEN                                                805.000   \n",
       "LBR                                                200.000   \n",
       "AUT                                                 55.000   \n",
       "\n",
       "         Total external renewable water resources (ERWR)_x  \\\n",
       "Country                                                      \n",
       "ATG                                                    0.0   \n",
       "COL                                                  215.0   \n",
       "VEN                                                  520.0   \n",
       "LBR                                                   32.0   \n",
       "AUT                                                   22.7   \n",
       "\n",
       "         Total renewable water resources_x  Dependency ratio_x  \\\n",
       "Country                                                          \n",
       "ATG                                  0.052            0.000000   \n",
       "COL                               2360.000            9.110169   \n",
       "VEN                               1325.000           39.245283   \n",
       "LBR                                232.000           13.793103   \n",
       "AUT                                 77.700           29.214929   \n",
       "\n",
       "         Total exploitable water resources_x  \\\n",
       "Country                                        \n",
       "ATG                                      NaN   \n",
       "COL                                      NaN   \n",
       "VEN                                      NaN   \n",
       "LBR                                      NaN   \n",
       "AUT                                     93.0   \n",
       "\n",
       "         Total internal renewable water resources (IRWR)_y  \\\n",
       "Country                                                      \n",
       "ATG                                                  0.052   \n",
       "COL                                               2145.000   \n",
       "VEN                                                805.000   \n",
       "LBR                                                200.000   \n",
       "AUT                                                 55.000   \n",
       "\n",
       "         Total external renewable water resources (ERWR)_y  \\\n",
       "Country                                                      \n",
       "ATG                                                    0.0   \n",
       "COL                                                  215.0   \n",
       "VEN                                                  520.0   \n",
       "LBR                                                   32.0   \n",
       "AUT                                                   22.7   \n",
       "\n",
       "         Total renewable water resources_y  Dependency ratio_y  \\\n",
       "Country                                                          \n",
       "ATG                                  0.052            0.000000   \n",
       "COL                               2360.000            9.110169   \n",
       "VEN                               1325.000           39.245283   \n",
       "LBR                                232.000           13.793103   \n",
       "AUT                                 77.700           29.214929   \n",
       "\n",
       "         Total exploitable water resources_y  \n",
       "Country                                       \n",
       "ATG                                      NaN  \n",
       "COL                                      NaN  \n",
       "VEN                                      NaN  \n",
       "LBR                                      NaN  \n",
       "AUT                                     93.0  "
      ]
     },
     "execution_count": 25,
     "metadata": {},
     "output_type": "execute_result"
    }
   ],
   "source": [
    "climate_factors2 = pd.merge(climate_factors.loc[namematches],water_resources.loc[namematches],left_index=True,right_index=True,how='outer')\n",
    "climate_factors2.head()"
   ]
  },
  {
   "cell_type": "code",
   "execution_count": 26,
   "id": "888a3a05",
   "metadata": {
    "ExecuteTime": {
     "end_time": "2021-04-21T08:51:04.756354Z",
     "start_time": "2021-04-21T08:49:46.362Z"
    }
   },
   "outputs": [
    {
     "name": "stdout",
     "output_type": "stream",
     "text": [
      "202\n",
      "197\n",
      "202\n"
     ]
    }
   ],
   "source": [
    "print(len(climate_factors1))\n",
    "print(len(climate_factors2))\n",
    "print(len(climate_factors))"
   ]
  },
  {
   "cell_type": "code",
   "execution_count": 27,
   "id": "c8b2998b",
   "metadata": {
    "ExecuteTime": {
     "end_time": "2021-04-21T08:51:04.757354Z",
     "start_time": "2021-04-21T08:49:46.364Z"
    }
   },
   "outputs": [
    {
     "data": {
      "text/plain": [
       "Average Temperature (°C)                               7\n",
       "Total Rainfall (mm)                                    7\n",
       "Total internal renewable water resources (IRWR)_x     14\n",
       "Total external renewable water resources (ERWR)_x      2\n",
       "Total renewable water resources_x                      0\n",
       "Dependency ratio_x                                     4\n",
       "Total exploitable water resources_x                  133\n",
       "Total internal renewable water resources (IRWR)_y     14\n",
       "Total external renewable water resources (ERWR)_y      2\n",
       "Total renewable water resources_y                      0\n",
       "Dependency ratio_y                                     4\n",
       "Total exploitable water resources_y                  133\n",
       "dtype: int64"
      ]
     },
     "execution_count": 27,
     "metadata": {},
     "output_type": "execute_result"
    }
   ],
   "source": [
    "climate_factors2.isnull().sum() # no missingness anywhere\n"
   ]
  },
  {
   "cell_type": "code",
   "execution_count": 28,
   "id": "ca9c6022",
   "metadata": {
    "ExecuteTime": {
     "end_time": "2021-04-21T08:51:04.758354Z",
     "start_time": "2021-04-21T08:49:46.366Z"
    }
   },
   "outputs": [
    {
     "name": "stdout",
     "output_type": "stream",
     "text": [
      "['GRL' 'MCO' 'MNE' 'MNP' 'NCL']\n"
     ]
    }
   ],
   "source": [
    "diffset1 = np.setdiff1d(climate_factors.index,water_resources.index) # elements in climate not in water\n",
    "print(diffset1)"
   ]
  },
  {
   "cell_type": "code",
   "execution_count": 29,
   "id": "d877aac3",
   "metadata": {
    "ExecuteTime": {
     "end_time": "2021-04-21T08:51:04.759354Z",
     "start_time": "2021-04-21T08:49:46.369Z"
    }
   },
   "outputs": [
    {
     "name": "stdout",
     "output_type": "stream",
     "text": [
      "[]\n"
     ]
    }
   ],
   "source": [
    "diffset2 = np.setdiff1d(water_resources.index,climate_factors.index) # elements in water not in climate\n",
    "print(diffset2)"
   ]
  },
  {
   "cell_type": "code",
   "execution_count": 30,
   "id": "e42b025d",
   "metadata": {
    "ExecuteTime": {
     "end_time": "2021-04-21T08:51:04.760354Z",
     "start_time": "2021-04-21T08:49:46.371Z"
    }
   },
   "outputs": [
    {
     "ename": "IndexError",
     "evalue": "index 0 is out of bounds for axis 0 with size 0",
     "output_type": "error",
     "traceback": [
      "\u001b[1;31m---------------------------------------------------------------------------\u001b[0m",
      "\u001b[1;31mIndexError\u001b[0m                                Traceback (most recent call last)",
      "\u001b[1;32m<ipython-input-30-e4518d2fb4c5>\u001b[0m in \u001b[0;36m<module>\u001b[1;34m\u001b[0m\n\u001b[1;32m----> 1\u001b[1;33m \u001b[0mdiffset2\u001b[0m\u001b[1;33m[\u001b[0m\u001b[1;36m0\u001b[0m\u001b[1;33m]\u001b[0m\u001b[1;33m\u001b[0m\u001b[1;33m\u001b[0m\u001b[0m\n\u001b[0m",
      "\u001b[1;31mIndexError\u001b[0m: index 0 is out of bounds for axis 0 with size 0"
     ]
    }
   ],
   "source": [
    "diffset2[0]"
   ]
  },
  {
   "cell_type": "code",
   "execution_count": null,
   "id": "da54ef91",
   "metadata": {
    "ExecuteTime": {
     "end_time": "2021-04-21T08:51:04.761354Z",
     "start_time": "2021-04-21T08:49:46.373Z"
    }
   },
   "outputs": [],
   "source": [
    "test = re.sub(\"[\\(\\[].*?[\\)\\]]\", \"\", diffset2[0])"
   ]
  },
  {
   "cell_type": "code",
   "execution_count": null,
   "id": "2042ac99",
   "metadata": {
    "ExecuteTime": {
     "end_time": "2021-04-21T08:51:04.762355Z",
     "start_time": "2021-04-21T08:49:46.374Z"
    }
   },
   "outputs": [],
   "source": [
    "re.sub(\"[ \\t]+$\",\"\",test)"
   ]
  },
  {
   "cell_type": "code",
   "execution_count": null,
   "id": "5dbdf55f",
   "metadata": {
    "ExecuteTime": {
     "end_time": "2021-04-21T08:51:04.763355Z",
     "start_time": "2021-04-21T08:49:46.376Z"
    }
   },
   "outputs": [],
   "source": [
    "for country in range(len(diffset2)):\n",
    "  temp1 = re.sub(\"[\\(\\[].*?[\\)\\]]\", \"\", diffset2[country])\n",
    "  diffset2[country] = re.sub(\"[ \\t]+$\",\"\",temp1)\n",
    "    \n",
    "for country in range(len(diffset1)):\n",
    "  temp1 = re.sub(\"[\\(\\[].*?[\\)\\]]\", \"\", diffset1[country])\n",
    "  diffset1[country] = re.sub(\"[ \\t]+$\",\"\",temp1)"
   ]
  },
  {
   "cell_type": "code",
   "execution_count": null,
   "id": "e92cae3a",
   "metadata": {
    "ExecuteTime": {
     "end_time": "2021-04-21T08:51:04.764355Z",
     "start_time": "2021-04-21T08:49:46.379Z"
    }
   },
   "outputs": [],
   "source": [
    "np.setdiff1d(diffset1,diffset2) # elements in climate not in water\n"
   ]
  },
  {
   "cell_type": "code",
   "execution_count": null,
   "id": "0abd3c18",
   "metadata": {},
   "outputs": [],
   "source": []
  },
  {
   "cell_type": "code",
   "execution_count": null,
   "id": "5b6c3ff1",
   "metadata": {},
   "outputs": [],
   "source": []
  }
 ],
 "metadata": {
  "kernelspec": {
   "display_name": "Python 3",
   "language": "python",
   "name": "python3"
  },
  "language_info": {
   "codemirror_mode": {
    "name": "ipython",
    "version": 3
   },
   "file_extension": ".py",
   "mimetype": "text/x-python",
   "name": "python",
   "nbconvert_exporter": "python",
   "pygments_lexer": "ipython3",
   "version": "3.8.8"
  },
  "toc": {
   "base_numbering": 1,
   "nav_menu": {},
   "number_sections": false,
   "sideBar": true,
   "skip_h1_title": true,
   "title_cell": "Table of Contents",
   "title_sidebar": "Contents",
   "toc_cell": false,
   "toc_position": {},
   "toc_section_display": true,
   "toc_window_display": false
  },
  "varInspector": {
   "cols": {
    "lenName": 16,
    "lenType": 16,
    "lenVar": 40
   },
   "kernels_config": {
    "python": {
     "delete_cmd_postfix": "",
     "delete_cmd_prefix": "del ",
     "library": "var_list.py",
     "varRefreshCmd": "print(var_dic_list())"
    },
    "r": {
     "delete_cmd_postfix": ") ",
     "delete_cmd_prefix": "rm(",
     "library": "var_list.r",
     "varRefreshCmd": "cat(var_dic_list()) "
    }
   },
   "types_to_exclude": [
    "module",
    "function",
    "builtin_function_or_method",
    "instance",
    "_Feature"
   ],
   "window_display": false
  }
 },
 "nbformat": 4,
 "nbformat_minor": 5
}
