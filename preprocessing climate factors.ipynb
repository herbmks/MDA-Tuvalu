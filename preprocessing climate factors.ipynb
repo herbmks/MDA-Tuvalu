{
 "cells": [
  {
   "cell_type": "markdown",
   "id": "0d59ed2f",
   "metadata": {},
   "source": [
    "# Import climate factors"
   ]
  },
  {
   "cell_type": "markdown",
   "id": "aca81d58",
   "metadata": {},
   "source": [
    "## Load Modules"
   ]
  },
  {
   "cell_type": "code",
   "execution_count": 1,
   "id": "b3f83d96",
   "metadata": {
    "ExecuteTime": {
     "end_time": "2021-04-20T10:02:02.025217Z",
     "start_time": "2021-04-20T10:02:01.632546Z"
    }
   },
   "outputs": [],
   "source": [
    "import pandas as pd\n",
    "import numpy as np"
   ]
  },
  {
   "cell_type": "markdown",
   "id": "6dd2deb7",
   "metadata": {},
   "source": [
    "## Rainfall"
   ]
  },
  {
   "cell_type": "code",
   "execution_count": 2,
   "id": "60f66b94",
   "metadata": {
    "ExecuteTime": {
     "end_time": "2021-04-20T10:02:02.088231Z",
     "start_time": "2021-04-20T10:02:02.026217Z"
    }
   },
   "outputs": [
    {
     "data": {
      "text/html": [
       "<div>\n",
       "<style scoped>\n",
       "    .dataframe tbody tr th:only-of-type {\n",
       "        vertical-align: middle;\n",
       "    }\n",
       "\n",
       "    .dataframe tbody tr th {\n",
       "        vertical-align: top;\n",
       "    }\n",
       "\n",
       "    .dataframe thead th {\n",
       "        text-align: right;\n",
       "    }\n",
       "</style>\n",
       "<table border=\"1\" class=\"dataframe\">\n",
       "  <thead>\n",
       "    <tr style=\"text-align: right;\">\n",
       "      <th></th>\n",
       "      <th>Total Rainfall (mm)</th>\n",
       "      <th>Year</th>\n",
       "      <th>Statistics</th>\n",
       "      <th>Country</th>\n",
       "    </tr>\n",
       "  </thead>\n",
       "  <tbody>\n",
       "    <tr>\n",
       "      <th>0</th>\n",
       "      <td>64.77650</td>\n",
       "      <td>1991</td>\n",
       "      <td>Jan Average</td>\n",
       "      <td>Afghanistan</td>\n",
       "    </tr>\n",
       "    <tr>\n",
       "      <th>1</th>\n",
       "      <td>59.40250</td>\n",
       "      <td>1991</td>\n",
       "      <td>Feb Average</td>\n",
       "      <td>Afghanistan</td>\n",
       "    </tr>\n",
       "    <tr>\n",
       "      <th>2</th>\n",
       "      <td>119.62500</td>\n",
       "      <td>1991</td>\n",
       "      <td>Mar Average</td>\n",
       "      <td>Afghanistan</td>\n",
       "    </tr>\n",
       "    <tr>\n",
       "      <th>3</th>\n",
       "      <td>51.80250</td>\n",
       "      <td>1991</td>\n",
       "      <td>Apr Average</td>\n",
       "      <td>Afghanistan</td>\n",
       "    </tr>\n",
       "    <tr>\n",
       "      <th>4</th>\n",
       "      <td>57.24380</td>\n",
       "      <td>1991</td>\n",
       "      <td>May Average</td>\n",
       "      <td>Afghanistan</td>\n",
       "    </tr>\n",
       "    <tr>\n",
       "      <th>5</th>\n",
       "      <td>5.58788</td>\n",
       "      <td>1991</td>\n",
       "      <td>Jun Average</td>\n",
       "      <td>Afghanistan</td>\n",
       "    </tr>\n",
       "    <tr>\n",
       "      <th>6</th>\n",
       "      <td>4.39142</td>\n",
       "      <td>1991</td>\n",
       "      <td>Jul Average</td>\n",
       "      <td>Afghanistan</td>\n",
       "    </tr>\n",
       "    <tr>\n",
       "      <th>7</th>\n",
       "      <td>4.66582</td>\n",
       "      <td>1991</td>\n",
       "      <td>Aug Average</td>\n",
       "      <td>Afghanistan</td>\n",
       "    </tr>\n",
       "    <tr>\n",
       "      <th>8</th>\n",
       "      <td>12.63480</td>\n",
       "      <td>1991</td>\n",
       "      <td>Sep Average</td>\n",
       "      <td>Afghanistan</td>\n",
       "    </tr>\n",
       "    <tr>\n",
       "      <th>9</th>\n",
       "      <td>4.09568</td>\n",
       "      <td>1991</td>\n",
       "      <td>Oct Average</td>\n",
       "      <td>Afghanistan</td>\n",
       "    </tr>\n",
       "    <tr>\n",
       "      <th>10</th>\n",
       "      <td>12.66710</td>\n",
       "      <td>1991</td>\n",
       "      <td>Nov Average</td>\n",
       "      <td>Afghanistan</td>\n",
       "    </tr>\n",
       "    <tr>\n",
       "      <th>11</th>\n",
       "      <td>38.55690</td>\n",
       "      <td>1991</td>\n",
       "      <td>Dec Average</td>\n",
       "      <td>Afghanistan</td>\n",
       "    </tr>\n",
       "  </tbody>\n",
       "</table>\n",
       "</div>"
      ],
      "text/plain": [
       "    Total Rainfall (mm)  Year    Statistics       Country\n",
       "0              64.77650  1991   Jan Average   Afghanistan\n",
       "1              59.40250  1991   Feb Average   Afghanistan\n",
       "2             119.62500  1991   Mar Average   Afghanistan\n",
       "3              51.80250  1991   Apr Average   Afghanistan\n",
       "4              57.24380  1991   May Average   Afghanistan\n",
       "5               5.58788  1991   Jun Average   Afghanistan\n",
       "6               4.39142  1991   Jul Average   Afghanistan\n",
       "7               4.66582  1991   Aug Average   Afghanistan\n",
       "8              12.63480  1991   Sep Average   Afghanistan\n",
       "9               4.09568  1991   Oct Average   Afghanistan\n",
       "10             12.66710  1991   Nov Average   Afghanistan\n",
       "11             38.55690  1991   Dec Average   Afghanistan"
      ]
     },
     "execution_count": 2,
     "metadata": {},
     "output_type": "execute_result"
    }
   ],
   "source": [
    "rainfall = pd.read_csv('raw data/WORLDBANK_rainfall.csv').rename(columns={'Rainfall - (MM)':'Total Rainfall (mm)'})\n",
    "rainfall.head(12)"
   ]
  },
  {
   "cell_type": "code",
   "execution_count": 3,
   "id": "18c2934b",
   "metadata": {
    "ExecuteTime": {
     "end_time": "2021-04-20T10:02:02.119462Z",
     "start_time": "2021-04-20T10:02:02.090232Z"
    },
    "scrolled": true
   },
   "outputs": [
    {
     "data": {
      "text/html": [
       "<div>\n",
       "<style scoped>\n",
       "    .dataframe tbody tr th:only-of-type {\n",
       "        vertical-align: middle;\n",
       "    }\n",
       "\n",
       "    .dataframe tbody tr th {\n",
       "        vertical-align: top;\n",
       "    }\n",
       "\n",
       "    .dataframe thead th {\n",
       "        text-align: right;\n",
       "    }\n",
       "</style>\n",
       "<table border=\"1\" class=\"dataframe\">\n",
       "  <thead>\n",
       "    <tr style=\"text-align: right;\">\n",
       "      <th></th>\n",
       "      <th></th>\n",
       "      <th>Total Rainfall (mm)</th>\n",
       "    </tr>\n",
       "    <tr>\n",
       "      <th>Country</th>\n",
       "      <th>Year</th>\n",
       "      <th></th>\n",
       "    </tr>\n",
       "  </thead>\n",
       "  <tbody>\n",
       "    <tr>\n",
       "      <th rowspan=\"5\" valign=\"top\">Afghanistan</th>\n",
       "      <th>1991</th>\n",
       "      <td>435.44990</td>\n",
       "    </tr>\n",
       "    <tr>\n",
       "      <th>1992</th>\n",
       "      <td>408.15623</td>\n",
       "    </tr>\n",
       "    <tr>\n",
       "      <th>1993</th>\n",
       "      <td>317.08530</td>\n",
       "    </tr>\n",
       "    <tr>\n",
       "      <th>1994</th>\n",
       "      <td>342.22238</td>\n",
       "    </tr>\n",
       "    <tr>\n",
       "      <th>1995</th>\n",
       "      <td>300.89815</td>\n",
       "    </tr>\n",
       "  </tbody>\n",
       "</table>\n",
       "</div>"
      ],
      "text/plain": [
       "                   Total Rainfall (mm)\n",
       "Country      Year                     \n",
       " Afghanistan 1991            435.44990\n",
       "             1992            408.15623\n",
       "             1993            317.08530\n",
       "             1994            342.22238\n",
       "             1995            300.89815"
      ]
     },
     "execution_count": 3,
     "metadata": {},
     "output_type": "execute_result"
    }
   ],
   "source": [
    "annual_rainfall = rainfall.groupby(['Country','Year']).sum()\n",
    "annual_rainfall.head()"
   ]
  },
  {
   "cell_type": "markdown",
   "id": "04b7832f",
   "metadata": {},
   "source": [
    "Average annual rainfall last 25 years"
   ]
  },
  {
   "cell_type": "code",
   "execution_count": 4,
   "id": "2d154647",
   "metadata": {
    "ExecuteTime": {
     "end_time": "2021-04-20T10:02:02.135466Z",
     "start_time": "2021-04-20T10:02:02.120462Z"
    }
   },
   "outputs": [
    {
     "data": {
      "text/html": [
       "<div>\n",
       "<style scoped>\n",
       "    .dataframe tbody tr th:only-of-type {\n",
       "        vertical-align: middle;\n",
       "    }\n",
       "\n",
       "    .dataframe tbody tr th {\n",
       "        vertical-align: top;\n",
       "    }\n",
       "\n",
       "    .dataframe thead th {\n",
       "        text-align: right;\n",
       "    }\n",
       "</style>\n",
       "<table border=\"1\" class=\"dataframe\">\n",
       "  <thead>\n",
       "    <tr style=\"text-align: right;\">\n",
       "      <th></th>\n",
       "      <th>Total Rainfall (mm)</th>\n",
       "      <th>Standard Deviation</th>\n",
       "    </tr>\n",
       "    <tr>\n",
       "      <th>Country</th>\n",
       "      <th></th>\n",
       "      <th></th>\n",
       "    </tr>\n",
       "  </thead>\n",
       "  <tbody>\n",
       "    <tr>\n",
       "      <th>Afghanistan</th>\n",
       "      <td>322.119242</td>\n",
       "      <td>56.667164</td>\n",
       "    </tr>\n",
       "    <tr>\n",
       "      <th>Albania</th>\n",
       "      <td>992.182656</td>\n",
       "      <td>150.829612</td>\n",
       "    </tr>\n",
       "    <tr>\n",
       "      <th>Algeria</th>\n",
       "      <td>82.027218</td>\n",
       "      <td>14.214621</td>\n",
       "    </tr>\n",
       "    <tr>\n",
       "      <th>Andorra</th>\n",
       "      <td>757.658275</td>\n",
       "      <td>127.729671</td>\n",
       "    </tr>\n",
       "    <tr>\n",
       "      <th>Angola</th>\n",
       "      <td>966.806905</td>\n",
       "      <td>70.556696</td>\n",
       "    </tr>\n",
       "  </tbody>\n",
       "</table>\n",
       "</div>"
      ],
      "text/plain": [
       "              Total Rainfall (mm)  Standard Deviation\n",
       "Country                                              \n",
       " Afghanistan           322.119242           56.667164\n",
       " Albania               992.182656          150.829612\n",
       " Algeria                82.027218           14.214621\n",
       " Andorra               757.658275          127.729671\n",
       " Angola                966.806905           70.556696"
      ]
     },
     "execution_count": 4,
     "metadata": {},
     "output_type": "execute_result"
    }
   ],
   "source": [
    "average_annual_rainfall = annual_rainfall.groupby('Country').mean()\n",
    "average_annual_rainfall['Standard Deviation'] = annual_rainfall.groupby('Country').std()\n",
    "average_annual_rainfall.head()"
   ]
  },
  {
   "cell_type": "markdown",
   "id": "133eff5f",
   "metadata": {},
   "source": [
    "## Temperature"
   ]
  },
  {
   "cell_type": "code",
   "execution_count": 5,
   "id": "33907742",
   "metadata": {
    "ExecuteTime": {
     "end_time": "2021-04-20T10:02:02.191835Z",
     "start_time": "2021-04-20T10:02:02.136466Z"
    }
   },
   "outputs": [
    {
     "data": {
      "text/html": [
       "<div>\n",
       "<style scoped>\n",
       "    .dataframe tbody tr th:only-of-type {\n",
       "        vertical-align: middle;\n",
       "    }\n",
       "\n",
       "    .dataframe tbody tr th {\n",
       "        vertical-align: top;\n",
       "    }\n",
       "\n",
       "    .dataframe thead th {\n",
       "        text-align: right;\n",
       "    }\n",
       "</style>\n",
       "<table border=\"1\" class=\"dataframe\">\n",
       "  <thead>\n",
       "    <tr style=\"text-align: right;\">\n",
       "      <th></th>\n",
       "      <th>Temperature (°C)</th>\n",
       "      <th>Year</th>\n",
       "      <th>Statistics</th>\n",
       "      <th>Country</th>\n",
       "    </tr>\n",
       "  </thead>\n",
       "  <tbody>\n",
       "    <tr>\n",
       "      <th>0</th>\n",
       "      <td>-0.03110</td>\n",
       "      <td>1991</td>\n",
       "      <td>Jan Average</td>\n",
       "      <td>Afghanistan</td>\n",
       "    </tr>\n",
       "    <tr>\n",
       "      <th>1</th>\n",
       "      <td>1.43654</td>\n",
       "      <td>1991</td>\n",
       "      <td>Feb Average</td>\n",
       "      <td>Afghanistan</td>\n",
       "    </tr>\n",
       "    <tr>\n",
       "      <th>2</th>\n",
       "      <td>6.88685</td>\n",
       "      <td>1991</td>\n",
       "      <td>Mar Average</td>\n",
       "      <td>Afghanistan</td>\n",
       "    </tr>\n",
       "    <tr>\n",
       "      <th>3</th>\n",
       "      <td>12.93970</td>\n",
       "      <td>1991</td>\n",
       "      <td>Apr Average</td>\n",
       "      <td>Afghanistan</td>\n",
       "    </tr>\n",
       "    <tr>\n",
       "      <th>4</th>\n",
       "      <td>17.07550</td>\n",
       "      <td>1991</td>\n",
       "      <td>May Average</td>\n",
       "      <td>Afghanistan</td>\n",
       "    </tr>\n",
       "  </tbody>\n",
       "</table>\n",
       "</div>"
      ],
      "text/plain": [
       "   Temperature (°C)  Year    Statistics       Country\n",
       "0          -0.03110  1991   Jan Average   Afghanistan\n",
       "1           1.43654  1991   Feb Average   Afghanistan\n",
       "2           6.88685  1991   Mar Average   Afghanistan\n",
       "3          12.93970  1991   Apr Average   Afghanistan\n",
       "4          17.07550  1991   May Average   Afghanistan"
      ]
     },
     "execution_count": 5,
     "metadata": {},
     "output_type": "execute_result"
    }
   ],
   "source": [
    "temperature=pd.read_csv('raw data/WORLDBANK_temperature.csv').rename(columns={'Temperature - (Celsius)':'Temperature (°C)'})\n",
    "temperature.head()"
   ]
  },
  {
   "cell_type": "markdown",
   "id": "18cf1fe2",
   "metadata": {},
   "source": [
    "The average of monthly temepratures should be weighted based on days per month"
   ]
  },
  {
   "cell_type": "code",
   "execution_count": 6,
   "id": "efb54a82",
   "metadata": {
    "ExecuteTime": {
     "end_time": "2021-04-20T10:02:02.207839Z",
     "start_time": "2021-04-20T10:02:02.192836Z"
    }
   },
   "outputs": [],
   "source": [
    "weights = {' Jan Average':31, ' Feb Average':28, ' Mar Average':31, ' Apr Average':30, ' May Average':31, ' Jun Average':30,' Jul Average':31, ' Aug Average':31, ' Sep Average':30, ' Oct Average':31, ' Nov Average':30, ' Dec Average':31}"
   ]
  },
  {
   "cell_type": "code",
   "execution_count": 7,
   "id": "7718e2dc",
   "metadata": {
    "ExecuteTime": {
     "end_time": "2021-04-20T10:02:02.225348Z",
     "start_time": "2021-04-20T10:02:02.209840Z"
    }
   },
   "outputs": [
    {
     "data": {
      "text/html": [
       "<div>\n",
       "<style scoped>\n",
       "    .dataframe tbody tr th:only-of-type {\n",
       "        vertical-align: middle;\n",
       "    }\n",
       "\n",
       "    .dataframe tbody tr th {\n",
       "        vertical-align: top;\n",
       "    }\n",
       "\n",
       "    .dataframe thead th {\n",
       "        text-align: right;\n",
       "    }\n",
       "</style>\n",
       "<table border=\"1\" class=\"dataframe\">\n",
       "  <thead>\n",
       "    <tr style=\"text-align: right;\">\n",
       "      <th></th>\n",
       "      <th>Temperature (°C)</th>\n",
       "      <th>Year</th>\n",
       "      <th>Statistics</th>\n",
       "      <th>Country</th>\n",
       "      <th>Weight</th>\n",
       "    </tr>\n",
       "  </thead>\n",
       "  <tbody>\n",
       "    <tr>\n",
       "      <th>0</th>\n",
       "      <td>-0.03110</td>\n",
       "      <td>1991</td>\n",
       "      <td>Jan Average</td>\n",
       "      <td>Afghanistan</td>\n",
       "      <td>31</td>\n",
       "    </tr>\n",
       "    <tr>\n",
       "      <th>1</th>\n",
       "      <td>1.43654</td>\n",
       "      <td>1991</td>\n",
       "      <td>Feb Average</td>\n",
       "      <td>Afghanistan</td>\n",
       "      <td>28</td>\n",
       "    </tr>\n",
       "    <tr>\n",
       "      <th>2</th>\n",
       "      <td>6.88685</td>\n",
       "      <td>1991</td>\n",
       "      <td>Mar Average</td>\n",
       "      <td>Afghanistan</td>\n",
       "      <td>31</td>\n",
       "    </tr>\n",
       "    <tr>\n",
       "      <th>3</th>\n",
       "      <td>12.93970</td>\n",
       "      <td>1991</td>\n",
       "      <td>Apr Average</td>\n",
       "      <td>Afghanistan</td>\n",
       "      <td>30</td>\n",
       "    </tr>\n",
       "    <tr>\n",
       "      <th>4</th>\n",
       "      <td>17.07550</td>\n",
       "      <td>1991</td>\n",
       "      <td>May Average</td>\n",
       "      <td>Afghanistan</td>\n",
       "      <td>31</td>\n",
       "    </tr>\n",
       "  </tbody>\n",
       "</table>\n",
       "</div>"
      ],
      "text/plain": [
       "   Temperature (°C)  Year    Statistics       Country  Weight\n",
       "0          -0.03110  1991   Jan Average   Afghanistan      31\n",
       "1           1.43654  1991   Feb Average   Afghanistan      28\n",
       "2           6.88685  1991   Mar Average   Afghanistan      31\n",
       "3          12.93970  1991   Apr Average   Afghanistan      30\n",
       "4          17.07550  1991   May Average   Afghanistan      31"
      ]
     },
     "execution_count": 7,
     "metadata": {},
     "output_type": "execute_result"
    }
   ],
   "source": [
    "temperature['Weight'] = temperature['Statistics'].map(weights)\n",
    "temperature.head()"
   ]
  },
  {
   "cell_type": "code",
   "execution_count": 8,
   "id": "d897b39d",
   "metadata": {
    "ExecuteTime": {
     "end_time": "2021-04-20T10:02:03.706479Z",
     "start_time": "2021-04-20T10:02:02.227347Z"
    }
   },
   "outputs": [
    {
     "data": {
      "text/html": [
       "<div>\n",
       "<style scoped>\n",
       "    .dataframe tbody tr th:only-of-type {\n",
       "        vertical-align: middle;\n",
       "    }\n",
       "\n",
       "    .dataframe tbody tr th {\n",
       "        vertical-align: top;\n",
       "    }\n",
       "\n",
       "    .dataframe thead th {\n",
       "        text-align: right;\n",
       "    }\n",
       "</style>\n",
       "<table border=\"1\" class=\"dataframe\">\n",
       "  <thead>\n",
       "    <tr style=\"text-align: right;\">\n",
       "      <th></th>\n",
       "      <th></th>\n",
       "      <th>Average Temperature (°C)</th>\n",
       "    </tr>\n",
       "    <tr>\n",
       "      <th>Country</th>\n",
       "      <th>Year</th>\n",
       "      <th></th>\n",
       "    </tr>\n",
       "  </thead>\n",
       "  <tbody>\n",
       "    <tr>\n",
       "      <th rowspan=\"5\" valign=\"top\">Afghanistan</th>\n",
       "      <th>1991</th>\n",
       "      <td>12.958152</td>\n",
       "    </tr>\n",
       "    <tr>\n",
       "      <th>1992</th>\n",
       "      <td>12.598444</td>\n",
       "    </tr>\n",
       "    <tr>\n",
       "      <th>1993</th>\n",
       "      <td>13.016964</td>\n",
       "    </tr>\n",
       "    <tr>\n",
       "      <th>1994</th>\n",
       "      <td>13.150314</td>\n",
       "    </tr>\n",
       "    <tr>\n",
       "      <th>1995</th>\n",
       "      <td>13.095001</td>\n",
       "    </tr>\n",
       "  </tbody>\n",
       "</table>\n",
       "</div>"
      ],
      "text/plain": [
       "                   Average Temperature (°C)\n",
       "Country      Year                          \n",
       " Afghanistan 1991                 12.958152\n",
       "             1992                 12.598444\n",
       "             1993                 13.016964\n",
       "             1994                 13.150314\n",
       "             1995                 13.095001"
      ]
     },
     "execution_count": 8,
     "metadata": {},
     "output_type": "execute_result"
    }
   ],
   "source": [
    "annual_temperature = temperature.groupby(['Country','Year']).apply(lambda x: (x['Temperature (°C)'] * x['Weight']).sum() / x['Weight'].sum())\n",
    "annual_temperature = pd.DataFrame(annual_temperature, columns = [\"Average Temperature (°C)\"])\n",
    "annual_temperature.head()"
   ]
  },
  {
   "cell_type": "markdown",
   "id": "81b44dfd",
   "metadata": {},
   "source": [
    "Average annual temperature last 25 years"
   ]
  },
  {
   "cell_type": "code",
   "execution_count": 9,
   "id": "b7794140",
   "metadata": {
    "ExecuteTime": {
     "end_time": "2021-04-20T10:02:03.721607Z",
     "start_time": "2021-04-20T10:02:03.706479Z"
    },
    "scrolled": true
   },
   "outputs": [
    {
     "ename": "SyntaxError",
     "evalue": "invalid syntax (<ipython-input-9-11608ad6c2c3>, line 3)",
     "output_type": "error",
     "traceback": [
      "\u001b[1;36m  File \u001b[1;32m\"<ipython-input-9-11608ad6c2c3>\"\u001b[1;36m, line \u001b[1;32m3\u001b[0m\n\u001b[1;33m    Average rainfall last 25 years per country\u001b[0m\n\u001b[1;37m            ^\u001b[0m\n\u001b[1;31mSyntaxError\u001b[0m\u001b[1;31m:\u001b[0m invalid syntax\n"
     ]
    }
   ],
   "source": [
    "average_annual_temperature = annual_temperature.groupby(\"Country\").mean()\n",
    "average_annual_temperature[\"Standard Deviation\"] = annual_temperature.groupby(\"Country\").std()\n",
    "Average rainfall last 25 years per country"
   ]
  },
  {
   "cell_type": "markdown",
   "id": "22012610",
   "metadata": {},
   "source": [
    "## Water inflow"
   ]
  },
  {
   "cell_type": "markdown",
   "id": "5d6dbeb5",
   "metadata": {},
   "source": [
    "- **Total Internal Renewable Water Resources (IRWR)**: Long-term average annual flow of rivers and recharge of aquifers generated from endogenous precipitation. Double counting of surface water and groundwater resources is avoided by deducting the overlap from the sum of the surface water and groundwater resources. --> should correspond more or less with precipitation data\n",
    "- **Total External Renewable Water Resources (ERWR)**: That part of the country's long-term average annual renewable water resources that are not generated in the country. It includes inflows from upstream countries (groundwater and surface water), and part of the water of border lakes and/or rivers. ERWR take into account the quantity of flow reserved by upstream (incoming flow) and/or downstream (outflow) countries through formal or informal agreements or treaties. Therefore, it may vary with time. In extreme cases, it may be negative when the flow reserved to downstream countries is more than the incoming flow.\n",
    "- **Total Renewable Water Resources**: The sum of internal renewable water resources (IRWR) and external renewable water resources (ERWR). It corresponds to the maximum theoretical yearly amount of water available for a country at a given moment.\n",
    "- **Dependency ratio**: Indicator expressing the percent of total renewable water resources originating outside the country. This indicator may theoretically vary between 0% and 100%. A country with a dependency ratio equal to 0% does not receive any water from neighbouring countries. A country with a dependency ratio equal to 100% receives all its renewable water from upstream countries, without producing any of its own. This indicator does not consider the possible allocation of water to downstream countries. \n",
    "- **Total Exploitable Water Resources** (also called manageable water resources or water development potential) are considered to be available for development, taking into consideration factors such as: the economic and environmental feasibility of storing floodwater behind dams, extracting groundwater, the physical possibility of storing water that naturally flows out to the sea, and minimum flow requirements (navigation, environmental services, aquatic life, etc). Methods to assess exploitable water resources vary from country to country. --> maybe not as interesting as this allready takes into account socio-economic factors"
   ]
  },
  {
   "cell_type": "code",
   "execution_count": null,
   "id": "2151e803",
   "metadata": {
    "ExecuteTime": {
     "end_time": "2021-04-20T10:02:03.727608Z",
     "start_time": "2021-04-20T10:02:01.636Z"
    },
    "scrolled": true
   },
   "outputs": [],
   "source": [
    "water_resources = pd.read_csv('raw data/AQUASTAT_water_resources.csv',nrows=835,index_col=False)\n",
    "water_resources.head()"
   ]
  },
  {
   "cell_type": "markdown",
   "id": "b883c35c",
   "metadata": {},
   "source": [
    "pivot table and rename + sort columns"
   ]
  },
  {
   "cell_type": "code",
   "execution_count": null,
   "id": "b9ea6ff6",
   "metadata": {
    "ExecuteTime": {
     "end_time": "2021-04-20T10:02:03.728609Z",
     "start_time": "2021-04-20T10:02:01.638Z"
    },
    "scrolled": true
   },
   "outputs": [],
   "source": [
    "water_resources = water_resources.pivot(index='Area', columns='Variable Name', values='Value').fillna(0).rename(columns={'Water resources: total external renewable':'Total external renewable water resources (ERWR)'})\n",
    "water_resources = water_resources[['Total internal renewable water resources (IRWR)','Total external renewable water resources (ERWR)','Total renewable water resources','Dependency ratio','Total exploitable water resources']]\n",
    "\n",
    "water_resources.head()"
   ]
  },
  {
   "cell_type": "markdown",
   "id": "cfb87aa9",
   "metadata": {},
   "source": [
    "## Merge Climate factors"
   ]
  },
  {
   "cell_type": "code",
   "execution_count": null,
   "id": "b2c30c56",
   "metadata": {
    "ExecuteTime": {
     "end_time": "2021-04-20T10:02:03.729609Z",
     "start_time": "2021-04-20T10:02:01.641Z"
    }
   },
   "outputs": [],
   "source": [
    "climate_factors = pd.merge(average_annual_temperature,average_annual_rainfall,left_index=True,right_index=True)\n",
    "climate_factors.head()"
   ]
  },
  {
   "cell_type": "code",
   "execution_count": null,
   "id": "e07f0e1d",
   "metadata": {
    "ExecuteTime": {
     "end_time": "2021-04-20T10:02:03.752614Z",
     "start_time": "2021-04-20T10:02:01.643Z"
    },
    "scrolled": true
   },
   "outputs": [],
   "source": [
    "climate_factors.index"
   ]
  },
  {
   "cell_type": "code",
   "execution_count": null,
   "id": "7745d6cf",
   "metadata": {
    "ExecuteTime": {
     "end_time": "2021-04-20T10:02:03.753614Z",
     "start_time": "2021-04-20T10:02:01.645Z"
    }
   },
   "outputs": [],
   "source": [
    "water_resources.index"
   ]
  },
  {
   "cell_type": "code",
   "execution_count": null,
   "id": "95663197",
   "metadata": {
    "ExecuteTime": {
     "end_time": "2021-04-20T10:02:03.754615Z",
     "start_time": "2021-04-20T10:02:01.647Z"
    }
   },
   "outputs": [],
   "source": [
    "climate_factors = pd.merge(climate_factors,water_resources,left_index=True,right_index=True;how='outer')\n",
    "climate_factors.head()"
   ]
  },
  {
   "cell_type": "code",
   "execution_count": null,
   "id": "c437c97e",
   "metadata": {},
   "outputs": [],
   "source": []
  }
 ],
 "metadata": {
  "kernelspec": {
   "display_name": "Python 3",
   "language": "python",
   "name": "python3"
  },
  "language_info": {
   "codemirror_mode": {
    "name": "ipython",
    "version": 3
   },
   "file_extension": ".py",
   "mimetype": "text/x-python",
   "name": "python",
   "nbconvert_exporter": "python",
   "pygments_lexer": "ipython3",
   "version": "3.8.8"
  },
  "toc": {
   "base_numbering": 1,
   "nav_menu": {},
   "number_sections": false,
   "sideBar": true,
   "skip_h1_title": true,
   "title_cell": "Table of Contents",
   "title_sidebar": "Contents",
   "toc_cell": false,
   "toc_position": {},
   "toc_section_display": true,
   "toc_window_display": false
  },
  "varInspector": {
   "cols": {
    "lenName": 16,
    "lenType": 16,
    "lenVar": 40
   },
   "kernels_config": {
    "python": {
     "delete_cmd_postfix": "",
     "delete_cmd_prefix": "del ",
     "library": "var_list.py",
     "varRefreshCmd": "print(var_dic_list())"
    },
    "r": {
     "delete_cmd_postfix": ") ",
     "delete_cmd_prefix": "rm(",
     "library": "var_list.r",
     "varRefreshCmd": "cat(var_dic_list()) "
    }
   },
   "types_to_exclude": [
    "module",
    "function",
    "builtin_function_or_method",
    "instance",
    "_Feature"
   ],
   "window_display": false
  }
 },
 "nbformat": 4,
 "nbformat_minor": 5
}
