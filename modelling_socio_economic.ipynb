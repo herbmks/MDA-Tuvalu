{
 "cells": [
  {
   "cell_type": "markdown",
   "metadata": {},
   "source": [
    "# Modelling part for socio-economic factors"
   ]
  },
  {
   "cell_type": "markdown",
   "metadata": {},
   "source": [
    "## 1. importing modules"
   ]
  },
  {
   "cell_type": "code",
   "execution_count": 1,
   "metadata": {},
   "outputs": [],
   "source": [
    "import pandas as pd\n",
    "import numpy as np\n",
    "from sklearn.ensemble import RandomForestRegressor\n",
    "from sklearn.model_selection import train_test_split\n",
    "from sklearn import metrics\n",
    "import seaborn as sns\n",
    "import matplotlib.pyplot as plt\n",
    "from sklearn.cluster import SpectralClustering\n",
    "from sklearn.preprocessing import StandardScaler, normalize\n",
    "from sklearn.decomposition import PCA\n",
    "from sklearn.metrics import silhouette_score\n",
    "from sklearn.neighbors import kneighbors_graph\n",
    "from sklearn.cluster import KMeans\n",
    "from sklearn.metrics import pairwise_distances, davies_bouldin_score, calinski_harabasz_score\n",
    "from yellowbrick.cluster import SilhouetteVisualizer\n",
    "from yellowbrick.cluster import KElbowVisualizer\n",
    "import utils"
   ]
  },
  {
   "cell_type": "markdown",
   "metadata": {},
   "source": [
    "## 2. importing datasets and preprocessing\n",
    "(Note: this will be taken care of in 1 preprocessing script once done)"
   ]
  },
  {
   "cell_type": "code",
   "execution_count": 2,
   "metadata": {
    "scrolled": true
   },
   "outputs": [],
   "source": [
    "df_socec = pd.read_csv('clean data/socioec_factors.csv', index_col=0)\n",
    "df_stress = pd.read_csv('clean data/water_stress.csv')"
   ]
  },
  {
   "cell_type": "markdown",
   "metadata": {},
   "source": [
    "### 2.1 modifying the datasets\n",
    "1. socio economic: Keep the following variables:\n",
    "    * HDI\n",
    "    * life expectancy\n",
    "    * mortality rate\n",
    "    * population growth\n",
    "    * GDP per capita PPP\n",
    "    * for rural & urban we make new variables rural/urban (so the ratio of the population living in rural areas over urban areas)\n",
    "        * r_u : a variable that indicates the proportion of rural over urban population\n",
    "        * r_u_access : a variable that indicates the proportion of the rural population with access to safe drinking water    \n",
    "2. water stress: we use the water stress (MDG) and water efficiency as separate targets and therefore drop the water stress (SDG)"
   ]
  },
  {
   "cell_type": "code",
   "execution_count": 4,
   "metadata": {},
   "outputs": [
    {
     "data": {
      "text/html": [
       "<div>\n",
       "<style scoped>\n",
       "    .dataframe tbody tr th:only-of-type {\n",
       "        vertical-align: middle;\n",
       "    }\n",
       "\n",
       "    .dataframe tbody tr th {\n",
       "        vertical-align: top;\n",
       "    }\n",
       "\n",
       "    .dataframe thead th {\n",
       "        text-align: right;\n",
       "    }\n",
       "</style>\n",
       "<table border=\"1\" class=\"dataframe\">\n",
       "  <thead>\n",
       "    <tr style=\"text-align: right;\">\n",
       "      <th></th>\n",
       "      <th>Country</th>\n",
       "      <th>HDI</th>\n",
       "      <th>r_u</th>\n",
       "      <th>r_u_access</th>\n",
       "      <th>pop_growth</th>\n",
       "      <th>mort_rate</th>\n",
       "      <th>GDP_pcp</th>\n",
       "      <th>life_ex</th>\n",
       "    </tr>\n",
       "  </thead>\n",
       "  <tbody>\n",
       "    <tr>\n",
       "      <th>0</th>\n",
       "      <td>AFG</td>\n",
       "      <td>0.493</td>\n",
       "      <td>2.960340</td>\n",
       "      <td>0.601023</td>\n",
       "      <td>3.06</td>\n",
       "      <td>53.2</td>\n",
       "      <td>2226.0</td>\n",
       "      <td>63.4</td>\n",
       "    </tr>\n",
       "    <tr>\n",
       "      <th>1</th>\n",
       "      <td>AGO</td>\n",
       "      <td>0.576</td>\n",
       "      <td>0.542292</td>\n",
       "      <td>0.374005</td>\n",
       "      <td>3.44</td>\n",
       "      <td>58.6</td>\n",
       "      <td>7859.4</td>\n",
       "      <td>59.2</td>\n",
       "    </tr>\n",
       "    <tr>\n",
       "      <th>2</th>\n",
       "      <td>ALB</td>\n",
       "      <td>0.789</td>\n",
       "      <td>0.683985</td>\n",
       "      <td>1.003161</td>\n",
       "      <td>-0.20</td>\n",
       "      <td>8.6</td>\n",
       "      <td>12227.4</td>\n",
       "      <td>78.0</td>\n",
       "    </tr>\n",
       "    <tr>\n",
       "      <th>3</th>\n",
       "      <td>ARE</td>\n",
       "      <td>0.864</td>\n",
       "      <td>0.159447</td>\n",
       "      <td>1.004016</td>\n",
       "      <td>0.74</td>\n",
       "      <td>7.0</td>\n",
       "      <td>64243.0</td>\n",
       "      <td>77.2</td>\n",
       "    </tr>\n",
       "    <tr>\n",
       "      <th>4</th>\n",
       "      <td>ARG</td>\n",
       "      <td>0.832</td>\n",
       "      <td>0.089930</td>\n",
       "      <td>1.010101</td>\n",
       "      <td>1.08</td>\n",
       "      <td>10.2</td>\n",
       "      <td>23732.2</td>\n",
       "      <td>76.0</td>\n",
       "    </tr>\n",
       "  </tbody>\n",
       "</table>\n",
       "</div>"
      ],
      "text/plain": [
       "  Country    HDI       r_u  r_u_access  pop_growth  mort_rate  GDP_pcp  \\\n",
       "0     AFG  0.493  2.960340    0.601023        3.06       53.2   2226.0   \n",
       "1     AGO  0.576  0.542292    0.374005        3.44       58.6   7859.4   \n",
       "2     ALB  0.789  0.683985    1.003161       -0.20        8.6  12227.4   \n",
       "3     ARE  0.864  0.159447    1.004016        0.74        7.0  64243.0   \n",
       "4     ARG  0.832  0.089930    1.010101        1.08       10.2  23732.2   \n",
       "\n",
       "   life_ex  \n",
       "0     63.4  \n",
       "1     59.2  \n",
       "2     78.0  \n",
       "3     77.2  \n",
       "4     76.0  "
      ]
     },
     "execution_count": 4,
     "metadata": {},
     "output_type": "execute_result"
    }
   ],
   "source": [
    "# final socio-economic dataset\n",
    "df_socec = df_socec[['Country', 'HDI', 'r_u', 'r_u_access',\n",
    "                     'pop_growth', 'mort_rate', 'GDP_pcp', 'life_ex']]\n",
    "df_socec.head()"
   ]
  },
  {
   "cell_type": "code",
   "execution_count": 5,
   "metadata": {},
   "outputs": [
    {
     "data": {
      "text/html": [
       "<div>\n",
       "<style scoped>\n",
       "    .dataframe tbody tr th:only-of-type {\n",
       "        vertical-align: middle;\n",
       "    }\n",
       "\n",
       "    .dataframe tbody tr th {\n",
       "        vertical-align: top;\n",
       "    }\n",
       "\n",
       "    .dataframe thead th {\n",
       "        text-align: right;\n",
       "    }\n",
       "</style>\n",
       "<table border=\"1\" class=\"dataframe\">\n",
       "  <thead>\n",
       "    <tr style=\"text-align: right;\">\n",
       "      <th></th>\n",
       "      <th>Country</th>\n",
       "      <th>WS_MDG</th>\n",
       "      <th>WUE_SDG</th>\n",
       "      <th>WS_SDG</th>\n",
       "    </tr>\n",
       "  </thead>\n",
       "  <tbody>\n",
       "    <tr>\n",
       "      <th>0</th>\n",
       "      <td>AFG</td>\n",
       "      <td>31.045462</td>\n",
       "      <td>0.923778</td>\n",
       "      <td>54.757019</td>\n",
       "    </tr>\n",
       "    <tr>\n",
       "      <th>1</th>\n",
       "      <td>AGO</td>\n",
       "      <td>0.475539</td>\n",
       "      <td>142.467836</td>\n",
       "      <td>1.871883</td>\n",
       "    </tr>\n",
       "    <tr>\n",
       "      <th>2</th>\n",
       "      <td>ALB</td>\n",
       "      <td>3.933775</td>\n",
       "      <td>6.656907</td>\n",
       "      <td>7.139423</td>\n",
       "    </tr>\n",
       "    <tr>\n",
       "      <th>3</th>\n",
       "      <td>ARE</td>\n",
       "      <td>1708.000000</td>\n",
       "      <td>92.773763</td>\n",
       "      <td>1708.000000</td>\n",
       "    </tr>\n",
       "    <tr>\n",
       "      <th>4</th>\n",
       "      <td>ARG</td>\n",
       "      <td>4.301333</td>\n",
       "      <td>13.616564</td>\n",
       "      <td>10.456664</td>\n",
       "    </tr>\n",
       "  </tbody>\n",
       "</table>\n",
       "</div>"
      ],
      "text/plain": [
       "  Country       WS_MDG     WUE_SDG       WS_SDG\n",
       "0     AFG    31.045462    0.923778    54.757019\n",
       "1     AGO     0.475539  142.467836     1.871883\n",
       "2     ALB     3.933775    6.656907     7.139423\n",
       "3     ARE  1708.000000   92.773763  1708.000000\n",
       "4     ARG     4.301333   13.616564    10.456664"
      ]
     },
     "execution_count": 5,
     "metadata": {},
     "output_type": "execute_result"
    }
   ],
   "source": [
    "df_stress.head()"
   ]
  },
  {
   "cell_type": "code",
   "execution_count": 6,
   "metadata": {},
   "outputs": [],
   "source": [
    "# merge the two datasets into 1 for later use\n",
    "df_total = pd.merge(df_socec, df_stress, on=['Country'], how='left')\n",
    "# drop rows with missing values, this is temporary since it will be handled in the preprocessing scripts\n",
    "df_total = df_total.dropna()"
   ]
  },
  {
   "cell_type": "markdown",
   "metadata": {},
   "source": [
    "## 3 Exploratory analysis\n",
    "### This includes:\n",
    "* Checking the correlations between predictors and target variables\n",
    "* PCA analysis\n",
    "* Clustering: k-means and spectral"
   ]
  },
  {
   "cell_type": "markdown",
   "metadata": {},
   "source": [
    "### 3.1 correlations"
   ]
  },
  {
   "cell_type": "markdown",
   "metadata": {},
   "source": [
    "Conclusion: we expect water stress will be hard to predict with socio-economic factors given the overall low correlations. The water usage efficiency should be slightly easier to predict because some predictors have higher correlations "
   ]
  },
  {
   "cell_type": "code",
   "execution_count": 7,
   "metadata": {},
   "outputs": [
    {
     "name": "stdout",
     "output_type": "stream",
     "text": [
      "correlations with stress : \n",
      " WS_MDG        1.000000\n",
      "WS_SDG        0.999498\n",
      "GDP_pcp       0.273908\n",
      "pop_growth    0.159887\n",
      "r_u_access    0.141995\n",
      "HDI           0.127326\n",
      "life_ex       0.095724\n",
      "WUE_SDG       0.040949\n",
      "r_u          -0.135479\n",
      "mort_rate    -0.136546\n",
      "Name: WS_MDG, dtype: float64\n",
      "correlations with effiency : \n",
      " WUE_SDG       1.000000\n",
      "GDP_pcp       0.659415\n",
      "HDI           0.350520\n",
      "life_ex       0.300403\n",
      "r_u_access    0.184661\n",
      "WS_MDG        0.040949\n",
      "WS_SDG        0.037662\n",
      "pop_growth   -0.006180\n",
      "r_u          -0.221273\n",
      "mort_rate    -0.251949\n",
      "Name: WUE_SDG, dtype: float64\n"
     ]
    }
   ],
   "source": [
    "corr_stress = df_total.corr()['WS_MDG'].sort_values(ascending=False)\n",
    "corr_effiency = df_total.corr()['WUE_SDG'].sort_values(ascending=False)\n",
    "print('correlations with stress : \\n', corr_stress)\n",
    "print('correlations with effiency : \\n', corr_effiency)"
   ]
  },
  {
   "cell_type": "markdown",
   "metadata": {},
   "source": [
    "### 3.2 PCA analysis"
   ]
  },
  {
   "cell_type": "markdown",
   "metadata": {},
   "source": [
    "#### 3.2.1 Create a copy of our data"
   ]
  },
  {
   "cell_type": "code",
   "execution_count": 9,
   "metadata": {},
   "outputs": [],
   "source": [
    "data = df_total.copy()"
   ]
  },
  {
   "cell_type": "markdown",
   "metadata": {},
   "source": [
    "#### 3.2.2 Scale the numeric data"
   ]
  },
  {
   "cell_type": "code",
   "execution_count": 10,
   "metadata": {},
   "outputs": [],
   "source": [
    "# select numeric vars\n",
    "num_d = data.select_dtypes(include=['float64'])\n",
    "\n",
    "# Putting response variable to y\n",
    "y = data['Country']\n",
    "\n",
    "# scale the data\n",
    "scaler = StandardScaler()\n",
    "data[num_d.columns] = scaler.fit_transform(num_d)"
   ]
  },
  {
   "cell_type": "markdown",
   "metadata": {},
   "source": [
    "#### 3.2.3 create a data set that only includes predictors to perform PCA"
   ]
  },
  {
   "cell_type": "code",
   "execution_count": 11,
   "metadata": {},
   "outputs": [
    {
     "data": {
      "text/html": [
       "<div>\n",
       "<style scoped>\n",
       "    .dataframe tbody tr th:only-of-type {\n",
       "        vertical-align: middle;\n",
       "    }\n",
       "\n",
       "    .dataframe tbody tr th {\n",
       "        vertical-align: top;\n",
       "    }\n",
       "\n",
       "    .dataframe thead th {\n",
       "        text-align: right;\n",
       "    }\n",
       "</style>\n",
       "<table border=\"1\" class=\"dataframe\">\n",
       "  <thead>\n",
       "    <tr style=\"text-align: right;\">\n",
       "      <th></th>\n",
       "      <th>HDI</th>\n",
       "      <th>r_u</th>\n",
       "      <th>r_u_access</th>\n",
       "      <th>pop_growth</th>\n",
       "      <th>mort_rate</th>\n",
       "      <th>GDP_pcp</th>\n",
       "      <th>life_ex</th>\n",
       "      <th>WS_SDG</th>\n",
       "    </tr>\n",
       "  </thead>\n",
       "  <tbody>\n",
       "    <tr>\n",
       "      <th>0</th>\n",
       "      <td>-1.372006</td>\n",
       "      <td>1.505922</td>\n",
       "      <td>-1.617125</td>\n",
       "      <td>1.233024</td>\n",
       "      <td>1.364589</td>\n",
       "      <td>-0.818518</td>\n",
       "      <td>-1.003998</td>\n",
       "      <td>-0.084106</td>\n",
       "    </tr>\n",
       "    <tr>\n",
       "      <th>1</th>\n",
       "      <td>-0.837114</td>\n",
       "      <td>-0.439302</td>\n",
       "      <td>-3.010320</td>\n",
       "      <td>1.552530</td>\n",
       "      <td>1.619939</td>\n",
       "      <td>-0.543204</td>\n",
       "      <td>-1.530676</td>\n",
       "      <td>-0.220947</td>\n",
       "    </tr>\n",
       "    <tr>\n",
       "      <th>2</th>\n",
       "      <td>0.535563</td>\n",
       "      <td>-0.325316</td>\n",
       "      <td>0.850776</td>\n",
       "      <td>-1.508001</td>\n",
       "      <td>-0.744411</td>\n",
       "      <td>-0.329733</td>\n",
       "      <td>0.826834</td>\n",
       "      <td>-0.207317</td>\n",
       "    </tr>\n",
       "    <tr>\n",
       "      <th>3</th>\n",
       "      <td>1.018900</td>\n",
       "      <td>-0.747285</td>\n",
       "      <td>0.856022</td>\n",
       "      <td>-0.717644</td>\n",
       "      <td>-0.820070</td>\n",
       "      <td>2.212356</td>\n",
       "      <td>0.726514</td>\n",
       "      <td>4.193673</td>\n",
       "    </tr>\n",
       "    <tr>\n",
       "      <th>4</th>\n",
       "      <td>0.812676</td>\n",
       "      <td>-0.803209</td>\n",
       "      <td>0.893365</td>\n",
       "      <td>-0.431770</td>\n",
       "      <td>-0.668752</td>\n",
       "      <td>0.232526</td>\n",
       "      <td>0.576035</td>\n",
       "      <td>-0.198733</td>\n",
       "    </tr>\n",
       "  </tbody>\n",
       "</table>\n",
       "</div>"
      ],
      "text/plain": [
       "        HDI       r_u  r_u_access  pop_growth  mort_rate   GDP_pcp   life_ex  \\\n",
       "0 -1.372006  1.505922   -1.617125    1.233024   1.364589 -0.818518 -1.003998   \n",
       "1 -0.837114 -0.439302   -3.010320    1.552530   1.619939 -0.543204 -1.530676   \n",
       "2  0.535563 -0.325316    0.850776   -1.508001  -0.744411 -0.329733  0.826834   \n",
       "3  1.018900 -0.747285    0.856022   -0.717644  -0.820070  2.212356  0.726514   \n",
       "4  0.812676 -0.803209    0.893365   -0.431770  -0.668752  0.232526  0.576035   \n",
       "\n",
       "     WS_SDG  \n",
       "0 -0.084106  \n",
       "1 -0.220947  \n",
       "2 -0.207317  \n",
       "3  4.193673  \n",
       "4 -0.198733  "
      ]
     },
     "execution_count": 11,
     "metadata": {},
     "output_type": "execute_result"
    }
   ],
   "source": [
    "datX = data.drop(['Country', 'WS_MDG', 'WUE_SDG'], axis=1)\n",
    "datX.head()"
   ]
  },
  {
   "cell_type": "markdown",
   "metadata": {},
   "source": [
    "#### 3.2.4 perform PCA"
   ]
  },
  {
   "cell_type": "code",
   "execution_count": 12,
   "metadata": {},
   "outputs": [
    {
     "data": {
      "text/html": [
       "<div>\n",
       "<style scoped>\n",
       "    .dataframe tbody tr th:only-of-type {\n",
       "        vertical-align: middle;\n",
       "    }\n",
       "\n",
       "    .dataframe tbody tr th {\n",
       "        vertical-align: top;\n",
       "    }\n",
       "\n",
       "    .dataframe thead th {\n",
       "        text-align: right;\n",
       "    }\n",
       "</style>\n",
       "<table border=\"1\" class=\"dataframe\">\n",
       "  <thead>\n",
       "    <tr style=\"text-align: right;\">\n",
       "      <th></th>\n",
       "      <th>PC1</th>\n",
       "      <th>PC2</th>\n",
       "      <th>PC3</th>\n",
       "      <th>PC4</th>\n",
       "      <th>PC5</th>\n",
       "      <th>Feature</th>\n",
       "    </tr>\n",
       "  </thead>\n",
       "  <tbody>\n",
       "    <tr>\n",
       "      <th>0</th>\n",
       "      <td>-0.446832</td>\n",
       "      <td>-0.001450</td>\n",
       "      <td>-0.103766</td>\n",
       "      <td>-0.075776</td>\n",
       "      <td>-0.122168</td>\n",
       "      <td>HDI</td>\n",
       "    </tr>\n",
       "    <tr>\n",
       "      <th>1</th>\n",
       "      <td>0.300099</td>\n",
       "      <td>-0.118253</td>\n",
       "      <td>0.708990</td>\n",
       "      <td>-0.524070</td>\n",
       "      <td>-0.305042</td>\n",
       "      <td>r_u</td>\n",
       "    </tr>\n",
       "    <tr>\n",
       "      <th>2</th>\n",
       "      <td>-0.367876</td>\n",
       "      <td>-0.073978</td>\n",
       "      <td>0.412099</td>\n",
       "      <td>-0.087576</td>\n",
       "      <td>0.665971</td>\n",
       "      <td>r_u_access</td>\n",
       "    </tr>\n",
       "    <tr>\n",
       "      <th>3</th>\n",
       "      <td>0.259641</td>\n",
       "      <td>0.539807</td>\n",
       "      <td>-0.292917</td>\n",
       "      <td>-0.575796</td>\n",
       "      <td>0.431838</td>\n",
       "      <td>pop_growth</td>\n",
       "    </tr>\n",
       "    <tr>\n",
       "      <th>4</th>\n",
       "      <td>0.427561</td>\n",
       "      <td>0.050581</td>\n",
       "      <td>-0.121515</td>\n",
       "      <td>0.131932</td>\n",
       "      <td>-0.038012</td>\n",
       "      <td>mort_rate</td>\n",
       "    </tr>\n",
       "    <tr>\n",
       "      <th>5</th>\n",
       "      <td>-0.359976</td>\n",
       "      <td>0.301077</td>\n",
       "      <td>-0.175052</td>\n",
       "      <td>-0.360660</td>\n",
       "      <td>-0.503104</td>\n",
       "      <td>GDP_pcp</td>\n",
       "    </tr>\n",
       "    <tr>\n",
       "      <th>6</th>\n",
       "      <td>-0.433911</td>\n",
       "      <td>-0.041699</td>\n",
       "      <td>0.015838</td>\n",
       "      <td>-0.208612</td>\n",
       "      <td>0.005008</td>\n",
       "      <td>life_ex</td>\n",
       "    </tr>\n",
       "    <tr>\n",
       "      <th>7</th>\n",
       "      <td>-0.082858</td>\n",
       "      <td>0.770847</td>\n",
       "      <td>0.430442</td>\n",
       "      <td>0.435199</td>\n",
       "      <td>-0.086251</td>\n",
       "      <td>WS_SDG</td>\n",
       "    </tr>\n",
       "  </tbody>\n",
       "</table>\n",
       "</div>"
      ],
      "text/plain": [
       "        PC1       PC2       PC3       PC4       PC5     Feature\n",
       "0 -0.446832 -0.001450 -0.103766 -0.075776 -0.122168         HDI\n",
       "1  0.300099 -0.118253  0.708990 -0.524070 -0.305042         r_u\n",
       "2 -0.367876 -0.073978  0.412099 -0.087576  0.665971  r_u_access\n",
       "3  0.259641  0.539807 -0.292917 -0.575796  0.431838  pop_growth\n",
       "4  0.427561  0.050581 -0.121515  0.131932 -0.038012   mort_rate\n",
       "5 -0.359976  0.301077 -0.175052 -0.360660 -0.503104     GDP_pcp\n",
       "6 -0.433911 -0.041699  0.015838 -0.208612  0.005008     life_ex\n",
       "7 -0.082858  0.770847  0.430442  0.435199 -0.086251      WS_SDG"
      ]
     },
     "execution_count": 12,
     "metadata": {},
     "output_type": "execute_result"
    }
   ],
   "source": [
    "pca = PCA(n_components=5)\n",
    "pca.fit(datX)  # obtain the principal components\n",
    "\n",
    "# df_tmp2 will be used in clustering, don't pay attention to this\n",
    "df_tmp2 = pca.transform(datX)\n",
    "df_tmp2 = pd.DataFrame(df_tmp2)\n",
    "df_tmp2.columns = ['P1', 'P2', 'P3', 'P4', 'P5']\n",
    "df_tmp2 = df_tmp2[['P1', 'P2']]\n",
    "\n",
    "# examine which variable leans on which component\n",
    "colnames = list(datX.columns)\n",
    "pcs_df = pd.DataFrame({'PC1': pca.components_[0],\n",
    "                       'PC2': pca.components_[1],\n",
    "                       'PC3': pca.components_[2],\n",
    "                       'PC4': pca.components_[3],\n",
    "                       'PC5': pca.components_[4],\n",
    "                       'Feature': colnames})\n",
    "pcs_df"
   ]
  },
  {
   "cell_type": "markdown",
   "metadata": {},
   "source": [
    "#### Conclusion: \n",
    "We notice that for PC1 all variables have a somewhat similar weight. PC2 is dominated by population growth and GDP per capita. PC3 is mainly the ratio of rural over urban population. PC4 is dominated by rural over urban population access to water. PC5 is a mix again."
   ]
  },
  {
   "cell_type": "markdown",
   "metadata": {},
   "source": [
    "#### 3.2.5 check how many components explain the variance"
   ]
  },
  {
   "cell_type": "code",
   "execution_count": 13,
   "metadata": {},
   "outputs": [
    {
     "data": {
      "image/png": "[encoded data removed]",
      "text/plain": [
       "<Figure size 576x360 with 1 Axes>"
      ]
     },
     "metadata": {
      "needs_background": "light"
     },
     "output_type": "display_data"
    }
   ],
   "source": [
    "%matplotlib inline\n",
    "fig = plt.figure(figsize=(8, 5))\n",
    "plt.plot(np.cumsum(pca.explained_variance_ratio_))\n",
    "plt.xlabel('number of components')\n",
    "plt.ylabel('cumulative explained variance')\n",
    "plt.show()"
   ]
  },
  {
   "cell_type": "markdown",
   "metadata": {},
   "source": [
    "#### Conclusion:\n",
    "We only need 2 components to explain ~90% of the variance."
   ]
  },
  {
   "cell_type": "markdown",
   "metadata": {},
   "source": [
    "#### 3.2.6 examine which variable weighs on PC1 and PC2"
   ]
  },
  {
   "cell_type": "code",
   "execution_count": 14,
   "metadata": {},
   "outputs": [
    {
     "data": {
      "image/png": "[encoded data removed]",
      "text/plain": [
       "<Figure size 720x360 with 1 Axes>"
      ]
     },
     "metadata": {
      "needs_background": "light"
     },
     "output_type": "display_data"
    }
   ],
   "source": [
    "%matplotlib inline\n",
    "fig = plt.figure(figsize=(10, 5))\n",
    "plt.scatter(pcs_df.PC1, pcs_df.PC2)\n",
    "plt.xlabel('Principal Component 1')\n",
    "plt.ylabel('Principal Component 2')\n",
    "for i, txt in enumerate(pcs_df.Feature):\n",
    "    plt.annotate(txt, (pcs_df.PC1[i], pcs_df.PC2[i]))\n",
    "plt.tight_layout()\n",
    "plt.show()"
   ]
  },
  {
   "cell_type": "markdown",
   "metadata": {},
   "source": [
    "#### Conclusion:\n",
    "PC1 is a balanced mix of everything. PC2 is dominated by population growth, GDP per capita and rural over urban population."
   ]
  },
  {
   "cell_type": "markdown",
   "metadata": {},
   "source": [
    "### 3.3 Clustering\n",
    "3.3.1: we look at k-means.\n",
    "\n",
    "3.3.2: we look at spectral clustering.\n",
    "\n",
    "3.3.4: we evaluate the clustering algorithms based on the Silhouette score and David-Bouldin score.\n",
    "\n",
    "3.3.5: we evaluate the clusters by looking how the variable values change for each cluster.\n",
    "\n",
    "* Silhouette score for a set of sample data points is used to measure how dense and well-separated the clusters are. Silhouette score takes into consideration the intra-cluster distance between the sample and other data points within the same cluster (a) and inter-cluster distance between the sample and the next nearest cluster (b).\n",
    "    * The silhouette plots can be used to select the most optimal value of the K (no. of cluster) in K-means clustering. The score ranges between [-1,1] with a score 1 meaning that the clusters are very dense and nicely separated. The score of 0 means that clusters are overlapping. The score of less than 0 means that data belonging to clusters may be wrong/incorrect.\n",
    "* The Davies–Bouldin (DB) criterion is based on a ratio between “within-cluster” and “between-cluster” distances. The optimal clustering has the smallest Davies–Bouldin index value.\n",
    "    * Eg. if two clusters are close together but have a large spread then this ratio will be large, indicating that these clusters are not very distinct."
   ]
  },
  {
   "cell_type": "markdown",
   "metadata": {},
   "source": [
    "### 3.3.1 K-means clustering"
   ]
  },
  {
   "cell_type": "code",
   "execution_count": 15,
   "metadata": {},
   "outputs": [
    {
     "data": {
      "image/png": "[encoded data removed]",
      "text/plain": [
       "<Figure size 432x288 with 1 Axes>"
      ]
     },
     "metadata": {
      "needs_background": "light"
     },
     "output_type": "display_data"
    }
   ],
   "source": [
    "df_tmp_n = df_tmp2.copy()\n",
    "sse = {}\n",
    "for k in range(1, 10):\n",
    "    kmeans = KMeans(n_clusters=k, max_iter=1000).fit(df_tmp_n)\n",
    "    df_tmp_n['clusters'] = kmeans.labels_\n",
    "    # print(data[\"clusters\"])\n",
    "    # Inertia: Sum of distances of samples to their closest cluster center\n",
    "    sse[k] = kmeans.inertia_\n",
    "plt.figure()\n",
    "plt.plot(list(sse.keys()), list(sse.values()))\n",
    "plt.xlabel(\"Number of cluster\")\n",
    "plt.ylabel(\"SSE\")\n",
    "plt.show()"
   ]
  },
  {
   "cell_type": "code",
   "execution_count": 16,
   "metadata": {},
   "outputs": [
    {
     "data": {
      "image/png": "[encoded data removed]",
      "text/plain": [
       "<Figure size 1080x576 with 6 Axes>"
      ]
     },
     "metadata": {
      "needs_background": "light"
     },
     "output_type": "display_data"
    }
   ],
   "source": [
    "fig, ax = plt.subplots(3, 2, figsize=(15, 8))\n",
    "for i in [2, 3, 4, 5, 6, 7]:\n",
    "    '''\n",
    "    Create KMeans instance for different number of clusters\n",
    "    '''\n",
    "    km = KMeans(n_clusters=i, init='k-means++',\n",
    "                n_init=10, max_iter=100, random_state=42)\n",
    "    q, mod = divmod(i, 2)\n",
    "    '''\n",
    "    Create SilhouetteVisualizer instance with KMeans instance\n",
    "    Fit the visualizer\n",
    "    '''\n",
    "    visualizer = SilhouetteVisualizer(\n",
    "        km, colors='yellowbrick', ax=ax[q-1][mod])\n",
    "    visualizer.fit(df_tmp2)"
   ]
  },
  {
   "cell_type": "code",
   "execution_count": 17,
   "metadata": {},
   "outputs": [
    {
     "data": {
      "image/png": "[encoded data removed]",
      "text/plain": [
       "<Figure size 432x288 with 1 Axes>"
      ]
     },
     "metadata": {
      "needs_background": "light"
     },
     "output_type": "display_data"
    },
    {
     "data": {
      "text/plain": [
       "<AxesSubplot:title={'center':'Silhouette Score Elbow for KMeans Clustering'}, xlabel='k', ylabel='silhouette score'>"
      ]
     },
     "execution_count": 17,
     "metadata": {},
     "output_type": "execute_result"
    }
   ],
   "source": [
    "# Instantiate a scikit-learn K-Means model\n",
    "model = KMeans(random_state=42)\n",
    "\n",
    "# Instantiate the KElbowVisualizer with the number of clusters and the metric\n",
    "visualizer = KElbowVisualizer(\n",
    "    model, k=(2, 9), metric='silhouette', timings=False)\n",
    "\n",
    "# Fit the data and visualize\n",
    "visualizer.fit(df_tmp_n)\n",
    "visualizer.poof()"
   ]
  },
  {
   "cell_type": "markdown",
   "metadata": {},
   "source": [
    "#### Conclusion:\n",
    "K-means clustering with 5 clusters is optimal. A score of 0.556 indicates clustering works reasonably well."
   ]
  },
  {
   "cell_type": "code",
   "execution_count": 18,
   "metadata": {},
   "outputs": [
    {
     "data": {
      "text/plain": [
       "<matplotlib.legend.Legend at 0x1af486bac70>"
      ]
     },
     "execution_count": 18,
     "metadata": {},
     "output_type": "execute_result"
    },
    {
     "data": {
      "image/png": "[encoded data removed]",
      "text/plain": [
       "<Figure size 576x576 with 1 Axes>"
      ]
     },
     "metadata": {
      "needs_background": "light"
     },
     "output_type": "display_data"
    }
   ],
   "source": [
    "kmeans = KMeans(n_clusters=4, random_state=42)\n",
    "kmeans.fit(df_tmp2.values)\n",
    "y_label = kmeans.predict(df_tmp2.values)\n",
    "\n",
    "fix, ax = plt.subplots(1, 1, figsize=(8, 8))\n",
    "for i in np.unique(y_label):\n",
    "    idx = y_label == i\n",
    "    ax.scatter(df_tmp2.values[idx, 0], df_tmp2.values[idx, 1])\n",
    "\n",
    "# plotting the centroids\n",
    "ax.scatter(kmeans.cluster_centers_[:, 0], kmeans.cluster_centers_[\n",
    "           :, 1], color='k', s=80.0, label='centroids')\n",
    "ax.legend()"
   ]
  },
  {
   "cell_type": "markdown",
   "metadata": {},
   "source": [
    "### 3.3.2 Spectral clustering"
   ]
  },
  {
   "cell_type": "code",
   "execution_count": 19,
   "metadata": {},
   "outputs": [],
   "source": [
    "# 5 neighbours is standard practise\n",
    "A = kneighbors_graph(df_tmp2.values, n_neighbors=5).toarray()"
   ]
  },
  {
   "cell_type": "code",
   "execution_count": 23,
   "metadata": {},
   "outputs": [
    {
     "data": {
      "text/plain": [
       "<matplotlib.collections.PathCollection at 0x1af4873f340>"
      ]
     },
     "execution_count": 23,
     "metadata": {},
     "output_type": "execute_result"
    },
    {
     "data": {
      "image/png": "[encoded data removed]",
      "text/plain": [
       "<Figure size 576x576 with 1 Axes>"
      ]
     },
     "metadata": {
      "needs_background": "light"
     },
     "output_type": "display_data"
    }
   ],
   "source": [
    "fig, ax = plt.subplots(1, 1, figsize=(8, 8))\n",
    "plt.scatter(df_tmp2['P1'], df_tmp2['P2'])"
   ]
  },
  {
   "cell_type": "code",
   "execution_count": 24,
   "metadata": {},
   "outputs": [],
   "source": [
    "D = np.diag(A.sum(axis=1))\n",
    "L = D-A"
   ]
  },
  {
   "cell_type": "code",
   "execution_count": 25,
   "metadata": {},
   "outputs": [],
   "source": [
    "vals, vecs = np.linalg.eig(L)\n",
    "vals = np.real(vals)\n",
    "vecs = np.real(vecs)"
   ]
  },
  {
   "cell_type": "code",
   "execution_count": 26,
   "metadata": {},
   "outputs": [],
   "source": [
    "vecs_sorted = vecs[:, np.argsort((vals))]\n",
    "vals_sorted = vals[np.argsort((vals))]"
   ]
  },
  {
   "cell_type": "markdown",
   "metadata": {},
   "source": [
    "uncomment if you want to visualise eigenvalues\n"
   ]
  },
  {
   "cell_type": "code",
   "execution_count": 27,
   "metadata": {},
   "outputs": [
    {
     "data": {
      "text/plain": [
       "\"fig , ax = plt.subplots(1,1,figsize=(5,5))\\nax.scatter(np.arange(0,len(vals_sorted)),abs(vals_sorted))\\nax.set_title('Eigen values',fontsize=12);\""
      ]
     },
     "execution_count": 27,
     "metadata": {},
     "output_type": "execute_result"
    }
   ],
   "source": [
    "'''fig , ax = plt.subplots(1,1,figsize=(5,5))\n",
    "ax.scatter(np.arange(0,len(vals_sorted)),abs(vals_sorted))\n",
    "ax.set_title('Eigen values',fontsize=12);'''"
   ]
  },
  {
   "cell_type": "code",
   "execution_count": 28,
   "metadata": {},
   "outputs": [],
   "source": [
    "U = np.array((vecs_sorted[:, 1])).reshape(-1, 1)"
   ]
  },
  {
   "cell_type": "code",
   "execution_count": 29,
   "metadata": {},
   "outputs": [],
   "source": [
    "km = KMeans(init='k-means++', n_clusters=5, random_state=42)\n",
    "km.fit(U);"
   ]
  },
  {
   "cell_type": "code",
   "execution_count": 30,
   "metadata": {},
   "outputs": [
    {
     "data": {
      "text/plain": [
       "<matplotlib.collections.PathCollection at 0x1af487c7cd0>"
      ]
     },
     "execution_count": 30,
     "metadata": {},
     "output_type": "execute_result"
    },
    {
     "data": {
      "image/png": "[encoded data removed]",
      "text/plain": [
       "<Figure size 720x720 with 1 Axes>"
      ]
     },
     "metadata": {
      "needs_background": "light"
     },
     "output_type": "display_data"
    }
   ],
   "source": [
    "fig, ax = plt.subplots(1, 1, figsize=(10, 10))\n",
    "\n",
    "plt.scatter(df_tmp2.values[km.labels_ == 0, 0],\n",
    "            df_tmp2.values[km.labels_ == 0, 1])\n",
    "plt.scatter(df_tmp2.values[km.labels_ == 1, 0],\n",
    "            df_tmp2.values[km.labels_ == 1, 1])\n",
    "plt.scatter(df_tmp2.values[km.labels_ == 2, 0],\n",
    "            df_tmp2.values[km.labels_ == 2, 1])\n",
    "plt.scatter(df_tmp2.values[km.labels_ == 3, 0],\n",
    "            df_tmp2.values[km.labels_ == 3, 1])\n",
    "plt.scatter(df_tmp2.values[km.labels_ == 4, 0],\n",
    "            df_tmp2.values[km.labels_ == 4, 1])"
   ]
  },
  {
   "cell_type": "markdown",
   "metadata": {},
   "source": [
    "5 clusters looks like overkill, we have 1 cluster containing only 4 datapoints\n",
    "\n",
    "We now build a second spectral clustering model based on rbf affinity.\n",
    "\n",
    "Uncomment the plotting part if you want to visualise."
   ]
  },
  {
   "cell_type": "code",
   "execution_count": 31,
   "metadata": {},
   "outputs": [
    {
     "data": {
      "text/plain": [
       "\"\\nb = plt.scatter(df_tmp2['P1'], df_tmp2['P2'], color ='b');\\ny = plt.scatter(df_tmp2['P1'], df_tmp2['P2'], color ='g');\\nr = plt.scatter(df_tmp2['P1'], df_tmp2['P2'], color ='orange');\\nr1 = plt.scatter(df_tmp2['P1'], df_tmp2['P2'], color ='red');\\ngr = plt.scatter(df_tmp2['P1'], df_tmp2['P2'], color ='gray');\\nplt.figure(figsize =(9, 9))\\nplt.scatter(df_tmp2['P1'], df_tmp2['P2'], c = cvec)\\nplt.legend((b, y,r,r1,gr), ('C 1', 'C 2','C 3','C 4','C 5'))\\nplt.show()\\n\""
      ]
     },
     "execution_count": 31,
     "metadata": {},
     "output_type": "execute_result"
    }
   ],
   "source": [
    "# Building the clustering model\n",
    "spectral_model_tmp = SpectralClustering(n_clusters=5,\n",
    "                                        n_neighbors=5,\n",
    "                                        random_state=42,\n",
    "                                        affinity='rbf')\n",
    "\n",
    "# Training the model and Storing the predicted cluster labels\n",
    "labels_rbf = spectral_model_tmp.fit_predict(df_tmp2)\n",
    "df_tmp2['cluster_rbf'] = spectral_model_tmp.fit_predict(df_tmp2[['P1', 'P2']])\n",
    "# Building the label to colour mapping\n",
    "colours = {}\n",
    "colours[0] = 'b'\n",
    "colours[1] = 'g'\n",
    "colours[2] = 'orange'\n",
    "colours[3] = 'red'\n",
    "colours[4] = 'gray'\n",
    "# Building the colour vector for each data point\n",
    "cvec = [colours[label] for label in labels_rbf]\n",
    "\n",
    "# Plotting the clustered scatter plot\n",
    "'''\n",
    "b = plt.scatter(df_tmp2['P1'], df_tmp2['P2'], color ='b');\n",
    "y = plt.scatter(df_tmp2['P1'], df_tmp2['P2'], color ='g');\n",
    "r = plt.scatter(df_tmp2['P1'], df_tmp2['P2'], color ='orange');\n",
    "r1 = plt.scatter(df_tmp2['P1'], df_tmp2['P2'], color ='red');\n",
    "gr = plt.scatter(df_tmp2['P1'], df_tmp2['P2'], color ='gray');\n",
    "plt.figure(figsize =(9, 9))\n",
    "plt.scatter(df_tmp2['P1'], df_tmp2['P2'], c = cvec)\n",
    "plt.legend((b, y,r,r1,gr), ('C 1', 'C 2','C 3','C 4','C 5'))\n",
    "plt.show()\n",
    "'''"
   ]
  },
  {
   "cell_type": "markdown",
   "metadata": {},
   "source": [
    "We build a second spectral model based on nearest neighbours. Uncomment the plotting part if you want to visualize it."
   ]
  },
  {
   "cell_type": "code",
   "execution_count": 32,
   "metadata": {},
   "outputs": [
    {
     "name": "stderr",
     "output_type": "stream",
     "text": [
      "C:\\Users\\Marce\\anaconda3\\lib\\site-packages\\sklearn\\manifold\\_spectral_embedding.py:236: UserWarning: Graph is not fully connected, spectral embedding may not work as expected.\n",
      "  warnings.warn(\"Graph is not fully connected, spectral embedding\"\n"
     ]
    }
   ],
   "source": [
    "spec_cl = SpectralClustering(\n",
    "    n_clusters=4,\n",
    "    n_neighbors=5,\n",
    "    random_state=42,\n",
    "    affinity='nearest_neighbors')\n",
    "\n",
    "df_tmp2['cluster_cl'] = spec_cl.fit_predict(df_tmp2[['P1', 'P2']])\n",
    "\n",
    "labels_nearest = spec_cl.fit_predict(df_tmp2)\n",
    "\n",
    "# Building the label to colour mapping\n",
    "colours = {}\n",
    "colours[0] = 'b'\n",
    "colours[1] = 'g'\n",
    "colours[2] = 'orange'\n",
    "colours[3] = 'red'\n",
    "colours[4] = 'gray'\n",
    "# Building the colour vector for each data point\n",
    "cvec = [colours[label] for label in labels_nearest]\n",
    "\n",
    "# Plotting the clustered scatter plot\n",
    "\n",
    "#b = plt.scatter(df_tmp2['P1'], df_tmp2['P2'], color ='b');\n",
    "#y = plt.scatter(df_tmp2['P1'], df_tmp2['P2'], color ='g');\n",
    "#r = plt.scatter(df_tmp2['P1'], df_tmp2['P2'], color ='orange');\n",
    "#r1 = plt.scatter(df_tmp2['P1'], df_tmp2['P2'], color ='red');\n",
    "\n",
    "#plt.figure(figsize =(9, 9))\n",
    "#plt.scatter(df_tmp2['P1'], df_tmp2['P2'], c = cvec)\n",
    "#plt.legend((b, y,r,r1), ('C 1', 'C 2','C 3','C 4'))\n",
    "# plt.show()"
   ]
  },
  {
   "cell_type": "markdown",
   "metadata": {},
   "source": [
    "### 3.3.3 score-based evaluation\n",
    "Look at Silhouette scores and Davies-Bouldin.\n",
    "\n",
    "We want to maximize Silhouette score and minimize the Davies-Bouldin score.\n",
    "\n",
    "#### Conclusion: \n",
    "NN-based spectral clustering with 4 clusters yields the best results. Spectral clustering is far better than k-means."
   ]
  },
  {
   "cell_type": "code",
   "execution_count": 33,
   "metadata": {},
   "outputs": [
    {
     "name": "stdout",
     "output_type": "stream",
     "text": [
      "Silhouetter Score k-means: 0.216\n",
      "Silhouetter Score spectral cluster rbf : 0.445\n",
      "Silhouetter Score spectral cluster NN: 0.502\n"
     ]
    }
   ],
   "source": [
    "# Calculate Silhoutte Score\n",
    "\n",
    "score = silhouette_score(df_tmp2, km.labels_, metric='euclidean')\n",
    "score1 = silhouette_score(df_tmp2, df_tmp2.cluster_cl, metric='euclidean')\n",
    "score2 = silhouette_score(df_tmp2, df_tmp2.cluster_rbf, metric='euclidean')\n",
    "\n",
    "\n",
    "print('Silhouetter Score k-means: %.3f' % score)\n",
    "print('Silhouetter Score spectral cluster rbf : %.3f' % score2)\n",
    "print('Silhouetter Score spectral cluster NN: %.3f' % score1)"
   ]
  },
  {
   "cell_type": "code",
   "execution_count": 34,
   "metadata": {},
   "outputs": [
    {
     "name": "stdout",
     "output_type": "stream",
     "text": [
      "davies_bouldin_score kmeans: 1.578\n",
      "davies_bouldin_score spectral cluster rbf: 0.680\n",
      "davies_bouldin_score spectral cluster NN: 0.734\n"
     ]
    }
   ],
   "source": [
    "dbs = davies_bouldin_score(df_tmp2, km.labels_)\n",
    "#db3=davies_bouldin_score(df_tmp2, df_tmp2.clusters)\n",
    "dbs1 = davies_bouldin_score(df_tmp2, df_tmp2.cluster_rbf)\n",
    "dbs2 = davies_bouldin_score(df_tmp2, df_tmp2.cluster_cl)\n",
    "print('davies_bouldin_score kmeans: %.3f' % dbs)\n",
    "print('davies_bouldin_score spectral cluster rbf: %.3f' % dbs1)\n",
    "print('davies_bouldin_score spectral cluster NN: %.3f' % dbs2)"
   ]
  },
  {
   "cell_type": "markdown",
   "metadata": {},
   "source": [
    "### 3.3.4 analysis of optimal clusters"
   ]
  },
  {
   "cell_type": "code",
   "execution_count": 35,
   "metadata": {},
   "outputs": [],
   "source": [
    "df_tmp2.rename(columns={\"cluster_cl\": \"cluster\"}, inplace=True)"
   ]
  },
  {
   "cell_type": "code",
   "execution_count": 36,
   "metadata": {},
   "outputs": [
    {
     "data": {
      "text/html": [
       "<div>\n",
       "<style scoped>\n",
       "    .dataframe tbody tr th:only-of-type {\n",
       "        vertical-align: middle;\n",
       "    }\n",
       "\n",
       "    .dataframe tbody tr th {\n",
       "        vertical-align: top;\n",
       "    }\n",
       "\n",
       "    .dataframe thead th {\n",
       "        text-align: right;\n",
       "    }\n",
       "</style>\n",
       "<table border=\"1\" class=\"dataframe\">\n",
       "  <thead>\n",
       "    <tr style=\"text-align: right;\">\n",
       "      <th></th>\n",
       "      <th>Country</th>\n",
       "      <th>HDI</th>\n",
       "      <th>r_u</th>\n",
       "      <th>r_u_access</th>\n",
       "      <th>pop_growth</th>\n",
       "      <th>mort_rate</th>\n",
       "      <th>GDP_pcp</th>\n",
       "      <th>life_ex</th>\n",
       "      <th>WS_MDG</th>\n",
       "      <th>WUE_SDG</th>\n",
       "      <th>WS_SDG</th>\n",
       "      <th>P1</th>\n",
       "      <th>P2</th>\n",
       "      <th>cluster_rbf</th>\n",
       "      <th>cluster</th>\n",
       "    </tr>\n",
       "  </thead>\n",
       "  <tbody>\n",
       "    <tr>\n",
       "      <th>11</th>\n",
       "      <td>BFA</td>\n",
       "      <td>0.429</td>\n",
       "      <td>2.479123</td>\n",
       "      <td>0.777436</td>\n",
       "      <td>2.94</td>\n",
       "      <td>59.8</td>\n",
       "      <td>1958.0</td>\n",
       "      <td>59.8</td>\n",
       "      <td>6.049630</td>\n",
       "      <td>11.141396</td>\n",
       "      <td>7.807839</td>\n",
       "      <td>3.288485</td>\n",
       "      <td>0.257598</td>\n",
       "      <td>2</td>\n",
       "      <td>2</td>\n",
       "    </tr>\n",
       "    <tr>\n",
       "      <th>102</th>\n",
       "      <td>PAN</td>\n",
       "      <td>0.793</td>\n",
       "      <td>0.484453</td>\n",
       "      <td>0.906858</td>\n",
       "      <td>1.70</td>\n",
       "      <td>14.8</td>\n",
       "      <td>28414.6</td>\n",
       "      <td>77.8</td>\n",
       "      <td>0.869609</td>\n",
       "      <td>46.509821</td>\n",
       "      <td>0.901071</td>\n",
       "      <td>-1.962697</td>\n",
       "      <td>2.410434</td>\n",
       "      <td>3</td>\n",
       "      <td>1</td>\n",
       "    </tr>\n",
       "    <tr>\n",
       "      <th>91</th>\n",
       "      <td>MWI</td>\n",
       "      <td>0.482</td>\n",
       "      <td>4.982832</td>\n",
       "      <td>0.931034</td>\n",
       "      <td>2.76</td>\n",
       "      <td>37.8</td>\n",
       "      <td>1023.2</td>\n",
       "      <td>61.8</td>\n",
       "      <td>7.851852</td>\n",
       "      <td>3.101514</td>\n",
       "      <td>17.504838</td>\n",
       "      <td>1.082293</td>\n",
       "      <td>-1.192114</td>\n",
       "      <td>2</td>\n",
       "      <td>0</td>\n",
       "    </tr>\n",
       "    <tr>\n",
       "      <th>94</th>\n",
       "      <td>NER</td>\n",
       "      <td>0.373</td>\n",
       "      <td>5.116385</td>\n",
       "      <td>0.486000</td>\n",
       "      <td>3.88</td>\n",
       "      <td>52.2</td>\n",
       "      <td>1133.6</td>\n",
       "      <td>60.6</td>\n",
       "      <td>5.131278</td>\n",
       "      <td>3.603993</td>\n",
       "      <td>7.453925</td>\n",
       "      <td>1.762547</td>\n",
       "      <td>0.097177</td>\n",
       "      <td>2</td>\n",
       "      <td>0</td>\n",
       "    </tr>\n",
       "    <tr>\n",
       "      <th>117</th>\n",
       "      <td>SVN</td>\n",
       "      <td>0.899</td>\n",
       "      <td>0.842526</td>\n",
       "      <td>0.996991</td>\n",
       "      <td>0.10</td>\n",
       "      <td>2.0</td>\n",
       "      <td>34240.4</td>\n",
       "      <td>80.8</td>\n",
       "      <td>2.922498</td>\n",
       "      <td>42.546338</td>\n",
       "      <td>6.297498</td>\n",
       "      <td>2.793197</td>\n",
       "      <td>0.367616</td>\n",
       "      <td>2</td>\n",
       "      <td>0</td>\n",
       "    </tr>\n",
       "  </tbody>\n",
       "</table>\n",
       "</div>"
      ],
      "text/plain": [
       "    Country    HDI       r_u  r_u_access  pop_growth  mort_rate  GDP_pcp  \\\n",
       "11      BFA  0.429  2.479123    0.777436        2.94       59.8   1958.0   \n",
       "102     PAN  0.793  0.484453    0.906858        1.70       14.8  28414.6   \n",
       "91      MWI  0.482  4.982832    0.931034        2.76       37.8   1023.2   \n",
       "94      NER  0.373  5.116385    0.486000        3.88       52.2   1133.6   \n",
       "117     SVN  0.899  0.842526    0.996991        0.10        2.0  34240.4   \n",
       "\n",
       "     life_ex    WS_MDG    WUE_SDG     WS_SDG        P1        P2  cluster_rbf  \\\n",
       "11      59.8  6.049630  11.141396   7.807839  3.288485  0.257598            2   \n",
       "102     77.8  0.869609  46.509821   0.901071 -1.962697  2.410434            3   \n",
       "91      61.8  7.851852   3.101514  17.504838  1.082293 -1.192114            2   \n",
       "94      60.6  5.131278   3.603993   7.453925  1.762547  0.097177            2   \n",
       "117     80.8  2.922498  42.546338   6.297498  2.793197  0.367616            2   \n",
       "\n",
       "     cluster  \n",
       "11         2  \n",
       "102        1  \n",
       "91         0  \n",
       "94         0  \n",
       "117        0  "
      ]
     },
     "execution_count": 36,
     "metadata": {},
     "output_type": "execute_result"
    }
   ],
   "source": [
    "dat_tmp3 = pd.merge(df_total, df_tmp2, left_index=True, right_index=True)\n",
    "dat_tmp3.sample(5)"
   ]
  },
  {
   "cell_type": "code",
   "execution_count": 37,
   "metadata": {},
   "outputs": [],
   "source": [
    "Clus_GDPP = pd.DataFrame(dat_tmp3.groupby([\"cluster\"]).GDP_pcp.mean())\n",
    "Clus_access = pd.DataFrame(dat_tmp3.groupby([\"cluster\"]).r_u_access.mean())\n",
    "Clus_lifexp = pd.DataFrame(dat_tmp3.groupby([\"cluster\"]).life_ex.mean())\n",
    "Clus_mort = pd.DataFrame(dat_tmp3.groupby([\"cluster\"]).mort_rate.mean())\n",
    "Clus_density_pop = pd.DataFrame(dat_tmp3.groupby([\"cluster\"]).r_u.mean())\n",
    "Clus_pop_growth = pd.DataFrame(dat_tmp3.groupby([\"cluster\"]).pop_growth.mean())\n",
    "Clus_HDI = pd.DataFrame(dat_tmp3.groupby([\"cluster\"]).HDI.mean())\n",
    "Clus_w_stress = pd.DataFrame(dat_tmp3.groupby([\"cluster\"]).WS_MDG.mean())\n",
    "Clus_W_eff = pd.DataFrame(dat_tmp3.groupby([\"cluster\"]).WUE_SDG.mean())"
   ]
  },
  {
   "cell_type": "code",
   "execution_count": 38,
   "metadata": {},
   "outputs": [
    {
     "data": {
      "text/plain": [
       "0    53\n",
       "1    30\n",
       "3    28\n",
       "2    14\n",
       "Name: cluster, dtype: int64"
      ]
     },
     "execution_count": 38,
     "metadata": {},
     "output_type": "execute_result"
    }
   ],
   "source": [
    "df_tmp2.cluster.value_counts()"
   ]
  },
  {
   "cell_type": "code",
   "execution_count": 39,
   "metadata": {},
   "outputs": [
    {
     "data": {
      "text/html": [
       "<div>\n",
       "<style scoped>\n",
       "    .dataframe tbody tr th:only-of-type {\n",
       "        vertical-align: middle;\n",
       "    }\n",
       "\n",
       "    .dataframe tbody tr th {\n",
       "        vertical-align: top;\n",
       "    }\n",
       "\n",
       "    .dataframe thead th {\n",
       "        text-align: right;\n",
       "    }\n",
       "</style>\n",
       "<table border=\"1\" class=\"dataframe\">\n",
       "  <thead>\n",
       "    <tr style=\"text-align: right;\">\n",
       "      <th></th>\n",
       "      <th>WS_MDG</th>\n",
       "      <th>WUE_SDG</th>\n",
       "      <th>GDP_pcp</th>\n",
       "      <th>r_u_access</th>\n",
       "      <th>life_ex</th>\n",
       "      <th>mort_rate</th>\n",
       "      <th>r_u</th>\n",
       "      <th>pop_growth</th>\n",
       "    </tr>\n",
       "    <tr>\n",
       "      <th>cluster</th>\n",
       "      <th></th>\n",
       "      <th></th>\n",
       "      <th></th>\n",
       "      <th></th>\n",
       "      <th></th>\n",
       "      <th></th>\n",
       "      <th></th>\n",
       "      <th></th>\n",
       "    </tr>\n",
       "  </thead>\n",
       "  <tbody>\n",
       "    <tr>\n",
       "      <th>0</th>\n",
       "      <td>35.804379</td>\n",
       "      <td>44.806713</td>\n",
       "      <td>15696.736364</td>\n",
       "      <td>0.858670</td>\n",
       "      <td>71.209091</td>\n",
       "      <td>26.054545</td>\n",
       "      <td>1.329669</td>\n",
       "      <td>1.582614</td>\n",
       "    </tr>\n",
       "    <tr>\n",
       "      <th>1</th>\n",
       "      <td>91.256229</td>\n",
       "      <td>50.765117</td>\n",
       "      <td>27175.179310</td>\n",
       "      <td>0.917592</td>\n",
       "      <td>74.275862</td>\n",
       "      <td>17.820690</td>\n",
       "      <td>0.597307</td>\n",
       "      <td>1.420000</td>\n",
       "    </tr>\n",
       "    <tr>\n",
       "      <th>2</th>\n",
       "      <td>76.125195</td>\n",
       "      <td>117.272126</td>\n",
       "      <td>16650.428571</td>\n",
       "      <td>0.768163</td>\n",
       "      <td>66.400000</td>\n",
       "      <td>36.300000</td>\n",
       "      <td>1.848677</td>\n",
       "      <td>2.482857</td>\n",
       "    </tr>\n",
       "    <tr>\n",
       "      <th>3</th>\n",
       "      <td>160.747631</td>\n",
       "      <td>39.183536</td>\n",
       "      <td>18817.023077</td>\n",
       "      <td>0.871578</td>\n",
       "      <td>71.876923</td>\n",
       "      <td>22.584615</td>\n",
       "      <td>0.742034</td>\n",
       "      <td>1.299808</td>\n",
       "    </tr>\n",
       "  </tbody>\n",
       "</table>\n",
       "</div>"
      ],
      "text/plain": [
       "             WS_MDG     WUE_SDG       GDP_pcp  r_u_access    life_ex  \\\n",
       "cluster                                                                \n",
       "0         35.804379   44.806713  15696.736364    0.858670  71.209091   \n",
       "1         91.256229   50.765117  27175.179310    0.917592  74.275862   \n",
       "2         76.125195  117.272126  16650.428571    0.768163  66.400000   \n",
       "3        160.747631   39.183536  18817.023077    0.871578  71.876923   \n",
       "\n",
       "         mort_rate       r_u  pop_growth  \n",
       "cluster                                   \n",
       "0        26.054545  1.329669    1.582614  \n",
       "1        17.820690  0.597307    1.420000  \n",
       "2        36.300000  1.848677    2.482857  \n",
       "3        22.584615  0.742034    1.299808  "
      ]
     },
     "execution_count": 39,
     "metadata": {},
     "output_type": "execute_result"
    }
   ],
   "source": [
    "dfclus = pd.concat([Clus_w_stress, Clus_W_eff, Clus_GDPP,\n",
    "                    Clus_access, Clus_lifexp, Clus_mort, Clus_density_pop, Clus_pop_growth], axis=1)\n",
    "dfclus"
   ]
  },
  {
   "cell_type": "markdown",
   "metadata": {},
   "source": [
    "# 4. Analytics: random forests"
   ]
  },
  {
   "cell_type": "markdown",
   "metadata": {},
   "source": [
    "Still need to improve this part\n",
    "\n",
    "construct the forest"
   ]
  },
  {
   "cell_type": "code",
   "execution_count": 40,
   "metadata": {},
   "outputs": [],
   "source": [
    "# Initialize the classifier, we will keep the default parameters for now\n",
    "model_s = RandomForestRegressor()\n",
    "model_e = RandomForestRegressor()"
   ]
  },
  {
   "cell_type": "code",
   "execution_count": 41,
   "metadata": {},
   "outputs": [],
   "source": [
    "# define predictors and target\n",
    "x = df_total[['HDI', 'r_u', 'r_u_access', 'GDP_pcp',\n",
    "              'life_ex', 'mort_rate', 'pop_growth']]\n",
    "e = df_total[['WUE_SDG']].values\n",
    "s = df_total[['WS_MDG']].values"
   ]
  },
  {
   "cell_type": "code",
   "execution_count": 42,
   "metadata": {},
   "outputs": [],
   "source": [
    "# split in train and test\n",
    "x_train, x_test, s_train, s_test = train_test_split(\n",
    "    x, s, test_size=0.2, random_state=0)\n",
    "x2_train, x2_test, e_train, e_test = train_test_split(\n",
    "    x, e, test_size=0.2, random_state=0)"
   ]
  },
  {
   "cell_type": "code",
   "execution_count": 43,
   "metadata": {},
   "outputs": [
    {
     "data": {
      "text/plain": [
       "RandomForestRegressor()"
      ]
     },
     "execution_count": 43,
     "metadata": {},
     "output_type": "execute_result"
    }
   ],
   "source": [
    "model_s.fit(x_train, np.ravel(s_train))\n",
    "model_e.fit(x2_train, np.ravel(e_train))"
   ]
  },
  {
   "cell_type": "code",
   "execution_count": 44,
   "metadata": {},
   "outputs": [],
   "source": [
    "s_pred = model_s.predict(x_test)\n",
    "e_pred = model_e.predict(x2_test)"
   ]
  },
  {
   "cell_type": "code",
   "execution_count": 45,
   "metadata": {},
   "outputs": [
    {
     "name": "stdout",
     "output_type": "stream",
     "text": [
      "Mean Absolute Error water stress: 183.13639596401055\n",
      "Mean Squared Error water stress: 280737.05913606094\n",
      "Root Mean Squared Error water stress: 529.8462599057023\n",
      "Mean Absolute Error efficiency: 56.45335746468068\n",
      "Mean Squared Error efficiency: 17423.444265772006\n",
      "Root Mean Squared Error efficiency: 131.99789492932078\n"
     ]
    }
   ],
   "source": [
    "print('Mean Absolute Error water stress:',\n",
    "      metrics.mean_absolute_error(s_test, s_pred))\n",
    "print('Mean Squared Error water stress:',\n",
    "      metrics.mean_squared_error(s_test, s_pred))\n",
    "print('Root Mean Squared Error water stress:', np.sqrt(\n",
    "    metrics.mean_squared_error(s_test, s_pred)))\n",
    "\n",
    "print('Mean Absolute Error efficiency:',\n",
    "      metrics.mean_absolute_error(e_test, e_pred))\n",
    "print('Mean Squared Error efficiency:',\n",
    "      metrics.mean_squared_error(e_test, e_pred))\n",
    "print('Root Mean Squared Error efficiency:', np.sqrt(\n",
    "    metrics.mean_squared_error(e_test, e_pred)))"
   ]
  },
  {
   "cell_type": "code",
   "execution_count": 46,
   "metadata": {},
   "outputs": [
    {
     "name": "stdout",
     "output_type": "stream",
     "text": [
      "Mean Absolute Error: 217.75 degrees.\n",
      "Mean Absolute Error: 87.08 degrees.\n",
      "Accuracy water stress prediction: -667.42 %.\n",
      "Accuracy efficiency prediction: 5.67 %.\n"
     ]
    }
   ],
   "source": [
    "# Calculate the absolute errors\n",
    "errors1 = abs(s_pred - s_test)\n",
    "errors2 = abs(e_pred - e_test)\n",
    "\n",
    "# Print out the mean absolute error (mae)\n",
    "print('Mean Absolute Error:', round(np.mean(errors1), 2), 'degrees.')\n",
    "print('Mean Absolute Error:', round(np.mean(errors2), 2), 'degrees.')\n",
    "\n",
    "# Calculate mean absolute percentage error (MAPE)\n",
    "mape1 = 100 * (errors1 / s_test)\n",
    "mape2 = 100 * (errors2 / e_test)\n",
    "\n",
    "# Calculate and display accuracy\n",
    "accuracy1 = 100 - np.median(mape1)\n",
    "accuracy2 = 100 - np.median(mape2)\n",
    "\n",
    "print('Accuracy water stress prediction:', round(accuracy1, 2), '%.')\n",
    "print('Accuracy efficiency prediction:', round(accuracy2, 2), '%.')"
   ]
  }
 ],
 "metadata": {
  "kernelspec": {
   "display_name": "Python 3",
   "language": "python",
   "name": "python3"
  },
  "language_info": {
   "codemirror_mode": {
    "name": "ipython",
    "version": 3
   },
   "file_extension": ".py",
   "mimetype": "text/x-python",
   "name": "python",
   "nbconvert_exporter": "python",
   "pygments_lexer": "ipython3",
   "version": "3.8.5"
  },
  "varInspector": {
   "cols": {
    "lenName": 16,
    "lenType": 16,
    "lenVar": 40
   },
   "kernels_config": {
    "python": {
     "delete_cmd_postfix": "",
     "delete_cmd_prefix": "del ",
     "library": "var_list.py",
     "varRefreshCmd": "print(var_dic_list())"
    },
    "r": {
     "delete_cmd_postfix": ") ",
     "delete_cmd_prefix": "rm(",
     "library": "var_list.r",
     "varRefreshCmd": "cat(var_dic_list()) "
    }
   },
   "types_to_exclude": [
    "module",
    "function",
    "builtin_function_or_method",
    "instance",
    "_Feature"
   ],
   "window_display": false
  }
 },
 "nbformat": 4,
 "nbformat_minor": 4
}
