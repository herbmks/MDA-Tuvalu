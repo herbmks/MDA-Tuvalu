{
 "cells": [
  {
   "cell_type": "markdown",
   "id": "9dd7ef60",
   "metadata": {},
   "source": [
    "# Import climate factors"
   ]
  },
  {
   "cell_type": "markdown",
   "id": "3ef0c05b",
   "metadata": {},
   "source": [
    "## Load Modules"
   ]
  },
  {
   "cell_type": "code",
   "execution_count": 1,
   "id": "32d842a8",
   "metadata": {
    "ExecuteTime": {
     "end_time": "2021-05-04T13:53:43.804134Z",
     "start_time": "2021-05-04T13:53:43.263012Z"
    }
   },
   "outputs": [],
   "source": [
    "import pandas as pd\n",
    "import numpy as np\n",
    "import re\n",
    "import country_converter as coco"
   ]
  },
  {
   "cell_type": "markdown",
   "id": "80ddcf1e",
   "metadata": {},
   "source": [
    "## Rainfall"
   ]
  },
  {
   "cell_type": "markdown",
   "id": "037f0265",
   "metadata": {},
   "source": [
    "#### Load database"
   ]
  },
  {
   "cell_type": "code",
   "execution_count": 2,
   "id": "cdc49066",
   "metadata": {
    "ExecuteTime": {
     "end_time": "2021-05-04T13:53:43.868149Z",
     "start_time": "2021-05-04T13:53:43.806135Z"
    }
   },
   "outputs": [
    {
     "data": {
      "text/html": [
       "<div>\n",
       "<style scoped>\n",
       "    .dataframe tbody tr th:only-of-type {\n",
       "        vertical-align: middle;\n",
       "    }\n",
       "\n",
       "    .dataframe tbody tr th {\n",
       "        vertical-align: top;\n",
       "    }\n",
       "\n",
       "    .dataframe thead th {\n",
       "        text-align: right;\n",
       "    }\n",
       "</style>\n",
       "<table border=\"1\" class=\"dataframe\">\n",
       "  <thead>\n",
       "    <tr style=\"text-align: right;\">\n",
       "      <th></th>\n",
       "      <th>Total Rainfall (mm)</th>\n",
       "      <th>Year</th>\n",
       "      <th>Statistics</th>\n",
       "      <th>Country</th>\n",
       "    </tr>\n",
       "  </thead>\n",
       "  <tbody>\n",
       "    <tr>\n",
       "      <th>0</th>\n",
       "      <td>64.77650</td>\n",
       "      <td>1991</td>\n",
       "      <td>Jan Average</td>\n",
       "      <td>Afghanistan</td>\n",
       "    </tr>\n",
       "    <tr>\n",
       "      <th>1</th>\n",
       "      <td>59.40250</td>\n",
       "      <td>1991</td>\n",
       "      <td>Feb Average</td>\n",
       "      <td>Afghanistan</td>\n",
       "    </tr>\n",
       "    <tr>\n",
       "      <th>2</th>\n",
       "      <td>119.62500</td>\n",
       "      <td>1991</td>\n",
       "      <td>Mar Average</td>\n",
       "      <td>Afghanistan</td>\n",
       "    </tr>\n",
       "    <tr>\n",
       "      <th>3</th>\n",
       "      <td>51.80250</td>\n",
       "      <td>1991</td>\n",
       "      <td>Apr Average</td>\n",
       "      <td>Afghanistan</td>\n",
       "    </tr>\n",
       "    <tr>\n",
       "      <th>4</th>\n",
       "      <td>57.24380</td>\n",
       "      <td>1991</td>\n",
       "      <td>May Average</td>\n",
       "      <td>Afghanistan</td>\n",
       "    </tr>\n",
       "    <tr>\n",
       "      <th>5</th>\n",
       "      <td>5.58788</td>\n",
       "      <td>1991</td>\n",
       "      <td>Jun Average</td>\n",
       "      <td>Afghanistan</td>\n",
       "    </tr>\n",
       "    <tr>\n",
       "      <th>6</th>\n",
       "      <td>4.39142</td>\n",
       "      <td>1991</td>\n",
       "      <td>Jul Average</td>\n",
       "      <td>Afghanistan</td>\n",
       "    </tr>\n",
       "    <tr>\n",
       "      <th>7</th>\n",
       "      <td>4.66582</td>\n",
       "      <td>1991</td>\n",
       "      <td>Aug Average</td>\n",
       "      <td>Afghanistan</td>\n",
       "    </tr>\n",
       "    <tr>\n",
       "      <th>8</th>\n",
       "      <td>12.63480</td>\n",
       "      <td>1991</td>\n",
       "      <td>Sep Average</td>\n",
       "      <td>Afghanistan</td>\n",
       "    </tr>\n",
       "    <tr>\n",
       "      <th>9</th>\n",
       "      <td>4.09568</td>\n",
       "      <td>1991</td>\n",
       "      <td>Oct Average</td>\n",
       "      <td>Afghanistan</td>\n",
       "    </tr>\n",
       "    <tr>\n",
       "      <th>10</th>\n",
       "      <td>12.66710</td>\n",
       "      <td>1991</td>\n",
       "      <td>Nov Average</td>\n",
       "      <td>Afghanistan</td>\n",
       "    </tr>\n",
       "    <tr>\n",
       "      <th>11</th>\n",
       "      <td>38.55690</td>\n",
       "      <td>1991</td>\n",
       "      <td>Dec Average</td>\n",
       "      <td>Afghanistan</td>\n",
       "    </tr>\n",
       "  </tbody>\n",
       "</table>\n",
       "</div>"
      ],
      "text/plain": [
       "    Total Rainfall (mm)  Year   Statistics      Country\n",
       "0              64.77650  1991  Jan Average  Afghanistan\n",
       "1              59.40250  1991  Feb Average  Afghanistan\n",
       "2             119.62500  1991  Mar Average  Afghanistan\n",
       "3              51.80250  1991  Apr Average  Afghanistan\n",
       "4              57.24380  1991  May Average  Afghanistan\n",
       "5               5.58788  1991  Jun Average  Afghanistan\n",
       "6               4.39142  1991  Jul Average  Afghanistan\n",
       "7               4.66582  1991  Aug Average  Afghanistan\n",
       "8              12.63480  1991  Sep Average  Afghanistan\n",
       "9               4.09568  1991  Oct Average  Afghanistan\n",
       "10             12.66710  1991  Nov Average  Afghanistan\n",
       "11             38.55690  1991  Dec Average  Afghanistan"
      ]
     },
     "execution_count": 2,
     "metadata": {},
     "output_type": "execute_result"
    }
   ],
   "source": [
    "rainfall = pd.read_csv('raw data/WORLDBANK_rainfall.csv',skipinitialspace=True).rename(columns={'Rainfall - (MM)':'Total Rainfall (mm)'})\n",
    "rainfall.head(12)"
   ]
  },
  {
   "cell_type": "markdown",
   "id": "01f48511",
   "metadata": {},
   "source": [
    "#### Set universal country codes"
   ]
  },
  {
   "cell_type": "code",
   "execution_count": 3,
   "id": "60746283",
   "metadata": {
    "ExecuteTime": {
     "end_time": "2021-05-04T13:54:22.672950Z",
     "start_time": "2021-05-04T13:53:43.870149Z"
    }
   },
   "outputs": [
    {
     "data": {
      "text/html": [
       "<div>\n",
       "<style scoped>\n",
       "    .dataframe tbody tr th:only-of-type {\n",
       "        vertical-align: middle;\n",
       "    }\n",
       "\n",
       "    .dataframe tbody tr th {\n",
       "        vertical-align: top;\n",
       "    }\n",
       "\n",
       "    .dataframe thead th {\n",
       "        text-align: right;\n",
       "    }\n",
       "</style>\n",
       "<table border=\"1\" class=\"dataframe\">\n",
       "  <thead>\n",
       "    <tr style=\"text-align: right;\">\n",
       "      <th></th>\n",
       "      <th>Total Rainfall (mm)</th>\n",
       "      <th>Year</th>\n",
       "      <th>Statistics</th>\n",
       "      <th>Country</th>\n",
       "    </tr>\n",
       "  </thead>\n",
       "  <tbody>\n",
       "    <tr>\n",
       "      <th>0</th>\n",
       "      <td>64.7765</td>\n",
       "      <td>1991</td>\n",
       "      <td>Jan Average</td>\n",
       "      <td>AFG</td>\n",
       "    </tr>\n",
       "    <tr>\n",
       "      <th>1</th>\n",
       "      <td>59.4025</td>\n",
       "      <td>1991</td>\n",
       "      <td>Feb Average</td>\n",
       "      <td>AFG</td>\n",
       "    </tr>\n",
       "    <tr>\n",
       "      <th>2</th>\n",
       "      <td>119.6250</td>\n",
       "      <td>1991</td>\n",
       "      <td>Mar Average</td>\n",
       "      <td>AFG</td>\n",
       "    </tr>\n",
       "    <tr>\n",
       "      <th>3</th>\n",
       "      <td>51.8025</td>\n",
       "      <td>1991</td>\n",
       "      <td>Apr Average</td>\n",
       "      <td>AFG</td>\n",
       "    </tr>\n",
       "    <tr>\n",
       "      <th>4</th>\n",
       "      <td>57.2438</td>\n",
       "      <td>1991</td>\n",
       "      <td>May Average</td>\n",
       "      <td>AFG</td>\n",
       "    </tr>\n",
       "  </tbody>\n",
       "</table>\n",
       "</div>"
      ],
      "text/plain": [
       "   Total Rainfall (mm)  Year   Statistics Country\n",
       "0              64.7765  1991  Jan Average     AFG\n",
       "1              59.4025  1991  Feb Average     AFG\n",
       "2             119.6250  1991  Mar Average     AFG\n",
       "3              51.8025  1991  Apr Average     AFG\n",
       "4              57.2438  1991  May Average     AFG"
      ]
     },
     "execution_count": 3,
     "metadata": {},
     "output_type": "execute_result"
    }
   ],
   "source": [
    "rainfall.replace(to_replace = 'Congo (Republic of the)', value = 'Congo', inplace = True)\n",
    "rainfall['Country'] = coco.convert(names=rainfall['Country'], to='ISO3')\n",
    "rainfall.head()"
   ]
  },
  {
   "cell_type": "markdown",
   "id": "2277c25c",
   "metadata": {},
   "source": [
    "#### Clean rainfall"
   ]
  },
  {
   "cell_type": "code",
   "execution_count": 4,
   "id": "b63d3f51",
   "metadata": {
    "ExecuteTime": {
     "end_time": "2021-05-04T13:54:22.719960Z",
     "start_time": "2021-05-04T13:54:22.673950Z"
    }
   },
   "outputs": [
    {
     "data": {
      "text/html": [
       "<div>\n",
       "<style scoped>\n",
       "    .dataframe tbody tr th:only-of-type {\n",
       "        vertical-align: middle;\n",
       "    }\n",
       "\n",
       "    .dataframe tbody tr th {\n",
       "        vertical-align: top;\n",
       "    }\n",
       "\n",
       "    .dataframe thead th {\n",
       "        text-align: right;\n",
       "    }\n",
       "</style>\n",
       "<table border=\"1\" class=\"dataframe\">\n",
       "  <thead>\n",
       "    <tr style=\"text-align: right;\">\n",
       "      <th></th>\n",
       "      <th>Country</th>\n",
       "      <th>Year</th>\n",
       "      <th>Month</th>\n",
       "      <th>Total Rainfall (mm)</th>\n",
       "    </tr>\n",
       "  </thead>\n",
       "  <tbody>\n",
       "    <tr>\n",
       "      <th>0</th>\n",
       "      <td>AFG</td>\n",
       "      <td>1991</td>\n",
       "      <td>Jan</td>\n",
       "      <td>64.7765</td>\n",
       "    </tr>\n",
       "    <tr>\n",
       "      <th>1</th>\n",
       "      <td>AFG</td>\n",
       "      <td>1991</td>\n",
       "      <td>Feb</td>\n",
       "      <td>59.4025</td>\n",
       "    </tr>\n",
       "    <tr>\n",
       "      <th>2</th>\n",
       "      <td>AFG</td>\n",
       "      <td>1991</td>\n",
       "      <td>Mar</td>\n",
       "      <td>119.6250</td>\n",
       "    </tr>\n",
       "    <tr>\n",
       "      <th>3</th>\n",
       "      <td>AFG</td>\n",
       "      <td>1991</td>\n",
       "      <td>Apr</td>\n",
       "      <td>51.8025</td>\n",
       "    </tr>\n",
       "    <tr>\n",
       "      <th>4</th>\n",
       "      <td>AFG</td>\n",
       "      <td>1991</td>\n",
       "      <td>May</td>\n",
       "      <td>57.2438</td>\n",
       "    </tr>\n",
       "  </tbody>\n",
       "</table>\n",
       "</div>"
      ],
      "text/plain": [
       "  Country  Year Month  Total Rainfall (mm)\n",
       "0     AFG  1991   Jan              64.7765\n",
       "1     AFG  1991   Feb              59.4025\n",
       "2     AFG  1991   Mar             119.6250\n",
       "3     AFG  1991   Apr              51.8025\n",
       "4     AFG  1991   May              57.2438"
      ]
     },
     "execution_count": 4,
     "metadata": {},
     "output_type": "execute_result"
    }
   ],
   "source": [
    "rainfall = rainfall.rename(columns={'Statistics':'Month'})\n",
    "rainfall['Month'] = rainfall['Month'].map(lambda x: x.split(' ')[0])\n",
    "rainfall = rainfall[['Country','Year','Month','Total Rainfall (mm)']]\n",
    "rainfall.head()"
   ]
  },
  {
   "cell_type": "markdown",
   "id": "da3a709f",
   "metadata": {},
   "source": [
    "#### Annual rainfall"
   ]
  },
  {
   "cell_type": "code",
   "execution_count": 5,
   "id": "8803ce6f",
   "metadata": {
    "ExecuteTime": {
     "end_time": "2021-05-04T13:54:22.751967Z",
     "start_time": "2021-05-04T13:54:22.720961Z"
    }
   },
   "outputs": [
    {
     "data": {
      "text/html": [
       "<div>\n",
       "<style scoped>\n",
       "    .dataframe tbody tr th:only-of-type {\n",
       "        vertical-align: middle;\n",
       "    }\n",
       "\n",
       "    .dataframe tbody tr th {\n",
       "        vertical-align: top;\n",
       "    }\n",
       "\n",
       "    .dataframe thead th {\n",
       "        text-align: right;\n",
       "    }\n",
       "</style>\n",
       "<table border=\"1\" class=\"dataframe\">\n",
       "  <thead>\n",
       "    <tr style=\"text-align: right;\">\n",
       "      <th></th>\n",
       "      <th>Country</th>\n",
       "      <th>Year</th>\n",
       "      <th>Total Rainfall (mm)</th>\n",
       "    </tr>\n",
       "  </thead>\n",
       "  <tbody>\n",
       "    <tr>\n",
       "      <th>0</th>\n",
       "      <td>AFG</td>\n",
       "      <td>1991</td>\n",
       "      <td>435.44990</td>\n",
       "    </tr>\n",
       "    <tr>\n",
       "      <th>1</th>\n",
       "      <td>AFG</td>\n",
       "      <td>1992</td>\n",
       "      <td>408.15623</td>\n",
       "    </tr>\n",
       "    <tr>\n",
       "      <th>2</th>\n",
       "      <td>AFG</td>\n",
       "      <td>1993</td>\n",
       "      <td>317.08530</td>\n",
       "    </tr>\n",
       "    <tr>\n",
       "      <th>3</th>\n",
       "      <td>AFG</td>\n",
       "      <td>1994</td>\n",
       "      <td>342.22238</td>\n",
       "    </tr>\n",
       "    <tr>\n",
       "      <th>4</th>\n",
       "      <td>AFG</td>\n",
       "      <td>1995</td>\n",
       "      <td>300.89815</td>\n",
       "    </tr>\n",
       "  </tbody>\n",
       "</table>\n",
       "</div>"
      ],
      "text/plain": [
       "  Country  Year  Total Rainfall (mm)\n",
       "0     AFG  1991            435.44990\n",
       "1     AFG  1992            408.15623\n",
       "2     AFG  1993            317.08530\n",
       "3     AFG  1994            342.22238\n",
       "4     AFG  1995            300.89815"
      ]
     },
     "execution_count": 5,
     "metadata": {},
     "output_type": "execute_result"
    }
   ],
   "source": [
    "annual_rainfall = rainfall.groupby(['Country','Year']).sum()\n",
    "annual_rainfall.reset_index(inplace=True)\n",
    "annual_rainfall.head()"
   ]
  },
  {
   "cell_type": "markdown",
   "id": "39eff874",
   "metadata": {},
   "source": [
    "#### Average annual rainfall period 2013-2017"
   ]
  },
  {
   "cell_type": "code",
   "execution_count": 6,
   "id": "49c05a97",
   "metadata": {
    "ExecuteTime": {
     "end_time": "2021-05-04T13:54:22.767971Z",
     "start_time": "2021-05-04T13:54:22.752967Z"
    }
   },
   "outputs": [
    {
     "data": {
      "text/plain": [
       "Country\n",
       "AFG     353.323550\n",
       "AGO     958.376457\n",
       "ALB    1074.030807\n",
       "AND     791.158287\n",
       "ARE      70.675403\n",
       "Name: Total Rainfall (mm), dtype: float64"
      ]
     },
     "execution_count": 6,
     "metadata": {},
     "output_type": "execute_result"
    }
   ],
   "source": [
    "average_annual_rainfall = annual_rainfall[(annual_rainfall['Year'] > 2012) & (annual_rainfall['Year'] < 2016)].groupby('Country')['Total Rainfall (mm)'].mean()\n",
    "average_annual_rainfall.head()"
   ]
  },
  {
   "cell_type": "markdown",
   "id": "2d78da04",
   "metadata": {},
   "source": [
    "## Temperature"
   ]
  },
  {
   "cell_type": "markdown",
   "id": "80407c5f",
   "metadata": {},
   "source": [
    "#### Load Database"
   ]
  },
  {
   "cell_type": "code",
   "execution_count": 7,
   "id": "cfecd2ca",
   "metadata": {
    "ExecuteTime": {
     "end_time": "2021-05-04T13:54:22.830985Z",
     "start_time": "2021-05-04T13:54:22.769971Z"
    }
   },
   "outputs": [
    {
     "data": {
      "text/html": [
       "<div>\n",
       "<style scoped>\n",
       "    .dataframe tbody tr th:only-of-type {\n",
       "        vertical-align: middle;\n",
       "    }\n",
       "\n",
       "    .dataframe tbody tr th {\n",
       "        vertical-align: top;\n",
       "    }\n",
       "\n",
       "    .dataframe thead th {\n",
       "        text-align: right;\n",
       "    }\n",
       "</style>\n",
       "<table border=\"1\" class=\"dataframe\">\n",
       "  <thead>\n",
       "    <tr style=\"text-align: right;\">\n",
       "      <th></th>\n",
       "      <th>Temperature (°C)</th>\n",
       "      <th>Year</th>\n",
       "      <th>Statistics</th>\n",
       "      <th>Country</th>\n",
       "    </tr>\n",
       "  </thead>\n",
       "  <tbody>\n",
       "    <tr>\n",
       "      <th>0</th>\n",
       "      <td>-0.03110</td>\n",
       "      <td>1991</td>\n",
       "      <td>Jan Average</td>\n",
       "      <td>Afghanistan</td>\n",
       "    </tr>\n",
       "    <tr>\n",
       "      <th>1</th>\n",
       "      <td>1.43654</td>\n",
       "      <td>1991</td>\n",
       "      <td>Feb Average</td>\n",
       "      <td>Afghanistan</td>\n",
       "    </tr>\n",
       "    <tr>\n",
       "      <th>2</th>\n",
       "      <td>6.88685</td>\n",
       "      <td>1991</td>\n",
       "      <td>Mar Average</td>\n",
       "      <td>Afghanistan</td>\n",
       "    </tr>\n",
       "    <tr>\n",
       "      <th>3</th>\n",
       "      <td>12.93970</td>\n",
       "      <td>1991</td>\n",
       "      <td>Apr Average</td>\n",
       "      <td>Afghanistan</td>\n",
       "    </tr>\n",
       "    <tr>\n",
       "      <th>4</th>\n",
       "      <td>17.07550</td>\n",
       "      <td>1991</td>\n",
       "      <td>May Average</td>\n",
       "      <td>Afghanistan</td>\n",
       "    </tr>\n",
       "  </tbody>\n",
       "</table>\n",
       "</div>"
      ],
      "text/plain": [
       "   Temperature (°C)  Year   Statistics      Country\n",
       "0          -0.03110  1991  Jan Average  Afghanistan\n",
       "1           1.43654  1991  Feb Average  Afghanistan\n",
       "2           6.88685  1991  Mar Average  Afghanistan\n",
       "3          12.93970  1991  Apr Average  Afghanistan\n",
       "4          17.07550  1991  May Average  Afghanistan"
      ]
     },
     "execution_count": 7,
     "metadata": {},
     "output_type": "execute_result"
    }
   ],
   "source": [
    "temperature=pd.read_csv('raw data/WORLDBANK_temperature.csv',skipinitialspace=True).rename(columns={'Temperature - (Celsius)':'Temperature (°C)'})\n",
    "temperature.head()"
   ]
  },
  {
   "cell_type": "markdown",
   "id": "d9ea4c8e",
   "metadata": {},
   "source": [
    "#### Set universal country codes"
   ]
  },
  {
   "cell_type": "code",
   "execution_count": 8,
   "id": "f00df713",
   "metadata": {
    "ExecuteTime": {
     "end_time": "2021-05-04T13:55:01.948861Z",
     "start_time": "2021-05-04T13:54:22.832987Z"
    }
   },
   "outputs": [
    {
     "data": {
      "text/html": [
       "<div>\n",
       "<style scoped>\n",
       "    .dataframe tbody tr th:only-of-type {\n",
       "        vertical-align: middle;\n",
       "    }\n",
       "\n",
       "    .dataframe tbody tr th {\n",
       "        vertical-align: top;\n",
       "    }\n",
       "\n",
       "    .dataframe thead th {\n",
       "        text-align: right;\n",
       "    }\n",
       "</style>\n",
       "<table border=\"1\" class=\"dataframe\">\n",
       "  <thead>\n",
       "    <tr style=\"text-align: right;\">\n",
       "      <th></th>\n",
       "      <th>Temperature (°C)</th>\n",
       "      <th>Year</th>\n",
       "      <th>Statistics</th>\n",
       "      <th>Country</th>\n",
       "    </tr>\n",
       "  </thead>\n",
       "  <tbody>\n",
       "    <tr>\n",
       "      <th>0</th>\n",
       "      <td>-0.03110</td>\n",
       "      <td>1991</td>\n",
       "      <td>Jan Average</td>\n",
       "      <td>AFG</td>\n",
       "    </tr>\n",
       "    <tr>\n",
       "      <th>1</th>\n",
       "      <td>1.43654</td>\n",
       "      <td>1991</td>\n",
       "      <td>Feb Average</td>\n",
       "      <td>AFG</td>\n",
       "    </tr>\n",
       "    <tr>\n",
       "      <th>2</th>\n",
       "      <td>6.88685</td>\n",
       "      <td>1991</td>\n",
       "      <td>Mar Average</td>\n",
       "      <td>AFG</td>\n",
       "    </tr>\n",
       "    <tr>\n",
       "      <th>3</th>\n",
       "      <td>12.93970</td>\n",
       "      <td>1991</td>\n",
       "      <td>Apr Average</td>\n",
       "      <td>AFG</td>\n",
       "    </tr>\n",
       "    <tr>\n",
       "      <th>4</th>\n",
       "      <td>17.07550</td>\n",
       "      <td>1991</td>\n",
       "      <td>May Average</td>\n",
       "      <td>AFG</td>\n",
       "    </tr>\n",
       "  </tbody>\n",
       "</table>\n",
       "</div>"
      ],
      "text/plain": [
       "   Temperature (°C)  Year   Statistics Country\n",
       "0          -0.03110  1991  Jan Average     AFG\n",
       "1           1.43654  1991  Feb Average     AFG\n",
       "2           6.88685  1991  Mar Average     AFG\n",
       "3          12.93970  1991  Apr Average     AFG\n",
       "4          17.07550  1991  May Average     AFG"
      ]
     },
     "execution_count": 8,
     "metadata": {},
     "output_type": "execute_result"
    }
   ],
   "source": [
    "temperature.replace(to_replace = 'Congo (Republic of the)', value = 'Congo', inplace = True)\n",
    "temperature['Country'] = coco.convert(names=temperature['Country'], to='ISO3')\n",
    "temperature.head()"
   ]
  },
  {
   "cell_type": "markdown",
   "id": "05d6b96b",
   "metadata": {},
   "source": [
    "**Clean temperature**"
   ]
  },
  {
   "cell_type": "code",
   "execution_count": 9,
   "id": "a77953e2",
   "metadata": {
    "ExecuteTime": {
     "end_time": "2021-05-04T13:55:01.995872Z",
     "start_time": "2021-05-04T13:55:01.949862Z"
    }
   },
   "outputs": [
    {
     "data": {
      "text/html": [
       "<div>\n",
       "<style scoped>\n",
       "    .dataframe tbody tr th:only-of-type {\n",
       "        vertical-align: middle;\n",
       "    }\n",
       "\n",
       "    .dataframe tbody tr th {\n",
       "        vertical-align: top;\n",
       "    }\n",
       "\n",
       "    .dataframe thead th {\n",
       "        text-align: right;\n",
       "    }\n",
       "</style>\n",
       "<table border=\"1\" class=\"dataframe\">\n",
       "  <thead>\n",
       "    <tr style=\"text-align: right;\">\n",
       "      <th></th>\n",
       "      <th>Country</th>\n",
       "      <th>Year</th>\n",
       "      <th>Month</th>\n",
       "      <th>Temperature (°C)</th>\n",
       "    </tr>\n",
       "  </thead>\n",
       "  <tbody>\n",
       "    <tr>\n",
       "      <th>0</th>\n",
       "      <td>AFG</td>\n",
       "      <td>1991</td>\n",
       "      <td>Jan</td>\n",
       "      <td>-0.03110</td>\n",
       "    </tr>\n",
       "    <tr>\n",
       "      <th>1</th>\n",
       "      <td>AFG</td>\n",
       "      <td>1991</td>\n",
       "      <td>Feb</td>\n",
       "      <td>1.43654</td>\n",
       "    </tr>\n",
       "    <tr>\n",
       "      <th>2</th>\n",
       "      <td>AFG</td>\n",
       "      <td>1991</td>\n",
       "      <td>Mar</td>\n",
       "      <td>6.88685</td>\n",
       "    </tr>\n",
       "    <tr>\n",
       "      <th>3</th>\n",
       "      <td>AFG</td>\n",
       "      <td>1991</td>\n",
       "      <td>Apr</td>\n",
       "      <td>12.93970</td>\n",
       "    </tr>\n",
       "    <tr>\n",
       "      <th>4</th>\n",
       "      <td>AFG</td>\n",
       "      <td>1991</td>\n",
       "      <td>May</td>\n",
       "      <td>17.07550</td>\n",
       "    </tr>\n",
       "  </tbody>\n",
       "</table>\n",
       "</div>"
      ],
      "text/plain": [
       "  Country  Year Month  Temperature (°C)\n",
       "0     AFG  1991   Jan          -0.03110\n",
       "1     AFG  1991   Feb           1.43654\n",
       "2     AFG  1991   Mar           6.88685\n",
       "3     AFG  1991   Apr          12.93970\n",
       "4     AFG  1991   May          17.07550"
      ]
     },
     "execution_count": 9,
     "metadata": {},
     "output_type": "execute_result"
    }
   ],
   "source": [
    "temperature = temperature.rename(columns={'Statistics':'Month'})\n",
    "temperature = temperature[['Country','Year','Month','Temperature (°C)']]\n",
    "temperature['Month'] = temperature['Month'].map(lambda x: x.split(' ')[0])\n",
    "temperature.head()"
   ]
  },
  {
   "cell_type": "markdown",
   "id": "3d68f4d8",
   "metadata": {},
   "source": [
    "#### Average annual temperature"
   ]
  },
  {
   "cell_type": "markdown",
   "id": "e95f265a",
   "metadata": {},
   "source": [
    "add weights based on days in a month"
   ]
  },
  {
   "cell_type": "code",
   "execution_count": 10,
   "id": "cab770d9",
   "metadata": {
    "ExecuteTime": {
     "end_time": "2021-05-04T13:55:02.027879Z",
     "start_time": "2021-05-04T13:55:01.996872Z"
    }
   },
   "outputs": [
    {
     "data": {
      "text/html": [
       "<div>\n",
       "<style scoped>\n",
       "    .dataframe tbody tr th:only-of-type {\n",
       "        vertical-align: middle;\n",
       "    }\n",
       "\n",
       "    .dataframe tbody tr th {\n",
       "        vertical-align: top;\n",
       "    }\n",
       "\n",
       "    .dataframe thead th {\n",
       "        text-align: right;\n",
       "    }\n",
       "</style>\n",
       "<table border=\"1\" class=\"dataframe\">\n",
       "  <thead>\n",
       "    <tr style=\"text-align: right;\">\n",
       "      <th></th>\n",
       "      <th>Country</th>\n",
       "      <th>Year</th>\n",
       "      <th>Month</th>\n",
       "      <th>Temperature (°C)</th>\n",
       "      <th>Weight</th>\n",
       "    </tr>\n",
       "  </thead>\n",
       "  <tbody>\n",
       "    <tr>\n",
       "      <th>0</th>\n",
       "      <td>AFG</td>\n",
       "      <td>1991</td>\n",
       "      <td>Jan</td>\n",
       "      <td>-0.03110</td>\n",
       "      <td>31</td>\n",
       "    </tr>\n",
       "    <tr>\n",
       "      <th>1</th>\n",
       "      <td>AFG</td>\n",
       "      <td>1991</td>\n",
       "      <td>Feb</td>\n",
       "      <td>1.43654</td>\n",
       "      <td>28</td>\n",
       "    </tr>\n",
       "    <tr>\n",
       "      <th>2</th>\n",
       "      <td>AFG</td>\n",
       "      <td>1991</td>\n",
       "      <td>Mar</td>\n",
       "      <td>6.88685</td>\n",
       "      <td>31</td>\n",
       "    </tr>\n",
       "    <tr>\n",
       "      <th>3</th>\n",
       "      <td>AFG</td>\n",
       "      <td>1991</td>\n",
       "      <td>Apr</td>\n",
       "      <td>12.93970</td>\n",
       "      <td>30</td>\n",
       "    </tr>\n",
       "    <tr>\n",
       "      <th>4</th>\n",
       "      <td>AFG</td>\n",
       "      <td>1991</td>\n",
       "      <td>May</td>\n",
       "      <td>17.07550</td>\n",
       "      <td>31</td>\n",
       "    </tr>\n",
       "  </tbody>\n",
       "</table>\n",
       "</div>"
      ],
      "text/plain": [
       "  Country  Year Month  Temperature (°C)  Weight\n",
       "0     AFG  1991   Jan          -0.03110      31\n",
       "1     AFG  1991   Feb           1.43654      28\n",
       "2     AFG  1991   Mar           6.88685      31\n",
       "3     AFG  1991   Apr          12.93970      30\n",
       "4     AFG  1991   May          17.07550      31"
      ]
     },
     "execution_count": 10,
     "metadata": {},
     "output_type": "execute_result"
    }
   ],
   "source": [
    "weights = {'Jan':31, 'Feb':28, 'Mar':31, 'Apr':30, 'May':31, 'Jun':30,'Jul':31, 'Aug':31, 'Sep':30, 'Oct':31, 'Nov':30, 'Dec':31}\n",
    "temperature['Weight'] = temperature['Month'].map(weights)\n",
    "temperature.head()"
   ]
  },
  {
   "cell_type": "code",
   "execution_count": 11,
   "id": "c7c1f259",
   "metadata": {
    "ExecuteTime": {
     "end_time": "2021-05-04T13:55:03.552746Z",
     "start_time": "2021-05-04T13:55:02.028879Z"
    }
   },
   "outputs": [
    {
     "data": {
      "text/html": [
       "<div>\n",
       "<style scoped>\n",
       "    .dataframe tbody tr th:only-of-type {\n",
       "        vertical-align: middle;\n",
       "    }\n",
       "\n",
       "    .dataframe tbody tr th {\n",
       "        vertical-align: top;\n",
       "    }\n",
       "\n",
       "    .dataframe thead th {\n",
       "        text-align: right;\n",
       "    }\n",
       "</style>\n",
       "<table border=\"1\" class=\"dataframe\">\n",
       "  <thead>\n",
       "    <tr style=\"text-align: right;\">\n",
       "      <th></th>\n",
       "      <th>Country</th>\n",
       "      <th>Year</th>\n",
       "      <th>Temperature (°C)</th>\n",
       "    </tr>\n",
       "  </thead>\n",
       "  <tbody>\n",
       "    <tr>\n",
       "      <th>0</th>\n",
       "      <td>AFG</td>\n",
       "      <td>1991</td>\n",
       "      <td>12.958152</td>\n",
       "    </tr>\n",
       "    <tr>\n",
       "      <th>1</th>\n",
       "      <td>AFG</td>\n",
       "      <td>1992</td>\n",
       "      <td>12.598444</td>\n",
       "    </tr>\n",
       "    <tr>\n",
       "      <th>2</th>\n",
       "      <td>AFG</td>\n",
       "      <td>1993</td>\n",
       "      <td>13.016964</td>\n",
       "    </tr>\n",
       "    <tr>\n",
       "      <th>3</th>\n",
       "      <td>AFG</td>\n",
       "      <td>1994</td>\n",
       "      <td>13.150314</td>\n",
       "    </tr>\n",
       "    <tr>\n",
       "      <th>4</th>\n",
       "      <td>AFG</td>\n",
       "      <td>1995</td>\n",
       "      <td>13.095001</td>\n",
       "    </tr>\n",
       "  </tbody>\n",
       "</table>\n",
       "</div>"
      ],
      "text/plain": [
       "  Country  Year  Temperature (°C)\n",
       "0     AFG  1991         12.958152\n",
       "1     AFG  1992         12.598444\n",
       "2     AFG  1993         13.016964\n",
       "3     AFG  1994         13.150314\n",
       "4     AFG  1995         13.095001"
      ]
     },
     "execution_count": 11,
     "metadata": {},
     "output_type": "execute_result"
    }
   ],
   "source": [
    "annual_temperature = temperature.groupby(['Country','Year']).apply(lambda x: (x['Temperature (°C)'] * x['Weight']).sum() / x['Weight'].sum())\n",
    "annual_temperature = pd.DataFrame(annual_temperature).rename(columns={0:'Temperature (°C)'})\n",
    "annual_temperature.reset_index(inplace=True)\n",
    "annual_temperature.head()"
   ]
  },
  {
   "cell_type": "markdown",
   "id": "a29d3410",
   "metadata": {},
   "source": [
    "#### Average annual temperature 2013-2017"
   ]
  },
  {
   "cell_type": "code",
   "execution_count": 12,
   "id": "2be5db03",
   "metadata": {
    "ExecuteTime": {
     "end_time": "2021-05-04T13:55:03.568749Z",
     "start_time": "2021-05-04T13:55:03.553746Z"
    },
    "scrolled": true
   },
   "outputs": [
    {
     "data": {
      "text/plain": [
       "Country\n",
       "AFG    14.074742\n",
       "AGO    22.182196\n",
       "ALB    12.754647\n",
       "AND    12.402212\n",
       "ARE    28.010773\n",
       "Name: Temperature (°C), dtype: float64"
      ]
     },
     "execution_count": 12,
     "metadata": {},
     "output_type": "execute_result"
    }
   ],
   "source": [
    "average_annual_temperature = annual_temperature[(annual_temperature['Year'] > 2012) & (annual_temperature['Year'] < 2017)].groupby(\"Country\")['Temperature (°C)'].mean()\n",
    "average_annual_temperature.head()"
   ]
  },
  {
   "cell_type": "markdown",
   "id": "6fbbe090",
   "metadata": {},
   "source": [
    "## Water inflow"
   ]
  },
  {
   "cell_type": "markdown",
   "id": "0b89ec90",
   "metadata": {},
   "source": [
    "- **Total Internal Renewable Water Resources (IRWR)**: Long-term average annual flow of rivers and recharge of aquifers generated from endogenous precipitation. Double counting of surface water and groundwater resources is avoided by deducting the overlap from the sum of the surface water and groundwater resources. --> should correspond more or less with precipitation data\n",
    "- **Total External Renewable Water Resources (ERWR)**: That part of the country's long-term average annual renewable water resources that are not generated in the country. It includes inflows from upstream countries (groundwater and surface water), and part of the water of border lakes and/or rivers. ERWR take into account the quantity of flow reserved by upstream (incoming flow) and/or downstream (outflow) countries through formal or informal agreements or treaties. Therefore, it may vary with time. In extreme cases, it may be negative when the flow reserved to downstream countries is more than the incoming flow.\n",
    "- **Total Renewable Water Resources**: The sum of internal renewable water resources (IRWR) and external renewable water resources (ERWR). It corresponds to the maximum theoretical yearly amount of water available for a country at a given moment.\n",
    "- **Dependency ratio**: Indicator expressing the percent of total renewable water resources originating outside the country. This indicator may theoretically vary between 0% and 100%. A country with a dependency ratio equal to 0% does not receive any water from neighbouring countries. A country with a dependency ratio equal to 100% receives all its renewable water from upstream countries, without producing any of its own. This indicator does not consider the possible allocation of water to downstream countries. \n",
    "- **Total Exploitable Water Resources** (also called manageable water resources or water development potential) are considered to be available for development, taking into consideration factors such as: the economic and environmental feasibility of storing floodwater behind dams, extracting groundwater, the physical possibility of storing water that naturally flows out to the sea, and minimum flow requirements (navigation, environmental services, aquatic life, etc). Methods to assess exploitable water resources vary from country to country. --> maybe not as interesting as this allready takes into account socio-economic factors"
   ]
  },
  {
   "cell_type": "markdown",
   "id": "168096ad",
   "metadata": {},
   "source": [
    "#### Load database"
   ]
  },
  {
   "cell_type": "code",
   "execution_count": 13,
   "id": "bc03cb06",
   "metadata": {
    "ExecuteTime": {
     "end_time": "2021-05-04T13:55:03.584753Z",
     "start_time": "2021-05-04T13:55:03.569750Z"
    },
    "scrolled": true
   },
   "outputs": [
    {
     "data": {
      "text/html": [
       "<div>\n",
       "<style scoped>\n",
       "    .dataframe tbody tr th:only-of-type {\n",
       "        vertical-align: middle;\n",
       "    }\n",
       "\n",
       "    .dataframe tbody tr th {\n",
       "        vertical-align: top;\n",
       "    }\n",
       "\n",
       "    .dataframe thead th {\n",
       "        text-align: right;\n",
       "    }\n",
       "</style>\n",
       "<table border=\"1\" class=\"dataframe\">\n",
       "  <thead>\n",
       "    <tr style=\"text-align: right;\">\n",
       "      <th></th>\n",
       "      <th>Country</th>\n",
       "      <th>Area Id</th>\n",
       "      <th>Variable Name</th>\n",
       "      <th>Variable Id</th>\n",
       "      <th>Year</th>\n",
       "      <th>Value</th>\n",
       "      <th>Symbol</th>\n",
       "      <th>Md</th>\n",
       "    </tr>\n",
       "  </thead>\n",
       "  <tbody>\n",
       "    <tr>\n",
       "      <th>0</th>\n",
       "      <td>Afghanistan</td>\n",
       "      <td>4</td>\n",
       "      <td>Total internal renewable water resources (IRWR)</td>\n",
       "      <td>4157</td>\n",
       "      <td>2017</td>\n",
       "      <td>47.1500</td>\n",
       "      <td>E</td>\n",
       "      <td>NaN</td>\n",
       "    </tr>\n",
       "    <tr>\n",
       "      <th>1</th>\n",
       "      <td>Afghanistan</td>\n",
       "      <td>4</td>\n",
       "      <td>Water resources: total external renewable</td>\n",
       "      <td>4182</td>\n",
       "      <td>2017</td>\n",
       "      <td>18.1800</td>\n",
       "      <td>E</td>\n",
       "      <td>NaN</td>\n",
       "    </tr>\n",
       "    <tr>\n",
       "      <th>2</th>\n",
       "      <td>Afghanistan</td>\n",
       "      <td>4</td>\n",
       "      <td>Total renewable water resources</td>\n",
       "      <td>4188</td>\n",
       "      <td>2017</td>\n",
       "      <td>65.3300</td>\n",
       "      <td>E</td>\n",
       "      <td>NaN</td>\n",
       "    </tr>\n",
       "    <tr>\n",
       "      <th>3</th>\n",
       "      <td>Afghanistan</td>\n",
       "      <td>4</td>\n",
       "      <td>Dependency ratio</td>\n",
       "      <td>4192</td>\n",
       "      <td>2017</td>\n",
       "      <td>28.7226</td>\n",
       "      <td>E</td>\n",
       "      <td>NaN</td>\n",
       "    </tr>\n",
       "    <tr>\n",
       "      <th>4</th>\n",
       "      <td>Albania</td>\n",
       "      <td>8</td>\n",
       "      <td>Total internal renewable water resources (IRWR)</td>\n",
       "      <td>4157</td>\n",
       "      <td>2017</td>\n",
       "      <td>26.9000</td>\n",
       "      <td>E</td>\n",
       "      <td>NaN</td>\n",
       "    </tr>\n",
       "  </tbody>\n",
       "</table>\n",
       "</div>"
      ],
      "text/plain": [
       "       Country  Area Id                                    Variable Name  \\\n",
       "0  Afghanistan        4  Total internal renewable water resources (IRWR)   \n",
       "1  Afghanistan        4        Water resources: total external renewable   \n",
       "2  Afghanistan        4                  Total renewable water resources   \n",
       "3  Afghanistan        4                                 Dependency ratio   \n",
       "4      Albania        8  Total internal renewable water resources (IRWR)   \n",
       "\n",
       "   Variable Id  Year    Value Symbol  Md  \n",
       "0         4157  2017  47.1500      E NaN  \n",
       "1         4182  2017  18.1800      E NaN  \n",
       "2         4188  2017  65.3300      E NaN  \n",
       "3         4192  2017  28.7226      E NaN  \n",
       "4         4157  2017  26.9000      E NaN  "
      ]
     },
     "execution_count": 13,
     "metadata": {},
     "output_type": "execute_result"
    }
   ],
   "source": [
    "water_resources = pd.read_csv('raw data/AQUASTAT_water_resources.csv',nrows=835,index_col=False).rename(columns={'Area':'Country'})\n",
    "water_resources.head()"
   ]
  },
  {
   "cell_type": "markdown",
   "id": "06e787d0",
   "metadata": {},
   "source": [
    "#### Set universal country codes "
   ]
  },
  {
   "cell_type": "code",
   "execution_count": 14,
   "id": "4033249d",
   "metadata": {
    "ExecuteTime": {
     "end_time": "2021-05-04T13:55:04.221897Z",
     "start_time": "2021-05-04T13:55:03.585753Z"
    }
   },
   "outputs": [
    {
     "data": {
      "text/html": [
       "<div>\n",
       "<style scoped>\n",
       "    .dataframe tbody tr th:only-of-type {\n",
       "        vertical-align: middle;\n",
       "    }\n",
       "\n",
       "    .dataframe tbody tr th {\n",
       "        vertical-align: top;\n",
       "    }\n",
       "\n",
       "    .dataframe thead th {\n",
       "        text-align: right;\n",
       "    }\n",
       "</style>\n",
       "<table border=\"1\" class=\"dataframe\">\n",
       "  <thead>\n",
       "    <tr style=\"text-align: right;\">\n",
       "      <th></th>\n",
       "      <th>Country</th>\n",
       "      <th>Area Id</th>\n",
       "      <th>Variable Name</th>\n",
       "      <th>Variable Id</th>\n",
       "      <th>Year</th>\n",
       "      <th>Value</th>\n",
       "      <th>Symbol</th>\n",
       "      <th>Md</th>\n",
       "    </tr>\n",
       "  </thead>\n",
       "  <tbody>\n",
       "    <tr>\n",
       "      <th>0</th>\n",
       "      <td>AFG</td>\n",
       "      <td>4</td>\n",
       "      <td>Total internal renewable water resources (IRWR)</td>\n",
       "      <td>4157</td>\n",
       "      <td>2017</td>\n",
       "      <td>47.1500</td>\n",
       "      <td>E</td>\n",
       "      <td>NaN</td>\n",
       "    </tr>\n",
       "    <tr>\n",
       "      <th>1</th>\n",
       "      <td>AFG</td>\n",
       "      <td>4</td>\n",
       "      <td>Water resources: total external renewable</td>\n",
       "      <td>4182</td>\n",
       "      <td>2017</td>\n",
       "      <td>18.1800</td>\n",
       "      <td>E</td>\n",
       "      <td>NaN</td>\n",
       "    </tr>\n",
       "    <tr>\n",
       "      <th>2</th>\n",
       "      <td>AFG</td>\n",
       "      <td>4</td>\n",
       "      <td>Total renewable water resources</td>\n",
       "      <td>4188</td>\n",
       "      <td>2017</td>\n",
       "      <td>65.3300</td>\n",
       "      <td>E</td>\n",
       "      <td>NaN</td>\n",
       "    </tr>\n",
       "    <tr>\n",
       "      <th>3</th>\n",
       "      <td>AFG</td>\n",
       "      <td>4</td>\n",
       "      <td>Dependency ratio</td>\n",
       "      <td>4192</td>\n",
       "      <td>2017</td>\n",
       "      <td>28.7226</td>\n",
       "      <td>E</td>\n",
       "      <td>NaN</td>\n",
       "    </tr>\n",
       "    <tr>\n",
       "      <th>4</th>\n",
       "      <td>ALB</td>\n",
       "      <td>8</td>\n",
       "      <td>Total internal renewable water resources (IRWR)</td>\n",
       "      <td>4157</td>\n",
       "      <td>2017</td>\n",
       "      <td>26.9000</td>\n",
       "      <td>E</td>\n",
       "      <td>NaN</td>\n",
       "    </tr>\n",
       "  </tbody>\n",
       "</table>\n",
       "</div>"
      ],
      "text/plain": [
       "  Country  Area Id                                    Variable Name  \\\n",
       "0     AFG        4  Total internal renewable water resources (IRWR)   \n",
       "1     AFG        4        Water resources: total external renewable   \n",
       "2     AFG        4                  Total renewable water resources   \n",
       "3     AFG        4                                 Dependency ratio   \n",
       "4     ALB        8  Total internal renewable water resources (IRWR)   \n",
       "\n",
       "   Variable Id  Year    Value Symbol  Md  \n",
       "0         4157  2017  47.1500      E NaN  \n",
       "1         4182  2017  18.1800      E NaN  \n",
       "2         4188  2017  65.3300      E NaN  \n",
       "3         4192  2017  28.7226      E NaN  \n",
       "4         4157  2017  26.9000      E NaN  "
      ]
     },
     "execution_count": 14,
     "metadata": {},
     "output_type": "execute_result"
    }
   ],
   "source": [
    "water_resources.replace(to_replace = 'Grenade', value = 'Grenada', inplace = True)\n",
    "water_resources['Country'] = coco.convert(names=water_resources['Country'], to='ISO3')\n",
    "water_resources.head()"
   ]
  },
  {
   "cell_type": "markdown",
   "id": "51fad865",
   "metadata": {},
   "source": [
    "pivot table and rename + sort columns"
   ]
  },
  {
   "cell_type": "code",
   "execution_count": 15,
   "id": "3b34a5c6",
   "metadata": {
    "ExecuteTime": {
     "end_time": "2021-05-04T13:55:04.237901Z",
     "start_time": "2021-05-04T13:55:04.222897Z"
    },
    "scrolled": true
   },
   "outputs": [
    {
     "data": {
      "text/html": [
       "<div>\n",
       "<style scoped>\n",
       "    .dataframe tbody tr th:only-of-type {\n",
       "        vertical-align: middle;\n",
       "    }\n",
       "\n",
       "    .dataframe tbody tr th {\n",
       "        vertical-align: top;\n",
       "    }\n",
       "\n",
       "    .dataframe thead th {\n",
       "        text-align: right;\n",
       "    }\n",
       "</style>\n",
       "<table border=\"1\" class=\"dataframe\">\n",
       "  <thead>\n",
       "    <tr style=\"text-align: right;\">\n",
       "      <th>Variable Name</th>\n",
       "      <th>Total internal renewable water resources (IRWR)</th>\n",
       "      <th>Total external renewable water resources (ERWR)</th>\n",
       "      <th>Total renewable water resources</th>\n",
       "      <th>Dependency ratio</th>\n",
       "      <th>Total exploitable water resources</th>\n",
       "    </tr>\n",
       "    <tr>\n",
       "      <th>Country</th>\n",
       "      <th></th>\n",
       "      <th></th>\n",
       "      <th></th>\n",
       "      <th></th>\n",
       "      <th></th>\n",
       "    </tr>\n",
       "  </thead>\n",
       "  <tbody>\n",
       "    <tr>\n",
       "      <th>AFG</th>\n",
       "      <td>47.1500</td>\n",
       "      <td>18.18</td>\n",
       "      <td>65.3300</td>\n",
       "      <td>28.722600</td>\n",
       "      <td>NaN</td>\n",
       "    </tr>\n",
       "    <tr>\n",
       "      <th>AGO</th>\n",
       "      <td>148.0000</td>\n",
       "      <td>0.40</td>\n",
       "      <td>148.4000</td>\n",
       "      <td>0.269542</td>\n",
       "      <td>NaN</td>\n",
       "    </tr>\n",
       "    <tr>\n",
       "      <th>ALB</th>\n",
       "      <td>26.9000</td>\n",
       "      <td>3.30</td>\n",
       "      <td>30.2000</td>\n",
       "      <td>10.927152</td>\n",
       "      <td>13.0</td>\n",
       "    </tr>\n",
       "    <tr>\n",
       "      <th>AND</th>\n",
       "      <td>0.3156</td>\n",
       "      <td>NaN</td>\n",
       "      <td>0.3156</td>\n",
       "      <td>NaN</td>\n",
       "      <td>NaN</td>\n",
       "    </tr>\n",
       "    <tr>\n",
       "      <th>ARE</th>\n",
       "      <td>0.1500</td>\n",
       "      <td>0.00</td>\n",
       "      <td>0.1500</td>\n",
       "      <td>0.000000</td>\n",
       "      <td>NaN</td>\n",
       "    </tr>\n",
       "  </tbody>\n",
       "</table>\n",
       "</div>"
      ],
      "text/plain": [
       "Variable Name  Total internal renewable water resources (IRWR)  \\\n",
       "Country                                                          \n",
       "AFG                                                    47.1500   \n",
       "AGO                                                   148.0000   \n",
       "ALB                                                    26.9000   \n",
       "AND                                                     0.3156   \n",
       "ARE                                                     0.1500   \n",
       "\n",
       "Variable Name  Total external renewable water resources (ERWR)  \\\n",
       "Country                                                          \n",
       "AFG                                                      18.18   \n",
       "AGO                                                       0.40   \n",
       "ALB                                                       3.30   \n",
       "AND                                                        NaN   \n",
       "ARE                                                       0.00   \n",
       "\n",
       "Variable Name  Total renewable water resources  Dependency ratio  \\\n",
       "Country                                                            \n",
       "AFG                                    65.3300         28.722600   \n",
       "AGO                                   148.4000          0.269542   \n",
       "ALB                                    30.2000         10.927152   \n",
       "AND                                     0.3156               NaN   \n",
       "ARE                                     0.1500          0.000000   \n",
       "\n",
       "Variable Name  Total exploitable water resources  \n",
       "Country                                           \n",
       "AFG                                          NaN  \n",
       "AGO                                          NaN  \n",
       "ALB                                         13.0  \n",
       "AND                                          NaN  \n",
       "ARE                                          NaN  "
      ]
     },
     "execution_count": 15,
     "metadata": {},
     "output_type": "execute_result"
    }
   ],
   "source": [
    "water_resources = water_resources.pivot(index='Country', columns='Variable Name', values='Value').rename(columns={'Water resources: total external renewable':'Total external renewable water resources (ERWR)'})\n",
    "water_resources = water_resources[['Total internal renewable water resources (IRWR)','Total external renewable water resources (ERWR)','Total renewable water resources','Dependency ratio','Total exploitable water resources']]\n",
    "water_resources.head()"
   ]
  },
  {
   "cell_type": "markdown",
   "id": "2e162b33",
   "metadata": {},
   "source": [
    "## Merge Climate factors - 2013-2017"
   ]
  },
  {
   "cell_type": "code",
   "execution_count": 16,
   "id": "b3825df9",
   "metadata": {
    "ExecuteTime": {
     "end_time": "2021-05-04T13:55:04.253904Z",
     "start_time": "2021-05-04T13:55:04.238901Z"
    },
    "scrolled": true
   },
   "outputs": [
    {
     "data": {
      "text/html": [
       "<div>\n",
       "<style scoped>\n",
       "    .dataframe tbody tr th:only-of-type {\n",
       "        vertical-align: middle;\n",
       "    }\n",
       "\n",
       "    .dataframe tbody tr th {\n",
       "        vertical-align: top;\n",
       "    }\n",
       "\n",
       "    .dataframe thead th {\n",
       "        text-align: right;\n",
       "    }\n",
       "</style>\n",
       "<table border=\"1\" class=\"dataframe\">\n",
       "  <thead>\n",
       "    <tr style=\"text-align: right;\">\n",
       "      <th></th>\n",
       "      <th>Country</th>\n",
       "      <th>Temperature (°C)</th>\n",
       "      <th>Total Rainfall (mm)</th>\n",
       "      <th>Total internal renewable water resources (IRWR)</th>\n",
       "      <th>Total external renewable water resources (ERWR)</th>\n",
       "      <th>Total renewable water resources</th>\n",
       "      <th>Dependency ratio</th>\n",
       "      <th>Total exploitable water resources</th>\n",
       "    </tr>\n",
       "  </thead>\n",
       "  <tbody>\n",
       "    <tr>\n",
       "      <th>0</th>\n",
       "      <td>AFG</td>\n",
       "      <td>14.074742</td>\n",
       "      <td>353.323550</td>\n",
       "      <td>47.1500</td>\n",
       "      <td>18.18</td>\n",
       "      <td>65.3300</td>\n",
       "      <td>28.722600</td>\n",
       "      <td>NaN</td>\n",
       "    </tr>\n",
       "    <tr>\n",
       "      <th>1</th>\n",
       "      <td>AGO</td>\n",
       "      <td>22.182196</td>\n",
       "      <td>958.376457</td>\n",
       "      <td>148.0000</td>\n",
       "      <td>0.40</td>\n",
       "      <td>148.4000</td>\n",
       "      <td>0.269542</td>\n",
       "      <td>NaN</td>\n",
       "    </tr>\n",
       "    <tr>\n",
       "      <th>2</th>\n",
       "      <td>ALB</td>\n",
       "      <td>12.754647</td>\n",
       "      <td>1074.030807</td>\n",
       "      <td>26.9000</td>\n",
       "      <td>3.30</td>\n",
       "      <td>30.2000</td>\n",
       "      <td>10.927152</td>\n",
       "      <td>13.0</td>\n",
       "    </tr>\n",
       "    <tr>\n",
       "      <th>3</th>\n",
       "      <td>AND</td>\n",
       "      <td>12.402212</td>\n",
       "      <td>791.158287</td>\n",
       "      <td>0.3156</td>\n",
       "      <td>NaN</td>\n",
       "      <td>0.3156</td>\n",
       "      <td>NaN</td>\n",
       "      <td>NaN</td>\n",
       "    </tr>\n",
       "    <tr>\n",
       "      <th>4</th>\n",
       "      <td>ARE</td>\n",
       "      <td>28.010773</td>\n",
       "      <td>70.675403</td>\n",
       "      <td>0.1500</td>\n",
       "      <td>0.00</td>\n",
       "      <td>0.1500</td>\n",
       "      <td>0.000000</td>\n",
       "      <td>NaN</td>\n",
       "    </tr>\n",
       "  </tbody>\n",
       "</table>\n",
       "</div>"
      ],
      "text/plain": [
       "  Country  Temperature (°C)  Total Rainfall (mm)  \\\n",
       "0     AFG         14.074742           353.323550   \n",
       "1     AGO         22.182196           958.376457   \n",
       "2     ALB         12.754647          1074.030807   \n",
       "3     AND         12.402212           791.158287   \n",
       "4     ARE         28.010773            70.675403   \n",
       "\n",
       "   Total internal renewable water resources (IRWR)  \\\n",
       "0                                          47.1500   \n",
       "1                                         148.0000   \n",
       "2                                          26.9000   \n",
       "3                                           0.3156   \n",
       "4                                           0.1500   \n",
       "\n",
       "   Total external renewable water resources (ERWR)  \\\n",
       "0                                            18.18   \n",
       "1                                             0.40   \n",
       "2                                             3.30   \n",
       "3                                              NaN   \n",
       "4                                             0.00   \n",
       "\n",
       "   Total renewable water resources  Dependency ratio  \\\n",
       "0                          65.3300         28.722600   \n",
       "1                         148.4000          0.269542   \n",
       "2                          30.2000         10.927152   \n",
       "3                           0.3156               NaN   \n",
       "4                           0.1500          0.000000   \n",
       "\n",
       "   Total exploitable water resources  \n",
       "0                                NaN  \n",
       "1                                NaN  \n",
       "2                               13.0  \n",
       "3                                NaN  \n",
       "4                                NaN  "
      ]
     },
     "execution_count": 16,
     "metadata": {},
     "output_type": "execute_result"
    }
   ],
   "source": [
    "climate_factors = pd.merge(average_annual_temperature,average_annual_rainfall,left_index=True,right_index=True)\n",
    "climate_factors = pd.merge(climate_factors,water_resources,left_index=True,right_index=True,how='outer')\n",
    "climate_factors.reset_index(inplace=True)\n",
    "climate_factors.head()"
   ]
  },
  {
   "cell_type": "code",
   "execution_count": 17,
   "id": "5a5e9766",
   "metadata": {
    "ExecuteTime": {
     "end_time": "2021-05-04T13:55:04.269908Z",
     "start_time": "2021-05-04T13:55:04.254904Z"
    }
   },
   "outputs": [
    {
     "data": {
      "text/plain": [
       "Country                                              0\n",
       "Temperature (°C)                                     7\n",
       "Total Rainfall (mm)                                  7\n",
       "Total internal renewable water resources (IRWR)     19\n",
       "Total external renewable water resources (ERWR)      7\n",
       "Total renewable water resources                      5\n",
       "Dependency ratio                                     9\n",
       "Total exploitable water resources                  138\n",
       "dtype: int64"
      ]
     },
     "execution_count": 17,
     "metadata": {},
     "output_type": "execute_result"
    }
   ],
   "source": [
    "climate_factors.isna().sum()"
   ]
  },
  {
   "cell_type": "markdown",
   "id": "41b87333",
   "metadata": {},
   "source": [
    "#### export to csv"
   ]
  },
  {
   "cell_type": "code",
   "execution_count": 18,
   "id": "dense-subdivision",
   "metadata": {
    "ExecuteTime": {
     "end_time": "2021-05-04T13:55:04.285911Z",
     "start_time": "2021-05-04T13:55:04.270908Z"
    }
   },
   "outputs": [],
   "source": [
    "climate_factors.to_csv('clean data/climate_factors.csv')"
   ]
  },
  {
   "cell_type": "markdown",
   "id": "e6895796",
   "metadata": {},
   "source": [
    "## Left-overs"
   ]
  },
  {
   "cell_type": "code",
   "execution_count": 19,
   "id": "4fc830b6",
   "metadata": {
    "ExecuteTime": {
     "end_time": "2021-05-04T13:55:04.300915Z",
     "start_time": "2021-05-04T13:55:04.286912Z"
    }
   },
   "outputs": [
    {
     "name": "stdout",
     "output_type": "stream",
     "text": [
      "0\n"
     ]
    },
    {
     "data": {
      "text/plain": [
       "set()"
      ]
     },
     "execution_count": 19,
     "metadata": {},
     "output_type": "execute_result"
    }
   ],
   "source": [
    "print(len(set(average_annual_temperature.index.tolist()) - set(average_annual_rainfall.index.tolist())))\n",
    "set(average_annual_temperature.index.tolist()) - set(average_annual_rainfall.index.tolist())\n",
    "# all names here match :-)"
   ]
  },
  {
   "cell_type": "code",
   "execution_count": 20,
   "id": "7051941d",
   "metadata": {
    "ExecuteTime": {
     "end_time": "2021-05-04T13:55:04.316918Z",
     "start_time": "2021-05-04T13:55:04.301915Z"
    }
   },
   "outputs": [
    {
     "name": "stdout",
     "output_type": "stream",
     "text": [
      "202 195 195\n"
     ]
    }
   ],
   "source": [
    "print(len(climate_factors),len(average_annual_rainfall),len(average_annual_temperature))"
   ]
  },
  {
   "cell_type": "code",
   "execution_count": 21,
   "id": "16ab66e8",
   "metadata": {
    "ExecuteTime": {
     "end_time": "2021-05-04T13:55:04.332922Z",
     "start_time": "2021-05-04T13:55:04.317919Z"
    },
    "scrolled": true
   },
   "outputs": [
    {
     "data": {
      "text/plain": [
       "RangeIndex(start=0, stop=202, step=1)"
      ]
     },
     "execution_count": 21,
     "metadata": {},
     "output_type": "execute_result"
    }
   ],
   "source": [
    "climate_factors.index"
   ]
  },
  {
   "cell_type": "code",
   "execution_count": 22,
   "id": "25d7c547",
   "metadata": {
    "ExecuteTime": {
     "end_time": "2021-05-04T13:55:04.348926Z",
     "start_time": "2021-05-04T13:55:04.336923Z"
    }
   },
   "outputs": [
    {
     "data": {
      "text/plain": [
       "Index(['AFG', 'AGO', 'ALB', 'AND', 'ARE', 'ARG', 'ARM', 'ATG', 'AUS', 'AUT',\n",
       "       ...\n",
       "       'VAT', 'VCT', 'VEN', 'VNM', 'VUT', 'WSM', 'YEM', 'ZAF', 'ZMB', 'ZWE'],\n",
       "      dtype='object', name='Country', length=197)"
      ]
     },
     "execution_count": 22,
     "metadata": {},
     "output_type": "execute_result"
    }
   ],
   "source": [
    "water_resources.index"
   ]
  },
  {
   "cell_type": "code",
   "execution_count": 23,
   "id": "131c8778",
   "metadata": {
    "ExecuteTime": {
     "end_time": "2021-05-04T13:55:04.380933Z",
     "start_time": "2021-05-04T13:55:04.350926Z"
    }
   },
   "outputs": [
    {
     "data": {
      "text/html": [
       "<div>\n",
       "<style scoped>\n",
       "    .dataframe tbody tr th:only-of-type {\n",
       "        vertical-align: middle;\n",
       "    }\n",
       "\n",
       "    .dataframe tbody tr th {\n",
       "        vertical-align: top;\n",
       "    }\n",
       "\n",
       "    .dataframe thead th {\n",
       "        text-align: right;\n",
       "    }\n",
       "</style>\n",
       "<table border=\"1\" class=\"dataframe\">\n",
       "  <thead>\n",
       "    <tr style=\"text-align: right;\">\n",
       "      <th></th>\n",
       "      <th>Country</th>\n",
       "      <th>Temperature (°C)</th>\n",
       "      <th>Total Rainfall (mm)</th>\n",
       "      <th>Total internal renewable water resources (IRWR)_x</th>\n",
       "      <th>Total external renewable water resources (ERWR)_x</th>\n",
       "      <th>Total renewable water resources_x</th>\n",
       "      <th>Dependency ratio_x</th>\n",
       "      <th>Total exploitable water resources_x</th>\n",
       "      <th>Total internal renewable water resources (IRWR)_y</th>\n",
       "      <th>Total external renewable water resources (ERWR)_y</th>\n",
       "      <th>Total renewable water resources_y</th>\n",
       "      <th>Dependency ratio_y</th>\n",
       "      <th>Total exploitable water resources_y</th>\n",
       "    </tr>\n",
       "  </thead>\n",
       "  <tbody>\n",
       "    <tr>\n",
       "      <th>0</th>\n",
       "      <td>AFG</td>\n",
       "      <td>14.074742</td>\n",
       "      <td>353.323550</td>\n",
       "      <td>47.1500</td>\n",
       "      <td>18.18</td>\n",
       "      <td>65.3300</td>\n",
       "      <td>28.722600</td>\n",
       "      <td>NaN</td>\n",
       "      <td>NaN</td>\n",
       "      <td>NaN</td>\n",
       "      <td>NaN</td>\n",
       "      <td>NaN</td>\n",
       "      <td>NaN</td>\n",
       "    </tr>\n",
       "    <tr>\n",
       "      <th>1</th>\n",
       "      <td>AGO</td>\n",
       "      <td>22.182196</td>\n",
       "      <td>958.376457</td>\n",
       "      <td>148.0000</td>\n",
       "      <td>0.40</td>\n",
       "      <td>148.4000</td>\n",
       "      <td>0.269542</td>\n",
       "      <td>NaN</td>\n",
       "      <td>NaN</td>\n",
       "      <td>NaN</td>\n",
       "      <td>NaN</td>\n",
       "      <td>NaN</td>\n",
       "      <td>NaN</td>\n",
       "    </tr>\n",
       "    <tr>\n",
       "      <th>2</th>\n",
       "      <td>ALB</td>\n",
       "      <td>12.754647</td>\n",
       "      <td>1074.030807</td>\n",
       "      <td>26.9000</td>\n",
       "      <td>3.30</td>\n",
       "      <td>30.2000</td>\n",
       "      <td>10.927152</td>\n",
       "      <td>13.0</td>\n",
       "      <td>NaN</td>\n",
       "      <td>NaN</td>\n",
       "      <td>NaN</td>\n",
       "      <td>NaN</td>\n",
       "      <td>NaN</td>\n",
       "    </tr>\n",
       "    <tr>\n",
       "      <th>3</th>\n",
       "      <td>AND</td>\n",
       "      <td>12.402212</td>\n",
       "      <td>791.158287</td>\n",
       "      <td>0.3156</td>\n",
       "      <td>NaN</td>\n",
       "      <td>0.3156</td>\n",
       "      <td>NaN</td>\n",
       "      <td>NaN</td>\n",
       "      <td>NaN</td>\n",
       "      <td>NaN</td>\n",
       "      <td>NaN</td>\n",
       "      <td>NaN</td>\n",
       "      <td>NaN</td>\n",
       "    </tr>\n",
       "    <tr>\n",
       "      <th>4</th>\n",
       "      <td>ARE</td>\n",
       "      <td>28.010773</td>\n",
       "      <td>70.675403</td>\n",
       "      <td>0.1500</td>\n",
       "      <td>0.00</td>\n",
       "      <td>0.1500</td>\n",
       "      <td>0.000000</td>\n",
       "      <td>NaN</td>\n",
       "      <td>NaN</td>\n",
       "      <td>NaN</td>\n",
       "      <td>NaN</td>\n",
       "      <td>NaN</td>\n",
       "      <td>NaN</td>\n",
       "    </tr>\n",
       "  </tbody>\n",
       "</table>\n",
       "</div>"
      ],
      "text/plain": [
       "  Country  Temperature (°C)  Total Rainfall (mm)  \\\n",
       "0     AFG         14.074742           353.323550   \n",
       "1     AGO         22.182196           958.376457   \n",
       "2     ALB         12.754647          1074.030807   \n",
       "3     AND         12.402212           791.158287   \n",
       "4     ARE         28.010773            70.675403   \n",
       "\n",
       "   Total internal renewable water resources (IRWR)_x  \\\n",
       "0                                            47.1500   \n",
       "1                                           148.0000   \n",
       "2                                            26.9000   \n",
       "3                                             0.3156   \n",
       "4                                             0.1500   \n",
       "\n",
       "   Total external renewable water resources (ERWR)_x  \\\n",
       "0                                              18.18   \n",
       "1                                               0.40   \n",
       "2                                               3.30   \n",
       "3                                                NaN   \n",
       "4                                               0.00   \n",
       "\n",
       "   Total renewable water resources_x  Dependency ratio_x  \\\n",
       "0                            65.3300           28.722600   \n",
       "1                           148.4000            0.269542   \n",
       "2                            30.2000           10.927152   \n",
       "3                             0.3156                 NaN   \n",
       "4                             0.1500            0.000000   \n",
       "\n",
       "   Total exploitable water resources_x  \\\n",
       "0                                  NaN   \n",
       "1                                  NaN   \n",
       "2                                 13.0   \n",
       "3                                  NaN   \n",
       "4                                  NaN   \n",
       "\n",
       "   Total internal renewable water resources (IRWR)_y  \\\n",
       "0                                                NaN   \n",
       "1                                                NaN   \n",
       "2                                                NaN   \n",
       "3                                                NaN   \n",
       "4                                                NaN   \n",
       "\n",
       "   Total external renewable water resources (ERWR)_y  \\\n",
       "0                                                NaN   \n",
       "1                                                NaN   \n",
       "2                                                NaN   \n",
       "3                                                NaN   \n",
       "4                                                NaN   \n",
       "\n",
       "   Total renewable water resources_y  Dependency ratio_y  \\\n",
       "0                                NaN                 NaN   \n",
       "1                                NaN                 NaN   \n",
       "2                                NaN                 NaN   \n",
       "3                                NaN                 NaN   \n",
       "4                                NaN                 NaN   \n",
       "\n",
       "   Total exploitable water resources_y  \n",
       "0                                  NaN  \n",
       "1                                  NaN  \n",
       "2                                  NaN  \n",
       "3                                  NaN  \n",
       "4                                  NaN  "
      ]
     },
     "execution_count": 23,
     "metadata": {},
     "output_type": "execute_result"
    }
   ],
   "source": [
    "climate_factors1 = pd.merge(climate_factors,water_resources,left_index=True,right_index=True,how='outer')\n",
    "climate_factors1.head()"
   ]
  },
  {
   "cell_type": "code",
   "execution_count": 24,
   "id": "056c48de",
   "metadata": {
    "ExecuteTime": {
     "end_time": "2021-05-04T13:55:04.396936Z",
     "start_time": "2021-05-04T13:55:04.381933Z"
    }
   },
   "outputs": [
    {
     "data": {
      "text/plain": [
       "{0,\n",
       " 1,\n",
       " 2,\n",
       " 3,\n",
       " 4,\n",
       " 5,\n",
       " 6,\n",
       " 7,\n",
       " 8,\n",
       " 9,\n",
       " 10,\n",
       " 11,\n",
       " 12,\n",
       " 13,\n",
       " 14,\n",
       " 15,\n",
       " 16,\n",
       " 17,\n",
       " 18,\n",
       " 19,\n",
       " 20,\n",
       " 21,\n",
       " 22,\n",
       " 23,\n",
       " 24,\n",
       " 25,\n",
       " 26,\n",
       " 27,\n",
       " 28,\n",
       " 29,\n",
       " 30,\n",
       " 31,\n",
       " 32,\n",
       " 33,\n",
       " 34,\n",
       " 35,\n",
       " 36,\n",
       " 37,\n",
       " 38,\n",
       " 39,\n",
       " 40,\n",
       " 41,\n",
       " 42,\n",
       " 43,\n",
       " 44,\n",
       " 45,\n",
       " 46,\n",
       " 47,\n",
       " 48,\n",
       " 49,\n",
       " 50,\n",
       " 51,\n",
       " 52,\n",
       " 53,\n",
       " 54,\n",
       " 55,\n",
       " 56,\n",
       " 57,\n",
       " 58,\n",
       " 59,\n",
       " 60,\n",
       " 61,\n",
       " 62,\n",
       " 63,\n",
       " 64,\n",
       " 65,\n",
       " 66,\n",
       " 67,\n",
       " 68,\n",
       " 69,\n",
       " 70,\n",
       " 71,\n",
       " 72,\n",
       " 73,\n",
       " 74,\n",
       " 75,\n",
       " 76,\n",
       " 77,\n",
       " 78,\n",
       " 79,\n",
       " 80,\n",
       " 81,\n",
       " 82,\n",
       " 83,\n",
       " 84,\n",
       " 85,\n",
       " 86,\n",
       " 87,\n",
       " 88,\n",
       " 89,\n",
       " 90,\n",
       " 91,\n",
       " 92,\n",
       " 93,\n",
       " 94,\n",
       " 95,\n",
       " 96,\n",
       " 97,\n",
       " 98,\n",
       " 99,\n",
       " 100,\n",
       " 101,\n",
       " 102,\n",
       " 103,\n",
       " 104,\n",
       " 105,\n",
       " 106,\n",
       " 107,\n",
       " 108,\n",
       " 109,\n",
       " 110,\n",
       " 111,\n",
       " 112,\n",
       " 113,\n",
       " 114,\n",
       " 115,\n",
       " 116,\n",
       " 117,\n",
       " 118,\n",
       " 119,\n",
       " 120,\n",
       " 121,\n",
       " 122,\n",
       " 123,\n",
       " 124,\n",
       " 125,\n",
       " 126,\n",
       " 127,\n",
       " 128,\n",
       " 129,\n",
       " 130,\n",
       " 131,\n",
       " 132,\n",
       " 133,\n",
       " 134,\n",
       " 135,\n",
       " 136,\n",
       " 137,\n",
       " 138,\n",
       " 139,\n",
       " 140,\n",
       " 141,\n",
       " 142,\n",
       " 143,\n",
       " 144,\n",
       " 145,\n",
       " 146,\n",
       " 147,\n",
       " 148,\n",
       " 149,\n",
       " 150,\n",
       " 151,\n",
       " 152,\n",
       " 153,\n",
       " 154,\n",
       " 155,\n",
       " 156,\n",
       " 157,\n",
       " 158,\n",
       " 159,\n",
       " 160,\n",
       " 161,\n",
       " 162,\n",
       " 163,\n",
       " 164,\n",
       " 165,\n",
       " 166,\n",
       " 167,\n",
       " 168,\n",
       " 169,\n",
       " 170,\n",
       " 171,\n",
       " 172,\n",
       " 173,\n",
       " 174,\n",
       " 175,\n",
       " 176,\n",
       " 177,\n",
       " 178,\n",
       " 179,\n",
       " 180,\n",
       " 181,\n",
       " 182,\n",
       " 183,\n",
       " 184,\n",
       " 185,\n",
       " 186,\n",
       " 187,\n",
       " 188,\n",
       " 189,\n",
       " 190,\n",
       " 191,\n",
       " 192,\n",
       " 193,\n",
       " 194,\n",
       " 195,\n",
       " 196,\n",
       " 197,\n",
       " 198,\n",
       " 199,\n",
       " 200,\n",
       " 201}"
      ]
     },
     "execution_count": 24,
     "metadata": {},
     "output_type": "execute_result"
    }
   ],
   "source": [
    "len(set(climate_factors.index.tolist()) - set(water_resources.index.tolist()))\n",
    "set(climate_factors.index.tolist()) - set(water_resources.index.tolist())\n",
    "# 32 countries with different names, shown here"
   ]
  },
  {
   "cell_type": "code",
   "execution_count": 25,
   "id": "876b2437",
   "metadata": {
    "ExecuteTime": {
     "end_time": "2021-05-04T13:55:04.412940Z",
     "start_time": "2021-05-04T13:55:04.397937Z"
    }
   },
   "outputs": [],
   "source": [
    "namematches = list(set(climate_factors.index.tolist()) & set(water_resources.index.tolist()))"
   ]
  },
  {
   "cell_type": "code",
   "execution_count": 26,
   "id": "4062f9e3",
   "metadata": {
    "ExecuteTime": {
     "end_time": "2021-05-04T13:55:04.428943Z",
     "start_time": "2021-05-04T13:55:04.413940Z"
    }
   },
   "outputs": [
    {
     "data": {
      "text/html": [
       "<div>\n",
       "<style scoped>\n",
       "    .dataframe tbody tr th:only-of-type {\n",
       "        vertical-align: middle;\n",
       "    }\n",
       "\n",
       "    .dataframe tbody tr th {\n",
       "        vertical-align: top;\n",
       "    }\n",
       "\n",
       "    .dataframe thead th {\n",
       "        text-align: right;\n",
       "    }\n",
       "</style>\n",
       "<table border=\"1\" class=\"dataframe\">\n",
       "  <thead>\n",
       "    <tr style=\"text-align: right;\">\n",
       "      <th></th>\n",
       "      <th>Country</th>\n",
       "      <th>Temperature (°C)</th>\n",
       "      <th>Total Rainfall (mm)</th>\n",
       "      <th>Total internal renewable water resources (IRWR)_x</th>\n",
       "      <th>Total external renewable water resources (ERWR)_x</th>\n",
       "      <th>Total renewable water resources_x</th>\n",
       "      <th>Dependency ratio_x</th>\n",
       "      <th>Total exploitable water resources_x</th>\n",
       "      <th>Total internal renewable water resources (IRWR)_y</th>\n",
       "      <th>Total external renewable water resources (ERWR)_y</th>\n",
       "      <th>Total renewable water resources_y</th>\n",
       "      <th>Dependency ratio_y</th>\n",
       "      <th>Total exploitable water resources_y</th>\n",
       "    </tr>\n",
       "  </thead>\n",
       "  <tbody>\n",
       "  </tbody>\n",
       "</table>\n",
       "</div>"
      ],
      "text/plain": [
       "Empty DataFrame\n",
       "Columns: [Country, Temperature (°C), Total Rainfall (mm), Total internal renewable water resources (IRWR)_x, Total external renewable water resources (ERWR)_x, Total renewable water resources_x, Dependency ratio_x, Total exploitable water resources_x, Total internal renewable water resources (IRWR)_y, Total external renewable water resources (ERWR)_y, Total renewable water resources_y, Dependency ratio_y, Total exploitable water resources_y]\n",
       "Index: []"
      ]
     },
     "execution_count": 26,
     "metadata": {},
     "output_type": "execute_result"
    }
   ],
   "source": [
    "climate_factors2 = pd.merge(climate_factors.loc[namematches],water_resources.loc[namematches],left_index=True,right_index=True,how='outer')\n",
    "climate_factors2.head()"
   ]
  },
  {
   "cell_type": "code",
   "execution_count": 27,
   "id": "888a3a05",
   "metadata": {
    "ExecuteTime": {
     "end_time": "2021-05-04T13:55:04.444947Z",
     "start_time": "2021-05-04T13:55:04.429944Z"
    }
   },
   "outputs": [
    {
     "name": "stdout",
     "output_type": "stream",
     "text": [
      "399\n",
      "0\n",
      "202\n"
     ]
    }
   ],
   "source": [
    "print(len(climate_factors1))\n",
    "print(len(climate_factors2))\n",
    "print(len(climate_factors))"
   ]
  },
  {
   "cell_type": "code",
   "execution_count": 28,
   "id": "c8b2998b",
   "metadata": {
    "ExecuteTime": {
     "end_time": "2021-05-04T13:55:04.460951Z",
     "start_time": "2021-05-04T13:55:04.445948Z"
    }
   },
   "outputs": [
    {
     "data": {
      "text/plain": [
       "Country                                              0.0\n",
       "Temperature (°C)                                     0.0\n",
       "Total Rainfall (mm)                                  0.0\n",
       "Total internal renewable water resources (IRWR)_x    0.0\n",
       "Total external renewable water resources (ERWR)_x    0.0\n",
       "Total renewable water resources_x                    0.0\n",
       "Dependency ratio_x                                   0.0\n",
       "Total exploitable water resources_x                  0.0\n",
       "Total internal renewable water resources (IRWR)_y    0.0\n",
       "Total external renewable water resources (ERWR)_y    0.0\n",
       "Total renewable water resources_y                    0.0\n",
       "Dependency ratio_y                                   0.0\n",
       "Total exploitable water resources_y                  0.0\n",
       "dtype: float64"
      ]
     },
     "execution_count": 28,
     "metadata": {},
     "output_type": "execute_result"
    }
   ],
   "source": [
    "climate_factors2.isnull().sum() # no missingness anywhere\n"
   ]
  },
  {
   "cell_type": "code",
   "execution_count": 29,
   "id": "ca9c6022",
   "metadata": {
    "ExecuteTime": {
     "end_time": "2021-05-04T13:55:04.492958Z",
     "start_time": "2021-05-04T13:55:04.461951Z"
    }
   },
   "outputs": [
    {
     "name": "stdout",
     "output_type": "stream",
     "text": [
      "[  0   1   2   3   4   5   6   7   8   9  10  11  12  13  14  15  16  17\n",
      "  18  19  20  21  22  23  24  25  26  27  28  29  30  31  32  33  34  35\n",
      "  36  37  38  39  40  41  42  43  44  45  46  47  48  49  50  51  52  53\n",
      "  54  55  56  57  58  59  60  61  62  63  64  65  66  67  68  69  70  71\n",
      "  72  73  74  75  76  77  78  79  80  81  82  83  84  85  86  87  88  89\n",
      "  90  91  92  93  94  95  96  97  98  99 100 101 102 103 104 105 106 107\n",
      " 108 109 110 111 112 113 114 115 116 117 118 119 120 121 122 123 124 125\n",
      " 126 127 128 129 130 131 132 133 134 135 136 137 138 139 140 141 142 143\n",
      " 144 145 146 147 148 149 150 151 152 153 154 155 156 157 158 159 160 161\n",
      " 162 163 164 165 166 167 168 169 170 171 172 173 174 175 176 177 178 179\n",
      " 180 181 182 183 184 185 186 187 188 189 190 191 192 193 194 195 196 197\n",
      " 198 199 200 201]\n"
     ]
    },
    {
     "name": "stderr",
     "output_type": "stream",
     "text": [
      "C:\\Users\\Andreas\\anaconda3\\lib\\site-packages\\numpy\\lib\\arraysetops.py:579: FutureWarning: elementwise comparison failed; returning scalar instead, but in the future will perform elementwise comparison\n",
      "  mask &= (ar1 != a)\n"
     ]
    }
   ],
   "source": [
    "diffset1 = np.setdiff1d(climate_factors.index,water_resources.index) # elements in climate not in water\n",
    "print(diffset1)"
   ]
  },
  {
   "cell_type": "code",
   "execution_count": 30,
   "id": "d877aac3",
   "metadata": {
    "ExecuteTime": {
     "end_time": "2021-05-04T13:55:04.508962Z",
     "start_time": "2021-05-04T13:55:04.493959Z"
    }
   },
   "outputs": [
    {
     "name": "stdout",
     "output_type": "stream",
     "text": [
      "['AFG' 'AGO' 'ALB' 'AND' 'ARE' 'ARG' 'ARM' 'ATG' 'AUS' 'AUT' 'AZE' 'BDI'\n",
      " 'BEL' 'BEN' 'BFA' 'BGD' 'BGR' 'BHR' 'BHS' 'BIH' 'BLR' 'BLZ' 'BOL' 'BRA'\n",
      " 'BRB' 'BRN' 'BTN' 'BWA' 'CAF' 'CAN' 'CHE' 'CHL' 'CHN' 'CIV' 'CMR' 'COD'\n",
      " 'COG' 'COK' 'COL' 'COM' 'CPV' 'CRI' 'CUB' 'CYP' 'CZE' 'DEU' 'DJI' 'DMA'\n",
      " 'DNK' 'DOM' 'DZA' 'ECU' 'EGY' 'ERI' 'ESP' 'EST' 'ETH' 'FIN' 'FJI' 'FRA'\n",
      " 'FRO' 'FSM' 'GAB' 'GBR' 'GEO' 'GHA' 'GIN' 'GMB' 'GNB' 'GNQ' 'GRC' 'GRD'\n",
      " 'GTM' 'GUY' 'HND' 'HRV' 'HTI' 'HUN' 'IDN' 'IND' 'IRL' 'IRN' 'IRQ' 'ISL'\n",
      " 'ISR' 'ITA' 'JAM' 'JOR' 'JPN' 'KAZ' 'KEN' 'KGZ' 'KHM' 'KIR' 'KNA' 'KOR'\n",
      " 'KWT' 'LAO' 'LBN' 'LBR' 'LBY' 'LCA' 'LIE' 'LKA' 'LSO' 'LTU' 'LUX' 'LVA'\n",
      " 'MAR' 'MDA' 'MDG' 'MDV' 'MEX' 'MHL' 'MKD' 'MLI' 'MLT' 'MMR' 'MNG' 'MOZ'\n",
      " 'MRT' 'MUS' 'MWI' 'MYS' 'NAM' 'NER' 'NGA' 'NIC' 'NIU' 'NLD' 'NOR' 'NPL'\n",
      " 'NRU' 'NZL' 'OMN' 'PAK' 'PAN' 'PER' 'PHL' 'PLW' 'PNG' 'POL' 'PRI' 'PRK'\n",
      " 'PRT' 'PRY' 'PSE' 'QAT' 'ROU' 'RUS' 'RWA' 'SAU' 'SDN' 'SEN' 'SGP' 'SLB'\n",
      " 'SLE' 'SLV' 'SOM' 'SRB' 'SSD' 'STP' 'SUR' 'SVK' 'SVN' 'SWE' 'SWZ' 'SYC'\n",
      " 'SYR' 'TCD' 'TGO' 'THA' 'TJK' 'TKL' 'TKM' 'TLS' 'TON' 'TTO' 'TUN' 'TUR'\n",
      " 'TUV' 'TZA' 'UGA' 'UKR' 'URY' 'USA' 'UZB' 'VAT' 'VCT' 'VEN' 'VNM' 'VUT'\n",
      " 'WSM' 'YEM' 'ZAF' 'ZMB' 'ZWE']\n"
     ]
    }
   ],
   "source": [
    "diffset2 = np.setdiff1d(water_resources.index,climate_factors.index) # elements in water not in climate\n",
    "print(diffset2)"
   ]
  },
  {
   "cell_type": "code",
   "execution_count": 31,
   "id": "e42b025d",
   "metadata": {
    "ExecuteTime": {
     "end_time": "2021-05-04T13:55:04.524965Z",
     "start_time": "2021-05-04T13:55:04.509962Z"
    }
   },
   "outputs": [
    {
     "data": {
      "text/plain": [
       "'AFG'"
      ]
     },
     "execution_count": 31,
     "metadata": {},
     "output_type": "execute_result"
    }
   ],
   "source": [
    "diffset2[0]"
   ]
  },
  {
   "cell_type": "code",
   "execution_count": 32,
   "id": "da54ef91",
   "metadata": {
    "ExecuteTime": {
     "end_time": "2021-05-04T13:55:04.540969Z",
     "start_time": "2021-05-04T13:55:04.525966Z"
    }
   },
   "outputs": [],
   "source": [
    "test = re.sub(\"[\\(\\[].*?[\\)\\]]\", \"\", diffset2[0])"
   ]
  },
  {
   "cell_type": "code",
   "execution_count": 33,
   "id": "2042ac99",
   "metadata": {
    "ExecuteTime": {
     "end_time": "2021-05-04T13:55:04.556972Z",
     "start_time": "2021-05-04T13:55:04.541969Z"
    }
   },
   "outputs": [
    {
     "data": {
      "text/plain": [
       "'AFG'"
      ]
     },
     "execution_count": 33,
     "metadata": {},
     "output_type": "execute_result"
    }
   ],
   "source": [
    "re.sub(\"[ \\t]+$\",\"\",test)"
   ]
  },
  {
   "cell_type": "code",
   "execution_count": 34,
   "id": "5dbdf55f",
   "metadata": {
    "ExecuteTime": {
     "end_time": "2021-05-04T13:55:05.084092Z",
     "start_time": "2021-05-04T13:55:04.557973Z"
    }
   },
   "outputs": [
    {
     "ename": "TypeError",
     "evalue": "cannot use a string pattern on a bytes-like object",
     "output_type": "error",
     "traceback": [
      "\u001b[1;31m---------------------------------------------------------------------------\u001b[0m",
      "\u001b[1;31mTypeError\u001b[0m                                 Traceback (most recent call last)",
      "\u001b[1;32m<ipython-input-34-ab95aa647e2b>\u001b[0m in \u001b[0;36m<module>\u001b[1;34m\u001b[0m\n\u001b[0;32m      4\u001b[0m \u001b[1;33m\u001b[0m\u001b[0m\n\u001b[0;32m      5\u001b[0m \u001b[1;32mfor\u001b[0m \u001b[0mcountry\u001b[0m \u001b[1;32min\u001b[0m \u001b[0mrange\u001b[0m\u001b[1;33m(\u001b[0m\u001b[0mlen\u001b[0m\u001b[1;33m(\u001b[0m\u001b[0mdiffset1\u001b[0m\u001b[1;33m)\u001b[0m\u001b[1;33m)\u001b[0m\u001b[1;33m:\u001b[0m\u001b[1;33m\u001b[0m\u001b[1;33m\u001b[0m\u001b[0m\n\u001b[1;32m----> 6\u001b[1;33m   \u001b[0mtemp1\u001b[0m \u001b[1;33m=\u001b[0m \u001b[0mre\u001b[0m\u001b[1;33m.\u001b[0m\u001b[0msub\u001b[0m\u001b[1;33m(\u001b[0m\u001b[1;34m\"[\\(\\[].*?[\\)\\]]\"\u001b[0m\u001b[1;33m,\u001b[0m \u001b[1;34m\"\"\u001b[0m\u001b[1;33m,\u001b[0m \u001b[0mdiffset1\u001b[0m\u001b[1;33m[\u001b[0m\u001b[0mcountry\u001b[0m\u001b[1;33m]\u001b[0m\u001b[1;33m)\u001b[0m\u001b[1;33m\u001b[0m\u001b[1;33m\u001b[0m\u001b[0m\n\u001b[0m\u001b[0;32m      7\u001b[0m   \u001b[0mdiffset1\u001b[0m\u001b[1;33m[\u001b[0m\u001b[0mcountry\u001b[0m\u001b[1;33m]\u001b[0m \u001b[1;33m=\u001b[0m \u001b[0mre\u001b[0m\u001b[1;33m.\u001b[0m\u001b[0msub\u001b[0m\u001b[1;33m(\u001b[0m\u001b[1;34m\"[ \\t]+$\"\u001b[0m\u001b[1;33m,\u001b[0m\u001b[1;34m\"\"\u001b[0m\u001b[1;33m,\u001b[0m\u001b[0mtemp1\u001b[0m\u001b[1;33m)\u001b[0m\u001b[1;33m\u001b[0m\u001b[1;33m\u001b[0m\u001b[0m\n",
      "\u001b[1;32m~\\anaconda3\\lib\\re.py\u001b[0m in \u001b[0;36msub\u001b[1;34m(pattern, repl, string, count, flags)\u001b[0m\n\u001b[0;32m    208\u001b[0m     \u001b[0ma\u001b[0m \u001b[0mcallable\u001b[0m\u001b[1;33m,\u001b[0m \u001b[0mit\u001b[0m\u001b[0;31m'\u001b[0m\u001b[0ms\u001b[0m \u001b[0mpassed\u001b[0m \u001b[0mthe\u001b[0m \u001b[0mMatch\u001b[0m \u001b[0mobject\u001b[0m \u001b[1;32mand\u001b[0m \u001b[0mmust\u001b[0m \u001b[1;32mreturn\u001b[0m\u001b[1;33m\u001b[0m\u001b[1;33m\u001b[0m\u001b[0m\n\u001b[0;32m    209\u001b[0m     a replacement string to be used.\"\"\"\n\u001b[1;32m--> 210\u001b[1;33m     \u001b[1;32mreturn\u001b[0m \u001b[0m_compile\u001b[0m\u001b[1;33m(\u001b[0m\u001b[0mpattern\u001b[0m\u001b[1;33m,\u001b[0m \u001b[0mflags\u001b[0m\u001b[1;33m)\u001b[0m\u001b[1;33m.\u001b[0m\u001b[0msub\u001b[0m\u001b[1;33m(\u001b[0m\u001b[0mrepl\u001b[0m\u001b[1;33m,\u001b[0m \u001b[0mstring\u001b[0m\u001b[1;33m,\u001b[0m \u001b[0mcount\u001b[0m\u001b[1;33m)\u001b[0m\u001b[1;33m\u001b[0m\u001b[1;33m\u001b[0m\u001b[0m\n\u001b[0m\u001b[0;32m    211\u001b[0m \u001b[1;33m\u001b[0m\u001b[0m\n\u001b[0;32m    212\u001b[0m \u001b[1;32mdef\u001b[0m \u001b[0msubn\u001b[0m\u001b[1;33m(\u001b[0m\u001b[0mpattern\u001b[0m\u001b[1;33m,\u001b[0m \u001b[0mrepl\u001b[0m\u001b[1;33m,\u001b[0m \u001b[0mstring\u001b[0m\u001b[1;33m,\u001b[0m \u001b[0mcount\u001b[0m\u001b[1;33m=\u001b[0m\u001b[1;36m0\u001b[0m\u001b[1;33m,\u001b[0m \u001b[0mflags\u001b[0m\u001b[1;33m=\u001b[0m\u001b[1;36m0\u001b[0m\u001b[1;33m)\u001b[0m\u001b[1;33m:\u001b[0m\u001b[1;33m\u001b[0m\u001b[1;33m\u001b[0m\u001b[0m\n",
      "\u001b[1;31mTypeError\u001b[0m: cannot use a string pattern on a bytes-like object"
     ]
    }
   ],
   "source": [
    "for country in range(len(diffset2)):\n",
    "  temp1 = re.sub(\"[\\(\\[].*?[\\)\\]]\", \"\", diffset2[country])\n",
    "  diffset2[country] = re.sub(\"[ \\t]+$\",\"\",temp1)\n",
    "    \n",
    "for country in range(len(diffset1)):\n",
    "  temp1 = re.sub(\"[\\(\\[].*?[\\)\\]]\", \"\", diffset1[country])\n",
    "  diffset1[country] = re.sub(\"[ \\t]+$\",\"\",temp1)"
   ]
  },
  {
   "cell_type": "code",
   "execution_count": null,
   "id": "e92cae3a",
   "metadata": {
    "ExecuteTime": {
     "end_time": "2021-05-04T13:55:05.091094Z",
     "start_time": "2021-05-04T13:53:43.337Z"
    }
   },
   "outputs": [],
   "source": [
    "np.setdiff1d(diffset1,diffset2) # elements in climate not in water\n"
   ]
  },
  {
   "cell_type": "code",
   "execution_count": null,
   "id": "0abd3c18",
   "metadata": {},
   "outputs": [],
   "source": []
  },
  {
   "cell_type": "code",
   "execution_count": null,
   "id": "5b6c3ff1",
   "metadata": {},
   "outputs": [],
   "source": []
  }
 ],
 "metadata": {
  "kernelspec": {
   "display_name": "Python 3",
   "language": "python",
   "name": "python3"
  },
  "language_info": {
   "codemirror_mode": {
    "name": "ipython",
    "version": 3
   },
   "file_extension": ".py",
   "mimetype": "text/x-python",
   "name": "python",
   "nbconvert_exporter": "python",
   "pygments_lexer": "ipython3",
   "version": "3.8.8"
  },
  "toc": {
   "base_numbering": 1,
   "nav_menu": {},
   "number_sections": false,
   "sideBar": true,
   "skip_h1_title": true,
   "title_cell": "Table of Contents",
   "title_sidebar": "Contents",
   "toc_cell": false,
   "toc_position": {},
   "toc_section_display": true,
   "toc_window_display": false
  },
  "varInspector": {
   "cols": {
    "lenName": 16,
    "lenType": 16,
    "lenVar": 40
   },
   "kernels_config": {
    "python": {
     "delete_cmd_postfix": "",
     "delete_cmd_prefix": "del ",
     "library": "var_list.py",
     "varRefreshCmd": "print(var_dic_list())"
    },
    "r": {
     "delete_cmd_postfix": ") ",
     "delete_cmd_prefix": "rm(",
     "library": "var_list.r",
     "varRefreshCmd": "cat(var_dic_list()) "
    }
   },
   "types_to_exclude": [
    "module",
    "function",
    "builtin_function_or_method",
    "instance",
    "_Feature"
   ],
   "window_display": false
  }
 },
 "nbformat": 4,
 "nbformat_minor": 5
}
