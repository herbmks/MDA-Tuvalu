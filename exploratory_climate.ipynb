{
 "cells": [
  {
   "cell_type": "markdown",
   "metadata": {},
   "source": [
    "# Exploratory data analysis climate factors"
   ]
  },
  {
   "cell_type": "markdown",
   "metadata": {},
   "source": [
    "## Import statements & data reading"
   ]
  },
  {
   "cell_type": "code",
   "execution_count": 35,
   "metadata": {},
   "outputs": [],
   "source": [
    "import pandas as pd\n",
    "import matplotlib.pyplot as plt\n",
    "import seaborn as sns"
   ]
  },
  {
   "cell_type": "code",
   "execution_count": 44,
   "metadata": {},
   "outputs": [
    {
     "data": {
      "text/html": [
       "<div>\n",
       "<style scoped>\n",
       "    .dataframe tbody tr th:only-of-type {\n",
       "        vertical-align: middle;\n",
       "    }\n",
       "\n",
       "    .dataframe tbody tr th {\n",
       "        vertical-align: top;\n",
       "    }\n",
       "\n",
       "    .dataframe thead th {\n",
       "        text-align: right;\n",
       "    }\n",
       "</style>\n",
       "<table border=\"1\" class=\"dataframe\">\n",
       "  <thead>\n",
       "    <tr style=\"text-align: right;\">\n",
       "      <th></th>\n",
       "      <th>Country</th>\n",
       "      <th>Temp</th>\n",
       "      <th>Rainfall</th>\n",
       "      <th>IRWR</th>\n",
       "      <th>ERWR</th>\n",
       "      <th>TRWR</th>\n",
       "      <th>Dep_r</th>\n",
       "      <th>TEWR</th>\n",
       "    </tr>\n",
       "  </thead>\n",
       "  <tbody>\n",
       "    <tr>\n",
       "      <th>0</th>\n",
       "      <td>AFG</td>\n",
       "      <td>14.074742</td>\n",
       "      <td>353.323550</td>\n",
       "      <td>47.1500</td>\n",
       "      <td>18.18</td>\n",
       "      <td>65.3300</td>\n",
       "      <td>28.722600</td>\n",
       "      <td>NaN</td>\n",
       "    </tr>\n",
       "    <tr>\n",
       "      <th>1</th>\n",
       "      <td>AGO</td>\n",
       "      <td>22.182196</td>\n",
       "      <td>958.376457</td>\n",
       "      <td>148.0000</td>\n",
       "      <td>0.40</td>\n",
       "      <td>148.4000</td>\n",
       "      <td>0.269542</td>\n",
       "      <td>NaN</td>\n",
       "    </tr>\n",
       "    <tr>\n",
       "      <th>2</th>\n",
       "      <td>ALB</td>\n",
       "      <td>12.754647</td>\n",
       "      <td>1074.030807</td>\n",
       "      <td>26.9000</td>\n",
       "      <td>3.30</td>\n",
       "      <td>30.2000</td>\n",
       "      <td>10.927152</td>\n",
       "      <td>13.0</td>\n",
       "    </tr>\n",
       "    <tr>\n",
       "      <th>3</th>\n",
       "      <td>AND</td>\n",
       "      <td>12.402212</td>\n",
       "      <td>791.158287</td>\n",
       "      <td>0.3156</td>\n",
       "      <td>NaN</td>\n",
       "      <td>0.3156</td>\n",
       "      <td>NaN</td>\n",
       "      <td>NaN</td>\n",
       "    </tr>\n",
       "    <tr>\n",
       "      <th>4</th>\n",
       "      <td>ARE</td>\n",
       "      <td>28.010773</td>\n",
       "      <td>70.675403</td>\n",
       "      <td>0.1500</td>\n",
       "      <td>0.00</td>\n",
       "      <td>0.1500</td>\n",
       "      <td>0.000000</td>\n",
       "      <td>NaN</td>\n",
       "    </tr>\n",
       "  </tbody>\n",
       "</table>\n",
       "</div>"
      ],
      "text/plain": [
       "  Country       Temp     Rainfall      IRWR   ERWR      TRWR      Dep_r  TEWR\n",
       "0     AFG  14.074742   353.323550   47.1500  18.18   65.3300  28.722600   NaN\n",
       "1     AGO  22.182196   958.376457  148.0000   0.40  148.4000   0.269542   NaN\n",
       "2     ALB  12.754647  1074.030807   26.9000   3.30   30.2000  10.927152  13.0\n",
       "3     AND  12.402212   791.158287    0.3156    NaN    0.3156        NaN   NaN\n",
       "4     ARE  28.010773    70.675403    0.1500   0.00    0.1500   0.000000   NaN"
      ]
     },
     "execution_count": 44,
     "metadata": {},
     "output_type": "execute_result"
    }
   ],
   "source": [
    "df_climate = pd.read_csv('clean data/climate_factors.csv', index_col=0)\n",
    "df_climate = df_climate.set_axis([\"Country\",\"Temp\",\"Rainfall\",\"IRWR\",\"ERWR\",\"TRWR\",\"Dep_r\",\"TEWR\"],axis=1)\n",
    "df_climate.head()"
   ]
  },
  {
   "cell_type": "code",
   "execution_count": 45,
   "metadata": {},
   "outputs": [
    {
     "data": {
      "text/html": [
       "<div>\n",
       "<style scoped>\n",
       "    .dataframe tbody tr th:only-of-type {\n",
       "        vertical-align: middle;\n",
       "    }\n",
       "\n",
       "    .dataframe tbody tr th {\n",
       "        vertical-align: top;\n",
       "    }\n",
       "\n",
       "    .dataframe thead th {\n",
       "        text-align: right;\n",
       "    }\n",
       "</style>\n",
       "<table border=\"1\" class=\"dataframe\">\n",
       "  <thead>\n",
       "    <tr style=\"text-align: right;\">\n",
       "      <th></th>\n",
       "      <th>Country</th>\n",
       "      <th>WS_MDG</th>\n",
       "      <th>WUE_SDG</th>\n",
       "      <th>WS_SDG</th>\n",
       "    </tr>\n",
       "  </thead>\n",
       "  <tbody>\n",
       "    <tr>\n",
       "      <th>0</th>\n",
       "      <td>AFG</td>\n",
       "      <td>31.045462</td>\n",
       "      <td>0.923778</td>\n",
       "      <td>54.757019</td>\n",
       "    </tr>\n",
       "    <tr>\n",
       "      <th>1</th>\n",
       "      <td>AGO</td>\n",
       "      <td>0.475539</td>\n",
       "      <td>142.467836</td>\n",
       "      <td>1.871883</td>\n",
       "    </tr>\n",
       "    <tr>\n",
       "      <th>2</th>\n",
       "      <td>ALB</td>\n",
       "      <td>3.933775</td>\n",
       "      <td>6.656907</td>\n",
       "      <td>7.139423</td>\n",
       "    </tr>\n",
       "    <tr>\n",
       "      <th>3</th>\n",
       "      <td>ARE</td>\n",
       "      <td>1708.000000</td>\n",
       "      <td>92.773763</td>\n",
       "      <td>1708.000000</td>\n",
       "    </tr>\n",
       "    <tr>\n",
       "      <th>4</th>\n",
       "      <td>ARG</td>\n",
       "      <td>4.301333</td>\n",
       "      <td>13.616564</td>\n",
       "      <td>10.456664</td>\n",
       "    </tr>\n",
       "  </tbody>\n",
       "</table>\n",
       "</div>"
      ],
      "text/plain": [
       "  Country       WS_MDG     WUE_SDG       WS_SDG\n",
       "0     AFG    31.045462    0.923778    54.757019\n",
       "1     AGO     0.475539  142.467836     1.871883\n",
       "2     ALB     3.933775    6.656907     7.139423\n",
       "3     ARE  1708.000000   92.773763  1708.000000\n",
       "4     ARG     4.301333   13.616564    10.456664"
      ]
     },
     "execution_count": 45,
     "metadata": {},
     "output_type": "execute_result"
    }
   ],
   "source": [
    "df_ws = pd.read_csv('clean data/water_stress.csv', index_col=0)\n",
    "df_ws = df_ws.set_axis(['Country','WS_MDG','WUE_SDG','WS_SDG'],axis=1)\n",
    "df_ws.head()"
   ]
  },
  {
   "cell_type": "code",
   "execution_count": 49,
   "metadata": {},
   "outputs": [
    {
     "data": {
      "text/html": [
       "<div>\n",
       "<style scoped>\n",
       "    .dataframe tbody tr th:only-of-type {\n",
       "        vertical-align: middle;\n",
       "    }\n",
       "\n",
       "    .dataframe tbody tr th {\n",
       "        vertical-align: top;\n",
       "    }\n",
       "\n",
       "    .dataframe thead th {\n",
       "        text-align: right;\n",
       "    }\n",
       "</style>\n",
       "<table border=\"1\" class=\"dataframe\">\n",
       "  <thead>\n",
       "    <tr style=\"text-align: right;\">\n",
       "      <th></th>\n",
       "      <th>Country</th>\n",
       "      <th>Temp</th>\n",
       "      <th>Rainfall</th>\n",
       "      <th>IRWR</th>\n",
       "      <th>ERWR</th>\n",
       "      <th>TRWR</th>\n",
       "      <th>Dep_r</th>\n",
       "      <th>TEWR</th>\n",
       "      <th>WS_MDG</th>\n",
       "      <th>WUE_SDG</th>\n",
       "      <th>WS_SDG</th>\n",
       "    </tr>\n",
       "  </thead>\n",
       "  <tbody>\n",
       "    <tr>\n",
       "      <th>0</th>\n",
       "      <td>AFG</td>\n",
       "      <td>14.074742</td>\n",
       "      <td>353.323550</td>\n",
       "      <td>47.1500</td>\n",
       "      <td>18.18</td>\n",
       "      <td>65.3300</td>\n",
       "      <td>28.722600</td>\n",
       "      <td>NaN</td>\n",
       "      <td>31.045462</td>\n",
       "      <td>0.923778</td>\n",
       "      <td>54.757019</td>\n",
       "    </tr>\n",
       "    <tr>\n",
       "      <th>1</th>\n",
       "      <td>AGO</td>\n",
       "      <td>22.182196</td>\n",
       "      <td>958.376457</td>\n",
       "      <td>148.0000</td>\n",
       "      <td>0.40</td>\n",
       "      <td>148.4000</td>\n",
       "      <td>0.269542</td>\n",
       "      <td>NaN</td>\n",
       "      <td>0.475539</td>\n",
       "      <td>142.467836</td>\n",
       "      <td>1.871883</td>\n",
       "    </tr>\n",
       "    <tr>\n",
       "      <th>2</th>\n",
       "      <td>ALB</td>\n",
       "      <td>12.754647</td>\n",
       "      <td>1074.030807</td>\n",
       "      <td>26.9000</td>\n",
       "      <td>3.30</td>\n",
       "      <td>30.2000</td>\n",
       "      <td>10.927152</td>\n",
       "      <td>13.0</td>\n",
       "      <td>3.933775</td>\n",
       "      <td>6.656907</td>\n",
       "      <td>7.139423</td>\n",
       "    </tr>\n",
       "    <tr>\n",
       "      <th>3</th>\n",
       "      <td>AND</td>\n",
       "      <td>12.402212</td>\n",
       "      <td>791.158287</td>\n",
       "      <td>0.3156</td>\n",
       "      <td>NaN</td>\n",
       "      <td>0.3156</td>\n",
       "      <td>NaN</td>\n",
       "      <td>NaN</td>\n",
       "      <td>NaN</td>\n",
       "      <td>NaN</td>\n",
       "      <td>NaN</td>\n",
       "    </tr>\n",
       "    <tr>\n",
       "      <th>4</th>\n",
       "      <td>ARE</td>\n",
       "      <td>28.010773</td>\n",
       "      <td>70.675403</td>\n",
       "      <td>0.1500</td>\n",
       "      <td>0.00</td>\n",
       "      <td>0.1500</td>\n",
       "      <td>0.000000</td>\n",
       "      <td>NaN</td>\n",
       "      <td>1708.000000</td>\n",
       "      <td>92.773763</td>\n",
       "      <td>1708.000000</td>\n",
       "    </tr>\n",
       "  </tbody>\n",
       "</table>\n",
       "</div>"
      ],
      "text/plain": [
       "  Country       Temp     Rainfall      IRWR   ERWR      TRWR      Dep_r  TEWR  \\\n",
       "0     AFG  14.074742   353.323550   47.1500  18.18   65.3300  28.722600   NaN   \n",
       "1     AGO  22.182196   958.376457  148.0000   0.40  148.4000   0.269542   NaN   \n",
       "2     ALB  12.754647  1074.030807   26.9000   3.30   30.2000  10.927152  13.0   \n",
       "3     AND  12.402212   791.158287    0.3156    NaN    0.3156        NaN   NaN   \n",
       "4     ARE  28.010773    70.675403    0.1500   0.00    0.1500   0.000000   NaN   \n",
       "\n",
       "        WS_MDG     WUE_SDG       WS_SDG  \n",
       "0    31.045462    0.923778    54.757019  \n",
       "1     0.475539  142.467836     1.871883  \n",
       "2     3.933775    6.656907     7.139423  \n",
       "3          NaN         NaN          NaN  \n",
       "4  1708.000000   92.773763  1708.000000  "
      ]
     },
     "execution_count": 49,
     "metadata": {},
     "output_type": "execute_result"
    }
   ],
   "source": [
    "df_climatews = pd.merge(df_climate, df_ws, on=[\"Country\"], how='left')\n",
    "df_climatews.head()"
   ]
  },
  {
   "cell_type": "markdown",
   "metadata": {},
   "source": [
    "## EDA"
   ]
  },
  {
   "cell_type": "code",
   "execution_count": 47,
   "metadata": {},
   "outputs": [
    {
     "data": {
      "text/html": [
       "<div>\n",
       "<style scoped>\n",
       "    .dataframe tbody tr th:only-of-type {\n",
       "        vertical-align: middle;\n",
       "    }\n",
       "\n",
       "    .dataframe tbody tr th {\n",
       "        vertical-align: top;\n",
       "    }\n",
       "\n",
       "    .dataframe thead th {\n",
       "        text-align: right;\n",
       "    }\n",
       "</style>\n",
       "<table border=\"1\" class=\"dataframe\">\n",
       "  <thead>\n",
       "    <tr style=\"text-align: right;\">\n",
       "      <th></th>\n",
       "      <th>Temp</th>\n",
       "      <th>Rainfall</th>\n",
       "      <th>IRWR</th>\n",
       "      <th>ERWR</th>\n",
       "      <th>TRWR</th>\n",
       "      <th>Dep_r</th>\n",
       "      <th>TEWR</th>\n",
       "      <th>WS_MDG</th>\n",
       "      <th>WUE_SDG</th>\n",
       "      <th>WS_SDG</th>\n",
       "    </tr>\n",
       "  </thead>\n",
       "  <tbody>\n",
       "    <tr>\n",
       "      <th>count</th>\n",
       "      <td>195.000000</td>\n",
       "      <td>195.000000</td>\n",
       "      <td>183.000000</td>\n",
       "      <td>195.000000</td>\n",
       "      <td>197.000000</td>\n",
       "      <td>193.000000</td>\n",
       "      <td>64.000000</td>\n",
       "      <td>178.000000</td>\n",
       "      <td>168.000000</td>\n",
       "      <td>178.000000</td>\n",
       "    </tr>\n",
       "    <tr>\n",
       "      <th>mean</th>\n",
       "      <td>19.638106</td>\n",
       "      <td>1218.378223</td>\n",
       "      <td>233.926787</td>\n",
       "      <td>60.383133</td>\n",
       "      <td>277.853330</td>\n",
       "      <td>22.707713</td>\n",
       "      <td>123.274891</td>\n",
       "      <td>60.969308</td>\n",
       "      <td>46.862185</td>\n",
       "      <td>68.920160</td>\n",
       "    </tr>\n",
       "    <tr>\n",
       "      <th>std</th>\n",
       "      <td>8.487378</td>\n",
       "      <td>941.417256</td>\n",
       "      <td>683.559637</td>\n",
       "      <td>246.966768</td>\n",
       "      <td>835.667047</td>\n",
       "      <td>29.853796</td>\n",
       "      <td>396.096892</td>\n",
       "      <td>327.018637</td>\n",
       "      <td>111.402925</td>\n",
       "      <td>326.619154</td>\n",
       "    </tr>\n",
       "    <tr>\n",
       "      <th>min</th>\n",
       "      <td>-16.457271</td>\n",
       "      <td>36.066300</td>\n",
       "      <td>0.000000</td>\n",
       "      <td>-41.550000</td>\n",
       "      <td>0.000000</td>\n",
       "      <td>0.000000</td>\n",
       "      <td>0.000000</td>\n",
       "      <td>0.005529</td>\n",
       "      <td>0.197998</td>\n",
       "      <td>0.027446</td>\n",
       "    </tr>\n",
       "    <tr>\n",
       "      <th>25%</th>\n",
       "      <td>12.109822</td>\n",
       "      <td>548.650097</td>\n",
       "      <td>5.700000</td>\n",
       "      <td>0.000000</td>\n",
       "      <td>4.615000</td>\n",
       "      <td>0.000000</td>\n",
       "      <td>1.395750</td>\n",
       "      <td>1.368965</td>\n",
       "      <td>6.341941</td>\n",
       "      <td>3.510581</td>\n",
       "    </tr>\n",
       "    <tr>\n",
       "      <th>50%</th>\n",
       "      <td>23.556155</td>\n",
       "      <td>1074.030807</td>\n",
       "      <td>34.000000</td>\n",
       "      <td>2.476000</td>\n",
       "      <td>38.120000</td>\n",
       "      <td>5.769231</td>\n",
       "      <td>6.500000</td>\n",
       "      <td>6.007542</td>\n",
       "      <td>13.923594</td>\n",
       "      <td>10.324766</td>\n",
       "    </tr>\n",
       "    <tr>\n",
       "      <th>75%</th>\n",
       "      <td>26.170828</td>\n",
       "      <td>1726.037333</td>\n",
       "      <td>138.800000</td>\n",
       "      <td>23.700000</td>\n",
       "      <td>164.520000</td>\n",
       "      <td>40.642007</td>\n",
       "      <td>54.627500</td>\n",
       "      <td>21.577956</td>\n",
       "      <td>45.087461</td>\n",
       "      <td>34.543704</td>\n",
       "    </tr>\n",
       "    <tr>\n",
       "      <th>max</th>\n",
       "      <td>29.084376</td>\n",
       "      <td>7953.558333</td>\n",
       "      <td>5661.000000</td>\n",
       "      <td>2986.000000</td>\n",
       "      <td>8647.000000</td>\n",
       "      <td>100.000000</td>\n",
       "      <td>2430.000000</td>\n",
       "      <td>3850.500000</td>\n",
       "      <td>1221.061026</td>\n",
       "      <td>3850.500000</td>\n",
       "    </tr>\n",
       "  </tbody>\n",
       "</table>\n",
       "</div>"
      ],
      "text/plain": [
       "             Temp     Rainfall         IRWR         ERWR         TRWR  \\\n",
       "count  195.000000   195.000000   183.000000   195.000000   197.000000   \n",
       "mean    19.638106  1218.378223   233.926787    60.383133   277.853330   \n",
       "std      8.487378   941.417256   683.559637   246.966768   835.667047   \n",
       "min    -16.457271    36.066300     0.000000   -41.550000     0.000000   \n",
       "25%     12.109822   548.650097     5.700000     0.000000     4.615000   \n",
       "50%     23.556155  1074.030807    34.000000     2.476000    38.120000   \n",
       "75%     26.170828  1726.037333   138.800000    23.700000   164.520000   \n",
       "max     29.084376  7953.558333  5661.000000  2986.000000  8647.000000   \n",
       "\n",
       "            Dep_r         TEWR       WS_MDG      WUE_SDG       WS_SDG  \n",
       "count  193.000000    64.000000   178.000000   168.000000   178.000000  \n",
       "mean    22.707713   123.274891    60.969308    46.862185    68.920160  \n",
       "std     29.853796   396.096892   327.018637   111.402925   326.619154  \n",
       "min      0.000000     0.000000     0.005529     0.197998     0.027446  \n",
       "25%      0.000000     1.395750     1.368965     6.341941     3.510581  \n",
       "50%      5.769231     6.500000     6.007542    13.923594    10.324766  \n",
       "75%     40.642007    54.627500    21.577956    45.087461    34.543704  \n",
       "max    100.000000  2430.000000  3850.500000  1221.061026  3850.500000  "
      ]
     },
     "execution_count": 47,
     "metadata": {},
     "output_type": "execute_result"
    }
   ],
   "source": [
    "df_climatews.describe()"
   ]
  },
  {
   "cell_type": "code",
   "execution_count": 50,
   "metadata": {},
   "outputs": [
    {
     "data": {
      "text/plain": [
       "<matplotlib.axes._subplots.AxesSubplot at 0x20ec5fcd0f0>"
      ]
     },
     "execution_count": 50,
     "metadata": {},
     "output_type": "execute_result"
    },
    {
     "data": {
      "image/png": "[encoded data removed]",
      "text/plain": [
       "<Figure size 432x288 with 1 Axes>"
      ]
     },
     "metadata": {
      "needs_background": "light"
     },
     "output_type": "display_data"
    }
   ],
   "source": [
    "sns.boxplot(x=\"variable\", y=\"value\", data=pd.melt(df_climatews.iloc[:,8:10]))\n",
    "# clear outliers"
   ]
  },
  {
   "cell_type": "code",
   "execution_count": 56,
   "metadata": {},
   "outputs": [
    {
     "data": {
      "text/plain": [
       "<matplotlib.axes._subplots.AxesSubplot at 0x20ec717da90>"
      ]
     },
     "execution_count": 56,
     "metadata": {},
     "output_type": "execute_result"
    },
    {
     "data": {
      "image/png": "[encoded data removed]",
      "text/plain": [
       "<Figure size 432x288 with 1 Axes>"
      ]
     },
     "metadata": {
      "needs_background": "light"
     },
     "output_type": "display_data"
    }
   ],
   "source": [
    "sns.boxplot(x=\"variable\", y=\"value\", data=pd.melt(df_climatews[['IRWR','ERWR','TRWR','TEWR']]))\n"
   ]
  },
  {
   "cell_type": "code",
   "execution_count": 54,
   "metadata": {},
   "outputs": [
    {
     "data": {
      "text/plain": [
       "<matplotlib.axes._subplots.AxesSubplot at 0x20ec60fe0f0>"
      ]
     },
     "execution_count": 54,
     "metadata": {},
     "output_type": "execute_result"
    },
    {
     "data": {
      "image/png": "[encoded data removed]",
      "text/plain": [
       "<Figure size 432x288 with 1 Axes>"
      ]
     },
     "metadata": {
      "needs_background": "light"
     },
     "output_type": "display_data"
    }
   ],
   "source": [
    "sns.boxplot(x=\"variable\", y=\"value\", data=pd.melt(df_climatews[['Rainfall']]))\n"
   ]
  },
  {
   "cell_type": "code",
   "execution_count": 55,
   "metadata": {},
   "outputs": [
    {
     "data": {
      "text/plain": [
       "<matplotlib.axes._subplots.AxesSubplot at 0x20ec7127e10>"
      ]
     },
     "execution_count": 55,
     "metadata": {},
     "output_type": "execute_result"
    },
    {
     "data": {
      "image/png": "[encoded data removed]",
      "text/plain": [
       "<Figure size 432x288 with 1 Axes>"
      ]
     },
     "metadata": {
      "needs_background": "light"
     },
     "output_type": "display_data"
    }
   ],
   "source": [
    "sns.boxplot(x=\"variable\", y=\"value\", data=pd.melt(df_climatews[['Temp']]))\n"
   ]
  },
  {
   "cell_type": "code",
   "execution_count": 58,
   "metadata": {},
   "outputs": [
    {
     "data": {
      "text/plain": [
       "<matplotlib.axes._subplots.AxesSubplot at 0x20ec7202e10>"
      ]
     },
     "execution_count": 58,
     "metadata": {},
     "output_type": "execute_result"
    },
    {
     "data": {
      "image/png": "[encoded data removed]",
      "text/plain": [
       "<Figure size 432x288 with 1 Axes>"
      ]
     },
     "metadata": {
      "needs_background": "light"
     },
     "output_type": "display_data"
    }
   ],
   "source": [
    "sns.boxplot(x=\"variable\", y=\"value\", data=pd.melt(df_climatews[['Dep_r']]))\n"
   ]
  },
  {
   "cell_type": "code",
   "execution_count": null,
   "metadata": {},
   "outputs": [],
   "source": []
  }
 ],
 "metadata": {
  "kernelspec": {
   "display_name": "Python 3",
   "language": "python",
   "name": "python3"
  },
  "language_info": {
   "codemirror_mode": {
    "name": "ipython",
    "version": 3
   },
   "file_extension": ".py",
   "mimetype": "text/x-python",
   "name": "python",
   "nbconvert_exporter": "python",
   "pygments_lexer": "ipython3",
   "version": "3.7.6"
  },
  "varInspector": {
   "cols": {
    "lenName": 16,
    "lenType": 16,
    "lenVar": 40
   },
   "kernels_config": {
    "python": {
     "delete_cmd_postfix": "",
     "delete_cmd_prefix": "del ",
     "library": "var_list.py",
     "varRefreshCmd": "print(var_dic_list())"
    },
    "r": {
     "delete_cmd_postfix": ") ",
     "delete_cmd_prefix": "rm(",
     "library": "var_list.r",
     "varRefreshCmd": "cat(var_dic_list()) "
    }
   },
   "types_to_exclude": [
    "module",
    "function",
    "builtin_function_or_method",
    "instance",
    "_Feature"
   ],
   "window_display": false
  }
 },
 "nbformat": 4,
 "nbformat_minor": 2
}
