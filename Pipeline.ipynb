{
 "cells": [
  {
   "cell_type": "markdown",
   "id": "a01cd2cf",
   "metadata": {},
   "source": [
    "# Modelling Pipeline"
   ]
  },
  {
   "cell_type": "markdown",
   "id": "27ce760c",
   "metadata": {},
   "source": [
    "## Import Modules"
   ]
  },
  {
   "cell_type": "code",
   "execution_count": 15,
   "id": "a2841015",
   "metadata": {
    "ExecuteTime": {
     "end_time": "2021-05-12T12:54:49.448316Z",
     "start_time": "2021-05-12T12:54:47.558137Z"
    }
   },
   "outputs": [],
   "source": [
    "import pandas as pd\n",
    "import numpy as np\n",
    "import matplotlib.pyplot as plt\n",
    "from sklearn.model_selection import train_test_split, GridSearchCV\n",
    "from sklearn.preprocessing import StandardScaler, RobustScaler, QuantileTransformer, FunctionTransformer, MinMaxScaler, Normalizer\n",
    "from sklearn.ensemble import RandomForestRegressor\n",
    "from sklearn.decomposition import PCA\n",
    "from sklearn.cluster import KMeans\n",
    "from sklearn.pipeline import Pipeline\n",
    "from sklearn.metrics import r2_score, accuracy_score\n",
    "from sklearn.impute import KNNImputer\n",
    "from sklearn.compose import ColumnTransformer\n",
    "from scipy.stats import shapiro\n",
    "from sklearn.linear_model import LinearRegression, Ridge, Lasso\n",
    "from sklearn.metrics import classification_report,  confusion_matrix\n",
    "from sklearn.multioutput import MultiOutputRegressor\n",
    "from sklearn.svm import SVR"
   ]
  },
  {
   "cell_type": "markdown",
   "id": "a3b0c75d",
   "metadata": {},
   "source": [
    "## Prepare Data"
   ]
  },
  {
   "cell_type": "markdown",
   "id": "cccef005",
   "metadata": {},
   "source": [
    "### Load Data"
   ]
  },
  {
   "cell_type": "code",
   "execution_count": 3,
   "id": "20f860c8",
   "metadata": {
    "ExecuteTime": {
     "end_time": "2021-05-12T12:54:49.703663Z",
     "start_time": "2021-05-12T12:54:49.688659Z"
    },
    "scrolled": true
   },
   "outputs": [
    {
     "data": {
      "text/html": [
       "<div>\n",
       "<style scoped>\n",
       "    .dataframe tbody tr th:only-of-type {\n",
       "        vertical-align: middle;\n",
       "    }\n",
       "\n",
       "    .dataframe tbody tr th {\n",
       "        vertical-align: top;\n",
       "    }\n",
       "\n",
       "    .dataframe thead th {\n",
       "        text-align: right;\n",
       "    }\n",
       "</style>\n",
       "<table border=\"1\" class=\"dataframe\">\n",
       "  <thead>\n",
       "    <tr style=\"text-align: right;\">\n",
       "      <th></th>\n",
       "      <th>Country</th>\n",
       "      <th>WS_MDG</th>\n",
       "      <th>WUE_SDG</th>\n",
       "      <th>WS_SDG</th>\n",
       "      <th>Temp</th>\n",
       "      <th>Rain</th>\n",
       "      <th>IRWR</th>\n",
       "      <th>ERWR</th>\n",
       "      <th>TRWR</th>\n",
       "      <th>Dep_ratio</th>\n",
       "      <th>rural_pop</th>\n",
       "      <th>urban_pop</th>\n",
       "      <th>HDI</th>\n",
       "      <th>r_u</th>\n",
       "      <th>r_u_access</th>\n",
       "      <th>pop_growth</th>\n",
       "      <th>mort_rate</th>\n",
       "      <th>GDP_pcp</th>\n",
       "      <th>life_ex</th>\n",
       "    </tr>\n",
       "  </thead>\n",
       "  <tbody>\n",
       "    <tr>\n",
       "      <th>0</th>\n",
       "      <td>AFG</td>\n",
       "      <td>31.045462</td>\n",
       "      <td>0.923778</td>\n",
       "      <td>54.757019</td>\n",
       "      <td>14.074742</td>\n",
       "      <td>349.736945</td>\n",
       "      <td>47.15</td>\n",
       "      <td>18.18</td>\n",
       "      <td>65.33</td>\n",
       "      <td>0.278280</td>\n",
       "      <td>26558.609</td>\n",
       "      <td>8971.472</td>\n",
       "      <td>0.493</td>\n",
       "      <td>2.960340</td>\n",
       "      <td>0.601023</td>\n",
       "      <td>3.06</td>\n",
       "      <td>53.2</td>\n",
       "      <td>2226.0</td>\n",
       "      <td>63.4</td>\n",
       "    </tr>\n",
       "    <tr>\n",
       "      <th>1</th>\n",
       "      <td>AGO</td>\n",
       "      <td>0.475539</td>\n",
       "      <td>142.467836</td>\n",
       "      <td>1.871883</td>\n",
       "      <td>22.182196</td>\n",
       "      <td>960.024065</td>\n",
       "      <td>148.00</td>\n",
       "      <td>0.40</td>\n",
       "      <td>148.40</td>\n",
       "      <td>0.002695</td>\n",
       "      <td>10472.554</td>\n",
       "      <td>19311.639</td>\n",
       "      <td>0.576</td>\n",
       "      <td>0.542292</td>\n",
       "      <td>0.374005</td>\n",
       "      <td>3.44</td>\n",
       "      <td>58.6</td>\n",
       "      <td>7859.4</td>\n",
       "      <td>59.2</td>\n",
       "    </tr>\n",
       "    <tr>\n",
       "      <th>2</th>\n",
       "      <td>ALB</td>\n",
       "      <td>3.933775</td>\n",
       "      <td>6.656907</td>\n",
       "      <td>7.139423</td>\n",
       "      <td>12.754647</td>\n",
       "      <td>1079.459167</td>\n",
       "      <td>26.90</td>\n",
       "      <td>3.30</td>\n",
       "      <td>30.20</td>\n",
       "      <td>0.109272</td>\n",
       "      <td>1190.155</td>\n",
       "      <td>1740.032</td>\n",
       "      <td>0.789</td>\n",
       "      <td>0.683985</td>\n",
       "      <td>1.003161</td>\n",
       "      <td>-0.20</td>\n",
       "      <td>8.6</td>\n",
       "      <td>12227.4</td>\n",
       "      <td>78.0</td>\n",
       "    </tr>\n",
       "    <tr>\n",
       "      <th>3</th>\n",
       "      <td>ARE</td>\n",
       "      <td>1708.000000</td>\n",
       "      <td>92.773763</td>\n",
       "      <td>1708.000000</td>\n",
       "      <td>28.010773</td>\n",
       "      <td>64.449765</td>\n",
       "      <td>0.15</td>\n",
       "      <td>0.00</td>\n",
       "      <td>0.15</td>\n",
       "      <td>0.000000</td>\n",
       "      <td>1292.709</td>\n",
       "      <td>8107.436</td>\n",
       "      <td>0.864</td>\n",
       "      <td>0.159447</td>\n",
       "      <td>1.004016</td>\n",
       "      <td>0.74</td>\n",
       "      <td>7.0</td>\n",
       "      <td>64243.0</td>\n",
       "      <td>77.2</td>\n",
       "    </tr>\n",
       "    <tr>\n",
       "      <th>4</th>\n",
       "      <td>ARG</td>\n",
       "      <td>4.301333</td>\n",
       "      <td>13.616564</td>\n",
       "      <td>10.456664</td>\n",
       "      <td>14.767043</td>\n",
       "      <td>598.510300</td>\n",
       "      <td>292.00</td>\n",
       "      <td>584.24</td>\n",
       "      <td>876.24</td>\n",
       "      <td>0.666758</td>\n",
       "      <td>3652.804</td>\n",
       "      <td>40618.237</td>\n",
       "      <td>0.832</td>\n",
       "      <td>0.089930</td>\n",
       "      <td>1.010101</td>\n",
       "      <td>1.08</td>\n",
       "      <td>10.2</td>\n",
       "      <td>23732.2</td>\n",
       "      <td>76.0</td>\n",
       "    </tr>\n",
       "  </tbody>\n",
       "</table>\n",
       "</div>"
      ],
      "text/plain": [
       "  Country       WS_MDG     WUE_SDG       WS_SDG       Temp         Rain  \\\n",
       "0     AFG    31.045462    0.923778    54.757019  14.074742   349.736945   \n",
       "1     AGO     0.475539  142.467836     1.871883  22.182196   960.024065   \n",
       "2     ALB     3.933775    6.656907     7.139423  12.754647  1079.459167   \n",
       "3     ARE  1708.000000   92.773763  1708.000000  28.010773    64.449765   \n",
       "4     ARG     4.301333   13.616564    10.456664  14.767043   598.510300   \n",
       "\n",
       "     IRWR    ERWR    TRWR  Dep_ratio  rural_pop  urban_pop    HDI       r_u  \\\n",
       "0   47.15   18.18   65.33   0.278280  26558.609   8971.472  0.493  2.960340   \n",
       "1  148.00    0.40  148.40   0.002695  10472.554  19311.639  0.576  0.542292   \n",
       "2   26.90    3.30   30.20   0.109272   1190.155   1740.032  0.789  0.683985   \n",
       "3    0.15    0.00    0.15   0.000000   1292.709   8107.436  0.864  0.159447   \n",
       "4  292.00  584.24  876.24   0.666758   3652.804  40618.237  0.832  0.089930   \n",
       "\n",
       "   r_u_access  pop_growth  mort_rate  GDP_pcp  life_ex  \n",
       "0    0.601023        3.06       53.2   2226.0     63.4  \n",
       "1    0.374005        3.44       58.6   7859.4     59.2  \n",
       "2    1.003161       -0.20        8.6  12227.4     78.0  \n",
       "3    1.004016        0.74        7.0  64243.0     77.2  \n",
       "4    1.010101        1.08       10.2  23732.2     76.0  "
      ]
     },
     "execution_count": 3,
     "metadata": {},
     "output_type": "execute_result"
    }
   ],
   "source": [
    "df = pd.read_csv('clean data/final_data.csv', index_col=0)\n",
    "df.head()"
   ]
  },
  {
   "cell_type": "markdown",
   "id": "fa44dd99",
   "metadata": {},
   "source": [
    "### Add additional climate variables"
   ]
  },
  {
   "cell_type": "code",
   "execution_count": 4,
   "id": "05fa066d",
   "metadata": {
    "ExecuteTime": {
     "end_time": "2021-05-12T12:54:50.936347Z",
     "start_time": "2021-05-12T12:54:50.922344Z"
    }
   },
   "outputs": [],
   "source": [
    "df['IRWR_capita'] = df['IRWR'] / ((df['urban_pop'] + df['rural_pop']) * 1000)\n",
    "df['ERWR_capita'] = df['ERWR'] / ((df['urban_pop'] + df['rural_pop']) * 1000)\n",
    "df['TRWR_capita'] = df['TRWR'] / ((df['urban_pop'] + df['rural_pop']) * 1000)"
   ]
  },
  {
   "cell_type": "markdown",
   "id": "3474c6d9",
   "metadata": {},
   "source": [
    "### Split dataframe into chosen predictor and target variables"
   ]
  },
  {
   "cell_type": "code",
   "execution_count": 5,
   "id": "91d890cc",
   "metadata": {
    "ExecuteTime": {
     "end_time": "2021-05-12T12:55:17.609988Z",
     "start_time": "2021-05-12T12:55:17.594362Z"
    }
   },
   "outputs": [],
   "source": [
    "df_pred_climate = df.iloc[:, np.r_[4:10, 19:22]]\n",
    "df_pred_socioec = df.iloc[:, 10:19]\n",
    "df_pred = df.iloc[:, 4:22]\n",
    "df_target = df.iloc[:, 1:4]"
   ]
  },
  {
   "cell_type": "markdown",
   "id": "35221a79",
   "metadata": {},
   "source": [
    "## Pipeline: Predictor Variables"
   ]
  },
  {
   "cell_type": "markdown",
   "id": "ff852329",
   "metadata": {},
   "source": [
    "### Scalers"
   ]
  },
  {
   "cell_type": "code",
   "execution_count": 17,
   "id": "4a024de8",
   "metadata": {},
   "outputs": [],
   "source": [
    "def log_transform(x):\n",
    "    return np.log(x + 1)"
   ]
  },
  {
   "cell_type": "code",
   "execution_count": 18,
   "id": "e8c617c2",
   "metadata": {},
   "outputs": [],
   "source": [
    "logscaler = FunctionTransformer(log_transform)"
   ]
  },
  {
   "cell_type": "markdown",
   "id": "e3d389e4",
   "metadata": {},
   "source": [
    "### Setup pipeline"
   ]
  },
  {
   "cell_type": "code",
   "execution_count": 19,
   "id": "19246060",
   "metadata": {},
   "outputs": [],
   "source": [
    "pipe_target = Pipeline([\n",
    "    ('scaler', logscaler)\n",
    "])"
   ]
  },
  {
   "cell_type": "markdown",
   "id": "3c1a15fc",
   "metadata": {},
   "source": [
    "### Fit pipeline"
   ]
  },
  {
   "cell_type": "code",
   "execution_count": 20,
   "id": "fd22dc67",
   "metadata": {},
   "outputs": [],
   "source": [
    "df_target_ = pipe_target.fit_transform(df_target)"
   ]
  },
  {
   "cell_type": "markdown",
   "id": "4b6996f6",
   "metadata": {},
   "source": [
    "## Pipeline: Climate Variables"
   ]
  },
  {
   "cell_type": "markdown",
   "id": "2d7ce6a6",
   "metadata": {},
   "source": [
    "### Scalers"
   ]
  },
  {
   "cell_type": "markdown",
   "id": "3967258e",
   "metadata": {},
   "source": [
    "All scalers combinations to test:"
   ]
  },
  {
   "cell_type": "code",
   "execution_count": 9,
   "id": "5e0589d2",
   "metadata": {},
   "outputs": [],
   "source": [
    "scalers_to_test = [\n",
    "    ColumnTransformer(remainder='passthrough',\n",
    "                      transformers=[\n",
    "                          (\"logscaler\", logscaler, [\n",
    "                           'Rain', 'IRWR', 'ERWR', 'TRWR', 'IRWR_capita', 'ERWR_capita', 'TRWR_capita'])\n",
    "                      ]),\n",
    "    ColumnTransformer(remainder='passthrough',\n",
    "                      transformers=[\n",
    "                          (\"logscaler\", logscaler, [\n",
    "                           'Rain', 'IRWR', 'ERWR', 'TRWR', 'IRWR_capita', 'ERWR_capita', 'TRWR_capita']),\n",
    "                          (\"standardscaler\", StandardScaler(),\n",
    "                           df_pred_climate.columns.values)\n",
    "                      ]),\n",
    "    ColumnTransformer(remainder='passthrough',\n",
    "                      transformers=[\n",
    "                          (\"logscaler\", logscaler, [\n",
    "                           'Rain', 'IRWR', 'ERWR', 'TRWR', 'IRWR_capita', 'ERWR_capita', 'TRWR_capita']),\n",
    "                          (\"robustscaler\", RobustScaler(),\n",
    "                           df_pred_climate.columns.values)\n",
    "                      ]),\n",
    "    ColumnTransformer(remainder='passthrough',\n",
    "                      transformers=[\n",
    "                          (\"logscaler\", logscaler, [\n",
    "                           'Rain', 'IRWR', 'ERWR', 'TRWR', 'IRWR_capita', 'ERWR_capita', 'TRWR_capita']),\n",
    "                          (\"minmaxscaler\", MinMaxScaler(),\n",
    "                           df_pred_climate.columns.values)\n",
    "                      ])\n",
    "]"
   ]
  },
  {
   "cell_type": "markdown",
   "id": "0aef4f99",
   "metadata": {},
   "source": [
    "### Dimensionality reduction"
   ]
  },
  {
   "cell_type": "markdown",
   "id": "c7386896",
   "metadata": {},
   "source": [
    "All number of components to test for the PCA analysis: "
   ]
  },
  {
   "cell_type": "code",
   "execution_count": 10,
   "id": "f888a877",
   "metadata": {},
   "outputs": [],
   "source": [
    "pca_climate = PCA()"
   ]
  },
  {
   "cell_type": "code",
   "execution_count": 11,
   "id": "cd5bb40e",
   "metadata": {},
   "outputs": [],
   "source": [
    "n_components_to_test = np.arange(3, 8)"
   ]
  },
  {
   "cell_type": "markdown",
   "id": "2c4b72e1",
   "metadata": {},
   "source": [
    "### Regression model"
   ]
  },
  {
   "cell_type": "markdown",
   "id": "3196f017",
   "metadata": {},
   "source": [
    "All models + model parameters to test: "
   ]
  },
  {
   "cell_type": "code",
   "execution_count": 12,
   "id": "a34bfef7",
   "metadata": {},
   "outputs": [],
   "source": [
    "model_1 = RandomForestRegressor(random_state=0)\n",
    "max_depth_to_test = np.arange(2, 8)\n",
    "\n",
    "model_2 = LinearRegression()\n",
    "\n",
    "model_3 = Ridge()\n",
    "alpha_to_test = np.power(10, np.arange(-2, 0, 0.02))"
   ]
  },
  {
   "cell_type": "markdown",
   "id": "8f9ef3e6",
   "metadata": {},
   "source": [
    "### List of parameters to test"
   ]
  },
  {
   "cell_type": "markdown",
   "id": "bf6f38a4",
   "metadata": {},
   "source": [
    "Make list of parameter dictionaries (one for each model):"
   ]
  },
  {
   "cell_type": "code",
   "execution_count": 13,
   "id": "12167336",
   "metadata": {},
   "outputs": [],
   "source": [
    "params = [\n",
    "    {'scaler': scalers_to_test,\n",
    "     'reduce_dim__n_components': n_components_to_test,\n",
    "     'regressor': [model_1],\n",
    "     'regressor__max_depth': max_depth_to_test},\n",
    "\n",
    "    {'scaler': scalers_to_test,\n",
    "     'reduce_dim__n_components': n_components_to_test,\n",
    "     'regressor': [model_2]},\n",
    "\n",
    "    {'scaler': scalers_to_test,\n",
    "     'reduce_dim__n_components': n_components_to_test,\n",
    "     'regressor': [model_3],\n",
    "     'regressor__alpha': alpha_to_test}\n",
    "]"
   ]
  },
  {
   "cell_type": "markdown",
   "id": "14d4be2a",
   "metadata": {},
   "source": [
    "### Train, test, split + setup pipeline"
   ]
  },
  {
   "cell_type": "code",
   "execution_count": 14,
   "id": "cc6184de",
   "metadata": {},
   "outputs": [],
   "source": [
    "X_train, X_test, y_train, y_test = train_test_split(\n",
    "    df_pred_climate, df_target_, random_state=0)"
   ]
  },
  {
   "cell_type": "code",
   "execution_count": 15,
   "id": "2d2e1a89",
   "metadata": {},
   "outputs": [],
   "source": [
    "pipe_climate = Pipeline([\n",
    "    ('scaler', scalers_to_test[0]),\n",
    "    ('reduce_dim', pca_climate),\n",
    "    ('regressor', model_1)\n",
    "])"
   ]
  },
  {
   "cell_type": "markdown",
   "id": "2b127f41",
   "metadata": {},
   "source": [
    "### Gridsearch pipeline"
   ]
  },
  {
   "cell_type": "markdown",
   "id": "c8f4c131",
   "metadata": {},
   "source": [
    "#### Target variable 1: WS_MDG"
   ]
  },
  {
   "cell_type": "code",
   "execution_count": 16,
   "id": "084942a6",
   "metadata": {},
   "outputs": [
    {
     "name": "stdout",
     "output_type": "stream",
     "text": [
      "Fitting 5 folds for each of 2140 candidates, totalling 10700 fits\n"
     ]
    }
   ],
   "source": [
    "gridsearch_climate_1 = GridSearchCV(\n",
    "    pipe_climate, params, verbose=1, n_jobs=-1).fit(X_train, y_train['WS_MDG'])"
   ]
  },
  {
   "cell_type": "code",
   "execution_count": 17,
   "id": "4e6344e9",
   "metadata": {},
   "outputs": [
    {
     "name": "stdout",
     "output_type": "stream",
     "text": [
      "0.5323961594174167\n",
      "{'reduce_dim__n_components': 7, 'regressor': RandomForestRegressor(max_depth=6, random_state=0), 'regressor__max_depth': 6, 'scaler': ColumnTransformer(remainder='passthrough',\n",
      "                  transformers=[('logscaler',\n",
      "                                 FunctionTransformer(func=<function log_transform at 0x000001A95C66CA60>),\n",
      "                                 ['Rain', 'IRWR', 'ERWR', 'TRWR', 'IRWR_capita',\n",
      "                                  'ERWR_capita', 'TRWR_capita']),\n",
      "                                ('robustscaler', RobustScaler(),\n",
      "                                 array(['Temp', 'Rain', 'IRWR', 'ERWR', 'TRWR', 'Dep_ratio', 'IRWR_capita',\n",
      "       'ERWR_capita', 'TRWR_capita'], dtype=object))])}\n"
     ]
    }
   ],
   "source": [
    "print(gridsearch_climate_1.best_score_)\n",
    "print(gridsearch_climate_1.best_params_)"
   ]
  },
  {
   "cell_type": "markdown",
   "id": "cde00273",
   "metadata": {},
   "source": [
    "#### Target variable 2: WUE_SDG"
   ]
  },
  {
   "cell_type": "code",
   "execution_count": 18,
   "id": "dff71f9b",
   "metadata": {},
   "outputs": [
    {
     "name": "stdout",
     "output_type": "stream",
     "text": [
      "Fitting 5 folds for each of 2140 candidates, totalling 10700 fits\n"
     ]
    }
   ],
   "source": [
    "gridsearch_climate_2 = GridSearchCV(\n",
    "    pipe_climate, params, verbose=1, n_jobs=-1).fit(X_train, y_train['WUE_SDG'])"
   ]
  },
  {
   "cell_type": "code",
   "execution_count": 19,
   "id": "2ae5fcbb",
   "metadata": {},
   "outputs": [
    {
     "name": "stdout",
     "output_type": "stream",
     "text": [
      "0.0062427867783801496\n",
      "{'reduce_dim__n_components': 7, 'regressor': RandomForestRegressor(max_depth=5, random_state=0), 'regressor__max_depth': 5, 'scaler': ColumnTransformer(remainder='passthrough',\n",
      "                  transformers=[('logscaler',\n",
      "                                 FunctionTransformer(func=<function log_transform at 0x000001A95C66CA60>),\n",
      "                                 ['Rain', 'IRWR', 'ERWR', 'TRWR', 'IRWR_capita',\n",
      "                                  'ERWR_capita', 'TRWR_capita']),\n",
      "                                ('standardscaler', StandardScaler(),\n",
      "                                 array(['Temp', 'Rain', 'IRWR', 'ERWR', 'TRWR', 'Dep_ratio', 'IRWR_capita',\n",
      "       'ERWR_capita', 'TRWR_capita'], dtype=object))])}\n"
     ]
    }
   ],
   "source": [
    "print(gridsearch_climate_2.best_score_)\n",
    "print(gridsearch_climate_2.best_params_)"
   ]
  },
  {
   "cell_type": "markdown",
   "id": "880c9350",
   "metadata": {},
   "source": [
    "#### Target variable 3: WS_SDG"
   ]
  },
  {
   "cell_type": "code",
   "execution_count": 20,
   "id": "c5653a02",
   "metadata": {},
   "outputs": [
    {
     "name": "stdout",
     "output_type": "stream",
     "text": [
      "Fitting 5 folds for each of 2140 candidates, totalling 10700 fits\n"
     ]
    }
   ],
   "source": [
    "gridsearch_climate_3 = GridSearchCV(\n",
    "    pipe_climate, params, verbose=1, n_jobs=-1).fit(X_train, y_train['WS_SDG'])"
   ]
  },
  {
   "cell_type": "code",
   "execution_count": 21,
   "id": "ea788b25",
   "metadata": {},
   "outputs": [
    {
     "name": "stdout",
     "output_type": "stream",
     "text": [
      "0.5243820829795485\n",
      "{'reduce_dim__n_components': 7, 'regressor': RandomForestRegressor(max_depth=7, random_state=0), 'regressor__max_depth': 7, 'scaler': ColumnTransformer(remainder='passthrough',\n",
      "                  transformers=[('logscaler',\n",
      "                                 FunctionTransformer(func=<function log_transform at 0x000001A95C66CA60>),\n",
      "                                 ['Rain', 'IRWR', 'ERWR', 'TRWR', 'IRWR_capita',\n",
      "                                  'ERWR_capita', 'TRWR_capita']),\n",
      "                                ('robustscaler', RobustScaler(),\n",
      "                                 array(['Temp', 'Rain', 'IRWR', 'ERWR', 'TRWR', 'Dep_ratio', 'IRWR_capita',\n",
      "       'ERWR_capita', 'TRWR_capita'], dtype=object))])}\n"
     ]
    }
   ],
   "source": [
    "print(gridsearch_climate_3.best_score_)\n",
    "print(gridsearch_climate_3.best_params_)"
   ]
  },
  {
   "cell_type": "markdown",
   "id": "e90bc6db",
   "metadata": {},
   "source": [
    "### Best fit model"
   ]
  },
  {
   "cell_type": "markdown",
   "id": "2e44c756",
   "metadata": {},
   "source": [
    "#### Target variable 1: WS_MDG"
   ]
  },
  {
   "cell_type": "code",
   "execution_count": 24,
   "id": "db3101c7",
   "metadata": {},
   "outputs": [],
   "source": [
    "pipe_climate_1 = gridsearch_climate_1.best_estimator_"
   ]
  },
  {
   "cell_type": "code",
   "execution_count": 25,
   "id": "16326f95",
   "metadata": {},
   "outputs": [
    {
     "name": "stdout",
     "output_type": "stream",
     "text": [
      "Model score:  0.5854410039752573\n",
      "R² 0.8280132185491356\n"
     ]
    }
   ],
   "source": [
    "print('Model score: ', pipe_climate_1.score(X_test, y_test['WS_MDG']))\n",
    "y_pred = pipe_climate_1.predict(df_pred_climate)\n",
    "print('R²:', r2_score(df_target_['WS_MDG'], y_pred))"
   ]
  },
  {
   "cell_type": "markdown",
   "id": "afce694f",
   "metadata": {},
   "source": [
    "#### Target variable 2: WUE_SDG"
   ]
  },
  {
   "cell_type": "code",
   "execution_count": 26,
   "id": "f43169c9",
   "metadata": {},
   "outputs": [],
   "source": [
    "pipe_climate_2 = gridsearch_climate_2.best_estimator_"
   ]
  },
  {
   "cell_type": "code",
   "execution_count": 27,
   "id": "614774ad",
   "metadata": {
    "scrolled": true
   },
   "outputs": [
    {
     "name": "stdout",
     "output_type": "stream",
     "text": [
      "Model score:  0.14211126438607113\n",
      "R² 0.5628417177775362\n"
     ]
    }
   ],
   "source": [
    "print('Model score: ', pipe_climate_2.score(X_test, y_test['WUE_SDG']))\n",
    "y_pred = pipe_climate_2.predict(df_pred_climate)\n",
    "print('R²:', r2_score(df_target_[\"WUE_SDG\"], y_pred))"
   ]
  },
  {
   "cell_type": "markdown",
   "id": "d22b9fa8",
   "metadata": {},
   "source": [
    "#### Target variable 3: WS_SDG"
   ]
  },
  {
   "cell_type": "code",
   "execution_count": 28,
   "id": "49a36cd4",
   "metadata": {},
   "outputs": [],
   "source": [
    "pipe_climate_3 = gridsearch_climate_3.best_estimator_"
   ]
  },
  {
   "cell_type": "code",
   "execution_count": 29,
   "id": "c8dd1af6",
   "metadata": {},
   "outputs": [
    {
     "name": "stdout",
     "output_type": "stream",
     "text": [
      "Model score:  0.5157602060099814\n",
      "R² 0.8177014414614187\n"
     ]
    }
   ],
   "source": [
    "print('Model score: ', pipe_climate_3.score(X_test, y_test['WS_SDG']))\n",
    "y_pred = pipe_climate_3.predict(df_pred_climate)\n",
    "print('R²:', r2_score(df_target_['WS_SDG'], y_pred))"
   ]
  },
  {
   "cell_type": "markdown",
   "id": "fd2f0dad",
   "metadata": {},
   "source": [
    "## Pipeline: Socio-Economic Variables"
   ]
  },
  {
   "cell_type": "markdown",
   "id": "7869d4d0",
   "metadata": {},
   "source": [
    "### Scalers"
   ]
  },
  {
   "cell_type": "markdown",
   "id": "10c7f09e",
   "metadata": {},
   "source": [
    "All scalers combinations to test:"
   ]
  },
  {
   "cell_type": "code",
   "execution_count": 30,
   "id": "17776cce",
   "metadata": {},
   "outputs": [],
   "source": [
    "scalers_to_test = [\n",
    "    ColumnTransformer(remainder='passthrough',\n",
    "                      transformers=[\n",
    "                          (\"logscaler\", logscaler, [\n",
    "                           'rural_pop', 'urban_pop', 'GDP_pcp'])\n",
    "                      ]),\n",
    "    ColumnTransformer(remainder='passthrough',\n",
    "                      transformers=[\n",
    "                          (\"logscaler\", logscaler, [\n",
    "                           'rural_pop', 'urban_pop', 'GDP_pcp']),\n",
    "                          (\"standardscaler\", StandardScaler(),\n",
    "                           df_pred_socioec.columns.values)\n",
    "                      ]),\n",
    "    ColumnTransformer(remainder='passthrough',\n",
    "                      transformers=[\n",
    "                          (\"logscaler\", logscaler, [\n",
    "                           'rural_pop', 'urban_pop', 'GDP_pcp']),\n",
    "                          (\"robustscaler\", RobustScaler(),\n",
    "                           df_pred_socioec.columns.values)\n",
    "                      ]),\n",
    "    ColumnTransformer(remainder='passthrough',\n",
    "                      transformers=[\n",
    "                          (\"logscaler\", logscaler, [\n",
    "                           'rural_pop', 'urban_pop', 'GDP_pcp']),\n",
    "                          (\"minmaxscaler\", MinMaxScaler(),\n",
    "                           df_pred_socioec.columns.values)\n",
    "                      ])\n",
    "]"
   ]
  },
  {
   "cell_type": "markdown",
   "id": "e36ef8c3",
   "metadata": {},
   "source": [
    "### Dimensionality reduction"
   ]
  },
  {
   "cell_type": "markdown",
   "id": "165b5f1b",
   "metadata": {},
   "source": [
    "All number of components to test for the PCA analysis: "
   ]
  },
  {
   "cell_type": "code",
   "execution_count": 31,
   "id": "3ddfaaf0",
   "metadata": {},
   "outputs": [],
   "source": [
    "pca_socioec = PCA()"
   ]
  },
  {
   "cell_type": "code",
   "execution_count": 32,
   "id": "5795f263",
   "metadata": {},
   "outputs": [],
   "source": [
    "n_components_to_test = np.arange(3, 8)"
   ]
  },
  {
   "cell_type": "markdown",
   "id": "10a602a4",
   "metadata": {},
   "source": [
    "### Regression model"
   ]
  },
  {
   "cell_type": "markdown",
   "id": "b4fc73dd",
   "metadata": {},
   "source": [
    "All models + model parameters to test: "
   ]
  },
  {
   "cell_type": "code",
   "execution_count": 33,
   "id": "b31593a0",
   "metadata": {},
   "outputs": [],
   "source": [
    "model_1 = RandomForestRegressor(random_state=0)\n",
    "max_depth_to_test = np.arange(2, 8)\n",
    "\n",
    "model_2 = LinearRegression()\n",
    "\n",
    "model_3 = Ridge()\n",
    "alpha_to_test = np.power(10, np.arange(-2, 0, 0.02))"
   ]
  },
  {
   "cell_type": "markdown",
   "id": "560dd594",
   "metadata": {},
   "source": [
    "### List of parameters to test"
   ]
  },
  {
   "cell_type": "markdown",
   "id": "4614bcdb",
   "metadata": {},
   "source": [
    "Make list of parameter dictionaries (one for each model):"
   ]
  },
  {
   "cell_type": "code",
   "execution_count": 34,
   "id": "4e09728e",
   "metadata": {},
   "outputs": [],
   "source": [
    "params = [\n",
    "    {'scaler': scalers_to_test,\n",
    "     'reduce_dim__n_components': n_components_to_test,\n",
    "     'regressor': [model_1],\n",
    "     'regressor__max_depth': max_depth_to_test},\n",
    "\n",
    "    {'scaler': scalers_to_test,\n",
    "     'reduce_dim__n_components': n_components_to_test,\n",
    "     'regressor': [model_2]},\n",
    "\n",
    "    {'scaler': scalers_to_test,\n",
    "     'reduce_dim__n_components': n_components_to_test,\n",
    "     'regressor': [model_3],\n",
    "     'regressor__alpha': alpha_to_test}\n",
    "]"
   ]
  },
  {
   "cell_type": "markdown",
   "id": "cf009456",
   "metadata": {},
   "source": [
    "### Train, test, split + setup pipeline"
   ]
  },
  {
   "cell_type": "code",
   "execution_count": 35,
   "id": "8409bcdd",
   "metadata": {},
   "outputs": [],
   "source": [
    "X_train, X_test, y_train, y_test = train_test_split(\n",
    "    df_pred_socioec, df_target_, random_state=0)"
   ]
  },
  {
   "cell_type": "code",
   "execution_count": 36,
   "id": "fb606843",
   "metadata": {},
   "outputs": [],
   "source": [
    "pipe_socioec = Pipeline([\n",
    "    ('scaler', scalers_to_test[0]),\n",
    "    ('reduce_dim', pca_socioec),\n",
    "    ('regressor', model_1)\n",
    "])"
   ]
  },
  {
   "cell_type": "markdown",
   "id": "812c82fe",
   "metadata": {},
   "source": [
    "### Gridsearch pipeline"
   ]
  },
  {
   "cell_type": "markdown",
   "id": "014f6cee",
   "metadata": {},
   "source": [
    "#### Target variable 1: WS_MDG"
   ]
  },
  {
   "cell_type": "code",
   "execution_count": 37,
   "id": "92e034e1",
   "metadata": {},
   "outputs": [
    {
     "name": "stdout",
     "output_type": "stream",
     "text": [
      "Fitting 5 folds for each of 2140 candidates, totalling 10700 fits\n"
     ]
    }
   ],
   "source": [
    "gridsearch_socioec_1 = GridSearchCV(\n",
    "    pipe_socioec, params, verbose=1, n_jobs=-1).fit(X_train, y_train['WS_MDG'])"
   ]
  },
  {
   "cell_type": "code",
   "execution_count": 38,
   "id": "15fd7489",
   "metadata": {},
   "outputs": [
    {
     "name": "stdout",
     "output_type": "stream",
     "text": [
      "0.16486168656847294\n",
      "{'reduce_dim__n_components': 7, 'regressor': RandomForestRegressor(max_depth=6, random_state=0), 'regressor__max_depth': 6, 'scaler': ColumnTransformer(remainder='passthrough',\n",
      "                  transformers=[('logscaler',\n",
      "                                 FunctionTransformer(func=<function log_transform at 0x000001A95C66CA60>),\n",
      "                                 ['rural_pop', 'urban_pop', 'GDP_pcp']),\n",
      "                                ('minmaxscaler', MinMaxScaler(),\n",
      "                                 array(['rural_pop', 'urban_pop', 'HDI', 'r_u', 'r_u_access', 'pop_growth',\n",
      "       'mort_rate', 'GDP_pcp', 'life_ex'], dtype=object))])}\n"
     ]
    }
   ],
   "source": [
    "print(gridsearch_socioec_1.best_score_)\n",
    "print(gridsearch_socioec_1.best_params_)"
   ]
  },
  {
   "cell_type": "markdown",
   "id": "d446798c",
   "metadata": {},
   "source": [
    "#### Target variable 2: WUE_SDG"
   ]
  },
  {
   "cell_type": "code",
   "execution_count": 39,
   "id": "0efcc466",
   "metadata": {},
   "outputs": [
    {
     "name": "stdout",
     "output_type": "stream",
     "text": [
      "Fitting 5 folds for each of 2140 candidates, totalling 10700 fits\n"
     ]
    }
   ],
   "source": [
    "gridsearch_socioec_2 = GridSearchCV(\n",
    "    pipe_socioec, params, verbose=1, n_jobs=-1).fit(X_train, y_train['WUE_SDG'])"
   ]
  },
  {
   "cell_type": "code",
   "execution_count": 40,
   "id": "30d88ad6",
   "metadata": {},
   "outputs": [
    {
     "name": "stdout",
     "output_type": "stream",
     "text": [
      "0.4247616291079849\n",
      "{'reduce_dim__n_components': 6, 'regressor': RandomForestRegressor(max_depth=4, random_state=0), 'regressor__max_depth': 4, 'scaler': ColumnTransformer(remainder='passthrough',\n",
      "                  transformers=[('logscaler',\n",
      "                                 FunctionTransformer(func=<function log_transform at 0x000001A95C66CA60>),\n",
      "                                 ['rural_pop', 'urban_pop', 'GDP_pcp']),\n",
      "                                ('standardscaler', StandardScaler(),\n",
      "                                 array(['rural_pop', 'urban_pop', 'HDI', 'r_u', 'r_u_access', 'pop_growth',\n",
      "       'mort_rate', 'GDP_pcp', 'life_ex'], dtype=object))])}\n"
     ]
    }
   ],
   "source": [
    "print(gridsearch_socioec_2.best_score_)\n",
    "print(gridsearch_socioec_2.best_params_)"
   ]
  },
  {
   "cell_type": "markdown",
   "id": "3988a603",
   "metadata": {},
   "source": [
    "#### Target variable 3: WS_SDG"
   ]
  },
  {
   "cell_type": "code",
   "execution_count": 41,
   "id": "8a89b7d0",
   "metadata": {},
   "outputs": [
    {
     "name": "stdout",
     "output_type": "stream",
     "text": [
      "Fitting 5 folds for each of 2140 candidates, totalling 10700 fits\n"
     ]
    }
   ],
   "source": [
    "gridsearch_socioec_3 = GridSearchCV(\n",
    "    pipe_socioec, params, verbose=1, n_jobs=-1).fit(X_train, y_train['WS_SDG'])"
   ]
  },
  {
   "cell_type": "code",
   "execution_count": 42,
   "id": "8755f6be",
   "metadata": {},
   "outputs": [
    {
     "name": "stdout",
     "output_type": "stream",
     "text": [
      "0.23148922402470892\n",
      "{'reduce_dim__n_components': 5, 'regressor': RandomForestRegressor(max_depth=3, random_state=0), 'regressor__max_depth': 3, 'scaler': ColumnTransformer(remainder='passthrough',\n",
      "                  transformers=[('logscaler',\n",
      "                                 FunctionTransformer(func=<function log_transform at 0x000001A95C66CA60>),\n",
      "                                 ['rural_pop', 'urban_pop', 'GDP_pcp']),\n",
      "                                ('standardscaler', StandardScaler(),\n",
      "                                 array(['rural_pop', 'urban_pop', 'HDI', 'r_u', 'r_u_access', 'pop_growth',\n",
      "       'mort_rate', 'GDP_pcp', 'life_ex'], dtype=object))])}\n"
     ]
    }
   ],
   "source": [
    "print(gridsearch_socioec_3.best_score_)\n",
    "print(gridsearch_socioec_3.best_params_)"
   ]
  },
  {
   "cell_type": "markdown",
   "id": "6205377a",
   "metadata": {},
   "source": [
    "### Best fit model"
   ]
  },
  {
   "cell_type": "markdown",
   "id": "a2603eb3",
   "metadata": {},
   "source": [
    "#### Target variable 1: WS_MDG"
   ]
  },
  {
   "cell_type": "code",
   "execution_count": 43,
   "id": "f0dd92b9",
   "metadata": {},
   "outputs": [],
   "source": [
    "pipe_socioec_1 = gridsearch_socioec_1.best_estimator_"
   ]
  },
  {
   "cell_type": "code",
   "execution_count": 44,
   "id": "efd9a190",
   "metadata": {},
   "outputs": [
    {
     "name": "stdout",
     "output_type": "stream",
     "text": [
      "Model score:  0.8285903340685249\n",
      "R² 0.6426520925761263\n"
     ]
    }
   ],
   "source": [
    "print('Model score: ', pipe_socioec_1.score(X_train, y_train['WS_MDG']))\n",
    "y_pred = pipe_socioec_1.predict(df_pred_socioec)\n",
    "print('R²:', r2_score(df_target_['WS_MDG'], y_pred))"
   ]
  },
  {
   "cell_type": "markdown",
   "id": "a97a3468",
   "metadata": {},
   "source": [
    "#### Target variable 2: WUE_SDG"
   ]
  },
  {
   "cell_type": "code",
   "execution_count": 45,
   "id": "877fe887",
   "metadata": {},
   "outputs": [],
   "source": [
    "pipe_socioec_2 = gridsearch_socioec_2.best_estimator_"
   ]
  },
  {
   "cell_type": "code",
   "execution_count": 46,
   "id": "0cc52d91",
   "metadata": {
    "scrolled": true
   },
   "outputs": [
    {
     "name": "stdout",
     "output_type": "stream",
     "text": [
      "Model score:  0.5594247535878233\n",
      "R² 0.7284534757150141\n"
     ]
    }
   ],
   "source": [
    "print('Model score: ', pipe_socioec_2.score(X_test, y_test['WUE_SDG']))\n",
    "y_pred = pipe_socioec_2.predict(df_pred_socioec)\n",
    "print('R²:', r2_score(df_target_['WUE_SDG'], y_pred))"
   ]
  },
  {
   "cell_type": "markdown",
   "id": "6431c623",
   "metadata": {},
   "source": [
    "#### Target variable 3: WS_SDG"
   ]
  },
  {
   "cell_type": "code",
   "execution_count": 47,
   "id": "080a2c01",
   "metadata": {},
   "outputs": [],
   "source": [
    "pipe_socioec_3 = gridsearch_socioec_3.best_estimator_"
   ]
  },
  {
   "cell_type": "code",
   "execution_count": 48,
   "id": "25ab6fd9",
   "metadata": {},
   "outputs": [
    {
     "name": "stdout",
     "output_type": "stream",
     "text": [
      "Model score:  0.03881003653261894\n",
      "R² 0.4273816702154125\n"
     ]
    }
   ],
   "source": [
    "print('Model score: ', pipe_socioec_3.score(X_test, y_test['WS_SDG']))\n",
    "y_pred = pipe_socioec_3.predict(df_pred_socioec)\n",
    "print('R²:', r2_score(df_target_['WS_SDG'], y_pred))"
   ]
  },
  {
   "cell_type": "markdown",
   "id": "9228610b",
   "metadata": {},
   "source": [
    "## Pipeline: Climate + Socio-Economic Variables"
   ]
  },
  {
   "cell_type": "markdown",
   "id": "db423b36",
   "metadata": {},
   "source": [
    "### Scalers"
   ]
  },
  {
   "cell_type": "markdown",
   "id": "f88b64ca",
   "metadata": {},
   "source": [
    "All scalers combinations to test:"
   ]
  },
  {
   "cell_type": "code",
   "execution_count": 8,
   "id": "58809b64",
   "metadata": {},
   "outputs": [],
   "source": [
    "scalers_to_test = [\n",
    "    ColumnTransformer(remainder='passthrough',\n",
    "                      transformers=[\n",
    "                          (\"logscaler\", logscaler, [\n",
    "                           'Rain', 'IRWR', 'ERWR', 'TRWR', 'IRWR_capita', 'ERWR_capita', 'TRWR_capita', 'rural_pop', 'urban_pop', 'GDP_pcp'])\n",
    "                      ]),\n",
    "    ColumnTransformer(remainder='passthrough',\n",
    "                      transformers=[\n",
    "                          (\"logscaler\", logscaler, [\n",
    "                           'Rain', 'IRWR', 'ERWR', 'TRWR', 'IRWR_capita', 'ERWR_capita', 'TRWR_capita', 'rural_pop', 'urban_pop', 'GDP_pcp']),\n",
    "                          (\"standardscaler\", StandardScaler(),\n",
    "                           df_pred.columns.values)\n",
    "                      ]),\n",
    "    ColumnTransformer(remainder='passthrough',\n",
    "                      transformers=[\n",
    "                          (\"logscaler\", logscaler, [\n",
    "                           'Rain', 'IRWR', 'ERWR', 'TRWR', 'IRWR_capita', 'ERWR_capita', 'TRWR_capita', 'rural_pop', 'urban_pop', 'GDP_pcp']),\n",
    "                          (\"robustscaler\", RobustScaler(),\n",
    "                           df_pred.columns.values)\n",
    "                      ]),\n",
    "    ColumnTransformer(remainder='passthrough',\n",
    "                      transformers=[\n",
    "                          (\"logscaler\", logscaler, [\n",
    "                           'Rain', 'IRWR', 'ERWR', 'TRWR', 'IRWR_capita', 'ERWR_capita', 'TRWR_capita', 'rural_pop', 'urban_pop', 'GDP_pcp']),\n",
    "                          (\"minmaxscaler\", MinMaxScaler(),\n",
    "                           df_pred.columns.values)\n",
    "                      ])\n",
    "]"
   ]
  },
  {
   "cell_type": "markdown",
   "id": "6b683041",
   "metadata": {},
   "source": [
    "### Dimensionality reduction"
   ]
  },
  {
   "cell_type": "markdown",
   "id": "8cc7139e",
   "metadata": {},
   "source": [
    "All number of components to test for the PCA analysis: "
   ]
  },
  {
   "cell_type": "code",
   "execution_count": 9,
   "id": "2febaf21",
   "metadata": {},
   "outputs": [],
   "source": [
    "pca_pred = PCA()"
   ]
  },
  {
   "cell_type": "code",
   "execution_count": 10,
   "id": "8ddd85d2",
   "metadata": {},
   "outputs": [],
   "source": [
    "n_components_to_test = np.arange(3, 15)"
   ]
  },
  {
   "cell_type": "markdown",
   "id": "5419ac47",
   "metadata": {},
   "source": [
    "### Regression models"
   ]
  },
  {
   "cell_type": "markdown",
   "id": "c560cf84",
   "metadata": {},
   "source": [
    "All models + model parameters to test: "
   ]
  },
  {
   "cell_type": "code",
   "execution_count": 42,
   "id": "8465958d",
   "metadata": {},
   "outputs": [],
   "source": [
    "model_1 = RandomForestRegressor(random_state=0)\n",
    "max_depth_to_test = np.arange(5, 15)\n",
    "\n",
    "model_2 = LinearRegression()\n",
    "\n",
    "model_3 = Ridge()\n",
    "alpha_to_test = np.arange(0.1, 20, 0.1)"
   ]
  },
  {
   "cell_type": "markdown",
   "id": "dd803d98",
   "metadata": {},
   "source": [
    "### List of parameters to test"
   ]
  },
  {
   "cell_type": "markdown",
   "id": "e4fb0582",
   "metadata": {},
   "source": [
    "Make list of parameter dictionaries (one for each model):"
   ]
  },
  {
   "cell_type": "code",
   "execution_count": 47,
   "id": "0bbba861",
   "metadata": {},
   "outputs": [],
   "source": [
    "params = [\n",
    "    {'scaler': scalers_to_test,\n",
    "     'reduce_dim__n_components': n_components_to_test,\n",
    "     'regressor': [model_1],\n",
    "     'regressor__max_depth': max_depth_to_test},\n",
    "\n",
    "    {'scaler': scalers_to_test,\n",
    "     'reduce_dim__n_components': n_components_to_test,\n",
    "     'regressor': [model_2]},\n",
    "\n",
    "    {'scaler': scalers_to_test,\n",
    "     'reduce_dim__n_components': n_components_to_test,\n",
    "     'regressor': [model_3],\n",
    "     'regressor__alpha': alpha_to_test}\n",
    "]"
   ]
  },
  {
   "cell_type": "markdown",
   "id": "d513c96f",
   "metadata": {},
   "source": [
    "### Train, test, split + setup pipeline"
   ]
  },
  {
   "cell_type": "code",
   "execution_count": 48,
   "id": "7829e7a1",
   "metadata": {
    "scrolled": true
   },
   "outputs": [],
   "source": [
    "X_train, X_test, y_train, y_test = train_test_split(\n",
    "    df_pred, df_target_, random_state=0)"
   ]
  },
  {
   "cell_type": "code",
   "execution_count": 49,
   "id": "73ee5ddd",
   "metadata": {},
   "outputs": [],
   "source": [
    "pipe_pred = Pipeline([\n",
    "    ('scaler', scalers_to_test[0]),\n",
    "    ('reduce_dim', pca_pred),\n",
    "    ('regressor', model_1)\n",
    "])"
   ]
  },
  {
   "cell_type": "markdown",
   "id": "a76cd1a8",
   "metadata": {},
   "source": [
    "### Gridsearch pipeline"
   ]
  },
  {
   "cell_type": "markdown",
   "id": "abdc164d",
   "metadata": {},
   "source": [
    "#### Target variable 1: WS_MDG"
   ]
  },
  {
   "cell_type": "code",
   "execution_count": 50,
   "id": "38f5c97b",
   "metadata": {},
   "outputs": [
    {
     "name": "stdout",
     "output_type": "stream",
     "text": [
      "Fitting 5 folds for each of 2520 candidates, totalling 12600 fits\n"
     ]
    }
   ],
   "source": [
    "gridsearch_1 = GridSearchCV(\n",
    "    pipe_pred, params, verbose=1, n_jobs=-1).fit(X_train, y_train['WS_MDG'])"
   ]
  },
  {
   "cell_type": "code",
   "execution_count": 51,
   "id": "52c6ab7a",
   "metadata": {},
   "outputs": [
    {
     "name": "stdout",
     "output_type": "stream",
     "text": [
      "0.7107286375254427\n",
      "{'reduce_dim__n_components': 12, 'regressor': Ridge(alpha=3.8000000000000003), 'regressor__alpha': 3.8000000000000003, 'scaler': ColumnTransformer(remainder='passthrough',\n",
      "                  transformers=[('logscaler',\n",
      "                                 FunctionTransformer(func=<function log_transform at 0x0000026F292D5F70>),\n",
      "                                 ['Rain', 'IRWR', 'ERWR', 'TRWR', 'IRWR_capita',\n",
      "                                  'ERWR_capita', 'TRWR_capita', 'rural_pop',\n",
      "                                  'urban_pop', 'GDP_pcp'])])}\n"
     ]
    }
   ],
   "source": [
    "print(gridsearch_1.best_score_)\n",
    "print(gridsearch_1.best_params_)"
   ]
  },
  {
   "cell_type": "markdown",
   "id": "c8dfa273",
   "metadata": {},
   "source": [
    "#### Target variable 2: WUE_SDG"
   ]
  },
  {
   "cell_type": "code",
   "execution_count": 52,
   "id": "018dca84",
   "metadata": {},
   "outputs": [
    {
     "name": "stdout",
     "output_type": "stream",
     "text": [
      "Fitting 5 folds for each of 2520 candidates, totalling 12600 fits\n"
     ]
    }
   ],
   "source": [
    "gridsearch_2 = GridSearchCV(\n",
    "    pipe_pred, params, verbose=1, n_jobs=-1).fit(X_train, y_train['WUE_SDG'])"
   ]
  },
  {
   "cell_type": "code",
   "execution_count": 53,
   "id": "e53d0e2d",
   "metadata": {},
   "outputs": [
    {
     "name": "stdout",
     "output_type": "stream",
     "text": [
      "0.37343250310543874\n",
      "{'reduce_dim__n_components': 14, 'regressor': Ridge(alpha=2.7), 'regressor__alpha': 2.7, 'scaler': ColumnTransformer(remainder='passthrough',\n",
      "                  transformers=[('logscaler',\n",
      "                                 FunctionTransformer(func=<function log_transform at 0x0000026F292D5F70>),\n",
      "                                 ['Rain', 'IRWR', 'ERWR', 'TRWR', 'IRWR_capita',\n",
      "                                  'ERWR_capita', 'TRWR_capita', 'rural_pop',\n",
      "                                  'urban_pop', 'GDP_pcp'])])}\n"
     ]
    }
   ],
   "source": [
    "print(gridsearch_2.best_score_)\n",
    "print(gridsearch_2.best_params_)"
   ]
  },
  {
   "cell_type": "markdown",
   "id": "5f8d6629",
   "metadata": {},
   "source": [
    "#### Target variable 3: WS_SDG"
   ]
  },
  {
   "cell_type": "code",
   "execution_count": 54,
   "id": "1f8d3f32",
   "metadata": {},
   "outputs": [
    {
     "name": "stdout",
     "output_type": "stream",
     "text": [
      "Fitting 5 folds for each of 2520 candidates, totalling 12600 fits\n"
     ]
    }
   ],
   "source": [
    "gridsearch_3 = GridSearchCV(\n",
    "    pipe_pred, params, verbose=1, n_jobs=-1).fit(X_train, y_train['WS_SDG'])"
   ]
  },
  {
   "cell_type": "code",
   "execution_count": 55,
   "id": "aace8514",
   "metadata": {},
   "outputs": [
    {
     "name": "stdout",
     "output_type": "stream",
     "text": [
      "0.7064338743330832\n",
      "{'reduce_dim__n_components': 12, 'regressor': Ridge(alpha=2.8000000000000003), 'regressor__alpha': 2.8000000000000003, 'scaler': ColumnTransformer(remainder='passthrough',\n",
      "                  transformers=[('logscaler',\n",
      "                                 FunctionTransformer(func=<function log_transform at 0x0000026F292D5F70>),\n",
      "                                 ['Rain', 'IRWR', 'ERWR', 'TRWR', 'IRWR_capita',\n",
      "                                  'ERWR_capita', 'TRWR_capita', 'rural_pop',\n",
      "                                  'urban_pop', 'GDP_pcp'])])}\n"
     ]
    }
   ],
   "source": [
    "print(gridsearch_3.best_score_)\n",
    "print(gridsearch_3.best_params_)"
   ]
  },
  {
   "cell_type": "markdown",
   "id": "74688ccd",
   "metadata": {},
   "source": [
    "### Best fit model"
   ]
  },
  {
   "cell_type": "markdown",
   "id": "f4a357dd",
   "metadata": {},
   "source": [
    "#### Target variable 1: WS_MDG"
   ]
  },
  {
   "cell_type": "code",
   "execution_count": 56,
   "id": "d882e323",
   "metadata": {},
   "outputs": [],
   "source": [
    "pipe_pred_1 = gridsearch_1.best_estimator_"
   ]
  },
  {
   "cell_type": "code",
   "execution_count": 57,
   "id": "245de2dc",
   "metadata": {},
   "outputs": [
    {
     "name": "stdout",
     "output_type": "stream",
     "text": [
      "Model score:  0.6681031342149129\n",
      "R² 0.7767260877841584\n"
     ]
    }
   ],
   "source": [
    "print('Model score: ', pipe_pred_1.score(X_test, y_test['WS_MDG']))\n",
    "y_pred = pipe_pred_1.predict(df_pred)\n",
    "print('R²:', r2_score(df_target_['WS_MDG'], y_pred))"
   ]
  },
  {
   "cell_type": "markdown",
   "id": "0329878d",
   "metadata": {},
   "source": [
    "#### Target variable 2: WUE_SDG"
   ]
  },
  {
   "cell_type": "code",
   "execution_count": 58,
   "id": "d2699769",
   "metadata": {},
   "outputs": [],
   "source": [
    "pipe_pred_2 = gridsearch_2.best_estimator_"
   ]
  },
  {
   "cell_type": "code",
   "execution_count": 59,
   "id": "5ba08fe7",
   "metadata": {
    "scrolled": true
   },
   "outputs": [
    {
     "name": "stdout",
     "output_type": "stream",
     "text": [
      "Model score:  0.6125779024810283\n",
      "R² 0.6087918096530236\n"
     ]
    }
   ],
   "source": [
    "print('Model score: ', pipe_pred_2.score(X_test, y_test['WUE_SDG']))\n",
    "y_pred = pipe_pred_2.predict(df_pred)\n",
    "print('R²:', r2_score(df_target_['WUE_SDG'], y_pred))"
   ]
  },
  {
   "cell_type": "markdown",
   "id": "41adba0f",
   "metadata": {},
   "source": [
    "#### Target variable 3: WS_SDG"
   ]
  },
  {
   "cell_type": "code",
   "execution_count": 60,
   "id": "bbedbc31",
   "metadata": {},
   "outputs": [],
   "source": [
    "pipe_pred_3 = gridsearch_3.best_estimator_"
   ]
  },
  {
   "cell_type": "code",
   "execution_count": 61,
   "id": "fdf896f1",
   "metadata": {},
   "outputs": [
    {
     "name": "stdout",
     "output_type": "stream",
     "text": [
      "Model score:  0.6627483392955431\n",
      "R² 0.7687793898866029\n"
     ]
    }
   ],
   "source": [
    "print('Model score: ', pipe_pred_3.score(X_test, y_test['WS_SDG']))\n",
    "y_pred = pipe_pred_3.predict(df_pred)\n",
    "print('R²:', r2_score(df_target_['WS_SDG'], y_pred))"
   ]
  }
 ],
 "metadata": {
  "kernelspec": {
   "display_name": "Python 3",
   "language": "python",
   "name": "python3"
  },
  "language_info": {
   "codemirror_mode": {
    "name": "ipython",
    "version": 3
   },
   "file_extension": ".py",
   "mimetype": "text/x-python",
   "name": "python",
   "nbconvert_exporter": "python",
   "pygments_lexer": "ipython3",
   "version": "3.8.10"
  },
  "toc": {
   "base_numbering": 1,
   "nav_menu": {},
   "number_sections": true,
   "sideBar": true,
   "skip_h1_title": true,
   "title_cell": "Table of Contents",
   "title_sidebar": "Contents",
   "toc_cell": false,
   "toc_position": {
    "height": "calc(100% - 180px)",
    "left": "10px",
    "top": "150px",
    "width": "426.667px"
   },
   "toc_section_display": true,
   "toc_window_display": true
  },
  "varInspector": {
   "cols": {
    "lenName": 16,
    "lenType": 16,
    "lenVar": 40
   },
   "kernels_config": {
    "python": {
     "delete_cmd_postfix": "",
     "delete_cmd_prefix": "del ",
     "library": "var_list.py",
     "varRefreshCmd": "print(var_dic_list())"
    },
    "r": {
     "delete_cmd_postfix": ") ",
     "delete_cmd_prefix": "rm(",
     "library": "var_list.r",
     "varRefreshCmd": "cat(var_dic_list()) "
    }
   },
   "types_to_exclude": [
    "module",
    "function",
    "builtin_function_or_method",
    "instance",
    "_Feature"
   ],
   "window_display": false
  }
 },
 "nbformat": 4,
 "nbformat_minor": 5
}
