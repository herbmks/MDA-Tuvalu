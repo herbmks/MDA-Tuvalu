{
 "cells": [
  {
   "cell_type": "markdown",
   "metadata": {},
   "source": [
    "# Modelling part for socio-economic factors"
   ]
  },
  {
   "cell_type": "markdown",
   "metadata": {},
   "source": [
    "## 1. importing modules"
   ]
  },
  {
   "cell_type": "code",
   "execution_count": 102,
   "metadata": {},
   "outputs": [],
   "source": [
    "import pandas as pd\n",
    "import numpy as np\n",
    "from sklearn.ensemble import RandomForestRegressor\n",
    "from sklearn.model_selection import train_test_split\n",
    "from sklearn import metrics\n",
    "import seaborn as sns\n",
    "import matplotlib.pyplot as plt\n",
    "from sklearn.cluster import SpectralClustering\n",
    "from sklearn.preprocessing import StandardScaler, normalize\n",
    "from sklearn.decomposition import PCA\n",
    "from sklearn.metrics import silhouette_score\n",
    "from sklearn.neighbors import kneighbors_graph\n",
    "from sklearn.cluster import KMeans\n",
    "from sklearn.metrics import pairwise_distances, davies_bouldin_score, calinski_harabasz_score\n",
    "from yellowbrick.cluster import SilhouetteVisualizer\n",
    "from yellowbrick.cluster import KElbowVisualizer\n",
    "import utils"
   ]
  },
  {
   "cell_type": "markdown",
   "metadata": {},
   "source": [
    "## 2. importing datasets and preprocessing\n",
    "(Note: this will be taken care of in 1 preprocessing script once done)"
   ]
  },
  {
   "cell_type": "code",
   "execution_count": 60,
   "metadata": {
    "scrolled": true
   },
   "outputs": [],
   "source": [
    "df_socec = pd.read_csv('clean data/socioec_factors.csv', index_col=0)\n",
    "df_stress = pd.read_csv('clean data/water_stress.csv')"
   ]
  },
  {
   "cell_type": "markdown",
   "metadata": {},
   "source": [
    "### 2.1 modifying the datasets\n",
    "1. socio economic: Keep the following variables:\n",
    "    * HDI\n",
    "    * life expectancy\n",
    "    * mortality rate\n",
    "    * population growth\n",
    "    * GDP per capita PPP\n",
    "    * for rural & urban we make new variables rural/urban (so the ratio of the population living in rural areas over urban areas)\n",
    "        * r_u : a variable that indicates the proportion of rural over urban population\n",
    "        * r_u_access : a variable that indicates the proportion of the rural population with access to safe drinking water    \n",
    "2. water stress: we use the water stress (MDG) and water efficiency as separate targets and therefore drop the water stress (SDG)"
   ]
  },
  {
   "cell_type": "code",
   "execution_count": 61,
   "metadata": {},
   "outputs": [],
   "source": [
    "# rename columns for better usage\n",
    "df_socec.rename(columns={'Human Development Index (HDI) [highest = 1] (-)': 'HDI',\n",
    "                         'Rural population (1000 inhab)': 'rural_pop',\n",
    "                         'Urban population (1000 inhab)': 'urban_pop',\n",
    "                         'Rural population with access to safe drinking-water (JMP) (%)': 'rural_water',\n",
    "                         'Urban population with access to safe drinking-water (JMP) (%)': 'urban_water',\n",
    "                         'Life expectancy at birth, total (years)': 'life_ex',\n",
    "                         'Mortality rate, infant (per 1,000 live births)': 'mort_rate',\n",
    "                         'Population growth (annual %)': 'pop_growth',\n",
    "                         'GDP per capita, PPP (constant 2011 international $)': 'GDP_pcp'}, inplace=True)"
   ]
  },
  {
   "cell_type": "code",
   "execution_count": 62,
   "metadata": {},
   "outputs": [
    {
     "data": {
      "text/html": [
       "<div>\n",
       "<style scoped>\n",
       "    .dataframe tbody tr th:only-of-type {\n",
       "        vertical-align: middle;\n",
       "    }\n",
       "\n",
       "    .dataframe tbody tr th {\n",
       "        vertical-align: top;\n",
       "    }\n",
       "\n",
       "    .dataframe thead th {\n",
       "        text-align: right;\n",
       "    }\n",
       "</style>\n",
       "<table border=\"1\" class=\"dataframe\">\n",
       "  <thead>\n",
       "    <tr style=\"text-align: right;\">\n",
       "      <th></th>\n",
       "      <th>Country</th>\n",
       "      <th>HDI</th>\n",
       "      <th>r_u</th>\n",
       "      <th>r_u_access</th>\n",
       "      <th>pop_growth</th>\n",
       "      <th>mort_rate</th>\n",
       "      <th>GDP_pcp</th>\n",
       "      <th>life_ex</th>\n",
       "    </tr>\n",
       "  </thead>\n",
       "  <tbody>\n",
       "    <tr>\n",
       "      <th>0</th>\n",
       "      <td>AFG</td>\n",
       "      <td>0.493</td>\n",
       "      <td>2.960340</td>\n",
       "      <td>0.601023</td>\n",
       "      <td>3.06</td>\n",
       "      <td>53.2</td>\n",
       "      <td>2226.0</td>\n",
       "      <td>63.4</td>\n",
       "    </tr>\n",
       "    <tr>\n",
       "      <th>1</th>\n",
       "      <td>AGO</td>\n",
       "      <td>0.576</td>\n",
       "      <td>0.542292</td>\n",
       "      <td>0.374005</td>\n",
       "      <td>3.44</td>\n",
       "      <td>58.6</td>\n",
       "      <td>7859.4</td>\n",
       "      <td>59.2</td>\n",
       "    </tr>\n",
       "    <tr>\n",
       "      <th>2</th>\n",
       "      <td>ALB</td>\n",
       "      <td>0.789</td>\n",
       "      <td>0.683985</td>\n",
       "      <td>1.003161</td>\n",
       "      <td>-0.20</td>\n",
       "      <td>8.6</td>\n",
       "      <td>12227.4</td>\n",
       "      <td>78.0</td>\n",
       "    </tr>\n",
       "    <tr>\n",
       "      <th>3</th>\n",
       "      <td>ARE</td>\n",
       "      <td>0.864</td>\n",
       "      <td>0.159447</td>\n",
       "      <td>1.004016</td>\n",
       "      <td>0.74</td>\n",
       "      <td>7.0</td>\n",
       "      <td>64243.0</td>\n",
       "      <td>77.2</td>\n",
       "    </tr>\n",
       "    <tr>\n",
       "      <th>4</th>\n",
       "      <td>ARG</td>\n",
       "      <td>0.832</td>\n",
       "      <td>0.089930</td>\n",
       "      <td>1.010101</td>\n",
       "      <td>1.08</td>\n",
       "      <td>10.2</td>\n",
       "      <td>23732.2</td>\n",
       "      <td>76.0</td>\n",
       "    </tr>\n",
       "  </tbody>\n",
       "</table>\n",
       "</div>"
      ],
      "text/plain": [
       "  Country    HDI       r_u  r_u_access  pop_growth  mort_rate  GDP_pcp  \\\n",
       "0     AFG  0.493  2.960340    0.601023        3.06       53.2   2226.0   \n",
       "1     AGO  0.576  0.542292    0.374005        3.44       58.6   7859.4   \n",
       "2     ALB  0.789  0.683985    1.003161       -0.20        8.6  12227.4   \n",
       "3     ARE  0.864  0.159447    1.004016        0.74        7.0  64243.0   \n",
       "4     ARG  0.832  0.089930    1.010101        1.08       10.2  23732.2   \n",
       "\n",
       "   life_ex  \n",
       "0     63.4  \n",
       "1     59.2  \n",
       "2     78.0  \n",
       "3     77.2  \n",
       "4     76.0  "
      ]
     },
     "execution_count": 62,
     "metadata": {},
     "output_type": "execute_result"
    }
   ],
   "source": [
    "# create new features\n",
    "df_socec['r_u'] = df_socec['rural_pop']/df_socec['urban_pop']\n",
    "df_socec['r_u_access'] = df_socec['rural_water']/df_socec['urban_water']\n",
    "# final socio-economic dataset\n",
    "df_socec = df_socec[['Country', 'HDI', 'r_u', 'r_u_access',\n",
    "                     'pop_growth', 'mort_rate', 'GDP_pcp', 'life_ex']]\n",
    "df_socec.head()"
   ]
  },
  {
   "cell_type": "code",
   "execution_count": 77,
   "metadata": {},
   "outputs": [],
   "source": [
    "# merge the two datasets into 1 for later use\n",
    "df_total = pd.merge(df_socec, df_stress, on=['Country'], how='left')\n",
    "# drop water stress (SDG)\n",
    "df_total = df_total.drop(['Water stress (SDG)', 'Unnamed: 0'], axis=1)\n",
    "# rename columns for easier use\n",
    "df_total = df_total.rename(\n",
    "    columns={'Water stress (MDG)': 'stress', 'Water use efficiency (SDG)': 'efficiency'})\n",
    "# drop rows with missing values, this is temporary since it will be handled in the preprocessing scripts\n",
    "df_total = df_total.dropna()"
   ]
  },
  {
   "cell_type": "markdown",
   "metadata": {},
   "source": [
    "## 3 Exploratory analysis\n",
    "### This includes:\n",
    "* Checking the correlations between predictors and target variables\n",
    "* PCA analysis\n",
    "* Clustering: k-means and spectral"
   ]
  },
  {
   "cell_type": "markdown",
   "metadata": {},
   "source": [
    "### 3.1 correlations"
   ]
  },
  {
   "cell_type": "markdown",
   "metadata": {},
   "source": [
    "Conclusion: we expect water stress will be hard to predict with socio-economic factors given the overall low correlations. The water usage efficiency should be slightly easier to predict because some predictors have higher correlations "
   ]
  },
  {
   "cell_type": "code",
   "execution_count": 78,
   "metadata": {},
   "outputs": [
    {
     "name": "stdout",
     "output_type": "stream",
     "text": [
      "correlations with stress : \n",
      " stress        1.000000\n",
      "GDP_pcp       0.273908\n",
      "pop_growth    0.159887\n",
      "r_u_access    0.141995\n",
      "HDI           0.127326\n",
      "life_ex       0.095724\n",
      "efficiency    0.040949\n",
      "r_u          -0.135479\n",
      "mort_rate    -0.136546\n",
      "Name: stress, dtype: float64\n",
      "correlations with effiency : \n",
      " efficiency    1.000000\n",
      "GDP_pcp       0.659415\n",
      "HDI           0.350520\n",
      "life_ex       0.300403\n",
      "r_u_access    0.184661\n",
      "stress        0.040949\n",
      "pop_growth   -0.006180\n",
      "r_u          -0.221273\n",
      "mort_rate    -0.251949\n",
      "Name: efficiency, dtype: float64\n"
     ]
    }
   ],
   "source": [
    "corr_stress = df_total.corr()['stress'].sort_values(ascending=False)\n",
    "corr_effiency = df_total.corr()['efficiency'].sort_values(ascending=False)\n",
    "print('correlations with stress : \\n', corr_stress)\n",
    "print('correlations with effiency : \\n', corr_effiency)"
   ]
  },
  {
   "cell_type": "markdown",
   "metadata": {},
   "source": [
    "### 3.2 PCA analysis"
   ]
  },
  {
   "cell_type": "markdown",
   "metadata": {},
   "source": [
    "#### 3.2.1 Create a copy of our data"
   ]
  },
  {
   "cell_type": "code",
   "execution_count": 79,
   "metadata": {},
   "outputs": [],
   "source": [
    "data = df_total.copy()"
   ]
  },
  {
   "cell_type": "markdown",
   "metadata": {},
   "source": [
    "#### 3.2.2 Scale the numeric data"
   ]
  },
  {
   "cell_type": "code",
   "execution_count": 80,
   "metadata": {},
   "outputs": [],
   "source": [
    "# select numeric vars\n",
    "num_d = data.select_dtypes(include=['float64'])\n",
    "\n",
    "# Putting response variable to y\n",
    "y = data['Country']\n",
    "\n",
    "# scale the data\n",
    "scaler = StandardScaler()\n",
    "data[num_d.columns] = scaler.fit_transform(num_d)"
   ]
  },
  {
   "cell_type": "markdown",
   "metadata": {},
   "source": [
    "#### 3.2.3 create a data set that only includes predictors to perform PCA"
   ]
  },
  {
   "cell_type": "code",
   "execution_count": 81,
   "metadata": {},
   "outputs": [
    {
     "data": {
      "text/html": [
       "<div>\n",
       "<style scoped>\n",
       "    .dataframe tbody tr th:only-of-type {\n",
       "        vertical-align: middle;\n",
       "    }\n",
       "\n",
       "    .dataframe tbody tr th {\n",
       "        vertical-align: top;\n",
       "    }\n",
       "\n",
       "    .dataframe thead th {\n",
       "        text-align: right;\n",
       "    }\n",
       "</style>\n",
       "<table border=\"1\" class=\"dataframe\">\n",
       "  <thead>\n",
       "    <tr style=\"text-align: right;\">\n",
       "      <th></th>\n",
       "      <th>HDI</th>\n",
       "      <th>r_u</th>\n",
       "      <th>r_u_access</th>\n",
       "      <th>pop_growth</th>\n",
       "      <th>mort_rate</th>\n",
       "      <th>GDP_pcp</th>\n",
       "      <th>life_ex</th>\n",
       "    </tr>\n",
       "  </thead>\n",
       "  <tbody>\n",
       "    <tr>\n",
       "      <th>0</th>\n",
       "      <td>-1.372006</td>\n",
       "      <td>1.505922</td>\n",
       "      <td>-1.617125</td>\n",
       "      <td>1.233024</td>\n",
       "      <td>1.364589</td>\n",
       "      <td>-0.818518</td>\n",
       "      <td>-1.003998</td>\n",
       "    </tr>\n",
       "    <tr>\n",
       "      <th>1</th>\n",
       "      <td>-0.837114</td>\n",
       "      <td>-0.439302</td>\n",
       "      <td>-3.010320</td>\n",
       "      <td>1.552530</td>\n",
       "      <td>1.619939</td>\n",
       "      <td>-0.543204</td>\n",
       "      <td>-1.530676</td>\n",
       "    </tr>\n",
       "    <tr>\n",
       "      <th>2</th>\n",
       "      <td>0.535563</td>\n",
       "      <td>-0.325316</td>\n",
       "      <td>0.850776</td>\n",
       "      <td>-1.508001</td>\n",
       "      <td>-0.744411</td>\n",
       "      <td>-0.329733</td>\n",
       "      <td>0.826834</td>\n",
       "    </tr>\n",
       "    <tr>\n",
       "      <th>3</th>\n",
       "      <td>1.018900</td>\n",
       "      <td>-0.747285</td>\n",
       "      <td>0.856022</td>\n",
       "      <td>-0.717644</td>\n",
       "      <td>-0.820070</td>\n",
       "      <td>2.212356</td>\n",
       "      <td>0.726514</td>\n",
       "    </tr>\n",
       "    <tr>\n",
       "      <th>4</th>\n",
       "      <td>0.812676</td>\n",
       "      <td>-0.803209</td>\n",
       "      <td>0.893365</td>\n",
       "      <td>-0.431770</td>\n",
       "      <td>-0.668752</td>\n",
       "      <td>0.232526</td>\n",
       "      <td>0.576035</td>\n",
       "    </tr>\n",
       "  </tbody>\n",
       "</table>\n",
       "</div>"
      ],
      "text/plain": [
       "        HDI       r_u  r_u_access  pop_growth  mort_rate   GDP_pcp   life_ex\n",
       "0 -1.372006  1.505922   -1.617125    1.233024   1.364589 -0.818518 -1.003998\n",
       "1 -0.837114 -0.439302   -3.010320    1.552530   1.619939 -0.543204 -1.530676\n",
       "2  0.535563 -0.325316    0.850776   -1.508001  -0.744411 -0.329733  0.826834\n",
       "3  1.018900 -0.747285    0.856022   -0.717644  -0.820070  2.212356  0.726514\n",
       "4  0.812676 -0.803209    0.893365   -0.431770  -0.668752  0.232526  0.576035"
      ]
     },
     "execution_count": 81,
     "metadata": {},
     "output_type": "execute_result"
    }
   ],
   "source": [
    "datX = data.drop(['Country', 'stress', 'efficiency'], axis=1)\n",
    "datX.head()"
   ]
  },
  {
   "cell_type": "markdown",
   "metadata": {},
   "source": [
    "#### 3.2.4 perform PCA"
   ]
  },
  {
   "cell_type": "code",
   "execution_count": 128,
   "metadata": {},
   "outputs": [
    {
     "data": {
      "text/html": [
       "<div>\n",
       "<style scoped>\n",
       "    .dataframe tbody tr th:only-of-type {\n",
       "        vertical-align: middle;\n",
       "    }\n",
       "\n",
       "    .dataframe tbody tr th {\n",
       "        vertical-align: top;\n",
       "    }\n",
       "\n",
       "    .dataframe thead th {\n",
       "        text-align: right;\n",
       "    }\n",
       "</style>\n",
       "<table border=\"1\" class=\"dataframe\">\n",
       "  <thead>\n",
       "    <tr style=\"text-align: right;\">\n",
       "      <th></th>\n",
       "      <th>PC1</th>\n",
       "      <th>PC2</th>\n",
       "      <th>PC3</th>\n",
       "      <th>PC4</th>\n",
       "      <th>PC5</th>\n",
       "      <th>Feature</th>\n",
       "    </tr>\n",
       "  </thead>\n",
       "  <tbody>\n",
       "    <tr>\n",
       "      <th>0</th>\n",
       "      <td>-0.448464</td>\n",
       "      <td>0.085892</td>\n",
       "      <td>-0.008392</td>\n",
       "      <td>-0.145509</td>\n",
       "      <td>-0.089067</td>\n",
       "      <td>HDI</td>\n",
       "    </tr>\n",
       "    <tr>\n",
       "      <th>1</th>\n",
       "      <td>0.300297</td>\n",
       "      <td>-0.381936</td>\n",
       "      <td>0.798764</td>\n",
       "      <td>-0.321830</td>\n",
       "      <td>-0.041152</td>\n",
       "      <td>r_u</td>\n",
       "    </tr>\n",
       "    <tr>\n",
       "      <th>2</th>\n",
       "      <td>-0.368693</td>\n",
       "      <td>-0.241819</td>\n",
       "      <td>0.334890</td>\n",
       "      <td>0.721349</td>\n",
       "      <td>0.416028</td>\n",
       "      <td>r_u_access</td>\n",
       "    </tr>\n",
       "    <tr>\n",
       "      <th>3</th>\n",
       "      <td>0.265624</td>\n",
       "      <td>0.759489</td>\n",
       "      <td>0.379068</td>\n",
       "      <td>0.363465</td>\n",
       "      <td>-0.258469</td>\n",
       "      <td>pop_growth</td>\n",
       "    </tr>\n",
       "    <tr>\n",
       "      <th>4</th>\n",
       "      <td>0.428991</td>\n",
       "      <td>0.072282</td>\n",
       "      <td>-0.161096</td>\n",
       "      <td>0.016437</td>\n",
       "      <td>0.517154</td>\n",
       "      <td>mort_rate</td>\n",
       "    </tr>\n",
       "    <tr>\n",
       "      <th>5</th>\n",
       "      <td>-0.357843</td>\n",
       "      <td>0.453890</td>\n",
       "      <td>0.238691</td>\n",
       "      <td>-0.467850</td>\n",
       "      <td>0.566751</td>\n",
       "      <td>GDP_pcp</td>\n",
       "    </tr>\n",
       "    <tr>\n",
       "      <th>6</th>\n",
       "      <td>-0.436035</td>\n",
       "      <td>0.014376</td>\n",
       "      <td>0.152108</td>\n",
       "      <td>-0.060389</td>\n",
       "      <td>-0.402284</td>\n",
       "      <td>life_ex</td>\n",
       "    </tr>\n",
       "  </tbody>\n",
       "</table>\n",
       "</div>"
      ],
      "text/plain": [
       "        PC1       PC2       PC3       PC4       PC5     Feature\n",
       "0 -0.448464  0.085892 -0.008392 -0.145509 -0.089067         HDI\n",
       "1  0.300297 -0.381936  0.798764 -0.321830 -0.041152         r_u\n",
       "2 -0.368693 -0.241819  0.334890  0.721349  0.416028  r_u_access\n",
       "3  0.265624  0.759489  0.379068  0.363465 -0.258469  pop_growth\n",
       "4  0.428991  0.072282 -0.161096  0.016437  0.517154   mort_rate\n",
       "5 -0.357843  0.453890  0.238691 -0.467850  0.566751     GDP_pcp\n",
       "6 -0.436035  0.014376  0.152108 -0.060389 -0.402284     life_ex"
      ]
     },
     "execution_count": 128,
     "metadata": {},
     "output_type": "execute_result"
    }
   ],
   "source": [
    "pca = PCA(n_components=5)\n",
    "pca.fit(datX)  # obtain the principal components\n",
    "\n",
    "# df_tmp2 will be used in clustering, don't pay attention to this\n",
    "df_tmp2 = pca.transform(datX)\n",
    "df_tmp2 = pd.DataFrame(df_tmp2)\n",
    "df_tmp2.columns = ['P1', 'P2', 'P3', 'P4', 'P5']\n",
    "df_tmp2 = df_tmp2[['P1', 'P2']]\n",
    "\n",
    "# examine which variable leans on which component\n",
    "colnames = list(datX.columns)\n",
    "pcs_df = pd.DataFrame({'PC1': pca.components_[0],\n",
    "                       'PC2': pca.components_[1],\n",
    "                       'PC3': pca.components_[2],\n",
    "                       'PC4': pca.components_[3],\n",
    "                       'PC5': pca.components_[4],\n",
    "                       'Feature': colnames})\n",
    "pcs_df"
   ]
  },
  {
   "cell_type": "markdown",
   "metadata": {},
   "source": [
    "#### Conclusion: \n",
    "We notice that for PC1 all variables have a somewhat similar weight. PC2 is dominated by population growth and GDP per capita. PC3 is mainly the ratio of rural over urban population. PC4 is dominated by rural over urban population access to water. PC5 is a mix again."
   ]
  },
  {
   "cell_type": "markdown",
   "metadata": {},
   "source": [
    "#### 3.2.5 check how many components explain the variance"
   ]
  },
  {
   "cell_type": "code",
   "execution_count": 88,
   "metadata": {},
   "outputs": [
    {
     "data": {
      "image/png": "[encoded data removed]",
      "text/plain": [
       "<Figure size 576x360 with 1 Axes>"
      ]
     },
     "metadata": {
      "needs_background": "light"
     },
     "output_type": "display_data"
    }
   ],
   "source": [
    "%matplotlib inline\n",
    "fig = plt.figure(figsize=(8, 5))\n",
    "plt.plot(np.cumsum(pca.explained_variance_ratio_))\n",
    "plt.xlabel('number of components')\n",
    "plt.ylabel('cumulative explained variance')\n",
    "plt.show()"
   ]
  },
  {
   "cell_type": "markdown",
   "metadata": {},
   "source": [
    "#### Conclusion:\n",
    "We only need 2 components to explain ~90% of the variance."
   ]
  },
  {
   "cell_type": "markdown",
   "metadata": {},
   "source": [
    "#### 3.2.6 examine which variable weighs on PC1 and PC2"
   ]
  },
  {
   "cell_type": "code",
   "execution_count": 89,
   "metadata": {},
   "outputs": [
    {
     "data": {
      "image/png": "[encoded data removed]",
      "text/plain": [
       "<Figure size 720x360 with 1 Axes>"
      ]
     },
     "metadata": {
      "needs_background": "light"
     },
     "output_type": "display_data"
    }
   ],
   "source": [
    "%matplotlib inline\n",
    "fig = plt.figure(figsize=(10, 5))\n",
    "plt.scatter(pcs_df.PC1, pcs_df.PC2)\n",
    "plt.xlabel('Principal Component 1')\n",
    "plt.ylabel('Principal Component 2')\n",
    "for i, txt in enumerate(pcs_df.Feature):\n",
    "    plt.annotate(txt, (pcs_df.PC1[i], pcs_df.PC2[i]))\n",
    "plt.tight_layout()\n",
    "plt.show()"
   ]
  },
  {
   "cell_type": "markdown",
   "metadata": {},
   "source": [
    "#### Conclusion:\n",
    "PC1 is a balanced mix of everything. PC2 is dominated by population growth, GDP per capita and rural over urban population."
   ]
  },
  {
   "cell_type": "markdown",
   "metadata": {},
   "source": [
    "### 3.3 Clustering\n",
    "3.3.1: we look at k-means.\n",
    "\n",
    "3.3.2: we look at spectral clustering.\n",
    "\n",
    "3.3.4: we evaluate the clustering algorithms based on the Silhouette score and David-Bouldin score.\n",
    "\n",
    "3.3.5: we evaluate the clusters by looking how the variable values change for each cluster.\n",
    "\n",
    "* Silhouette score for a set of sample data points is used to measure how dense and well-separated the clusters are. Silhouette score takes into consideration the intra-cluster distance between the sample and other data points within the same cluster (a) and inter-cluster distance between the sample and the next nearest cluster (b).\n",
    "    * The silhouette plots can be used to select the most optimal value of the K (no. of cluster) in K-means clustering. The score ranges between [-1,1] with a score 1 meaning that the clusters are very dense and nicely separated. The score of 0 means that clusters are overlapping. The score of less than 0 means that data belonging to clusters may be wrong/incorrect.\n",
    "* The Davies–Bouldin (DB) criterion is based on a ratio between “within-cluster” and “between-cluster” distances. The optimal clustering has the smallest Davies–Bouldin index value.\n",
    "    * Eg. if two clusters are close together but have a large spread then this ratio will be large, indicating that these clusters are not very distinct."
   ]
  },
  {
   "cell_type": "markdown",
   "metadata": {},
   "source": [
    "### 3.3.1 K-means clustering"
   ]
  },
  {
   "cell_type": "code",
   "execution_count": 130,
   "metadata": {},
   "outputs": [
    {
     "data": {
      "image/png": "[encoded data removed]",
      "text/plain": [
       "<Figure size 576x396 with 1 Axes>"
      ]
     },
     "metadata": {},
     "output_type": "display_data"
    }
   ],
   "source": [
    "df_tmp_n = df_tmp2.copy()\n",
    "sse = {}\n",
    "for k in range(1, 10):\n",
    "    kmeans = KMeans(n_clusters=k, max_iter=1000).fit(df_tmp_n)\n",
    "    df_tmp_n['clusters'] = kmeans.labels_\n",
    "    # print(data[\"clusters\"])\n",
    "    # Inertia: Sum of distances of samples to their closest cluster center\n",
    "    sse[k] = kmeans.inertia_\n",
    "plt.figure()\n",
    "plt.plot(list(sse.keys()), list(sse.values()))\n",
    "plt.xlabel(\"Number of cluster\")\n",
    "plt.ylabel(\"SSE\")\n",
    "plt.show()"
   ]
  },
  {
   "cell_type": "code",
   "execution_count": 99,
   "metadata": {},
   "outputs": [
    {
     "data": {
      "image/png": "[encoded data removed]",
      "text/plain": [
       "<Figure size 1080x576 with 6 Axes>"
      ]
     },
     "metadata": {},
     "output_type": "display_data"
    }
   ],
   "source": [
    "fig, ax = plt.subplots(3, 2, figsize=(15, 8))\n",
    "for i in [2, 3, 4, 5, 6, 7]:\n",
    "    '''\n",
    "    Create KMeans instance for different number of clusters\n",
    "    '''\n",
    "    km = KMeans(n_clusters=i, init='k-means++',\n",
    "                n_init=10, max_iter=100, random_state=42)\n",
    "    q, mod = divmod(i, 2)\n",
    "    '''\n",
    "    Create SilhouetteVisualizer instance with KMeans instance\n",
    "    Fit the visualizer\n",
    "    '''\n",
    "    visualizer = SilhouetteVisualizer(\n",
    "        km, colors='yellowbrick', ax=ax[q-1][mod])\n",
    "    visualizer.fit(df_tmp2)"
   ]
  },
  {
   "cell_type": "code",
   "execution_count": 100,
   "metadata": {},
   "outputs": [
    {
     "data": {
      "image/png": "[encoded data removed]",
      "text/plain": [
       "<Figure size 576x396 with 1 Axes>"
      ]
     },
     "metadata": {},
     "output_type": "display_data"
    },
    {
     "data": {
      "text/plain": [
       "<matplotlib.axes._subplots.AxesSubplot at 0x1f4d8cef348>"
      ]
     },
     "execution_count": 100,
     "metadata": {},
     "output_type": "execute_result"
    }
   ],
   "source": [
    "# Instantiate a scikit-learn K-Means model\n",
    "model = KMeans(random_state=42)\n",
    "\n",
    "# Instantiate the KElbowVisualizer with the number of clusters and the metric\n",
    "visualizer = KElbowVisualizer(\n",
    "    model, k=(2, 9), metric='silhouette', timings=False)\n",
    "\n",
    "# Fit the data and visualize\n",
    "visualizer.fit(df_tmp_n)\n",
    "visualizer.poof()"
   ]
  },
  {
   "cell_type": "markdown",
   "metadata": {},
   "source": [
    "#### Conclusion:\n",
    "K-means clustering with 5 clusters is optimal. A score of 0.556 indicates clustering works reasonably well."
   ]
  },
  {
   "cell_type": "code",
   "execution_count": 103,
   "metadata": {},
   "outputs": [
    {
     "data": {
      "image/png": "[encoded data removed]",
      "text/plain": [
       "<Figure size 576x576 with 1 Axes>"
      ]
     },
     "metadata": {},
     "output_type": "display_data"
    }
   ],
   "source": [
    "kmeans = KMeans(n_clusters=4, random_state=42)\n",
    "kmeans.fit(df_tmp2.values)\n",
    "y_label = kmeans.predict(df_tmp2.values)\n",
    "\n",
    "fix, ax = plt.subplots(1, 1, figsize=(8, 8))\n",
    "for i in np.unique(y_label):\n",
    "    idx = y_label == i\n",
    "    ax.scatter(df_tmp2.values[idx, 0], df_tmp2.values[idx, 1])\n",
    "\n",
    "# plotting the centroids\n",
    "ax.scatter(kmeans.cluster_centers_[:, 0], kmeans.cluster_centers_[\n",
    "           :, 1], color='k', s=80.0, label='centroids')\n",
    "ax.legend()"
   ]
  },
  {
   "cell_type": "markdown",
   "metadata": {},
   "source": [
    "### 3.3.2 Spectral clustering"
   ]
  },
  {
   "cell_type": "code",
   "execution_count": 131,
   "metadata": {},
   "outputs": [],
   "source": [
    "# 5 neighbours is standard practise\n",
    "A = kneighbors_graph(df_tmp2.values, n_neighbors=5).toarray()"
   ]
  },
  {
   "cell_type": "code",
   "execution_count": 133,
   "metadata": {},
   "outputs": [
    {
     "data": {
      "image/png": "[encoded data removed]",
      "text/plain": [
       "<Figure size 576x576 with 1 Axes>"
      ]
     },
     "metadata": {},
     "output_type": "display_data"
    }
   ],
   "source": [
    "fig, ax = plt.subplots(1, 1, figsize=(8, 8))\n",
    "plt.scatter(df_tmp2['P1'], df_tmp2['P2'])"
   ]
  },
  {
   "cell_type": "code",
   "execution_count": 134,
   "metadata": {},
   "outputs": [],
   "source": [
    "D = np.diag(A.sum(axis=1))\n",
    "L = D-A"
   ]
  },
  {
   "cell_type": "code",
   "execution_count": 135,
   "metadata": {},
   "outputs": [],
   "source": [
    "vals, vecs = np.linalg.eig(L)\n",
    "vals = np.real(vals)\n",
    "vecs = np.real(vecs)"
   ]
  },
  {
   "cell_type": "code",
   "execution_count": 136,
   "metadata": {},
   "outputs": [],
   "source": [
    "vecs_sorted = vecs[:, np.argsort((vals))]\n",
    "vals_sorted = vals[np.argsort((vals))]"
   ]
  },
  {
   "cell_type": "markdown",
   "metadata": {},
   "source": [
    "uncomment if you want to visualise eigenvalues\n"
   ]
  },
  {
   "cell_type": "code",
   "execution_count": 216,
   "metadata": {},
   "outputs": [
    {
     "data": {
      "text/plain": [
       "\"fig , ax = plt.subplots(1,1,figsize=(5,5))\\nax.scatter(np.arange(0,len(vals_sorted)),abs(vals_sorted))\\nax.set_title('Eigen values',fontsize=12);\""
      ]
     },
     "execution_count": 216,
     "metadata": {},
     "output_type": "execute_result"
    }
   ],
   "source": [
    "'''fig , ax = plt.subplots(1,1,figsize=(5,5))\n",
    "ax.scatter(np.arange(0,len(vals_sorted)),abs(vals_sorted))\n",
    "ax.set_title('Eigen values',fontsize=12);'''"
   ]
  },
  {
   "cell_type": "code",
   "execution_count": 138,
   "metadata": {},
   "outputs": [],
   "source": [
    "U = np.array((vecs_sorted[:, 1])).reshape(-1, 1)"
   ]
  },
  {
   "cell_type": "code",
   "execution_count": 139,
   "metadata": {},
   "outputs": [],
   "source": [
    "km = KMeans(init='k-means++', n_clusters=5, random_state=42)\n",
    "km.fit(U);"
   ]
  },
  {
   "cell_type": "code",
   "execution_count": 140,
   "metadata": {},
   "outputs": [
    {
     "data": {
      "image/png": "[encoded data removed]",
      "text/plain": [
       "<Figure size 720x720 with 1 Axes>"
      ]
     },
     "metadata": {},
     "output_type": "display_data"
    }
   ],
   "source": [
    "fig, ax = plt.subplots(1, 1, figsize=(10, 10))\n",
    "\n",
    "plt.scatter(df_tmp2.values[km.labels_ == 0, 0],\n",
    "            df_tmp2.values[km.labels_ == 0, 1])\n",
    "plt.scatter(df_tmp2.values[km.labels_ == 1, 0],\n",
    "            df_tmp2.values[km.labels_ == 1, 1])\n",
    "plt.scatter(df_tmp2.values[km.labels_ == 2, 0],\n",
    "            df_tmp2.values[km.labels_ == 2, 1])\n",
    "plt.scatter(df_tmp2.values[km.labels_ == 3, 0],\n",
    "            df_tmp2.values[km.labels_ == 3, 1])\n",
    "plt.scatter(df_tmp2.values[km.labels_ == 4, 0],\n",
    "            df_tmp2.values[km.labels_ == 4, 1])"
   ]
  },
  {
   "cell_type": "markdown",
   "metadata": {},
   "source": [
    "5 clusters looks like overkill, we have 1 cluster containing only 4 datapoints\n",
    "\n",
    "We now build a second spectral clustering model based on rbf affinity.\n",
    "\n",
    "Uncomment the plotting part if you want to visualise."
   ]
  },
  {
   "cell_type": "code",
   "execution_count": 215,
   "metadata": {},
   "outputs": [
    {
     "data": {
      "text/plain": [
       "\"\\nb = plt.scatter(df_tmp2['P1'], df_tmp2['P2'], color ='b');\\ny = plt.scatter(df_tmp2['P1'], df_tmp2['P2'], color ='g');\\nr = plt.scatter(df_tmp2['P1'], df_tmp2['P2'], color ='orange');\\nr1 = plt.scatter(df_tmp2['P1'], df_tmp2['P2'], color ='red');\\ngr = plt.scatter(df_tmp2['P1'], df_tmp2['P2'], color ='gray');\\nplt.figure(figsize =(9, 9))\\nplt.scatter(df_tmp2['P1'], df_tmp2['P2'], c = cvec)\\nplt.legend((b, y,r,r1,gr), ('C 1', 'C 2','C 3','C 4','C 5'))\\nplt.show()\\n\""
      ]
     },
     "execution_count": 215,
     "metadata": {},
     "output_type": "execute_result"
    }
   ],
   "source": [
    "# Building the clustering model\n",
    "spectral_model_tmp = SpectralClustering(n_clusters=5,\n",
    "                                        n_neighbors=5,\n",
    "                                        random_state=42,\n",
    "                                        affinity='rbf')\n",
    "\n",
    "# Training the model and Storing the predicted cluster labels\n",
    "labels_rbf = spectral_model_tmp.fit_predict(df_tmp2)\n",
    "df_tmp2['cluster_rbf'] = spectral_model_tmp.fit_predict(df_tmp2[['P1', 'P2']])\n",
    "# Building the label to colour mapping\n",
    "colours = {}\n",
    "colours[0] = 'b'\n",
    "colours[1] = 'g'\n",
    "colours[2] = 'orange'\n",
    "colours[3] = 'red'\n",
    "colours[4] = 'gray'\n",
    "# Building the colour vector for each data point\n",
    "cvec = [colours[label] for label in labels_rbf]\n",
    "\n",
    "# Plotting the clustered scatter plot\n",
    "'''\n",
    "b = plt.scatter(df_tmp2['P1'], df_tmp2['P2'], color ='b');\n",
    "y = plt.scatter(df_tmp2['P1'], df_tmp2['P2'], color ='g');\n",
    "r = plt.scatter(df_tmp2['P1'], df_tmp2['P2'], color ='orange');\n",
    "r1 = plt.scatter(df_tmp2['P1'], df_tmp2['P2'], color ='red');\n",
    "gr = plt.scatter(df_tmp2['P1'], df_tmp2['P2'], color ='gray');\n",
    "plt.figure(figsize =(9, 9))\n",
    "plt.scatter(df_tmp2['P1'], df_tmp2['P2'], c = cvec)\n",
    "plt.legend((b, y,r,r1,gr), ('C 1', 'C 2','C 3','C 4','C 5'))\n",
    "plt.show()\n",
    "'''"
   ]
  },
  {
   "cell_type": "markdown",
   "metadata": {},
   "source": [
    "We build a second spectral model based on nearest neighbours. Uncomment the plotting part if you want to visualize it."
   ]
  },
  {
   "cell_type": "code",
   "execution_count": 214,
   "metadata": {},
   "outputs": [
    {
     "name": "stderr",
     "output_type": "stream",
     "text": [
      "C:\\Users\\Harol\\anaconda3\\lib\\site-packages\\sklearn\\manifold\\_spectral_embedding.py:236: UserWarning: Graph is not fully connected, spectral embedding may not work as expected.\n",
      "  warnings.warn(\"Graph is not fully connected, spectral embedding\"\n"
     ]
    }
   ],
   "source": [
    "spec_cl = SpectralClustering(\n",
    "    n_clusters=4,\n",
    "    n_neighbors=5,\n",
    "    random_state=42,\n",
    "    affinity='nearest_neighbors')\n",
    "\n",
    "df_tmp2['cluster_cl'] = spec_cl.fit_predict(df_tmp2[['P1', 'P2']])\n",
    "\n",
    "labels_nearest = spec_cl.fit_predict(df_tmp2)\n",
    "\n",
    "# Building the label to colour mapping\n",
    "colours = {}\n",
    "colours[0] = 'b'\n",
    "colours[1] = 'g'\n",
    "colours[2] = 'orange'\n",
    "colours[3] = 'red'\n",
    "colours[4] = 'gray'\n",
    "# Building the colour vector for each data point\n",
    "cvec = [colours[label] for label in labels_nearest]\n",
    "\n",
    "# Plotting the clustered scatter plot\n",
    "\n",
    "#b = plt.scatter(df_tmp2['P1'], df_tmp2['P2'], color ='b');\n",
    "#y = plt.scatter(df_tmp2['P1'], df_tmp2['P2'], color ='g');\n",
    "#r = plt.scatter(df_tmp2['P1'], df_tmp2['P2'], color ='orange');\n",
    "#r1 = plt.scatter(df_tmp2['P1'], df_tmp2['P2'], color ='red');\n",
    "\n",
    "#plt.figure(figsize =(9, 9))\n",
    "#plt.scatter(df_tmp2['P1'], df_tmp2['P2'], c = cvec)\n",
    "#plt.legend((b, y,r,r1), ('C 1', 'C 2','C 3','C 4'))\n",
    "# plt.show()"
   ]
  },
  {
   "cell_type": "markdown",
   "metadata": {},
   "source": [
    "### 3.3.3 score-based evaluation\n",
    "Look at Silhouette scores and Davies-Bouldin.\n",
    "\n",
    "We want to maximize Silhouette score and minimize the Davies-Bouldin score.\n",
    "\n",
    "#### Conclusion: \n",
    "NN-based spectral clustering with 4 clusters yields the best results. Spectral clustering is far better than k-means."
   ]
  },
  {
   "cell_type": "code",
   "execution_count": 189,
   "metadata": {},
   "outputs": [
    {
     "name": "stdout",
     "output_type": "stream",
     "text": [
      "Silhouetter Score k-means: 0.382\n",
      "Silhouetter Score spectral cluster rbf : 0.435\n",
      "Silhouetter Score spectral cluster NN: 0.572\n"
     ]
    }
   ],
   "source": [
    "# Calculate Silhoutte Score\n",
    "\n",
    "score = silhouette_score(df_tmp2, km.labels_, metric='euclidean')\n",
    "score1 = silhouette_score(df_tmp2, df_tmp2.cluster_cl, metric='euclidean')\n",
    "score2 = silhouette_score(df_tmp2, df_tmp2.cluster_rbf, metric='euclidean')\n",
    "\n",
    "\n",
    "print('Silhouetter Score k-means: %.3f' % score)\n",
    "print('Silhouetter Score spectral cluster rbf : %.3f' % score2)\n",
    "print('Silhouetter Score spectral cluster NN: %.3f' % score1)"
   ]
  },
  {
   "cell_type": "code",
   "execution_count": 190,
   "metadata": {},
   "outputs": [
    {
     "name": "stdout",
     "output_type": "stream",
     "text": [
      "davies_bouldin_score kmeans: 1.507\n",
      "davies_bouldin_score spectral cluster rbf: 0.695\n",
      "davies_bouldin_score spectral cluster NN: 0.666\n"
     ]
    }
   ],
   "source": [
    "dbs = davies_bouldin_score(df_tmp2, km.labels_)\n",
    "#db3=davies_bouldin_score(df_tmp2, df_tmp2.clusters)\n",
    "dbs1 = davies_bouldin_score(df_tmp2, df_tmp2.cluster_rbf)\n",
    "dbs2 = davies_bouldin_score(df_tmp2, df_tmp2.cluster_cl)\n",
    "print('davies_bouldin_score kmeans: %.3f' % dbs)\n",
    "print('davies_bouldin_score spectral cluster rbf: %.3f' % dbs1)\n",
    "print('davies_bouldin_score spectral cluster NN: %.3f' % dbs2)"
   ]
  },
  {
   "cell_type": "markdown",
   "metadata": {},
   "source": [
    "### 3.3.4 analysis of optimal clusters"
   ]
  },
  {
   "cell_type": "code",
   "execution_count": 191,
   "metadata": {},
   "outputs": [],
   "source": [
    "df_tmp2.rename(columns={\"cluster_cl\": \"cluster\"}, inplace=True)"
   ]
  },
  {
   "cell_type": "code",
   "execution_count": 195,
   "metadata": {},
   "outputs": [
    {
     "data": {
      "text/html": [
       "<div>\n",
       "<style scoped>\n",
       "    .dataframe tbody tr th:only-of-type {\n",
       "        vertical-align: middle;\n",
       "    }\n",
       "\n",
       "    .dataframe tbody tr th {\n",
       "        vertical-align: top;\n",
       "    }\n",
       "\n",
       "    .dataframe thead th {\n",
       "        text-align: right;\n",
       "    }\n",
       "</style>\n",
       "<table border=\"1\" class=\"dataframe\">\n",
       "  <thead>\n",
       "    <tr style=\"text-align: right;\">\n",
       "      <th></th>\n",
       "      <th>Country</th>\n",
       "      <th>HDI</th>\n",
       "      <th>r_u</th>\n",
       "      <th>r_u_access</th>\n",
       "      <th>pop_growth</th>\n",
       "      <th>mort_rate</th>\n",
       "      <th>GDP_pcp</th>\n",
       "      <th>life_ex</th>\n",
       "      <th>stress</th>\n",
       "      <th>efficiency</th>\n",
       "      <th>P1</th>\n",
       "      <th>P2</th>\n",
       "      <th>cluster_rbf</th>\n",
       "      <th>cluster</th>\n",
       "    </tr>\n",
       "  </thead>\n",
       "  <tbody>\n",
       "    <tr>\n",
       "      <th>108</th>\n",
       "      <td>QAT</td>\n",
       "      <td>0.848</td>\n",
       "      <td>0.009308</td>\n",
       "      <td>1.000000</td>\n",
       "      <td>4.30</td>\n",
       "      <td>6.6</td>\n",
       "      <td>97099.2</td>\n",
       "      <td>80.0</td>\n",
       "      <td>432.413793</td>\n",
       "      <td>191.638949</td>\n",
       "      <td>-2.901417</td>\n",
       "      <td>0.556254</td>\n",
       "      <td>0</td>\n",
       "      <td>3</td>\n",
       "    </tr>\n",
       "    <tr>\n",
       "      <th>3</th>\n",
       "      <td>ARE</td>\n",
       "      <td>0.864</td>\n",
       "      <td>0.159447</td>\n",
       "      <td>1.004016</td>\n",
       "      <td>0.74</td>\n",
       "      <td>7.0</td>\n",
       "      <td>64243.0</td>\n",
       "      <td>77.2</td>\n",
       "      <td>1708.000000</td>\n",
       "      <td>92.773763</td>\n",
       "      <td>-2.647845</td>\n",
       "      <td>0.576220</td>\n",
       "      <td>0</td>\n",
       "      <td>3</td>\n",
       "    </tr>\n",
       "    <tr>\n",
       "      <th>60</th>\n",
       "      <td>IND</td>\n",
       "      <td>0.643</td>\n",
       "      <td>1.976198</td>\n",
       "      <td>0.953656</td>\n",
       "      <td>1.12</td>\n",
       "      <td>35.0</td>\n",
       "      <td>5479.6</td>\n",
       "      <td>68.6</td>\n",
       "      <td>33.884557</td>\n",
       "      <td>2.820583</td>\n",
       "      <td>-2.398202</td>\n",
       "      <td>0.804514</td>\n",
       "      <td>0</td>\n",
       "      <td>3</td>\n",
       "    </tr>\n",
       "    <tr>\n",
       "      <th>87</th>\n",
       "      <td>MMR</td>\n",
       "      <td>0.577</td>\n",
       "      <td>2.297926</td>\n",
       "      <td>0.802589</td>\n",
       "      <td>0.74</td>\n",
       "      <td>40.8</td>\n",
       "      <td>4253.0</td>\n",
       "      <td>65.8</td>\n",
       "      <td>2.845607</td>\n",
       "      <td>1.772521</td>\n",
       "      <td>4.770314</td>\n",
       "      <td>0.279959</td>\n",
       "      <td>3</td>\n",
       "      <td>1</td>\n",
       "    </tr>\n",
       "    <tr>\n",
       "      <th>26</th>\n",
       "      <td>CMR</td>\n",
       "      <td>0.560</td>\n",
       "      <td>0.792842</td>\n",
       "      <td>0.555907</td>\n",
       "      <td>2.68</td>\n",
       "      <td>57.4</td>\n",
       "      <td>3432.8</td>\n",
       "      <td>57.8</td>\n",
       "      <td>0.384390</td>\n",
       "      <td>23.855364</td>\n",
       "      <td>4.223513</td>\n",
       "      <td>1.354748</td>\n",
       "      <td>3</td>\n",
       "      <td>1</td>\n",
       "    </tr>\n",
       "  </tbody>\n",
       "</table>\n",
       "</div>"
      ],
      "text/plain": [
       "    Country    HDI       r_u  r_u_access  pop_growth  mort_rate  GDP_pcp  \\\n",
       "108     QAT  0.848  0.009308    1.000000        4.30        6.6  97099.2   \n",
       "3       ARE  0.864  0.159447    1.004016        0.74        7.0  64243.0   \n",
       "60      IND  0.643  1.976198    0.953656        1.12       35.0   5479.6   \n",
       "87      MMR  0.577  2.297926    0.802589        0.74       40.8   4253.0   \n",
       "26      CMR  0.560  0.792842    0.555907        2.68       57.4   3432.8   \n",
       "\n",
       "     life_ex       stress  efficiency        P1        P2  cluster_rbf  \\\n",
       "108     80.0   432.413793  191.638949 -2.901417  0.556254            0   \n",
       "3       77.2  1708.000000   92.773763 -2.647845  0.576220            0   \n",
       "60      68.6    33.884557    2.820583 -2.398202  0.804514            0   \n",
       "87      65.8     2.845607    1.772521  4.770314  0.279959            3   \n",
       "26      57.8     0.384390   23.855364  4.223513  1.354748            3   \n",
       "\n",
       "     cluster  \n",
       "108        3  \n",
       "3          3  \n",
       "60         3  \n",
       "87         1  \n",
       "26         1  "
      ]
     },
     "execution_count": 195,
     "metadata": {},
     "output_type": "execute_result"
    }
   ],
   "source": [
    "dat_tmp3 = pd.merge(df_total, df_tmp2, left_index=True, right_index=True)\n",
    "dat_tmp3.sample(5)"
   ]
  },
  {
   "cell_type": "code",
   "execution_count": 209,
   "metadata": {},
   "outputs": [],
   "source": [
    "Clus_GDPP = pd.DataFrame(dat_tmp3.groupby([\"cluster\"]).GDP_pcp.mean())\n",
    "Clus_access = pd.DataFrame(dat_tmp3.groupby([\"cluster\"]).r_u_access.mean())\n",
    "Clus_lifexp = pd.DataFrame(dat_tmp3.groupby([\"cluster\"]).life_ex.mean())\n",
    "Clus_mort = pd.DataFrame(dat_tmp3.groupby([\"cluster\"]).mort_rate.mean())\n",
    "Clus_density_pop = pd.DataFrame(dat_tmp3.groupby([\"cluster\"]).r_u.mean())\n",
    "Clus_pop_growth = pd.DataFrame(dat_tmp3.groupby([\"cluster\"]).pop_growth.mean())\n",
    "Clus_HDI = pd.DataFrame(dat_tmp3.groupby([\"cluster\"]).HDI.mean())\n",
    "Clus_w_stress = pd.DataFrame(dat_tmp3.groupby([\"cluster\"]).stress.mean())\n",
    "Clus_W_eff = pd.DataFrame(dat_tmp3.groupby([\"cluster\"]).efficiency.mean())"
   ]
  },
  {
   "cell_type": "code",
   "execution_count": 210,
   "metadata": {},
   "outputs": [
    {
     "data": {
      "text/plain": [
       "2    49\n",
       "1    38\n",
       "0    21\n",
       "3    17\n",
       "Name: cluster, dtype: int64"
      ]
     },
     "execution_count": 210,
     "metadata": {},
     "output_type": "execute_result"
    }
   ],
   "source": [
    "df_tmp2.cluster.value_counts()"
   ]
  },
  {
   "cell_type": "code",
   "execution_count": 211,
   "metadata": {},
   "outputs": [
    {
     "data": {
      "text/html": [
       "<div>\n",
       "<style scoped>\n",
       "    .dataframe tbody tr th:only-of-type {\n",
       "        vertical-align: middle;\n",
       "    }\n",
       "\n",
       "    .dataframe tbody tr th {\n",
       "        vertical-align: top;\n",
       "    }\n",
       "\n",
       "    .dataframe thead th {\n",
       "        text-align: right;\n",
       "    }\n",
       "</style>\n",
       "<table border=\"1\" class=\"dataframe\">\n",
       "  <thead>\n",
       "    <tr style=\"text-align: right;\">\n",
       "      <th></th>\n",
       "      <th>stress</th>\n",
       "      <th>efficiency</th>\n",
       "      <th>GDP_pcp</th>\n",
       "      <th>r_u_access</th>\n",
       "      <th>life_ex</th>\n",
       "      <th>mort_rate</th>\n",
       "      <th>r_u</th>\n",
       "      <th>pop_growth</th>\n",
       "    </tr>\n",
       "    <tr>\n",
       "      <th>cluster</th>\n",
       "      <th></th>\n",
       "      <th></th>\n",
       "      <th></th>\n",
       "      <th></th>\n",
       "      <th></th>\n",
       "      <th></th>\n",
       "      <th></th>\n",
       "      <th></th>\n",
       "    </tr>\n",
       "  </thead>\n",
       "  <tbody>\n",
       "    <tr>\n",
       "      <th>0</th>\n",
       "      <td>208.879538</td>\n",
       "      <td>40.557731</td>\n",
       "      <td>24624.130000</td>\n",
       "      <td>0.909620</td>\n",
       "      <td>74.710000</td>\n",
       "      <td>15.340000</td>\n",
       "      <td>0.620318</td>\n",
       "      <td>1.242000</td>\n",
       "    </tr>\n",
       "    <tr>\n",
       "      <th>1</th>\n",
       "      <td>42.785253</td>\n",
       "      <td>80.805234</td>\n",
       "      <td>17375.041176</td>\n",
       "      <td>0.821002</td>\n",
       "      <td>69.782353</td>\n",
       "      <td>29.358824</td>\n",
       "      <td>1.449353</td>\n",
       "      <td>1.957647</td>\n",
       "    </tr>\n",
       "    <tr>\n",
       "      <th>2</th>\n",
       "      <td>31.493802</td>\n",
       "      <td>39.156191</td>\n",
       "      <td>15222.879070</td>\n",
       "      <td>0.859183</td>\n",
       "      <td>70.869767</td>\n",
       "      <td>26.227907</td>\n",
       "      <td>1.166233</td>\n",
       "      <td>1.417442</td>\n",
       "    </tr>\n",
       "    <tr>\n",
       "      <th>3</th>\n",
       "      <td>155.030724</td>\n",
       "      <td>53.876041</td>\n",
       "      <td>28954.212500</td>\n",
       "      <td>0.922226</td>\n",
       "      <td>73.212500</td>\n",
       "      <td>20.362500</td>\n",
       "      <td>0.573082</td>\n",
       "      <td>1.688750</td>\n",
       "    </tr>\n",
       "  </tbody>\n",
       "</table>\n",
       "</div>"
      ],
      "text/plain": [
       "             stress  efficiency       GDP_pcp  r_u_access    life_ex  \\\n",
       "cluster                                                                \n",
       "0        208.879538   40.557731  24624.130000    0.909620  74.710000   \n",
       "1         42.785253   80.805234  17375.041176    0.821002  69.782353   \n",
       "2         31.493802   39.156191  15222.879070    0.859183  70.869767   \n",
       "3        155.030724   53.876041  28954.212500    0.922226  73.212500   \n",
       "\n",
       "         mort_rate       r_u  pop_growth  \n",
       "cluster                                   \n",
       "0        15.340000  0.620318    1.242000  \n",
       "1        29.358824  1.449353    1.957647  \n",
       "2        26.227907  1.166233    1.417442  \n",
       "3        20.362500  0.573082    1.688750  "
      ]
     },
     "execution_count": 211,
     "metadata": {},
     "output_type": "execute_result"
    }
   ],
   "source": [
    "dfclus = pd.concat([Clus_w_stress, Clus_W_eff, Clus_GDPP,\n",
    "                    Clus_access, Clus_lifexp, Clus_mort, Clus_density_pop, Clus_pop_growth], axis=1)\n",
    "dfclus"
   ]
  },
  {
   "cell_type": "markdown",
   "metadata": {},
   "source": [
    "# 4. Analytics: random forests"
   ]
  },
  {
   "cell_type": "markdown",
   "metadata": {},
   "source": [
    "Still need to improve this part\n",
    "\n",
    "construct the forest"
   ]
  },
  {
   "cell_type": "code",
   "execution_count": 223,
   "metadata": {},
   "outputs": [],
   "source": [
    "# Initialize the classifier, we will keep the default parameters for now\n",
    "model_s = RandomForestRegressor()\n",
    "model_e = RandomForestRegressor()"
   ]
  },
  {
   "cell_type": "code",
   "execution_count": 263,
   "metadata": {},
   "outputs": [],
   "source": [
    "# define predictors and target\n",
    "x = df_total[['HDI', 'r_u', 'r_u_access', 'GDP_pcp',\n",
    "              'life_ex', 'mort_rate', 'pop_growth']]\n",
    "e = df_total[['efficiency']].values\n",
    "s = df_total[['stress']].values"
   ]
  },
  {
   "cell_type": "code",
   "execution_count": 264,
   "metadata": {},
   "outputs": [],
   "source": [
    "# split in train and test\n",
    "x_train, x_test, s_train, s_test = train_test_split(\n",
    "    x, s, test_size=0.2, random_state=0)\n",
    "x2_train, x2_test, e_train, e_test = train_test_split(\n",
    "    x, e, test_size=0.2, random_state=0)"
   ]
  },
  {
   "cell_type": "code",
   "execution_count": 265,
   "metadata": {},
   "outputs": [],
   "source": [
    "model_s.fit(x_train, np.ravel(s_train))\n",
    "model_e.fit(x2_train, np.ravel(e_train))"
   ]
  },
  {
   "cell_type": "code",
   "execution_count": 266,
   "metadata": {},
   "outputs": [],
   "source": [
    "s_pred = model_s.predict(x_test)\n",
    "e_pred = model_e.predict(x2_test)"
   ]
  },
  {
   "cell_type": "code",
   "execution_count": 267,
   "metadata": {},
   "outputs": [
    {
     "name": "stdout",
     "output_type": "stream",
     "text": [
      "Mean Absolute Error water stress: 156.04790202712996\n",
      "Mean Squared Error water stress: 208746.5971166111\n",
      "Root Mean Squared Error water stress: 456.88794809735475\n",
      "Mean Absolute Error efficiency: 62.495788911649825\n",
      "Mean Squared Error efficiency: 22775.651536623078\n",
      "Root Mean Squared Error efficiency: 150.91604134956322\n"
     ]
    }
   ],
   "source": [
    "print('Mean Absolute Error water stress:',\n",
    "      metrics.mean_absolute_error(s_test, s_pred))\n",
    "print('Mean Squared Error water stress:',\n",
    "      metrics.mean_squared_error(s_test, s_pred))\n",
    "print('Root Mean Squared Error water stress:', np.sqrt(\n",
    "    metrics.mean_squared_error(s_test, s_pred)))\n",
    "\n",
    "print('Mean Absolute Error efficiency:',\n",
    "      metrics.mean_absolute_error(e_test, e_pred))\n",
    "print('Mean Squared Error efficiency:',\n",
    "      metrics.mean_squared_error(e_test, e_pred))\n",
    "print('Root Mean Squared Error efficiency:', np.sqrt(\n",
    "    metrics.mean_squared_error(e_test, e_pred)))"
   ]
  },
  {
   "cell_type": "code",
   "execution_count": 269,
   "metadata": {},
   "outputs": [
    {
     "name": "stdout",
     "output_type": "stream",
     "text": [
      "Mean Absolute Error: 191.12 degrees.\n",
      "Mean Absolute Error: 90.07 degrees.\n",
      "Accuracy water stress prediction: -607.43 %.\n",
      "Accuracy efficiency prediction: 5.5 %.\n"
     ]
    }
   ],
   "source": [
    "# Calculate the absolute errors\n",
    "errors1 = abs(s_pred - s_test)\n",
    "errors2 = abs(e_pred - e_test)\n",
    "\n",
    "# Print out the mean absolute error (mae)\n",
    "print('Mean Absolute Error:', round(np.mean(errors1), 2), 'degrees.')\n",
    "print('Mean Absolute Error:', round(np.mean(errors2), 2), 'degrees.')\n",
    "\n",
    "# Calculate mean absolute percentage error (MAPE)\n",
    "mape1 = 100 * (errors1 / s_test)\n",
    "mape2 = 100 * (errors2 / e_test)\n",
    "\n",
    "# Calculate and display accuracy\n",
    "accuracy1 = 100 - np.median(mape1)\n",
    "accuracy2 = 100 - np.median(mape2)\n",
    "\n",
    "print('Accuracy water stress prediction:', round(accuracy1, 2), '%.')\n",
    "print('Accuracy efficiency prediction:', round(accuracy2, 2), '%.')"
   ]
  }
 ],
 "metadata": {
  "kernelspec": {
   "display_name": "Python 3",
   "language": "python",
   "name": "python3"
  },
  "language_info": {
   "codemirror_mode": {
    "name": "ipython",
    "version": 3
   },
   "file_extension": ".py",
   "mimetype": "text/x-python",
   "name": "python",
   "nbconvert_exporter": "python",
   "pygments_lexer": "ipython3",
   "version": "3.8.5"
  },
  "varInspector": {
   "cols": {
    "lenName": 16,
    "lenType": 16,
    "lenVar": 40
   },
   "kernels_config": {
    "python": {
     "delete_cmd_postfix": "",
     "delete_cmd_prefix": "del ",
     "library": "var_list.py",
     "varRefreshCmd": "print(var_dic_list())"
    },
    "r": {
     "delete_cmd_postfix": ") ",
     "delete_cmd_prefix": "rm(",
     "library": "var_list.r",
     "varRefreshCmd": "cat(var_dic_list()) "
    }
   },
   "types_to_exclude": [
    "module",
    "function",
    "builtin_function_or_method",
    "instance",
    "_Feature"
   ],
   "window_display": false
  }
 },
 "nbformat": 4,
 "nbformat_minor": 4
}
