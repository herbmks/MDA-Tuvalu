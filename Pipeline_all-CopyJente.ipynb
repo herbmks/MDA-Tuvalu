{
 "cells": [
  {
   "cell_type": "markdown",
   "metadata": {},
   "source": [
    "# Modelling Pipeline"
   ]
  },
  {
   "cell_type": "markdown",
   "metadata": {},
   "source": [
    "## 1. Import Modules"
   ]
  },
  {
   "cell_type": "code",
   "execution_count": 1,
   "metadata": {
    "ExecuteTime": {
     "end_time": "2021-05-12T12:54:49.448316Z",
     "start_time": "2021-05-12T12:54:47.558137Z"
    }
   },
   "outputs": [],
   "source": [
    "import pandas as pd\n",
    "import numpy as np\n",
    "import matplotlib.pyplot as plt\n",
    "from sklearn.model_selection import train_test_split, GridSearchCV\n",
    "from sklearn.preprocessing import StandardScaler, RobustScaler, QuantileTransformer, FunctionTransformer, MinMaxScaler, Normalizer\n",
    "from sklearn.ensemble import RandomForestRegressor\n",
    "from sklearn.decomposition import PCA\n",
    "from sklearn.cluster import KMeans\n",
    "from sklearn.pipeline import Pipeline\n",
    "from sklearn.metrics import r2_score, accuracy_score\n",
    "from sklearn.impute import KNNImputer\n",
    "from sklearn.compose import ColumnTransformer\n",
    "from scipy.stats import shapiro\n",
    "from sklearn.linear_model import LinearRegression, Ridge, Lasso\n",
    "from sklearn.metrics import classification_report,  confusion_matrix\n",
    "from sklearn.multioutput import MultiOutputRegressor\n",
    "from sklearn.svm import SVR"
   ]
  },
  {
   "cell_type": "markdown",
   "metadata": {
    "ExecuteTime": {
     "end_time": "2021-05-12T12:28:44.583585Z",
     "start_time": "2021-05-12T12:28:44.568582Z"
    }
   },
   "source": [
    "pd.set_option('display.max_columns', None)\n",
    "pd.set_option('display.max_rows', None)\n",
    "pd.set_option('display.max_colwidth', None)"
   ]
  },
  {
   "cell_type": "markdown",
   "metadata": {},
   "source": [
    "## 2. Prepare Data"
   ]
  },
  {
   "cell_type": "markdown",
   "metadata": {},
   "source": [
    "### 2.1 Load Data"
   ]
  },
  {
   "cell_type": "code",
   "execution_count": 2,
   "metadata": {
    "ExecuteTime": {
     "end_time": "2021-05-12T12:54:49.703663Z",
     "start_time": "2021-05-12T12:54:49.688659Z"
    }
   },
   "outputs": [
    {
     "data": {
      "text/html": [
       "<div>\n",
       "<style scoped>\n",
       "    .dataframe tbody tr th:only-of-type {\n",
       "        vertical-align: middle;\n",
       "    }\n",
       "\n",
       "    .dataframe tbody tr th {\n",
       "        vertical-align: top;\n",
       "    }\n",
       "\n",
       "    .dataframe thead th {\n",
       "        text-align: right;\n",
       "    }\n",
       "</style>\n",
       "<table border=\"1\" class=\"dataframe\">\n",
       "  <thead>\n",
       "    <tr style=\"text-align: right;\">\n",
       "      <th></th>\n",
       "      <th>Country</th>\n",
       "      <th>WS_MDG</th>\n",
       "      <th>WUE_SDG</th>\n",
       "      <th>WS_SDG</th>\n",
       "      <th>Temp</th>\n",
       "      <th>Rain</th>\n",
       "      <th>IRWR</th>\n",
       "      <th>ERWR</th>\n",
       "      <th>TRWR</th>\n",
       "      <th>Dep_ratio</th>\n",
       "      <th>rural_pop</th>\n",
       "      <th>urban_pop</th>\n",
       "      <th>HDI</th>\n",
       "      <th>r_u</th>\n",
       "      <th>r_u_access</th>\n",
       "      <th>pop_growth</th>\n",
       "      <th>mort_rate</th>\n",
       "      <th>GDP_pcp</th>\n",
       "      <th>life_ex</th>\n",
       "    </tr>\n",
       "  </thead>\n",
       "  <tbody>\n",
       "    <tr>\n",
       "      <th>0</th>\n",
       "      <td>AFG</td>\n",
       "      <td>31.045462</td>\n",
       "      <td>0.923778</td>\n",
       "      <td>54.757019</td>\n",
       "      <td>14.074742</td>\n",
       "      <td>349.736945</td>\n",
       "      <td>47.15</td>\n",
       "      <td>18.18</td>\n",
       "      <td>65.33</td>\n",
       "      <td>0.278280</td>\n",
       "      <td>26558.609</td>\n",
       "      <td>8971.472</td>\n",
       "      <td>0.493</td>\n",
       "      <td>2.960340</td>\n",
       "      <td>0.601023</td>\n",
       "      <td>3.06</td>\n",
       "      <td>53.2</td>\n",
       "      <td>2226.0</td>\n",
       "      <td>63.4</td>\n",
       "    </tr>\n",
       "    <tr>\n",
       "      <th>1</th>\n",
       "      <td>AGO</td>\n",
       "      <td>0.475539</td>\n",
       "      <td>142.467836</td>\n",
       "      <td>1.871883</td>\n",
       "      <td>22.182196</td>\n",
       "      <td>960.024065</td>\n",
       "      <td>148.00</td>\n",
       "      <td>0.40</td>\n",
       "      <td>148.40</td>\n",
       "      <td>0.002695</td>\n",
       "      <td>10472.554</td>\n",
       "      <td>19311.639</td>\n",
       "      <td>0.576</td>\n",
       "      <td>0.542292</td>\n",
       "      <td>0.374005</td>\n",
       "      <td>3.44</td>\n",
       "      <td>58.6</td>\n",
       "      <td>7859.4</td>\n",
       "      <td>59.2</td>\n",
       "    </tr>\n",
       "    <tr>\n",
       "      <th>2</th>\n",
       "      <td>ALB</td>\n",
       "      <td>3.933775</td>\n",
       "      <td>6.656907</td>\n",
       "      <td>7.139423</td>\n",
       "      <td>12.754647</td>\n",
       "      <td>1079.459167</td>\n",
       "      <td>26.90</td>\n",
       "      <td>3.30</td>\n",
       "      <td>30.20</td>\n",
       "      <td>0.109272</td>\n",
       "      <td>1190.155</td>\n",
       "      <td>1740.032</td>\n",
       "      <td>0.789</td>\n",
       "      <td>0.683985</td>\n",
       "      <td>1.003161</td>\n",
       "      <td>-0.20</td>\n",
       "      <td>8.6</td>\n",
       "      <td>12227.4</td>\n",
       "      <td>78.0</td>\n",
       "    </tr>\n",
       "    <tr>\n",
       "      <th>3</th>\n",
       "      <td>ARE</td>\n",
       "      <td>1708.000000</td>\n",
       "      <td>92.773763</td>\n",
       "      <td>1708.000000</td>\n",
       "      <td>28.010773</td>\n",
       "      <td>64.449765</td>\n",
       "      <td>0.15</td>\n",
       "      <td>0.00</td>\n",
       "      <td>0.15</td>\n",
       "      <td>0.000000</td>\n",
       "      <td>1292.709</td>\n",
       "      <td>8107.436</td>\n",
       "      <td>0.864</td>\n",
       "      <td>0.159447</td>\n",
       "      <td>1.004016</td>\n",
       "      <td>0.74</td>\n",
       "      <td>7.0</td>\n",
       "      <td>64243.0</td>\n",
       "      <td>77.2</td>\n",
       "    </tr>\n",
       "    <tr>\n",
       "      <th>4</th>\n",
       "      <td>ARG</td>\n",
       "      <td>4.301333</td>\n",
       "      <td>13.616564</td>\n",
       "      <td>10.456664</td>\n",
       "      <td>14.767043</td>\n",
       "      <td>598.510300</td>\n",
       "      <td>292.00</td>\n",
       "      <td>584.24</td>\n",
       "      <td>876.24</td>\n",
       "      <td>0.666758</td>\n",
       "      <td>3652.804</td>\n",
       "      <td>40618.237</td>\n",
       "      <td>0.832</td>\n",
       "      <td>0.089930</td>\n",
       "      <td>1.010101</td>\n",
       "      <td>1.08</td>\n",
       "      <td>10.2</td>\n",
       "      <td>23732.2</td>\n",
       "      <td>76.0</td>\n",
       "    </tr>\n",
       "  </tbody>\n",
       "</table>\n",
       "</div>"
      ],
      "text/plain": [
       "  Country       WS_MDG     WUE_SDG       WS_SDG       Temp         Rain  \\\n",
       "0     AFG    31.045462    0.923778    54.757019  14.074742   349.736945   \n",
       "1     AGO     0.475539  142.467836     1.871883  22.182196   960.024065   \n",
       "2     ALB     3.933775    6.656907     7.139423  12.754647  1079.459167   \n",
       "3     ARE  1708.000000   92.773763  1708.000000  28.010773    64.449765   \n",
       "4     ARG     4.301333   13.616564    10.456664  14.767043   598.510300   \n",
       "\n",
       "     IRWR    ERWR    TRWR  Dep_ratio  rural_pop  urban_pop    HDI       r_u  \\\n",
       "0   47.15   18.18   65.33   0.278280  26558.609   8971.472  0.493  2.960340   \n",
       "1  148.00    0.40  148.40   0.002695  10472.554  19311.639  0.576  0.542292   \n",
       "2   26.90    3.30   30.20   0.109272   1190.155   1740.032  0.789  0.683985   \n",
       "3    0.15    0.00    0.15   0.000000   1292.709   8107.436  0.864  0.159447   \n",
       "4  292.00  584.24  876.24   0.666758   3652.804  40618.237  0.832  0.089930   \n",
       "\n",
       "   r_u_access  pop_growth  mort_rate  GDP_pcp  life_ex  \n",
       "0    0.601023        3.06       53.2   2226.0     63.4  \n",
       "1    0.374005        3.44       58.6   7859.4     59.2  \n",
       "2    1.003161       -0.20        8.6  12227.4     78.0  \n",
       "3    1.004016        0.74        7.0  64243.0     77.2  \n",
       "4    1.010101        1.08       10.2  23732.2     76.0  "
      ]
     },
     "execution_count": 2,
     "metadata": {},
     "output_type": "execute_result"
    }
   ],
   "source": [
    "df = pd.read_csv('clean data/final_data.csv', index_col=0)\n",
    "df.head()"
   ]
  },
  {
   "cell_type": "markdown",
   "metadata": {},
   "source": [
    "### 2.1 Add additional climate variables"
   ]
  },
  {
   "cell_type": "code",
   "execution_count": 3,
   "metadata": {
    "ExecuteTime": {
     "end_time": "2021-05-12T12:54:50.936347Z",
     "start_time": "2021-05-12T12:54:50.922344Z"
    }
   },
   "outputs": [],
   "source": [
    "df['IRWR_capita'] = df['IRWR'] / ((df['urban_pop'] + df['rural_pop']) * 1000)\n",
    "df['ERWR_capita'] = df['ERWR'] / ((df['urban_pop'] + df['rural_pop']) * 1000)\n",
    "df['TRWR_capita'] = df['TRWR'] / ((df['urban_pop'] + df['rural_pop']) * 1000)"
   ]
  },
  {
   "cell_type": "markdown",
   "metadata": {},
   "source": [
    "### 2.2 Split dataframe into chosen predictor and target variables"
   ]
  },
  {
   "cell_type": "code",
   "execution_count": 4,
   "metadata": {
    "ExecuteTime": {
     "end_time": "2021-05-12T12:55:17.609988Z",
     "start_time": "2021-05-12T12:55:17.594362Z"
    }
   },
   "outputs": [],
   "source": [
    "df_pred_climate = df.iloc[:, np.r_[4:10, 19:22]]\n",
    "df_pred_socioec = df.iloc[:, 10:18]\n",
    "df_pred = df.iloc[:, 4:22]\n",
    "df_target = df.iloc[:, 1:4]"
   ]
  },
  {
   "cell_type": "markdown",
   "metadata": {},
   "source": [
    "## 3. Pipeline: Predictor Variables"
   ]
  },
  {
   "cell_type": "markdown",
   "metadata": {},
   "source": [
    "### 3.1 Scalers"
   ]
  },
  {
   "cell_type": "code",
   "execution_count": 5,
   "metadata": {},
   "outputs": [],
   "source": [
    "def log_transform(x):\n",
    "    return np.log(x + 1)"
   ]
  },
  {
   "cell_type": "code",
   "execution_count": 6,
   "metadata": {},
   "outputs": [],
   "source": [
    "logscaler = FunctionTransformer(log_transform)"
   ]
  },
  {
   "cell_type": "markdown",
   "metadata": {},
   "source": [
    "### 3.2 Dimensionality reduction"
   ]
  },
  {
   "cell_type": "code",
   "execution_count": 7,
   "metadata": {},
   "outputs": [],
   "source": [
    "pca_target = PCA(n_components=2)"
   ]
  },
  {
   "cell_type": "markdown",
   "metadata": {},
   "source": [
    "### 3.3 Setup pipeline"
   ]
  },
  {
   "cell_type": "code",
   "execution_count": 8,
   "metadata": {},
   "outputs": [],
   "source": [
    "pipe_target = Pipeline([\n",
    "    ('scaler', logscaler),\n",
    "    ('reduce_dim', pca_target)\n",
    "])"
   ]
  },
  {
   "cell_type": "markdown",
   "metadata": {},
   "source": [
    "### 3.4 Fit pipeline"
   ]
  },
  {
   "cell_type": "code",
   "execution_count": 9,
   "metadata": {},
   "outputs": [],
   "source": [
    "df_target_ = pipe_target.fit_transform(df_target)"
   ]
  },
  {
   "cell_type": "code",
   "execution_count": 10,
   "metadata": {
    "scrolled": true
   },
   "outputs": [
    {
     "name": "stdout",
     "output_type": "stream",
     "text": [
      "Principale components: \n",
      " [[ 0.7208814  -0.06902087  0.68961303]\n",
      " [ 0.06914256  0.99722682  0.0275312 ]]\n"
     ]
    }
   ],
   "source": [
    "print('Principale components: \\n', pipe_target.steps[1][1].components_)"
   ]
  },
  {
   "cell_type": "markdown",
   "metadata": {},
   "source": [
    "Principal component 1 = Water stress\\\n",
    "Principal component 2 = Water use efficiency"
   ]
  },
  {
   "cell_type": "code",
   "execution_count": 11,
   "metadata": {
    "scrolled": true
   },
   "outputs": [
    {
     "name": "stdout",
     "output_type": "stream",
     "text": [
      "Explained variance: \n",
      " [0.75740679 0.2363991 ]\n"
     ]
    }
   ],
   "source": [
    "print('Explained variance: \\n',\n",
    "      pipe_target.steps[1][1].explained_variance_ratio_)"
   ]
  },
  {
   "cell_type": "markdown",
   "metadata": {},
   "source": [
    "## 6. Pipeline: Climate + Socio-Economic Variables"
   ]
  },
  {
   "cell_type": "markdown",
   "metadata": {},
   "source": [
    "### 6.1 Scalers"
   ]
  },
  {
   "cell_type": "markdown",
   "metadata": {},
   "source": [
    "All scalers combinations to test:"
   ]
  },
  {
   "cell_type": "code",
   "execution_count": 22,
   "metadata": {},
   "outputs": [],
   "source": [
    "scalers_to_test = [\n",
    "    ColumnTransformer(remainder='passthrough',\n",
    "                      transformers=[\n",
    "                          (\"logscaler\", logscaler, [\n",
    "                           'Rain', 'IRWR', 'ERWR', 'TRWR', 'IRWR_capita', 'ERWR_capita', 'TRWR_capita','rural_pop', 'urban_pop', 'GDP_pcp'])\n",
    "                      ]),\n",
    "    ColumnTransformer(remainder='passthrough',\n",
    "                      transformers=[\n",
    "                          (\"logscaler\", logscaler, [\n",
    "                           'Rain', 'IRWR', 'ERWR', 'TRWR', 'IRWR_capita', 'ERWR_capita', 'TRWR_capita','rural_pop', 'urban_pop', 'GDP_pcp']),\n",
    "                          (\"standardscaler\", StandardScaler(),\n",
    "                           df_pred.columns.values)\n",
    "                      ]),\n",
    "    ColumnTransformer(remainder='passthrough',\n",
    "                      transformers=[\n",
    "                          (\"logscaler\", logscaler, [\n",
    "                           'Rain', 'IRWR', 'ERWR', 'TRWR', 'IRWR_capita', 'ERWR_capita', 'TRWR_capita','rural_pop', 'urban_pop', 'GDP_pcp']),\n",
    "                          (\"robustscaler\", RobustScaler(),\n",
    "                           df_pred.columns.values)\n",
    "                      ]),\n",
    "    ColumnTransformer(remainder='passthrough',\n",
    "                      transformers=[\n",
    "                          (\"logscaler\", logscaler, [\n",
    "                           'Rain', 'IRWR', 'ERWR', 'TRWR', 'IRWR_capita', 'ERWR_capita', 'TRWR_capita','rural_pop', 'urban_pop', 'GDP_pcp']),\n",
    "                          (\"minmaxscaler\", MinMaxScaler(),\n",
    "                           df_pred.columns.values)\n",
    "                      ])\n",
    "]"
   ]
  },
  {
   "cell_type": "markdown",
   "metadata": {},
   "source": [
    "### 6.2 Dimensionality reduction"
   ]
  },
  {
   "cell_type": "markdown",
   "metadata": {},
   "source": [
    "All number of components to test for the PCA analysis: "
   ]
  },
  {
   "cell_type": "code",
   "execution_count": 23,
   "metadata": {},
   "outputs": [],
   "source": [
    "pca_pred = PCA()"
   ]
  },
  {
   "cell_type": "code",
   "execution_count": 24,
   "metadata": {},
   "outputs": [],
   "source": [
    "n_components_to_test = np.arange(3, 15)"
   ]
  },
  {
   "cell_type": "markdown",
   "metadata": {},
   "source": [
    "### 6.3 Regression model"
   ]
  },
  {
   "cell_type": "markdown",
   "metadata": {},
   "source": [
    "All models + model parameters to test: "
   ]
  },
  {
   "cell_type": "code",
   "execution_count": 25,
   "metadata": {},
   "outputs": [],
   "source": [
    "model_1 = RandomForestRegressor(random_state=0)\n",
    "max_depth_to_test = np.arange(2, 15)\n",
    "\n",
    "model_2 = LinearRegression()\n",
    "\n",
    "model_3 = Ridge()\n",
    "alpha_to_test = np.arange(1, 15)"
   ]
  },
  {
   "cell_type": "markdown",
   "metadata": {},
   "source": [
    "### 6.4 List of parameters to test"
   ]
  },
  {
   "cell_type": "markdown",
   "metadata": {},
   "source": [
    "Make list of parameter dictionaries (one for each model):"
   ]
  },
  {
   "cell_type": "code",
   "execution_count": 26,
   "metadata": {},
   "outputs": [],
   "source": [
    "params = [\n",
    "    {'scaler': scalers_to_test,\n",
    "     'reduce_dim__n_components': n_components_to_test,\n",
    "     'regressor': [model_2]},\n",
    "\n",
    "    {'scaler': scalers_to_test,\n",
    "     'reduce_dim__n_components': n_components_to_test,\n",
    "     'regressor': [model_3],\n",
    "     'regressor__alpha': alpha_to_test}\n",
    "]"
   ]
  },
  {
   "cell_type": "markdown",
   "metadata": {},
   "source": [
    "### 6.5 Train, test, split + setup pipeline"
   ]
  },
  {
   "cell_type": "code",
   "execution_count": 101,
   "metadata": {},
   "outputs": [],
   "source": [
    "X_train, X_test, y_train, y_test = train_test_split(\n",
    "    df_pred, df_target, random_state=1)"
   ]
  },
  {
   "cell_type": "code",
   "execution_count": 102,
   "metadata": {},
   "outputs": [],
   "source": [
    "pipe_pred = Pipeline([\n",
    "    ('scaler', scalers_to_test[0]),\n",
    "    ('reduce_dim', pca_pred),\n",
    "    ('regressor', model_1)\n",
    "])"
   ]
  },
  {
   "cell_type": "code",
   "execution_count": 103,
   "metadata": {},
   "outputs": [
    {
     "data": {
      "text/html": [
       "<div>\n",
       "<style scoped>\n",
       "    .dataframe tbody tr th:only-of-type {\n",
       "        vertical-align: middle;\n",
       "    }\n",
       "\n",
       "    .dataframe tbody tr th {\n",
       "        vertical-align: top;\n",
       "    }\n",
       "\n",
       "    .dataframe thead th {\n",
       "        text-align: right;\n",
       "    }\n",
       "</style>\n",
       "<table border=\"1\" class=\"dataframe\">\n",
       "  <thead>\n",
       "    <tr style=\"text-align: right;\">\n",
       "      <th></th>\n",
       "      <th>WS_MDG</th>\n",
       "      <th>WUE_SDG</th>\n",
       "      <th>WS_SDG</th>\n",
       "    </tr>\n",
       "  </thead>\n",
       "  <tbody>\n",
       "    <tr>\n",
       "      <th>42</th>\n",
       "      <td>0.297373</td>\n",
       "      <td>40.949707</td>\n",
       "      <td>0.297373</td>\n",
       "    </tr>\n",
       "    <tr>\n",
       "      <th>100</th>\n",
       "      <td>1.382707</td>\n",
       "      <td>31.517072</td>\n",
       "      <td>6.089404</td>\n",
       "    </tr>\n",
       "    <tr>\n",
       "      <th>55</th>\n",
       "      <td>33.884557</td>\n",
       "      <td>2.820583</td>\n",
       "      <td>66.492093</td>\n",
       "    </tr>\n",
       "    <tr>\n",
       "      <th>53</th>\n",
       "      <td>4.325962</td>\n",
       "      <td>23.880203</td>\n",
       "      <td>7.770294</td>\n",
       "    </tr>\n",
       "    <tr>\n",
       "      <th>44</th>\n",
       "      <td>0.083795</td>\n",
       "      <td>94.789871</td>\n",
       "      <td>0.502166</td>\n",
       "    </tr>\n",
       "    <tr>\n",
       "      <th>...</th>\n",
       "      <td>...</td>\n",
       "      <td>...</td>\n",
       "      <td>...</td>\n",
       "    </tr>\n",
       "    <tr>\n",
       "      <th>9</th>\n",
       "      <td>21.825137</td>\n",
       "      <td>106.071515</td>\n",
       "      <td>49.066339</td>\n",
       "    </tr>\n",
       "    <tr>\n",
       "      <th>72</th>\n",
       "      <td>0.518317</td>\n",
       "      <td>132.417395</td>\n",
       "      <td>1.067177</td>\n",
       "    </tr>\n",
       "    <tr>\n",
       "      <th>12</th>\n",
       "      <td>2.923314</td>\n",
       "      <td>5.715195</td>\n",
       "      <td>5.723339</td>\n",
       "    </tr>\n",
       "    <tr>\n",
       "      <th>107</th>\n",
       "      <td>1.364943</td>\n",
       "      <td>194.076472</td>\n",
       "      <td>3.427128</td>\n",
       "    </tr>\n",
       "    <tr>\n",
       "      <th>37</th>\n",
       "      <td>2.241365</td>\n",
       "      <td>9.028908</td>\n",
       "      <td>6.782353</td>\n",
       "    </tr>\n",
       "  </tbody>\n",
       "</table>\n",
       "<p>91 rows × 3 columns</p>\n",
       "</div>"
      ],
      "text/plain": [
       "        WS_MDG     WUE_SDG     WS_SDG\n",
       "42    0.297373   40.949707   0.297373\n",
       "100   1.382707   31.517072   6.089404\n",
       "55   33.884557    2.820583  66.492093\n",
       "53    4.325962   23.880203   7.770294\n",
       "44    0.083795   94.789871   0.502166\n",
       "..         ...         ...        ...\n",
       "9    21.825137  106.071515  49.066339\n",
       "72    0.518317  132.417395   1.067177\n",
       "12    2.923314    5.715195   5.723339\n",
       "107   1.364943  194.076472   3.427128\n",
       "37    2.241365    9.028908   6.782353\n",
       "\n",
       "[91 rows x 3 columns]"
      ]
     },
     "execution_count": 103,
     "metadata": {},
     "output_type": "execute_result"
    }
   ],
   "source": [
    "y_train"
   ]
  },
  {
   "cell_type": "markdown",
   "metadata": {},
   "source": [
    "### 6.6 Gridsearch pipeline untransformed target variables"
   ]
  },
  {
   "cell_type": "markdown",
   "metadata": {},
   "source": [
    "#### 6.6.1 Target variable 1: WS_MDG"
   ]
  },
  {
   "cell_type": "code",
   "execution_count": 104,
   "metadata": {},
   "outputs": [
    {
     "name": "stdout",
     "output_type": "stream",
     "text": [
      "Fitting 5 folds for each of 720 candidates, totalling 3600 fits\n"
     ]
    }
   ],
   "source": [
    "gridsearch_1 = GridSearchCV(\n",
    "    pipe_pred, params, verbose=1).fit(X_train, y_train['WS_MDG'])"
   ]
  },
  {
   "cell_type": "code",
   "execution_count": 105,
   "metadata": {},
   "outputs": [
    {
     "data": {
      "text/plain": [
       "{'reduce_dim__n_components': 3,\n",
       " 'regressor': Ridge(alpha=14),\n",
       " 'regressor__alpha': 14,\n",
       " 'scaler': ColumnTransformer(remainder='passthrough',\n",
       "                   transformers=[('logscaler',\n",
       "                                  FunctionTransformer(func=<function log_transform at 0x000001FA1DECC268>),\n",
       "                                  ['Rain', 'IRWR', 'ERWR', 'TRWR', 'IRWR_capita',\n",
       "                                   'ERWR_capita', 'TRWR_capita', 'rural_pop',\n",
       "                                   'urban_pop', 'GDP_pcp']),\n",
       "                                 ('robustscaler', RobustScaler(),\n",
       "                                  array(['Temp', 'Rain', 'IRWR', 'ERWR', 'TRWR', 'Dep_ratio', 'rural_pop',\n",
       "        'urban_pop', 'HDI', 'r_u', 'r_u_access', 'pop_growth', 'mort_rate',\n",
       "        'GDP_pcp', 'life_ex', 'IRWR_capita', 'ERWR_capita', 'TRWR_capita'],\n",
       "       dtype=object))])}"
      ]
     },
     "execution_count": 105,
     "metadata": {},
     "output_type": "execute_result"
    }
   ],
   "source": [
    "gridsearch_1.best_params_"
   ]
  },
  {
   "cell_type": "markdown",
   "metadata": {},
   "source": [
    "#### 6.6.2 Target variable 2: WUE_SDG"
   ]
  },
  {
   "cell_type": "code",
   "execution_count": 106,
   "metadata": {},
   "outputs": [
    {
     "name": "stdout",
     "output_type": "stream",
     "text": [
      "Fitting 5 folds for each of 720 candidates, totalling 3600 fits\n"
     ]
    }
   ],
   "source": [
    "gridsearch_2 = GridSearchCV(\n",
    "    pipe_pred, params, verbose=1).fit(X_train, y_train['WUE_SDG'])"
   ]
  },
  {
   "cell_type": "code",
   "execution_count": 107,
   "metadata": {},
   "outputs": [
    {
     "data": {
      "text/plain": [
       "{'reduce_dim__n_components': 3,\n",
       " 'regressor': Ridge(alpha=14),\n",
       " 'regressor__alpha': 14,\n",
       " 'scaler': ColumnTransformer(remainder='passthrough',\n",
       "                   transformers=[('logscaler',\n",
       "                                  FunctionTransformer(func=<function log_transform at 0x000001FA1DECC268>),\n",
       "                                  ['Rain', 'IRWR', 'ERWR', 'TRWR', 'IRWR_capita',\n",
       "                                   'ERWR_capita', 'TRWR_capita', 'rural_pop',\n",
       "                                   'urban_pop', 'GDP_pcp']),\n",
       "                                 ('robustscaler', RobustScaler(),\n",
       "                                  array(['Temp', 'Rain', 'IRWR', 'ERWR', 'TRWR', 'Dep_ratio', 'rural_pop',\n",
       "        'urban_pop', 'HDI', 'r_u', 'r_u_access', 'pop_growth', 'mort_rate',\n",
       "        'GDP_pcp', 'life_ex', 'IRWR_capita', 'ERWR_capita', 'TRWR_capita'],\n",
       "       dtype=object))])}"
      ]
     },
     "execution_count": 107,
     "metadata": {},
     "output_type": "execute_result"
    }
   ],
   "source": [
    "gridsearch_2.best_params_"
   ]
  },
  {
   "cell_type": "markdown",
   "metadata": {},
   "source": [
    "#### 6.6.3 Target variable 3: WS_SDG"
   ]
  },
  {
   "cell_type": "code",
   "execution_count": 108,
   "metadata": {},
   "outputs": [
    {
     "name": "stdout",
     "output_type": "stream",
     "text": [
      "Fitting 5 folds for each of 720 candidates, totalling 3600 fits\n"
     ]
    }
   ],
   "source": [
    "gridsearch_3 = GridSearchCV(\n",
    "    pipe_pred, params, verbose=1).fit(X_train, y_train['WS_SDG'])"
   ]
  },
  {
   "cell_type": "code",
   "execution_count": 109,
   "metadata": {},
   "outputs": [
    {
     "data": {
      "text/plain": [
       "{'reduce_dim__n_components': 3,\n",
       " 'regressor': Ridge(alpha=14),\n",
       " 'regressor__alpha': 14,\n",
       " 'scaler': ColumnTransformer(remainder='passthrough',\n",
       "                   transformers=[('logscaler',\n",
       "                                  FunctionTransformer(func=<function log_transform at 0x000001FA1DECC268>),\n",
       "                                  ['Rain', 'IRWR', 'ERWR', 'TRWR', 'IRWR_capita',\n",
       "                                   'ERWR_capita', 'TRWR_capita', 'rural_pop',\n",
       "                                   'urban_pop', 'GDP_pcp']),\n",
       "                                 ('robustscaler', RobustScaler(),\n",
       "                                  array(['Temp', 'Rain', 'IRWR', 'ERWR', 'TRWR', 'Dep_ratio', 'rural_pop',\n",
       "        'urban_pop', 'HDI', 'r_u', 'r_u_access', 'pop_growth', 'mort_rate',\n",
       "        'GDP_pcp', 'life_ex', 'IRWR_capita', 'ERWR_capita', 'TRWR_capita'],\n",
       "       dtype=object))])}"
      ]
     },
     "execution_count": 109,
     "metadata": {},
     "output_type": "execute_result"
    }
   ],
   "source": [
    "gridsearch_3.best_params_"
   ]
  },
  {
   "cell_type": "markdown",
   "metadata": {},
   "source": [
    "### 6.7 Best fit model untransformed target variables"
   ]
  },
  {
   "cell_type": "markdown",
   "metadata": {},
   "source": [
    "#### 6.7.1 Target variable 1: WS_MDG"
   ]
  },
  {
   "cell_type": "code",
   "execution_count": 40,
   "metadata": {},
   "outputs": [],
   "source": [
    "pipe_pred_1 = Pipeline([\n",
    "    ('scaler', scalers_to_test[0]),\n",
    "    ('reduce_dim', PCA(n_components=3)),\n",
    "    ('regressor', Ridge(alpha=14))\n",
    "])"
   ]
  },
  {
   "cell_type": "code",
   "execution_count": 44,
   "metadata": {},
   "outputs": [
    {
     "name": "stdout",
     "output_type": "stream",
     "text": [
      "Model score:  0.07716704720898693\n",
      "R² 0.10421997376108483\n"
     ]
    }
   ],
   "source": [
    "pipe_pred_1.fit(X_train, y_train['WS_MDG'])\n",
    "print('Model score: ', pipe_pred_1.score(X_test, y_test['WS_MDG']))\n",
    "y_pred = pipe_pred_1.predict(df_pred)\n",
    "print('R²', r2_score(df_target['WS_MDG'], y_pred))"
   ]
  },
  {
   "cell_type": "markdown",
   "metadata": {},
   "source": [
    "#### 6.7.2 Target variable 2: WUE_SDG"
   ]
  },
  {
   "cell_type": "code",
   "execution_count": 45,
   "metadata": {},
   "outputs": [],
   "source": [
    "pipe_pred_2 = Pipeline([\n",
    "    ('scaler', scalers_to_test[0]),\n",
    "    ('reduce_dim', PCA(n_components=14)),\n",
    "    ('regressor', Ridge(alpha=4))\n",
    "])"
   ]
  },
  {
   "cell_type": "code",
   "execution_count": 48,
   "metadata": {
    "scrolled": true
   },
   "outputs": [
    {
     "name": "stdout",
     "output_type": "stream",
     "text": [
      "Model score:  0.15977232963766086\n",
      "R² 0.2338670654381797\n"
     ]
    }
   ],
   "source": [
    "pipe_pred_2.fit(X_train, y_train['WUE_SDG'])\n",
    "print('Model score: ', pipe_pred_2.score(X_test, y_test['WUE_SDG']))\n",
    "y_pred = pipe_pred_2.predict(df_pred)\n",
    "print('R²', r2_score(df_target['WUE_SDG'], y_pred))"
   ]
  },
  {
   "cell_type": "markdown",
   "metadata": {},
   "source": [
    "#### 6.7.2 Target variable 3: WS_SDG"
   ]
  },
  {
   "cell_type": "code",
   "execution_count": 51,
   "metadata": {},
   "outputs": [],
   "source": [
    "pipe_pred_3 = Pipeline([\n",
    "    ('scaler', scalers_to_test[0]),\n",
    "    ('reduce_dim', PCA(n_components=14)),\n",
    "    ('regressor', Ridge(alpha=14))\n",
    "])"
   ]
  },
  {
   "cell_type": "code",
   "execution_count": 56,
   "metadata": {},
   "outputs": [
    {
     "name": "stdout",
     "output_type": "stream",
     "text": [
      "Model score:  0.14172051000433428\n",
      "R² 0.21094794236279968\n"
     ]
    }
   ],
   "source": [
    "pipe_pred_3.fit(X_train, y_train['WS_SDG'])\n",
    "print('Model score: ', pipe_pred_3.score(X_test, y_test['WS_SDG']))\n",
    "y_pred = pipe_pred_3.predict(df_pred)\n",
    "print('R²', r2_score(df_target['WS_SDG'], y_pred))"
   ]
  },
  {
   "cell_type": "code",
   "execution_count": null,
   "metadata": {},
   "outputs": [],
   "source": []
  },
  {
   "cell_type": "code",
   "execution_count": null,
   "metadata": {},
   "outputs": [],
   "source": []
  },
  {
   "cell_type": "code",
   "execution_count": null,
   "metadata": {},
   "outputs": [],
   "source": []
  },
  {
   "cell_type": "markdown",
   "metadata": {},
   "source": [
    "# Gridsearch back on PCA tf target vars"
   ]
  },
  {
   "cell_type": "code",
   "execution_count": 82,
   "metadata": {},
   "outputs": [],
   "source": [
    "X_train, X_test, y_train, y_test = train_test_split(\n",
    "    df_pred, df_target_, random_state=0)"
   ]
  },
  {
   "cell_type": "code",
   "execution_count": 83,
   "metadata": {},
   "outputs": [
    {
     "data": {
      "text/plain": [
       "array([-3.10366648,  0.88189786])"
      ]
     },
     "execution_count": 83,
     "metadata": {},
     "output_type": "execute_result"
    }
   ],
   "source": [
    "y_train[1]"
   ]
  },
  {
   "cell_type": "markdown",
   "metadata": {},
   "source": [
    "#### 6.7.1 Target principal component 1: water stress"
   ]
  },
  {
   "cell_type": "code",
   "execution_count": 84,
   "metadata": {},
   "outputs": [
    {
     "name": "stdout",
     "output_type": "stream",
     "text": [
      "Fitting 5 folds for each of 720 candidates, totalling 3600 fits\n"
     ]
    },
    {
     "data": {
      "text/plain": [
       "{'reduce_dim__n_components': 12,\n",
       " 'regressor': Ridge(alpha=4),\n",
       " 'regressor__alpha': 4,\n",
       " 'scaler': ColumnTransformer(remainder='passthrough',\n",
       "                   transformers=[('logscaler',\n",
       "                                  FunctionTransformer(func=<function log_transform at 0x000001FA1DECC268>),\n",
       "                                  ['Rain', 'IRWR', 'ERWR', 'TRWR', 'IRWR_capita',\n",
       "                                   'ERWR_capita', 'TRWR_capita', 'rural_pop',\n",
       "                                   'urban_pop', 'GDP_pcp'])])}"
      ]
     },
     "execution_count": 84,
     "metadata": {},
     "output_type": "execute_result"
    }
   ],
   "source": [
    "gridsearch_1 = GridSearchCV(\n",
    "    pipe_pred, params, verbose=1).fit(X_train, y_train[:, 0])\n",
    "gridsearch_1.best_params_"
   ]
  },
  {
   "cell_type": "code",
   "execution_count": 85,
   "metadata": {},
   "outputs": [],
   "source": [
    "pipe_pred_1 = Pipeline([\n",
    "    ('scaler', scalers_to_test[0]),\n",
    "    ('reduce_dim', PCA(n_components=12)),\n",
    "    ('regressor', Ridge(alpha=4))\n",
    "])"
   ]
  },
  {
   "cell_type": "code",
   "execution_count": 86,
   "metadata": {},
   "outputs": [
    {
     "name": "stdout",
     "output_type": "stream",
     "text": [
      "Model score:  0.6384512159002251\n",
      "R² 0.7582585643406689\n"
     ]
    }
   ],
   "source": [
    "pipe_pred_1.fit(X_train, y_train[:, 0])\n",
    "print('Model score: ', pipe_pred_1.score(X_test, y_test[:, 0]))\n",
    "y_pred = pipe_pred_1.predict(df_pred)\n",
    "print('R²', r2_score(df_target_[:, 0], y_pred))"
   ]
  },
  {
   "cell_type": "code",
   "execution_count": 136,
   "metadata": {},
   "outputs": [
    {
     "name": "stdout",
     "output_type": "stream",
     "text": [
      "1\n",
      "[-0.03446617 -0.85033001]\n",
      "Model score:  0.6852020939092209\n",
      "R² train -0.06069254326210349\n",
      "R² 0.6852020939092209\n",
      "2\n",
      "[-0.17791501 -0.94159024]\n",
      "Model score:  0.7532182053221645\n",
      "R² train -0.07276329565089523\n",
      "R² 0.7532182053221645\n",
      "3\n",
      "[-1.42823185  0.37598225]\n",
      "Model score:  0.6926897589196481\n",
      "R² train -0.05465228777504039\n",
      "R² 0.6926897589196481\n",
      "4\n",
      "[-0.155684   1.7139551]\n",
      "Model score:  0.8022095359803515\n",
      "R² train -0.033427825962511815\n",
      "R² 0.8022095359803515\n",
      "5\n",
      "[-1.88199048  2.14915967]\n",
      "Model score:  0.8170541323026932\n",
      "R² train -0.04309733516815184\n",
      "R² 0.8170541323026932\n",
      "6\n",
      "[-1.0380791   1.22733331]\n",
      "Model score:  0.6494650354733883\n",
      "R² train -0.044972181960070357\n",
      "R² 0.6494650354733883\n",
      "7\n",
      "[1.46645506 1.77446193]\n",
      "Model score:  0.7997538904242238\n",
      "R² train -0.04256020573412034\n",
      "R² 0.7997538904242238\n",
      "8\n",
      "[ 0.77067348 -1.29051268]\n",
      "Model score:  0.7224852373081552\n",
      "R² train -0.06625796596304845\n",
      "R² 0.7224852373081552\n",
      "9\n",
      "[ 2.16495556 -1.40125756]\n",
      "Model score:  0.655458568174849\n",
      "R² train -0.07055068086054561\n",
      "R² 0.655458568174849\n"
     ]
    }
   ],
   "source": [
    "for i in range(1,10):\n",
    "    print(i)\n",
    "    X_train, X_test, y_train, y_test = train_test_split(\n",
    "        df_pred, df_target_)\n",
    "    print(y_train[1])\n",
    "    pipe_pred_1.fit(X_train, y_train[:, 0])\n",
    "    print('Model score: ', pipe_pred_1.score(X_test, y_test[:, 0]))\n",
    "    y_pred = pipe_pred_1.predict(X_test)\n",
    "    y_pred_train = pipe_pred_4.predict(X_train)\n",
    "    print('R² train', r2_score( y_pred_train,y_train[:,0]))\n",
    "    print('R²', r2_score(y_test[:, 0], y_pred))"
   ]
  },
  {
   "cell_type": "code",
   "execution_count": 88,
   "metadata": {},
   "outputs": [
    {
     "data": {
      "text/plain": [
       "31"
      ]
     },
     "execution_count": 88,
     "metadata": {},
     "output_type": "execute_result"
    }
   ],
   "source": [
    "len(X_test)"
   ]
  },
  {
   "cell_type": "code",
   "execution_count": 89,
   "metadata": {},
   "outputs": [
    {
     "data": {
      "text/plain": [
       "91"
      ]
     },
     "execution_count": 89,
     "metadata": {},
     "output_type": "execute_result"
    }
   ],
   "source": [
    "len(X_train)"
   ]
  },
  {
   "cell_type": "code",
   "execution_count": 122,
   "metadata": {},
   "outputs": [],
   "source": [
    "pipe_pred_4 = Pipeline([\n",
    "    ('scaler', scalers_to_test[0]),\n",
    "    ('reduce_dim', PCA(n_components=12)),\n",
    "    ('regressor', Ridge(alpha=6))\n",
    "])"
   ]
  },
  {
   "cell_type": "code",
   "execution_count": 139,
   "metadata": {},
   "outputs": [
    {
     "name": "stdout",
     "output_type": "stream",
     "text": [
      "1\n",
      "       WS_MDG   WUE_SDG     WS_SDG\n",
      "54  11.028632  3.745191  29.696545\n",
      "Model score:  0.05437498634360938\n",
      "R² train 0.6238184293133968\n",
      "R² test 0.12508046739783163\n",
      "2\n",
      "      WS_MDG    WUE_SDG    WS_SDG\n",
      "28  0.576352  19.030056  2.036213\n",
      "Model score:  0.12773466576601022\n",
      "R² train 0.6759203987778388\n",
      "R² test -1.0290121749612737\n",
      "3\n",
      "      WS_MDG   WUE_SDG     WS_SDG\n",
      "119  9.25915  2.349448  18.130315\n",
      "Model score:  -0.027960863105741307\n",
      "R² train 0.6858470733982511\n",
      "R² test -0.02839836368062021\n",
      "4\n",
      "      WS_MDG     WUE_SDG     WS_SDG\n",
      "9  21.825137  106.071515  49.066339\n",
      "Model score:  0.1627253873913066\n",
      "R² train 0.44521637666784464\n",
      "R² test -24.12942580396095\n",
      "5\n",
      "      WS_MDG    WUE_SDG    WS_SDG\n",
      "85  0.706339  35.203598  0.861553\n",
      "Model score:  0.15912593895161076\n",
      "R² train 0.5009872559707476\n",
      "R² test -19.701938763300703\n",
      "6\n",
      "       WS_MDG  WUE_SDG     WS_SDG\n",
      "57  67.824437  4.77385  81.289081\n",
      "Model score:  -0.04983133202690482\n",
      "R² train 0.6330750805638703\n",
      "R² test 0.11943366710458914\n",
      "7\n",
      "       WS_MDG     WUE_SDG     WS_SDG\n",
      "34  12.351667  368.612902  20.040562\n",
      "Model score:  -0.2974140595542176\n",
      "R² train 0.6351905128007946\n",
      "R² test 0.027884828650261206\n",
      "8\n",
      "       WS_MDG     WUE_SDG      WS_SDG\n",
      "60  67.303371  125.636832  103.356052\n",
      "Model score:  -0.6583787746512397\n",
      "R² train 0.6579735598416928\n",
      "R² test -0.10216159174322814\n",
      "9\n",
      "       WS_MDG   WUE_SDG     WS_SDG\n",
      "69  24.518939  5.814464  90.785414\n",
      "Model score:  -0.03050285942855324\n",
      "R² train 0.7135411754909404\n",
      "R² test -0.587632769040618\n"
     ]
    }
   ],
   "source": [
    "for i in range(1,10):\n",
    "    print(i)\n",
    "    X_train, X_test, y_train, y_test = train_test_split(\n",
    "        df_pred, df_target)\n",
    "    print(y_train.head(1))\n",
    "    pipe_pred_4.fit(X_train, y_train['WS_SDG'])\n",
    "    print('Model score: ', pipe_pred_4.score(X_test, y_test['WS_SDG']))\n",
    "    y_pred_train = pipe_pred_4.predict(X_train)\n",
    "    print('R² train', r2_score(y_train['WS_SDG'], y_pred_train))\n",
    "    y_pred = pipe_pred_4.predict(X_test)\n",
    "    print('R² test', r2_score( y_pred,y_test['WS_SDG']))"
   ]
  },
  {
   "cell_type": "code",
   "execution_count": 133,
   "metadata": {},
   "outputs": [
    {
     "data": {
      "text/plain": [
       "-8669.2602420022"
      ]
     },
     "execution_count": 133,
     "metadata": {},
     "output_type": "execute_result"
    }
   ],
   "source": [
    "r2_score(y_train[:,0], y_pred_train)"
   ]
  },
  {
   "cell_type": "code",
   "execution_count": 134,
   "metadata": {},
   "outputs": [
    {
     "data": {
      "text/plain": [
       "array([ 5.17046529e+02, -2.08771342e+02,  9.91113279e+01,  5.52587498e+01,\n",
       "       -1.22486276e+02, -7.06040137e+01, -3.91956274e+01,  3.73952600e+02,\n",
       "       -3.23126407e+02, -1.13942397e+02, -2.68879134e+01,  7.38812653e+01,\n",
       "       -4.75135592e+01,  1.02303044e+03, -1.03466352e+02,  1.42802016e+02,\n",
       "        2.45381175e+01, -1.33616396e+02,  8.68564508e+01,  1.44896091e+02,\n",
       "        8.28662194e+01,  4.06232484e+02,  5.64621766e+01,  1.62331784e+01,\n",
       "        1.02440993e+02, -9.81393303e-01, -1.63677747e+02, -1.45538190e+01,\n",
       "        2.90905807e+01,  1.23203961e+02,  2.12325760e+01, -6.55642918e+01,\n",
       "       -1.27449870e+02,  1.70914555e+02,  3.42899396e+02,  4.06443193e+02,\n",
       "        1.64408220e+01, -7.39742464e+01,  6.57805185e+02, -1.65308587e+02,\n",
       "        2.70255123e+01,  1.60560257e+02,  1.34361882e+02, -6.77520994e+01,\n",
       "        2.73834239e+02,  1.00396593e+02,  1.04684443e+02, -1.03625344e+02,\n",
       "        6.87619752e+01, -9.96202369e+01, -7.82813640e+01,  1.41346927e+02,\n",
       "       -7.21844285e+01,  1.17077311e+02, -7.99928438e+01, -2.89533288e+01,\n",
       "        1.22683347e+02,  9.12286773e+00,  2.26274802e+02,  2.05840870e+02,\n",
       "        8.61246580e+01, -2.18951552e+02, -1.53138762e+02, -5.83700327e+01,\n",
       "        9.23730737e+01,  1.76999891e+02, -1.25555123e+02,  2.00726431e+01,\n",
       "       -2.36107343e+01,  4.89618951e+01,  8.71474289e+01, -3.91035193e+01,\n",
       "        7.90447301e+00, -6.45326259e+01,  9.69082492e+01,  1.68375616e+02,\n",
       "        4.15880550e+01, -1.27000487e+01, -1.60092213e+02,  1.94876447e+02,\n",
       "        4.45584466e+00, -3.44083762e+01,  4.56021082e+02, -1.94840079e+02,\n",
       "       -1.95951709e+02,  1.70203188e+02, -3.19215429e+02, -2.59786949e+01,\n",
       "        2.66829896e+02,  7.37242283e+00,  1.06084274e+01])"
      ]
     },
     "execution_count": 134,
     "metadata": {},
     "output_type": "execute_result"
    }
   ],
   "source": [
    "y_pred_train"
   ]
  },
  {
   "cell_type": "code",
   "execution_count": 135,
   "metadata": {},
   "outputs": [
    {
     "data": {
      "text/plain": [
       "array([[ 7.02133997e+00,  2.03781716e+00],\n",
       "       [-2.35608590e+00,  1.70892582e+00],\n",
       "       [ 3.41461622e+00, -1.07420698e+00],\n",
       "       [-1.10864021e+00, -2.18307732e-01],\n",
       "       [-9.82276030e-01,  2.11201401e-01],\n",
       "       [-1.52701391e-01, -9.46268678e-01],\n",
       "       [-1.55228523e+00,  2.66619690e-01],\n",
       "       [ 2.76804829e+00,  2.31697240e+00],\n",
       "       [-1.86249862e+00,  2.73817933e+00],\n",
       "       [ 1.45818735e+00,  1.89379685e-01],\n",
       "       [-3.44661658e-02, -8.50330011e-01],\n",
       "       [-2.59848097e+00,  4.23177450e-01],\n",
       "       [-8.86658804e-01,  4.72183954e-01],\n",
       "       [ 5.03649247e+00,  2.62311969e+00],\n",
       "       [-3.06200186e-01, -2.47507130e+00],\n",
       "       [-2.01588732e+00,  1.15568864e+00],\n",
       "       [ 2.01404117e+00, -6.12678651e-01],\n",
       "       [-2.60322936e+00,  1.09180778e+00],\n",
       "       [-1.82199648e+00, -9.75035756e-01],\n",
       "       [ 1.66608849e+00, -6.93982488e-01],\n",
       "       [ 8.87969828e-01, -1.48818601e-01],\n",
       "       [ 2.75152025e+00,  2.03783043e+00],\n",
       "       [-1.66276372e+00, -4.45331603e-01],\n",
       "       [-1.97477085e+00,  3.97925184e+00],\n",
       "       [ 3.98052869e-01, -1.38948948e+00],\n",
       "       [ 1.01259400e+00, -4.89664652e-01],\n",
       "       [-9.96416316e-01, -1.16401400e+00],\n",
       "       [-2.24184069e+00, -9.98303612e-01],\n",
       "       [-1.51332055e+00,  7.57982898e-02],\n",
       "       [-3.12761050e+00, -3.25613197e-01],\n",
       "       [-2.58713640e+00, -5.26354442e-01],\n",
       "       [-2.95018880e+00, -9.77596424e-01],\n",
       "       [-7.08462880e-01, -1.01203525e+00],\n",
       "       [ 3.22382878e-01, -1.57152902e+00],\n",
       "       [-4.65544203e-01, -3.52901214e-01],\n",
       "       [ 6.17242465e+00,  8.13066060e-01],\n",
       "       [ 7.70673483e-01, -1.29051268e+00],\n",
       "       [ 2.20825377e+00, -1.51183727e+00],\n",
       "       [ 1.46645506e+00,  1.77446193e+00],\n",
       "       [ 3.27353137e+00, -1.88500798e+00],\n",
       "       [-2.50342882e+00,  4.24543676e-02],\n",
       "       [ 1.24468326e+00, -2.78705690e-01],\n",
       "       [-3.07095829e-01, -8.55225237e-01],\n",
       "       [ 7.87836815e-01, -8.37312383e-01],\n",
       "       [-1.99963954e+00, -4.87394172e-03],\n",
       "       [-1.10473874e+00,  2.76160446e-01],\n",
       "       [-1.39578497e+00, -8.59817961e-01],\n",
       "       [-2.75284145e+00, -4.61253013e-01],\n",
       "       [-3.10366648e+00,  8.81897858e-01],\n",
       "       [-1.06087485e+00, -7.73202559e-01],\n",
       "       [-1.42324193e+00, -5.35710615e-01],\n",
       "       [-2.72069691e-01,  9.52401674e-01],\n",
       "       [ 2.34397678e+00,  1.14012313e+00],\n",
       "       [ 3.96565817e-01,  2.94904293e+00],\n",
       "       [-2.28212295e+00, -4.73291485e-01],\n",
       "       [ 6.02670117e-01,  1.48359731e+00],\n",
       "       [ 2.20607830e+00, -1.09552319e+00],\n",
       "       [-2.49929621e+00,  1.79819936e+00],\n",
       "       [-4.90562156e-01, -1.50324034e+00],\n",
       "       [ 3.25221688e+00, -4.32160609e-02],\n",
       "       [-1.86051687e+00,  8.98788169e-01],\n",
       "       [ 2.88460065e+00,  1.18441039e+00],\n",
       "       [-3.24973248e+00,  6.08742635e-01],\n",
       "       [-2.54534349e+00, -1.09075143e+00],\n",
       "       [-2.27738742e+00, -1.59115993e-01],\n",
       "       [-1.03807910e+00,  1.22733331e+00],\n",
       "       [ 2.14231770e+00, -1.31138227e+00],\n",
       "       [-2.26323057e+00,  1.85562613e+00],\n",
       "       [ 1.32849514e+00,  1.22236437e+00],\n",
       "       [-3.45844221e+00,  1.36532459e+00],\n",
       "       [-5.80538601e-01, -1.04074404e+00],\n",
       "       [ 3.77856901e+00, -1.88997346e+00],\n",
       "       [-2.70041483e+00,  1.71869664e+00],\n",
       "       [ 1.23670126e+00, -1.43669418e+00],\n",
       "       [ 3.02250365e-01, -1.19977828e+00],\n",
       "       [-1.93705736e+00, -6.97858040e-01],\n",
       "       [-3.05517465e+00,  5.41195524e-01],\n",
       "       [ 8.82414577e-01, -1.39102019e+00],\n",
       "       [ 2.06269416e+00, -2.20717479e+00],\n",
       "       [ 1.35360194e-01,  8.24927299e-01],\n",
       "       [-1.77915008e-01, -9.41590238e-01],\n",
       "       [-2.63697829e+00,  1.68599534e-01],\n",
       "       [ 3.07243572e+00,  8.06699311e-01],\n",
       "       [-2.51051705e+00, -5.09533027e-01],\n",
       "       [-1.18798359e+00, -2.07413660e+00],\n",
       "       [ 8.93157958e-02, -5.94254051e-01],\n",
       "       [-1.06908615e+00,  7.02496140e-01],\n",
       "       [-1.88199048e+00,  2.14915967e+00],\n",
       "       [-7.88385219e-01, -1.10187321e+00],\n",
       "       [ 3.47360776e-01, -6.98240653e-01],\n",
       "       [-4.28594689e-01, -5.25453293e-01]])"
      ]
     },
     "execution_count": 135,
     "metadata": {},
     "output_type": "execute_result"
    }
   ],
   "source": [
    "y_train"
   ]
  },
  {
   "cell_type": "code",
   "execution_count": null,
   "metadata": {},
   "outputs": [],
   "source": []
  }
 ],
 "metadata": {
  "kernelspec": {
   "display_name": "Python 3",
   "language": "python",
   "name": "python3"
  },
  "language_info": {
   "codemirror_mode": {
    "name": "ipython",
    "version": 3
   },
   "file_extension": ".py",
   "mimetype": "text/x-python",
   "name": "python",
   "nbconvert_exporter": "python",
   "pygments_lexer": "ipython3",
   "version": "3.7.3"
  },
  "toc": {
   "base_numbering": 1,
   "nav_menu": {},
   "number_sections": false,
   "sideBar": true,
   "skip_h1_title": true,
   "title_cell": "Table of Contents",
   "title_sidebar": "Contents",
   "toc_cell": false,
   "toc_position": {
    "height": "calc(100% - 180px)",
    "left": "10px",
    "top": "150px",
    "width": "426.667px"
   },
   "toc_section_display": true,
   "toc_window_display": true
  },
  "varInspector": {
   "cols": {
    "lenName": 16,
    "lenType": 16,
    "lenVar": 40
   },
   "kernels_config": {
    "python": {
     "delete_cmd_postfix": "",
     "delete_cmd_prefix": "del ",
     "library": "var_list.py",
     "varRefreshCmd": "print(var_dic_list())"
    },
    "r": {
     "delete_cmd_postfix": ") ",
     "delete_cmd_prefix": "rm(",
     "library": "var_list.r",
     "varRefreshCmd": "cat(var_dic_list()) "
    }
   },
   "types_to_exclude": [
    "module",
    "function",
    "builtin_function_or_method",
    "instance",
    "_Feature"
   ],
   "window_display": false
  }
 },
 "nbformat": 4,
 "nbformat_minor": 5
}
