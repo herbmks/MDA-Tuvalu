{
 "cells": [
  {
   "cell_type": "markdown",
   "metadata": {},
   "source": [
    "# testing random forests on socio economic data"
   ]
  },
  {
   "cell_type": "markdown",
   "metadata": {},
   "source": [
    "## import packages"
   ]
  },
  {
   "cell_type": "code",
   "execution_count": 116,
   "metadata": {},
   "outputs": [],
   "source": [
    "import pandas as pd\n",
    "import numpy as np\n",
    "from sklearn.ensemble import RandomForestRegressor\n",
    "from sklearn.model_selection import train_test_split\n",
    "from sklearn import metrics"
   ]
  },
  {
   "cell_type": "markdown",
   "metadata": {},
   "source": [
    "## import datasets"
   ]
  },
  {
   "cell_type": "code",
   "execution_count": 189,
   "metadata": {},
   "outputs": [],
   "source": [
    "df_unicef = pd.read_csv('clean data/unicef_socec_clean.csv', index_col=0)\n",
    "df_aqua = pd.read_csv('clean data/aqua_socec_clean.csv', index_col=0)\n",
    "df_stress = pd.read_csv('clean data/water_stress.csv')"
   ]
  },
  {
   "cell_type": "markdown",
   "metadata": {},
   "source": [
    "## checking the datasets and combining with target variables"
   ]
  },
  {
   "cell_type": "code",
   "execution_count": 190,
   "metadata": {},
   "outputs": [
    {
     "name": "stdout",
     "output_type": "stream",
     "text": [
      "  country                                         variable     1998-2002  \\\n",
      "0     AFG                    Rural population (1000 inhab)  17086.910000   \n",
      "1     AFG                    Urban population (1000 inhab)   4893.013000   \n",
      "2     AFG                   Population density (inhab/km2)     34.618096   \n",
      "3     AFG               GDP per capita (current US$/inhab)    194.958382   \n",
      "4     AFG  Human Development Index (HDI) [highest = 1] (-)      0.378000   \n",
      "\n",
      "      2003-2007     2008-2012     2013-2017  \n",
      "0  20464.923000  23280.663000  26558.609000  \n",
      "1   6151.869000   7416.295000   8971.472000  \n",
      "2     41.510486     47.730564     55.595553  \n",
      "3    389.985586    694.885618    605.557362  \n",
      "4      0.431000      0.479000      0.493000  \n",
      "                                  Indicator Country  Time  Value\n",
      "0  Fertility rate, total (births per woman)     AUS  2000    1.8\n",
      "1  Fertility rate, total (births per woman)     AUS  2001    1.7\n",
      "2  Fertility rate, total (births per woman)     AUS  2002    1.8\n",
      "3  Fertility rate, total (births per woman)     AUS  2003    1.7\n",
      "4  Fertility rate, total (births per woman)     AUS  2004    1.8\n"
     ]
    }
   ],
   "source": [
    "print(df_aqua.head(5))\n",
    "print(df_unicef.head(5))\n"
   ]
  },
  {
   "cell_type": "markdown",
   "metadata": {},
   "source": [
    "### we modify the datasets to keep only useful variables\n",
    "1. aquastat: keep rural & urban and make new variables rural/urban, also keep HDI\n",
    "    * r_u : a variable that indicates the proportion of rural over urban population\n",
    "    * r_u_access : a variable that indicates the proportion of the rural population with access to safe drinking water   \n",
    "2. unicef: keep life expectancy, mortality rate, population growth, GDP per capita PPP\n",
    "3. water stress: we use the water stress (MDG) and water efficiency as separate targets"
   ]
  },
  {
   "cell_type": "code",
   "execution_count": 191,
   "metadata": {},
   "outputs": [
    {
     "data": {
      "text/html": [
       "<div>\n",
       "<style scoped>\n",
       "    .dataframe tbody tr th:only-of-type {\n",
       "        vertical-align: middle;\n",
       "    }\n",
       "\n",
       "    .dataframe tbody tr th {\n",
       "        vertical-align: top;\n",
       "    }\n",
       "\n",
       "    .dataframe thead th {\n",
       "        text-align: right;\n",
       "    }\n",
       "</style>\n",
       "<table border=\"1\" class=\"dataframe\">\n",
       "  <thead>\n",
       "    <tr style=\"text-align: right;\">\n",
       "      <th>variable</th>\n",
       "      <th>Year</th>\n",
       "      <th>Country</th>\n",
       "      <th>HDI</th>\n",
       "      <th>r_u</th>\n",
       "      <th>r_u_access</th>\n",
       "    </tr>\n",
       "  </thead>\n",
       "  <tbody>\n",
       "    <tr>\n",
       "      <th>0</th>\n",
       "      <td>2002</td>\n",
       "      <td>AFG</td>\n",
       "      <td>0.378</td>\n",
       "      <td>3.492104</td>\n",
       "      <td>0.493739</td>\n",
       "    </tr>\n",
       "    <tr>\n",
       "      <th>1</th>\n",
       "      <td>2002</td>\n",
       "      <td>AGO</td>\n",
       "      <td>0.419</td>\n",
       "      <td>0.906176</td>\n",
       "      <td>0.591054</td>\n",
       "    </tr>\n",
       "    <tr>\n",
       "      <th>2</th>\n",
       "      <td>2002</td>\n",
       "      <td>ALB</td>\n",
       "      <td>0.680</td>\n",
       "      <td>1.298813</td>\n",
       "      <td>0.939698</td>\n",
       "    </tr>\n",
       "    <tr>\n",
       "      <th>3</th>\n",
       "      <td>2002</td>\n",
       "      <td>ARE</td>\n",
       "      <td>0.793</td>\n",
       "      <td>0.233552</td>\n",
       "      <td>1.004016</td>\n",
       "    </tr>\n",
       "    <tr>\n",
       "      <th>4</th>\n",
       "      <td>2002</td>\n",
       "      <td>ARG</td>\n",
       "      <td>0.770</td>\n",
       "      <td>0.117198</td>\n",
       "      <td>0.852342</td>\n",
       "    </tr>\n",
       "  </tbody>\n",
       "</table>\n",
       "</div>"
      ],
      "text/plain": [
       "variable  Year Country    HDI       r_u  r_u_access\n",
       "0         2002     AFG  0.378  3.492104    0.493739\n",
       "1         2002     AGO  0.419  0.906176    0.591054\n",
       "2         2002     ALB  0.680  1.298813    0.939698\n",
       "3         2002     ARE  0.793  0.233552    1.004016\n",
       "4         2002     ARG  0.770  0.117198    0.852342"
      ]
     },
     "execution_count": 191,
     "metadata": {},
     "output_type": "execute_result"
    }
   ],
   "source": [
    "cols_keep_aqua = ['Rural population (1000 inhab)', 'Urban population (1000 inhab)',\n",
    "                  'Rural population with access to safe drinking-water (JMP) (%)',\n",
    "                 'Urban population with access to safe drinking-water (JMP) (%)',\n",
    "                 'Human Development Index (HDI) [highest = 1] (-)']\n",
    "df_aqua = df_aqua[df_aqua.isin(cols_keep_aqua).any(axis=1)]\n",
    "\n",
    "# rename year period to merge with water stress indicators\n",
    "df_aqua.rename(columns = {'country':'Country' ,\n",
    "                     '1998-2002':'2002', \n",
    "                     '2003-2007': '2007', \n",
    "                     '2008-2012': '2012',\n",
    "                     '2013-2017':'2017'}, inplace = True)\n",
    "\n",
    "df_aqua_melt = pd.melt(df_aqua, id_vars=[\"Country\",\"variable\"], \n",
    "        var_name=\"Year\", \n",
    "        value_name=\"value\")\n",
    "# transform data aquastat wide format (indicators as attributes)\n",
    "aqua_piv = df_aqua_melt.pivot_table(values='value', \n",
    "                             index=['Year','Country'], \n",
    "                             columns='variable',\n",
    "                             fill_value=0)\n",
    "aqua_piv = aqua_piv.reset_index()\n",
    "aqua_piv.rename(columns = {'Human Development Index (HDI) [highest = 1] (-)': 'HDI',\n",
    "                          'Rural population (1000 inhab)' : 'rural_pop',\n",
    "                           'Urban population (1000 inhab)' : 'urban_pop',\n",
    "                  'Rural population with access to safe drinking-water (JMP) (%)' : 'rural_water',\n",
    "                 'Urban population with access to safe drinking-water (JMP) (%)' : 'urban_water'}, inplace=True)\n",
    "# create new features\n",
    "aqua_piv['r_u'] = aqua_piv['rural_pop']/aqua_piv['urban_pop']\n",
    "aqua_piv['r_u_access'] = aqua_piv['rural_water']/aqua_piv['urban_water']\n",
    "# final dataset\n",
    "aqua_piv = aqua_piv[['Year', 'Country', 'HDI', 'r_u', 'r_u_access']]\n",
    "aqua_piv.head()"
   ]
  },
  {
   "cell_type": "code",
   "execution_count": 192,
   "metadata": {},
   "outputs": [
    {
     "data": {
      "text/html": [
       "<div>\n",
       "<style scoped>\n",
       "    .dataframe tbody tr th:only-of-type {\n",
       "        vertical-align: middle;\n",
       "    }\n",
       "\n",
       "    .dataframe tbody tr th {\n",
       "        vertical-align: top;\n",
       "    }\n",
       "\n",
       "    .dataframe thead th {\n",
       "        text-align: right;\n",
       "    }\n",
       "</style>\n",
       "<table border=\"1\" class=\"dataframe\">\n",
       "  <thead>\n",
       "    <tr style=\"text-align: right;\">\n",
       "      <th></th>\n",
       "      <th>Year</th>\n",
       "      <th>Country</th>\n",
       "      <th>HDI</th>\n",
       "      <th>r_u</th>\n",
       "      <th>r_u_access</th>\n",
       "      <th>stress</th>\n",
       "      <th>efficiency</th>\n",
       "    </tr>\n",
       "  </thead>\n",
       "  <tbody>\n",
       "    <tr>\n",
       "      <th>122</th>\n",
       "      <td>2002</td>\n",
       "      <td>TGO</td>\n",
       "      <td>0.428</td>\n",
       "      <td>1.957816</td>\n",
       "      <td>0.461810</td>\n",
       "      <td>1.149660</td>\n",
       "      <td>9.733967</td>\n",
       "    </tr>\n",
       "    <tr>\n",
       "      <th>524</th>\n",
       "      <td>2017</td>\n",
       "      <td>PLW</td>\n",
       "      <td>0.811</td>\n",
       "      <td>0.260017</td>\n",
       "      <td>0.886598</td>\n",
       "      <td>NaN</td>\n",
       "      <td>NaN</td>\n",
       "    </tr>\n",
       "    <tr>\n",
       "      <th>133</th>\n",
       "      <td>2002</td>\n",
       "      <td>UZB</td>\n",
       "      <td>0.610</td>\n",
       "      <td>1.123673</td>\n",
       "      <td>0.846626</td>\n",
       "      <td>107.622263</td>\n",
       "      <td>0.472407</td>\n",
       "    </tr>\n",
       "    <tr>\n",
       "      <th>494</th>\n",
       "      <td>2017</td>\n",
       "      <td>LBY</td>\n",
       "      <td>0.704</td>\n",
       "      <td>0.252860</td>\n",
       "      <td>0.947295</td>\n",
       "      <td>817.142857</td>\n",
       "      <td>3.793108</td>\n",
       "    </tr>\n",
       "    <tr>\n",
       "      <th>430</th>\n",
       "      <td>2017</td>\n",
       "      <td>BEN</td>\n",
       "      <td>0.515</td>\n",
       "      <td>1.138215</td>\n",
       "      <td>0.846244</td>\n",
       "      <td>0.492611</td>\n",
       "      <td>27.261901</td>\n",
       "    </tr>\n",
       "  </tbody>\n",
       "</table>\n",
       "</div>"
      ],
      "text/plain": [
       "     Year Country    HDI       r_u  r_u_access      stress  efficiency\n",
       "122  2002     TGO  0.428  1.957816    0.461810    1.149660    9.733967\n",
       "524  2017     PLW  0.811  0.260017    0.886598         NaN         NaN\n",
       "133  2002     UZB  0.610  1.123673    0.846626  107.622263    0.472407\n",
       "494  2017     LBY  0.704  0.252860    0.947295  817.142857    3.793108\n",
       "430  2017     BEN  0.515  1.138215    0.846244    0.492611   27.261901"
      ]
     },
     "execution_count": 192,
     "metadata": {},
     "output_type": "execute_result"
    }
   ],
   "source": [
    "aqua_piv.Year = aqua_piv.Year.astype(str)\n",
    "df_stress.Year = df_stress.Year.astype(str)\n",
    "\n",
    "df_piv_aqua = pd.merge(aqua_piv, df_stress, on=[\"Year\", \"Country\"], how='left')\n",
    "df_piv_aqua = df_piv_aqua.rename(columns = {'Water stress (MDG)' : 'stress', 'Water use efficiency (SDG)' : 'efficiency'})\n",
    "df_piv_aqua = df_piv_aqua.drop(['Water stress (SDG)'], axis = 1)\n",
    "df_piv_aqua.sample(5)"
   ]
  },
  {
   "cell_type": "markdown",
   "metadata": {},
   "source": [
    "We now modify the unicef dataset"
   ]
  },
  {
   "cell_type": "code",
   "execution_count": 197,
   "metadata": {},
   "outputs": [
    {
     "data": {
      "text/html": [
       "<div>\n",
       "<style scoped>\n",
       "    .dataframe tbody tr th:only-of-type {\n",
       "        vertical-align: middle;\n",
       "    }\n",
       "\n",
       "    .dataframe tbody tr th {\n",
       "        vertical-align: top;\n",
       "    }\n",
       "\n",
       "    .dataframe thead th {\n",
       "        text-align: right;\n",
       "    }\n",
       "</style>\n",
       "<table border=\"1\" class=\"dataframe\">\n",
       "  <thead>\n",
       "    <tr style=\"text-align: right;\">\n",
       "      <th>Indicator</th>\n",
       "      <th>Year</th>\n",
       "      <th>Country</th>\n",
       "      <th>GDP_pcp</th>\n",
       "      <th>life_ex</th>\n",
       "      <th>mort_rate</th>\n",
       "      <th>pop_growth</th>\n",
       "    </tr>\n",
       "  </thead>\n",
       "  <tbody>\n",
       "    <tr>\n",
       "      <th>0</th>\n",
       "      <td>2000</td>\n",
       "      <td>AFG</td>\n",
       "      <td>0</td>\n",
       "      <td>56</td>\n",
       "      <td>90</td>\n",
       "      <td>3.0</td>\n",
       "    </tr>\n",
       "    <tr>\n",
       "      <th>1</th>\n",
       "      <td>2000</td>\n",
       "      <td>AGO</td>\n",
       "      <td>4707</td>\n",
       "      <td>47</td>\n",
       "      <td>121</td>\n",
       "      <td>3.3</td>\n",
       "    </tr>\n",
       "    <tr>\n",
       "      <th>2</th>\n",
       "      <td>2000</td>\n",
       "      <td>ALB</td>\n",
       "      <td>6016</td>\n",
       "      <td>74</td>\n",
       "      <td>24</td>\n",
       "      <td>-0.6</td>\n",
       "    </tr>\n",
       "    <tr>\n",
       "      <th>3</th>\n",
       "      <td>2000</td>\n",
       "      <td>ARE</td>\n",
       "      <td>102495</td>\n",
       "      <td>74</td>\n",
       "      <td>10</td>\n",
       "      <td>5.5</td>\n",
       "    </tr>\n",
       "    <tr>\n",
       "      <th>4</th>\n",
       "      <td>2000</td>\n",
       "      <td>ARG</td>\n",
       "      <td>18625</td>\n",
       "      <td>74</td>\n",
       "      <td>18</td>\n",
       "      <td>1.1</td>\n",
       "    </tr>\n",
       "  </tbody>\n",
       "</table>\n",
       "</div>"
      ],
      "text/plain": [
       "Indicator  Year Country  GDP_pcp  life_ex  mort_rate  pop_growth\n",
       "0          2000     AFG        0       56         90         3.0\n",
       "1          2000     AGO     4707       47        121         3.3\n",
       "2          2000     ALB     6016       74         24        -0.6\n",
       "3          2000     ARE   102495       74         10         5.5\n",
       "4          2000     ARG    18625       74         18         1.1"
      ]
     },
     "execution_count": 197,
     "metadata": {},
     "output_type": "execute_result"
    }
   ],
   "source": [
    "# keep only columns we'll need\n",
    "df_unicef.rename(columns={'Time' : 'Year'}, inplace=True)\n",
    "cols_keep_unicef = ['Life expectancy at birth, total (years)',\n",
    "                   'Mortality rate, infant (per 1,000 live births)',\n",
    "                   'Population growth (annual %)',\n",
    "                   'GDP per capita, PPP (constant 2011 international $)']\n",
    "df_unicef = df_unicef[df_unicef.isin(cols_keep_unicef).any(axis=1)]\n",
    "\n",
    "# pivot so that indicators are variables\n",
    "unicef_piv = df_unicef.pivot_table(values='Value', \n",
    "                             index=['Year','Country'], \n",
    "                             columns='Indicator',\n",
    "                             fill_value=0)\n",
    "# rename the columns for consistency\n",
    "unicef_piv.rename(columns = {'Time':'Year' ,\n",
    "                     'Life expectancy at birth, total (years)':'life_ex', \n",
    "                     'Mortality rate, infant (per 1,000 live births)': 'mort_rate', \n",
    "                     'Population growth (annual %)': 'pop_growth',\n",
    "                     'GDP per capita, PPP (constant 2011 international $)': 'GDP_pcp' }, inplace = True)\n",
    "unicef_piv = unicef_piv.reset_index()\n",
    "unicef_piv.head(5)"
   ]
  },
  {
   "cell_type": "markdown",
   "metadata": {},
   "source": [
    "#### we will only keep the rows matching with the water stress to just build the initial model, this will be changed later on"
   ]
  },
  {
   "cell_type": "code",
   "execution_count": 201,
   "metadata": {},
   "outputs": [
    {
     "data": {
      "text/html": [
       "<div>\n",
       "<style scoped>\n",
       "    .dataframe tbody tr th:only-of-type {\n",
       "        vertical-align: middle;\n",
       "    }\n",
       "\n",
       "    .dataframe tbody tr th {\n",
       "        vertical-align: top;\n",
       "    }\n",
       "\n",
       "    .dataframe thead th {\n",
       "        text-align: right;\n",
       "    }\n",
       "</style>\n",
       "<table border=\"1\" class=\"dataframe\">\n",
       "  <thead>\n",
       "    <tr style=\"text-align: right;\">\n",
       "      <th></th>\n",
       "      <th>Country</th>\n",
       "      <th>Year</th>\n",
       "      <th>stress</th>\n",
       "      <th>efficiency</th>\n",
       "      <th>GDP_pcp</th>\n",
       "      <th>life_ex</th>\n",
       "      <th>mort_rate</th>\n",
       "      <th>pop_growth</th>\n",
       "    </tr>\n",
       "  </thead>\n",
       "  <tbody>\n",
       "    <tr>\n",
       "      <th>0</th>\n",
       "      <td>AFG</td>\n",
       "      <td>2002</td>\n",
       "      <td>31.045462</td>\n",
       "      <td>0.305841</td>\n",
       "      <td>1273.0</td>\n",
       "      <td>57.0</td>\n",
       "      <td>85.0</td>\n",
       "      <td>4.5</td>\n",
       "    </tr>\n",
       "    <tr>\n",
       "      <th>1</th>\n",
       "      <td>AFG</td>\n",
       "      <td>2007</td>\n",
       "      <td>31.045462</td>\n",
       "      <td>0.547780</td>\n",
       "      <td>1563.0</td>\n",
       "      <td>59.0</td>\n",
       "      <td>72.0</td>\n",
       "      <td>2.5</td>\n",
       "    </tr>\n",
       "    <tr>\n",
       "      <th>2</th>\n",
       "      <td>AFG</td>\n",
       "      <td>2012</td>\n",
       "      <td>31.045462</td>\n",
       "      <td>0.765716</td>\n",
       "      <td>2220.0</td>\n",
       "      <td>62.0</td>\n",
       "      <td>60.0</td>\n",
       "      <td>3.4</td>\n",
       "    </tr>\n",
       "    <tr>\n",
       "      <th>3</th>\n",
       "      <td>AFG</td>\n",
       "      <td>2017</td>\n",
       "      <td>31.045462</td>\n",
       "      <td>0.923778</td>\n",
       "      <td>2203.0</td>\n",
       "      <td>64.0</td>\n",
       "      <td>50.0</td>\n",
       "      <td>2.5</td>\n",
       "    </tr>\n",
       "    <tr>\n",
       "      <th>4</th>\n",
       "      <td>AGO</td>\n",
       "      <td>2002</td>\n",
       "      <td>0.449137</td>\n",
       "      <td>66.804272</td>\n",
       "      <td>5218.0</td>\n",
       "      <td>48.0</td>\n",
       "      <td>114.0</td>\n",
       "      <td>3.3</td>\n",
       "    </tr>\n",
       "  </tbody>\n",
       "</table>\n",
       "</div>"
      ],
      "text/plain": [
       "  Country  Year     stress  efficiency  GDP_pcp  life_ex  mort_rate  \\\n",
       "0     AFG  2002  31.045462    0.305841   1273.0     57.0       85.0   \n",
       "1     AFG  2007  31.045462    0.547780   1563.0     59.0       72.0   \n",
       "2     AFG  2012  31.045462    0.765716   2220.0     62.0       60.0   \n",
       "3     AFG  2017  31.045462    0.923778   2203.0     64.0       50.0   \n",
       "4     AGO  2002   0.449137   66.804272   5218.0     48.0      114.0   \n",
       "\n",
       "   pop_growth  \n",
       "0         4.5  \n",
       "1         2.5  \n",
       "2         3.4  \n",
       "3         2.5  \n",
       "4         3.3  "
      ]
     },
     "execution_count": 201,
     "metadata": {},
     "output_type": "execute_result"
    }
   ],
   "source": [
    "# keep only 2002, 2007, 2012, 2017 by doing a left join on the water stress data\n",
    "unicef_piv.Year = unicef_piv.Year.astype(str)\n",
    "df_stress.Year = df_stress.Year.astype(str)\n",
    "\n",
    "df_piv_unicef = pd.merge(df_stress, unicef_piv, on=[\"Year\", \"Country\"], how='left')\n",
    "df_piv_unicef = df_piv_unicef.rename(columns = {'Water stress (MDG)' : 'stress', 'Water use efficiency (SDG)' : 'efficiency'})\n",
    "df_piv_unicef = df_piv_unicef.drop(['Water stress (SDG)'], axis = 1)\n",
    "df_piv_unicef.head(5)\n"
   ]
  },
  {
   "cell_type": "markdown",
   "metadata": {},
   "source": [
    "### check the correlations with the target variables"
   ]
  },
  {
   "cell_type": "code",
   "execution_count": 66,
   "metadata": {},
   "outputs": [
    {
     "name": "stdout",
     "output_type": "stream",
     "text": [
      "correlations with stress : \n",
      " stress        1.000000\n",
      "r_u_access    0.170128\n",
      "HDI           0.147243\n",
      "efficiency    0.087958\n",
      "r_u          -0.136199\n",
      "Name: stress, dtype: float64\n",
      "correlations with effiency : \n",
      " efficiency    1.000000\n",
      "HDI           0.382652\n",
      "r_u_access    0.231193\n",
      "stress        0.087958\n",
      "r_u          -0.245922\n",
      "Name: efficiency, dtype: float64\n"
     ]
    }
   ],
   "source": [
    "corr_stress = df_piv_aqua.corr()['stress'].sort_values(ascending=False)\n",
    "corr_effiency = df_piv_aqua.corr()['efficiency'].sort_values(ascending=False)\n",
    "print('correlations with stress : \\n', corr_stress)\n",
    "print('correlations with effiency : \\n', corr_effiency)"
   ]
  },
  {
   "cell_type": "code",
   "execution_count": 67,
   "metadata": {},
   "outputs": [
    {
     "data": {
      "text/plain": [
       "Year           0\n",
       "Country        0\n",
       "HDI            0\n",
       "r_u            0\n",
       "r_u_access     0\n",
       "stress        43\n",
       "efficiency    99\n",
       "dtype: int64"
      ]
     },
     "execution_count": 67,
     "metadata": {},
     "output_type": "execute_result"
    }
   ],
   "source": [
    "# check for missing values\n",
    "df_piv_aqua.isna().sum(axis=0)\n"
   ]
  },
  {
   "cell_type": "code",
   "execution_count": 243,
   "metadata": {},
   "outputs": [
    {
     "name": "stdout",
     "output_type": "stream",
     "text": [
      "(458, 7)\n"
     ]
    },
    {
     "data": {
      "text/plain": [
       "(458, 7)"
      ]
     },
     "execution_count": 243,
     "metadata": {},
     "output_type": "execute_result"
    }
   ],
   "source": [
    "# remove empty rows from dataset\n",
    "print(df_piv_aqua.shape)\n",
    "df_piv_aqua = df_piv_aqua.dropna(axis=0)\n",
    "df_piv_aqua.shape"
   ]
  },
  {
   "cell_type": "code",
   "execution_count": 280,
   "metadata": {},
   "outputs": [
    {
     "name": "stdout",
     "output_type": "stream",
     "text": [
      "(400, 7)\n"
     ]
    },
    {
     "data": {
      "text/html": [
       "<div>\n",
       "<style scoped>\n",
       "    .dataframe tbody tr th:only-of-type {\n",
       "        vertical-align: middle;\n",
       "    }\n",
       "\n",
       "    .dataframe tbody tr th {\n",
       "        vertical-align: top;\n",
       "    }\n",
       "\n",
       "    .dataframe thead th {\n",
       "        text-align: right;\n",
       "    }\n",
       "</style>\n",
       "<table border=\"1\" class=\"dataframe\">\n",
       "  <thead>\n",
       "    <tr style=\"text-align: right;\">\n",
       "      <th></th>\n",
       "      <th>HDI</th>\n",
       "      <th>r_u</th>\n",
       "      <th>r_u_access</th>\n",
       "      <th>stress</th>\n",
       "      <th>efficiency</th>\n",
       "    </tr>\n",
       "  </thead>\n",
       "  <tbody>\n",
       "    <tr>\n",
       "      <th>count</th>\n",
       "      <td>400.000000</td>\n",
       "      <td>400.000000</td>\n",
       "      <td>400.000000</td>\n",
       "      <td>400.000000</td>\n",
       "      <td>400.000000</td>\n",
       "    </tr>\n",
       "    <tr>\n",
       "      <th>mean</th>\n",
       "      <td>0.635300</td>\n",
       "      <td>1.395715</td>\n",
       "      <td>0.809155</td>\n",
       "      <td>20.344616</td>\n",
       "      <td>18.003762</td>\n",
       "    </tr>\n",
       "    <tr>\n",
       "      <th>std</th>\n",
       "      <td>0.159448</td>\n",
       "      <td>1.448301</td>\n",
       "      <td>0.174173</td>\n",
       "      <td>32.514999</td>\n",
       "      <td>20.603029</td>\n",
       "    </tr>\n",
       "    <tr>\n",
       "      <th>min</th>\n",
       "      <td>0.263000</td>\n",
       "      <td>0.023080</td>\n",
       "      <td>0.259386</td>\n",
       "      <td>0.005529</td>\n",
       "      <td>0.244684</td>\n",
       "    </tr>\n",
       "    <tr>\n",
       "      <th>25%</th>\n",
       "      <td>0.503750</td>\n",
       "      <td>0.446730</td>\n",
       "      <td>0.695719</td>\n",
       "      <td>1.495824</td>\n",
       "      <td>3.975164</td>\n",
       "    </tr>\n",
       "    <tr>\n",
       "      <th>50%</th>\n",
       "      <td>0.654000</td>\n",
       "      <td>0.881602</td>\n",
       "      <td>0.856337</td>\n",
       "      <td>5.651860</td>\n",
       "      <td>9.825106</td>\n",
       "    </tr>\n",
       "    <tr>\n",
       "      <th>75%</th>\n",
       "      <td>0.752000</td>\n",
       "      <td>1.826508</td>\n",
       "      <td>0.950713</td>\n",
       "      <td>25.011522</td>\n",
       "      <td>23.861574</td>\n",
       "    </tr>\n",
       "    <tr>\n",
       "      <th>max</th>\n",
       "      <td>0.937000</td>\n",
       "      <td>10.518143</td>\n",
       "      <td>1.024084</td>\n",
       "      <td>187.092476</td>\n",
       "      <td>97.199458</td>\n",
       "    </tr>\n",
       "  </tbody>\n",
       "</table>\n",
       "</div>"
      ],
      "text/plain": [
       "              HDI         r_u  r_u_access      stress  efficiency\n",
       "count  400.000000  400.000000  400.000000  400.000000  400.000000\n",
       "mean     0.635300    1.395715    0.809155   20.344616   18.003762\n",
       "std      0.159448    1.448301    0.174173   32.514999   20.603029\n",
       "min      0.263000    0.023080    0.259386    0.005529    0.244684\n",
       "25%      0.503750    0.446730    0.695719    1.495824    3.975164\n",
       "50%      0.654000    0.881602    0.856337    5.651860    9.825106\n",
       "75%      0.752000    1.826508    0.950713   25.011522   23.861574\n",
       "max      0.937000   10.518143    1.024084  187.092476   97.199458"
      ]
     },
     "execution_count": 280,
     "metadata": {},
     "output_type": "execute_result"
    }
   ],
   "source": [
    "# remove extreme outliers\n",
    "df_piv_aqua = df_piv_aqua[df_piv_aqua.stress<=200]\n",
    "df_piv_aqua = df_piv_aqua[df_piv_aqua.efficiency<=100]\n",
    "print(df_piv_aqua.shape)\n",
    "df_piv_aqua.describe()"
   ]
  },
  {
   "cell_type": "markdown",
   "metadata": {},
   "source": [
    "do the same for the unicef dataset"
   ]
  },
  {
   "cell_type": "code",
   "execution_count": 281,
   "metadata": {},
   "outputs": [
    {
     "name": "stdout",
     "output_type": "stream",
     "text": [
      "correlations with stress : \n",
      " stress        1.000000\n",
      "GDP_pcp       0.376563\n",
      "pop_growth    0.266344\n",
      "life_ex       0.129353\n",
      "efficiency    0.087958\n",
      "mort_rate    -0.156029\n",
      "Name: stress, dtype: float64\n",
      "correlations with effiency : \n",
      " efficiency    1.000000\n",
      "GDP_pcp       0.606117\n",
      "life_ex       0.295399\n",
      "stress        0.087958\n",
      "pop_growth    0.033156\n",
      "mort_rate    -0.262567\n",
      "Name: efficiency, dtype: float64\n"
     ]
    }
   ],
   "source": [
    "corr_stress_u = df_piv_unicef.corr()['stress'].sort_values(ascending=False)\n",
    "corr_effiency_u = df_piv_unicef.corr()['efficiency'].sort_values(ascending=False)\n",
    "print('correlations with stress : \\n', corr_stress_u)\n",
    "print('correlations with effiency : \\n', corr_effiency_u)"
   ]
  },
  {
   "cell_type": "markdown",
   "metadata": {},
   "source": [
    "GDP per capita, population growth, and mortatility rate are interesting variables for both target variables.\n",
    "Also note that both target variables have very low correlation which makes it interesting to look at them."
   ]
  },
  {
   "cell_type": "code",
   "execution_count": 282,
   "metadata": {},
   "outputs": [
    {
     "name": "stdout",
     "output_type": "stream",
     "text": [
      "Country       0\n",
      "Year          0\n",
      "stress        0\n",
      "efficiency    0\n",
      "GDP_pcp       0\n",
      "life_ex       0\n",
      "mort_rate     0\n",
      "pop_growth    0\n",
      "dtype: int64\n"
     ]
    }
   ],
   "source": [
    "# check for missing values, there are plenty\n",
    "print(df_piv_unicef.isna().sum(axis=0))\n",
    "# remove empty rows for now, we can do some imputation later on\n",
    "df_piv_unicef = df_piv_unicef.dropna(axis=0)"
   ]
  },
  {
   "cell_type": "code",
   "execution_count": 289,
   "metadata": {},
   "outputs": [
    {
     "name": "stdout",
     "output_type": "stream",
     "text": [
      "(400, 8)\n"
     ]
    },
    {
     "data": {
      "text/html": [
       "<div>\n",
       "<style scoped>\n",
       "    .dataframe tbody tr th:only-of-type {\n",
       "        vertical-align: middle;\n",
       "    }\n",
       "\n",
       "    .dataframe tbody tr th {\n",
       "        vertical-align: top;\n",
       "    }\n",
       "\n",
       "    .dataframe thead th {\n",
       "        text-align: right;\n",
       "    }\n",
       "</style>\n",
       "<table border=\"1\" class=\"dataframe\">\n",
       "  <thead>\n",
       "    <tr style=\"text-align: right;\">\n",
       "      <th></th>\n",
       "      <th>stress</th>\n",
       "      <th>efficiency</th>\n",
       "      <th>GDP_pcp</th>\n",
       "      <th>life_ex</th>\n",
       "      <th>mort_rate</th>\n",
       "      <th>pop_growth</th>\n",
       "    </tr>\n",
       "  </thead>\n",
       "  <tbody>\n",
       "    <tr>\n",
       "      <th>count</th>\n",
       "      <td>400.000000</td>\n",
       "      <td>400.000000</td>\n",
       "      <td>400.000000</td>\n",
       "      <td>400.00000</td>\n",
       "      <td>400.000000</td>\n",
       "      <td>400.000000</td>\n",
       "    </tr>\n",
       "    <tr>\n",
       "      <th>mean</th>\n",
       "      <td>20.344616</td>\n",
       "      <td>18.003762</td>\n",
       "      <td>11988.610000</td>\n",
       "      <td>67.92250</td>\n",
       "      <td>33.572500</td>\n",
       "      <td>1.629500</td>\n",
       "    </tr>\n",
       "    <tr>\n",
       "      <th>std</th>\n",
       "      <td>32.514999</td>\n",
       "      <td>20.603029</td>\n",
       "      <td>13231.893043</td>\n",
       "      <td>9.24311</td>\n",
       "      <td>26.388266</td>\n",
       "      <td>1.276088</td>\n",
       "    </tr>\n",
       "    <tr>\n",
       "      <th>min</th>\n",
       "      <td>0.005529</td>\n",
       "      <td>0.244684</td>\n",
       "      <td>0.000000</td>\n",
       "      <td>41.00000</td>\n",
       "      <td>2.000000</td>\n",
       "      <td>-3.100000</td>\n",
       "    </tr>\n",
       "    <tr>\n",
       "      <th>25%</th>\n",
       "      <td>1.495824</td>\n",
       "      <td>3.975164</td>\n",
       "      <td>2668.750000</td>\n",
       "      <td>61.00000</td>\n",
       "      <td>13.000000</td>\n",
       "      <td>0.900000</td>\n",
       "    </tr>\n",
       "    <tr>\n",
       "      <th>50%</th>\n",
       "      <td>5.651860</td>\n",
       "      <td>9.825106</td>\n",
       "      <td>7248.000000</td>\n",
       "      <td>70.00000</td>\n",
       "      <td>25.000000</td>\n",
       "      <td>1.600000</td>\n",
       "    </tr>\n",
       "    <tr>\n",
       "      <th>75%</th>\n",
       "      <td>25.011522</td>\n",
       "      <td>23.861574</td>\n",
       "      <td>15123.000000</td>\n",
       "      <td>75.00000</td>\n",
       "      <td>50.250000</td>\n",
       "      <td>2.600000</td>\n",
       "    </tr>\n",
       "    <tr>\n",
       "      <th>max</th>\n",
       "      <td>187.092476</td>\n",
       "      <td>97.199458</td>\n",
       "      <td>59958.000000</td>\n",
       "      <td>83.00000</td>\n",
       "      <td>134.000000</td>\n",
       "      <td>7.800000</td>\n",
       "    </tr>\n",
       "  </tbody>\n",
       "</table>\n",
       "</div>"
      ],
      "text/plain": [
       "           stress  efficiency       GDP_pcp    life_ex   mort_rate  pop_growth\n",
       "count  400.000000  400.000000    400.000000  400.00000  400.000000  400.000000\n",
       "mean    20.344616   18.003762  11988.610000   67.92250   33.572500    1.629500\n",
       "std     32.514999   20.603029  13231.893043    9.24311   26.388266    1.276088\n",
       "min      0.005529    0.244684      0.000000   41.00000    2.000000   -3.100000\n",
       "25%      1.495824    3.975164   2668.750000   61.00000   13.000000    0.900000\n",
       "50%      5.651860    9.825106   7248.000000   70.00000   25.000000    1.600000\n",
       "75%     25.011522   23.861574  15123.000000   75.00000   50.250000    2.600000\n",
       "max    187.092476   97.199458  59958.000000   83.00000  134.000000    7.800000"
      ]
     },
     "execution_count": 289,
     "metadata": {},
     "output_type": "execute_result"
    }
   ],
   "source": [
    "# remove extreme values\n",
    "df_piv_unicef = df_piv_unicef[df_piv_unicef.stress<=200]\n",
    "df_piv_unicef = df_piv_unicef[df_piv_unicef.efficiency<=100]\n",
    "print(df_piv_unicef.shape)\n",
    "df_piv_unicef.describe()"
   ]
  },
  {
   "cell_type": "markdown",
   "metadata": {},
   "source": [
    "unicef dataset only has 400 entries when the extreme stress and efficiency values are removed, aquastat as well"
   ]
  },
  {
   "cell_type": "markdown",
   "metadata": {},
   "source": [
    "we can therefore create a final dataset combining both"
   ]
  },
  {
   "cell_type": "code",
   "execution_count": 300,
   "metadata": {},
   "outputs": [
    {
     "data": {
      "text/plain": [
       "(400, 13)"
      ]
     },
     "execution_count": 300,
     "metadata": {},
     "output_type": "execute_result"
    }
   ],
   "source": [
    "df_socio = pd.merge(df_piv_unicef, df_piv_aqua, on=[\"stress\", \"efficiency\"], how='left')\n",
    "df_socio.shape"
   ]
  },
  {
   "cell_type": "markdown",
   "metadata": {},
   "source": [
    "## modelling for aquastat"
   ]
  },
  {
   "cell_type": "markdown",
   "metadata": {},
   "source": [
    "### Construct the tree"
   ]
  },
  {
   "cell_type": "code",
   "execution_count": 290,
   "metadata": {},
   "outputs": [],
   "source": [
    "# Initialize the classifier, we will keep the default parameters for now\n",
    "model_s = RandomForestRegressor()\n",
    "model_e = RandomForestRegressor()"
   ]
  },
  {
   "cell_type": "code",
   "execution_count": 291,
   "metadata": {},
   "outputs": [],
   "source": [
    "# define predictors and target\n",
    "X = df_piv_aqua[['HDI', 'r_u', 'r_u_access']]\n",
    "s = df_piv_aqua.stress.copy()\n",
    "e = df_piv_aqua.efficiency.copy()"
   ]
  },
  {
   "cell_type": "code",
   "execution_count": 292,
   "metadata": {},
   "outputs": [],
   "source": [
    "# split in train and test\n",
    "X_train, X_test, s_train, s_test = train_test_split(X, s, test_size=0.2, random_state=0)\n",
    "X2_train, X2_test, e_train, e_test = train_test_split(X, e, test_size=0.2, random_state=0)\n"
   ]
  },
  {
   "cell_type": "code",
   "execution_count": 293,
   "metadata": {},
   "outputs": [],
   "source": [
    "model_s.fit(X_train,s_train);\n",
    "model_e.fit(X2_train,e_train);"
   ]
  },
  {
   "cell_type": "markdown",
   "metadata": {},
   "source": [
    "### Use the model to make a prediction"
   ]
  },
  {
   "cell_type": "code",
   "execution_count": 294,
   "metadata": {},
   "outputs": [],
   "source": [
    "s_pred = model_s.predict(X_test)\n",
    "e_pred = model_e.predict(X2_test)"
   ]
  },
  {
   "cell_type": "code",
   "execution_count": 295,
   "metadata": {},
   "outputs": [
    {
     "name": "stdout",
     "output_type": "stream",
     "text": [
      "Mean Absolute Error water stress: 19.646271684687534\n",
      "Mean Squared Error water stress: 930.9102094230235\n",
      "Root Mean Squared Error water stress: 30.510821185655157\n",
      "Mean Absolute Error efficiency: 10.432600199746103\n",
      "Mean Squared Error efficiency: 257.79469264390974\n",
      "Root Mean Squared Error efficiency: 16.055986193439185\n"
     ]
    }
   ],
   "source": [
    "print('Mean Absolute Error water stress:', metrics.mean_absolute_error(s_test, s_pred))\n",
    "print('Mean Squared Error water stress:', metrics.mean_squared_error(s_test, s_pred))\n",
    "print('Root Mean Squared Error water stress:', np.sqrt(metrics.mean_squared_error(s_test, s_pred)))\n",
    "\n",
    "print('Mean Absolute Error efficiency:', metrics.mean_absolute_error(e_test, e_pred))\n",
    "print('Mean Squared Error efficiency:', metrics.mean_squared_error(e_test, e_pred))\n",
    "print('Root Mean Squared Error efficiency:', np.sqrt(metrics.mean_squared_error(e_test, e_pred)))"
   ]
  },
  {
   "cell_type": "markdown",
   "metadata": {},
   "source": [
    "Based on the fact that the water stress is given by underlyinh statstics, the model is not really good, though this is only using 3 variables"
   ]
  },
  {
   "cell_type": "markdown",
   "metadata": {},
   "source": [
    "## modelling for unicef data"
   ]
  },
  {
   "cell_type": "markdown",
   "metadata": {},
   "source": [
    "### Construct the tree"
   ]
  },
  {
   "cell_type": "code",
   "execution_count": 368,
   "metadata": {},
   "outputs": [],
   "source": [
    "# Initialize the classifier, we will keep the default parameters for now\n",
    "mod_s = RandomForestRegressor(n_estimators=20)\n",
    "mod_e = RandomForestRegressor(n_estimators=20)"
   ]
  },
  {
   "cell_type": "code",
   "execution_count": 369,
   "metadata": {},
   "outputs": [],
   "source": [
    "# define predictors and target\n",
    "Xu = df_piv_unicef[['GDP_pcp', 'life_ex', 'mort_rate', 'pop_growth']]\n",
    "su = df_piv_unicef.stress.copy()\n",
    "eu = df_piv_unicef.efficiency.copy()"
   ]
  },
  {
   "cell_type": "code",
   "execution_count": 370,
   "metadata": {},
   "outputs": [],
   "source": [
    "# split in train and test\n",
    "Xu_train, Xu_test, su_train, su_test = train_test_split(Xu, su, test_size=0.1, random_state=0)\n",
    "X2u_train, X2u_test, eu_train, eu_test = train_test_split(Xu, eu, test_size=0.1, random_state=0)\n"
   ]
  },
  {
   "cell_type": "code",
   "execution_count": 371,
   "metadata": {},
   "outputs": [
    {
     "data": {
      "text/plain": [
       "RandomForestRegressor(bootstrap=True, ccp_alpha=0.0, criterion='mse',\n",
       "                      max_depth=None, max_features='auto', max_leaf_nodes=None,\n",
       "                      max_samples=None, min_impurity_decrease=0.0,\n",
       "                      min_impurity_split=None, min_samples_leaf=1,\n",
       "                      min_samples_split=2, min_weight_fraction_leaf=0.0,\n",
       "                      n_estimators=20, n_jobs=None, oob_score=False,\n",
       "                      random_state=None, verbose=0, warm_start=False)"
      ]
     },
     "execution_count": 371,
     "metadata": {},
     "output_type": "execute_result"
    }
   ],
   "source": [
    "mod_s.fit(Xu_train,su_train)\n",
    "mod_e.fit(X2u_train,eu_train)"
   ]
  },
  {
   "cell_type": "markdown",
   "metadata": {},
   "source": [
    "### use the model for predictions and check the errors"
   ]
  },
  {
   "cell_type": "code",
   "execution_count": 372,
   "metadata": {},
   "outputs": [],
   "source": [
    "su_pred = mod_s.predict(Xu_test)\n",
    "eu_pred = mod_e.predict(X2u_test)"
   ]
  },
  {
   "cell_type": "code",
   "execution_count": 373,
   "metadata": {},
   "outputs": [
    {
     "name": "stdout",
     "output_type": "stream",
     "text": [
      "Mean Absolute Error water stress: 15.68393440025146\n",
      "Mean Squared Error water stress: 558.6394923169989\n",
      "Root Mean Squared Error water stress: 23.635555680309253\n",
      "Mean Absolute Error efficiency: 9.4174212927945\n",
      "Mean Squared Error efficiency: 222.55917004802322\n",
      "Root Mean Squared Error efficiency: 14.918417142848071\n"
     ]
    }
   ],
   "source": [
    "print('Mean Absolute Error water stress:', metrics.mean_absolute_error(su_test, su_pred))\n",
    "print('Mean Squared Error water stress:', metrics.mean_squared_error(su_test, su_pred))\n",
    "print('Root Mean Squared Error water stress:', np.sqrt(metrics.mean_squared_error(su_test, su_pred)))\n",
    "\n",
    "print('Mean Absolute Error efficiency:', metrics.mean_absolute_error(eu_test, eu_pred))\n",
    "print('Mean Squared Error efficiency:', metrics.mean_squared_error(eu_test, eu_pred))\n",
    "print('Root Mean Squared Error efficiency:', np.sqrt(metrics.mean_squared_error(eu_test, eu_pred)))"
   ]
  },
  {
   "cell_type": "markdown",
   "metadata": {},
   "source": [
    "clearly, this random forest sucks to predict the water stress, though the efficiency seems easier to predict"
   ]
  },
  {
   "cell_type": "markdown",
   "metadata": {},
   "source": [
    "#### these bad predictions are in part due to the extreme values within stress and efficiency variables!!!"
   ]
  },
  {
   "cell_type": "markdown",
   "metadata": {},
   "source": [
    "## modelling for all variables together"
   ]
  },
  {
   "cell_type": "markdown",
   "metadata": {},
   "source": [
    "### Construct the tree"
   ]
  },
  {
   "cell_type": "code",
   "execution_count": 412,
   "metadata": {},
   "outputs": [],
   "source": [
    "# Initialize the classifier, we will keep the default parameters for now\n",
    "m_s = RandomForestRegressor(n_estimators=2000)\n",
    "m_e = RandomForestRegressor(n_estimators=500)"
   ]
  },
  {
   "cell_type": "code",
   "execution_count": 413,
   "metadata": {},
   "outputs": [],
   "source": [
    "# define predictors and target\n",
    "x = df_socio[['GDP_pcp', 'life_ex', 'mort_rate', 'pop_growth','HDI', 'r_u', 'r_u_access']]\n",
    "S = df_socio.stress.copy()\n",
    "E = df_socio.efficiency.copy()"
   ]
  },
  {
   "cell_type": "code",
   "execution_count": 414,
   "metadata": {},
   "outputs": [],
   "source": [
    "# split in train and test\n",
    "x_train, x_test, S_train, S_test = train_test_split(x, S, test_size=0.1, random_state=0)\n",
    "x2_train, x2_test, E_train, E_test = train_test_split(x, E, test_size=0.1, random_state=0)\n"
   ]
  },
  {
   "cell_type": "code",
   "execution_count": 415,
   "metadata": {},
   "outputs": [],
   "source": [
    "m_s.fit(x_train,S_train);\n",
    "m_e.fit(x2_train,E_train);"
   ]
  },
  {
   "cell_type": "markdown",
   "metadata": {},
   "source": [
    "### Making predictions and checking errors"
   ]
  },
  {
   "cell_type": "code",
   "execution_count": 416,
   "metadata": {},
   "outputs": [],
   "source": [
    "S_pred = m_s.predict(x_test)\n",
    "E_pred = m_e.predict(x2_test)"
   ]
  },
  {
   "cell_type": "code",
   "execution_count": 417,
   "metadata": {},
   "outputs": [
    {
     "name": "stdout",
     "output_type": "stream",
     "text": [
      "Mean Absolute Error water stress: 12.19172292318658\n",
      "Mean Squared Error water stress: 336.2480067333211\n",
      "Root Mean Squared Error water stress: 18.337066470221487\n",
      "Mean Absolute Error efficiency: 7.802276262113514\n",
      "Mean Squared Error efficiency: 122.33651919500385\n",
      "Root Mean Squared Error efficiency: 11.060584034986753\n"
     ]
    }
   ],
   "source": [
    "print('Mean Absolute Error water stress:', metrics.mean_absolute_error(S_test, S_pred))\n",
    "print('Mean Squared Error water stress:', metrics.mean_squared_error(S_test, S_pred))\n",
    "print('Root Mean Squared Error water stress:', np.sqrt(metrics.mean_squared_error(S_test, S_pred)))\n",
    "\n",
    "print('Mean Absolute Error efficiency:', metrics.mean_absolute_error(E_test, E_pred))\n",
    "print('Mean Squared Error efficiency:', metrics.mean_squared_error(E_test, E_pred))\n",
    "print('Root Mean Squared Error efficiency:', np.sqrt(metrics.mean_squared_error(E_test, E_pred)))"
   ]
  },
  {
   "cell_type": "markdown",
   "metadata": {},
   "source": [
    "given that we work on a scale of percentages, the mean absolute errors signify the errors we're getting"
   ]
  },
  {
   "cell_type": "markdown",
   "metadata": {},
   "source": [
    "### further accuracy metrics"
   ]
  },
  {
   "cell_type": "code",
   "execution_count": 418,
   "metadata": {},
   "outputs": [
    {
     "name": "stdout",
     "output_type": "stream",
     "text": [
      "Mean Absolute Error: 12.19 degrees.\n",
      "Mean Absolute Error: 7.8 degrees.\n",
      "Accuracy water stress prediction: 29.82 %.\n",
      "Accuracy efficiency prediction: 46.64 %.\n"
     ]
    }
   ],
   "source": [
    "# Calculate the absolute errors\n",
    "errors1 = abs(S_pred - S_test)\n",
    "errors2 = abs(E_pred - E_test)\n",
    "\n",
    "# Print out the mean absolute error (mae)\n",
    "print('Mean Absolute Error:', round(np.mean(errors1), 2), 'degrees.')\n",
    "print('Mean Absolute Error:', round(np.mean(errors2), 2), 'degrees.')\n",
    "\n",
    "# Calculate mean absolute percentage error (MAPE)\n",
    "mape1 = 100 * (errors1 / S_test)\n",
    "mape2 = 100 * (errors2 / E_test)\n",
    "\n",
    "# Calculate and display accuracy\n",
    "accuracy1 = 100 - np.median(mape1)\n",
    "accuracy2 = 100 - np.median(mape2)\n",
    "\n",
    "print('Accuracy water stress prediction:', round(accuracy1, 2), '%.')\n",
    "print('Accuracy efficiency prediction:', round(accuracy2, 2), '%.')\n"
   ]
  },
  {
   "cell_type": "code",
   "execution_count": 423,
   "metadata": {},
   "outputs": [
    {
     "data": {
      "image/png": "[encoded data removed]",
      "text/plain": [
       "<Figure size 360x504 with 1 Axes>"
      ]
     },
     "metadata": {
      "needs_background": "light"
     },
     "output_type": "display_data"
    }
   ],
   "source": [
    "import seaborn as sns\n",
    "import matplotlib.pyplot as plt\n",
    "\n",
    "plt.figure(figsize=(5, 7))\n",
    "\n",
    "\n",
    "ax = sns.distplot(S_test, hist=False, color=\"r\", label=\"Actual Value\")\n",
    "sns.distplot(S_pred, hist=False, color=\"b\", label=\"Fitted Values\" , ax=ax)\n",
    "\n",
    "\n",
    "plt.title('Actual vs Fitted Values for stress')\n",
    "\n",
    "\n",
    "plt.show()\n",
    "plt.close()"
   ]
  },
  {
   "cell_type": "code",
   "execution_count": null,
   "metadata": {},
   "outputs": [],
   "source": []
  }
 ],
 "metadata": {
  "kernelspec": {
   "display_name": "Python 3",
   "language": "python",
   "name": "python3"
  },
  "language_info": {
   "codemirror_mode": {
    "name": "ipython",
    "version": 3
   },
   "file_extension": ".py",
   "mimetype": "text/x-python",
   "name": "python",
   "nbconvert_exporter": "python",
   "pygments_lexer": "ipython3",
   "version": "3.7.6"
  }
 },
 "nbformat": 4,
 "nbformat_minor": 4
}
