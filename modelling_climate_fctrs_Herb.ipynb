{
 "cells": [
  {
   "cell_type": "markdown",
   "id": "70ed3e35",
   "metadata": {},
   "source": [
    "# Testing analytics and modelling\n",
    "\n",
    "For this we will be doing some testing of different modelling techniques and seeing whether anything works.\n",
    "\n",
    "## Data importing"
   ]
  },
  {
   "cell_type": "code",
   "execution_count": 1,
   "id": "e4480ff1",
   "metadata": {},
   "outputs": [],
   "source": [
    "import pandas as pd\n",
    "import numpy as np\n",
    "import ipywidgets as widgets\n",
    "import matplotlib.pyplot as plt\n",
    "%matplotlib inline"
   ]
  },
  {
   "cell_type": "code",
   "execution_count": 7,
   "id": "b77a9688",
   "metadata": {},
   "outputs": [],
   "source": [
    "climate = pd.read_csv('clean data/climate_factors.csv', index_col='Unnamed: 0')\n",
    "socio = pd.read_csv('clean data/socioec_factors.csv', index_col='Unnamed: 0')\n",
    "wstress = pd.read_csv('clean data/water_stress.csv')\n",
    "countries = pd.read_csv('shared_country_codes.csv')\n",
    "countries = list(countries['0'])"
   ]
  },
  {
   "cell_type": "markdown",
   "id": "586d64c4",
   "metadata": {},
   "source": [
    "## Checking the clean data\n",
    "\n",
    "Need to remove the unnecessary countries from the datasets using the shared countries information. And then see what the situation is with the NANs."
   ]
  },
  {
   "cell_type": "code",
   "execution_count": 8,
   "id": "19d10329",
   "metadata": {
    "scrolled": true
   },
   "outputs": [
    {
     "data": {
      "text/html": [
       "<div>\n",
       "<style scoped>\n",
       "    .dataframe tbody tr th:only-of-type {\n",
       "        vertical-align: middle;\n",
       "    }\n",
       "\n",
       "    .dataframe tbody tr th {\n",
       "        vertical-align: top;\n",
       "    }\n",
       "\n",
       "    .dataframe thead th {\n",
       "        text-align: right;\n",
       "    }\n",
       "</style>\n",
       "<table border=\"1\" class=\"dataframe\">\n",
       "  <thead>\n",
       "    <tr style=\"text-align: right;\">\n",
       "      <th></th>\n",
       "      <th>Variables</th>\n",
       "      <th># NaN</th>\n",
       "    </tr>\n",
       "  </thead>\n",
       "  <tbody>\n",
       "    <tr>\n",
       "      <th>0</th>\n",
       "      <td>Country</td>\n",
       "      <td>0</td>\n",
       "    </tr>\n",
       "    <tr>\n",
       "      <th>1</th>\n",
       "      <td>Temp</td>\n",
       "      <td>0</td>\n",
       "    </tr>\n",
       "    <tr>\n",
       "      <th>2</th>\n",
       "      <td>Rain</td>\n",
       "      <td>0</td>\n",
       "    </tr>\n",
       "    <tr>\n",
       "      <th>3</th>\n",
       "      <td>IRWR</td>\n",
       "      <td>0</td>\n",
       "    </tr>\n",
       "    <tr>\n",
       "      <th>4</th>\n",
       "      <td>ERWR</td>\n",
       "      <td>0</td>\n",
       "    </tr>\n",
       "    <tr>\n",
       "      <th>5</th>\n",
       "      <td>TRWR</td>\n",
       "      <td>0</td>\n",
       "    </tr>\n",
       "    <tr>\n",
       "      <th>6</th>\n",
       "      <td>Dep_ratio</td>\n",
       "      <td>1</td>\n",
       "    </tr>\n",
       "  </tbody>\n",
       "</table>\n",
       "</div>"
      ],
      "text/plain": [
       "   Variables  # NaN\n",
       "0    Country      0\n",
       "1       Temp      0\n",
       "2       Rain      0\n",
       "3       IRWR      0\n",
       "4       ERWR      0\n",
       "5       TRWR      0\n",
       "6  Dep_ratio      1"
      ]
     },
     "execution_count": 8,
     "metadata": {},
     "output_type": "execute_result"
    }
   ],
   "source": [
    "climate = climate[climate['Country'].isin(countries)]\n",
    "climate.isnull().sum().reset_index().rename(columns={'index':'Variables',0:'# NaN'})"
   ]
  },
  {
   "cell_type": "markdown",
   "id": "c499e811",
   "metadata": {},
   "source": [
    "Checking which countries are those that have NANs in the columns that have few NANs."
   ]
  },
  {
   "cell_type": "code",
   "execution_count": 9,
   "id": "fb2c4ec3",
   "metadata": {},
   "outputs": [
    {
     "data": {
      "text/html": [
       "<div>\n",
       "<style scoped>\n",
       "    .dataframe tbody tr th:only-of-type {\n",
       "        vertical-align: middle;\n",
       "    }\n",
       "\n",
       "    .dataframe tbody tr th {\n",
       "        vertical-align: top;\n",
       "    }\n",
       "\n",
       "    .dataframe thead th {\n",
       "        text-align: right;\n",
       "    }\n",
       "</style>\n",
       "<table border=\"1\" class=\"dataframe\">\n",
       "  <thead>\n",
       "    <tr style=\"text-align: right;\">\n",
       "      <th></th>\n",
       "      <th>Country</th>\n",
       "      <th>Temp</th>\n",
       "      <th>Rain</th>\n",
       "      <th>IRWR</th>\n",
       "      <th>ERWR</th>\n",
       "      <th>TRWR</th>\n",
       "      <th>Dep_ratio</th>\n",
       "    </tr>\n",
       "  </thead>\n",
       "  <tbody>\n",
       "    <tr>\n",
       "      <th>172</th>\n",
       "      <td>SYC</td>\n",
       "      <td>27.674428</td>\n",
       "      <td>1648.542325</td>\n",
       "      <td>0.0</td>\n",
       "      <td>0.0</td>\n",
       "      <td>0.0</td>\n",
       "      <td>NaN</td>\n",
       "    </tr>\n",
       "  </tbody>\n",
       "</table>\n",
       "</div>"
      ],
      "text/plain": [
       "    Country       Temp         Rain  IRWR  ERWR  TRWR  Dep_ratio\n",
       "172     SYC  27.674428  1648.542325   0.0   0.0   0.0        NaN"
      ]
     },
     "execution_count": 9,
     "metadata": {},
     "output_type": "execute_result"
    }
   ],
   "source": [
    "#climate = climate.drop(climate.columns[[6]], axis = 1)\n",
    "climate[climate.isna().any(axis = 1)]"
   ]
  },
  {
   "cell_type": "code",
   "execution_count": 10,
   "id": "e485aa69",
   "metadata": {
    "scrolled": true
   },
   "outputs": [
    {
     "data": {
      "text/html": [
       "<div>\n",
       "<style scoped>\n",
       "    .dataframe tbody tr th:only-of-type {\n",
       "        vertical-align: middle;\n",
       "    }\n",
       "\n",
       "    .dataframe tbody tr th {\n",
       "        vertical-align: top;\n",
       "    }\n",
       "\n",
       "    .dataframe thead th {\n",
       "        text-align: right;\n",
       "    }\n",
       "</style>\n",
       "<table border=\"1\" class=\"dataframe\">\n",
       "  <thead>\n",
       "    <tr style=\"text-align: right;\">\n",
       "      <th></th>\n",
       "      <th>Variables</th>\n",
       "      <th># NaN</th>\n",
       "    </tr>\n",
       "  </thead>\n",
       "  <tbody>\n",
       "    <tr>\n",
       "      <th>0</th>\n",
       "      <td>Country</td>\n",
       "      <td>0</td>\n",
       "    </tr>\n",
       "    <tr>\n",
       "      <th>1</th>\n",
       "      <td>rural_pop</td>\n",
       "      <td>0</td>\n",
       "    </tr>\n",
       "    <tr>\n",
       "      <th>2</th>\n",
       "      <td>urban_pop</td>\n",
       "      <td>0</td>\n",
       "    </tr>\n",
       "    <tr>\n",
       "      <th>3</th>\n",
       "      <td>HDI</td>\n",
       "      <td>0</td>\n",
       "    </tr>\n",
       "    <tr>\n",
       "      <th>4</th>\n",
       "      <td>r_u</td>\n",
       "      <td>0</td>\n",
       "    </tr>\n",
       "    <tr>\n",
       "      <th>5</th>\n",
       "      <td>r_u_access</td>\n",
       "      <td>0</td>\n",
       "    </tr>\n",
       "    <tr>\n",
       "      <th>6</th>\n",
       "      <td>pop_growth</td>\n",
       "      <td>0</td>\n",
       "    </tr>\n",
       "    <tr>\n",
       "      <th>7</th>\n",
       "      <td>mort_rate</td>\n",
       "      <td>0</td>\n",
       "    </tr>\n",
       "    <tr>\n",
       "      <th>8</th>\n",
       "      <td>GDP_pcp</td>\n",
       "      <td>3</td>\n",
       "    </tr>\n",
       "    <tr>\n",
       "      <th>9</th>\n",
       "      <td>life_ex</td>\n",
       "      <td>0</td>\n",
       "    </tr>\n",
       "  </tbody>\n",
       "</table>\n",
       "</div>"
      ],
      "text/plain": [
       "    Variables  # NaN\n",
       "0     Country      0\n",
       "1   rural_pop      0\n",
       "2   urban_pop      0\n",
       "3         HDI      0\n",
       "4         r_u      0\n",
       "5  r_u_access      0\n",
       "6  pop_growth      0\n",
       "7   mort_rate      0\n",
       "8     GDP_pcp      3\n",
       "9     life_ex      0"
      ]
     },
     "execution_count": 10,
     "metadata": {},
     "output_type": "execute_result"
    }
   ],
   "source": [
    "socio = socio[socio['Country'].isin(countries)]\n",
    "socio.isnull().sum().reset_index().rename(columns={'index':'Variables',0:'# NaN'})"
   ]
  },
  {
   "cell_type": "markdown",
   "id": "15a3933d",
   "metadata": {},
   "source": [
    "Checking the NAs in the socio economic data"
   ]
  },
  {
   "cell_type": "code",
   "execution_count": 12,
   "id": "1cc413b6",
   "metadata": {},
   "outputs": [
    {
     "data": {
      "text/html": [
       "<div>\n",
       "<style scoped>\n",
       "    .dataframe tbody tr th:only-of-type {\n",
       "        vertical-align: middle;\n",
       "    }\n",
       "\n",
       "    .dataframe tbody tr th {\n",
       "        vertical-align: top;\n",
       "    }\n",
       "\n",
       "    .dataframe thead th {\n",
       "        text-align: right;\n",
       "    }\n",
       "</style>\n",
       "<table border=\"1\" class=\"dataframe\">\n",
       "  <thead>\n",
       "    <tr style=\"text-align: right;\">\n",
       "      <th></th>\n",
       "      <th>Country</th>\n",
       "      <th>rural_pop</th>\n",
       "      <th>urban_pop</th>\n",
       "      <th>HDI</th>\n",
       "      <th>r_u</th>\n",
       "      <th>r_u_access</th>\n",
       "      <th>pop_growth</th>\n",
       "      <th>mort_rate</th>\n",
       "      <th>GDP_pcp</th>\n",
       "      <th>life_ex</th>\n",
       "    </tr>\n",
       "  </thead>\n",
       "  <tbody>\n",
       "    <tr>\n",
       "      <th>121</th>\n",
       "      <td>SYR</td>\n",
       "      <td>8495.489</td>\n",
       "      <td>9774.379</td>\n",
       "      <td>0.544</td>\n",
       "      <td>0.869159</td>\n",
       "      <td>0.944745</td>\n",
       "      <td>-3.60</td>\n",
       "      <td>17.8</td>\n",
       "      <td>NaN</td>\n",
       "      <td>70.2</td>\n",
       "    </tr>\n",
       "    <tr>\n",
       "      <th>135</th>\n",
       "      <td>VEN</td>\n",
       "      <td>3778.814</td>\n",
       "      <td>28198.251</td>\n",
       "      <td>0.735</td>\n",
       "      <td>0.134009</td>\n",
       "      <td>0.820000</td>\n",
       "      <td>0.02</td>\n",
       "      <td>17.6</td>\n",
       "      <td>NaN</td>\n",
       "      <td>72.6</td>\n",
       "    </tr>\n",
       "    <tr>\n",
       "      <th>138</th>\n",
       "      <td>YEM</td>\n",
       "      <td>18075.808</td>\n",
       "      <td>10174.612</td>\n",
       "      <td>0.463</td>\n",
       "      <td>1.776560</td>\n",
       "      <td>0.645833</td>\n",
       "      <td>2.58</td>\n",
       "      <td>43.0</td>\n",
       "      <td>NaN</td>\n",
       "      <td>66.0</td>\n",
       "    </tr>\n",
       "  </tbody>\n",
       "</table>\n",
       "</div>"
      ],
      "text/plain": [
       "    Country  rural_pop  urban_pop    HDI       r_u  r_u_access  pop_growth  \\\n",
       "121     SYR   8495.489   9774.379  0.544  0.869159    0.944745       -3.60   \n",
       "135     VEN   3778.814  28198.251  0.735  0.134009    0.820000        0.02   \n",
       "138     YEM  18075.808  10174.612  0.463  1.776560    0.645833        2.58   \n",
       "\n",
       "     mort_rate  GDP_pcp  life_ex  \n",
       "121       17.8      NaN     70.2  \n",
       "135       17.6      NaN     72.6  \n",
       "138       43.0      NaN     66.0  "
      ]
     },
     "execution_count": 12,
     "metadata": {},
     "output_type": "execute_result"
    }
   ],
   "source": [
    "socio[socio.isna().any(axis = 1)]"
   ]
  },
  {
   "cell_type": "markdown",
   "id": "c19bdc80",
   "metadata": {},
   "source": [
    "Checking which countries are those that have NANs in the columns that have few NANs."
   ]
  },
  {
   "cell_type": "code",
   "execution_count": 13,
   "id": "2b1c4c97",
   "metadata": {},
   "outputs": [
    {
     "data": {
      "text/html": [
       "<div>\n",
       "<style scoped>\n",
       "    .dataframe tbody tr th:only-of-type {\n",
       "        vertical-align: middle;\n",
       "    }\n",
       "\n",
       "    .dataframe tbody tr th {\n",
       "        vertical-align: top;\n",
       "    }\n",
       "\n",
       "    .dataframe thead th {\n",
       "        text-align: right;\n",
       "    }\n",
       "</style>\n",
       "<table border=\"1\" class=\"dataframe\">\n",
       "  <thead>\n",
       "    <tr style=\"text-align: right;\">\n",
       "      <th></th>\n",
       "      <th>Country</th>\n",
       "      <th>WS_MDG</th>\n",
       "      <th>WUE_SDG</th>\n",
       "      <th>WS_SDG</th>\n",
       "    </tr>\n",
       "  </thead>\n",
       "  <tbody>\n",
       "    <tr>\n",
       "      <th>43</th>\n",
       "      <td>DJI</td>\n",
       "      <td>6.333333</td>\n",
       "      <td>NaN</td>\n",
       "      <td>6.333333</td>\n",
       "    </tr>\n",
       "    <tr>\n",
       "      <th>64</th>\n",
       "      <td>GNQ</td>\n",
       "      <td>0.076154</td>\n",
       "      <td>NaN</td>\n",
       "      <td>0.183503</td>\n",
       "    </tr>\n",
       "    <tr>\n",
       "      <th>66</th>\n",
       "      <td>GRD</td>\n",
       "      <td>7.050000</td>\n",
       "      <td>NaN</td>\n",
       "      <td>7.050000</td>\n",
       "    </tr>\n",
       "    <tr>\n",
       "      <th>104</th>\n",
       "      <td>MDV</td>\n",
       "      <td>15.666667</td>\n",
       "      <td>NaN</td>\n",
       "      <td>15.666667</td>\n",
       "    </tr>\n",
       "    <tr>\n",
       "      <th>130</th>\n",
       "      <td>PNG</td>\n",
       "      <td>0.048951</td>\n",
       "      <td>NaN</td>\n",
       "      <td>0.132243</td>\n",
       "    </tr>\n",
       "    <tr>\n",
       "      <th>156</th>\n",
       "      <td>SYC</td>\n",
       "      <td>NaN</td>\n",
       "      <td>89.323035</td>\n",
       "      <td>NaN</td>\n",
       "    </tr>\n",
       "  </tbody>\n",
       "</table>\n",
       "</div>"
      ],
      "text/plain": [
       "    Country     WS_MDG    WUE_SDG     WS_SDG\n",
       "43      DJI   6.333333        NaN   6.333333\n",
       "64      GNQ   0.076154        NaN   0.183503\n",
       "66      GRD   7.050000        NaN   7.050000\n",
       "104     MDV  15.666667        NaN  15.666667\n",
       "130     PNG   0.048951        NaN   0.132243\n",
       "156     SYC        NaN  89.323035        NaN"
      ]
     },
     "execution_count": 13,
     "metadata": {},
     "output_type": "execute_result"
    }
   ],
   "source": [
    "wstress = wstress[wstress['Country'].isin(countries)]\n",
    "wstress.isnull().sum()\n",
    "\n",
    "wstress[wstress.isna().any(axis=1)]"
   ]
  },
  {
   "cell_type": "markdown",
   "id": "557eb791",
   "metadata": {},
   "source": [
    "## Exploring the data\n",
    "\n",
    "First need to merge the explanatory datasets (climate and socio economic) with the target dataset.\n"
   ]
  },
  {
   "cell_type": "code",
   "execution_count": 14,
   "id": "0efb6395",
   "metadata": {},
   "outputs": [
    {
     "data": {
      "text/plain": [
       "Country      0\n",
       "Temp         0\n",
       "Rain         0\n",
       "IRWR         0\n",
       "ERWR         0\n",
       "TRWR         0\n",
       "Dep_ratio    0\n",
       "WS_MDG       0\n",
       "WUE_SDG      5\n",
       "WS_SDG       0\n",
       "dtype: int64"
      ]
     },
     "execution_count": 14,
     "metadata": {},
     "output_type": "execute_result"
    }
   ],
   "source": [
    "allclimate = pd.merge(climate, wstress, on = 'Country', how = 'outer')\n",
    "#allclimate = allclimate.drop(columns = ['Unnamed: 0_x', 'Unnamed: 0_y'])\n",
    "allclimate = allclimate.drop(allclimate[allclimate['Country'] == 'SYC'].index)\n",
    "allclimate.isna().sum()"
   ]
  },
  {
   "cell_type": "code",
   "execution_count": 15,
   "id": "a5fdb5a6",
   "metadata": {},
   "outputs": [
    {
     "data": {
      "text/plain": [
       "['Country',\n",
       " 'Temp',\n",
       " 'Rain',\n",
       " 'IRWR',\n",
       " 'ERWR',\n",
       " 'TRWR',\n",
       " 'Dep_ratio',\n",
       " 'WS_MDG',\n",
       " 'WUE_SDG',\n",
       " 'WS_SDG']"
      ]
     },
     "execution_count": 15,
     "metadata": {},
     "output_type": "execute_result"
    }
   ],
   "source": [
    "cols = list(allclimate.columns)\n",
    "#cols.remove('Country')\n",
    "cols"
   ]
  },
  {
   "cell_type": "code",
   "execution_count": 16,
   "id": "19bd1652",
   "metadata": {},
   "outputs": [
    {
     "data": {
      "text/plain": [
       "Country       0\n",
       "rural_pop     0\n",
       "urban_pop     0\n",
       "HDI           0\n",
       "r_u           0\n",
       "r_u_access    0\n",
       "pop_growth    0\n",
       "mort_rate     0\n",
       "GDP_pcp       3\n",
       "life_ex       0\n",
       "WS_MDG        0\n",
       "WUE_SDG       5\n",
       "WS_SDG        0\n",
       "dtype: int64"
      ]
     },
     "execution_count": 16,
     "metadata": {},
     "output_type": "execute_result"
    }
   ],
   "source": [
    "allsocio = pd.merge(socio, wstress, on = 'Country', how = 'outer')\n",
    "allsocio = allsocio.drop(allsocio[allsocio['Country'] == 'SYC'].index)\n",
    "allsocio.isna().sum()"
   ]
  },
  {
   "cell_type": "markdown",
   "id": "ca63ca91",
   "metadata": {},
   "source": [
    "## Exploratory plots\n",
    "\n",
    "We can plot the explanatory variables against the potential target variables. \n",
    "\n",
    "### Climate data plots"
   ]
  },
  {
   "cell_type": "code",
   "execution_count": 20,
   "id": "9c4e495b",
   "metadata": {
    "scrolled": true
   },
   "outputs": [
    {
     "data": {
      "application/vnd.jupyter.widget-view+json": {
       "model_id": "f5592ef314274ad8b9debe0e407f0b16",
       "version_major": 2,
       "version_minor": 0
      },
      "text/plain": [
       "Accordion(children=(Dropdown(description='Value:', options=('Temp', 'Rain', 'IRWR', 'ERWR', 'TRWR', 'Dep_ratio…"
      ]
     },
     "metadata": {},
     "output_type": "display_data"
    }
   ],
   "source": [
    "cols = list(allclimate.columns)\n",
    "#cols.remove('Country')\n",
    "climate_exp_cols = cols\n",
    "climate_exp_cols.remove('WS_MDG')\n",
    "climate_exp_cols.remove('WUE_SDG')\n",
    "climate_exp_cols.remove('WS_SDG')\n",
    "climate_exp_cols.remove('Country')\n",
    "\n",
    "climate_expl_choice = widgets.Dropdown(\n",
    "    options=climate_exp_cols,\n",
    "    value=climate_exp_cols[0],\n",
    "    description='Value:',\n",
    "    disabled=False,\n",
    ")\n",
    "\n",
    "trgt_cols = ['WS_MDG', 'WUE_SDG', 'WS_SDG']\n",
    "\n",
    "climate_trgt_choice = widgets.Dropdown(\n",
    "    options = trgt_cols,\n",
    "    value = trgt_cols[0],\n",
    "    description = 'Value:',\n",
    "    disabled = False,\n",
    ")\n",
    "\n",
    "climate_log_choice = widgets.Dropdown(\n",
    "    options = ['None', 'Target', 'Explanatory', 'Both'],\n",
    "    value = 'None',\n",
    "    description = 'Selection:',\n",
    "    disabled = False\n",
    ")\n",
    "\n",
    "selection = widgets.Accordion(children=[climate_expl_choice, climate_trgt_choice, climate_log_choice])\n",
    "selection.set_title(0, 'Explanatory variable')\n",
    "selection.set_title(1, 'Target variable')\n",
    "selection.set_title(2, 'Take log of variables')\n",
    "selection"
   ]
  },
  {
   "cell_type": "code",
   "execution_count": 21,
   "id": "7b95f1d2",
   "metadata": {},
   "outputs": [
    {
     "data": {
      "text/plain": [
       "Text(0.5, 1.0, 'Climate data exploratory plot')"
      ]
     },
     "execution_count": 21,
     "metadata": {},
     "output_type": "execute_result"
    },
    {
     "data": {
      "image/png": "[encoded data removed]",
      "text/plain": [
       "<Figure size 432x288 with 1 Axes>"
      ]
     },
     "metadata": {
      "needs_background": "light"
     },
     "output_type": "display_data"
    }
   ],
   "source": [
    "if climate_log_choice.value == 'None':\n",
    "    plt.scatter(x = allclimate[climate_expl_choice.value], y = (allclimate[climate_trgt_choice.value]))\n",
    "elif climate_log_choice.value == 'Target':\n",
    "    plt.scatter(x = allclimate[climate_expl_choice.value], y = np.log(allclimate[climate_trgt_choice.value]))\n",
    "elif climate_log_choice.value == 'Explanatory':\n",
    "    plt.scatter(x = np.log(allclimate[climate_expl_choice.value]), y = (allclimate[climate_trgt_choice.value]))\n",
    "elif climate_log_choice.value == 'Both':\n",
    "    plt.scatter(x = np.log(allclimate[climate_expl_choice.value]), y = np.log(allclimate[climate_trgt_choice.value]))\n",
    "plt.xlabel(climate_expl_choice.value)\n",
    "plt.ylabel(climate_trgt_choice.value)\n",
    "plt.title('Climate data exploratory plot')"
   ]
  },
  {
   "cell_type": "markdown",
   "id": "a7d88e28",
   "metadata": {},
   "source": [
    "If we play around with the plots we can see that the target variables have a distribution with many small values and a few very large values. If we take the *log()* of the target values the plots look a lot better and much more readable. This is something that we should keep in mind when creating model, especially regression models.\n",
    "\n",
    "All the water resource explanatory variables suffer from a similar problem of having varied values with many small values and a few very large values.\n",
    "\n",
    "### Socio economic data plots"
   ]
  },
  {
   "cell_type": "code",
   "execution_count": 22,
   "id": "c68b92db",
   "metadata": {},
   "outputs": [
    {
     "data": {
      "application/vnd.jupyter.widget-view+json": {
       "model_id": "e2a8fad86fb94be8b2ca15098ccd2b93",
       "version_major": 2,
       "version_minor": 0
      },
      "text/plain": [
       "Accordion(children=(Dropdown(description='Value:', options=('rural_pop', 'urban_pop', 'HDI', 'r_u', 'r_u_acces…"
      ]
     },
     "metadata": {},
     "output_type": "display_data"
    }
   ],
   "source": [
    "cols = list(allsocio.columns)\n",
    "socio_exp_cols = cols\n",
    "socio_exp_cols.remove('WS_MDG')\n",
    "socio_exp_cols.remove('WUE_SDG')\n",
    "socio_exp_cols.remove('WS_SDG')\n",
    "socio_exp_cols.remove('Country')\n",
    "\n",
    "socio_expl_choice = widgets.Dropdown(\n",
    "    options=socio_exp_cols,\n",
    "    value=socio_exp_cols[0],\n",
    "    description='Value:',\n",
    "    disabled=False,\n",
    ")\n",
    "\n",
    "socio_trgt_choice = widgets.Dropdown(\n",
    "    options = trgt_cols,\n",
    "    value = trgt_cols[0],\n",
    "    description = 'Value:',\n",
    "    disabled = False,\n",
    ")\n",
    "\n",
    "socio_log_choice = widgets.Dropdown(\n",
    "    options = ['None', 'Target', 'Explanatory', 'Both'],\n",
    "    value = 'None',\n",
    "    description = 'Selection:',\n",
    "    disabled = False\n",
    ")\n",
    "\n",
    "socio_selection = widgets.Accordion(children=[socio_expl_choice, socio_trgt_choice, socio_log_choice])\n",
    "socio_selection.set_title(0, 'Explanatory variable')\n",
    "socio_selection.set_title(1, 'Target variable')\n",
    "socio_selection.set_title(2, 'Take log of variables')\n",
    "socio_selection"
   ]
  },
  {
   "cell_type": "code",
   "execution_count": 25,
   "id": "f2df968d",
   "metadata": {},
   "outputs": [
    {
     "name": "stderr",
     "output_type": "stream",
     "text": [
      "C:\\Users\\makos\\Anaconda3\\envs\\mda_dash\\lib\\site-packages\\pandas\\core\\series.py:726: RuntimeWarning: divide by zero encountered in log\n",
      "  result = getattr(ufunc, method)(*inputs, **kwargs)\n"
     ]
    },
    {
     "data": {
      "text/plain": [
       "Text(0.5, 1.0, 'Socio economic data exploratory plot')"
      ]
     },
     "execution_count": 25,
     "metadata": {},
     "output_type": "execute_result"
    },
    {
     "data": {
      "image/png": "[encoded data removed]",
      "text/plain": [
       "<Figure size 432x288 with 1 Axes>"
      ]
     },
     "metadata": {
      "needs_background": "light"
     },
     "output_type": "display_data"
    }
   ],
   "source": [
    "if socio_log_choice.value == 'None':\n",
    "    plt.scatter(x = allsocio[socio_expl_choice.value], y = (allsocio[socio_trgt_choice.value]))\n",
    "elif socio_log_choice.value == 'Target':\n",
    "    plt.scatter(x = allsocio[socio_expl_choice.value], y = np.log(allsocio[socio_trgt_choice.value]))\n",
    "elif socio_log_choice.value == 'Explanatory':\n",
    "    plt.scatter(x = np.log(allsocio[socio_expl_choice.value]), y = (allsocio[socio_trgt_choice.value]))\n",
    "elif socio_log_choice.value == 'Both':\n",
    "    plt.scatter(x = np.log(allsocio[socio_expl_choice.value]), y = np.log(allsocio[socio_trgt_choice.value]))\n",
    "plt.xlabel(socio_expl_choice.value)\n",
    "plt.ylabel(socio_trgt_choice.value)\n",
    "plt.title('Socio economic data exploratory plot')"
   ]
  },
  {
   "cell_type": "markdown",
   "id": "f580bd0f",
   "metadata": {},
   "source": [
    "## Basic modelling\n",
    "\n",
    "We will use some basic modelling techniques to whether there are any interesting behaviours in the data. Based on the exploratory plots, it would make sense to use the *log()* values for some of the variables, both explanatory and target, for some types of the modelling techniques.\n",
    "\n",
    "### Compare clusters\n",
    "\n",
    "Create the same number of clusters for the climate and socio economic data. See what countries are in the same clusters in both.\n",
    "\n",
    "Need to perform some preprocessing first:\n",
    "- Normalise the variables to N(0,1) using StandardScaler"
   ]
  },
  {
   "cell_type": "code",
   "execution_count": 26,
   "id": "a0d6c6f4",
   "metadata": {},
   "outputs": [],
   "source": [
    "from sklearn.preprocessing import StandardScaler\n",
    "from sklearn.cluster import KMeans, SpectralClustering\n",
    "from sklearn.pipeline import Pipeline\n",
    "from sklearn.impute import KNNImputer"
   ]
  },
  {
   "cell_type": "code",
   "execution_count": 27,
   "id": "616f5452",
   "metadata": {},
   "outputs": [
    {
     "data": {
      "application/vnd.jupyter.widget-view+json": {
       "model_id": "50cb557d5efd4d87a37dadfb99d467f0",
       "version_major": 2,
       "version_minor": 0
      },
      "text/plain": [
       "IntSlider(value=3, continuous_update=False, description='Test:', max=7, min=2)"
      ]
     },
     "metadata": {},
     "output_type": "display_data"
    }
   ],
   "source": [
    "noclusters = widgets.IntSlider(\n",
    "    value=3,\n",
    "    min=2,\n",
    "    max=7,\n",
    "    step=1,\n",
    "    description='Test:',\n",
    "    disabled=False,\n",
    "    continuous_update=False,\n",
    "    orientation='horizontal',\n",
    "    readout=True,\n",
    "    readout_format='d'\n",
    ")\n",
    "\n",
    "noclusters"
   ]
  },
  {
   "cell_type": "markdown",
   "id": "4d023c5f",
   "metadata": {},
   "source": [
    "Choose the number of clusters to create."
   ]
  },
  {
   "cell_type": "code",
   "execution_count": 42,
   "id": "72d63d14",
   "metadata": {},
   "outputs": [],
   "source": [
    "impute = KNNImputer()\n",
    "normalise = StandardScaler()\n",
    "kmeans = KMeans(n_clusters=noclusters.value, init='k-means++', max_iter=1000)\n",
    "spectral = SpectralClustering(n_clusters=noclusters.value, assign_labels='discretize', random_state=0)\n",
    "\n",
    "kmeans_pipe = Pipeline([('norm', normalise), ('cluster', kmeans)])\n",
    "cluster_pipe = Pipeline([('norm', normalise), ('cluster', spectral)])\n",
    "\n",
    "kmeans_pipe.fit(allclimate.drop(allclimate.columns[[0, 7, 8, 9]], axis = 1))\n",
    "kmeans_pred = kmeans_pipe.fit_predict(allclimate.drop(allclimate.columns[[0, 7, 8, 9]], axis = 1))\n",
    "cluster_pipe.fit(allclimate.drop(allclimate.columns[[0, 7, 8, 9]], axis = 1))\n",
    "spectral_pred = cluster_pipe.fit_predict(allclimate.drop(allclimate.columns[[0, 7, 8, 9]], axis = 1))\n",
    "\n",
    "countries = list(allclimate['Country'])\n",
    "\n",
    "kmeans_climate_clusters = list(zip(countries, kmeans_pred))\n",
    "spectral_climate_clusters = list(zip(countries, spectral_pred))\n",
    "\n",
    "kmeans_pipe = Pipeline([('impute', impute), ('norm', normalise), ('cluster', kmeans)])\n",
    "spectral_pipe = Pipeline([('impute', impute), ('norm', normalise), ('cluster', spectral)])\n",
    "\n",
    "kmeans_pipe.fit_transform(allsocio.drop(allsocio.columns[[0, 10, 11, 12]], axis = 1))\n",
    "spectral_pipe.fit(allsocio.drop(allsocio.columns[[0, 10, 11, 12]], axis = 1))\n",
    "kmeans_pred = kmeans_pipe.fit_predict(allsocio.drop(allsocio.columns[[0, 10, 11, 12]], axis = 1))\n",
    "spectral_pred = spectral_pipe.fit_predict(allsocio.drop(allsocio.columns[[0, 10, 11, 12]], axis = 1))\n",
    "\n",
    "countries = list(allsocio['Country'])\n",
    "\n",
    "kmeans_socio_clusters = list(zip(countries, kmeans_pred))\n",
    "spectral_socio_clusters = list(zip(countries, spectral_pred))"
   ]
  },
  {
   "cell_type": "markdown",
   "id": "9958fce9",
   "metadata": {},
   "source": [
    "Now check which countries are in the together in the same clusters for the climate and socio economic factors."
   ]
  },
  {
   "cell_type": "code",
   "execution_count": 43,
   "id": "34af62bb",
   "metadata": {},
   "outputs": [],
   "source": [
    "km_climate_sets = []\n",
    "km_socio_sets = []\n",
    "for i in range(int(noclusters.value)):\n",
    "    kmeans_climate_clusters = np.asarray(kmeans_climate_clusters)\n",
    "    km_c = kmeans_climate_clusters[kmeans_climate_clusters[:, 1].astype(int) == i, 0]\n",
    "    kmeans_socio_clusters = np.asarray(kmeans_socio_clusters)\n",
    "    km_s = kmeans_socio_clusters[kmeans_socio_clusters[:, 1].astype(int) == i, 0]\n",
    "    km_climate_sets.append(km_c)\n",
    "    km_socio_sets.append(km_s)"
   ]
  },
  {
   "cell_type": "markdown",
   "id": "bd7f1cd4",
   "metadata": {},
   "source": [
    "Check which sets of countries are together in a cluster for both the climate and socio economic data."
   ]
  },
  {
   "cell_type": "code",
   "execution_count": 47,
   "id": "f53d8dba",
   "metadata": {},
   "outputs": [
    {
     "data": {
      "text/plain": [
       "[{'BEL',\n",
       "  'CHL',\n",
       "  'DEU',\n",
       "  'DNK',\n",
       "  'ESP',\n",
       "  'FIN',\n",
       "  'FRA',\n",
       "  'GBR',\n",
       "  'GRC',\n",
       "  'IRL',\n",
       "  'ISL',\n",
       "  'KOR',\n",
       "  'LTU',\n",
       "  'NOR',\n",
       "  'NZL',\n",
       "  'SVN',\n",
       "  'SWE'},\n",
       " {'CAN', 'USA'},\n",
       " {'ARE',\n",
       "  'AUS',\n",
       "  'BHR',\n",
       "  'CYP',\n",
       "  'HUN',\n",
       "  'ISR',\n",
       "  'KWT',\n",
       "  'LUX',\n",
       "  'MLT',\n",
       "  'NLD',\n",
       "  'OMN',\n",
       "  'QAT',\n",
       "  'SAU'},\n",
       " {'AGO',\n",
       "  'BFA',\n",
       "  'CAF',\n",
       "  'CIV',\n",
       "  'CMR',\n",
       "  'COD',\n",
       "  'COG',\n",
       "  'GAB',\n",
       "  'GIN',\n",
       "  'GNQ',\n",
       "  'HTI',\n",
       "  'MDG',\n",
       "  'SLE',\n",
       "  'TGO',\n",
       "  'TZA'},\n",
       " {'AFG',\n",
       "  'BEN',\n",
       "  'DJI',\n",
       "  'GHA',\n",
       "  'GMB',\n",
       "  'MLI',\n",
       "  'MOZ',\n",
       "  'MRT',\n",
       "  'PAK',\n",
       "  'SEN',\n",
       "  'TCD',\n",
       "  'YEM',\n",
       "  'ZMB'},\n",
       " {'BGD',\n",
       "  'BLZ',\n",
       "  'BRB',\n",
       "  'CRI',\n",
       "  'DOM',\n",
       "  'ECU',\n",
       "  'FJI',\n",
       "  'GRD',\n",
       "  'GTM',\n",
       "  'HND',\n",
       "  'JAM',\n",
       "  'LKA',\n",
       "  'MDV',\n",
       "  'MYS',\n",
       "  'NIC',\n",
       "  'PAN',\n",
       "  'PHL',\n",
       "  'SLV',\n",
       "  'STP',\n",
       "  'THA',\n",
       "  'TTO',\n",
       "  'VEN',\n",
       "  'VNM'},\n",
       " {'ALB', 'ARM', 'BGR', 'KGZ', 'LVA', 'MNG', 'TUR'},\n",
       " {'COL', 'IDN', 'PER'},\n",
       " {'ARG',\n",
       "  'AZE',\n",
       "  'BOL',\n",
       "  'BWA',\n",
       "  'CPV',\n",
       "  'DZA',\n",
       "  'EGY',\n",
       "  'IRN',\n",
       "  'IRQ',\n",
       "  'JOR',\n",
       "  'LBY',\n",
       "  'MAR',\n",
       "  'MDA',\n",
       "  'MEX',\n",
       "  'NAM',\n",
       "  'PRY',\n",
       "  'ROU',\n",
       "  'SYR',\n",
       "  'TUN',\n",
       "  'UKR',\n",
       "  'UZB',\n",
       "  'ZAF'},\n",
       " {'CHN', 'IND'},\n",
       " {'BDI', 'COM', 'ETH', 'KHM', 'LAO', 'MMR', 'MWI', 'PNG', 'RWA', 'UGA'},\n",
       " {'NPL', 'TJK'},\n",
       " {'KEN', 'NER', 'SWZ'}]"
      ]
     },
     "execution_count": 47,
     "metadata": {},
     "output_type": "execute_result"
    }
   ],
   "source": [
    "common = []\n",
    "for i in range(len(km_socio_sets)):\n",
    "    for j in range(len(km_climate_sets)):\n",
    "        temp = set.intersection(set(km_socio_sets[i]),set(km_climate_sets[j]))\n",
    "        if len(temp) > 1:\n",
    "            common.append(temp)\n",
    "\n",
    "common"
   ]
  },
  {
   "cell_type": "markdown",
   "id": "2943df2c",
   "metadata": {},
   "source": [
    "We can see some interesting resultswhen we set the number of clusters to 5. \n",
    "\n",
    "For example the following countries are together in the same clusters for both climate and soico economimc data:\n",
    "- Colombia, Indonesia and Peru.\n",
    "- Nepal and Tajikistan.\n",
    "- Albania, Armenia, Bulgaria, Kyrzygstan, Latvia, Mongolia, and Turkey.\n",
    "\n",
    "\n",
    "### Predictive modelling\n",
    "\n",
    "We explored clusters now we can do some predictive modelling to see what happens then."
   ]
  },
  {
   "cell_type": "code",
   "execution_count": 48,
   "id": "2b4ec69c",
   "metadata": {},
   "outputs": [],
   "source": [
    "from sklearn.model_selection import train_test_split\n",
    "from sklearn.linear_model import LinearRegression\n"
   ]
  },
  {
   "cell_type": "code",
   "execution_count": 71,
   "id": "53c1abde",
   "metadata": {},
   "outputs": [
    {
     "data": {
      "text/plain": [
       "{'memory': None,\n",
       " 'steps': [('Imputer', KNNImputer()),\n",
       "  ('Standardise', StandardScaler()),\n",
       "  ('Regression', LinearRegression())],\n",
       " 'verbose': False,\n",
       " 'Imputer': KNNImputer(),\n",
       " 'Standardise': StandardScaler(),\n",
       " 'Regression': LinearRegression(),\n",
       " 'Imputer__add_indicator': False,\n",
       " 'Imputer__copy': True,\n",
       " 'Imputer__metric': 'nan_euclidean',\n",
       " 'Imputer__missing_values': nan,\n",
       " 'Imputer__n_neighbors': 5,\n",
       " 'Imputer__weights': 'uniform',\n",
       " 'Standardise__copy': True,\n",
       " 'Standardise__with_mean': True,\n",
       " 'Standardise__with_std': True,\n",
       " 'Regression__copy_X': True,\n",
       " 'Regression__fit_intercept': True,\n",
       " 'Regression__n_jobs': None,\n",
       " 'Regression__normalize': False,\n",
       " 'Regression__positive': False}"
      ]
     },
     "execution_count": 71,
     "metadata": {},
     "output_type": "execute_result"
    }
   ],
   "source": [
    "impute = KNNImputer()\n",
    "normalise = StandardScaler()\n",
    "regression = LinearRegression()\n",
    "\n",
    "climate_reg_pipe = Pipeline([('Imputer', impute), ('Standardise', normalise), ('Regression', regression)])\n",
    "climate_reg_pipe.fit(allclimate.drop(allclimate.columns[[0, 7, 8, 9]], axis = 1), np.asarray(allclimate)[:, 7])\n",
    "climate_reg_pipe.get_params('Regression')"
   ]
  }
 ],
 "metadata": {
  "kernelspec": {
   "display_name": "Python 3",
   "language": "python",
   "name": "python3"
  },
  "language_info": {
   "codemirror_mode": {
    "name": "ipython",
    "version": 3
   },
   "file_extension": ".py",
   "mimetype": "text/x-python",
   "name": "python",
   "nbconvert_exporter": "python",
   "pygments_lexer": "ipython3",
   "version": "3.6.13"
  }
 },
 "nbformat": 4,
 "nbformat_minor": 5
}
