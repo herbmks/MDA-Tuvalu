{
 "cells": [
  {
   "cell_type": "markdown",
   "id": "34e43ede",
   "metadata": {},
   "source": [
    "# Modelling Pipeline"
   ]
  },
  {
   "cell_type": "markdown",
   "id": "33e5fc18",
   "metadata": {},
   "source": [
    "## 1. Import Modules"
   ]
  },
  {
   "cell_type": "code",
   "execution_count": 1,
   "id": "cc6eb4f0",
   "metadata": {
    "ExecuteTime": {
     "end_time": "2021-05-12T12:54:49.448316Z",
     "start_time": "2021-05-12T12:54:47.558137Z"
    }
   },
   "outputs": [],
   "source": [
    "import pandas as pd\n",
    "import numpy as np\n",
    "import matplotlib.pyplot as plt\n",
    "from sklearn.model_selection import train_test_split, GridSearchCV\n",
    "from sklearn.preprocessing import StandardScaler, RobustScaler, QuantileTransformer, FunctionTransformer, MinMaxScaler, Normalizer\n",
    "from sklearn.ensemble import RandomForestRegressor\n",
    "from sklearn.decomposition import PCA\n",
    "from sklearn.cluster import KMeans\n",
    "from sklearn.pipeline import Pipeline\n",
    "from sklearn.metrics import r2_score, accuracy_score\n",
    "from sklearn.impute import KNNImputer\n",
    "from sklearn.compose import ColumnTransformer\n",
    "from scipy.stats import shapiro\n",
    "from sklearn.linear_model import LinearRegression, Ridge, Lasso\n",
    "from sklearn.metrics import classification_report,  confusion_matrix\n",
    "from sklearn.multioutput import MultiOutputRegressor\n",
    "from sklearn.svm import SVR"
   ]
  },
  {
   "cell_type": "markdown",
   "id": "3f41ffaf",
   "metadata": {
    "ExecuteTime": {
     "end_time": "2021-05-12T12:28:44.583585Z",
     "start_time": "2021-05-12T12:28:44.568582Z"
    }
   },
   "source": [
    "pd.set_option('display.max_columns', None)\n",
    "pd.set_option('display.max_rows', None)\n",
    "pd.set_option('display.max_colwidth', None)"
   ]
  },
  {
   "cell_type": "markdown",
   "id": "e299c802",
   "metadata": {},
   "source": [
    "## 2. Prepare Data"
   ]
  },
  {
   "cell_type": "markdown",
   "id": "e1ade0ed",
   "metadata": {},
   "source": [
    "### 2.1 Load Data"
   ]
  },
  {
   "cell_type": "code",
   "execution_count": 2,
   "id": "de096d0c",
   "metadata": {
    "ExecuteTime": {
     "end_time": "2021-05-12T12:54:49.703663Z",
     "start_time": "2021-05-12T12:54:49.688659Z"
    }
   },
   "outputs": [
    {
     "data": {
      "text/html": [
       "<div>\n",
       "<style scoped>\n",
       "    .dataframe tbody tr th:only-of-type {\n",
       "        vertical-align: middle;\n",
       "    }\n",
       "\n",
       "    .dataframe tbody tr th {\n",
       "        vertical-align: top;\n",
       "    }\n",
       "\n",
       "    .dataframe thead th {\n",
       "        text-align: right;\n",
       "    }\n",
       "</style>\n",
       "<table border=\"1\" class=\"dataframe\">\n",
       "  <thead>\n",
       "    <tr style=\"text-align: right;\">\n",
       "      <th></th>\n",
       "      <th>Country</th>\n",
       "      <th>WS_MDG</th>\n",
       "      <th>WUE_SDG</th>\n",
       "      <th>WS_SDG</th>\n",
       "      <th>Temp</th>\n",
       "      <th>Rain</th>\n",
       "      <th>IRWR</th>\n",
       "      <th>ERWR</th>\n",
       "      <th>TRWR</th>\n",
       "      <th>Dep_ratio</th>\n",
       "      <th>rural_pop</th>\n",
       "      <th>urban_pop</th>\n",
       "      <th>HDI</th>\n",
       "      <th>r_u</th>\n",
       "      <th>r_u_access</th>\n",
       "      <th>pop_growth</th>\n",
       "      <th>mort_rate</th>\n",
       "      <th>GDP_pcp</th>\n",
       "      <th>life_ex</th>\n",
       "    </tr>\n",
       "  </thead>\n",
       "  <tbody>\n",
       "    <tr>\n",
       "      <th>0</th>\n",
       "      <td>AFG</td>\n",
       "      <td>31.045462</td>\n",
       "      <td>0.923778</td>\n",
       "      <td>54.757019</td>\n",
       "      <td>14.074742</td>\n",
       "      <td>349.736945</td>\n",
       "      <td>47.15</td>\n",
       "      <td>18.18</td>\n",
       "      <td>65.33</td>\n",
       "      <td>0.278280</td>\n",
       "      <td>26558.609</td>\n",
       "      <td>8971.472</td>\n",
       "      <td>0.493</td>\n",
       "      <td>2.960340</td>\n",
       "      <td>0.601023</td>\n",
       "      <td>3.06</td>\n",
       "      <td>53.2</td>\n",
       "      <td>2226.0</td>\n",
       "      <td>63.4</td>\n",
       "    </tr>\n",
       "    <tr>\n",
       "      <th>1</th>\n",
       "      <td>AGO</td>\n",
       "      <td>0.475539</td>\n",
       "      <td>142.467836</td>\n",
       "      <td>1.871883</td>\n",
       "      <td>22.182196</td>\n",
       "      <td>960.024065</td>\n",
       "      <td>148.00</td>\n",
       "      <td>0.40</td>\n",
       "      <td>148.40</td>\n",
       "      <td>0.002695</td>\n",
       "      <td>10472.554</td>\n",
       "      <td>19311.639</td>\n",
       "      <td>0.576</td>\n",
       "      <td>0.542292</td>\n",
       "      <td>0.374005</td>\n",
       "      <td>3.44</td>\n",
       "      <td>58.6</td>\n",
       "      <td>7859.4</td>\n",
       "      <td>59.2</td>\n",
       "    </tr>\n",
       "    <tr>\n",
       "      <th>2</th>\n",
       "      <td>ALB</td>\n",
       "      <td>3.933775</td>\n",
       "      <td>6.656907</td>\n",
       "      <td>7.139423</td>\n",
       "      <td>12.754647</td>\n",
       "      <td>1079.459167</td>\n",
       "      <td>26.90</td>\n",
       "      <td>3.30</td>\n",
       "      <td>30.20</td>\n",
       "      <td>0.109272</td>\n",
       "      <td>1190.155</td>\n",
       "      <td>1740.032</td>\n",
       "      <td>0.789</td>\n",
       "      <td>0.683985</td>\n",
       "      <td>1.003161</td>\n",
       "      <td>-0.20</td>\n",
       "      <td>8.6</td>\n",
       "      <td>12227.4</td>\n",
       "      <td>78.0</td>\n",
       "    </tr>\n",
       "    <tr>\n",
       "      <th>3</th>\n",
       "      <td>ARE</td>\n",
       "      <td>1708.000000</td>\n",
       "      <td>92.773763</td>\n",
       "      <td>1708.000000</td>\n",
       "      <td>28.010773</td>\n",
       "      <td>64.449765</td>\n",
       "      <td>0.15</td>\n",
       "      <td>0.00</td>\n",
       "      <td>0.15</td>\n",
       "      <td>0.000000</td>\n",
       "      <td>1292.709</td>\n",
       "      <td>8107.436</td>\n",
       "      <td>0.864</td>\n",
       "      <td>0.159447</td>\n",
       "      <td>1.004016</td>\n",
       "      <td>0.74</td>\n",
       "      <td>7.0</td>\n",
       "      <td>64243.0</td>\n",
       "      <td>77.2</td>\n",
       "    </tr>\n",
       "    <tr>\n",
       "      <th>4</th>\n",
       "      <td>ARG</td>\n",
       "      <td>4.301333</td>\n",
       "      <td>13.616564</td>\n",
       "      <td>10.456664</td>\n",
       "      <td>14.767043</td>\n",
       "      <td>598.510300</td>\n",
       "      <td>292.00</td>\n",
       "      <td>584.24</td>\n",
       "      <td>876.24</td>\n",
       "      <td>0.666758</td>\n",
       "      <td>3652.804</td>\n",
       "      <td>40618.237</td>\n",
       "      <td>0.832</td>\n",
       "      <td>0.089930</td>\n",
       "      <td>1.010101</td>\n",
       "      <td>1.08</td>\n",
       "      <td>10.2</td>\n",
       "      <td>23732.2</td>\n",
       "      <td>76.0</td>\n",
       "    </tr>\n",
       "  </tbody>\n",
       "</table>\n",
       "</div>"
      ],
      "text/plain": [
       "  Country       WS_MDG     WUE_SDG       WS_SDG       Temp         Rain  \\\n",
       "0     AFG    31.045462    0.923778    54.757019  14.074742   349.736945   \n",
       "1     AGO     0.475539  142.467836     1.871883  22.182196   960.024065   \n",
       "2     ALB     3.933775    6.656907     7.139423  12.754647  1079.459167   \n",
       "3     ARE  1708.000000   92.773763  1708.000000  28.010773    64.449765   \n",
       "4     ARG     4.301333   13.616564    10.456664  14.767043   598.510300   \n",
       "\n",
       "     IRWR    ERWR    TRWR  Dep_ratio  rural_pop  urban_pop    HDI       r_u  \\\n",
       "0   47.15   18.18   65.33   0.278280  26558.609   8971.472  0.493  2.960340   \n",
       "1  148.00    0.40  148.40   0.002695  10472.554  19311.639  0.576  0.542292   \n",
       "2   26.90    3.30   30.20   0.109272   1190.155   1740.032  0.789  0.683985   \n",
       "3    0.15    0.00    0.15   0.000000   1292.709   8107.436  0.864  0.159447   \n",
       "4  292.00  584.24  876.24   0.666758   3652.804  40618.237  0.832  0.089930   \n",
       "\n",
       "   r_u_access  pop_growth  mort_rate  GDP_pcp  life_ex  \n",
       "0    0.601023        3.06       53.2   2226.0     63.4  \n",
       "1    0.374005        3.44       58.6   7859.4     59.2  \n",
       "2    1.003161       -0.20        8.6  12227.4     78.0  \n",
       "3    1.004016        0.74        7.0  64243.0     77.2  \n",
       "4    1.010101        1.08       10.2  23732.2     76.0  "
      ]
     },
     "execution_count": 2,
     "metadata": {},
     "output_type": "execute_result"
    }
   ],
   "source": [
    "df = pd.read_csv('clean data/final_data.csv', index_col=0)\n",
    "df.head()"
   ]
  },
  {
   "cell_type": "markdown",
   "id": "e911efdd",
   "metadata": {},
   "source": [
    "### 2.1 Add additional climate variables"
   ]
  },
  {
   "cell_type": "code",
   "execution_count": 3,
   "id": "d394aac2",
   "metadata": {
    "ExecuteTime": {
     "end_time": "2021-05-12T12:54:50.936347Z",
     "start_time": "2021-05-12T12:54:50.922344Z"
    }
   },
   "outputs": [],
   "source": [
    "df['IRWR_capita'] = df['IRWR'] / ((df['urban_pop'] + df['rural_pop']) * 1000)\n",
    "df['ERWR_capita'] = df['ERWR'] / ((df['urban_pop'] + df['rural_pop']) * 1000)\n",
    "df['TRWR_capita'] = df['TRWR'] / ((df['urban_pop'] + df['rural_pop']) * 1000)"
   ]
  },
  {
   "cell_type": "markdown",
   "id": "6bfe91e6",
   "metadata": {},
   "source": [
    "### 2.2 Split dataframe into chosen predictor and target variables"
   ]
  },
  {
   "cell_type": "code",
   "execution_count": 89,
   "id": "43aac61f",
   "metadata": {
    "ExecuteTime": {
     "end_time": "2021-05-12T12:55:17.609988Z",
     "start_time": "2021-05-12T12:55:17.594362Z"
    }
   },
   "outputs": [],
   "source": [
    "df_pred_climate = df.iloc[:, np.r_[4:10, 19:22]]\n",
    "df_pred_socioec = df.iloc[:, 10:18]\n",
    "df_pred = df.iloc[:, 4:22]\n",
    "df_target = df.iloc[:, 1:4]"
   ]
  },
  {
   "cell_type": "markdown",
   "id": "872146c9",
   "metadata": {},
   "source": [
    "## 3. Pipeline: Predictor Variables"
   ]
  },
  {
   "cell_type": "markdown",
   "id": "79bd06eb",
   "metadata": {},
   "source": [
    "### 3.1 Scalers"
   ]
  },
  {
   "cell_type": "code",
   "execution_count": 5,
   "id": "a37e8407",
   "metadata": {},
   "outputs": [],
   "source": [
    "def log_transform(x):\n",
    "    return np.log(x + 1)"
   ]
  },
  {
   "cell_type": "code",
   "execution_count": 6,
   "id": "514c83ea",
   "metadata": {},
   "outputs": [],
   "source": [
    "logscaler = FunctionTransformer(log_transform)"
   ]
  },
  {
   "cell_type": "markdown",
   "id": "e405e802",
   "metadata": {},
   "source": [
    "### 3.2 Dimensionality reduction"
   ]
  },
  {
   "cell_type": "code",
   "execution_count": 7,
   "id": "347de34d",
   "metadata": {},
   "outputs": [],
   "source": [
    "pca_target = PCA(n_components=2)"
   ]
  },
  {
   "cell_type": "markdown",
   "id": "dd4529fa",
   "metadata": {},
   "source": [
    "### 3.3 Setup pipeline"
   ]
  },
  {
   "cell_type": "code",
   "execution_count": 8,
   "id": "2e80fda3",
   "metadata": {},
   "outputs": [],
   "source": [
    "pipe_target = Pipeline([\n",
    "    ('scaler', logscaler),\n",
    "    ('reduce_dim', pca_target)\n",
    "])"
   ]
  },
  {
   "cell_type": "markdown",
   "id": "c6c906cb",
   "metadata": {},
   "source": [
    "### 3.4 Fit pipeline"
   ]
  },
  {
   "cell_type": "code",
   "execution_count": 9,
   "id": "b08f410a",
   "metadata": {},
   "outputs": [],
   "source": [
    "df_target_ = pipe_target.fit_transform(df_target)"
   ]
  },
  {
   "cell_type": "code",
   "execution_count": 10,
   "id": "83d39dea",
   "metadata": {
    "scrolled": true
   },
   "outputs": [
    {
     "name": "stdout",
     "output_type": "stream",
     "text": [
      "Principale components: \n",
      " [[ 0.7208814  -0.06902087  0.68961303]\n",
      " [ 0.06914256  0.99722682  0.0275312 ]]\n"
     ]
    }
   ],
   "source": [
    "print('Principale components: \\n', pipe_target.steps[1][1].components_)"
   ]
  },
  {
   "cell_type": "markdown",
   "id": "d49851f2",
   "metadata": {},
   "source": [
    "Principal component 1 = Water stress\\\n",
    "Principal component 2 = Water use efficiency"
   ]
  },
  {
   "cell_type": "code",
   "execution_count": 11,
   "id": "0b7bc9d9",
   "metadata": {
    "scrolled": true
   },
   "outputs": [
    {
     "name": "stdout",
     "output_type": "stream",
     "text": [
      "Explained variance: \n",
      " [0.75740679 0.2363991 ]\n"
     ]
    }
   ],
   "source": [
    "print('Explained variance: \\n',\n",
    "      pipe_target.steps[1][1].explained_variance_ratio_)"
   ]
  },
  {
   "cell_type": "markdown",
   "id": "d5bffc2a",
   "metadata": {},
   "source": [
    "## 4. Pipeline: Climate Variables"
   ]
  },
  {
   "cell_type": "markdown",
   "id": "ba92f718",
   "metadata": {},
   "source": [
    "### 4.1 Scalers"
   ]
  },
  {
   "cell_type": "markdown",
   "id": "8732538f",
   "metadata": {},
   "source": [
    "All scalers combinations to test:"
   ]
  },
  {
   "cell_type": "code",
   "execution_count": 15,
   "id": "8d9dca4f",
   "metadata": {},
   "outputs": [],
   "source": [
    "scalers_to_test = [\n",
    "    ColumnTransformer(remainder='passthrough',\n",
    "                      transformers=[\n",
    "                          (\"logscaler\", logscaler, [\n",
    "                           'Rain', 'IRWR', 'ERWR', 'TRWR', 'IRWR_capita', 'ERWR_capita', 'TRWR_capita'])\n",
    "                      ]),\n",
    "    ColumnTransformer(remainder='passthrough',\n",
    "                      transformers=[\n",
    "                          (\"logscaler\", logscaler, [\n",
    "                           'Rain', 'IRWR', 'ERWR', 'TRWR', 'IRWR_capita', 'ERWR_capita', 'TRWR_capita']),\n",
    "                          (\"standardscaler\", StandardScaler(),\n",
    "                           df_pred_climate.columns.values)\n",
    "                      ]),\n",
    "    ColumnTransformer(remainder='passthrough',\n",
    "                      transformers=[\n",
    "                          (\"logscaler\", logscaler, [\n",
    "                           'Rain', 'IRWR', 'ERWR', 'TRWR', 'IRWR_capita', 'ERWR_capita', 'TRWR_capita']),\n",
    "                          (\"robustscaler\", RobustScaler(),\n",
    "                           df_pred_climate.columns.values)\n",
    "                      ]),\n",
    "    ColumnTransformer(remainder='passthrough',\n",
    "                      transformers=[\n",
    "                          (\"logscaler\", logscaler, [\n",
    "                           'Rain', 'IRWR', 'ERWR', 'TRWR', 'IRWR_capita', 'ERWR_capita', 'TRWR_capita']),\n",
    "                          (\"minmaxscaler\", MinMaxScaler(),\n",
    "                           df_pred_climate.columns.values)\n",
    "                      ])\n",
    "]"
   ]
  },
  {
   "cell_type": "markdown",
   "id": "4a0b75b3",
   "metadata": {},
   "source": [
    "### 4.2 Dimensionality reduction"
   ]
  },
  {
   "cell_type": "markdown",
   "id": "2f8e96c8",
   "metadata": {},
   "source": [
    "All number of components to test for the PCA analysis: "
   ]
  },
  {
   "cell_type": "code",
   "execution_count": 16,
   "id": "865a65ca",
   "metadata": {},
   "outputs": [],
   "source": [
    "pca_climate = PCA()"
   ]
  },
  {
   "cell_type": "code",
   "execution_count": 17,
   "id": "214f3309",
   "metadata": {},
   "outputs": [],
   "source": [
    "n_components_to_test = np.arange(3, 8)"
   ]
  },
  {
   "cell_type": "markdown",
   "id": "4da35979",
   "metadata": {},
   "source": [
    "### 4.3 Regression model"
   ]
  },
  {
   "cell_type": "markdown",
   "id": "b23a5de0",
   "metadata": {},
   "source": [
    "All models + model parameters to test: "
   ]
  },
  {
   "cell_type": "code",
   "execution_count": 25,
   "id": "564f2a6f",
   "metadata": {},
   "outputs": [],
   "source": [
    "model_1 = RandomForestRegressor(random_state=0)\n",
    "max_depth_to_test = np.arange(2, 8)\n",
    "\n",
    "model_2 = LinearRegression()\n",
    "\n",
    "model_3 = Ridge()\n",
    "alpha_to_test = np.arange(1, 8)"
   ]
  },
  {
   "cell_type": "markdown",
   "id": "b303f46c",
   "metadata": {},
   "source": [
    "### 4.4 List of parameters to test"
   ]
  },
  {
   "cell_type": "markdown",
   "id": "3e4f6780",
   "metadata": {},
   "source": [
    "Make list of parameter dictionaries (one for each model):"
   ]
  },
  {
   "cell_type": "code",
   "execution_count": 30,
   "id": "dfb97dfa",
   "metadata": {},
   "outputs": [],
   "source": [
    "params = [\n",
    "    {'scaler': scalers_to_test,\n",
    "     'reduce_dim__n_components': n_components_to_test,\n",
    "     'regressor': [model_1],\n",
    "     'regressor__max_depth': max_depth_to_test},\n",
    "\n",
    "    {'scaler': scalers_to_test,\n",
    "     'reduce_dim__n_components': n_components_to_test,\n",
    "     'regressor': [model_2]},\n",
    "\n",
    "    {'scaler': scalers_to_test,\n",
    "     'reduce_dim__n_components': n_components_to_test,\n",
    "     'regressor': [model_3],\n",
    "     'regressor__alpha': alpha_to_test}\n",
    "]"
   ]
  },
  {
   "cell_type": "markdown",
   "id": "8593098f",
   "metadata": {},
   "source": [
    "### 4.5 Train, test, split + setup pipeline"
   ]
  },
  {
   "cell_type": "code",
   "execution_count": 31,
   "id": "2468b940",
   "metadata": {},
   "outputs": [],
   "source": [
    "X_train, X_test, y_train, y_test = train_test_split(\n",
    "    df_pred_climate, df_target_, random_state=0)"
   ]
  },
  {
   "cell_type": "code",
   "execution_count": 32,
   "id": "4a6ac1f5",
   "metadata": {},
   "outputs": [],
   "source": [
    "pipe_climate = Pipeline([\n",
    "    ('scaler', scalers_to_test[0]),\n",
    "    ('reduce_dim', pca_climate),\n",
    "    ('regressor', model_1)\n",
    "])"
   ]
  },
  {
   "cell_type": "markdown",
   "id": "c3654f75",
   "metadata": {},
   "source": [
    "### 4.6 Gridsearch pipeline"
   ]
  },
  {
   "cell_type": "markdown",
   "id": "e0df2682",
   "metadata": {},
   "source": [
    "#### 4.6.1 Target principal component 1: water stress"
   ]
  },
  {
   "cell_type": "code",
   "execution_count": 33,
   "id": "0e2a77ad",
   "metadata": {},
   "outputs": [
    {
     "name": "stdout",
     "output_type": "stream",
     "text": [
      "Fitting 5 folds for each of 280 candidates, totalling 1400 fits\n"
     ]
    }
   ],
   "source": [
    "gridsearch_1 = GridSearchCV(\n",
    "    pipe_climate, params, verbose=1).fit(X_train, y_train[:, 0])"
   ]
  },
  {
   "cell_type": "code",
   "execution_count": 34,
   "id": "49292ff5",
   "metadata": {},
   "outputs": [
    {
     "data": {
      "text/plain": [
       "{'reduce_dim__n_components': 7,\n",
       " 'regressor': RandomForestRegressor(max_depth=7, random_state=0),\n",
       " 'regressor__max_depth': 7,\n",
       " 'scaler': ColumnTransformer(remainder='passthrough',\n",
       "                   transformers=[('logscaler',\n",
       "                                  FunctionTransformer(func=<function log_transform at 0x000001AE4331AAF0>),\n",
       "                                  ['Rain', 'IRWR', 'ERWR', 'TRWR', 'IRWR_capita',\n",
       "                                   'ERWR_capita', 'TRWR_capita']),\n",
       "                                 ('robustscaler', RobustScaler(),\n",
       "                                  array(['Temp', 'Rain', 'IRWR', 'ERWR', 'TRWR', 'Dep_ratio', 'IRWR_capita',\n",
       "        'ERWR_capita', 'TRWR_capita'], dtype=object))])}"
      ]
     },
     "execution_count": 34,
     "metadata": {},
     "output_type": "execute_result"
    }
   ],
   "source": [
    "gridsearch_1.best_params_"
   ]
  },
  {
   "cell_type": "markdown",
   "id": "ea8e9cbe",
   "metadata": {},
   "source": [
    "#### 4.6.2 Target principal component 2: water use efficiency"
   ]
  },
  {
   "cell_type": "code",
   "execution_count": 35,
   "id": "024a6d76",
   "metadata": {},
   "outputs": [
    {
     "name": "stdout",
     "output_type": "stream",
     "text": [
      "Fitting 5 folds for each of 280 candidates, totalling 1400 fits\n"
     ]
    }
   ],
   "source": [
    "gridsearch_2 = GridSearchCV(\n",
    "    pipe_climate, params, verbose=1).fit(X_train, y_train[:, 1])"
   ]
  },
  {
   "cell_type": "code",
   "execution_count": 36,
   "id": "6fc3d5d3",
   "metadata": {},
   "outputs": [
    {
     "data": {
      "text/plain": [
       "{'reduce_dim__n_components': 7,\n",
       " 'regressor': RandomForestRegressor(max_depth=5, random_state=0),\n",
       " 'regressor__max_depth': 5,\n",
       " 'scaler': ColumnTransformer(remainder='passthrough',\n",
       "                   transformers=[('logscaler',\n",
       "                                  FunctionTransformer(func=<function log_transform at 0x000001AE4331AAF0>),\n",
       "                                  ['Rain', 'IRWR', 'ERWR', 'TRWR', 'IRWR_capita',\n",
       "                                   'ERWR_capita', 'TRWR_capita']),\n",
       "                                 ('robustscaler', RobustScaler(),\n",
       "                                  array(['Temp', 'Rain', 'IRWR', 'ERWR', 'TRWR', 'Dep_ratio', 'IRWR_capita',\n",
       "        'ERWR_capita', 'TRWR_capita'], dtype=object))])}"
      ]
     },
     "execution_count": 36,
     "metadata": {},
     "output_type": "execute_result"
    }
   ],
   "source": [
    "gridsearch_2.best_params_"
   ]
  },
  {
   "cell_type": "markdown",
   "id": "6936be6f",
   "metadata": {},
   "source": [
    "### 4.7 Best fit model"
   ]
  },
  {
   "cell_type": "markdown",
   "id": "a550a85d",
   "metadata": {},
   "source": [
    "#### 4.7.1 Target principal component 1: water stress"
   ]
  },
  {
   "cell_type": "code",
   "execution_count": 47,
   "id": "8062f90b",
   "metadata": {},
   "outputs": [],
   "source": [
    "pipe_climate_1 = Pipeline([\n",
    "    ('scaler', scalers_to_test[2]),\n",
    "    ('reduce_dim', PCA(n_components=7)),\n",
    "    ('regressor', RandomForestRegressor(max_depth=7, random_state=0))\n",
    "])"
   ]
  },
  {
   "cell_type": "code",
   "execution_count": 48,
   "id": "3e22a153",
   "metadata": {},
   "outputs": [
    {
     "name": "stdout",
     "output_type": "stream",
     "text": [
      "Model score:  0.5207132828451724\n",
      "R² 0.8194772324657671\n"
     ]
    }
   ],
   "source": [
    "pipe_climate_1.fit(X_train, y_train[:, 0])\n",
    "print('Model score: ', pipe_climate_1.score(X_test, y_test[:, 0]))\n",
    "y_pred = pipe_climate_1.predict(df_pred_climate)\n",
    "print('R²', r2_score(df_target_[:, 0], y_pred))"
   ]
  },
  {
   "cell_type": "markdown",
   "id": "5cd6a1c6",
   "metadata": {},
   "source": [
    "#### 4.7.2 Target principal component 2: water use efficiency"
   ]
  },
  {
   "cell_type": "code",
   "execution_count": 57,
   "id": "c48737b9",
   "metadata": {},
   "outputs": [],
   "source": [
    "pipe_climate_2 = Pipeline([\n",
    "    ('scaler', scalers_to_test[2]),\n",
    "    ('reduce_dim', PCA(n_components=7)),\n",
    "    ('regressor', RandomForestRegressor(max_depth=5, random_state=0))\n",
    "])"
   ]
  },
  {
   "cell_type": "code",
   "execution_count": 58,
   "id": "68514ed8",
   "metadata": {
    "scrolled": true
   },
   "outputs": [
    {
     "name": "stdout",
     "output_type": "stream",
     "text": [
      "Model score:  0.1531348686223618\n",
      "R² 0.5404516824943363\n"
     ]
    }
   ],
   "source": [
    "pipe_climate_2.fit(X_train, y_train[:, 1])\n",
    "print('Model score: ', pipe_climate_2.score(X_test, y_test[:, 1]))\n",
    "y_pred = pipe_climate_2.predict(df_pred_climate)\n",
    "print('R²', r2_score(df_target_[:, 1], y_pred))"
   ]
  },
  {
   "cell_type": "markdown",
   "id": "98d7878b",
   "metadata": {},
   "source": [
    "## 5. Pipeline: Socio-Economic Variables"
   ]
  },
  {
   "cell_type": "markdown",
   "id": "31723e2a",
   "metadata": {},
   "source": [
    "### 5.1 Scalers"
   ]
  },
  {
   "cell_type": "markdown",
   "id": "b7bca191",
   "metadata": {},
   "source": [
    "All scalers combinations to test:"
   ]
  },
  {
   "cell_type": "code",
   "execution_count": 71,
   "id": "af2eff4f",
   "metadata": {},
   "outputs": [],
   "source": [
    "scalers_to_test = [\n",
    "    ColumnTransformer(remainder='passthrough',\n",
    "                      transformers=[\n",
    "                          (\"logscaler\", logscaler, [\n",
    "                           'rural_pop', 'urban_pop', 'GDP_pcp'])\n",
    "                      ]),\n",
    "    ColumnTransformer(remainder='passthrough',\n",
    "                      transformers=[\n",
    "                          (\"logscaler\", logscaler, [\n",
    "                           'rural_pop', 'urban_pop', 'GDP_pcp']),\n",
    "                          (\"standardscaler\", StandardScaler(),\n",
    "                           df_pred_socioec.columns.values)\n",
    "                      ]),\n",
    "    ColumnTransformer(remainder='passthrough',\n",
    "                      transformers=[\n",
    "                          (\"logscaler\", logscaler, [\n",
    "                           'rural_pop', 'urban_pop', 'GDP_pcp']),\n",
    "                          (\"robustscaler\", RobustScaler(),\n",
    "                           df_pred_socioec.columns.values)\n",
    "                      ]),\n",
    "    ColumnTransformer(remainder='passthrough',\n",
    "                      transformers=[\n",
    "                          (\"logscaler\", logscaler, [\n",
    "                           'rural_pop', 'urban_pop', 'GDP_pcp']),\n",
    "                          (\"minmaxscaler\", MinMaxScaler(),\n",
    "                           df_pred_socioec.columns.values)\n",
    "                      ])\n",
    "]"
   ]
  },
  {
   "cell_type": "markdown",
   "id": "e6a19615",
   "metadata": {},
   "source": [
    "### 5.2 Dimensionality reduction"
   ]
  },
  {
   "cell_type": "markdown",
   "id": "a38c50b9",
   "metadata": {},
   "source": [
    "All number of components to test for the PCA analysis: "
   ]
  },
  {
   "cell_type": "code",
   "execution_count": 72,
   "id": "bf7ad8b4",
   "metadata": {},
   "outputs": [],
   "source": [
    "pca_socioec = PCA()"
   ]
  },
  {
   "cell_type": "code",
   "execution_count": 73,
   "id": "214f3309",
   "metadata": {},
   "outputs": [],
   "source": [
    "n_components_to_test = np.arange(3, 8)"
   ]
  },
  {
   "cell_type": "markdown",
   "id": "4da35979",
   "metadata": {},
   "source": [
    "### 5.3 Regression model"
   ]
  },
  {
   "cell_type": "markdown",
   "id": "b23a5de0",
   "metadata": {},
   "source": [
    "All models + model parameters to test: "
   ]
  },
  {
   "cell_type": "code",
   "execution_count": 74,
   "id": "564f2a6f",
   "metadata": {},
   "outputs": [],
   "source": [
    "model_1 = RandomForestRegressor(random_state=0)\n",
    "max_depth_to_test = np.arange(2, 8)\n",
    "\n",
    "model_2 = LinearRegression()\n",
    "\n",
    "model_3 = Ridge()\n",
    "alpha_to_test = np.arange(1, 8)"
   ]
  },
  {
   "cell_type": "markdown",
   "id": "b303f46c",
   "metadata": {},
   "source": [
    "### 5.4 List of parameters to test"
   ]
  },
  {
   "cell_type": "markdown",
   "id": "3e4f6780",
   "metadata": {},
   "source": [
    "Make list of parameter dictionaries (one for each model):"
   ]
  },
  {
   "cell_type": "code",
   "execution_count": 75,
   "id": "dfb97dfa",
   "metadata": {},
   "outputs": [],
   "source": [
    "params = [\n",
    "    {'scaler': scalers_to_test,\n",
    "     'reduce_dim__n_components': n_components_to_test,\n",
    "     'regressor': [model_1],\n",
    "     'regressor__max_depth': max_depth_to_test},\n",
    "\n",
    "    {'scaler': scalers_to_test,\n",
    "     'reduce_dim__n_components': n_components_to_test,\n",
    "     'regressor': [model_2]},\n",
    "\n",
    "    {'scaler': scalers_to_test,\n",
    "     'reduce_dim__n_components': n_components_to_test,\n",
    "     'regressor': [model_3],\n",
    "     'regressor__alpha': alpha_to_test}\n",
    "]"
   ]
  },
  {
   "cell_type": "markdown",
   "id": "8593098f",
   "metadata": {},
   "source": [
    "### 5.5 Train, test, split + setup pipeline"
   ]
  },
  {
   "cell_type": "code",
   "execution_count": 76,
   "id": "2468b940",
   "metadata": {},
   "outputs": [],
   "source": [
    "X_train, X_test, y_train, y_test = train_test_split(\n",
    "    df_pred_socioec, df_target_, random_state=0)"
   ]
  },
  {
   "cell_type": "code",
   "execution_count": 77,
   "id": "4a6ac1f5",
   "metadata": {},
   "outputs": [],
   "source": [
    "pipe_socioec = Pipeline([\n",
    "    ('scaler', scalers_to_test[0]),\n",
    "    ('reduce_dim', pca_socioec),\n",
    "    ('regressor', model_1)\n",
    "])"
   ]
  },
  {
   "cell_type": "markdown",
   "id": "c3654f75",
   "metadata": {},
   "source": [
    "### 5.6 Gridsearch pipeline"
   ]
  },
  {
   "cell_type": "markdown",
   "id": "e0df2682",
   "metadata": {},
   "source": [
    "#### 5.6.1 Target principal component 1: water stress"
   ]
  },
  {
   "cell_type": "code",
   "execution_count": 78,
   "id": "0e2a77ad",
   "metadata": {},
   "outputs": [
    {
     "name": "stdout",
     "output_type": "stream",
     "text": [
      "Fitting 5 folds for each of 280 candidates, totalling 1400 fits\n"
     ]
    }
   ],
   "source": [
    "gridsearch_1 = GridSearchCV(\n",
    "    pipe_socioec, params, verbose=1).fit(X_train, y_train[:, 0])"
   ]
  },
  {
   "cell_type": "code",
   "execution_count": 79,
   "id": "49292ff5",
   "metadata": {},
   "outputs": [
    {
     "data": {
      "text/plain": [
       "{'reduce_dim__n_components': 6,\n",
       " 'regressor': RandomForestRegressor(max_depth=6, random_state=0),\n",
       " 'regressor__max_depth': 6,\n",
       " 'scaler': ColumnTransformer(remainder='passthrough',\n",
       "                   transformers=[('logscaler',\n",
       "                                  FunctionTransformer(func=<function log_transform at 0x000001AE4331AAF0>),\n",
       "                                  ['rural_pop', 'urban_pop', 'GDP_pcp']),\n",
       "                                 ('minmaxscaler', MinMaxScaler(),\n",
       "                                  array(['rural_pop', 'urban_pop', 'HDI', 'r_u', 'r_u_access', 'pop_growth',\n",
       "        'mort_rate', 'GDP_pcp'], dtype=object))])}"
      ]
     },
     "execution_count": 79,
     "metadata": {},
     "output_type": "execute_result"
    }
   ],
   "source": [
    "gridsearch_1.best_params_"
   ]
  },
  {
   "cell_type": "markdown",
   "id": "ea8e9cbe",
   "metadata": {},
   "source": [
    "#### 5.6.2 Target principal component 2: water use efficiency"
   ]
  },
  {
   "cell_type": "code",
   "execution_count": 80,
   "id": "024a6d76",
   "metadata": {},
   "outputs": [
    {
     "name": "stdout",
     "output_type": "stream",
     "text": [
      "Fitting 5 folds for each of 280 candidates, totalling 1400 fits\n"
     ]
    }
   ],
   "source": [
    "gridsearch_2 = GridSearchCV(\n",
    "    pipe_climate, params, verbose=1).fit(X_train, y_train[:, 1])"
   ]
  },
  {
   "cell_type": "code",
   "execution_count": 83,
   "id": "6fc3d5d3",
   "metadata": {},
   "outputs": [
    {
     "data": {
      "text/plain": [
       "{'reduce_dim__n_components': 6,\n",
       " 'regressor': RandomForestRegressor(max_depth=7, random_state=0),\n",
       " 'regressor__max_depth': 7,\n",
       " 'scaler': ColumnTransformer(remainder='passthrough',\n",
       "                   transformers=[('logscaler',\n",
       "                                  FunctionTransformer(func=<function log_transform at 0x000001AE4331AAF0>),\n",
       "                                  ['rural_pop', 'urban_pop', 'GDP_pcp']),\n",
       "                                 ('standardscaler', StandardScaler(),\n",
       "                                  array(['rural_pop', 'urban_pop', 'HDI', 'r_u', 'r_u_access', 'pop_growth',\n",
       "        'mort_rate', 'GDP_pcp'], dtype=object))])}"
      ]
     },
     "execution_count": 83,
     "metadata": {},
     "output_type": "execute_result"
    }
   ],
   "source": [
    "gridsearch_2.best_params_"
   ]
  },
  {
   "cell_type": "markdown",
   "id": "6936be6f",
   "metadata": {},
   "source": [
    "### 5.7 Best fit model"
   ]
  },
  {
   "cell_type": "markdown",
   "id": "a550a85d",
   "metadata": {},
   "source": [
    "#### 5.7.1 Target principal component 1: water stress"
   ]
  },
  {
   "cell_type": "code",
   "execution_count": 84,
   "id": "8062f90b",
   "metadata": {},
   "outputs": [],
   "source": [
    "pipe_socioec_1 = Pipeline([\n",
    "    ('scaler', scalers_to_test[3]),\n",
    "    ('reduce_dim', PCA(n_components=6)),\n",
    "    ('regressor', RandomForestRegressor(max_depth=6, random_state=0))\n",
    "])"
   ]
  },
  {
   "cell_type": "code",
   "execution_count": 86,
   "id": "3e22a153",
   "metadata": {},
   "outputs": [
    {
     "name": "stdout",
     "output_type": "stream",
     "text": [
      "Model score:  0.3601873578596295\n",
      "R² 0.689661127240961\n"
     ]
    }
   ],
   "source": [
    "pipe_socioec_1.fit(X_train, y_train[:, 0])\n",
    "print('Model score: ', pipe_socioec_1.score(X_test, y_test[:, 0]))\n",
    "y_pred = pipe_socioec_1.predict(df_pred_socioec)\n",
    "print('R²', r2_score(df_target_[:, 0], y_pred))"
   ]
  },
  {
   "cell_type": "markdown",
   "id": "5cd6a1c6",
   "metadata": {},
   "source": [
    "#### 5.7.2 Target principal component 2: water use efficiency"
   ]
  },
  {
   "cell_type": "code",
   "execution_count": 87,
   "id": "c48737b9",
   "metadata": {},
   "outputs": [],
   "source": [
    "pipe_socioec_2 = Pipeline([\n",
    "    ('scaler', scalers_to_test[1]),\n",
    "    ('reduce_dim', PCA(n_components=6)),\n",
    "    ('regressor', RandomForestRegressor(max_depth=7, random_state=0))\n",
    "])"
   ]
  },
  {
   "cell_type": "code",
   "execution_count": 88,
   "id": "68514ed8",
   "metadata": {
    "scrolled": false
   },
   "outputs": [
    {
     "name": "stdout",
     "output_type": "stream",
     "text": [
      "Model score:  0.6547175502991724\n",
      "R² 0.8207094111758227\n"
     ]
    }
   ],
   "source": [
    "pipe_socioec_2.fit(X_train, y_train[:, 1])\n",
    "print('Model score: ', pipe_socioec_2.score(X_test, y_test[:, 1]))\n",
    "y_pred = pipe_socioec_2.predict(df_pred_socioec)\n",
    "print('R²', r2_score(df_target_[:, 1], y_pred))"
   ]
  },
  {
   "cell_type": "markdown",
   "id": "98d7878b",
   "metadata": {},
   "source": [
    "## 6. Pipeline: Climate + Socio-Economic Variables"
   ]
  },
  {
   "cell_type": "markdown",
   "id": "31723e2a",
   "metadata": {},
   "source": [
    "### 6.1 Scalers"
   ]
  },
  {
   "cell_type": "markdown",
   "id": "b7bca191",
   "metadata": {},
   "source": [
    "All scalers combinations to test:"
   ]
  },
  {
   "cell_type": "code",
   "execution_count": 90,
   "id": "8d9dca4f",
   "metadata": {},
   "outputs": [],
   "source": [
    "scalers_to_test = [\n",
    "    ColumnTransformer(remainder='passthrough',\n",
    "                      transformers=[\n",
    "                          (\"logscaler\", logscaler, [\n",
    "                           'Rain', 'IRWR', 'ERWR', 'TRWR', 'IRWR_capita', 'ERWR_capita', 'TRWR_capita','rural_pop', 'urban_pop', 'GDP_pcp'])\n",
    "                      ]),\n",
    "    ColumnTransformer(remainder='passthrough',\n",
    "                      transformers=[\n",
    "                          (\"logscaler\", logscaler, [\n",
    "                           'Rain', 'IRWR', 'ERWR', 'TRWR', 'IRWR_capita', 'ERWR_capita', 'TRWR_capita','rural_pop', 'urban_pop', 'GDP_pcp']),\n",
    "                          (\"standardscaler\", StandardScaler(),\n",
    "                           df_pred.columns.values)\n",
    "                      ]),\n",
    "    ColumnTransformer(remainder='passthrough',\n",
    "                      transformers=[\n",
    "                          (\"logscaler\", logscaler, [\n",
    "                           'Rain', 'IRWR', 'ERWR', 'TRWR', 'IRWR_capita', 'ERWR_capita', 'TRWR_capita','rural_pop', 'urban_pop', 'GDP_pcp']),\n",
    "                          (\"robustscaler\", RobustScaler(),\n",
    "                           df_pred.columns.values)\n",
    "                      ]),\n",
    "    ColumnTransformer(remainder='passthrough',\n",
    "                      transformers=[\n",
    "                          (\"logscaler\", logscaler, [\n",
    "                           'Rain', 'IRWR', 'ERWR', 'TRWR', 'IRWR_capita', 'ERWR_capita', 'TRWR_capita','rural_pop', 'urban_pop', 'GDP_pcp']),\n",
    "                          (\"minmaxscaler\", MinMaxScaler(),\n",
    "                           df_pred.columns.values)\n",
    "                      ])\n",
    "]"
   ]
  },
  {
   "cell_type": "markdown",
   "id": "4a0b75b3",
   "metadata": {},
   "source": [
    "### 6.2 Dimensionality reduction"
   ]
  },
  {
   "cell_type": "markdown",
   "id": "2f8e96c8",
   "metadata": {},
   "source": [
    "All number of components to test for the PCA analysis: "
   ]
  },
  {
   "cell_type": "code",
   "execution_count": 91,
   "id": "865a65ca",
   "metadata": {},
   "outputs": [],
   "source": [
    "pca_pred = PCA()"
   ]
  },
  {
   "cell_type": "code",
   "execution_count": 93,
   "id": "214f3309",
   "metadata": {},
   "outputs": [],
   "source": [
    "n_components_to_test = np.arange(3, 15)"
   ]
  },
  {
   "cell_type": "markdown",
   "id": "4da35979",
   "metadata": {},
   "source": [
    "### 6.3 Regression model"
   ]
  },
  {
   "cell_type": "markdown",
   "id": "b23a5de0",
   "metadata": {},
   "source": [
    "All models + model parameters to test: "
   ]
  },
  {
   "cell_type": "code",
   "execution_count": 98,
   "id": "564f2a6f",
   "metadata": {},
   "outputs": [],
   "source": [
    "model_1 = RandomForestRegressor(random_state=0)\n",
    "max_depth_to_test = np.arange(2, 15)\n",
    "\n",
    "model_2 = LinearRegression()\n",
    "\n",
    "model_3 = Ridge()\n",
    "alpha_to_test = np.arange(1, 15)"
   ]
  },
  {
   "cell_type": "markdown",
   "id": "b303f46c",
   "metadata": {},
   "source": [
    "### 6.4 List of parameters to test"
   ]
  },
  {
   "cell_type": "markdown",
   "id": "3e4f6780",
   "metadata": {},
   "source": [
    "Make list of parameter dictionaries (one for each model):"
   ]
  },
  {
   "cell_type": "code",
   "execution_count": 95,
   "id": "dfb97dfa",
   "metadata": {},
   "outputs": [],
   "source": [
    "params = [\n",
    "    {'scaler': scalers_to_test,\n",
    "     'reduce_dim__n_components': n_components_to_test,\n",
    "     'regressor': [model_1],\n",
    "     'regressor__max_depth': max_depth_to_test},\n",
    "\n",
    "    {'scaler': scalers_to_test,\n",
    "     'reduce_dim__n_components': n_components_to_test,\n",
    "     'regressor': [model_2]},\n",
    "\n",
    "    {'scaler': scalers_to_test,\n",
    "     'reduce_dim__n_components': n_components_to_test,\n",
    "     'regressor': [model_3],\n",
    "     'regressor__alpha': alpha_to_test}\n",
    "]"
   ]
  },
  {
   "cell_type": "markdown",
   "id": "8593098f",
   "metadata": {},
   "source": [
    "### 6.5 Train, test, split + setup pipeline"
   ]
  },
  {
   "cell_type": "code",
   "execution_count": 96,
   "id": "2468b940",
   "metadata": {},
   "outputs": [],
   "source": [
    "X_train, X_test, y_train, y_test = train_test_split(\n",
    "    df_pred, df_target_, random_state=0)"
   ]
  },
  {
   "cell_type": "code",
   "execution_count": 100,
   "id": "4a6ac1f5",
   "metadata": {},
   "outputs": [],
   "source": [
    "pipe_pred = Pipeline([\n",
    "    ('scaler', scalers_to_test[0]),\n",
    "    ('reduce_dim', pca_pred),\n",
    "    ('regressor', model_1)\n",
    "])"
   ]
  },
  {
   "cell_type": "markdown",
   "id": "c3654f75",
   "metadata": {},
   "source": [
    "### 6.6 Gridsearch pipeline"
   ]
  },
  {
   "cell_type": "markdown",
   "id": "e0df2682",
   "metadata": {},
   "source": [
    "#### 6.6.1 Target principal component 1: water stress"
   ]
  },
  {
   "cell_type": "code",
   "execution_count": 101,
   "id": "0e2a77ad",
   "metadata": {},
   "outputs": [
    {
     "name": "stdout",
     "output_type": "stream",
     "text": [
      "Fitting 5 folds for each of 1344 candidates, totalling 6720 fits\n"
     ]
    }
   ],
   "source": [
    "gridsearch_1 = GridSearchCV(\n",
    "    pipe_pred, params, verbose=1).fit(X_train, y_train[:, 0])"
   ]
  },
  {
   "cell_type": "code",
   "execution_count": 102,
   "id": "49292ff5",
   "metadata": {},
   "outputs": [
    {
     "data": {
      "text/plain": [
       "{'reduce_dim__n_components': 12,\n",
       " 'regressor': Ridge(alpha=4),\n",
       " 'regressor__alpha': 4,\n",
       " 'scaler': ColumnTransformer(remainder='passthrough',\n",
       "                   transformers=[('logscaler',\n",
       "                                  FunctionTransformer(func=<function log_transform at 0x000001AE4331AAF0>),\n",
       "                                  ['Rain', 'IRWR', 'ERWR', 'TRWR', 'IRWR_capita',\n",
       "                                   'ERWR_capita', 'TRWR_capita', 'rural_pop',\n",
       "                                   'urban_pop', 'GDP_pcp'])])}"
      ]
     },
     "execution_count": 102,
     "metadata": {},
     "output_type": "execute_result"
    }
   ],
   "source": [
    "gridsearch_1.best_params_"
   ]
  },
  {
   "cell_type": "markdown",
   "id": "ea8e9cbe",
   "metadata": {},
   "source": [
    "#### 6.6.2 Target principal component 2: water use efficiency"
   ]
  },
  {
   "cell_type": "code",
   "execution_count": 103,
   "id": "024a6d76",
   "metadata": {},
   "outputs": [
    {
     "name": "stdout",
     "output_type": "stream",
     "text": [
      "Fitting 5 folds for each of 1344 candidates, totalling 6720 fits\n"
     ]
    }
   ],
   "source": [
    "gridsearch_2 = GridSearchCV(\n",
    "    pipe_pred, params, verbose=1).fit(X_train, y_train[:, 1])"
   ]
  },
  {
   "cell_type": "code",
   "execution_count": 104,
   "id": "6fc3d5d3",
   "metadata": {},
   "outputs": [
    {
     "data": {
      "text/plain": [
       "{'reduce_dim__n_components': 14,\n",
       " 'regressor': Ridge(alpha=2),\n",
       " 'regressor__alpha': 2,\n",
       " 'scaler': ColumnTransformer(remainder='passthrough',\n",
       "                   transformers=[('logscaler',\n",
       "                                  FunctionTransformer(func=<function log_transform at 0x000001AE4331AAF0>),\n",
       "                                  ['Rain', 'IRWR', 'ERWR', 'TRWR', 'IRWR_capita',\n",
       "                                   'ERWR_capita', 'TRWR_capita', 'rural_pop',\n",
       "                                   'urban_pop', 'GDP_pcp'])])}"
      ]
     },
     "execution_count": 104,
     "metadata": {},
     "output_type": "execute_result"
    }
   ],
   "source": [
    "gridsearch_2.best_params_"
   ]
  },
  {
   "cell_type": "markdown",
   "id": "6936be6f",
   "metadata": {},
   "source": [
    "### 6.7 Best fit model"
   ]
  },
  {
   "cell_type": "markdown",
   "id": "a550a85d",
   "metadata": {},
   "source": [
    "#### 6.7.1 Target principal component 1: water stress"
   ]
  },
  {
   "cell_type": "code",
   "execution_count": 109,
   "id": "8062f90b",
   "metadata": {},
   "outputs": [],
   "source": [
    "pipe_pred_1 = Pipeline([\n",
    "    ('scaler', scalers_to_test[0]),\n",
    "    ('reduce_dim', PCA(n_components=12)),\n",
    "    ('regressor', Ridge(alpha=4))\n",
    "])"
   ]
  },
  {
   "cell_type": "code",
   "execution_count": 110,
   "id": "3e22a153",
   "metadata": {},
   "outputs": [
    {
     "name": "stdout",
     "output_type": "stream",
     "text": [
      "Model score:  0.6384512159002249\n",
      "R² 0.758258564340669\n"
     ]
    }
   ],
   "source": [
    "pipe_pred_1.fit(X_train, y_train[:, 0])\n",
    "print('Model score: ', pipe_pred_1.score(X_test, y_test[:, 0]))\n",
    "y_pred = pipe_pred_1.predict(df_pred)\n",
    "print('R²', r2_score(df_target_[:, 0], y_pred))"
   ]
  },
  {
   "cell_type": "markdown",
   "id": "5cd6a1c6",
   "metadata": {},
   "source": [
    "#### 6.7.2 Target principal component 2: water use efficiency"
   ]
  },
  {
   "cell_type": "code",
   "execution_count": 111,
   "id": "c48737b9",
   "metadata": {},
   "outputs": [],
   "source": [
    "pipe_pred_2 = Pipeline([\n",
    "    ('scaler', scalers_to_test[0]),\n",
    "    ('reduce_dim', PCA(n_components=14)),\n",
    "    ('regressor', Ridge(alpha=2))\n",
    "])"
   ]
  },
  {
   "cell_type": "code",
   "execution_count": 112,
   "id": "68514ed8",
   "metadata": {
    "scrolled": true
   },
   "outputs": [
    {
     "name": "stdout",
     "output_type": "stream",
     "text": [
      "Model score:  0.684873871046202\n",
      "R² 0.6583904593828581\n"
     ]
    }
   ],
   "source": [
    "pipe_pred_2.fit(X_train, y_train[:, 1])\n",
    "print('Model score: ', pipe_pred_2.score(X_test, y_test[:, 1]))\n",
    "y_pred = pipe_pred_2.predict(df_pred)\n",
    "print('R²', r2_score(df_target_[:, 1], y_pred))"
   ]
  }
 ],
 "metadata": {
  "kernelspec": {
   "display_name": "Python 3",
   "language": "python",
   "name": "python3"
  },
  "language_info": {
   "codemirror_mode": {
    "name": "ipython",
    "version": 3
   },
   "file_extension": ".py",
   "mimetype": "text/x-python",
   "name": "python",
   "nbconvert_exporter": "python",
   "pygments_lexer": "ipython3",
   "version": "3.8.8"
  },
  "toc": {
   "base_numbering": 1,
   "nav_menu": {},
   "number_sections": false,
   "sideBar": true,
   "skip_h1_title": true,
   "title_cell": "Table of Contents",
   "title_sidebar": "Contents",
   "toc_cell": false,
   "toc_position": {
    "height": "calc(100% - 180px)",
    "left": "10px",
    "top": "150px",
    "width": "426.667px"
   },
   "toc_section_display": true,
   "toc_window_display": true
  },
  "varInspector": {
   "cols": {
    "lenName": 16,
    "lenType": 16,
    "lenVar": 40
   },
   "kernels_config": {
    "python": {
     "delete_cmd_postfix": "",
     "delete_cmd_prefix": "del ",
     "library": "var_list.py",
     "varRefreshCmd": "print(var_dic_list())"
    },
    "r": {
     "delete_cmd_postfix": ") ",
     "delete_cmd_prefix": "rm(",
     "library": "var_list.r",
     "varRefreshCmd": "cat(var_dic_list()) "
    }
   },
   "types_to_exclude": [
    "module",
    "function",
    "builtin_function_or_method",
    "instance",
    "_Feature"
   ],
   "window_display": false
  }
 },
 "nbformat": 4,
 "nbformat_minor": 5
}
