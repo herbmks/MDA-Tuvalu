{
 "cells": [
  {
   "cell_type": "markdown",
   "id": "5341bab1",
   "metadata": {},
   "source": [
    "# Climate data\n",
    "\n",
    "\n",
    "## Historical data\n",
    "\n",
    "This is the preprocessing af the data from https://climateknowledgeportal.worldbank.org/download-data\n",
    "\n",
    "There is an issues when attemption to download this data, selecting all countries and choosing the 1901-2016 time periods results in 'error 504 bad gateway timeout'. However, the preprocessing should be the same for any country and time period considering that the data source is the same. After making a smaller selection it was possible to download the data but only for 93 countries."
   ]
  },
  {
   "cell_type": "code",
   "execution_count": 1,
   "id": "f7042263",
   "metadata": {
    "ExecuteTime": {
     "end_time": "2021-05-04T15:35:01.398323Z",
     "start_time": "2021-05-04T15:35:00.520766Z"
    }
   },
   "outputs": [
    {
     "data": {
      "text/plain": [
       "Temperature - (Celsius)    float64\n",
       " Year                        int64\n",
       " Statistics                 object\n",
       " Country                    object\n",
       " ISO3                       object\n",
       "dtype: object"
      ]
     },
     "execution_count": 1,
     "metadata": {},
     "output_type": "execute_result"
    }
   ],
   "source": [
    "import pandas as pd\n",
    "import numpy as np\n",
    "import ipywidgets as widgets\n",
    "import matplotlib.pyplot as plt\n",
    "%matplotlib inline\n",
    "\n",
    "df = pd.read_csv(\"raw data/tas_1901_2016_AFG_CH.csv\", sep = ',', header = 0, usecols = range(0,5))\n",
    "\n",
    "df.dtypes"
   ]
  },
  {
   "cell_type": "code",
   "execution_count": 2,
   "id": "f44b5bb1",
   "metadata": {
    "ExecuteTime": {
     "end_time": "2021-05-04T15:35:01.414327Z",
     "start_time": "2021-05-04T15:35:01.399324Z"
    }
   },
   "outputs": [
    {
     "data": {
      "text/html": [
       "<div>\n",
       "<style scoped>\n",
       "    .dataframe tbody tr th:only-of-type {\n",
       "        vertical-align: middle;\n",
       "    }\n",
       "\n",
       "    .dataframe tbody tr th {\n",
       "        vertical-align: top;\n",
       "    }\n",
       "\n",
       "    .dataframe thead th {\n",
       "        text-align: right;\n",
       "    }\n",
       "</style>\n",
       "<table border=\"1\" class=\"dataframe\">\n",
       "  <thead>\n",
       "    <tr style=\"text-align: right;\">\n",
       "      <th></th>\n",
       "      <th>Temperature - (Celsius)</th>\n",
       "      <th>Year</th>\n",
       "      <th>Statistics</th>\n",
       "      <th>Country</th>\n",
       "      <th>ISO3</th>\n",
       "    </tr>\n",
       "  </thead>\n",
       "  <tbody>\n",
       "    <tr>\n",
       "      <th>0</th>\n",
       "      <td>-0.03780</td>\n",
       "      <td>1901</td>\n",
       "      <td>Jan Average</td>\n",
       "      <td>Afghanistan</td>\n",
       "      <td>AFG</td>\n",
       "    </tr>\n",
       "    <tr>\n",
       "      <th>1</th>\n",
       "      <td>2.42348</td>\n",
       "      <td>1901</td>\n",
       "      <td>Feb Average</td>\n",
       "      <td>Afghanistan</td>\n",
       "      <td>AFG</td>\n",
       "    </tr>\n",
       "    <tr>\n",
       "      <th>2</th>\n",
       "      <td>9.36230</td>\n",
       "      <td>1901</td>\n",
       "      <td>Mar Average</td>\n",
       "      <td>Afghanistan</td>\n",
       "      <td>AFG</td>\n",
       "    </tr>\n",
       "    <tr>\n",
       "      <th>3</th>\n",
       "      <td>13.55640</td>\n",
       "      <td>1901</td>\n",
       "      <td>Apr Average</td>\n",
       "      <td>Afghanistan</td>\n",
       "      <td>AFG</td>\n",
       "    </tr>\n",
       "    <tr>\n",
       "      <th>4</th>\n",
       "      <td>18.15090</td>\n",
       "      <td>1901</td>\n",
       "      <td>May Average</td>\n",
       "      <td>Afghanistan</td>\n",
       "      <td>AFG</td>\n",
       "    </tr>\n",
       "  </tbody>\n",
       "</table>\n",
       "</div>"
      ],
      "text/plain": [
       "   Temperature - (Celsius)   Year    Statistics       Country  ISO3\n",
       "0                 -0.03780   1901   Jan Average   Afghanistan   AFG\n",
       "1                  2.42348   1901   Feb Average   Afghanistan   AFG\n",
       "2                  9.36230   1901   Mar Average   Afghanistan   AFG\n",
       "3                 13.55640   1901   Apr Average   Afghanistan   AFG\n",
       "4                 18.15090   1901   May Average   Afghanistan   AFG"
      ]
     },
     "execution_count": 2,
     "metadata": {},
     "output_type": "execute_result"
    }
   ],
   "source": [
    "df.head(5)"
   ]
  },
  {
   "cell_type": "markdown",
   "id": "7bee1287",
   "metadata": {},
   "source": [
    "## Pre-processing\n",
    "\n",
    "Things to do:\n",
    "- rename the columns\n",
    "- make seperate list will all the country codes\n",
    "- make separate list with all the years\n",
    "- strip value of leading white spaces"
   ]
  },
  {
   "cell_type": "code",
   "execution_count": 3,
   "id": "03177316",
   "metadata": {
    "ExecuteTime": {
     "end_time": "2021-05-04T15:35:01.494345Z",
     "start_time": "2021-05-04T15:35:01.415327Z"
    }
   },
   "outputs": [
    {
     "data": {
      "text/plain": [
       "Temperature    float64\n",
       "Year             int64\n",
       "Month           object\n",
       "Country         object\n",
       "Code            object\n",
       "dtype: object"
      ]
     },
     "execution_count": 3,
     "metadata": {},
     "output_type": "execute_result"
    }
   ],
   "source": [
    "df.rename({df.columns[0]: \"Temperature\", df.columns[1]: \"Year\", df.columns[2]: \"Month\", df.columns[3]: \"Country\", df.columns[4]: \"Code\"}, axis = 1, inplace = True)\n",
    "\n",
    "df['Code'] = df['Code'].str.strip()\n",
    "df['Country'] = df['Country'].str.strip()\n",
    "\n",
    "df.dtypes"
   ]
  },
  {
   "cell_type": "code",
   "execution_count": 4,
   "id": "6125c085",
   "metadata": {
    "ExecuteTime": {
     "end_time": "2021-05-04T15:35:01.510349Z",
     "start_time": "2021-05-04T15:35:01.495345Z"
    }
   },
   "outputs": [
    {
     "data": {
      "text/html": [
       "<div>\n",
       "<style scoped>\n",
       "    .dataframe tbody tr th:only-of-type {\n",
       "        vertical-align: middle;\n",
       "    }\n",
       "\n",
       "    .dataframe tbody tr th {\n",
       "        vertical-align: top;\n",
       "    }\n",
       "\n",
       "    .dataframe thead th {\n",
       "        text-align: right;\n",
       "    }\n",
       "</style>\n",
       "<table border=\"1\" class=\"dataframe\">\n",
       "  <thead>\n",
       "    <tr style=\"text-align: right;\">\n",
       "      <th></th>\n",
       "      <th>Temperature</th>\n",
       "      <th>Year</th>\n",
       "      <th>Month</th>\n",
       "      <th>Country</th>\n",
       "      <th>Code</th>\n",
       "    </tr>\n",
       "  </thead>\n",
       "  <tbody>\n",
       "    <tr>\n",
       "      <th>0</th>\n",
       "      <td>-0.03780</td>\n",
       "      <td>1901</td>\n",
       "      <td>Jan Average</td>\n",
       "      <td>Afghanistan</td>\n",
       "      <td>AFG</td>\n",
       "    </tr>\n",
       "    <tr>\n",
       "      <th>1</th>\n",
       "      <td>2.42348</td>\n",
       "      <td>1901</td>\n",
       "      <td>Feb Average</td>\n",
       "      <td>Afghanistan</td>\n",
       "      <td>AFG</td>\n",
       "    </tr>\n",
       "    <tr>\n",
       "      <th>2</th>\n",
       "      <td>9.36230</td>\n",
       "      <td>1901</td>\n",
       "      <td>Mar Average</td>\n",
       "      <td>Afghanistan</td>\n",
       "      <td>AFG</td>\n",
       "    </tr>\n",
       "    <tr>\n",
       "      <th>3</th>\n",
       "      <td>13.55640</td>\n",
       "      <td>1901</td>\n",
       "      <td>Apr Average</td>\n",
       "      <td>Afghanistan</td>\n",
       "      <td>AFG</td>\n",
       "    </tr>\n",
       "    <tr>\n",
       "      <th>4</th>\n",
       "      <td>18.15090</td>\n",
       "      <td>1901</td>\n",
       "      <td>May Average</td>\n",
       "      <td>Afghanistan</td>\n",
       "      <td>AFG</td>\n",
       "    </tr>\n",
       "    <tr>\n",
       "      <th>...</th>\n",
       "      <td>...</td>\n",
       "      <td>...</td>\n",
       "      <td>...</td>\n",
       "      <td>...</td>\n",
       "      <td>...</td>\n",
       "    </tr>\n",
       "    <tr>\n",
       "      <th>109963</th>\n",
       "      <td>26.85980</td>\n",
       "      <td>2016</td>\n",
       "      <td>Aug Average</td>\n",
       "      <td>India</td>\n",
       "      <td>IND</td>\n",
       "    </tr>\n",
       "    <tr>\n",
       "      <th>109964</th>\n",
       "      <td>26.74700</td>\n",
       "      <td>2016</td>\n",
       "      <td>Sep Average</td>\n",
       "      <td>India</td>\n",
       "      <td>IND</td>\n",
       "    </tr>\n",
       "    <tr>\n",
       "      <th>109965</th>\n",
       "      <td>25.30200</td>\n",
       "      <td>2016</td>\n",
       "      <td>Oct Average</td>\n",
       "      <td>India</td>\n",
       "      <td>IND</td>\n",
       "    </tr>\n",
       "    <tr>\n",
       "      <th>109966</th>\n",
       "      <td>21.29870</td>\n",
       "      <td>2016</td>\n",
       "      <td>Nov Average</td>\n",
       "      <td>India</td>\n",
       "      <td>IND</td>\n",
       "    </tr>\n",
       "    <tr>\n",
       "      <th>109967</th>\n",
       "      <td>18.89050</td>\n",
       "      <td>2016</td>\n",
       "      <td>Dec Average</td>\n",
       "      <td>India</td>\n",
       "      <td>IND</td>\n",
       "    </tr>\n",
       "  </tbody>\n",
       "</table>\n",
       "<p>109968 rows × 5 columns</p>\n",
       "</div>"
      ],
      "text/plain": [
       "        Temperature  Year         Month      Country Code\n",
       "0          -0.03780  1901   Jan Average  Afghanistan  AFG\n",
       "1           2.42348  1901   Feb Average  Afghanistan  AFG\n",
       "2           9.36230  1901   Mar Average  Afghanistan  AFG\n",
       "3          13.55640  1901   Apr Average  Afghanistan  AFG\n",
       "4          18.15090  1901   May Average  Afghanistan  AFG\n",
       "...             ...   ...           ...          ...  ...\n",
       "109963     26.85980  2016   Aug Average        India  IND\n",
       "109964     26.74700  2016   Sep Average        India  IND\n",
       "109965     25.30200  2016   Oct Average        India  IND\n",
       "109966     21.29870  2016   Nov Average        India  IND\n",
       "109967     18.89050  2016   Dec Average        India  IND\n",
       "\n",
       "[109968 rows x 5 columns]"
      ]
     },
     "execution_count": 4,
     "metadata": {},
     "output_type": "execute_result"
    }
   ],
   "source": [
    "df"
   ]
  },
  {
   "cell_type": "code",
   "execution_count": 5,
   "id": "21992b67",
   "metadata": {
    "ExecuteTime": {
     "end_time": "2021-05-04T15:35:01.750403Z",
     "start_time": "2021-05-04T15:35:01.511349Z"
    }
   },
   "outputs": [],
   "source": [
    "name = df.Month.unique()\n",
    "number = [1, 2, 3, 4, 5, 6, 7, 8, 9, 10, 11, 12]\n",
    "\n",
    "for i in range(0,12):\n",
    "    df = df.replace(name[i], number[i])\n",
    "\n",
    "country_codes = np.asarray(pd.unique(df.Code))\n",
    "years = np.asarray(pd.unique(df.Year))"
   ]
  },
  {
   "cell_type": "markdown",
   "id": "9be2f815",
   "metadata": {},
   "source": [
    "We can now turn all these operations into some sort of pipeline by defining a function that will do all of this in one go."
   ]
  },
  {
   "cell_type": "code",
   "execution_count": 6,
   "id": "e9ce3cc7",
   "metadata": {
    "ExecuteTime": {
     "end_time": "2021-05-04T15:35:01.766406Z",
     "start_time": "2021-05-04T15:35:01.751403Z"
    }
   },
   "outputs": [],
   "source": [
    "def preprocess_historical_temp(file_name, names_years = True):\n",
    "    \"\"\"Imports and pre-processes the historical temperatures\"\"\"\n",
    "    \n",
    "    df = pd.read_csv(file_name, sep = ',', header = 0, usecols = range(0,5))\n",
    "    df.rename({df.columns[0]: \"Temperature\", df.columns[1]: \"Year\", df.columns[2]: \"Month\", df.columns[3]: \"Country\", df.columns[4]: \"Code\"}, axis = 1, inplace = True)\n",
    "\n",
    "    df['Code'] = df['Code'].str.strip()\n",
    "    df['Country'] = df['Country'].str.strip()\n",
    "    \n",
    "    name = df.Month.unique()\n",
    "    number = [1, 2, 3, 4, 5, 6, 7, 8, 9, 10, 11, 12]\n",
    "\n",
    "    for i in range(0,12):\n",
    "        df = df.replace(name[i], number[i])\n",
    "    \n",
    "    if names_years is False:    \n",
    "        return df\n",
    "    \n",
    "    country_codes = np.asarray(pd.unique(df.Code))\n",
    "    years = np.asarray(pd.unique(df.Year))\n",
    "    \n",
    "    return clean_data, country_codes, years"
   ]
  },
  {
   "cell_type": "markdown",
   "id": "2034db01",
   "metadata": {},
   "source": [
    "We should check whether, or how many, missing values there are."
   ]
  },
  {
   "cell_type": "code",
   "execution_count": 7,
   "id": "ddf4b0e6",
   "metadata": {
    "ExecuteTime": {
     "end_time": "2021-05-04T15:35:01.782410Z",
     "start_time": "2021-05-04T15:35:01.768407Z"
    }
   },
   "outputs": [
    {
     "data": {
      "text/plain": [
       "Temperature    0\n",
       "Year           0\n",
       "Month          0\n",
       "Country        0\n",
       "Code           0\n",
       "dtype: int64"
      ]
     },
     "execution_count": 7,
     "metadata": {},
     "output_type": "execute_result"
    }
   ],
   "source": [
    "df.isna().sum()"
   ]
  },
  {
   "cell_type": "markdown",
   "id": "ee23a202",
   "metadata": {},
   "source": [
    "There are no missing values."
   ]
  },
  {
   "cell_type": "markdown",
   "id": "67d58efa",
   "metadata": {},
   "source": [
    "## Yearly averages\n",
    "\n",
    "The data provides the average temperature for each month of the year. It is likely that having the average yearly temperture will be more useful. We can create a second dataset that includes the yearly averages.\n",
    "\n",
    "NOTE: Function already modified so that it will work with the predicted temperature data. (That's what the *model if statements* are for.)"
   ]
  },
  {
   "cell_type": "code",
   "execution_count": 8,
   "id": "a05ff92e",
   "metadata": {
    "ExecuteTime": {
     "end_time": "2021-05-04T15:35:01.798414Z",
     "start_time": "2021-05-04T15:35:01.783411Z"
    }
   },
   "outputs": [],
   "source": [
    "def get_yearly_averages(df):\n",
    "    \"\"\"Gets the average yearly temperature for each country\"\"\"\n",
    "    yearly_av = []\n",
    "    \n",
    "    country_codes = np.asarray(pd.unique(df.Code))\n",
    "    years = np.asarray(pd.unique(df.Year))\n",
    "    weights = {1:31, 2:28, 3:31, 4:30, 5:31, 6:30, 7:31, 8:31, 9:30, 10:31, 11:30, 12:31}\n",
    "    \n",
    "    if 'Model' in df.columns:\n",
    "        models = np.asarray(pd.unique(df.Model))\n",
    "        \n",
    "    for country in country_codes:\n",
    "        temp1 = df.loc[df['Code'] == country]\n",
    "        for year in years:            \n",
    "            if 'Model' in df.columns:\n",
    "                for model in models:\n",
    "                    temp2 = temp1.loc[temp1['Model'] == model]\n",
    "                    w_map = temp2['Month'].map(weights)\n",
    "                    total = w_map*temp2['Temperature']\n",
    "                    answer = total.sum()/365\n",
    "                    yearly_av.append([country, year, np.round(answer, 3), model])\n",
    "            else:\n",
    "                temp2 = temp1.loc[temp1['Year'] == year]\n",
    "                w_map = temp2['Month'].map(weights)\n",
    "                total = w_map*temp2['Temperature']\n",
    "                answer = total.sum()/365\n",
    "                yearly_av.append([country, year, np.round(answer, 3)])\n",
    "    \n",
    "    df_yearly = np.asarray(yearly_av)\n",
    "    \n",
    "    if 'Model' in df.columns:\n",
    "        df_yearly = pd.DataFrame(df_yearly, columns = ['Code', 'Year', 'Average Temp', 'Model'])\n",
    "    else:\n",
    "        df_yearly = pd.DataFrame(df_yearly, columns = ['Code', 'Year', 'Average Temp'])\n",
    "    \n",
    "    if 'Model' in df.columns:\n",
    "        df_yearly = df_yearly.astype({'Average Temp':'float64'})\n",
    "    else:\n",
    "        df_yearly = df_yearly.astype({'Year':'int64', 'Average Temp':'float64'})\n",
    "    \n",
    "    return df_yearly"
   ]
  },
  {
   "cell_type": "code",
   "execution_count": 9,
   "id": "0293ea52",
   "metadata": {
    "ExecuteTime": {
     "end_time": "2021-05-04T15:35:12.306999Z",
     "start_time": "2021-05-04T15:35:01.799414Z"
    },
    "scrolled": false
   },
   "outputs": [
    {
     "data": {
      "text/html": [
       "<div>\n",
       "<style scoped>\n",
       "    .dataframe tbody tr th:only-of-type {\n",
       "        vertical-align: middle;\n",
       "    }\n",
       "\n",
       "    .dataframe tbody tr th {\n",
       "        vertical-align: top;\n",
       "    }\n",
       "\n",
       "    .dataframe thead th {\n",
       "        text-align: right;\n",
       "    }\n",
       "</style>\n",
       "<table border=\"1\" class=\"dataframe\">\n",
       "  <thead>\n",
       "    <tr style=\"text-align: right;\">\n",
       "      <th></th>\n",
       "      <th>Code</th>\n",
       "      <th>Year</th>\n",
       "      <th>Average Temp</th>\n",
       "    </tr>\n",
       "  </thead>\n",
       "  <tbody>\n",
       "    <tr>\n",
       "      <th>0</th>\n",
       "      <td>AFG</td>\n",
       "      <td>1901</td>\n",
       "      <td>13.231</td>\n",
       "    </tr>\n",
       "    <tr>\n",
       "      <th>1</th>\n",
       "      <td>AFG</td>\n",
       "      <td>1902</td>\n",
       "      <td>13.407</td>\n",
       "    </tr>\n",
       "    <tr>\n",
       "      <th>2</th>\n",
       "      <td>AFG</td>\n",
       "      <td>1903</td>\n",
       "      <td>12.051</td>\n",
       "    </tr>\n",
       "    <tr>\n",
       "      <th>3</th>\n",
       "      <td>AFG</td>\n",
       "      <td>1904</td>\n",
       "      <td>12.567</td>\n",
       "    </tr>\n",
       "    <tr>\n",
       "      <th>4</th>\n",
       "      <td>AFG</td>\n",
       "      <td>1905</td>\n",
       "      <td>12.344</td>\n",
       "    </tr>\n",
       "    <tr>\n",
       "      <th>5</th>\n",
       "      <td>AFG</td>\n",
       "      <td>1906</td>\n",
       "      <td>12.902</td>\n",
       "    </tr>\n",
       "    <tr>\n",
       "      <th>6</th>\n",
       "      <td>AFG</td>\n",
       "      <td>1907</td>\n",
       "      <td>12.195</td>\n",
       "    </tr>\n",
       "    <tr>\n",
       "      <th>7</th>\n",
       "      <td>AFG</td>\n",
       "      <td>1908</td>\n",
       "      <td>12.573</td>\n",
       "    </tr>\n",
       "    <tr>\n",
       "      <th>8</th>\n",
       "      <td>AFG</td>\n",
       "      <td>1909</td>\n",
       "      <td>13.094</td>\n",
       "    </tr>\n",
       "    <tr>\n",
       "      <th>9</th>\n",
       "      <td>AFG</td>\n",
       "      <td>1910</td>\n",
       "      <td>12.420</td>\n",
       "    </tr>\n",
       "  </tbody>\n",
       "</table>\n",
       "</div>"
      ],
      "text/plain": [
       "  Code  Year  Average Temp\n",
       "0  AFG  1901        13.231\n",
       "1  AFG  1902        13.407\n",
       "2  AFG  1903        12.051\n",
       "3  AFG  1904        12.567\n",
       "4  AFG  1905        12.344\n",
       "5  AFG  1906        12.902\n",
       "6  AFG  1907        12.195\n",
       "7  AFG  1908        12.573\n",
       "8  AFG  1909        13.094\n",
       "9  AFG  1910        12.420"
      ]
     },
     "execution_count": 9,
     "metadata": {},
     "output_type": "execute_result"
    }
   ],
   "source": [
    "df_yearly = get_yearly_averages(df)\n",
    "\n",
    "df_yearly.head(10)"
   ]
  },
  {
   "cell_type": "code",
   "execution_count": 10,
   "id": "582d5aaa",
   "metadata": {
    "ExecuteTime": {
     "end_time": "2021-05-04T15:35:12.322313Z",
     "start_time": "2021-05-04T15:35:12.307312Z"
    }
   },
   "outputs": [
    {
     "data": {
      "text/plain": [
       "79"
      ]
     },
     "execution_count": 10,
     "metadata": {},
     "output_type": "execute_result"
    }
   ],
   "source": [
    "df_yearly['Code'].nunique()"
   ]
  },
  {
   "cell_type": "markdown",
   "id": "0432efdd",
   "metadata": {},
   "source": [
    "We are missing countries due to the download issue mentioned previously."
   ]
  },
  {
   "cell_type": "code",
   "execution_count": 11,
   "id": "00f9ae5f",
   "metadata": {
    "ExecuteTime": {
     "end_time": "2021-05-04T15:35:13.327040Z",
     "start_time": "2021-05-04T15:35:12.323313Z"
    }
   },
   "outputs": [
    {
     "name": "stdout",
     "output_type": "stream",
     "text": [
      "Afghanistan\n",
      "AFG\n",
      "Albania\n",
      "ALB\n",
      "Algeria\n",
      "DZA\n",
      "Andorra\n",
      "AND\n",
      "Angola\n",
      "AGO\n",
      "Antigua and Barbuda\n",
      "ATG\n",
      "Argentina\n",
      "ARG\n",
      "Armenia\n",
      "ARM\n",
      "Australia\n",
      "AUS\n",
      "Austria\n",
      "AUT\n",
      "Azerbaijan\n",
      "AZE\n",
      "Bahamas\n",
      "BHS\n",
      "Bahrain\n",
      "BHR\n",
      "Bangladesh\n",
      "BGD\n",
      "Barbados\n",
      "BRB\n",
      "Belarus\n",
      "BLR\n",
      "Belgium\n",
      "BEL\n",
      "Belize\n",
      "BLZ\n",
      "Benin\n",
      "BEN\n",
      "Bhutan\n",
      "BTN\n",
      "Bolivia\n",
      "BOL\n",
      "Bosnia and Herzegovina\n",
      "BIH\n",
      "Botswana\n",
      "BWA\n",
      "Brazil\n",
      "BRA\n",
      "Brunei\n",
      "BRN\n",
      "Bulgaria\n",
      "BGR\n",
      "Burkina Faso\n",
      "BFA\n",
      "Burundi\n",
      "BDI\n",
      "Cambodia\n",
      "KHM\n",
      "Cameroon\n",
      "CMR\n",
      "Canada\n",
      "CAN\n",
      "Cape Verde\n",
      "CPV\n",
      "Central African Republic\n",
      "CAF\n",
      "Chad\n",
      "TCD\n",
      "Chile\n",
      "CHL\n",
      "China\n",
      "CHN\n",
      "Colombia\n",
      "COL\n",
      "Comoros\n",
      "COM\n",
      "Congo (Democratic Republic of the)\n",
      "COD\n",
      "Congo (Republic of the)\n",
      "COG\n",
      "Costa Rica\n",
      "CRI\n",
      "Cote d'Ivoire\n",
      "CIV\n",
      "Croatia\n",
      "HRV\n",
      "Cuba\n",
      "CUB\n",
      "Cyprus\n",
      "CYP\n",
      "Czech Republic\n",
      "CZE\n",
      "Denmark\n",
      "DNK\n",
      "Djibouti\n",
      "DJI\n",
      "Dominica\n",
      "DMA\n",
      "Dominican Republic\n",
      "DOM\n",
      "Ecuador\n",
      "ECU\n",
      "Egypt\n",
      "EGY\n",
      "El Salvador\n",
      "SLV\n",
      "Equatorial Guinea\n",
      "GNQ\n",
      "Eritrea\n",
      "ERI\n",
      "Estonia\n",
      "EST\n",
      "Ethiopia\n",
      "ETH\n",
      "Faroe Islands\n",
      "FRO\n",
      "Federated States of Micronesia\n",
      "FSM\n",
      "Fiji\n",
      "FJI\n",
      "Finland\n",
      "FIN\n",
      "France\n",
      "FRA\n",
      "Gabon\n",
      "GAB\n",
      "Gambia\n",
      "The\n",
      "Georgia\n",
      "GEO\n",
      "Germany\n",
      "DEU\n",
      "Ghana\n",
      "GHA\n",
      "Greece\n",
      "GRC\n",
      "Greenland\n",
      "GRL\n",
      "Grenada\n",
      "GRD\n",
      "Guatemala\n",
      "GTM\n",
      "Guinea\n",
      "GIN\n",
      "Guinea-Bissau\n",
      "GNB\n",
      "Guyana\n",
      "GUY\n",
      "Haiti\n",
      "HTI\n",
      "Honduras\n",
      "HND\n",
      "Hungary\n",
      "HUN\n",
      "Iceland\n",
      "ISL\n",
      "India\n",
      "IND\n"
     ]
    }
   ],
   "source": [
    "for i in range(len(pd.unique(df['Code']))):\n",
    "    print(pd.unique(df['Country'])[i])\n",
    "    print(pd.unique(df['Code'])[i])"
   ]
  },
  {
   "cell_type": "markdown",
   "id": "de031637",
   "metadata": {},
   "source": [
    "## Simple plotting\n",
    "\n",
    "Now that we have clean datasets we can do some simple plotting to familiarise ourselves with the data. \n",
    "\n",
    "### Yearly averages\n",
    "\n",
    "We can start by producing plots for the average yearly temperature for a selected country."
   ]
  },
  {
   "cell_type": "code",
   "execution_count": 12,
   "id": "70c93e4f",
   "metadata": {
    "ExecuteTime": {
     "end_time": "2021-05-04T15:35:13.343074Z",
     "start_time": "2021-05-04T15:35:13.327040Z"
    }
   },
   "outputs": [
    {
     "data": {
      "application/vnd.jupyter.widget-view+json": {
       "model_id": "4ee0a61b28d4456fabb138895cf65883",
       "version_major": 2,
       "version_minor": 0
      },
      "text/plain": [
       "Dropdown(description='Country:', options=('AFG', 'ALB', 'DZA', 'AND', 'AGO', 'ATG', 'ARG', 'ARM', 'AUS', 'AUT'…"
      ]
     },
     "metadata": {},
     "output_type": "display_data"
    }
   ],
   "source": [
    "choice = widgets.Dropdown(\n",
    "    options=country_codes,\n",
    "    value=country_codes[0],\n",
    "    description='Country:',\n",
    "    disabled=False,\n",
    ")\n",
    "\n",
    "choice"
   ]
  },
  {
   "cell_type": "code",
   "execution_count": 13,
   "id": "0529f03e",
   "metadata": {
    "ExecuteTime": {
     "end_time": "2021-05-04T15:35:13.645904Z",
     "start_time": "2021-05-04T15:35:13.344074Z"
    },
    "scrolled": true
   },
   "outputs": [
    {
     "data": {
      "text/plain": [
       "<AxesSubplot:title={'center':'AFG'}, xlabel='Year'>"
      ]
     },
     "execution_count": 13,
     "metadata": {},
     "output_type": "execute_result"
    },
    {
     "data": {
      "image/png": "[encoded data removed]",
      "text/plain": [
       "<Figure size 432x288 with 1 Axes>"
      ]
     },
     "metadata": {
      "needs_background": "light"
     },
     "output_type": "display_data"
    }
   ],
   "source": [
    "df_plot = df_yearly.loc[df_yearly['Code'] == choice.value]\n",
    "df_plot.plot(x = 'Year', y = 'Average Temp', title = choice.value)"
   ]
  },
  {
   "cell_type": "code",
   "execution_count": 14,
   "id": "2225067a",
   "metadata": {
    "ExecuteTime": {
     "end_time": "2021-05-04T15:35:13.661908Z",
     "start_time": "2021-05-04T15:35:13.646906Z"
    }
   },
   "outputs": [
    {
     "data": {
      "text/plain": [
       "Code             object\n",
       "Year              int64\n",
       "Average Temp    float64\n",
       "dtype: object"
      ]
     },
     "execution_count": 14,
     "metadata": {},
     "output_type": "execute_result"
    }
   ],
   "source": [
    "df_yearly.dtypes"
   ]
  },
  {
   "cell_type": "markdown",
   "id": "95a0a793",
   "metadata": {},
   "source": [
    "# Climate data cont.\n",
    "\n",
    "## Projected climate data\n",
    "\n",
    "Preprocessing data from https://climateknowledgeportal.worldbank.org/download-data\n",
    "\n",
    "It was possible to select all countries at once, no gateway timeout error. Need to double check that all countries did inded download or whether it cut them off at some point.\n",
    "\n",
    "### Import raw data\n",
    "\n",
    "First we'll import the raw data to investigate its structure so tat we can then define what preprocessing steps are necessary."
   ]
  },
  {
   "cell_type": "code",
   "execution_count": 16,
   "id": "31bb0be3",
   "metadata": {
    "ExecuteTime": {
     "end_time": "2021-05-04T15:35:23.702456Z",
     "start_time": "2021-05-04T15:35:23.638748Z"
    },
    "scrolled": true
   },
   "outputs": [
    {
     "data": {
      "text/html": [
       "<div>\n",
       "<style scoped>\n",
       "    .dataframe tbody tr th:only-of-type {\n",
       "        vertical-align: middle;\n",
       "    }\n",
       "\n",
       "    .dataframe tbody tr th {\n",
       "        vertical-align: top;\n",
       "    }\n",
       "\n",
       "    .dataframe thead th {\n",
       "        text-align: right;\n",
       "    }\n",
       "</style>\n",
       "<table border=\"1\" class=\"dataframe\">\n",
       "  <thead>\n",
       "    <tr style=\"text-align: right;\">\n",
       "      <th></th>\n",
       "      <th>Monthly Temperature - (Celsius)</th>\n",
       "      <th>Year</th>\n",
       "      <th>Model</th>\n",
       "      <th>Statistics</th>\n",
       "      <th>Country</th>\n",
       "      <th>ISO3</th>\n",
       "    </tr>\n",
       "  </thead>\n",
       "  <tbody>\n",
       "    <tr>\n",
       "      <th>0</th>\n",
       "      <td>-0.722796</td>\n",
       "      <td>2020-2039</td>\n",
       "      <td>bcc_csm1_1</td>\n",
       "      <td>Jan Average</td>\n",
       "      <td>Afghanistan</td>\n",
       "      <td>AFG</td>\n",
       "    </tr>\n",
       "    <tr>\n",
       "      <th>1</th>\n",
       "      <td>1.788925</td>\n",
       "      <td>2020-2039</td>\n",
       "      <td>bcc_csm1_1</td>\n",
       "      <td>Feb Average</td>\n",
       "      <td>Afghanistan</td>\n",
       "      <td>AFG</td>\n",
       "    </tr>\n",
       "    <tr>\n",
       "      <th>2</th>\n",
       "      <td>6.647932</td>\n",
       "      <td>2020-2039</td>\n",
       "      <td>bcc_csm1_1</td>\n",
       "      <td>Mar Average</td>\n",
       "      <td>Afghanistan</td>\n",
       "      <td>AFG</td>\n",
       "    </tr>\n",
       "    <tr>\n",
       "      <th>3</th>\n",
       "      <td>13.529653</td>\n",
       "      <td>2020-2039</td>\n",
       "      <td>bcc_csm1_1</td>\n",
       "      <td>Apr Average</td>\n",
       "      <td>Afghanistan</td>\n",
       "      <td>AFG</td>\n",
       "    </tr>\n",
       "    <tr>\n",
       "      <th>4</th>\n",
       "      <td>18.811602</td>\n",
       "      <td>2020-2039</td>\n",
       "      <td>bcc_csm1_1</td>\n",
       "      <td>May Average</td>\n",
       "      <td>Afghanistan</td>\n",
       "      <td>AFG</td>\n",
       "    </tr>\n",
       "    <tr>\n",
       "      <th>5</th>\n",
       "      <td>25.430595</td>\n",
       "      <td>2020-2039</td>\n",
       "      <td>bcc_csm1_1</td>\n",
       "      <td>Jun Average</td>\n",
       "      <td>Afghanistan</td>\n",
       "      <td>AFG</td>\n",
       "    </tr>\n",
       "    <tr>\n",
       "      <th>6</th>\n",
       "      <td>28.008215</td>\n",
       "      <td>2020-2039</td>\n",
       "      <td>bcc_csm1_1</td>\n",
       "      <td>Jul Average</td>\n",
       "      <td>Afghanistan</td>\n",
       "      <td>AFG</td>\n",
       "    </tr>\n",
       "    <tr>\n",
       "      <th>7</th>\n",
       "      <td>26.263004</td>\n",
       "      <td>2020-2039</td>\n",
       "      <td>bcc_csm1_1</td>\n",
       "      <td>Aug Average</td>\n",
       "      <td>Afghanistan</td>\n",
       "      <td>AFG</td>\n",
       "    </tr>\n",
       "    <tr>\n",
       "      <th>8</th>\n",
       "      <td>21.933239</td>\n",
       "      <td>2020-2039</td>\n",
       "      <td>bcc_csm1_1</td>\n",
       "      <td>Sep Average</td>\n",
       "      <td>Afghanistan</td>\n",
       "      <td>AFG</td>\n",
       "    </tr>\n",
       "    <tr>\n",
       "      <th>9</th>\n",
       "      <td>14.529192</td>\n",
       "      <td>2020-2039</td>\n",
       "      <td>bcc_csm1_1</td>\n",
       "      <td>Oct Average</td>\n",
       "      <td>Afghanistan</td>\n",
       "      <td>AFG</td>\n",
       "    </tr>\n",
       "  </tbody>\n",
       "</table>\n",
       "</div>"
      ],
      "text/plain": [
       "   Monthly Temperature - (Celsius)        Year        Model    Statistics  \\\n",
       "0                        -0.722796   2020-2039   bcc_csm1_1   Jan Average   \n",
       "1                         1.788925   2020-2039   bcc_csm1_1   Feb Average   \n",
       "2                         6.647932   2020-2039   bcc_csm1_1   Mar Average   \n",
       "3                        13.529653   2020-2039   bcc_csm1_1   Apr Average   \n",
       "4                        18.811602   2020-2039   bcc_csm1_1   May Average   \n",
       "5                        25.430595   2020-2039   bcc_csm1_1   Jun Average   \n",
       "6                        28.008215   2020-2039   bcc_csm1_1   Jul Average   \n",
       "7                        26.263004   2020-2039   bcc_csm1_1   Aug Average   \n",
       "8                        21.933239   2020-2039   bcc_csm1_1   Sep Average   \n",
       "9                        14.529192   2020-2039   bcc_csm1_1   Oct Average   \n",
       "\n",
       "        Country  ISO3  \n",
       "0   Afghanistan   AFG  \n",
       "1   Afghanistan   AFG  \n",
       "2   Afghanistan   AFG  \n",
       "3   Afghanistan   AFG  \n",
       "4   Afghanistan   AFG  \n",
       "5   Afghanistan   AFG  \n",
       "6   Afghanistan   AFG  \n",
       "7   Afghanistan   AFG  \n",
       "8   Afghanistan   AFG  \n",
       "9   Afghanistan   AFG  "
      ]
     },
     "execution_count": 16,
     "metadata": {},
     "output_type": "execute_result"
    }
   ],
   "source": [
    "proj = pd.read_csv(\"raw data/tas_2020_2039_mavg_rcp26_AFG_CAF.csv\", sep = ',', header = 0, usecols = range(0,6))\n",
    "\n",
    "proj.head(10)"
   ]
  },
  {
   "cell_type": "code",
   "execution_count": 17,
   "id": "eda4727d",
   "metadata": {
    "ExecuteTime": {
     "end_time": "2021-05-04T15:35:24.214341Z",
     "start_time": "2021-05-04T15:35:24.202338Z"
    }
   },
   "outputs": [
    {
     "data": {
      "text/plain": [
       "Monthly Temperature - (Celsius)    float64\n",
       " Year                               object\n",
       " Model                              object\n",
       " Statistics                         object\n",
       " Country                            object\n",
       " ISO3                               object\n",
       "dtype: object"
      ]
     },
     "execution_count": 17,
     "metadata": {},
     "output_type": "execute_result"
    }
   ],
   "source": [
    "proj.dtypes"
   ]
  },
  {
   "cell_type": "markdown",
   "id": "c7af2e3a",
   "metadata": {},
   "source": [
    "This dataset has a similar structure to the historical dataset, although some differences do exist:\n",
    "- no individual years but rather one prediciton for the whole interval\n",
    "- added column for the prediciton model specification\n",
    "\n",
    "The preprocessing will therefore be similar with some minor adjustments."
   ]
  },
  {
   "cell_type": "code",
   "execution_count": 18,
   "id": "7f67741d",
   "metadata": {
    "ExecuteTime": {
     "end_time": "2021-05-04T15:35:25.110267Z",
     "start_time": "2021-05-04T15:35:25.094264Z"
    }
   },
   "outputs": [],
   "source": [
    "def preprocess_forecast_temp(file_name):\n",
    "    \"\"\"Imports and pre-processes the historical temperatures\"\"\"\n",
    "    \n",
    "    df = pd.read_csv(file_name, sep = ',', header = 0, usecols = range(0,6))\n",
    "    df.rename({df.columns[0]: \"Temperature\", df.columns[1]: \"Year\", df.columns[2]: \"Model\", df.columns[3]: \"Month\", df.columns[4]: \"Country\", df.columns[5]: \"Code\"}, axis = 1, inplace = True)\n",
    "\n",
    "    df['Code'] = df['Code'].str.strip()\n",
    "    df['Country'] = df['Country'].str.strip()\n",
    "    \n",
    "    name = df.Month.unique()\n",
    "    number = [1, 2, 3, 4, 5, 6, 7, 8, 9, 10, 11, 12]\n",
    "\n",
    "    for i in range(0,12):\n",
    "        df = df.replace(name[i], number[i])\n",
    "    \n",
    "    return df"
   ]
  },
  {
   "cell_type": "code",
   "execution_count": 21,
   "id": "5f07c056",
   "metadata": {
    "ExecuteTime": {
     "end_time": "2021-05-04T15:36:20.047190Z",
     "start_time": "2021-05-04T15:36:19.839144Z"
    }
   },
   "outputs": [
    {
     "data": {
      "text/html": [
       "<div>\n",
       "<style scoped>\n",
       "    .dataframe tbody tr th:only-of-type {\n",
       "        vertical-align: middle;\n",
       "    }\n",
       "\n",
       "    .dataframe tbody tr th {\n",
       "        vertical-align: top;\n",
       "    }\n",
       "\n",
       "    .dataframe thead th {\n",
       "        text-align: right;\n",
       "    }\n",
       "</style>\n",
       "<table border=\"1\" class=\"dataframe\">\n",
       "  <thead>\n",
       "    <tr style=\"text-align: right;\">\n",
       "      <th></th>\n",
       "      <th>Temperature</th>\n",
       "      <th>Year</th>\n",
       "      <th>Model</th>\n",
       "      <th>Month</th>\n",
       "      <th>Country</th>\n",
       "      <th>Code</th>\n",
       "    </tr>\n",
       "  </thead>\n",
       "  <tbody>\n",
       "    <tr>\n",
       "      <th>0</th>\n",
       "      <td>-0.722796</td>\n",
       "      <td>2020-2039</td>\n",
       "      <td>bcc_csm1_1</td>\n",
       "      <td>1</td>\n",
       "      <td>Afghanistan</td>\n",
       "      <td>AFG</td>\n",
       "    </tr>\n",
       "    <tr>\n",
       "      <th>1</th>\n",
       "      <td>1.788925</td>\n",
       "      <td>2020-2039</td>\n",
       "      <td>bcc_csm1_1</td>\n",
       "      <td>2</td>\n",
       "      <td>Afghanistan</td>\n",
       "      <td>AFG</td>\n",
       "    </tr>\n",
       "    <tr>\n",
       "      <th>2</th>\n",
       "      <td>6.647932</td>\n",
       "      <td>2020-2039</td>\n",
       "      <td>bcc_csm1_1</td>\n",
       "      <td>3</td>\n",
       "      <td>Afghanistan</td>\n",
       "      <td>AFG</td>\n",
       "    </tr>\n",
       "    <tr>\n",
       "      <th>3</th>\n",
       "      <td>13.529653</td>\n",
       "      <td>2020-2039</td>\n",
       "      <td>bcc_csm1_1</td>\n",
       "      <td>4</td>\n",
       "      <td>Afghanistan</td>\n",
       "      <td>AFG</td>\n",
       "    </tr>\n",
       "    <tr>\n",
       "      <th>4</th>\n",
       "      <td>18.811602</td>\n",
       "      <td>2020-2039</td>\n",
       "      <td>bcc_csm1_1</td>\n",
       "      <td>5</td>\n",
       "      <td>Afghanistan</td>\n",
       "      <td>AFG</td>\n",
       "    </tr>\n",
       "    <tr>\n",
       "      <th>5</th>\n",
       "      <td>25.430595</td>\n",
       "      <td>2020-2039</td>\n",
       "      <td>bcc_csm1_1</td>\n",
       "      <td>6</td>\n",
       "      <td>Afghanistan</td>\n",
       "      <td>AFG</td>\n",
       "    </tr>\n",
       "    <tr>\n",
       "      <th>6</th>\n",
       "      <td>28.008215</td>\n",
       "      <td>2020-2039</td>\n",
       "      <td>bcc_csm1_1</td>\n",
       "      <td>7</td>\n",
       "      <td>Afghanistan</td>\n",
       "      <td>AFG</td>\n",
       "    </tr>\n",
       "    <tr>\n",
       "      <th>7</th>\n",
       "      <td>26.263004</td>\n",
       "      <td>2020-2039</td>\n",
       "      <td>bcc_csm1_1</td>\n",
       "      <td>8</td>\n",
       "      <td>Afghanistan</td>\n",
       "      <td>AFG</td>\n",
       "    </tr>\n",
       "    <tr>\n",
       "      <th>8</th>\n",
       "      <td>21.933239</td>\n",
       "      <td>2020-2039</td>\n",
       "      <td>bcc_csm1_1</td>\n",
       "      <td>9</td>\n",
       "      <td>Afghanistan</td>\n",
       "      <td>AFG</td>\n",
       "    </tr>\n",
       "    <tr>\n",
       "      <th>9</th>\n",
       "      <td>14.529192</td>\n",
       "      <td>2020-2039</td>\n",
       "      <td>bcc_csm1_1</td>\n",
       "      <td>10</td>\n",
       "      <td>Afghanistan</td>\n",
       "      <td>AFG</td>\n",
       "    </tr>\n",
       "  </tbody>\n",
       "</table>\n",
       "</div>"
      ],
      "text/plain": [
       "   Temperature        Year        Model  Month      Country Code\n",
       "0    -0.722796   2020-2039   bcc_csm1_1      1  Afghanistan  AFG\n",
       "1     1.788925   2020-2039   bcc_csm1_1      2  Afghanistan  AFG\n",
       "2     6.647932   2020-2039   bcc_csm1_1      3  Afghanistan  AFG\n",
       "3    13.529653   2020-2039   bcc_csm1_1      4  Afghanistan  AFG\n",
       "4    18.811602   2020-2039   bcc_csm1_1      5  Afghanistan  AFG\n",
       "5    25.430595   2020-2039   bcc_csm1_1      6  Afghanistan  AFG\n",
       "6    28.008215   2020-2039   bcc_csm1_1      7  Afghanistan  AFG\n",
       "7    26.263004   2020-2039   bcc_csm1_1      8  Afghanistan  AFG\n",
       "8    21.933239   2020-2039   bcc_csm1_1      9  Afghanistan  AFG\n",
       "9    14.529192   2020-2039   bcc_csm1_1     10  Afghanistan  AFG"
      ]
     },
     "execution_count": 21,
     "metadata": {},
     "output_type": "execute_result"
    }
   ],
   "source": [
    "proj = preprocess_forecast_temp(\"raw data/tas_2020_2039_mavg_rcp26_AFG_CAF.csv\")\n",
    "\n",
    "proj.head(10)"
   ]
  },
  {
   "cell_type": "markdown",
   "id": "2041356a",
   "metadata": {},
   "source": [
    "**PROBLEM ALERT** - (also applies to the historical dataset.)\n",
    "\n",
    "We can see that there are some issues with the data as not every country has its country code correctly processed. The following have issues:\n",
    "- All countries following Gambia have their country codes shifted to the previous country. (e.g. Georgia has DEU, Germany has GHA). THis is up unitl the problem with the Koreas.\n",
    "- Kiribati (KIR) has as countyry code 'Democratic People's Republic of'\n",
    "- Democratic People's Republic of Korea (PRK) is omitted\n",
    "- South Korea (KOR) has as its country code 'Republic of'\n",
    "- Tanzania (TZA) has as its country code 'United Republic of'\n",
    "\n",
    "These problems are shown below by printing each country's name and its associated country code."
   ]
  },
  {
   "cell_type": "code",
   "execution_count": 22,
   "id": "6168e6c1",
   "metadata": {
    "ExecuteTime": {
     "end_time": "2021-05-04T15:36:22.142664Z",
     "start_time": "2021-05-04T15:36:21.242461Z"
    }
   },
   "outputs": [
    {
     "name": "stdout",
     "output_type": "stream",
     "text": [
      "Country - Afghanistan - has code - AFG\n",
      "Country - Albania - has code - ALB\n",
      "Country - Algeria - has code - DZA\n",
      "Country - Andorra - has code - AND\n",
      "Country - Angola - has code - AGO\n",
      "Country - Antigua and Barbuda - has code - ATG\n",
      "Country - Argentina - has code - ARG\n",
      "Country - Armenia - has code - ARM\n",
      "Country - Australia - has code - AUS\n",
      "Country - Austria - has code - AUT\n",
      "Country - Azerbaijan - has code - AZE\n",
      "Country - Bahamas - has code - The\n",
      "Country - Bahrain - has code - BHR\n",
      "Country - Bangladesh - has code - BGD\n",
      "Country - Barbados - has code - BRB\n",
      "Country - Belarus - has code - BLR\n",
      "Country - Belgium - has code - BEL\n",
      "Country - Belize - has code - BLZ\n",
      "Country - Benin - has code - BEN\n",
      "Country - Bhutan - has code - BTN\n",
      "Country - Bolivia - has code - BOL\n",
      "Country - Bosnia and Herzegovina - has code - BIH\n",
      "Country - Botswana - has code - BWA\n",
      "Country - Brazil - has code - BRA\n",
      "Country - Brunei - has code - BRN\n",
      "Country - Bulgaria - has code - BGR\n",
      "Country - Burkina Faso - has code - BFA\n",
      "Country - Burundi - has code - BDI\n",
      "Country - Cambodia - has code - KHM\n",
      "Country - Cameroon - has code - CMR\n",
      "Country - Canada - has code - CAN\n",
      "Country - Cape Verde - has code - CPV\n",
      "Country - Central African Republic - has code - CAF\n",
      "Country - Chad - has code - TCD\n",
      "Country - Chile - has code - CHL\n",
      "Country - China - has code - CHN\n",
      "Country - Colombia - has code - COL\n",
      "Country - Comoros - has code - COM\n",
      "Country - Congo (Republic of the) - has code - COG\n",
      "Country - Costa Rica - has code - CRI\n",
      "Country - Cote d'Ivoire - has code - CIV\n",
      "Country - Croatia - has code - HRV\n",
      "Country - Cuba - has code - CUB\n",
      "Country - Cyprus - has code - CYP\n",
      "Country - Czech Republic - has code - CZE\n",
      "Country - Denmark - has code - DNK\n",
      "Country - Djibouti - has code - DJI\n",
      "Country - Dominica - has code - DMA\n",
      "Country - Dominican Republic - has code - DOM\n",
      "Country - Ecuador - has code - ECU\n",
      "Country - Egypt - has code - EGY\n",
      "Country - El Salvador - has code - SLV\n",
      "Country - Equatorial Guinea - has code - GNQ\n",
      "Country - Eritrea - has code - ERI\n",
      "Country - Estonia - has code - EST\n",
      "Country - Ethiopia - has code - ETH\n",
      "Country - Faroe Islands - has code - FRO\n",
      "Country - Federated States of Micronesia - has code - FSM\n",
      "Country - Fiji - has code - FJI\n",
      "Country - Finland - has code - FIN\n",
      "Country - France - has code - FRA\n",
      "Country - Gabon - has code - GAB\n",
      "Country - Gambia - has code - GEO\n",
      "Country - Georgia - has code - DEU\n",
      "Country - Germany - has code - GHA\n",
      "Country - Ghana - has code - GRC\n",
      "Country - Greece - has code - GRL\n",
      "Country - Greenland - has code - GRD\n",
      "Country - Grenada - has code - GTM\n",
      "Country - Guatemala - has code - GIN\n",
      "Country - Guinea - has code - GNB\n",
      "Country - Guinea-Bissau - has code - GUY\n",
      "Country - Guyana - has code - HTI\n",
      "Country - Haiti - has code - HND\n",
      "Country - Honduras - has code - HUN\n",
      "Country - Hungary - has code - ISL\n",
      "Country - Iceland - has code - IND\n",
      "Country - India - has code - IDN\n",
      "Country - Indonesia - has code - IRN\n",
      "Country - Iran - has code - IRQ\n",
      "Country - Iraq - has code - IRL\n",
      "Country - Ireland - has code - ISR\n",
      "Country - Israel - has code - ITA\n",
      "Country - Italy - has code - JAM\n",
      "Country - Jamaica - has code - JPN\n",
      "Country - Japan - has code - JOR\n",
      "Country - Jordan - has code - KAZ\n",
      "Country - Kazakhstan - has code - KEN\n",
      "Country - Kenya - has code - KIR\n",
      "Country - Kiribati - has code - Democratic People's Republic of\n",
      "Country - Korea - has code - Republic of\n",
      "Country - Kosovo - has code - XRK\n",
      "Country - Kuwait - has code - KWT\n",
      "Country - Kyrgyzstan - has code - KGZ\n",
      "Country - Laos - has code - LAO\n",
      "Country - Latvia - has code - LVA\n",
      "Country - Lebanon - has code - LBN\n",
      "Country - Lesotho - has code - LSO\n",
      "Country - Liberia - has code - LBR\n",
      "Country - Libya - has code - LBY\n",
      "Country - Liechtenstein - has code - LIE\n",
      "Country - Lithuania - has code - LTU\n",
      "Country - Luxembourg - has code - LUX\n",
      "Country - Macedonia - has code - MKD\n",
      "Country - Madagascar - has code - MDG\n",
      "Country - Malawi - has code - MWI\n",
      "Country - Malaysia - has code - MYS\n",
      "Country - Maldives - has code - MDV\n",
      "Country - Mali - has code - MLI\n",
      "Country - Malta - has code - MLT\n",
      "Country - Marshall Islands - has code - MHL\n",
      "Country - Mauritania - has code - MRT\n",
      "Country - Mauritius - has code - MUS\n",
      "Country - Mexico - has code - MEX\n",
      "Country - Moldova - has code - MDA\n",
      "Country - Monaco - has code - MCO\n",
      "Country - Mongolia - has code - MNG\n",
      "Country - Morocco - has code - MAR\n",
      "Country - Mozambique - has code - MOZ\n",
      "Country - Myanmar (Burma) - has code - MMR\n",
      "Country - Namibia - has code - NAM\n",
      "Country - Nepal - has code - NPL\n",
      "Country - Netherlands - has code - NLD\n",
      "Country - New Caledonia - has code - NCL\n",
      "Country - New Zealand - has code - NZL\n",
      "Country - Nicaragua - has code - NIC\n",
      "Country - Niger - has code - NER\n",
      "Country - Nigeria - has code - NGA\n",
      "Country - Northern Mariana Islands - has code - MNP\n",
      "Country - Norway - has code - NOR\n",
      "Country - Oman - has code - OMN\n",
      "Country - Pakistan - has code - PAK\n",
      "Country - Palau - has code - PLW\n",
      "Country - Panama - has code - PAN\n",
      "Country - Papua New Guinea - has code - PNG\n",
      "Country - Paraguay - has code - PRY\n",
      "Country - Peru - has code - PER\n",
      "Country - Philippines - has code - PHL\n",
      "Country - Poland - has code - POL\n",
      "Country - Portugal - has code - PRT\n",
      "Country - Puerto Rico - has code - PRI\n",
      "Country - Qatar - has code - QAT\n",
      "Country - Republic of Montenegro - has code - MNE\n",
      "Country - Republic of Serbia - has code - SRB\n",
      "Country - Russia - has code - RUS\n",
      "Country - Rwanda - has code - RWA\n",
      "Country - Samoa - has code - WSM\n",
      "Country - Sao Tome and Principe - has code - STP\n",
      "Country - Saudi Arabia - has code - SAU\n",
      "Country - Senegal - has code - SEN\n",
      "Country - Seychelles - has code - SYC\n",
      "Country - Sierra Leone - has code - SLE\n",
      "Country - Singapore - has code - SGP\n",
      "Country - Slovakia - has code - SVK\n",
      "Country - Slovenia - has code - SVN\n",
      "Country - Solomon Islands - has code - SLB\n",
      "Country - Somalia - has code - SOM\n",
      "Country - South Africa - has code - ZAF\n",
      "Country - Spain - has code - ESP\n",
      "Country - Sri Lanka - has code - LKA\n",
      "Country - St. Kitts and Nevis - has code - KNA\n",
      "Country - St. Lucia - has code - LCA\n",
      "Country - St. Vincent and the Grenadines - has code - VCT\n",
      "Country - Sudan - has code - SDN\n",
      "Country - Suriname - has code - SUR\n",
      "Country - Swaziland - has code - SWZ\n",
      "Country - Sweden - has code - SWE\n",
      "Country - Switzerland - has code - CHE\n",
      "Country - Syria - has code - SYR\n",
      "Country - Tajikistan - has code - TJK\n",
      "Country - Tanzania - has code - United Republic of\n",
      "Country - Thailand - has code - THA\n",
      "Country - Timor Leste - has code - TLS\n",
      "Country - Togo - has code - TGO\n",
      "Country - Tonga - has code - TON\n",
      "Country - Trinidad and Tobago - has code - TTO\n",
      "Country - Tunisia - has code - TUN\n",
      "Country - Turkey - has code - TUR\n",
      "Country - Turkmenistan - has code - TKM\n",
      "Country - Tuvalu - has code - TUV\n",
      "Country - Uganda - has code - UGA\n",
      "Country - Ukraine - has code - UKR\n",
      "Country - United Arab Emirates - has code - ARE\n",
      "Country - United Kingdom - has code - GBR\n",
      "Country - United States - has code - USA\n",
      "Country - Uruguay - has code - URY\n",
      "Country - Uzbekistan - has code - UZB\n",
      "Country - Vanuatu - has code - VUT\n",
      "Country - Venezuela - has code - VEN\n",
      "Country - Vietnam - has code - VNM\n",
      "Country - Yemen - has code - YEM\n",
      "Country - Zambia - has code - ZMB\n",
      "Country - Zimbabwe - has code - ZWE\n"
     ]
    }
   ],
   "source": [
    "for i in range(len(pd.unique(proj['Code']))):\n",
    "    print('Country -', pd.unique(proj['Country'])[i], '- has code -', pd.unique(proj['Code'])[i])"
   ]
  },
  {
   "cell_type": "markdown",
   "id": "326ac89b",
   "metadata": {},
   "source": [
    "If one looks at the original file it is possible to see that there are some formatting problems. There are commas where there shouldn't be commas. (Technically they should be there since the comma is a part of country name, BUT this really messes with the formatting of a **Comma Seperated Values** file so they really should have thought of that and done something about it).\n",
    "\n",
    "We can fix this using the following script. It fixes all these problematic names and replces them with ones that make sense. This fixed version is then saved to a new **.csv** file.\n",
    "\n",
    "Same bit of code can be used to fix this same issue on the historical dataset."
   ]
  },
  {
   "cell_type": "code",
   "execution_count": 24,
   "id": "bb921e4b",
   "metadata": {
    "ExecuteTime": {
     "end_time": "2021-05-04T15:36:40.034861Z",
     "start_time": "2021-05-04T15:36:39.978849Z"
    }
   },
   "outputs": [],
   "source": [
    "data = \"\"\n",
    "\n",
    "with open(\"raw data/tas_2020_2039_mavg_rcp26_AFG_CAF.csv\", 'r') as file:\n",
    "     data = file.read().replace(\"Gambia, The\", \"Gambia\").replace(\"Korea, Democratic People's Republic of\", \"North Korea\").replace(\"Korea, Republic of\", \"South Korea\").replace(\"Tanzania, United Republic of\", \"Tanzania\").replace(\"Bahamas, The\", \"Bahamas\")\n",
    "\n",
    "with open(\"raw data/proj_2020_2039_rcp26.csv\", 'w') as file:\n",
    "     file.write(data)"
   ]
  },
  {
   "cell_type": "markdown",
   "id": "dfc9de13",
   "metadata": {},
   "source": [
    "Now that we have a new file without those problems we can import the dataset again but using this clean file.\n",
    "\n",
    "We can then check whether the country names and codes are now problem free."
   ]
  },
  {
   "cell_type": "code",
   "execution_count": 25,
   "id": "d3c0049e",
   "metadata": {
    "ExecuteTime": {
     "end_time": "2021-05-04T15:36:42.880504Z",
     "start_time": "2021-05-04T15:36:41.778255Z"
    }
   },
   "outputs": [
    {
     "name": "stdout",
     "output_type": "stream",
     "text": [
      "Country - Afghanistan - has code - AFG\n",
      "Country - Albania - has code - ALB\n",
      "Country - Algeria - has code - DZA\n",
      "Country - Andorra - has code - AND\n",
      "Country - Angola - has code - AGO\n",
      "Country - Antigua and Barbuda - has code - ATG\n",
      "Country - Argentina - has code - ARG\n",
      "Country - Armenia - has code - ARM\n",
      "Country - Australia - has code - AUS\n",
      "Country - Austria - has code - AUT\n",
      "Country - Azerbaijan - has code - AZE\n",
      "Country - Bahamas - has code - BHS\n",
      "Country - Bahrain - has code - BHR\n",
      "Country - Bangladesh - has code - BGD\n",
      "Country - Barbados - has code - BRB\n",
      "Country - Belarus - has code - BLR\n",
      "Country - Belgium - has code - BEL\n",
      "Country - Belize - has code - BLZ\n",
      "Country - Benin - has code - BEN\n",
      "Country - Bhutan - has code - BTN\n",
      "Country - Bolivia - has code - BOL\n",
      "Country - Bosnia and Herzegovina - has code - BIH\n",
      "Country - Botswana - has code - BWA\n",
      "Country - Brazil - has code - BRA\n",
      "Country - Brunei - has code - BRN\n",
      "Country - Bulgaria - has code - BGR\n",
      "Country - Burkina Faso - has code - BFA\n",
      "Country - Burundi - has code - BDI\n",
      "Country - Cambodia - has code - KHM\n",
      "Country - Cameroon - has code - CMR\n",
      "Country - Canada - has code - CAN\n",
      "Country - Cape Verde - has code - CPV\n",
      "Country - Central African Republic - has code - CAF\n",
      "Country - Chad - has code - TCD\n",
      "Country - Chile - has code - CHL\n",
      "Country - China - has code - CHN\n",
      "Country - Colombia - has code - COL\n",
      "Country - Comoros - has code - COM\n",
      "Country - Congo (Republic of the) - has code - COG\n",
      "Country - Costa Rica - has code - CRI\n",
      "Country - Cote d'Ivoire - has code - CIV\n",
      "Country - Croatia - has code - HRV\n",
      "Country - Cuba - has code - CUB\n",
      "Country - Cyprus - has code - CYP\n",
      "Country - Czech Republic - has code - CZE\n",
      "Country - Denmark - has code - DNK\n",
      "Country - Djibouti - has code - DJI\n",
      "Country - Dominica - has code - DMA\n",
      "Country - Dominican Republic - has code - DOM\n",
      "Country - Ecuador - has code - ECU\n",
      "Country - Egypt - has code - EGY\n",
      "Country - El Salvador - has code - SLV\n",
      "Country - Equatorial Guinea - has code - GNQ\n",
      "Country - Eritrea - has code - ERI\n",
      "Country - Estonia - has code - EST\n",
      "Country - Ethiopia - has code - ETH\n",
      "Country - Faroe Islands - has code - FRO\n",
      "Country - Federated States of Micronesia - has code - FSM\n",
      "Country - Fiji - has code - FJI\n",
      "Country - Finland - has code - FIN\n",
      "Country - France - has code - FRA\n",
      "Country - Gabon - has code - GAB\n",
      "Country - Gambia - has code - GMB\n",
      "Country - Georgia - has code - GEO\n",
      "Country - Germany - has code - DEU\n",
      "Country - Ghana - has code - GHA\n",
      "Country - Greece - has code - GRC\n",
      "Country - Greenland - has code - GRL\n",
      "Country - Grenada - has code - GRD\n",
      "Country - Guatemala - has code - GTM\n",
      "Country - Guinea - has code - GIN\n",
      "Country - Guinea-Bissau - has code - GNB\n",
      "Country - Guyana - has code - GUY\n",
      "Country - Haiti - has code - HTI\n",
      "Country - Honduras - has code - HND\n",
      "Country - Hungary - has code - HUN\n",
      "Country - Iceland - has code - ISL\n",
      "Country - India - has code - IND\n",
      "Country - Indonesia - has code - IDN\n",
      "Country - Iran - has code - IRN\n",
      "Country - Iraq - has code - IRQ\n",
      "Country - Ireland - has code - IRL\n",
      "Country - Israel - has code - ISR\n",
      "Country - Italy - has code - ITA\n",
      "Country - Jamaica - has code - JAM\n",
      "Country - Japan - has code - JPN\n",
      "Country - Jordan - has code - JOR\n",
      "Country - Kazakhstan - has code - KAZ\n",
      "Country - Kenya - has code - KEN\n",
      "Country - Kiribati - has code - KIR\n",
      "Country - North Korea - has code - PRK\n",
      "Country - South Korea - has code - KOR\n",
      "Country - Kosovo - has code - XRK\n",
      "Country - Kuwait - has code - KWT\n",
      "Country - Kyrgyzstan - has code - KGZ\n",
      "Country - Laos - has code - LAO\n",
      "Country - Latvia - has code - LVA\n",
      "Country - Lebanon - has code - LBN\n",
      "Country - Lesotho - has code - LSO\n",
      "Country - Liberia - has code - LBR\n",
      "Country - Libya - has code - LBY\n",
      "Country - Liechtenstein - has code - LIE\n",
      "Country - Lithuania - has code - LTU\n",
      "Country - Luxembourg - has code - LUX\n",
      "Country - Macedonia - has code - MKD\n",
      "Country - Madagascar - has code - MDG\n",
      "Country - Malawi - has code - MWI\n",
      "Country - Malaysia - has code - MYS\n",
      "Country - Maldives - has code - MDV\n",
      "Country - Mali - has code - MLI\n",
      "Country - Malta - has code - MLT\n",
      "Country - Marshall Islands - has code - MHL\n",
      "Country - Mauritania - has code - MRT\n",
      "Country - Mauritius - has code - MUS\n",
      "Country - Mexico - has code - MEX\n",
      "Country - Moldova - has code - MDA\n",
      "Country - Monaco - has code - MCO\n",
      "Country - Mongolia - has code - MNG\n",
      "Country - Morocco - has code - MAR\n",
      "Country - Mozambique - has code - MOZ\n",
      "Country - Myanmar (Burma) - has code - MMR\n",
      "Country - Namibia - has code - NAM\n",
      "Country - Nepal - has code - NPL\n",
      "Country - Netherlands - has code - NLD\n",
      "Country - New Caledonia - has code - NCL\n",
      "Country - New Zealand - has code - NZL\n",
      "Country - Nicaragua - has code - NIC\n",
      "Country - Niger - has code - NER\n",
      "Country - Nigeria - has code - NGA\n",
      "Country - Northern Mariana Islands - has code - MNP\n",
      "Country - Norway - has code - NOR\n",
      "Country - Oman - has code - OMN\n",
      "Country - Pakistan - has code - PAK\n",
      "Country - Palau - has code - PLW\n",
      "Country - Panama - has code - PAN\n",
      "Country - Papua New Guinea - has code - PNG\n",
      "Country - Paraguay - has code - PRY\n",
      "Country - Peru - has code - PER\n",
      "Country - Philippines - has code - PHL\n",
      "Country - Poland - has code - POL\n",
      "Country - Portugal - has code - PRT\n",
      "Country - Puerto Rico - has code - PRI\n",
      "Country - Qatar - has code - QAT\n",
      "Country - Republic of Montenegro - has code - MNE\n",
      "Country - Republic of Serbia - has code - SRB\n",
      "Country - Russia - has code - RUS\n",
      "Country - Rwanda - has code - RWA\n",
      "Country - Samoa - has code - WSM\n",
      "Country - Sao Tome and Principe - has code - STP\n",
      "Country - Saudi Arabia - has code - SAU\n",
      "Country - Senegal - has code - SEN\n",
      "Country - Seychelles - has code - SYC\n",
      "Country - Sierra Leone - has code - SLE\n",
      "Country - Singapore - has code - SGP\n",
      "Country - Slovakia - has code - SVK\n",
      "Country - Slovenia - has code - SVN\n",
      "Country - Solomon Islands - has code - SLB\n",
      "Country - Somalia - has code - SOM\n",
      "Country - South Africa - has code - ZAF\n",
      "Country - Spain - has code - ESP\n",
      "Country - Sri Lanka - has code - LKA\n",
      "Country - St. Kitts and Nevis - has code - KNA\n",
      "Country - St. Lucia - has code - LCA\n",
      "Country - St. Vincent and the Grenadines - has code - VCT\n",
      "Country - Sudan - has code - SDN\n",
      "Country - Suriname - has code - SUR\n",
      "Country - Swaziland - has code - SWZ\n",
      "Country - Sweden - has code - SWE\n",
      "Country - Switzerland - has code - CHE\n",
      "Country - Syria - has code - SYR\n",
      "Country - Tajikistan - has code - TJK\n",
      "Country - Tanzania - has code - TZA\n",
      "Country - Thailand - has code - THA\n",
      "Country - Timor Leste - has code - TLS\n",
      "Country - Togo - has code - TGO\n",
      "Country - Tonga - has code - TON\n",
      "Country - Trinidad and Tobago - has code - TTO\n",
      "Country - Tunisia - has code - TUN\n",
      "Country - Turkey - has code - TUR\n",
      "Country - Turkmenistan - has code - TKM\n",
      "Country - Tuvalu - has code - TUV\n",
      "Country - Uganda - has code - UGA\n",
      "Country - Ukraine - has code - UKR\n",
      "Country - United Arab Emirates - has code - ARE\n",
      "Country - United Kingdom - has code - GBR\n",
      "Country - United States - has code - USA\n",
      "Country - Uruguay - has code - URY\n",
      "Country - Uzbekistan - has code - UZB\n",
      "Country - Vanuatu - has code - VUT\n",
      "Country - Venezuela - has code - VEN\n",
      "Country - Vietnam - has code - VNM\n",
      "Country - Yemen - has code - YEM\n",
      "Country - Zambia - has code - ZMB\n",
      "Country - Zimbabwe - has code - ZWE\n"
     ]
    }
   ],
   "source": [
    "proj = preprocess_forecast_temp(\"raw data/proj_2020_2039_rcp26.csv\")\n",
    "\n",
    "for i in range(len(pd.unique(proj['Code']))):\n",
    "    print('Country -', pd.unique(proj['Country'])[i], '- has code -', pd.unique(proj['Code'])[i])"
   ]
  },
  {
   "cell_type": "markdown",
   "id": "ced48ada",
   "metadata": {},
   "source": [
    "The data is now problem free. The country names and country codes are all correct."
   ]
  },
  {
   "cell_type": "code",
   "execution_count": 26,
   "id": "53bef96a",
   "metadata": {
    "ExecuteTime": {
     "end_time": "2021-05-04T15:36:43.200576Z",
     "start_time": "2021-05-04T15:36:43.190574Z"
    },
    "scrolled": true
   },
   "outputs": [
    {
     "data": {
      "text/html": [
       "<div>\n",
       "<style scoped>\n",
       "    .dataframe tbody tr th:only-of-type {\n",
       "        vertical-align: middle;\n",
       "    }\n",
       "\n",
       "    .dataframe tbody tr th {\n",
       "        vertical-align: top;\n",
       "    }\n",
       "\n",
       "    .dataframe thead th {\n",
       "        text-align: right;\n",
       "    }\n",
       "</style>\n",
       "<table border=\"1\" class=\"dataframe\">\n",
       "  <thead>\n",
       "    <tr style=\"text-align: right;\">\n",
       "      <th></th>\n",
       "      <th>Temperature</th>\n",
       "      <th>Year</th>\n",
       "      <th>Model</th>\n",
       "      <th>Month</th>\n",
       "      <th>Country</th>\n",
       "      <th>Code</th>\n",
       "    </tr>\n",
       "  </thead>\n",
       "  <tbody>\n",
       "    <tr>\n",
       "      <th>0</th>\n",
       "      <td>-0.722796</td>\n",
       "      <td>2020-2039</td>\n",
       "      <td>bcc_csm1_1</td>\n",
       "      <td>1</td>\n",
       "      <td>Afghanistan</td>\n",
       "      <td>AFG</td>\n",
       "    </tr>\n",
       "    <tr>\n",
       "      <th>1</th>\n",
       "      <td>1.788925</td>\n",
       "      <td>2020-2039</td>\n",
       "      <td>bcc_csm1_1</td>\n",
       "      <td>2</td>\n",
       "      <td>Afghanistan</td>\n",
       "      <td>AFG</td>\n",
       "    </tr>\n",
       "    <tr>\n",
       "      <th>2</th>\n",
       "      <td>6.647932</td>\n",
       "      <td>2020-2039</td>\n",
       "      <td>bcc_csm1_1</td>\n",
       "      <td>3</td>\n",
       "      <td>Afghanistan</td>\n",
       "      <td>AFG</td>\n",
       "    </tr>\n",
       "    <tr>\n",
       "      <th>3</th>\n",
       "      <td>13.529653</td>\n",
       "      <td>2020-2039</td>\n",
       "      <td>bcc_csm1_1</td>\n",
       "      <td>4</td>\n",
       "      <td>Afghanistan</td>\n",
       "      <td>AFG</td>\n",
       "    </tr>\n",
       "    <tr>\n",
       "      <th>4</th>\n",
       "      <td>18.811602</td>\n",
       "      <td>2020-2039</td>\n",
       "      <td>bcc_csm1_1</td>\n",
       "      <td>5</td>\n",
       "      <td>Afghanistan</td>\n",
       "      <td>AFG</td>\n",
       "    </tr>\n",
       "    <tr>\n",
       "      <th>5</th>\n",
       "      <td>25.430595</td>\n",
       "      <td>2020-2039</td>\n",
       "      <td>bcc_csm1_1</td>\n",
       "      <td>6</td>\n",
       "      <td>Afghanistan</td>\n",
       "      <td>AFG</td>\n",
       "    </tr>\n",
       "    <tr>\n",
       "      <th>6</th>\n",
       "      <td>28.008215</td>\n",
       "      <td>2020-2039</td>\n",
       "      <td>bcc_csm1_1</td>\n",
       "      <td>7</td>\n",
       "      <td>Afghanistan</td>\n",
       "      <td>AFG</td>\n",
       "    </tr>\n",
       "    <tr>\n",
       "      <th>7</th>\n",
       "      <td>26.263004</td>\n",
       "      <td>2020-2039</td>\n",
       "      <td>bcc_csm1_1</td>\n",
       "      <td>8</td>\n",
       "      <td>Afghanistan</td>\n",
       "      <td>AFG</td>\n",
       "    </tr>\n",
       "    <tr>\n",
       "      <th>8</th>\n",
       "      <td>21.933239</td>\n",
       "      <td>2020-2039</td>\n",
       "      <td>bcc_csm1_1</td>\n",
       "      <td>9</td>\n",
       "      <td>Afghanistan</td>\n",
       "      <td>AFG</td>\n",
       "    </tr>\n",
       "    <tr>\n",
       "      <th>9</th>\n",
       "      <td>14.529192</td>\n",
       "      <td>2020-2039</td>\n",
       "      <td>bcc_csm1_1</td>\n",
       "      <td>10</td>\n",
       "      <td>Afghanistan</td>\n",
       "      <td>AFG</td>\n",
       "    </tr>\n",
       "  </tbody>\n",
       "</table>\n",
       "</div>"
      ],
      "text/plain": [
       "   Temperature        Year        Model  Month      Country Code\n",
       "0    -0.722796   2020-2039   bcc_csm1_1      1  Afghanistan  AFG\n",
       "1     1.788925   2020-2039   bcc_csm1_1      2  Afghanistan  AFG\n",
       "2     6.647932   2020-2039   bcc_csm1_1      3  Afghanistan  AFG\n",
       "3    13.529653   2020-2039   bcc_csm1_1      4  Afghanistan  AFG\n",
       "4    18.811602   2020-2039   bcc_csm1_1      5  Afghanistan  AFG\n",
       "5    25.430595   2020-2039   bcc_csm1_1      6  Afghanistan  AFG\n",
       "6    28.008215   2020-2039   bcc_csm1_1      7  Afghanistan  AFG\n",
       "7    26.263004   2020-2039   bcc_csm1_1      8  Afghanistan  AFG\n",
       "8    21.933239   2020-2039   bcc_csm1_1      9  Afghanistan  AFG\n",
       "9    14.529192   2020-2039   bcc_csm1_1     10  Afghanistan  AFG"
      ]
     },
     "execution_count": 26,
     "metadata": {},
     "output_type": "execute_result"
    }
   ],
   "source": [
    "proj.head(10)"
   ]
  },
  {
   "cell_type": "markdown",
   "id": "d13e7609",
   "metadata": {},
   "source": [
    "We should check whether there are any missing values. We can see that there aren't any, as one would expect considering that the dataset is based on a projection and not historical data."
   ]
  },
  {
   "cell_type": "code",
   "execution_count": 27,
   "id": "8087c7b5",
   "metadata": {
    "ExecuteTime": {
     "end_time": "2021-05-04T15:36:43.918738Z",
     "start_time": "2021-05-04T15:36:43.897734Z"
    }
   },
   "outputs": [
    {
     "data": {
      "text/plain": [
       "Temperature    0\n",
       "Year           0\n",
       "Model          0\n",
       "Month          0\n",
       "Country        0\n",
       "Code           0\n",
       "dtype: int64"
      ]
     },
     "execution_count": 27,
     "metadata": {},
     "output_type": "execute_result"
    }
   ],
   "source": [
    "proj.isna().sum()"
   ]
  },
  {
   "cell_type": "markdown",
   "id": "e22f7092",
   "metadata": {},
   "source": [
    "## Yearly Averages\n",
    "\n",
    "Again we can calculate the yearly averages. We modified the function so that it will work with this dataset already, so we just need to call it.\n",
    "\n",
    "The modifications revolve around the fact that there is only on single year option for the predicted values, but there are multiple different models to choose from."
   ]
  },
  {
   "cell_type": "code",
   "execution_count": 28,
   "id": "d91ba644",
   "metadata": {
    "ExecuteTime": {
     "end_time": "2021-05-04T15:36:49.221714Z",
     "start_time": "2021-05-04T15:36:44.681910Z"
    },
    "scrolled": true
   },
   "outputs": [
    {
     "data": {
      "text/html": [
       "<div>\n",
       "<style scoped>\n",
       "    .dataframe tbody tr th:only-of-type {\n",
       "        vertical-align: middle;\n",
       "    }\n",
       "\n",
       "    .dataframe tbody tr th {\n",
       "        vertical-align: top;\n",
       "    }\n",
       "\n",
       "    .dataframe thead th {\n",
       "        text-align: right;\n",
       "    }\n",
       "</style>\n",
       "<table border=\"1\" class=\"dataframe\">\n",
       "  <thead>\n",
       "    <tr style=\"text-align: right;\">\n",
       "      <th></th>\n",
       "      <th>Code</th>\n",
       "      <th>Year</th>\n",
       "      <th>Average Temp</th>\n",
       "      <th>Model</th>\n",
       "    </tr>\n",
       "  </thead>\n",
       "  <tbody>\n",
       "    <tr>\n",
       "      <th>0</th>\n",
       "      <td>AFG</td>\n",
       "      <td>2020-2039</td>\n",
       "      <td>13.701</td>\n",
       "      <td>bcc_csm1_1</td>\n",
       "    </tr>\n",
       "    <tr>\n",
       "      <th>1</th>\n",
       "      <td>AFG</td>\n",
       "      <td>2020-2039</td>\n",
       "      <td>14.257</td>\n",
       "      <td>bcc_csm1_1_m</td>\n",
       "    </tr>\n",
       "    <tr>\n",
       "      <th>2</th>\n",
       "      <td>AFG</td>\n",
       "      <td>2020-2039</td>\n",
       "      <td>14.349</td>\n",
       "      <td>ccsm4</td>\n",
       "    </tr>\n",
       "    <tr>\n",
       "      <th>3</th>\n",
       "      <td>AFG</td>\n",
       "      <td>2020-2039</td>\n",
       "      <td>15.032</td>\n",
       "      <td>cesm1_cam5</td>\n",
       "    </tr>\n",
       "    <tr>\n",
       "      <th>4</th>\n",
       "      <td>AFG</td>\n",
       "      <td>2020-2039</td>\n",
       "      <td>12.932</td>\n",
       "      <td>csiro_mk3_6_0</td>\n",
       "    </tr>\n",
       "    <tr>\n",
       "      <th>5</th>\n",
       "      <td>AFG</td>\n",
       "      <td>2020-2039</td>\n",
       "      <td>15.014</td>\n",
       "      <td>fio_esm</td>\n",
       "    </tr>\n",
       "    <tr>\n",
       "      <th>6</th>\n",
       "      <td>AFG</td>\n",
       "      <td>2020-2039</td>\n",
       "      <td>13.171</td>\n",
       "      <td>gfdl_cm3</td>\n",
       "    </tr>\n",
       "    <tr>\n",
       "      <th>7</th>\n",
       "      <td>AFG</td>\n",
       "      <td>2020-2039</td>\n",
       "      <td>13.925</td>\n",
       "      <td>gfdl_esm2m</td>\n",
       "    </tr>\n",
       "    <tr>\n",
       "      <th>8</th>\n",
       "      <td>AFG</td>\n",
       "      <td>2020-2039</td>\n",
       "      <td>14.152</td>\n",
       "      <td>giss_e2_h</td>\n",
       "    </tr>\n",
       "    <tr>\n",
       "      <th>9</th>\n",
       "      <td>AFG</td>\n",
       "      <td>2020-2039</td>\n",
       "      <td>13.623</td>\n",
       "      <td>giss_e2_r</td>\n",
       "    </tr>\n",
       "  </tbody>\n",
       "</table>\n",
       "</div>"
      ],
      "text/plain": [
       "  Code        Year  Average Temp           Model\n",
       "0  AFG   2020-2039        13.701      bcc_csm1_1\n",
       "1  AFG   2020-2039        14.257    bcc_csm1_1_m\n",
       "2  AFG   2020-2039        14.349           ccsm4\n",
       "3  AFG   2020-2039        15.032      cesm1_cam5\n",
       "4  AFG   2020-2039        12.932   csiro_mk3_6_0\n",
       "5  AFG   2020-2039        15.014         fio_esm\n",
       "6  AFG   2020-2039        13.171        gfdl_cm3\n",
       "7  AFG   2020-2039        13.925      gfdl_esm2m\n",
       "8  AFG   2020-2039        14.152       giss_e2_h\n",
       "9  AFG   2020-2039        13.623       giss_e2_r"
      ]
     },
     "execution_count": 28,
     "metadata": {},
     "output_type": "execute_result"
    }
   ],
   "source": [
    "proj_yearly = get_yearly_averages(proj)\n",
    "\n",
    "proj_yearly.head(10)"
   ]
  },
  {
   "cell_type": "markdown",
   "id": "df607097",
   "metadata": {},
   "source": [
    "## Plotting\n",
    "\n",
    "Since we only have one value for the whole decade, it doesn't make sense to plot a time series of the yearly projection. We could plot the values for the different models to see whether different, and if so, for which countries they differ the most between each other."
   ]
  },
  {
   "cell_type": "code",
   "execution_count": 29,
   "id": "1a11400b",
   "metadata": {
    "ExecuteTime": {
     "end_time": "2021-05-04T15:36:49.477772Z",
     "start_time": "2021-05-04T15:36:49.447766Z"
    }
   },
   "outputs": [
    {
     "data": {
      "application/vnd.jupyter.widget-view+json": {
       "model_id": "7c1ca942d91248279accf6a382459865",
       "version_major": 2,
       "version_minor": 0
      },
      "text/plain": [
       "Dropdown(description='Country:', options=('AFG', 'ALB', 'DZA', 'AND', 'AGO', 'ATG', 'ARG', 'ARM', 'AUS', 'AUT'…"
      ]
     },
     "metadata": {},
     "output_type": "display_data"
    }
   ],
   "source": [
    "country_choice = widgets.Dropdown(\n",
    "    options=pd.unique(proj['Code']),\n",
    "    value=pd.unique(proj['Code'])[0],\n",
    "    description='Country:',\n",
    "    disabled=False,\n",
    ")\n",
    "\n",
    "country_choice"
   ]
  },
  {
   "cell_type": "code",
   "execution_count": 30,
   "id": "6cf21eb9",
   "metadata": {
    "ExecuteTime": {
     "end_time": "2021-05-04T15:36:50.020895Z",
     "start_time": "2021-05-04T15:36:49.701823Z"
    },
    "scrolled": false
   },
   "outputs": [
    {
     "data": {
      "text/plain": [
       "<AxesSubplot:title={'center':'AFG'}, xlabel='Model'>"
      ]
     },
     "execution_count": 30,
     "metadata": {},
     "output_type": "execute_result"
    },
    {
     "data": {
      "image/png": "[encoded data removed]",
      "text/plain": [
       "<Figure size 432x288 with 1 Axes>"
      ]
     },
     "metadata": {
      "needs_background": "light"
     },
     "output_type": "display_data"
    }
   ],
   "source": [
    "proj_yearly_plot = proj_yearly.loc[proj_yearly['Code'] == country_choice.value]\n",
    "proj_yearly_plot.plot.bar(x = 'Model', y = 'Average Temp', title = country_choice.value)"
   ]
  },
  {
   "cell_type": "markdown",
   "id": "5ff3ea83",
   "metadata": {},
   "source": [
    "We can see that the different models has different values for the projected average yearly temperature.\n",
    "\n",
    "We can also visualise how the projections differ on a monthly scale."
   ]
  },
  {
   "cell_type": "code",
   "execution_count": 31,
   "id": "6ef1afc5",
   "metadata": {
    "ExecuteTime": {
     "end_time": "2021-05-04T15:36:50.260949Z",
     "start_time": "2021-05-04T15:36:50.245946Z"
    }
   },
   "outputs": [
    {
     "data": {
      "application/vnd.jupyter.widget-view+json": {
       "model_id": "fb7b77f1b3df4d3b905cbb6bb1af839f",
       "version_major": 2,
       "version_minor": 0
      },
      "text/plain": [
       "Dropdown(description='Month:', options=(1, 2, 3, 4, 5, 6, 7, 8, 9, 10, 11, 12), value=1)"
      ]
     },
     "metadata": {},
     "output_type": "display_data"
    }
   ],
   "source": [
    "month_choice = widgets.Dropdown(\n",
    "    options=pd.unique(proj['Month']),\n",
    "    value=pd.unique(proj['Month'])[0],\n",
    "    description='Month:',\n",
    "    disabled=False,\n",
    ")\n",
    "\n",
    "month_choice"
   ]
  },
  {
   "cell_type": "code",
   "execution_count": 32,
   "id": "72571827",
   "metadata": {
    "ExecuteTime": {
     "end_time": "2021-05-04T15:36:50.805072Z",
     "start_time": "2021-05-04T15:36:50.486000Z"
    }
   },
   "outputs": [
    {
     "data": {
      "text/plain": [
       "<AxesSubplot:title={'center':'AFG at month number 1'}, xlabel='Model'>"
      ]
     },
     "execution_count": 32,
     "metadata": {},
     "output_type": "execute_result"
    },
    {
     "data": {
      "image/png": "[encoded data removed]",
      "text/plain": [
       "<Figure size 432x288 with 1 Axes>"
      ]
     },
     "metadata": {
      "needs_background": "light"
     },
     "output_type": "display_data"
    }
   ],
   "source": [
    "proj_monthly_plot = proj.loc[proj['Code'] == country_choice.value]\n",
    "proj_monthly_plot = proj_monthly_plot[proj_monthly_plot['Month'] == month_choice.value]\n",
    "proj_monthly_plot.plot.bar(x = 'Model', y = 'Temperature', title = country_choice.value + \" at month number \" + str(month_choice.value))"
   ]
  },
  {
   "cell_type": "markdown",
   "id": "35bc4058",
   "metadata": {},
   "source": [
    "We can see the the pattern in the differences between the models stays the same when looking at the monthly data."
   ]
  }
 ],
 "metadata": {
  "kernelspec": {
   "display_name": "Python 3",
   "language": "python",
   "name": "python3"
  },
  "language_info": {
   "codemirror_mode": {
    "name": "ipython",
    "version": 3
   },
   "file_extension": ".py",
   "mimetype": "text/x-python",
   "name": "python",
   "nbconvert_exporter": "python",
   "pygments_lexer": "ipython3",
   "version": "3.8.8"
  },
  "toc": {
   "base_numbering": 1,
   "nav_menu": {},
   "number_sections": false,
   "sideBar": true,
   "skip_h1_title": true,
   "title_cell": "Table of Contents",
   "title_sidebar": "Contents",
   "toc_cell": false,
   "toc_position": {},
   "toc_section_display": true,
   "toc_window_display": false
  },
  "varInspector": {
   "cols": {
    "lenName": 16,
    "lenType": 16,
    "lenVar": 40
   },
   "kernels_config": {
    "python": {
     "delete_cmd_postfix": "",
     "delete_cmd_prefix": "del ",
     "library": "var_list.py",
     "varRefreshCmd": "print(var_dic_list())"
    },
    "r": {
     "delete_cmd_postfix": ") ",
     "delete_cmd_prefix": "rm(",
     "library": "var_list.r",
     "varRefreshCmd": "cat(var_dic_list()) "
    }
   },
   "types_to_exclude": [
    "module",
    "function",
    "builtin_function_or_method",
    "instance",
    "_Feature"
   ],
   "window_display": false
  }
 },
 "nbformat": 4,
 "nbformat_minor": 5
}
